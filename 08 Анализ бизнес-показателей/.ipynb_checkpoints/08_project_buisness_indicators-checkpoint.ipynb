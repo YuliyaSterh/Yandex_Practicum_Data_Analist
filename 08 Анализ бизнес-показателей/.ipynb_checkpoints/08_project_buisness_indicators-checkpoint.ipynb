{
 "cells": [
  {
   "cell_type": "markdown",
   "metadata": {},
   "source": [
    "# Исследование причины плохой окупаемости развлекательного приложения Procrastinate Pro+. <a class=\"tocSkip\"> \n",
    "\n",
    " \n",
    "\n",
    "## Описание проекта. <a class=\"tocSkip\"> \n",
    "\n",
    "Мы исследуем расходы на маркетинг развлекательного приложения Procrastinate Pro+. Несколько прошлых месяцев бизнес постоянно нес убытки - в привлечение пользователей была вложена куча денег, а толку никакого. Нужно разобраться в причинах этой ситуации.\n",
    "\n",
    "В нашем распоряжении есть лог сервера с данными о посещениях приложения новыми пользователями, зарегистрировавшимися в период с 2019-05-01 по 2019-10-27, выгрузка их покупок за этот период, а также статистика рекламных расходов. Необходимо изучить, как люди пользуются продуктом, когда они начинают покупать, сколько денег приносит каждый клиент, когда он окупается и какие факторы отричательно влияют на привлечение пользователей.\n",
    "    \n",
    "###### Цель исследования : <a class=\"tocSkip\"> \n",
    "Выявить причины убытков бизнеса в последние несколько месяцев. \n",
    "\n",
    "###### Ход исследования: <a class=\"tocSkip\"> \n",
    "\n",
    "Данные -в файлах:\n",
    "    \n",
    " -   /datasets/visits_info_short.csv\n",
    " -   /datasets/orders_info_short.csv\n",
    " -   /datasets/costs_info_short.csv\n",
    "\n",
    "О качестве данных ничего не известно. Поэтому перед проверкой гипотез понадобится обзор данных.\n",
    "\n",
    "Проверим данные на ошибки и оценим их влияние на исследование. Затем, на этапе предобработки поищем возможность исправить самые критичные ошибки данных.\n",
    "\n",
    "Таким образом, исследование пройдёт в несколько этапов:\n",
    "    \n",
    "    \n",
    " 1. Обзор данных.\n",
    "\n",
    "\n",
    " 2. Предобработка данных.\n",
    "\n",
    "\n",
    " 3. Исследовательский анализ данных. \n",
    " \n",
    " - Анализ посетителей в разрезе стран\n",
    " - Анализ устройств, которыми пользуются посетители\n",
    " - Анализ рекламных каналов для привлечения пользователей\n",
    "\n",
    "4.  Маркетинг\n",
    " \n",
    " - Расчет раходов на маркетинг в разрезе источников \n",
    " - Стоимость привлечения одного покупателя из каждого источника\n",
    "    \n",
    "5. Оценка окупаемости рекламы для привлечения пользователей с помощью LTV и ROI:\n",
    "\n",
    " - Общая окупаемость рекламы;\n",
    " - Окупаемость рекламы с разбивкой по устройствам;\n",
    " - Окупаемость рекламы с разбивкой по странам;\n",
    " - Окупаемость рекламы с разбивкой по рекламным каналам.\n"
   ]
  },
  {
   "cell_type": "markdown",
   "metadata": {},
   "source": [
    "## Обзор данных\n",
    "\n",
    "Загрузим данные о визитах, заказах и расходах в переменные."
   ]
  },
  {
   "cell_type": "code",
   "execution_count": 1,
   "metadata": {},
   "outputs": [],
   "source": [
    "#импорт библиотек\n",
    "import pandas as pd\n",
    "import matplotlib.pyplot as plt\n",
    "%matplotlib inline\n",
    "from datetime import datetime, timedelta\n",
    "import numpy as np\n",
    "import warnings\n",
    "warnings.filterwarnings('ignore')\n",
    "\n",
    "#столбцы и строки полностью, формат округлен\n",
    "pd.set_option('display.max_columns', None)\n",
    "#pd.options.display.float_format = '{:,.2f}'.format\n"
   ]
  },
  {
   "cell_type": "code",
   "execution_count": 2,
   "metadata": {},
   "outputs": [],
   "source": [
    "#открываем и сохраняем как датафрейм файл с данными:\n",
    "try:\n",
    "    # personal path\n",
    "    visits, orders, costs = (\n",
    "                            pd.read_csv('visits_info_short.csv'),\n",
    "                            pd.read_csv('orders_info_short.csv'),\n",
    "                            pd.read_csv('costs_info_short.csv')\n",
    "                            )\n",
    "except:\n",
    "    # Yandex path\n",
    "    visits, orders, costs = (\n",
    "                            pd.read_csv('/datasets/visits_info_short.csv'),\n",
    "                            pd.read_csv('/datasets/orders_info_short.csv'),\n",
    "                            pd.read_csv('/datasets/costs_info_short.csv')\n",
    "                            )"
   ]
  },
  {
   "cell_type": "markdown",
   "metadata": {},
   "source": [
    "Для удобства зададим несколько функций:"
   ]
  },
  {
   "cell_type": "code",
   "execution_count": 3,
   "metadata": {},
   "outputs": [],
   "source": [
    "#функция для вывода состава столбцов\n",
    "def describe_cols(df_data):\n",
    "    df = df_data\n",
    "    values = pd.DataFrame()\n",
    "    \n",
    "    for col in df.columns:\n",
    "        values[col] = [df[col].unique(), df[col].dtypes, df[col].nunique()]\n",
    "        \n",
    "    return values.transpose().sort_values(by=1, ascending=True).rename(\n",
    "        {0: 'Значения', 1: 'тип данных', 2: 'Кол-во уникальных значений'}, axis=1)\n",
    "\n",
    "\n",
    "#функция для вывода пустых значений и их доли в столбцах датафрейма\n",
    "def nan_values(df_data):\n",
    "    df = df_data\n",
    "    count_missing = df.isna().sum()\n",
    "    percent_missing = round(df.isna().sum() * 100 / len(df), 2)\n",
    "    \n",
    "    missing_value_df = pd.DataFrame({'column_name': df.columns,\n",
    "                                     'num_missing': count_missing,\n",
    "                                     'percent_missing': percent_missing})\n",
    "    \n",
    "    return missing_value_df\n",
    "\n",
    "\n",
    "#функция для вывода информации о файле\n",
    "def df_info (df_data):\n",
    "    print('Количество строк файла:', len(df_data))\n",
    "    print()\n",
    "    print('Информация о содержимом файла:')\n",
    "    display(describe_cols(df_data))\n",
    "    print()\n",
    "    print('Информация о пропусках данных:')\n",
    "    display(nan_values(df_data))\n",
    "    print()\n",
    "    print('Первые пять строк таблицы:')\n",
    "    display(df_data.head())\n"
   ]
  },
  {
   "cell_type": "markdown",
   "metadata": {},
   "source": [
    "Рассмотрим подробнее содержимое файлов:"
   ]
  },
  {
   "cell_type": "markdown",
   "metadata": {},
   "source": [
    "### Таблица visits"
   ]
  },
  {
   "cell_type": "code",
   "execution_count": 4,
   "metadata": {},
   "outputs": [
    {
     "name": "stdout",
     "output_type": "stream",
     "text": [
      "Количество строк файла: 309901\n",
      "\n",
      "Информация о содержимом файла:\n"
     ]
    },
    {
     "data": {
      "text/html": [
       "<div>\n",
       "<style scoped>\n",
       "    .dataframe tbody tr th:only-of-type {\n",
       "        vertical-align: middle;\n",
       "    }\n",
       "\n",
       "    .dataframe tbody tr th {\n",
       "        vertical-align: top;\n",
       "    }\n",
       "\n",
       "    .dataframe thead th {\n",
       "        text-align: right;\n",
       "    }\n",
       "</style>\n",
       "<table border=\"1\" class=\"dataframe\">\n",
       "  <thead>\n",
       "    <tr style=\"text-align: right;\">\n",
       "      <th></th>\n",
       "      <th>Значения</th>\n",
       "      <th>тип данных</th>\n",
       "      <th>Кол-во уникальных значений</th>\n",
       "    </tr>\n",
       "  </thead>\n",
       "  <tbody>\n",
       "    <tr>\n",
       "      <th>User Id</th>\n",
       "      <td>[981449118918, 278965908054, 590706206550, 326...</td>\n",
       "      <td>int64</td>\n",
       "      <td>150008</td>\n",
       "    </tr>\n",
       "    <tr>\n",
       "      <th>Region</th>\n",
       "      <td>[United States, UK, France, Germany]</td>\n",
       "      <td>object</td>\n",
       "      <td>4</td>\n",
       "    </tr>\n",
       "    <tr>\n",
       "      <th>Device</th>\n",
       "      <td>[iPhone, Mac, Android, PC]</td>\n",
       "      <td>object</td>\n",
       "      <td>4</td>\n",
       "    </tr>\n",
       "    <tr>\n",
       "      <th>Channel</th>\n",
       "      <td>[organic, TipTop, RocketSuperAds, YRabbit, Fac...</td>\n",
       "      <td>object</td>\n",
       "      <td>11</td>\n",
       "    </tr>\n",
       "    <tr>\n",
       "      <th>Session Start</th>\n",
       "      <td>[2019-05-01 02:36:01, 2019-05-01 04:46:31, 201...</td>\n",
       "      <td>object</td>\n",
       "      <td>306813</td>\n",
       "    </tr>\n",
       "    <tr>\n",
       "      <th>Session End</th>\n",
       "      <td>[2019-05-01 02:45:01, 2019-05-01 04:47:35, 201...</td>\n",
       "      <td>object</td>\n",
       "      <td>306793</td>\n",
       "    </tr>\n",
       "  </tbody>\n",
       "</table>\n",
       "</div>"
      ],
      "text/plain": [
       "                                                        Значения тип данных  \\\n",
       "User Id        [981449118918, 278965908054, 590706206550, 326...      int64   \n",
       "Region                      [United States, UK, France, Germany]     object   \n",
       "Device                                [iPhone, Mac, Android, PC]     object   \n",
       "Channel        [organic, TipTop, RocketSuperAds, YRabbit, Fac...     object   \n",
       "Session Start  [2019-05-01 02:36:01, 2019-05-01 04:46:31, 201...     object   \n",
       "Session End    [2019-05-01 02:45:01, 2019-05-01 04:47:35, 201...     object   \n",
       "\n",
       "              Кол-во уникальных значений  \n",
       "User Id                           150008  \n",
       "Region                                 4  \n",
       "Device                                 4  \n",
       "Channel                               11  \n",
       "Session Start                     306813  \n",
       "Session End                       306793  "
      ]
     },
     "metadata": {},
     "output_type": "display_data"
    },
    {
     "name": "stdout",
     "output_type": "stream",
     "text": [
      "\n",
      "Информация о пропусках данных:\n"
     ]
    },
    {
     "data": {
      "text/html": [
       "<div>\n",
       "<style scoped>\n",
       "    .dataframe tbody tr th:only-of-type {\n",
       "        vertical-align: middle;\n",
       "    }\n",
       "\n",
       "    .dataframe tbody tr th {\n",
       "        vertical-align: top;\n",
       "    }\n",
       "\n",
       "    .dataframe thead th {\n",
       "        text-align: right;\n",
       "    }\n",
       "</style>\n",
       "<table border=\"1\" class=\"dataframe\">\n",
       "  <thead>\n",
       "    <tr style=\"text-align: right;\">\n",
       "      <th></th>\n",
       "      <th>column_name</th>\n",
       "      <th>num_missing</th>\n",
       "      <th>percent_missing</th>\n",
       "    </tr>\n",
       "  </thead>\n",
       "  <tbody>\n",
       "    <tr>\n",
       "      <th>User Id</th>\n",
       "      <td>User Id</td>\n",
       "      <td>0</td>\n",
       "      <td>0.0</td>\n",
       "    </tr>\n",
       "    <tr>\n",
       "      <th>Region</th>\n",
       "      <td>Region</td>\n",
       "      <td>0</td>\n",
       "      <td>0.0</td>\n",
       "    </tr>\n",
       "    <tr>\n",
       "      <th>Device</th>\n",
       "      <td>Device</td>\n",
       "      <td>0</td>\n",
       "      <td>0.0</td>\n",
       "    </tr>\n",
       "    <tr>\n",
       "      <th>Channel</th>\n",
       "      <td>Channel</td>\n",
       "      <td>0</td>\n",
       "      <td>0.0</td>\n",
       "    </tr>\n",
       "    <tr>\n",
       "      <th>Session Start</th>\n",
       "      <td>Session Start</td>\n",
       "      <td>0</td>\n",
       "      <td>0.0</td>\n",
       "    </tr>\n",
       "    <tr>\n",
       "      <th>Session End</th>\n",
       "      <td>Session End</td>\n",
       "      <td>0</td>\n",
       "      <td>0.0</td>\n",
       "    </tr>\n",
       "  </tbody>\n",
       "</table>\n",
       "</div>"
      ],
      "text/plain": [
       "                 column_name  num_missing  percent_missing\n",
       "User Id              User Id            0              0.0\n",
       "Region                Region            0              0.0\n",
       "Device                Device            0              0.0\n",
       "Channel              Channel            0              0.0\n",
       "Session Start  Session Start            0              0.0\n",
       "Session End      Session End            0              0.0"
      ]
     },
     "metadata": {},
     "output_type": "display_data"
    },
    {
     "name": "stdout",
     "output_type": "stream",
     "text": [
      "\n",
      "Первые пять строк таблицы:\n"
     ]
    },
    {
     "data": {
      "text/html": [
       "<div>\n",
       "<style scoped>\n",
       "    .dataframe tbody tr th:only-of-type {\n",
       "        vertical-align: middle;\n",
       "    }\n",
       "\n",
       "    .dataframe tbody tr th {\n",
       "        vertical-align: top;\n",
       "    }\n",
       "\n",
       "    .dataframe thead th {\n",
       "        text-align: right;\n",
       "    }\n",
       "</style>\n",
       "<table border=\"1\" class=\"dataframe\">\n",
       "  <thead>\n",
       "    <tr style=\"text-align: right;\">\n",
       "      <th></th>\n",
       "      <th>User Id</th>\n",
       "      <th>Region</th>\n",
       "      <th>Device</th>\n",
       "      <th>Channel</th>\n",
       "      <th>Session Start</th>\n",
       "      <th>Session End</th>\n",
       "    </tr>\n",
       "  </thead>\n",
       "  <tbody>\n",
       "    <tr>\n",
       "      <th>0</th>\n",
       "      <td>981449118918</td>\n",
       "      <td>United States</td>\n",
       "      <td>iPhone</td>\n",
       "      <td>organic</td>\n",
       "      <td>2019-05-01 02:36:01</td>\n",
       "      <td>2019-05-01 02:45:01</td>\n",
       "    </tr>\n",
       "    <tr>\n",
       "      <th>1</th>\n",
       "      <td>278965908054</td>\n",
       "      <td>United States</td>\n",
       "      <td>iPhone</td>\n",
       "      <td>organic</td>\n",
       "      <td>2019-05-01 04:46:31</td>\n",
       "      <td>2019-05-01 04:47:35</td>\n",
       "    </tr>\n",
       "    <tr>\n",
       "      <th>2</th>\n",
       "      <td>590706206550</td>\n",
       "      <td>United States</td>\n",
       "      <td>Mac</td>\n",
       "      <td>organic</td>\n",
       "      <td>2019-05-01 14:09:25</td>\n",
       "      <td>2019-05-01 15:32:08</td>\n",
       "    </tr>\n",
       "    <tr>\n",
       "      <th>3</th>\n",
       "      <td>326433527971</td>\n",
       "      <td>United States</td>\n",
       "      <td>Android</td>\n",
       "      <td>TipTop</td>\n",
       "      <td>2019-05-01 00:29:59</td>\n",
       "      <td>2019-05-01 00:54:25</td>\n",
       "    </tr>\n",
       "    <tr>\n",
       "      <th>4</th>\n",
       "      <td>349773784594</td>\n",
       "      <td>United States</td>\n",
       "      <td>Mac</td>\n",
       "      <td>organic</td>\n",
       "      <td>2019-05-01 03:33:35</td>\n",
       "      <td>2019-05-01 03:57:40</td>\n",
       "    </tr>\n",
       "  </tbody>\n",
       "</table>\n",
       "</div>"
      ],
      "text/plain": [
       "        User Id         Region   Device  Channel        Session Start  \\\n",
       "0  981449118918  United States   iPhone  organic  2019-05-01 02:36:01   \n",
       "1  278965908054  United States   iPhone  organic  2019-05-01 04:46:31   \n",
       "2  590706206550  United States      Mac  organic  2019-05-01 14:09:25   \n",
       "3  326433527971  United States  Android   TipTop  2019-05-01 00:29:59   \n",
       "4  349773784594  United States      Mac  organic  2019-05-01 03:33:35   \n",
       "\n",
       "           Session End  \n",
       "0  2019-05-01 02:45:01  \n",
       "1  2019-05-01 04:47:35  \n",
       "2  2019-05-01 15:32:08  \n",
       "3  2019-05-01 00:54:25  \n",
       "4  2019-05-01 03:57:40  "
      ]
     },
     "metadata": {},
     "output_type": "display_data"
    }
   ],
   "source": [
    "df_info(visits)"
   ]
  },
  {
   "cell_type": "markdown",
   "metadata": {},
   "source": [
    "**Вывод:**\n",
    "\n",
    "В файле - лог сервера с информацией о посещениях сайта.\n",
    "\n",
    "Таблица содержит 309901 строк, пропуски отсутствуют.\n",
    "\n",
    "**Содержание данных:**\n",
    "\n",
    "    User Id — уникальный идентификатор пользователя\n",
    "    Device — категория устройства пользователя\n",
    "    Session start — дата и время начала сессии\n",
    "    Session End — дата и время окончания сессии\n",
    "    Channel — идентификатор рекламного источника, из которого пришел пользователь\n",
    "    Region - страна пользователя\n",
    "    \n",
    "**Необходимые изменения:**\n",
    "- привести к формату даты столбец Session Start\tи Session End"
   ]
  },
  {
   "cell_type": "markdown",
   "metadata": {},
   "source": [
    "### Таблица orders"
   ]
  },
  {
   "cell_type": "code",
   "execution_count": 5,
   "metadata": {},
   "outputs": [
    {
     "name": "stdout",
     "output_type": "stream",
     "text": [
      "Количество строк файла: 40212\n",
      "\n",
      "Информация о содержимом файла:\n"
     ]
    },
    {
     "data": {
      "text/html": [
       "<div>\n",
       "<style scoped>\n",
       "    .dataframe tbody tr th:only-of-type {\n",
       "        vertical-align: middle;\n",
       "    }\n",
       "\n",
       "    .dataframe tbody tr th {\n",
       "        vertical-align: top;\n",
       "    }\n",
       "\n",
       "    .dataframe thead th {\n",
       "        text-align: right;\n",
       "    }\n",
       "</style>\n",
       "<table border=\"1\" class=\"dataframe\">\n",
       "  <thead>\n",
       "    <tr style=\"text-align: right;\">\n",
       "      <th></th>\n",
       "      <th>Значения</th>\n",
       "      <th>тип данных</th>\n",
       "      <th>Кол-во уникальных значений</th>\n",
       "    </tr>\n",
       "  </thead>\n",
       "  <tbody>\n",
       "    <tr>\n",
       "      <th>User Id</th>\n",
       "      <td>[188246423999, 174361394180, 529610067795, 319...</td>\n",
       "      <td>int64</td>\n",
       "      <td>8881</td>\n",
       "    </tr>\n",
       "    <tr>\n",
       "      <th>Revenue</th>\n",
       "      <td>[4.99, 5.99, 9.99, 49.99, 19.99]</td>\n",
       "      <td>float64</td>\n",
       "      <td>5</td>\n",
       "    </tr>\n",
       "    <tr>\n",
       "      <th>Event Dt</th>\n",
       "      <td>[2019-05-01 23:09:52, 2019-05-01 12:24:04, 201...</td>\n",
       "      <td>object</td>\n",
       "      <td>40163</td>\n",
       "    </tr>\n",
       "  </tbody>\n",
       "</table>\n",
       "</div>"
      ],
      "text/plain": [
       "                                                   Значения тип данных  \\\n",
       "User Id   [188246423999, 174361394180, 529610067795, 319...      int64   \n",
       "Revenue                    [4.99, 5.99, 9.99, 49.99, 19.99]    float64   \n",
       "Event Dt  [2019-05-01 23:09:52, 2019-05-01 12:24:04, 201...     object   \n",
       "\n",
       "         Кол-во уникальных значений  \n",
       "User Id                        8881  \n",
       "Revenue                           5  \n",
       "Event Dt                      40163  "
      ]
     },
     "metadata": {},
     "output_type": "display_data"
    },
    {
     "name": "stdout",
     "output_type": "stream",
     "text": [
      "\n",
      "Информация о пропусках данных:\n"
     ]
    },
    {
     "data": {
      "text/html": [
       "<div>\n",
       "<style scoped>\n",
       "    .dataframe tbody tr th:only-of-type {\n",
       "        vertical-align: middle;\n",
       "    }\n",
       "\n",
       "    .dataframe tbody tr th {\n",
       "        vertical-align: top;\n",
       "    }\n",
       "\n",
       "    .dataframe thead th {\n",
       "        text-align: right;\n",
       "    }\n",
       "</style>\n",
       "<table border=\"1\" class=\"dataframe\">\n",
       "  <thead>\n",
       "    <tr style=\"text-align: right;\">\n",
       "      <th></th>\n",
       "      <th>column_name</th>\n",
       "      <th>num_missing</th>\n",
       "      <th>percent_missing</th>\n",
       "    </tr>\n",
       "  </thead>\n",
       "  <tbody>\n",
       "    <tr>\n",
       "      <th>User Id</th>\n",
       "      <td>User Id</td>\n",
       "      <td>0</td>\n",
       "      <td>0.0</td>\n",
       "    </tr>\n",
       "    <tr>\n",
       "      <th>Event Dt</th>\n",
       "      <td>Event Dt</td>\n",
       "      <td>0</td>\n",
       "      <td>0.0</td>\n",
       "    </tr>\n",
       "    <tr>\n",
       "      <th>Revenue</th>\n",
       "      <td>Revenue</td>\n",
       "      <td>0</td>\n",
       "      <td>0.0</td>\n",
       "    </tr>\n",
       "  </tbody>\n",
       "</table>\n",
       "</div>"
      ],
      "text/plain": [
       "         column_name  num_missing  percent_missing\n",
       "User Id      User Id            0              0.0\n",
       "Event Dt    Event Dt            0              0.0\n",
       "Revenue      Revenue            0              0.0"
      ]
     },
     "metadata": {},
     "output_type": "display_data"
    },
    {
     "name": "stdout",
     "output_type": "stream",
     "text": [
      "\n",
      "Первые пять строк таблицы:\n"
     ]
    },
    {
     "data": {
      "text/html": [
       "<div>\n",
       "<style scoped>\n",
       "    .dataframe tbody tr th:only-of-type {\n",
       "        vertical-align: middle;\n",
       "    }\n",
       "\n",
       "    .dataframe tbody tr th {\n",
       "        vertical-align: top;\n",
       "    }\n",
       "\n",
       "    .dataframe thead th {\n",
       "        text-align: right;\n",
       "    }\n",
       "</style>\n",
       "<table border=\"1\" class=\"dataframe\">\n",
       "  <thead>\n",
       "    <tr style=\"text-align: right;\">\n",
       "      <th></th>\n",
       "      <th>User Id</th>\n",
       "      <th>Event Dt</th>\n",
       "      <th>Revenue</th>\n",
       "    </tr>\n",
       "  </thead>\n",
       "  <tbody>\n",
       "    <tr>\n",
       "      <th>0</th>\n",
       "      <td>188246423999</td>\n",
       "      <td>2019-05-01 23:09:52</td>\n",
       "      <td>4.99</td>\n",
       "    </tr>\n",
       "    <tr>\n",
       "      <th>1</th>\n",
       "      <td>174361394180</td>\n",
       "      <td>2019-05-01 12:24:04</td>\n",
       "      <td>4.99</td>\n",
       "    </tr>\n",
       "    <tr>\n",
       "      <th>2</th>\n",
       "      <td>529610067795</td>\n",
       "      <td>2019-05-01 11:34:04</td>\n",
       "      <td>4.99</td>\n",
       "    </tr>\n",
       "    <tr>\n",
       "      <th>3</th>\n",
       "      <td>319939546352</td>\n",
       "      <td>2019-05-01 15:34:40</td>\n",
       "      <td>4.99</td>\n",
       "    </tr>\n",
       "    <tr>\n",
       "      <th>4</th>\n",
       "      <td>366000285810</td>\n",
       "      <td>2019-05-01 13:59:51</td>\n",
       "      <td>4.99</td>\n",
       "    </tr>\n",
       "  </tbody>\n",
       "</table>\n",
       "</div>"
      ],
      "text/plain": [
       "        User Id             Event Dt  Revenue\n",
       "0  188246423999  2019-05-01 23:09:52     4.99\n",
       "1  174361394180  2019-05-01 12:24:04     4.99\n",
       "2  529610067795  2019-05-01 11:34:04     4.99\n",
       "3  319939546352  2019-05-01 15:34:40     4.99\n",
       "4  366000285810  2019-05-01 13:59:51     4.99"
      ]
     },
     "metadata": {},
     "output_type": "display_data"
    }
   ],
   "source": [
    "df_info(orders)"
   ]
  },
  {
   "cell_type": "markdown",
   "metadata": {},
   "source": [
    "**Вывод:**\n",
    "\n",
    "В файле - информация о заказах с сайта.\n",
    "\n",
    "Таблица содержит 40212 строк, пропуски отсутствуют.\n",
    "\n",
    "**Содержание данных:**\n",
    "\n",
    "    User Id — уникальный id пользователя, который сделал заказ\n",
    "    Event Dt — дата и время покупки\n",
    "    Revenue — выручка\n",
    "    \n",
    "**Необходимые изменения:**\n",
    "- привести к формату даты столбец Event Dt\t"
   ]
  },
  {
   "cell_type": "markdown",
   "metadata": {},
   "source": [
    "### Таблица costs"
   ]
  },
  {
   "cell_type": "code",
   "execution_count": 6,
   "metadata": {},
   "outputs": [
    {
     "name": "stdout",
     "output_type": "stream",
     "text": [
      "Количество строк файла: 1800\n",
      "\n",
      "Информация о содержимом файла:\n"
     ]
    },
    {
     "data": {
      "text/html": [
       "<div>\n",
       "<style scoped>\n",
       "    .dataframe tbody tr th:only-of-type {\n",
       "        vertical-align: middle;\n",
       "    }\n",
       "\n",
       "    .dataframe tbody tr th {\n",
       "        vertical-align: top;\n",
       "    }\n",
       "\n",
       "    .dataframe thead th {\n",
       "        text-align: right;\n",
       "    }\n",
       "</style>\n",
       "<table border=\"1\" class=\"dataframe\">\n",
       "  <thead>\n",
       "    <tr style=\"text-align: right;\">\n",
       "      <th></th>\n",
       "      <th>Значения</th>\n",
       "      <th>тип данных</th>\n",
       "      <th>Кол-во уникальных значений</th>\n",
       "    </tr>\n",
       "  </thead>\n",
       "  <tbody>\n",
       "    <tr>\n",
       "      <th>costs</th>\n",
       "      <td>[113.3, 78.10000000000001, 85.80000000000001, ...</td>\n",
       "      <td>float64</td>\n",
       "      <td>608</td>\n",
       "    </tr>\n",
       "    <tr>\n",
       "      <th>dt</th>\n",
       "      <td>[2019-05-01, 2019-05-02, 2019-05-03, 2019-05-0...</td>\n",
       "      <td>object</td>\n",
       "      <td>180</td>\n",
       "    </tr>\n",
       "    <tr>\n",
       "      <th>Channel</th>\n",
       "      <td>[FaceBoom, MediaTornado, RocketSuperAds, TipTo...</td>\n",
       "      <td>object</td>\n",
       "      <td>10</td>\n",
       "    </tr>\n",
       "  </tbody>\n",
       "</table>\n",
       "</div>"
      ],
      "text/plain": [
       "                                                  Значения тип данных  \\\n",
       "costs    [113.3, 78.10000000000001, 85.80000000000001, ...    float64   \n",
       "dt       [2019-05-01, 2019-05-02, 2019-05-03, 2019-05-0...     object   \n",
       "Channel  [FaceBoom, MediaTornado, RocketSuperAds, TipTo...     object   \n",
       "\n",
       "        Кол-во уникальных значений  \n",
       "costs                          608  \n",
       "dt                             180  \n",
       "Channel                         10  "
      ]
     },
     "metadata": {},
     "output_type": "display_data"
    },
    {
     "name": "stdout",
     "output_type": "stream",
     "text": [
      "\n",
      "Информация о пропусках данных:\n"
     ]
    },
    {
     "data": {
      "text/html": [
       "<div>\n",
       "<style scoped>\n",
       "    .dataframe tbody tr th:only-of-type {\n",
       "        vertical-align: middle;\n",
       "    }\n",
       "\n",
       "    .dataframe tbody tr th {\n",
       "        vertical-align: top;\n",
       "    }\n",
       "\n",
       "    .dataframe thead th {\n",
       "        text-align: right;\n",
       "    }\n",
       "</style>\n",
       "<table border=\"1\" class=\"dataframe\">\n",
       "  <thead>\n",
       "    <tr style=\"text-align: right;\">\n",
       "      <th></th>\n",
       "      <th>column_name</th>\n",
       "      <th>num_missing</th>\n",
       "      <th>percent_missing</th>\n",
       "    </tr>\n",
       "  </thead>\n",
       "  <tbody>\n",
       "    <tr>\n",
       "      <th>dt</th>\n",
       "      <td>dt</td>\n",
       "      <td>0</td>\n",
       "      <td>0.0</td>\n",
       "    </tr>\n",
       "    <tr>\n",
       "      <th>Channel</th>\n",
       "      <td>Channel</td>\n",
       "      <td>0</td>\n",
       "      <td>0.0</td>\n",
       "    </tr>\n",
       "    <tr>\n",
       "      <th>costs</th>\n",
       "      <td>costs</td>\n",
       "      <td>0</td>\n",
       "      <td>0.0</td>\n",
       "    </tr>\n",
       "  </tbody>\n",
       "</table>\n",
       "</div>"
      ],
      "text/plain": [
       "        column_name  num_missing  percent_missing\n",
       "dt               dt            0              0.0\n",
       "Channel     Channel            0              0.0\n",
       "costs         costs            0              0.0"
      ]
     },
     "metadata": {},
     "output_type": "display_data"
    },
    {
     "name": "stdout",
     "output_type": "stream",
     "text": [
      "\n",
      "Первые пять строк таблицы:\n"
     ]
    },
    {
     "data": {
      "text/html": [
       "<div>\n",
       "<style scoped>\n",
       "    .dataframe tbody tr th:only-of-type {\n",
       "        vertical-align: middle;\n",
       "    }\n",
       "\n",
       "    .dataframe tbody tr th {\n",
       "        vertical-align: top;\n",
       "    }\n",
       "\n",
       "    .dataframe thead th {\n",
       "        text-align: right;\n",
       "    }\n",
       "</style>\n",
       "<table border=\"1\" class=\"dataframe\">\n",
       "  <thead>\n",
       "    <tr style=\"text-align: right;\">\n",
       "      <th></th>\n",
       "      <th>dt</th>\n",
       "      <th>Channel</th>\n",
       "      <th>costs</th>\n",
       "    </tr>\n",
       "  </thead>\n",
       "  <tbody>\n",
       "    <tr>\n",
       "      <th>0</th>\n",
       "      <td>2019-05-01</td>\n",
       "      <td>FaceBoom</td>\n",
       "      <td>113.3</td>\n",
       "    </tr>\n",
       "    <tr>\n",
       "      <th>1</th>\n",
       "      <td>2019-05-02</td>\n",
       "      <td>FaceBoom</td>\n",
       "      <td>78.1</td>\n",
       "    </tr>\n",
       "    <tr>\n",
       "      <th>2</th>\n",
       "      <td>2019-05-03</td>\n",
       "      <td>FaceBoom</td>\n",
       "      <td>85.8</td>\n",
       "    </tr>\n",
       "    <tr>\n",
       "      <th>3</th>\n",
       "      <td>2019-05-04</td>\n",
       "      <td>FaceBoom</td>\n",
       "      <td>136.4</td>\n",
       "    </tr>\n",
       "    <tr>\n",
       "      <th>4</th>\n",
       "      <td>2019-05-05</td>\n",
       "      <td>FaceBoom</td>\n",
       "      <td>122.1</td>\n",
       "    </tr>\n",
       "  </tbody>\n",
       "</table>\n",
       "</div>"
      ],
      "text/plain": [
       "           dt   Channel  costs\n",
       "0  2019-05-01  FaceBoom  113.3\n",
       "1  2019-05-02  FaceBoom   78.1\n",
       "2  2019-05-03  FaceBoom   85.8\n",
       "3  2019-05-04  FaceBoom  136.4\n",
       "4  2019-05-05  FaceBoom  122.1"
      ]
     },
     "metadata": {},
     "output_type": "display_data"
    }
   ],
   "source": [
    "df_info(costs)"
   ]
  },
  {
   "cell_type": "markdown",
   "metadata": {},
   "source": [
    "**Вывод:**\n",
    "\n",
    "В файле - информация о затратах на маркетинг.\n",
    "\n",
    "Таблица содержит 1800 строк, пропуски отсутствуют.\n",
    "\n",
    "**Содержание данных:**\n",
    "\n",
    "    Channel — идентификатор рекламного источника\n",
    "    Dt — дата\n",
    "    Costs — затраты на этот рекламный источник в этот день\n",
    "    \n",
    "**Необходимые изменения:**\n",
    "- привести к формату даты столбец dt\n"
   ]
  },
  {
   "cell_type": "markdown",
   "metadata": {},
   "source": [
    "**Вывод по разделу 1:**\n",
    "\n",
    "В представленных для анализа файлах - данные о визитах, заказах и расходах на маркетинг. Предварительно данных достаточно для анализа.\n",
    "\n",
    "Необходимые изменения:\n",
    " \n",
    "\n",
    " - Исправим нарушения стиля (не соблюден snake case, присутствуют прописные буквы в наименованиях столбцов)\n",
    "\n",
    " - Устраним несоотвествие типа данных в столбцах, в которых обозначена дата: с типа object на datetime:  \n",
    "         - столбws Session Start и Session End файла visits\n",
    "         - столбец Event Dt файла orders\n",
    "         - столбец dt файла costs"
   ]
  },
  {
   "cell_type": "markdown",
   "metadata": {},
   "source": [
    "## Предобработка данных"
   ]
  },
  {
   "cell_type": "markdown",
   "metadata": {},
   "source": [
    "Приведем наименования столбцов файлов к единому стилю,  формат данных, содержащих даты,- к формату datetime, проверим наличие дубликатов."
   ]
  },
  {
   "cell_type": "markdown",
   "metadata": {},
   "source": [
    "### Нарушения стиля ( приведение названия столбцов к нижнему регистру и snacke_case)"
   ]
  },
  {
   "cell_type": "code",
   "execution_count": 7,
   "metadata": {},
   "outputs": [
    {
     "name": "stdout",
     "output_type": "stream",
     "text": [
      "Index(['user id', 'region', 'device', 'channel', 'session start',\n",
      "       'session end'],\n",
      "      dtype='object')\n",
      "Index(['user id', 'event dt', 'revenue'], dtype='object')\n",
      "Index(['dt', 'channel', 'costs'], dtype='object')\n"
     ]
    }
   ],
   "source": [
    "#список файлов для цикла (перевод в нижний регистр):\n",
    "files = [visits, orders, costs]\n",
    "for name in files:\n",
    "    name.columns = name.columns.str.lower()\n",
    "    print(name.columns) "
   ]
  },
  {
   "cell_type": "code",
   "execution_count": 8,
   "metadata": {},
   "outputs": [],
   "source": [
    "# snacke_case:\n",
    "visits = visits.rename(columns={\n",
    "               'user id':'user_id', 'session start':'session_start', \n",
    "               'session end':'session_end'})\n",
    "\n",
    "orders = orders.rename(columns={'user id':'user_id', 'event dt':'event_dt'})"
   ]
  },
  {
   "cell_type": "markdown",
   "metadata": {},
   "source": [
    "### Замена формата"
   ]
  },
  {
   "cell_type": "code",
   "execution_count": 9,
   "metadata": {},
   "outputs": [],
   "source": [
    "visits['session_start'] = pd.to_datetime(visits['session_start'])\n",
    "visits['session_end'] = pd.to_datetime(visits['session_end'])\n",
    "orders['event_dt'] = pd.to_datetime(orders['event_dt'])\n",
    "costs['dt'] = pd.to_datetime(costs['dt']).dt.date # поскольку в dt у нас нет данных о времени, сразу приводим его к date"
   ]
  },
  {
   "cell_type": "markdown",
   "metadata": {},
   "source": [
    "Проверим внесение изменений:"
   ]
  },
  {
   "cell_type": "code",
   "execution_count": 10,
   "metadata": {},
   "outputs": [
    {
     "name": "stdout",
     "output_type": "stream",
     "text": [
      "<class 'pandas.core.frame.DataFrame'>\n",
      "RangeIndex: 309901 entries, 0 to 309900\n",
      "Data columns (total 6 columns):\n",
      " #   Column         Non-Null Count   Dtype         \n",
      "---  ------         --------------   -----         \n",
      " 0   user_id        309901 non-null  int64         \n",
      " 1   region         309901 non-null  object        \n",
      " 2   device         309901 non-null  object        \n",
      " 3   channel        309901 non-null  object        \n",
      " 4   session_start  309901 non-null  datetime64[ns]\n",
      " 5   session_end    309901 non-null  datetime64[ns]\n",
      "dtypes: datetime64[ns](2), int64(1), object(3)\n",
      "memory usage: 14.2+ MB\n"
     ]
    }
   ],
   "source": [
    "visits.info()"
   ]
  },
  {
   "cell_type": "code",
   "execution_count": 11,
   "metadata": {},
   "outputs": [
    {
     "name": "stdout",
     "output_type": "stream",
     "text": [
      "<class 'pandas.core.frame.DataFrame'>\n",
      "RangeIndex: 40212 entries, 0 to 40211\n",
      "Data columns (total 3 columns):\n",
      " #   Column    Non-Null Count  Dtype         \n",
      "---  ------    --------------  -----         \n",
      " 0   user_id   40212 non-null  int64         \n",
      " 1   event_dt  40212 non-null  datetime64[ns]\n",
      " 2   revenue   40212 non-null  float64       \n",
      "dtypes: datetime64[ns](1), float64(1), int64(1)\n",
      "memory usage: 942.6 KB\n"
     ]
    }
   ],
   "source": [
    "orders.info()"
   ]
  },
  {
   "cell_type": "code",
   "execution_count": 12,
   "metadata": {},
   "outputs": [
    {
     "name": "stdout",
     "output_type": "stream",
     "text": [
      "<class 'pandas.core.frame.DataFrame'>\n",
      "RangeIndex: 1800 entries, 0 to 1799\n",
      "Data columns (total 3 columns):\n",
      " #   Column   Non-Null Count  Dtype  \n",
      "---  ------   --------------  -----  \n",
      " 0   dt       1800 non-null   object \n",
      " 1   channel  1800 non-null   object \n",
      " 2   costs    1800 non-null   float64\n",
      "dtypes: float64(1), object(2)\n",
      "memory usage: 42.3+ KB\n"
     ]
    }
   ],
   "source": [
    "costs.info()"
   ]
  },
  {
   "cell_type": "markdown",
   "metadata": {},
   "source": [
    "### Проверка на дубликаты"
   ]
  },
  {
   "cell_type": "code",
   "execution_count": 13,
   "metadata": {},
   "outputs": [
    {
     "name": "stdout",
     "output_type": "stream",
     "text": [
      "Количество дубликатов: 0 штук\n",
      "Количество дубликатов: 0 штук\n",
      "Количество дубликатов: 0 штук\n"
     ]
    }
   ],
   "source": [
    "#проверка файлов на дубликаты:\n",
    "\n",
    "#цикл для проверки наличия дубликатов по списку files:\n",
    "for name in files:\n",
    "    print(f'Количество дубликатов: {name.duplicated().sum()} штук')\n",
    "        "
   ]
  },
  {
   "cell_type": "markdown",
   "metadata": {},
   "source": [
    "**Выводы по разделу 2**"
   ]
  },
  {
   "cell_type": "markdown",
   "metadata": {},
   "source": [
    "В результате предобработки данных исправлены нарушения стиля в наименовании столбцов и устранено несоотвествие типа данных в столбцах, в которых обозначена дата: с типа object на datetime. Дубликаты отсутствуют. Данные готовы для анализа."
   ]
  },
  {
   "cell_type": "markdown",
   "metadata": {},
   "source": [
    "## Функции для расчета и анализа LTV, ROI, удержания и конверсии\n"
   ]
  },
  {
   "cell_type": "markdown",
   "metadata": {},
   "source": [
    "### Функции для расчета метрик"
   ]
  },
  {
   "cell_type": "markdown",
   "metadata": {},
   "source": [
    "#### Функция для создания пользовательских профилей get_profiles"
   ]
  },
  {
   "cell_type": "code",
   "execution_count": 14,
   "metadata": {},
   "outputs": [],
   "source": [
    "def get_profiles(sessions, orders, events, ad_costs, event_names=[]):\n",
    "\n",
    "    # находим параметры первых посещений\n",
    "    profiles = (\n",
    "        sessions.sort_values(by=['user_id', 'session_start'])\n",
    "        .groupby('user_id')\n",
    "        .agg(\n",
    "            {\n",
    "                'session_start': 'first',\n",
    "                'channel': 'first',\n",
    "                'device': 'first',\n",
    "                'region': 'first',\n",
    "            }\n",
    "        )\n",
    "        .rename(columns={'session_start': 'first_ts'})\n",
    "        .reset_index()\n",
    "    )\n",
    "\n",
    "    # для когортного анализа определяем дату первого посещения\n",
    "    # и первый день месяца, в который это посещение произошло\n",
    "    profiles['dt'] = profiles['first_ts'].dt.date\n",
    "    profiles['month'] = profiles['first_ts'].astype('datetime64[M]')\n",
    "\n",
    "    # добавляем признак платящих пользователей\n",
    "    profiles['payer'] = profiles['user_id'].isin(orders['user_id'].unique())\n",
    "\n",
    "    # добавляем флаги для всех событий из event_names\n",
    "    for event in event_names:\n",
    "        if event in events['event_name'].unique():\n",
    "            profiles[event] = profiles['user_id'].isin(\n",
    "                events.query('event_name == @event')['user_id'].unique()\n",
    "            )\n",
    "\n",
    "    # считаем количество уникальных пользователей\n",
    "    # с одинаковыми источником и датой привлечения\n",
    "    new_users = (\n",
    "        profiles.groupby(['dt', 'channel'])\n",
    "        .agg({'user_id': 'nunique'})\n",
    "        .rename(columns={'user_id': 'unique_users'})\n",
    "        .reset_index()\n",
    "    )\n",
    "\n",
    "    # объединяем траты на рекламу и число привлечённых пользователей\n",
    "    ad_costs = ad_costs.merge(new_users, on=['dt', 'channel'], how='left')\n",
    "\n",
    "    # делим рекламные расходы на число привлечённых пользователей\n",
    "    ad_costs['acquisition_cost'] = ad_costs['costs'] / ad_costs['unique_users']\n",
    "\n",
    "    # добавляем стоимость привлечения в профили\n",
    "    profiles = profiles.merge(\n",
    "        ad_costs[['dt', 'channel', 'acquisition_cost']],\n",
    "        on=['dt', 'channel'],\n",
    "        how='left',\n",
    "    )\n",
    "\n",
    "    # стоимость привлечения органических пользователей равна нулю\n",
    "    profiles['acquisition_cost'] = profiles['acquisition_cost'].fillna(0)\n",
    "\n",
    "    return profiles\n"
   ]
  },
  {
   "cell_type": "markdown",
   "metadata": {},
   "source": [
    "#### Функция для расчета удержания get_retention"
   ]
  },
  {
   "cell_type": "code",
   "execution_count": 15,
   "metadata": {},
   "outputs": [],
   "source": [
    "def get_retention(\n",
    "    profiles,\n",
    "    sessions,\n",
    "    observation_date,\n",
    "    horizon_days,\n",
    "    dimensions=[],\n",
    "    ignore_horizon=False,\n",
    "):\n",
    "\n",
    "    # добавляем столбец payer в передаваемый dimensions список\n",
    "    dimensions = ['payer'] + dimensions\n",
    "\n",
    "    # исключаем пользователей, не «доживших» до горизонта анализа\n",
    "    last_suitable_acquisition_date = observation_date\n",
    "    if not ignore_horizon:\n",
    "        last_suitable_acquisition_date = observation_date - timedelta(\n",
    "            days=horizon_days - 1\n",
    "        )\n",
    "    result_raw = profiles.query('dt <= @last_suitable_acquisition_date')\n",
    "\n",
    "    # собираем «сырые» данные для расчёта удержания\n",
    "    result_raw = result_raw.merge(\n",
    "        sessions[['user_id', 'session_start']], on='user_id', how='left'\n",
    "    )\n",
    "    result_raw['lifetime'] = (\n",
    "        result_raw['session_start'] - result_raw['first_ts']\n",
    "    ).dt.days\n",
    "\n",
    "    # функция для группировки таблицы по желаемым признакам\n",
    "    def group_by_dimensions(df, dims, horizon_days):\n",
    "        result = df.pivot_table(\n",
    "            index=dims, columns='lifetime', values='user_id', aggfunc='nunique'\n",
    "        )\n",
    "        cohort_sizes = (\n",
    "            df.groupby(dims)\n",
    "            .agg({'user_id': 'nunique'})\n",
    "            .rename(columns={'user_id': 'cohort_size'})\n",
    "        )\n",
    "        result = cohort_sizes.merge(result, on=dims, how='left').fillna(0)\n",
    "        result = result.div(result['cohort_size'], axis=0)\n",
    "        result = result[['cohort_size'] + list(range(horizon_days))]\n",
    "        result['cohort_size'] = cohort_sizes\n",
    "        return result\n",
    "\n",
    "    # получаем таблицу удержания\n",
    "    result_grouped = group_by_dimensions(result_raw, dimensions, horizon_days)\n",
    "\n",
    "    # получаем таблицу динамики удержания\n",
    "    result_in_time = group_by_dimensions(\n",
    "        result_raw, dimensions + ['dt'], horizon_days\n",
    "    )\n",
    "\n",
    "    # возвращаем обе таблицы и сырые данные\n",
    "    return result_raw, result_grouped, result_in_time"
   ]
  },
  {
   "cell_type": "markdown",
   "metadata": {},
   "source": [
    "#### Функция для расчета конверсии get_conversion"
   ]
  },
  {
   "cell_type": "code",
   "execution_count": 16,
   "metadata": {},
   "outputs": [],
   "source": [
    "def get_conversion(\n",
    "    profiles,\n",
    "    purchases,\n",
    "    observation_date,\n",
    "    horizon_days,\n",
    "    dimensions=[],\n",
    "    ignore_horizon=False,\n",
    "):\n",
    "\n",
    "    # исключаем пользователей, не «доживших» до горизонта анализа\n",
    "    last_suitable_acquisition_date = observation_date\n",
    "    if not ignore_horizon:\n",
    "        last_suitable_acquisition_date = observation_date - timedelta(\n",
    "            days=horizon_days - 1\n",
    "        )\n",
    "    result_raw = profiles.query('dt <= @last_suitable_acquisition_date')\n",
    "\n",
    "    # определяем дату и время первой покупки для каждого пользователя\n",
    "    first_purchases = (\n",
    "        purchases.sort_values(by=['user_id', 'event_dt'])\n",
    "        .groupby('user_id')\n",
    "        .agg({'event_dt': 'first'})\n",
    "        .reset_index()\n",
    "    )\n",
    "\n",
    "    # добавляем данные о покупках в профили\n",
    "    result_raw = result_raw.merge(\n",
    "        first_purchases[['user_id', 'event_dt']], on='user_id', how='left'\n",
    "    )\n",
    "\n",
    "    # рассчитываем лайфтайм для каждой покупки\n",
    "    result_raw['lifetime'] = (\n",
    "        result_raw['event_dt'] - result_raw['first_ts']\n",
    "    ).dt.days\n",
    "\n",
    "    # группируем по cohort, если в dimensions ничего нет\n",
    "    if len(dimensions) == 0:\n",
    "        result_raw['cohort'] = 'All users' \n",
    "        dimensions = dimensions + ['cohort']\n",
    "\n",
    "    # функция для группировки таблицы по желаемым признакам\n",
    "    def group_by_dimensions(df, dims, horizon_days):\n",
    "        result = df.pivot_table(\n",
    "            index=dims, columns='lifetime', values='user_id', aggfunc='nunique'\n",
    "        )\n",
    "        result = result.fillna(0).cumsum(axis = 1)\n",
    "        cohort_sizes = (\n",
    "            df.groupby(dims)\n",
    "            .agg({'user_id': 'nunique'})\n",
    "            .rename(columns={'user_id': 'cohort_size'})\n",
    "        )\n",
    "        result = cohort_sizes.merge(result, on=dims, how='left').fillna(0)\n",
    "        # делим каждую «ячейку» в строке на размер когорты\n",
    "        # и получаем conversion rate\n",
    "        result = result.div(result['cohort_size'], axis=0)\n",
    "        result = result[['cohort_size'] + list(range(horizon_days))]\n",
    "        result['cohort_size'] = cohort_sizes\n",
    "        return result\n",
    "\n",
    "    # получаем таблицу конверсии\n",
    "    result_grouped = group_by_dimensions(result_raw, dimensions, horizon_days)\n",
    "\n",
    "    # для таблицы динамики конверсии убираем 'cohort' из dimensions\n",
    "    if 'cohort' in dimensions: \n",
    "        dimensions = []\n",
    "\n",
    "    # получаем таблицу динамики конверсии\n",
    "    result_in_time = group_by_dimensions(\n",
    "        result_raw, dimensions + ['dt'], horizon_days\n",
    "    )\n",
    "\n",
    "    # возвращаем обе таблицы и сырые данные\n",
    "    return result_raw, result_grouped, result_in_time"
   ]
  },
  {
   "cell_type": "markdown",
   "metadata": {},
   "source": [
    "#### Функция для расчета  LTV, ROI"
   ]
  },
  {
   "cell_type": "code",
   "execution_count": 17,
   "metadata": {},
   "outputs": [],
   "source": [
    "def get_ltv(\n",
    "    profiles,\n",
    "    purchases,\n",
    "    observation_date,\n",
    "    horizon_days,\n",
    "    dimensions=[],\n",
    "    ignore_horizon=False,\n",
    "):\n",
    "\n",
    "    # исключаем пользователей, не «доживших» до горизонта анализа\n",
    "    last_suitable_acquisition_date = observation_date\n",
    "    if not ignore_horizon:\n",
    "        last_suitable_acquisition_date = observation_date - timedelta(\n",
    "            days=horizon_days - 1\n",
    "        )\n",
    "    result_raw = profiles.query('dt <= @last_suitable_acquisition_date')\n",
    "    # добавляем данные о покупках в профили\n",
    "    result_raw = result_raw.merge(\n",
    "        purchases[['user_id', 'event_dt', 'revenue']], on='user_id', how='left'\n",
    "    )\n",
    "    # рассчитываем лайфтайм пользователя для каждой покупки\n",
    "    result_raw['lifetime'] = (\n",
    "        result_raw['event_dt'] - result_raw['first_ts']\n",
    "    ).dt.days\n",
    "    # группируем по cohort, если в dimensions ничего нет\n",
    "    if len(dimensions) == 0:\n",
    "        result_raw['cohort'] = 'All users'\n",
    "        dimensions = dimensions + ['cohort']\n",
    "\n",
    "    # функция группировки по желаемым признакам\n",
    "    def group_by_dimensions(df, dims, horizon_days):\n",
    "        # строим «треугольную» таблицу выручки\n",
    "        result = df.pivot_table(\n",
    "            index=dims, columns='lifetime', values='revenue', aggfunc='sum'\n",
    "        )\n",
    "        # находим сумму выручки с накоплением\n",
    "        result = result.fillna(0).cumsum(axis=1)\n",
    "        # вычисляем размеры когорт\n",
    "        cohort_sizes = (\n",
    "            df.groupby(dims)\n",
    "            .agg({'user_id': 'nunique'})\n",
    "            .rename(columns={'user_id': 'cohort_size'})\n",
    "        )\n",
    "        # объединяем размеры когорт и таблицу выручки\n",
    "        result = cohort_sizes.merge(result, on=dims, how='left').fillna(0)\n",
    "        # считаем LTV: делим каждую «ячейку» в строке на размер когорты\n",
    "        result = result.div(result['cohort_size'], axis=0)\n",
    "        # исключаем все лайфтаймы, превышающие горизонт анализа\n",
    "        result = result[['cohort_size'] + list(range(horizon_days))]\n",
    "        # восстанавливаем размеры когорт\n",
    "        result['cohort_size'] = cohort_sizes\n",
    "\n",
    "        # собираем датафрейм с данными пользователей и значениями CAC, \n",
    "        # добавляя параметры из dimensions\n",
    "        cac = df[['user_id', 'acquisition_cost'] + dims].drop_duplicates()\n",
    "\n",
    "        # считаем средний CAC по параметрам из dimensions\n",
    "        cac = (\n",
    "            cac.groupby(dims)\n",
    "            .agg({'acquisition_cost': 'mean'})\n",
    "            .rename(columns={'acquisition_cost': 'cac'})\n",
    "        )\n",
    "\n",
    "        # считаем ROI: делим LTV на CAC\n",
    "        roi = result.div(cac['cac'], axis=0)\n",
    "\n",
    "        # удаляем строки с бесконечным ROI\n",
    "        roi = roi[~roi['cohort_size'].isin([np.inf])]\n",
    "\n",
    "        # восстанавливаем размеры когорт в таблице ROI\n",
    "        roi['cohort_size'] = cohort_sizes\n",
    "\n",
    "        # добавляем CAC в таблицу ROI\n",
    "        roi['cac'] = cac['cac']\n",
    "\n",
    "        # в финальной таблице оставляем размеры когорт, CAC\n",
    "        # и ROI в лайфтаймы, не превышающие горизонт анализа\n",
    "        roi = roi[['cohort_size', 'cac'] + list(range(horizon_days))]\n",
    "\n",
    "        # возвращаем таблицы LTV и ROI\n",
    "        return result, roi\n",
    "\n",
    "    # получаем таблицы LTV и ROI\n",
    "    result_grouped, roi_grouped = group_by_dimensions(\n",
    "        result_raw, dimensions, horizon_days\n",
    "    )\n",
    "\n",
    "    # для таблиц динамики убираем 'cohort' из dimensions\n",
    "    if 'cohort' in dimensions:\n",
    "        dimensions = []\n",
    "\n",
    "    # получаем таблицы динамики LTV и ROI\n",
    "    result_in_time, roi_in_time = group_by_dimensions(\n",
    "        result_raw, dimensions + ['dt'], horizon_days\n",
    "    )\n",
    "\n",
    "    return (\n",
    "        result_raw,  # сырые данные\n",
    "        result_grouped,  # таблица LTV\n",
    "        result_in_time,  # таблица динамики LTV\n",
    "        roi_grouped,  # таблица ROI\n",
    "        roi_in_time,  # таблица динамики ROI\n",
    "    )"
   ]
  },
  {
   "cell_type": "markdown",
   "metadata": {},
   "source": [
    "### Функции для визуализации метрик"
   ]
  },
  {
   "cell_type": "code",
   "execution_count": 18,
   "metadata": {},
   "outputs": [],
   "source": [
    "# функция для сглаживания фрейма\n",
    "\n",
    "def filter_data(df, window):\n",
    "    # для каждого столбца применяем скользящее среднее\n",
    "    for column in df.columns.values:\n",
    "        df[column] = df[column].rolling(window).mean() \n",
    "    return df"
   ]
  },
  {
   "cell_type": "markdown",
   "metadata": {},
   "source": [
    "#### Визуализация удержания"
   ]
  },
  {
   "cell_type": "code",
   "execution_count": 19,
   "metadata": {},
   "outputs": [],
   "source": [
    "# функция для визуализации удержания\n",
    "\n",
    "def plot_retention(retention, retention_history, horizon, window=7):\n",
    "\n",
    "    # задаём размер сетки для графиков\n",
    "    plt.figure(figsize=(15, 10))\n",
    "\n",
    "    # исключаем размеры когорт и удержание первого дня\n",
    "    retention = retention.drop(columns=['cohort_size', 0])\n",
    "    # в таблице динамики оставляем только нужный лайфтайм\n",
    "    retention_history = retention_history.drop(columns=['cohort_size'])[\n",
    "        [horizon - 1]\n",
    "    ]\n",
    "\n",
    "    # если в индексах таблицы удержания только payer,\n",
    "    # добавляем второй признак — cohort\n",
    "    if retention.index.nlevels == 1:\n",
    "        retention['cohort'] = 'All users'\n",
    "        retention = retention.reset_index().set_index(['cohort', 'payer'])\n",
    "\n",
    "    # в таблице графиков — два столбца и две строки, четыре ячейки\n",
    "    # в первой строим кривые удержания платящих пользователей\n",
    "    ax1 = plt.subplot(2, 2, 1)\n",
    "    retention.query('payer == True').droplevel('payer').T.plot(\n",
    "        grid=True, ax=ax1\n",
    "    )\n",
    "    plt.legend()\n",
    "    plt.xlabel('Лайфтайм')\n",
    "    plt.title('Удержание платящих пользователей')\n",
    "\n",
    "    # во второй ячейке строим кривые удержания неплатящих\n",
    "    # вертикальная ось — от графика из первой ячейки\n",
    "    ax2 = plt.subplot(2, 2, 2, sharey=ax1)\n",
    "    retention.query('payer == False').droplevel('payer').T.plot(\n",
    "        grid=True, ax=ax2\n",
    "    )\n",
    "    plt.legend()\n",
    "    plt.xlabel('Лайфтайм')\n",
    "    plt.title('Удержание неплатящих пользователей')\n",
    "\n",
    "    # в третьей ячейке — динамика удержания платящих\n",
    "    ax3 = plt.subplot(2, 2, 3)\n",
    "    # получаем названия столбцов для сводной таблицы\n",
    "    columns = [\n",
    "        name\n",
    "        for name in retention_history.index.names\n",
    "        if name not in ['dt', 'payer']\n",
    "    ]\n",
    "    # фильтруем данные и строим график\n",
    "    filtered_data = retention_history.query('payer == True').pivot_table(\n",
    "        index='dt', columns=columns, values=horizon - 1, aggfunc='mean'\n",
    "    )\n",
    "    filter_data(filtered_data, window).plot(grid=True, ax=ax3)\n",
    "    plt.xlabel('Дата привлечения')\n",
    "    plt.title(\n",
    "        'Динамика удержания платящих пользователей на {}-й день'.format(\n",
    "            horizon\n",
    "        )\n",
    "    )\n",
    "\n",
    "    # в чётвертой ячейке — динамика удержания неплатящих\n",
    "    ax4 = plt.subplot(2, 2, 4, sharey=ax3)\n",
    "    # фильтруем данные и строим график\n",
    "    filtered_data = retention_history.query('payer == False').pivot_table(\n",
    "        index='dt', columns=columns, values=horizon - 1, aggfunc='mean'\n",
    "    )\n",
    "    filter_data(filtered_data, window).plot(grid=True, ax=ax4)\n",
    "    plt.xlabel('Дата привлечения')\n",
    "    plt.title(\n",
    "        'Динамика удержания неплатящих пользователей на {}-й день'.format(\n",
    "            horizon\n",
    "        )\n",
    "    )\n",
    "    \n",
    "    plt.tight_layout()\n",
    "    plt.show()"
   ]
  },
  {
   "cell_type": "markdown",
   "metadata": {},
   "source": [
    "#### Визуализация конверсии"
   ]
  },
  {
   "cell_type": "code",
   "execution_count": 20,
   "metadata": {},
   "outputs": [],
   "source": [
    "def plot_conversion(conversion, conversion_history, horizon, window=7):\n",
    "\n",
    "    # задаём размер сетки для графиков\n",
    "    plt.figure(figsize=(15, 5))\n",
    "\n",
    "    # исключаем размеры когорт\n",
    "    conversion = conversion.drop(columns=['cohort_size'])\n",
    "    # в таблице динамики оставляем только нужный лайфтайм\n",
    "    conversion_history = conversion_history.drop(columns=['cohort_size'])[\n",
    "        [horizon - 1]\n",
    "    ]\n",
    "\n",
    "    # первый график — кривые конверсии\n",
    "    ax1 = plt.subplot(1, 2, 1)\n",
    "    conversion.T.plot(grid=True, ax=ax1)\n",
    "    plt.legend()\n",
    "    plt.xlabel('Лайфтайм')\n",
    "    plt.title('Конверсия пользователей')\n",
    "\n",
    "    # второй график — динамика конверсии\n",
    "    ax2 = plt.subplot(1, 2, 2, sharey=ax1)\n",
    "    columns = [\n",
    "        # столбцами сводной таблицы станут все столбцы индекса, кроме даты\n",
    "        name for name in conversion_history.index.names if name not in ['dt']\n",
    "    ]\n",
    "    filtered_data = conversion_history.pivot_table(\n",
    "        index='dt', columns=columns, values=horizon - 1, aggfunc='mean'\n",
    "    )\n",
    "    filter_data(filtered_data, window).plot(grid=True, ax=ax2)\n",
    "    plt.xlabel('Дата привлечения')\n",
    "    plt.title('Динамика конверсии пользователей на {}-й день'.format(horizon))\n",
    "\n",
    "    plt.tight_layout()\n",
    "    plt.show()"
   ]
  },
  {
   "cell_type": "markdown",
   "metadata": {},
   "source": [
    "#### Визуализация LTV и ROI"
   ]
  },
  {
   "cell_type": "code",
   "execution_count": 21,
   "metadata": {},
   "outputs": [],
   "source": [
    "# функция для визуализации LTV и ROI\n",
    "\n",
    "def plot_ltv_roi(ltv, ltv_history, roi, roi_history, horizon, window=7):\n",
    "\n",
    "    # задаём сетку отрисовки графиков\n",
    "    plt.figure(figsize=(15, 20))\n",
    "    # из таблицы ltv исключаем размеры когорт\n",
    "    ltv = ltv.drop(columns=['cohort_size'])\n",
    "    # в таблице динамики ltv оставляем только нужный лайфтайм\n",
    "    ltv_history = ltv_history.drop(columns=['cohort_size'])[[horizon - 1]]\n",
    "\n",
    "    # стоимость привлечения запишем в отдельный фрейм\n",
    "    cac_history = roi_history[['cac']]\n",
    "\n",
    "    # из таблицы roi исключаем размеры когорт и cac\n",
    "    roi = roi.drop(columns=['cohort_size', 'cac'])\n",
    "    # в таблице динамики roi оставляем только нужный лайфтайм\n",
    "    roi_history = roi_history.drop(columns=['cohort_size', 'cac'])[\n",
    "        [horizon - 1]\n",
    "    ]\n",
    "\n",
    "    # первый график — кривые ltv\n",
    "    ax1 = plt.subplot(3, 2, 1)\n",
    "    ltv.T.plot(grid=True, ax=ax1)\n",
    "    plt.legend()\n",
    "    plt.xlabel('Лайфтайм')\n",
    "    plt.title('LTV')\n",
    "\n",
    "    # второй график — динамика ltv\n",
    "    ax2 = plt.subplot(3, 2, 2, sharey=ax1)\n",
    "    # столбцами сводной таблицы станут все столбцы индекса, кроме даты\n",
    "    columns = [name for name in ltv_history.index.names if name not in ['dt']]\n",
    "    filtered_data = ltv_history.pivot_table(\n",
    "        index='dt', columns=columns, values=horizon - 1, aggfunc='mean'\n",
    "    )\n",
    "    filter_data(filtered_data, window).plot(grid=True, ax=ax2)\n",
    "    plt.xlabel('Дата привлечения')\n",
    "    plt.title('Динамика LTV пользователей на {}-й день'.format(horizon))\n",
    "\n",
    "    # третий график — динамика cac\n",
    "    ax3 = plt.subplot(3, 2, 3, sharey=ax1)\n",
    "    # столбцами сводной таблицы станут все столбцы индекса, кроме даты\n",
    "    columns = [name for name in cac_history.index.names if name not in ['dt']]\n",
    "    filtered_data = cac_history.pivot_table(\n",
    "        index='dt', columns=columns, values='cac', aggfunc='mean'\n",
    "    )\n",
    "    filter_data(filtered_data, window).plot(grid=True, ax=ax3)\n",
    "    plt.xlabel('Дата привлечения')\n",
    "    plt.title('Динамика стоимости привлечения пользователей')\n",
    "\n",
    "    # четвёртый график — кривые roi\n",
    "    ax4 = plt.subplot(3, 2, 4)\n",
    "    roi.T.plot(grid=True, ax=ax4)\n",
    "    plt.axhline(y=1, color='red', linestyle='--', label='Уровень окупаемости')\n",
    "    plt.legend()\n",
    "    plt.xlabel('Лайфтайм')\n",
    "    plt.title('ROI')\n",
    "\n",
    "    # пятый график — динамика roi\n",
    "    ax5 = plt.subplot(3, 2, 5, sharey=ax4)\n",
    "    # столбцами сводной таблицы станут все столбцы индекса, кроме даты\n",
    "    columns = [name for name in roi_history.index.names if name not in ['dt']]\n",
    "    filtered_data = roi_history.pivot_table(\n",
    "        index='dt', columns=columns, values=horizon - 1, aggfunc='mean'\n",
    "    )\n",
    "    filter_data(filtered_data, window).plot(grid=True, ax=ax5)\n",
    "    plt.axhline(y=1, color='red', linestyle='--', label='Уровень окупаемости')\n",
    "    plt.xlabel('Дата привлечения')\n",
    "    plt.title('Динамика ROI пользователей на {}-й день'.format(horizon))\n",
    "\n",
    "    plt.tight_layout()\n",
    "    plt.show()"
   ]
  },
  {
   "cell_type": "markdown",
   "metadata": {},
   "source": [
    "## Исследовательский анализ данных"
   ]
  },
  {
   "cell_type": "markdown",
   "metadata": {},
   "source": [
    "Создадим уникальные профили пользователей, которые визуализируем в разрезе стран, устройств, а также рекламных каналов, через которые пользователи пришли в приложение."
   ]
  },
  {
   "cell_type": "markdown",
   "metadata": {},
   "source": [
    "### Создание профилей пользователей"
   ]
  },
  {
   "cell_type": "markdown",
   "metadata": {},
   "source": [
    "Создадим профили пользователей, в которые добавим средний САС на одного пользователя каждой когорты. Воспользуемся для создания функцией get_profiles():"
   ]
  },
  {
   "cell_type": "code",
   "execution_count": 22,
   "metadata": {},
   "outputs": [
    {
     "name": "stdout",
     "output_type": "stream",
     "text": [
      "количество профилей: 150008\n"
     ]
    },
    {
     "data": {
      "text/html": [
       "<div>\n",
       "<style scoped>\n",
       "    .dataframe tbody tr th:only-of-type {\n",
       "        vertical-align: middle;\n",
       "    }\n",
       "\n",
       "    .dataframe tbody tr th {\n",
       "        vertical-align: top;\n",
       "    }\n",
       "\n",
       "    .dataframe thead th {\n",
       "        text-align: right;\n",
       "    }\n",
       "</style>\n",
       "<table border=\"1\" class=\"dataframe\">\n",
       "  <thead>\n",
       "    <tr style=\"text-align: right;\">\n",
       "      <th></th>\n",
       "      <th>user_id</th>\n",
       "      <th>first_ts</th>\n",
       "      <th>channel</th>\n",
       "      <th>device</th>\n",
       "      <th>region</th>\n",
       "      <th>dt</th>\n",
       "      <th>month</th>\n",
       "      <th>payer</th>\n",
       "      <th>acquisition_cost</th>\n",
       "    </tr>\n",
       "  </thead>\n",
       "  <tbody>\n",
       "    <tr>\n",
       "      <th>0</th>\n",
       "      <td>599326</td>\n",
       "      <td>2019-05-07 20:58:57</td>\n",
       "      <td>FaceBoom</td>\n",
       "      <td>Mac</td>\n",
       "      <td>United States</td>\n",
       "      <td>2019-05-07</td>\n",
       "      <td>2019-05-01</td>\n",
       "      <td>True</td>\n",
       "      <td>1.088172</td>\n",
       "    </tr>\n",
       "    <tr>\n",
       "      <th>1</th>\n",
       "      <td>4919697</td>\n",
       "      <td>2019-07-09 12:46:07</td>\n",
       "      <td>FaceBoom</td>\n",
       "      <td>iPhone</td>\n",
       "      <td>United States</td>\n",
       "      <td>2019-07-09</td>\n",
       "      <td>2019-07-01</td>\n",
       "      <td>False</td>\n",
       "      <td>1.107237</td>\n",
       "    </tr>\n",
       "    <tr>\n",
       "      <th>2</th>\n",
       "      <td>6085896</td>\n",
       "      <td>2019-10-01 09:58:33</td>\n",
       "      <td>organic</td>\n",
       "      <td>iPhone</td>\n",
       "      <td>France</td>\n",
       "      <td>2019-10-01</td>\n",
       "      <td>2019-10-01</td>\n",
       "      <td>False</td>\n",
       "      <td>0.000000</td>\n",
       "    </tr>\n",
       "    <tr>\n",
       "      <th>3</th>\n",
       "      <td>22593348</td>\n",
       "      <td>2019-08-22 21:35:48</td>\n",
       "      <td>AdNonSense</td>\n",
       "      <td>PC</td>\n",
       "      <td>Germany</td>\n",
       "      <td>2019-08-22</td>\n",
       "      <td>2019-08-01</td>\n",
       "      <td>False</td>\n",
       "      <td>0.988235</td>\n",
       "    </tr>\n",
       "    <tr>\n",
       "      <th>4</th>\n",
       "      <td>31989216</td>\n",
       "      <td>2019-10-02 00:07:44</td>\n",
       "      <td>YRabbit</td>\n",
       "      <td>iPhone</td>\n",
       "      <td>United States</td>\n",
       "      <td>2019-10-02</td>\n",
       "      <td>2019-10-01</td>\n",
       "      <td>False</td>\n",
       "      <td>0.230769</td>\n",
       "    </tr>\n",
       "  </tbody>\n",
       "</table>\n",
       "</div>"
      ],
      "text/plain": [
       "    user_id            first_ts     channel  device         region  \\\n",
       "0    599326 2019-05-07 20:58:57    FaceBoom     Mac  United States   \n",
       "1   4919697 2019-07-09 12:46:07    FaceBoom  iPhone  United States   \n",
       "2   6085896 2019-10-01 09:58:33     organic  iPhone         France   \n",
       "3  22593348 2019-08-22 21:35:48  AdNonSense      PC        Germany   \n",
       "4  31989216 2019-10-02 00:07:44     YRabbit  iPhone  United States   \n",
       "\n",
       "           dt      month  payer  acquisition_cost  \n",
       "0  2019-05-07 2019-05-01   True          1.088172  \n",
       "1  2019-07-09 2019-07-01  False          1.107237  \n",
       "2  2019-10-01 2019-10-01  False          0.000000  \n",
       "3  2019-08-22 2019-08-01  False          0.988235  \n",
       "4  2019-10-02 2019-10-01  False          0.230769  "
      ]
     },
     "metadata": {},
     "output_type": "display_data"
    }
   ],
   "source": [
    "events=None #выведем из расчета недостающий файл с регистрацией событий\n",
    "profiles = get_profiles(visits, orders, events, costs)\n",
    "print('количество профилей:', len(profiles))\n",
    "display(profiles.head())\n"
   ]
  },
  {
   "cell_type": "markdown",
   "metadata": {},
   "source": [
    "Мы получили 150008 уникальных профилей пользователей, включающих user_id, дату и месяц первого посещения сайта, канал привлечения, устройство, признак плательщика и средние расходы на привлечение одного пользователя, рассчитанные по каждой когорте"
   ]
  },
  {
   "cell_type": "markdown",
   "metadata": {},
   "source": [
    "Найдем минимальную и максимальную дату привлечения пользователей:\n"
   ]
  },
  {
   "cell_type": "code",
   "execution_count": 23,
   "metadata": {},
   "outputs": [
    {
     "name": "stdout",
     "output_type": "stream",
     "text": [
      "Минимальная дата привлечения пользователей 2019-05-01\n",
      "Максимальная дата привлечения пользователей 2019-10-27\n"
     ]
    }
   ],
   "source": [
    "print('Минимальная дата привлечения пользователей', profiles['dt'].min())\n",
    "print('Максимальная дата привлечения пользователей', profiles['dt'].max())"
   ]
  },
  {
   "cell_type": "markdown",
   "metadata": {},
   "source": [
    "### Анализ пользователей в разрезе стран"
   ]
  },
  {
   "cell_type": "markdown",
   "metadata": {},
   "source": [
    "Сгруппируем профили пользователей по региону и рассчитаем количество уникальных пользователей и количество платящих в каждом из них:"
   ]
  },
  {
   "cell_type": "code",
   "execution_count": 24,
   "metadata": {},
   "outputs": [
    {
     "data": {
      "text/html": [
       "<div>\n",
       "<style scoped>\n",
       "    .dataframe tbody tr th:only-of-type {\n",
       "        vertical-align: middle;\n",
       "    }\n",
       "\n",
       "    .dataframe tbody tr th {\n",
       "        vertical-align: top;\n",
       "    }\n",
       "\n",
       "    .dataframe thead th {\n",
       "        text-align: right;\n",
       "    }\n",
       "</style>\n",
       "<table border=\"1\" class=\"dataframe\">\n",
       "  <thead>\n",
       "    <tr style=\"text-align: right;\">\n",
       "      <th></th>\n",
       "      <th>region</th>\n",
       "      <th>user_id</th>\n",
       "      <th>payer</th>\n",
       "      <th>%_region</th>\n",
       "      <th>%_payers</th>\n",
       "    </tr>\n",
       "  </thead>\n",
       "  <tbody>\n",
       "    <tr>\n",
       "      <th>3</th>\n",
       "      <td>United States</td>\n",
       "      <td>100002</td>\n",
       "      <td>6902</td>\n",
       "      <td>66.66</td>\n",
       "      <td>6.90</td>\n",
       "    </tr>\n",
       "    <tr>\n",
       "      <th>2</th>\n",
       "      <td>UK</td>\n",
       "      <td>17575</td>\n",
       "      <td>700</td>\n",
       "      <td>11.72</td>\n",
       "      <td>3.98</td>\n",
       "    </tr>\n",
       "    <tr>\n",
       "      <th>0</th>\n",
       "      <td>France</td>\n",
       "      <td>17450</td>\n",
       "      <td>663</td>\n",
       "      <td>11.63</td>\n",
       "      <td>3.80</td>\n",
       "    </tr>\n",
       "    <tr>\n",
       "      <th>1</th>\n",
       "      <td>Germany</td>\n",
       "      <td>14981</td>\n",
       "      <td>616</td>\n",
       "      <td>9.99</td>\n",
       "      <td>4.11</td>\n",
       "    </tr>\n",
       "  </tbody>\n",
       "</table>\n",
       "</div>"
      ],
      "text/plain": [
       "          region  user_id  payer  %_region  %_payers\n",
       "3  United States   100002   6902     66.66      6.90\n",
       "2             UK    17575    700     11.72      3.98\n",
       "0         France    17450    663     11.63      3.80\n",
       "1        Germany    14981    616      9.99      4.11"
      ]
     },
     "execution_count": 24,
     "metadata": {},
     "output_type": "execute_result"
    }
   ],
   "source": [
    "profiles_region = (\n",
    "    profiles.groupby('region')['user_id', 'payer']\n",
    "    .agg({'user_id': 'count', 'payer':'sum'}).reset_index()\n",
    ")\n",
    "profiles_region['%_region'] = round(profiles_region['user_id'] / profiles_region['user_id'].sum() *100, 2)\n",
    "profiles_region['%_payers'] = round(profiles_region['payer'] / profiles_region['user_id'] *100, 2)\n",
    "profiles_region.sort_values(by='payer', ascending=False)"
   ]
  },
  {
   "cell_type": "markdown",
   "metadata": {},
   "source": [
    "Визуализируем результат:"
   ]
  },
  {
   "cell_type": "code",
   "execution_count": 25,
   "metadata": {},
   "outputs": [
    {
     "data": {
      "image/png": "[encoded data removed]",
      "text/plain": [
       "<Figure size 1152x360 with 2 Axes>"
      ]
     },
     "metadata": {
      "needs_background": "light"
     },
     "output_type": "display_data"
    }
   ],
   "source": [
    "plt.figure(figsize=(16, 5))\n",
    "\n",
    "ax1 = plt.subplot(1, 2, 1)\n",
    "profiles_region.sort_values(by='user_id', ascending=False).plot.bar(\n",
    "                                                           x='region', y=['user_id'], grid=True,\n",
    "                                                           title='Количество пользователей в регионах', \n",
    "                                                           rot=30, ax=ax1).set(xlabel='Регион', \n",
    "                                                                               ylabel='Количество пользователей')\n",
    "\n",
    "ax2 = plt.subplot(1, 2, 2)\n",
    "profiles_region.sort_values(by='%_payers', ascending=False).plot.bar(\n",
    "                                                             x='region', y=['%_payers'], grid=True,\n",
    "                                                             title='Доля платящих пользователей в регионах',\n",
    "                                                             rot=30, color='c',ax=ax2).set(xlabel='Регион', \n",
    "                                                                                           ylabel='Доля в %')\n",
    "\n",
    "plt.show()\n"
   ]
  },
  {
   "cell_type": "markdown",
   "metadata": {},
   "source": [
    "***Вывод:***\n",
    "\n",
    "Наибольшее число пользователей приложения - из США (66%), оставшаяся доля приходится почти поровну на пользователей Великобритании, Франции и Германии. Доля платящих пользователей в общем количестве также выше в США: почти 7% против 4%(+/-) в остальных странах."
   ]
  },
  {
   "cell_type": "markdown",
   "metadata": {},
   "source": [
    "### Анализ устройств пользователей"
   ]
  },
  {
   "cell_type": "markdown",
   "metadata": {},
   "source": [
    "Посмотрим с каких устройств пользователи заходят в приложение. Для этого сгруппируем профили по устройствам и подсчитаем общее количество пользователей и количество перешедших в категорию платящих:"
   ]
  },
  {
   "cell_type": "code",
   "execution_count": 26,
   "metadata": {},
   "outputs": [
    {
     "data": {
      "text/html": [
       "<div>\n",
       "<style scoped>\n",
       "    .dataframe tbody tr th:only-of-type {\n",
       "        vertical-align: middle;\n",
       "    }\n",
       "\n",
       "    .dataframe tbody tr th {\n",
       "        vertical-align: top;\n",
       "    }\n",
       "\n",
       "    .dataframe thead th {\n",
       "        text-align: right;\n",
       "    }\n",
       "</style>\n",
       "<table border=\"1\" class=\"dataframe\">\n",
       "  <thead>\n",
       "    <tr style=\"text-align: right;\">\n",
       "      <th></th>\n",
       "      <th>device</th>\n",
       "      <th>user_id</th>\n",
       "      <th>payer</th>\n",
       "      <th>%_payers</th>\n",
       "    </tr>\n",
       "  </thead>\n",
       "  <tbody>\n",
       "    <tr>\n",
       "      <th>3</th>\n",
       "      <td>iPhone</td>\n",
       "      <td>54479</td>\n",
       "      <td>3382</td>\n",
       "      <td>6.21</td>\n",
       "    </tr>\n",
       "    <tr>\n",
       "      <th>0</th>\n",
       "      <td>Android</td>\n",
       "      <td>35032</td>\n",
       "      <td>2050</td>\n",
       "      <td>5.85</td>\n",
       "    </tr>\n",
       "    <tr>\n",
       "      <th>1</th>\n",
       "      <td>Mac</td>\n",
       "      <td>30042</td>\n",
       "      <td>1912</td>\n",
       "      <td>6.36</td>\n",
       "    </tr>\n",
       "    <tr>\n",
       "      <th>2</th>\n",
       "      <td>PC</td>\n",
       "      <td>30455</td>\n",
       "      <td>1537</td>\n",
       "      <td>5.05</td>\n",
       "    </tr>\n",
       "  </tbody>\n",
       "</table>\n",
       "</div>"
      ],
      "text/plain": [
       "    device  user_id  payer  %_payers\n",
       "3   iPhone    54479   3382      6.21\n",
       "0  Android    35032   2050      5.85\n",
       "1      Mac    30042   1912      6.36\n",
       "2       PC    30455   1537      5.05"
      ]
     },
     "execution_count": 26,
     "metadata": {},
     "output_type": "execute_result"
    }
   ],
   "source": [
    "profiles_device = (\n",
    "    profiles.groupby('device')['user_id', 'payer']\n",
    "    .agg({'user_id': 'count', 'payer':'sum'}).reset_index()\n",
    ")\n",
    "profiles_device['%_payers'] = round(profiles_device['payer'] / profiles_device['user_id'] * 100, 2)\n",
    "profiles_device.sort_values(by='payer', ascending=False)"
   ]
  },
  {
   "cell_type": "markdown",
   "metadata": {},
   "source": [
    "Визуализируем результат:"
   ]
  },
  {
   "cell_type": "code",
   "execution_count": 27,
   "metadata": {},
   "outputs": [
    {
     "data": {
      "image/png": "[encoded data removed]",
      "text/plain": [
       "<Figure size 1152x360 with 2 Axes>"
      ]
     },
     "metadata": {
      "needs_background": "light"
     },
     "output_type": "display_data"
    }
   ],
   "source": [
    "plt.figure(figsize=(16, 5))\n",
    "\n",
    "ax1 = plt.subplot(1, 2, 1)\n",
    "profiles_device.sort_values(by='user_id', ascending=False).plot.bar(\n",
    "                                                           x='device', y=['user_id'], grid=True,\n",
    "                                                           title='Количество пользователей в разрезе устройств', \n",
    "                                                           rot=30, ax=ax1).set(xlabel='Устройство', \n",
    "                                                                               ylabel='Количество пользователей')\n",
    "\n",
    "ax2 = plt.subplot(1, 2, 2)\n",
    "profiles_device.sort_values(by='%_payers', ascending=False).plot.bar(\n",
    "                                                             x='device', y=['%_payers'], grid=True,\n",
    "                                                             title='Доля платящих пользователей устройств',\n",
    "                                                             rot=30,color='c', ax=ax2).set(xlabel='Устройство', \n",
    "                                                                                           ylabel='Доля в %')\n",
    "\n",
    "plt.show()\n"
   ]
  },
  {
   "cell_type": "markdown",
   "metadata": {},
   "source": [
    "***Вывод***\n",
    "\n",
    "Больше всего пользователей заходят в приложение с iPhone (около 6 тыс.пользователей) против 3-5 тыс. пользователей других устройств, доля платящих находится на уровне 5-6.2% и максимальна у пользователей Mac."
   ]
  },
  {
   "cell_type": "markdown",
   "metadata": {},
   "source": [
    "### Анализ рекламных каналов привлечения пользователей"
   ]
  },
  {
   "cell_type": "markdown",
   "metadata": {},
   "source": [
    "Посмотрим из каких рекламных источников приходят в приложение пользователи: сгруппируем профили по рекламному источнику, найдем общее количество и количество платящих пользователей каждого канала."
   ]
  },
  {
   "cell_type": "code",
   "execution_count": 28,
   "metadata": {},
   "outputs": [
    {
     "data": {
      "text/html": [
       "<div>\n",
       "<style scoped>\n",
       "    .dataframe tbody tr th:only-of-type {\n",
       "        vertical-align: middle;\n",
       "    }\n",
       "\n",
       "    .dataframe tbody tr th {\n",
       "        vertical-align: top;\n",
       "    }\n",
       "\n",
       "    .dataframe thead th {\n",
       "        text-align: right;\n",
       "    }\n",
       "</style>\n",
       "<table border=\"1\" class=\"dataframe\">\n",
       "  <thead>\n",
       "    <tr style=\"text-align: right;\">\n",
       "      <th></th>\n",
       "      <th>channel</th>\n",
       "      <th>user_id</th>\n",
       "      <th>payer</th>\n",
       "      <th>%_users</th>\n",
       "      <th>%_payers</th>\n",
       "    </tr>\n",
       "  </thead>\n",
       "  <tbody>\n",
       "    <tr>\n",
       "      <th>10</th>\n",
       "      <td>organic</td>\n",
       "      <td>56439</td>\n",
       "      <td>1160</td>\n",
       "      <td>37.62</td>\n",
       "      <td>2.06</td>\n",
       "    </tr>\n",
       "    <tr>\n",
       "      <th>1</th>\n",
       "      <td>FaceBoom</td>\n",
       "      <td>29144</td>\n",
       "      <td>3557</td>\n",
       "      <td>19.43</td>\n",
       "      <td>12.20</td>\n",
       "    </tr>\n",
       "    <tr>\n",
       "      <th>6</th>\n",
       "      <td>TipTop</td>\n",
       "      <td>19561</td>\n",
       "      <td>1878</td>\n",
       "      <td>13.04</td>\n",
       "      <td>9.60</td>\n",
       "    </tr>\n",
       "    <tr>\n",
       "      <th>4</th>\n",
       "      <td>OppleCreativeMedia</td>\n",
       "      <td>8605</td>\n",
       "      <td>233</td>\n",
       "      <td>5.74</td>\n",
       "      <td>2.71</td>\n",
       "    </tr>\n",
       "    <tr>\n",
       "      <th>2</th>\n",
       "      <td>LeapBob</td>\n",
       "      <td>8553</td>\n",
       "      <td>262</td>\n",
       "      <td>5.70</td>\n",
       "      <td>3.06</td>\n",
       "    </tr>\n",
       "    <tr>\n",
       "      <th>7</th>\n",
       "      <td>WahooNetBanner</td>\n",
       "      <td>8553</td>\n",
       "      <td>453</td>\n",
       "      <td>5.70</td>\n",
       "      <td>5.30</td>\n",
       "    </tr>\n",
       "    <tr>\n",
       "      <th>5</th>\n",
       "      <td>RocketSuperAds</td>\n",
       "      <td>4448</td>\n",
       "      <td>352</td>\n",
       "      <td>2.97</td>\n",
       "      <td>7.91</td>\n",
       "    </tr>\n",
       "    <tr>\n",
       "      <th>3</th>\n",
       "      <td>MediaTornado</td>\n",
       "      <td>4364</td>\n",
       "      <td>156</td>\n",
       "      <td>2.91</td>\n",
       "      <td>3.57</td>\n",
       "    </tr>\n",
       "    <tr>\n",
       "      <th>8</th>\n",
       "      <td>YRabbit</td>\n",
       "      <td>4312</td>\n",
       "      <td>165</td>\n",
       "      <td>2.87</td>\n",
       "      <td>3.83</td>\n",
       "    </tr>\n",
       "    <tr>\n",
       "      <th>0</th>\n",
       "      <td>AdNonSense</td>\n",
       "      <td>3880</td>\n",
       "      <td>440</td>\n",
       "      <td>2.59</td>\n",
       "      <td>11.34</td>\n",
       "    </tr>\n",
       "    <tr>\n",
       "      <th>9</th>\n",
       "      <td>lambdaMediaAds</td>\n",
       "      <td>2149</td>\n",
       "      <td>225</td>\n",
       "      <td>1.43</td>\n",
       "      <td>10.47</td>\n",
       "    </tr>\n",
       "  </tbody>\n",
       "</table>\n",
       "</div>"
      ],
      "text/plain": [
       "               channel  user_id  payer  %_users  %_payers\n",
       "10             organic    56439   1160    37.62      2.06\n",
       "1             FaceBoom    29144   3557    19.43     12.20\n",
       "6               TipTop    19561   1878    13.04      9.60\n",
       "4   OppleCreativeMedia     8605    233     5.74      2.71\n",
       "2              LeapBob     8553    262     5.70      3.06\n",
       "7       WahooNetBanner     8553    453     5.70      5.30\n",
       "5       RocketSuperAds     4448    352     2.97      7.91\n",
       "3         MediaTornado     4364    156     2.91      3.57\n",
       "8              YRabbit     4312    165     2.87      3.83\n",
       "0           AdNonSense     3880    440     2.59     11.34\n",
       "9       lambdaMediaAds     2149    225     1.43     10.47"
      ]
     },
     "execution_count": 28,
     "metadata": {},
     "output_type": "execute_result"
    }
   ],
   "source": [
    "profiles_channel = (\n",
    "    profiles.groupby('channel')['user_id', 'payer']\n",
    "    .agg({'user_id': 'count', 'payer':'sum'}).reset_index()\n",
    ")\n",
    "# % пользователей каждого канала \n",
    "profiles_channel['%_users'] = round(profiles_channel['user_id'] / profiles_channel['user_id'].sum() * 100, 2)\n",
    "# % платящих внутри канала\n",
    "profiles_channel['%_payers'] = round(profiles_channel['payer'] / profiles_channel['user_id'] * 100, 2)\n",
    "\n",
    "profiles_channel.sort_values(by='user_id', ascending=False)"
   ]
  },
  {
   "cell_type": "code",
   "execution_count": 29,
   "metadata": {},
   "outputs": [
    {
     "data": {
      "image/png": "[encoded data removed]",
      "text/plain": [
       "<Figure size 1152x720 with 2 Axes>"
      ]
     },
     "metadata": {
      "needs_background": "light"
     },
     "output_type": "display_data"
    }
   ],
   "source": [
    "plt.figure(figsize=(16, 10))\n",
    "\n",
    "ax1 = plt.subplot(2, 2, 1)\n",
    "profiles_channel.sort_values(by='user_id', ascending=False).plot.bar(\n",
    "                                                           x='channel', y=['user_id'],grid=True,\n",
    "                                                           title='Количество пользователей в разрезе каналов привлечения', \n",
    "                                                           rot=45, ax=ax1).set(xlabel='Канал привлечения', \n",
    "                                                                               ylabel='Количество пользователей')\n",
    "ax2 = plt.subplot(2, 2, 2)\n",
    "profiles_channel.sort_values(by='%_payers', ascending=False).plot.bar(\n",
    "                                                             x='channel', y=['%_payers'], grid=True,\n",
    "                                                             title='Доля плательщиков по каналам привлечения',\n",
    "                                                             rot=45, color='c', ax=ax2).set(xlabel='Канал привлечения', \n",
    "                                                                               ylabel='Доля пользователей')\n",
    "\n",
    "plt.show()"
   ]
  },
  {
   "cell_type": "markdown",
   "metadata": {},
   "source": [
    "56 тыс.пользователей находит приложение самостоятельно (канал \"organic\"), но доля платящих среди такиих пользователей- самая низкая (около 2%). Самые крупные платные рекламные источники -FaceBoom и TipTop, они дают компании 50% пользователей. По доле пользователей, перешедших в категорию платящих, лидируют также FaceBoom (12.2%) и TipTop(9.6%), и два малоиспользуемых рекламных канала- AdNonSense (11.34%) и lambdaMediaAds (10.47%)"
   ]
  },
  {
   "cell_type": "markdown",
   "metadata": {},
   "source": [
    "***Вывод:***\n",
    "\n",
    "\n",
    "В среднем на привлечение одного клиента по проекту расходуется около 70 центов, если исключить из этой массы долю \"organic\" и оставить только платные источники- 1.13 долл.\n",
    "\n",
    "Наибольшее количество пользователей находят приложение сами (пользователи 'organic'), на их привлечение не требуются дополнительные расходы, но доля переходящих в категорию платящих - всего 2%.\n",
    "\n",
    "Самые крупные платные рекламные источники -FaceBoom и TipTop, они дают компании 50% пользователей. По доле платящих пользователей лидируют также FaceBoom (12.2%), TipTop(9.6%), и два малоиспользуемых рекламных канала- AdNonSense (11.34%) и lambdaMediaAds (10.47%)."
   ]
  },
  {
   "cell_type": "markdown",
   "metadata": {},
   "source": [
    "**Вывод по разделу 4:**"
   ]
  },
  {
   "cell_type": "markdown",
   "metadata": {},
   "source": [
    "В нашем распоряжении 150008 уникальных профилей пользователей, включающих user_id, дату и месяц первого посещения сайта, канал привлечения, устройство, признак плательщика и средние расходы на привлечение одного пользователя, рассчитанные по каждой когорте, за период привлечения с мая по октябрь 2019 г. включительно.\n",
    "\n",
    "Наибольшее число пользователей приложения - из США (66%), оставшаяся доля приходится почти поровну на пользователей Великобритании, Франции и Германии. Доля платящих пользователей в общем количестве также выше в США: почти 7% против 4%(+/-) в остальных странах.\n",
    "\n",
    "Больше всего пользователей заходят в приложение с iPhone (около 6 тыс.пользователей) против 3-5 тыс. пользователей других устройств, доля платящих находится на уровне 5-6.2% и максимальна у пользователей Mac.\n",
    "\n",
    "В среднем на привлечение одного клиента в целом по проекту расходуется около 70 центов, а если исключить из этой массы долю \"organic\" и оставить только платные источники- 1.13 долл.на пользователя.\n",
    "\n",
    "Наибольшее количество пользователей находят приложение сами (пользователи 'organic'), на их привлечение не требуются дополнительные расходы, но доля переходящих в категорию платящих - всего 2%.\n",
    "\n",
    "Самые крупные платные рекламные источники -FaceBoom и TipTop, они дают компании 50% пользователей. По доле пользователей, перешедших в категорию платящих, лидируют FaceBoom (12.2%), TipTop(9.6%), и два малоиспользуемых рекламных канала- AdNonSense (11.34%) и lambdaMediaAds (10.47%).\n"
   ]
  },
  {
   "cell_type": "markdown",
   "metadata": {},
   "source": [
    "##  Расходы на маркетинг\n"
   ]
  },
  {
   "cell_type": "markdown",
   "metadata": {},
   "source": [
    "Для того, чтобы понять причины убытков компании, рассмотрим подробнее окупаемость рекламных каналов. Рассчитаем и визуализируем LTV и ROI, вызвав функции get_ltv() и plot_ltv_roi(), проанализируем показатели конверсии и окупаемости."
   ]
  },
  {
   "cell_type": "markdown",
   "metadata": {},
   "source": [
    "### Анализ затрат на каждый источник "
   ]
  },
  {
   "cell_type": "markdown",
   "metadata": {},
   "source": [
    "**Общая сумма расходов на маркетинг:**"
   ]
  },
  {
   "cell_type": "code",
   "execution_count": 30,
   "metadata": {},
   "outputs": [
    {
     "name": "stdout",
     "output_type": "stream",
     "text": [
      "Общая сумма расходов на рекламу: 105497\n"
     ]
    }
   ],
   "source": [
    "print('Общая сумма расходов на рекламу:',int(costs['costs'].sum()))"
   ]
  },
  {
   "cell_type": "markdown",
   "metadata": {},
   "source": [
    "**Распределение суммы расходов на рекламу по источникам:**"
   ]
  },
  {
   "cell_type": "code",
   "execution_count": 31,
   "metadata": {},
   "outputs": [
    {
     "ename": "SpecificationError",
     "evalue": "nested renamer is not supported",
     "output_type": "error",
     "traceback": [
      "\u001b[1;31m---------------------------------------------------------------------------\u001b[0m",
      "\u001b[1;31mSpecificationError\u001b[0m                        Traceback (most recent call last)",
      "Input \u001b[1;32mIn [31]\u001b[0m, in \u001b[0;36m<cell line: 1>\u001b[1;34m()\u001b[0m\n\u001b[1;32m----> 1\u001b[0m profiles_costs \u001b[38;5;241m=\u001b[39m \u001b[43mcosts\u001b[49m\u001b[38;5;241;43m.\u001b[39;49m\u001b[43mgroupby\u001b[49m\u001b[43m(\u001b[49m\u001b[38;5;124;43m'\u001b[39;49m\u001b[38;5;124;43mchannel\u001b[39;49m\u001b[38;5;124;43m'\u001b[39;49m\u001b[43m)\u001b[49m\u001b[43m[\u001b[49m\u001b[38;5;124;43m'\u001b[39;49m\u001b[38;5;124;43mcosts\u001b[39;49m\u001b[38;5;124;43m'\u001b[39;49m\u001b[43m]\u001b[49m\u001b[38;5;241;43m.\u001b[39;49m\u001b[43magg\u001b[49m\u001b[43m(\u001b[49m\u001b[43m{\u001b[49m\u001b[38;5;124;43m'\u001b[39;49m\u001b[38;5;124;43mcosts\u001b[39;49m\u001b[38;5;124;43m'\u001b[39;49m\u001b[43m:\u001b[49m\u001b[38;5;124;43m'\u001b[39;49m\u001b[38;5;124;43msum\u001b[39;49m\u001b[38;5;124;43m'\u001b[39;49m\u001b[43m}\u001b[49m\u001b[43m)\u001b[49m\u001b[38;5;241m.\u001b[39msort_values(by\u001b[38;5;241m=\u001b[39m\u001b[38;5;124m'\u001b[39m\u001b[38;5;124mcosts\u001b[39m\u001b[38;5;124m'\u001b[39m,ascending\u001b[38;5;241m=\u001b[39m\u001b[38;5;28;01mFalse\u001b[39;00m)\n\u001b[0;32m      2\u001b[0m profiles_costs[\u001b[38;5;124m'\u001b[39m\u001b[38;5;124m%\u001b[39m\u001b[38;5;124m'\u001b[39m] \u001b[38;5;241m=\u001b[39m\u001b[38;5;28mround\u001b[39m((profiles_costs[\u001b[38;5;124m'\u001b[39m\u001b[38;5;124mcosts\u001b[39m\u001b[38;5;124m'\u001b[39m] \u001b[38;5;241m/\u001b[39m profiles_costs[\u001b[38;5;124m'\u001b[39m\u001b[38;5;124mcosts\u001b[39m\u001b[38;5;124m'\u001b[39m]\u001b[38;5;241m.\u001b[39msum())\u001b[38;5;241m*\u001b[39m\u001b[38;5;241m100\u001b[39m, \u001b[38;5;241m2\u001b[39m)\n\u001b[0;32m      3\u001b[0m profiles_costs\n",
      "File \u001b[1;32mC:\\python\\lib\\site-packages\\pandas\\core\\groupby\\generic.py:271\u001b[0m, in \u001b[0;36mSeriesGroupBy.aggregate\u001b[1;34m(self, func, engine, engine_kwargs, *args, **kwargs)\u001b[0m\n\u001b[0;32m    267\u001b[0m \u001b[38;5;28;01melif\u001b[39;00m \u001b[38;5;28misinstance\u001b[39m(func, abc\u001b[38;5;241m.\u001b[39mIterable):\n\u001b[0;32m    268\u001b[0m     \u001b[38;5;66;03m# Catch instances of lists / tuples\u001b[39;00m\n\u001b[0;32m    269\u001b[0m     \u001b[38;5;66;03m# but not the class list / tuple itself.\u001b[39;00m\n\u001b[0;32m    270\u001b[0m     func \u001b[38;5;241m=\u001b[39m maybe_mangle_lambdas(func)\n\u001b[1;32m--> 271\u001b[0m     ret \u001b[38;5;241m=\u001b[39m \u001b[38;5;28;43mself\u001b[39;49m\u001b[38;5;241;43m.\u001b[39;49m\u001b[43m_aggregate_multiple_funcs\u001b[49m\u001b[43m(\u001b[49m\u001b[43mfunc\u001b[49m\u001b[43m)\u001b[49m\n\u001b[0;32m    272\u001b[0m     \u001b[38;5;28;01mif\u001b[39;00m relabeling:\n\u001b[0;32m    273\u001b[0m         \u001b[38;5;66;03m# error: Incompatible types in assignment (expression has type\u001b[39;00m\n\u001b[0;32m    274\u001b[0m         \u001b[38;5;66;03m# \"Optional[List[str]]\", variable has type \"Index\")\u001b[39;00m\n\u001b[0;32m    275\u001b[0m         ret\u001b[38;5;241m.\u001b[39mcolumns \u001b[38;5;241m=\u001b[39m columns  \u001b[38;5;66;03m# type: ignore[assignment]\u001b[39;00m\n",
      "File \u001b[1;32mC:\\python\\lib\\site-packages\\pandas\\core\\groupby\\generic.py:307\u001b[0m, in \u001b[0;36mSeriesGroupBy._aggregate_multiple_funcs\u001b[1;34m(self, arg)\u001b[0m\n\u001b[0;32m    301\u001b[0m \u001b[38;5;28;01mdef\u001b[39;00m \u001b[38;5;21m_aggregate_multiple_funcs\u001b[39m(\u001b[38;5;28mself\u001b[39m, arg) \u001b[38;5;241m-\u001b[39m\u001b[38;5;241m>\u001b[39m DataFrame:\n\u001b[0;32m    302\u001b[0m     \u001b[38;5;28;01mif\u001b[39;00m \u001b[38;5;28misinstance\u001b[39m(arg, \u001b[38;5;28mdict\u001b[39m):\n\u001b[0;32m    303\u001b[0m \n\u001b[0;32m    304\u001b[0m         \u001b[38;5;66;03m# show the deprecation, but only if we\u001b[39;00m\n\u001b[0;32m    305\u001b[0m         \u001b[38;5;66;03m# have not shown a higher level one\u001b[39;00m\n\u001b[0;32m    306\u001b[0m         \u001b[38;5;66;03m# GH 15931\u001b[39;00m\n\u001b[1;32m--> 307\u001b[0m         \u001b[38;5;28;01mraise\u001b[39;00m SpecificationError(\u001b[38;5;124m\"\u001b[39m\u001b[38;5;124mnested renamer is not supported\u001b[39m\u001b[38;5;124m\"\u001b[39m)\n\u001b[0;32m    309\u001b[0m     \u001b[38;5;28;01melif\u001b[39;00m \u001b[38;5;28many\u001b[39m(\u001b[38;5;28misinstance\u001b[39m(x, (\u001b[38;5;28mtuple\u001b[39m, \u001b[38;5;28mlist\u001b[39m)) \u001b[38;5;28;01mfor\u001b[39;00m x \u001b[38;5;129;01min\u001b[39;00m arg):\n\u001b[0;32m    310\u001b[0m         arg \u001b[38;5;241m=\u001b[39m [(x, x) \u001b[38;5;28;01mif\u001b[39;00m \u001b[38;5;129;01mnot\u001b[39;00m \u001b[38;5;28misinstance\u001b[39m(x, (\u001b[38;5;28mtuple\u001b[39m, \u001b[38;5;28mlist\u001b[39m)) \u001b[38;5;28;01melse\u001b[39;00m x \u001b[38;5;28;01mfor\u001b[39;00m x \u001b[38;5;129;01min\u001b[39;00m arg]\n",
      "\u001b[1;31mSpecificationError\u001b[0m: nested renamer is not supported"
     ]
    }
   ],
   "source": [
    "profiles_costs = costs.groupby('channel')['costs'].agg({'costs':'sum'}).sort_values(by='costs',ascending=False)\n",
    "profiles_costs['%'] =round((profiles_costs['costs'] / profiles_costs['costs'].sum())*100, 2)\n",
    "profiles_costs"
   ]
  },
  {
   "cell_type": "code",
   "execution_count": null,
   "metadata": {},
   "outputs": [],
   "source": [
    "profiles_costs.plot.barh(y='costs',\n",
    "                    grid=True,title='Расходы на рекламу в разрезе каналов',\n",
    "                     figsize=(8,4)).set(ylabel='Канал привлечения', \n",
    "                     xlabel='Сумма расходов'\n",
    "                      );"
   ]
  },
  {
   "cell_type": "markdown",
   "metadata": {},
   "source": [
    "Общая сумма затрат на маркетинг в период с 2019-05-01 по 2019-10-27 составила 105497 долл. Основная доля расходов направлена на рекламный каналы TipTop (51.9%) и FaceBoom (30.75%)."
   ]
  },
  {
   "cell_type": "markdown",
   "metadata": {},
   "source": [
    "**Динамика расходов в разрезе каналов привлечения:**"
   ]
  },
  {
   "cell_type": "code",
   "execution_count": null,
   "metadata": {},
   "outputs": [],
   "source": [
    "#сводная таблица с группировкой по каналам привлечения\n",
    "pivot_channel = costs.reset_index().pivot_table(\n",
    "                    index='dt', columns = 'channel', \n",
    "                    values = 'costs', aggfunc = 'sum')\n",
    "pivot_channel.head()"
   ]
  },
  {
   "cell_type": "code",
   "execution_count": null,
   "metadata": {},
   "outputs": [],
   "source": [
    "#график динамики расходов\n",
    "pivot_channel.plot(\n",
    "                  grid=True, figsize=(10, 6), title = 'Динамика расходов на каналы привлечения').set(\n",
    "                  xlabel = 'дата', ylabel = 'сумма расходов');"
   ]
  },
  {
   "cell_type": "markdown",
   "metadata": {},
   "source": [
    "В динамике можно увидеть рост направленных на эти же каналы (TipTop и FaceBoom) инвестиций в течение всего исследуемого периода, тогда как остальные каналы привлечения остаются постоянными, а уровень их гораздо ниже."
   ]
  },
  {
   "cell_type": "markdown",
   "metadata": {},
   "source": [
    "***Вывод:***\n",
    "    \n",
    "  Общая сумма затрат на маркетинг в период с 2019-05-01 по 2019-10-27 составила 105497 долл. Основная доля расходов направлена на рекламный каналы TipTop (51.9%) и FaceBoom (30.75%).\n",
    "  \n",
    "  В динамике можно увидеть рост направленных на эти же каналы (TipTop и FaceBoom) инвестиций в течение всего исследуемого периода, тогда как остальные каналы привлечения остаются постоянными, а уровень их гораздо ниже."
   ]
  },
  {
   "cell_type": "markdown",
   "metadata": {},
   "source": [
    "### Средняя стоимость привлечения одного покупателя "
   ]
  },
  {
   "cell_type": "markdown",
   "metadata": {},
   "source": [
    "Рассчитаем среднюю стоимость привлечения пользователя по проекту и на каждом канале. Для этого сгруппируем данные по столбцу acquisition_cost в профиле клиента."
   ]
  },
  {
   "cell_type": "markdown",
   "metadata": {},
   "source": [
    "**Расчет среднего САС на одного пользователя**\n",
    "\n",
    "Исключим из расчета пользователей organic и посчитаем среднее по всем каналам:"
   ]
  },
  {
   "cell_type": "code",
   "execution_count": null,
   "metadata": {
    "scrolled": true
   },
   "outputs": [],
   "source": [
    "print('Средний САС по всем пользователям платных каналов:', round(profiles.query('channel != \"organic\"')['acquisition_cost'].mean(), 2))"
   ]
  },
  {
   "cell_type": "markdown",
   "metadata": {},
   "source": [
    "**Расчет среднего САС на одного пользователя каждого канала:**"
   ]
  },
  {
   "cell_type": "code",
   "execution_count": null,
   "metadata": {},
   "outputs": [],
   "source": [
    "#группируем данные профилей клиентов по каналам привлечения и считаем среднее САС по каждому каналу\n",
    "mean_cost_of_channel = profiles.query('channel != \"organic\"').groupby('channel')['acquisition_cost'].mean().sort_values(ascending=False)\n",
    "mean_cost_of_channel"
   ]
  },
  {
   "cell_type": "code",
   "execution_count": null,
   "metadata": {
    "scrolled": false
   },
   "outputs": [],
   "source": [
    "mean_cost_of_channel.plot.bar(\n",
    "                         grid=True, rot=45, title='Средняя сумма привлечения на пользователя').set(\n",
    "                         xlabel=\"Канал привлечения\", ylabel='Сумма привлечения, долл.');"
   ]
  },
  {
   "cell_type": "markdown",
   "metadata": {},
   "source": [
    "Самые дорогие каналы привлечения (стоимость выше средней) -TipTop (2.8 долл.), FaceBoom (1.11 долл.), AdNonSense (1.0 долл.)."
   ]
  },
  {
   "cell_type": "markdown",
   "metadata": {},
   "source": [
    "**Вывод по разделу 5**"
   ]
  },
  {
   "cell_type": "markdown",
   "metadata": {},
   "source": [
    "Общая сумма затрат на маркетинг в период с 2019-05-01 по 2019-10-27 составила 105497 долл., средняя стоимость привлечения на пользователя по всему проекту- 1.13 долл. Основная доля расходов направлена на рекламный каналы TipTop (51.9%) и FaceBoom (30.75%). В динамике также можно увидеть рост направленных на эти же каналы (TipTop и FaceBoom) инвестиций в течение всего исследуемого периода, тогда как остальные каналы привлечения остаются постоянными, а уровень их гораздо ниже.\n",
    "Самые дорогие каналы привлечения - все те же TipTop (2.8 долл.), FaceBoom (1.11 долл.), а также AdNonSense (1.0 долл.)."
   ]
  },
  {
   "cell_type": "markdown",
   "metadata": {},
   "source": [
    "## Оценка окупаемости рекламы для привлечения пользователей"
   ]
  },
  {
   "cell_type": "markdown",
   "metadata": {},
   "source": [
    "Для выяснения причин низкой окупаемости рекламы рассчитаем LTV, ROI, а также коэффициенты конверсии и удержания пользователей.\n",
    "\n",
    "\n",
    "Поскольку по условиям задачи мы смотрим данные 1-го ноября 2019 года, а в бизнес-плане заложено, что пользователи должны окупаться не позднее чем через две недели после привлечения, установим моментом наблюдения 01.11.2019, а горизонт анализа равным 14 дням:"
   ]
  },
  {
   "cell_type": "code",
   "execution_count": null,
   "metadata": {},
   "outputs": [],
   "source": [
    "observation_date = datetime(2019, 11, 1).date()  # момент анализа\n",
    "horizon_days = 14  # горизонт анализа"
   ]
  },
  {
   "cell_type": "markdown",
   "metadata": {},
   "source": [
    "Кроме того, ограничим наши исследования пользователями, пришедшими на сайт из рекламных каналов, т.е. удалим из расчетов пользователей \"organic\":"
   ]
  },
  {
   "cell_type": "code",
   "execution_count": null,
   "metadata": {},
   "outputs": [],
   "source": [
    "print('Количество всех профилей пользователей:', len(profiles))\n",
    "profiles = profiles.query('channel != \"organic\"')\n",
    "print('Количество профилей пользователей без \"organic\":', len(profiles))"
   ]
  },
  {
   "cell_type": "markdown",
   "metadata": {},
   "source": [
    "### Общая окупаемость рекламы"
   ]
  },
  {
   "cell_type": "markdown",
   "metadata": {},
   "source": [
    "Для начала оценим общую ситуацию c окупаемостью рекламы. Рассчитаем и визуализируем LTV и ROI, вызвав функции get_ltv() и plot_ltv_roi()."
   ]
  },
  {
   "cell_type": "code",
   "execution_count": null,
   "metadata": {
    "scrolled": false
   },
   "outputs": [],
   "source": [
    "# считаем LTV и ROI\n",
    "ltv_raw, ltv_grouped, ltv_history, roi_grouped, roi_history = get_ltv(\n",
    "    profiles, orders, observation_date, horizon_days\n",
    ")\n",
    "# строим графики\n",
    "plot_ltv_roi(ltv_grouped, ltv_history, roi_grouped, roi_history, horizon_days)"
   ]
  },
  {
   "cell_type": "markdown",
   "metadata": {},
   "source": [
    "***Вывод:***\n",
    "\n",
    "На общих графиках мы видим проблему- динамика LTV условно-стабильна (уровень LTV к концу второй недели привлечения примерно одинаков на всем промежутке исследуемого периода), а динамика расходов по их привлечению (САС) постоянно растет, что повлекло за собой снижение окупаемости :к августу ROI окончательно опустился ниже предельного уровня (100%). Реклама не окупается к концу второй недели и дотягивает только до уровня 80%, что идет вразрез с бизнес-планом."
   ]
  },
  {
   "cell_type": "markdown",
   "metadata": {},
   "source": [
    "### Окупаемость рекламы с разбивкой по устройствам"
   ]
  },
  {
   "cell_type": "markdown",
   "metadata": {},
   "source": [
    "Чтобы определить причину снижения окупаемости, рассмотрим те же показатели в разрезе устройств, с которых пользователи выходят на сайт."
   ]
  },
  {
   "cell_type": "code",
   "execution_count": null,
   "metadata": {
    "scrolled": false
   },
   "outputs": [],
   "source": [
    "# смотрим окупаемость с разбивкой по устройствам\n",
    "\n",
    "dimensions = ['device']\n",
    "\n",
    "ltv_raw, ltv_grouped, ltv_history, roi_grouped, roi_history = get_ltv(\n",
    "    profiles, orders, observation_date, horizon_days, dimensions=dimensions\n",
    ")\n",
    "\n",
    "plot_ltv_roi(\n",
    "    ltv_grouped, ltv_history, roi_grouped, roi_history, horizon_days, window=14\n",
    ")"
   ]
  },
  {
   "cell_type": "markdown",
   "metadata": {},
   "source": [
    "***Вывод:***\n",
    "\n",
    "Стабильно не окупаются пользователи всех девайсов: порог окупаемости переходят только пользователи PC, но и то незначительно, и динамика их ROI также падает. На всех девайсах растет стоимость привлечения, самые \"неокупаемые\" при этом -владельцы устройств на IOS."
   ]
  },
  {
   "cell_type": "markdown",
   "metadata": {},
   "source": [
    "### Окупаемость рекламы с разбивкой по странам"
   ]
  },
  {
   "cell_type": "code",
   "execution_count": null,
   "metadata": {
    "scrolled": false
   },
   "outputs": [],
   "source": [
    "# смотрим окупаемость с разбивкой по странам\n",
    "\n",
    "dimensions = ['region']\n",
    "\n",
    "ltv_raw, ltv_grouped, ltv_history, roi_grouped, roi_history = get_ltv(\n",
    "    profiles, orders, observation_date, horizon_days, dimensions=dimensions\n",
    ")\n",
    "\n",
    "plot_ltv_roi(\n",
    "    ltv_grouped, ltv_history, roi_grouped, roi_history, horizon_days, window=14\n",
    ")\n"
   ]
  },
  {
   "cell_type": "markdown",
   "metadata": {},
   "source": [
    "***Вывод***\n",
    "\n",
    "На графиках в разрезе стран ясно видно, как из общей картины выбиваются пользователи США. \n",
    "\n",
    "У них наибольший по сравнению с другими странами LTV, но и наибольшие, постоянно растущие при этом расходы на рекламу: в итоге на 1 доллар выручки с пользователя расходы на его привлечение составляют около 1,75 долл. В итоге США -единственная страна, у которой уровень окупаемости ниже допустимого порога в 100% : ROI в итоге упал почти до 50%. \n",
    "\n",
    "С учетом того, что рынок США составляет 66% от общей массы пользователей, убытки от привлечения пользователей страны полностью перекрывают доходы окупаемых стран (у остальных регионов САС стабилен, маркетинговые расходы окупаются за неделю)."
   ]
  },
  {
   "cell_type": "markdown",
   "metadata": {},
   "source": [
    "### Окупаемость рекламы с разбивкой по рекламным каналам"
   ]
  },
  {
   "cell_type": "markdown",
   "metadata": {},
   "source": [
    "***Рынок США***"
   ]
  },
  {
   "cell_type": "markdown",
   "metadata": {},
   "source": [
    "Поскольку проблемы с окупаемостью рекламы - только на рынке США, далее рассмотрим подробнее только рекламные каналы американского рынка.\n",
    "\n",
    "Для понимания влияния рекламных каналов, которые используются в США, также и на рынки других стран - выясним какие каналы используются и их долю на общем страновом рынке:"
   ]
  },
  {
   "cell_type": "code",
   "execution_count": null,
   "metadata": {},
   "outputs": [],
   "source": [
    "#выделим профили пользователей США\n",
    "profiles_usa = profiles.query('region == \"United States\"')\n",
    "print(len(profiles_usa))"
   ]
  },
  {
   "cell_type": "code",
   "execution_count": null,
   "metadata": {},
   "outputs": [],
   "source": [
    "#считаем количество пользователей США в разбивке по рекламным каналам\n",
    "profiles_channel_usa = (\n",
    "    profiles_usa.groupby('channel')['user_id']\n",
    "    .agg({'user_id': 'count'}).reset_index()\n",
    ")\n",
    "#добавляем количество пользователей этих рекламных каналов во всех регионах\n",
    "profiles_channel_usa.merge(profiles_channel[['channel', 'user_id']], on='channel').rename(\n",
    "                                   columns={'user_id_x':'user_usa', 'user_id_y':'user_all'}\n",
    "                                   ).sort_values(by='user_usa', ascending=False)"
   ]
  },
  {
   "cell_type": "markdown",
   "metadata": {},
   "source": [
    "Рекламные каналы, используемые в США, используются только в США.\n",
    "\n",
    "Рассчитаем окупаемость рекламы на американском рынке с разбивкой по источникам привлечения:"
   ]
  },
  {
   "cell_type": "code",
   "execution_count": null,
   "metadata": {},
   "outputs": [],
   "source": [
    "# смотрим окупаемость с разбивкой по источникам привлечения\n",
    "\n",
    "dimensions = ['channel']\n",
    "\n",
    "ltv_raw, ltv_grouped, ltv_history, roi_grouped, roi_history = get_ltv(\n",
    "    profiles_usa, orders, observation_date, horizon_days, dimensions=dimensions\n",
    ")\n",
    "\n",
    "plot_ltv_roi(\n",
    "    ltv_grouped, ltv_history, roi_grouped, roi_history, horizon_days, window=14\n",
    ")"
   ]
  },
  {
   "cell_type": "markdown",
   "metadata": {},
   "source": [
    "Убыточны только те пользователи США, которые пришли в приложение из двух рекламных каналов,- TipTop и FaceBoom.\n",
    "\n",
    "TipTop показывает самый высокий и стабильный в динамике LTV, но САС при этом постоянной растет: в итоге на каждые 1,5 доллара, полученные от покупателей, тратится на привлечение 3,5 доллара, ROI не поднимается выше 50%.\n",
    "\n",
    "FaceBoom также стабильно убыточен, самый значительный рост его LTV происходит в первые два дня, и хотя он выше нескольких других каналов, а его САС находится на постоянном уровне (около 1,1 долл.), он все-таки недостаточен для окупаемости и находится на уровне 80%.\n",
    "\n",
    "Эти два рекламных канала используются только для рынка США, поэтому оказались убыточны только вложения в рекламу США. "
   ]
  },
  {
   "cell_type": "markdown",
   "metadata": {},
   "source": [
    "***Рынок европейского региона***"
   ]
  },
  {
   "cell_type": "markdown",
   "metadata": {},
   "source": [
    "Посмотрим на европейский рынок:"
   ]
  },
  {
   "cell_type": "code",
   "execution_count": null,
   "metadata": {},
   "outputs": [],
   "source": [
    "profiles_eur  = profiles.query('region != \"United States\"')"
   ]
  },
  {
   "cell_type": "code",
   "execution_count": null,
   "metadata": {},
   "outputs": [],
   "source": [
    "#считаем количество европейских пользователей в разбивке по рекламным каналам\n",
    "\n",
    "profiles_eur.groupby('channel')['user_id'].agg({'user_id': 'count'}).reset_index()"
   ]
  },
  {
   "cell_type": "code",
   "execution_count": null,
   "metadata": {},
   "outputs": [],
   "source": [
    "# смотрим окупаемость с разбивкой по источникам привлечения\n",
    "\n",
    "dimensions = ['channel']\n",
    "\n",
    "ltv_raw, ltv_grouped, ltv_history, roi_grouped, roi_history = get_ltv(\n",
    "    profiles_eur, orders, observation_date, horizon_days, dimensions=dimensions\n",
    ")\n",
    "\n",
    "plot_ltv_roi(\n",
    "    ltv_grouped, ltv_history, roi_grouped, roi_history, horizon_days, window=14\n",
    ")"
   ]
  },
  {
   "cell_type": "markdown",
   "metadata": {},
   "source": [
    "На европейском рынке видим аналогичную ситуацию с каналом AdNonSense: LTV (0.7 долл.), САС (1 долл.), ROI к концу второй недели- 70%.\n",
    "\n",
    "Но есть и каналы с хорошей окупаемостью, уровня которой они достигают за 2 дня: LeapBob и lambdaMediaAds."
   ]
  },
  {
   "cell_type": "markdown",
   "metadata": {},
   "source": [
    "***Вывод:***\n",
    "\n",
    "Убыточны только те пользователи США, которые пришли в приложение из двух рекламных каналов,- TipTop и FaceBoom.\n",
    "\n",
    "TipTop показывает самый высокий и стабильный в динамике LTV, но САС при этом постоянной растет: в итоге на каждые 1,5 доллара, полученные от покупателей, тратится на привлечение 3,5 доллара, ROI не поднимается выше 50%.\n",
    "\n",
    "FaceBoom также стабильно убыточен, самый значительный рост его LTV происходит в первые два дня, и хотя он выше нескольких других каналов, а его САС находится на постоянном уровне (около 1,1 долл.), он все-таки недостаточен для окупаемости и находится на уровне 80%.\n",
    "\n",
    "Эти два рекламных канала используются только для рынка США, поэтому оказались убыточными только вложения в рекламу США. \n",
    "\n",
    "\n",
    "На европейском рынке видим аналогичную ситуацию с каналом AdNonSense: LTV (0.7 долл.), САС (1 долл.), ROI к концу второй недели- 70%. Но есть и каналы с хорошей окупаемостью, уровня которой они достигают за 2 дня: LeapBob и lambdaMediaAds.\n",
    "      "
   ]
  },
  {
   "cell_type": "markdown",
   "metadata": {},
   "source": [
    "### Расчет конверсии и удержания \n",
    "\n",
    "Для того, чтобы понять, чем могут быть вызваны проблемы окупаемости, изучим конверсию и удержание с разбивкой по устройствам, странам, рекламным каналам. Для этого вызовем функции get_conversion(), get_retention и визуализируем результаты с помощью функций plot_conversion() и plot_retention()"
   ]
  },
  {
   "cell_type": "markdown",
   "metadata": {},
   "source": [
    "#### Конверсия и удержание с разбивкой по устройствам"
   ]
  },
  {
   "cell_type": "markdown",
   "metadata": {},
   "source": [
    "Вызовем функции get_conversion() и plot_conversion():"
   ]
  },
  {
   "cell_type": "code",
   "execution_count": null,
   "metadata": {
    "scrolled": true
   },
   "outputs": [],
   "source": [
    "# смотрим конверсию с разбивкой по устройствам\n",
    "dimensions = ['device']\n",
    "conversion_raw, conversion_grouped, conversion_history = get_conversion(\n",
    "    profiles, orders, observation_date, horizon_days, dimensions=dimensions\n",
    ")\n",
    "\n",
    "plot_conversion(conversion_grouped, conversion_history, horizon_days)"
   ]
  },
  {
   "cell_type": "markdown",
   "metadata": {},
   "source": [
    "В целом пользователи Mac, iPhone и Android конвертируются лучше PC, а также можно заметить \"сезонные\" провалы у всех устройств. Каких-либо особенностей у пользователей конкретного вида устройств не наблюдается.\n",
    "\n",
    "Посмотрим на удержание. Вызовем функции get_retention() и plot_retention(), чтобы рассчитать и отразить на графиках этот показатель:"
   ]
  },
  {
   "cell_type": "code",
   "execution_count": null,
   "metadata": {},
   "outputs": [],
   "source": [
    "# смотрим удержание с разбивкой по устройствам\n",
    "\n",
    "retention_raw, retention_grouped, retention_history = get_retention(\n",
    "    profiles, visits, observation_date, horizon_days, dimensions=dimensions\n",
    ")\n",
    "\n",
    "plot_retention(retention_grouped, retention_history, horizon_days)"
   ]
  },
  {
   "cell_type": "markdown",
   "metadata": {},
   "source": [
    "Удержание незначительно выше у пользователей PC, но в целом также нет каких-либо особенностей, которые бы указывали на то, что тип устройства может быть причиной низкой окупаемости."
   ]
  },
  {
   "cell_type": "markdown",
   "metadata": {},
   "source": [
    "***Вывод:***\n",
    "\n",
    "В целом пользователи Mac, iPhone и Android конвертируются лучше PC, также можно заметить \"сезонные\" провалы у всех устройств. \n",
    "Удержание незначительно выше у пользователей PC, но в целом нет каких-либо особенностей, которые бы указывали на то, что тип устройства может быть причиной низкой окупаемости."
   ]
  },
  {
   "cell_type": "markdown",
   "metadata": {},
   "source": [
    "#### Конверсия и удержание с разбивкой по странам"
   ]
  },
  {
   "cell_type": "code",
   "execution_count": null,
   "metadata": {},
   "outputs": [],
   "source": [
    "# смотрим конверсию с разбивкой по странам\n",
    "dimensions = ['region']\n",
    "conversion_raw, conversion_grouped, conversion_history = get_conversion(\n",
    "    profiles, orders, observation_date, horizon_days, dimensions=dimensions\n",
    ")\n",
    "\n",
    "plot_conversion(conversion_grouped, conversion_history, horizon_days)"
   ]
  },
  {
   "cell_type": "markdown",
   "metadata": {},
   "source": [
    "Конверсия пользователей США в 2 раза выше , чем у пользователей других регионов, динамика конверсии на 14-й день также стабильна."
   ]
  },
  {
   "cell_type": "code",
   "execution_count": null,
   "metadata": {},
   "outputs": [],
   "source": [
    "# смотрим удержание с разбивкой по странам\n",
    "\n",
    "retention_raw, retention_grouped, retention_history = get_retention(\n",
    "    profiles, visits, observation_date, horizon_days, dimensions=dimensions\n",
    ")\n",
    "\n",
    "plot_retention(retention_grouped, retention_history, horizon_days)"
   ]
  },
  {
   "cell_type": "markdown",
   "metadata": {},
   "source": [
    "А вот коэффициент удержания платящих пользователей из США явно ниже, чем в остальных странах. То есть при высокой конверсии покупатели США быстро уходят с сайта. "
   ]
  },
  {
   "cell_type": "markdown",
   "metadata": {},
   "source": [
    "***Вывод:***\n",
    "\n",
    "Конверсия пользователей США в 2 раза выше , чем у пользователей других регионов, но коэффициент удержания у платящих пользователей из США явно ниже, чем в остальных странах. То есть при высокой конверсии покупатели США быстро уходят с сайта."
   ]
  },
  {
   "cell_type": "markdown",
   "metadata": {},
   "source": [
    "#### Конверсия и удержание с разбивкой по рекламным каналам"
   ]
  },
  {
   "cell_type": "markdown",
   "metadata": {},
   "source": [
    "***Рынок США***"
   ]
  },
  {
   "cell_type": "markdown",
   "metadata": {},
   "source": [
    "Поскольку проблемы с удержанием только у платящих пользователей из США , ограничим конверсию и удержание с разбивкой по рекламным каналам только профилями США (profiles_usa):"
   ]
  },
  {
   "cell_type": "code",
   "execution_count": null,
   "metadata": {},
   "outputs": [],
   "source": [
    "# смотрим конверсию с разбивкой по рекламным каналам\n",
    "dimensions = ['channel']\n",
    "conversion_raw, conversion_grouped, conversion_history = get_conversion(\n",
    "    profiles_usa, orders, observation_date, horizon_days, dimensions=dimensions\n",
    ")\n",
    "\n",
    "plot_conversion(conversion_grouped, conversion_history, horizon_days)"
   ]
  },
  {
   "cell_type": "markdown",
   "metadata": {},
   "source": [
    "Самая высокая конверсия в США- у пользователей, которые пришли из FaceBoom и TipTop "
   ]
  },
  {
   "cell_type": "code",
   "execution_count": null,
   "metadata": {
    "scrolled": false
   },
   "outputs": [],
   "source": [
    "# смотрим удержание с разбивкой по рекламным каналам\n",
    "\n",
    "retention_raw, retention_grouped, retention_history = get_retention(\n",
    "    profiles_usa, visits, observation_date, horizon_days, dimensions=dimensions\n",
    ")\n",
    "\n",
    "plot_retention(retention_grouped, retention_history, horizon_days)"
   ]
  },
  {
   "cell_type": "markdown",
   "metadata": {},
   "source": [
    "Самое низкое удержание платящих пользователей - у пришедших с FaceBoom: к концу второй недели оно стремится к нулю, изначально принимая значение не более 22%,  тогда как удержание у TipTop в среднем находится на общем уровне с другими каналами привлечения: за 2 недели изменяется с 55% до 20%."
   ]
  },
  {
   "cell_type": "markdown",
   "metadata": {},
   "source": [
    "***Рынок европейских стран***"
   ]
  },
  {
   "cell_type": "markdown",
   "metadata": {},
   "source": [
    "Дополнительно посмотрим европейский регион (profiles_eur):"
   ]
  },
  {
   "cell_type": "code",
   "execution_count": null,
   "metadata": {},
   "outputs": [],
   "source": [
    "# смотрим конверсию с разбивкой по рекламным каналам\n",
    "dimensions = ['channel']\n",
    "conversion_raw, conversion_grouped, conversion_history = get_conversion(\n",
    "    profiles_eur, orders, observation_date, horizon_days, dimensions=dimensions\n",
    ")\n",
    "\n",
    "plot_conversion(conversion_grouped, conversion_history, horizon_days)"
   ]
  },
  {
   "cell_type": "markdown",
   "metadata": {},
   "source": [
    "Самая высокая конверсия- у каналов AdNonSense и lambdaMediaAds, в общей динамике можно заметить их небольшой рост."
   ]
  },
  {
   "cell_type": "code",
   "execution_count": null,
   "metadata": {},
   "outputs": [],
   "source": [
    "# смотрим удержание с разбивкой по рекламным каналам\n",
    "\n",
    "retention_raw, retention_grouped, retention_history = get_retention(\n",
    "    profiles_eur, visits, observation_date, horizon_days, dimensions=dimensions\n",
    ")\n",
    "\n",
    "plot_retention(retention_grouped, retention_history, horizon_days)"
   ]
  },
  {
   "cell_type": "markdown",
   "metadata": {},
   "source": [
    "Европейский канал AdNonSense показывает очень низкое по сравнению с остальными удержание платящих пользователей при уровне конверсии выше других. Остальные каналы идут примерно вровень друг с другом."
   ]
  },
  {
   "cell_type": "markdown",
   "metadata": {},
   "source": [
    "***Вывод:***\n",
    "\n",
    "Самая высокая конверсия в США- у пользователей, которые пришли из FaceBoom и TipTop\n",
    "Самое низкое удержание платящих пользователей - у пришедших с FaceBoom: к концу второй недели оно стремится к нулю, изначально принимая значение не более 22%, тогда как удержание у TipTop в среднем находится на общем уровне с другими каналами привлечения: за 2 недели изменяется с 55% до 20%.\n",
    "\n",
    "На европейском рынке самая высокая конверсия- у каналов AdNonSense и lambdaMediaAds, кроме всего прочего канал AdNonSense показывает очень низкое по сравнению с остальными удержание платящих пользователей. Остальные каналы идут примерно вровень друг с другом."
   ]
  },
  {
   "cell_type": "markdown",
   "metadata": {},
   "source": [
    "**Вывод по разделу 6**"
   ]
  },
  {
   "cell_type": "markdown",
   "metadata": {},
   "source": [
    "При анализе данных мы видим проблему- динамика LTV условно-стабильна (уровень LTV к концу второй недели привлечения примерно одинаков на всем промежутке исследуемого периода), а динамика расходов по их привлечению (САС) постоянно растет, что повлекло за собой снижение окупаемости :к августу ROI окончательно опустился ниже предельного уровня (100%). Реклама не окупается к концу второй недели и дотягивает только до уровня 80%, что идет вразрез с бизнес-планом.\n",
    "\n",
    "Стабильно не окупаются пользователи всех девайсов: порог окупаемости переходят только пользователи PC, но и то незначительно, и динамика их ROI также падает. На всех девайсах растет стоимость привлечения, самые \"неокупаемые\" при этом -владельцы устройств на IOS.\n",
    "\n",
    "На графиках в разрезе стран ясно видно, как из общей картины выбиваются пользователи США: У них наибольший по сравнению с другими странами LTV, но и наибольшие, постоянно растущие при этом расходы на рекламу: в итоге на 1 доллар выручки с пользователя расходы на его привлечение составляют около 1,75 долл. В итоге США -единственная страна, у которой уровень окупаемости ниже допустимого порога в 100% : ROI в итоге упал почти до 50%.\n",
    "\n",
    "С учетом того, что рынок США составляет 66% от общей массы пользователей, убытки от привлечения пользователей страны полностью перекрывают доходы окупаемых стран (у остальных регионов САС стабилен, маркетинговые расходы окупаются за неделю).\n",
    "\n",
    "При детальном рассмотрении становится ясным, что быточны только те пользователи США, которые пришли в приложение из двух рекламных каналов,- TipTop и FaceBoom.\n",
    "\n",
    "TipTop показывает самый высокий и стабильный в динамике LTV, но САС при этом постоянной растет: в итоге на каждые 1,5 доллара, полученные от покупателей, тратится на привлечение 3,5 доллара, ROI не поднимается выше 50%.\n",
    "\n",
    "FaceBoom также стабильно убыточен, самый значительный рост его LTV происходит в первые два дня, и хотя он выше нескольких других каналов, а его САС находится на постоянном уровне (около 1,1 долл.), он все-таки недостаточен для окупаемости и находится на уровне 80%.\n",
    "\n",
    "Эти два рекламных канала используются только для рынка США, поэтому оказались убыточны только вложения в рекламу США.\n",
    "\n",
    "Конверсия пользователей США в 2 раза выше , чем у пользователей других регионов, но коэффициент удержания у платящих пользователей из США явно ниже, чем в остальных странах. То есть при высокой конверсии покупатели США быстро уходят с сайта.\n",
    "При этом самая высокая конверсия в США- у пользователей, которые пришли из FaceBoom и TipTop Самое низкое удержание платящих пользователей - у пришедших с FaceBoom: к концу второй недели оно стремится к нулю, изначально принимая значение не более 22%, тогда как удержание у TipTop в среднем находится на общем уровне с другими каналами привлечения: за 2 недели изменяется с 55% до 20%.\n",
    "\n",
    "\n",
    "На европейском рынке ситуация более оптимистична, низкое качество только у одного канала, который в целом не повлиял на окупаемость рекламы в европейском регионе: это  AdNonSense, ROI которого не превышает 70%, относительно высокая конверсия и очень низкое удержание. Стоит обратить внимание на lambdaMediaAds с высокой конверсией и средним для Европы уровнем удержания, и  2 дня: LeapBob с неплохой окупаемостью."
   ]
  },
  {
   "cell_type": "markdown",
   "metadata": {},
   "source": [
    "## Выводы и рекомендации"
   ]
  },
  {
   "cell_type": "markdown",
   "metadata": {},
   "source": [
    "Представленные для анализа данные содержат информацию о посещениях приложения новыми пользователями, зарегистрировавшимися в период с 2019-05-01 по 2019-10-27, сведениях об их покупках за этот период, а также статистика рекламных расходов. В результате предобработки данных исправлены нарушения стиля в наименовании столбцов и устранено несоотвествие типа данных в столбцах, в которых обозначена дата: с типа object на datetime. \n",
    "\n",
    "\n",
    "Для проведения анализа были сформированы 150008 уникальных профилей пользователей, включающих user_id, дату и месяц первого посещения сайта, канал привлечения, устройство, признак плательщика и средние расходы на привлечение одного пользователя, рассчитанные по каждой когорте, за период привлечения с мая по октябрь 2019 г. включительно.\n",
    "\n",
    "**Результаты анализа:**\n",
    "\n",
    "\n",
    "Наибольшее число пользователей приложения - из США (66%), оставшаяся доля приходится почти поровну на пользователей Великобритании, Франции и Германии. Доля платящих пользователей в общем количестве также выше в США: почти 7% против 4%(+/-) в остальных странах.\n",
    "\n",
    "Больше всего пользователей заходят в приложение с iPhone (около 6 тыс.пользователей) против 3-5 тыс. пользователей других устройств, доля платящих находится на уровне 5-6.2% и максимальна у пользователей Mac.\n",
    "\n",
    "В среднем на привлечение одного клиента в целом по проекту расходуется около 70 центов, а если исключить из этой массы долю \"organic\" и оставить только платные источники- 1.13 долл.на пользователя.\n",
    "\n",
    "Самые крупные платные рекламные источники -FaceBoom и TipTop, они дают компании 50% пользователей. По доле пользователей, перешедших в категорию платящих, лидируют FaceBoom (12.2%), TipTop(9.6%), и два малоиспользуемых рекламных канала- AdNonSense (11.34%) и lambdaMediaAds (10.47%).\n",
    "\n",
    "\n",
    "Общая сумма затрат на маркетинг в период с 2019-05-01 по 2019-10-27 составила 105497 долл., средняя стоимость привлечения на пользователя по всему проекту- 1.13 долл. Основная доля расходов направлена на рекламные каналы TipTop (51.9%) и FaceBoom (30.75%). В динамике также можно увидеть рост направленных на эти же каналы (TipTop и FaceBoom) инвестиций в течение всего исследуемого периода, тогда как остальные каналы привлечения остаются постоянными, а уровень их гораздо ниже. Самые дорогие каналы привлечения - все те же TipTop (2.8 долл.на пользователя), FaceBoom (1.11 долл.), а также AdNonSense (1.0 долл.).\n",
    "\n",
    "Конверсия пользователей США в 2 раза выше , чем у пользователей других регионов, но коэффициент удержания у платящих пользователей из США явно ниже, чем в остальных странах. То есть при высокой конверсии покупатели США быстро уходят с сайта.\n",
    "При детальном рассмотрении становится ясным, что убыточны только те пользователи США, которые пришли в приложение из двух рекламных каналов,- TipTop и FaceBoom:\n",
    "\n",
    "- TipTop показывает самый высокий и стабильный в динамике LTV, но САС при этом постоянной растет: в итоге на каждые 1,5 доллара, полученные от покупателей, тратится на привлечение 3,5 доллара, ROI не поднимается выше 50%.\n",
    "\n",
    "- FaceBoom также стабильно убыточен, самый значительный рост его LTV происходит в первые два дня, и хотя он выше нескольких других каналов, а его САС находится на постоянном уровне (около 1,1 долл.), он все-таки недостаточен для окупаемости и находится на уровне 80%.\n",
    "\n",
    "Самое низкое удержание платящих пользователей - у пришедших с FaceBoom: к концу второй недели оно стремится к нулю, изначально принимая значение не более 22%, тогда как удержание у TipTop в среднем находится на общем уровне с другими каналами привлечения: за 2 недели изменяется с 55% до 20%.\n",
    "\n",
    "\n",
    "Эти два рекламных канала используются только для рынка США, поэтому оказались убыточны только вложения в рекламу США.\n",
    "В итоге США -единственная страна, у которой уровень окупаемости ниже допустимого порога в 100% : ROI в итоге упал почти до 50%.\n",
    "\n",
    "С учетом того, что рынок США составляет 66% от общей массы пользователей, убытки от привлечения пользователей страны полностью перекрывают доходы окупаемых стран (у остальных регионов САС стабилен, маркетинговые расходы окупаются за неделю).\n",
    "\n",
    "\n",
    "Таким образом, причина убытков компании за представленный период - маркетинг, направленный на привлечение пользователей по двум каналам привлечения: TipTop и FaceBoom. Расходы, потраченные на рекламу в этих каналах значительно превышают выручку, которую приносят пришедшие в приложение пользователи: у FaceBoom при высоком уровне конверсии они быстро уходят, не успевая возместить потраченную на их привлечение сумму: у пользователей с FаceBoom очень плохое качество пользователей при больших объемах привлечения (они уходят не успев \"отбить\" сумму потраченных на них денег), а у пользователей TipTop все хорошо и с LTV, и с удержанием, но слишком высокие расходы на привлечение все равно не окупаются, и это влияет отрицательно на финансовый результат  компании.\n",
    "\n",
    "Кроме того, стоит обратить на низкое качество европейского канала AdNonSense, который в целом не повлиял на окупаемость рекламы в европейском регионе но ROI которого не превышает 70% при высокой конверсии и очень низким удержанием. \n",
    "\n",
    "\n",
    "**Рекомендации:**\n",
    "\n",
    " - Проанализировать причину низкого уровня удержания пользователей США, пришедших из рекламных каналов FaceBoom и европейского AdNonSense: пользователи охотно приходят в приложение, делают покупку и не возвращаются. Следовательно, приложение не полностью соответствует их требованиям, либо не содержит то, что им нужно. Если планируется и далее осуществлять вложения в TipTop, FaceBoom и AdNonSense, необходимо более подробно изучить эту группу пользователей посредством налаживания обратной связи, чтобы в будущем персонализировать предложения, целенаправленно информировать клиента о продукции, скидках, бонусах, модифицировать программы лояльности.\n",
    " \n",
    " - Оценить экономическую целесообразность высокой цены привлечения пользователей через канал TipTop: при условии, что пользователи, пришедшие из TipTop, хорошего качества (высокий LTV, хорошая конверсия и удержание), расходы не окупаются.\n",
    " \n",
    " - В целях повышения эффективности вложений обратить внимание на прочие рекламные каналы с хорошей окупаемостью:\n",
    "        \n",
    "        \n",
    "    - В США это YRabbit, MediaTornado и RocketSuperAds. При этом у RocketSuperAds наибольшая из них доля конверсии в             платящих пользователей.\n",
    " \n",
    "     - В европейском регионе перспективным может оказаться lambdaMediaAds с высокой конверсией и средним для Европы               уровнем удержания и LeapBob с неплохой окупаемостью.\n",
    "\n",
    "\n"
   ]
  },
  {
   "cell_type": "code",
   "execution_count": null,
   "metadata": {},
   "outputs": [],
   "source": []
  }
 ],
 "metadata": {
  "ExecuteTimeLog": [
   {
    "duration": 943,
    "start_time": "2022-02-24T15:32:04.102Z"
   },
   {
    "duration": 5698,
    "start_time": "2022-02-24T15:32:05.048Z"
   },
   {
    "duration": -654,
    "start_time": "2022-02-24T15:32:11.405Z"
   },
   {
    "duration": -656,
    "start_time": "2022-02-24T15:32:11.409Z"
   },
   {
    "duration": -659,
    "start_time": "2022-02-24T15:32:11.414Z"
   },
   {
    "duration": -660,
    "start_time": "2022-02-24T15:32:11.417Z"
   },
   {
    "duration": -662,
    "start_time": "2022-02-24T15:32:11.421Z"
   },
   {
    "duration": -663,
    "start_time": "2022-02-24T15:32:11.424Z"
   },
   {
    "duration": -664,
    "start_time": "2022-02-24T15:32:11.427Z"
   },
   {
    "duration": -672,
    "start_time": "2022-02-24T15:32:11.437Z"
   },
   {
    "duration": -674,
    "start_time": "2022-02-24T15:32:11.441Z"
   },
   {
    "duration": -674,
    "start_time": "2022-02-24T15:32:11.443Z"
   },
   {
    "duration": -676,
    "start_time": "2022-02-24T15:32:11.447Z"
   },
   {
    "duration": -677,
    "start_time": "2022-02-24T15:32:11.450Z"
   },
   {
    "duration": -679,
    "start_time": "2022-02-24T15:32:11.454Z"
   },
   {
    "duration": -680,
    "start_time": "2022-02-24T15:32:11.457Z"
   },
   {
    "duration": -680,
    "start_time": "2022-02-24T15:32:11.460Z"
   },
   {
    "duration": -688,
    "start_time": "2022-02-24T15:32:11.469Z"
   },
   {
    "duration": -691,
    "start_time": "2022-02-24T15:32:11.473Z"
   },
   {
    "duration": -691,
    "start_time": "2022-02-24T15:32:11.475Z"
   },
   {
    "duration": -693,
    "start_time": "2022-02-24T15:32:11.478Z"
   },
   {
    "duration": -695,
    "start_time": "2022-02-24T15:32:11.481Z"
   },
   {
    "duration": -695,
    "start_time": "2022-02-24T15:32:11.483Z"
   },
   {
    "duration": -698,
    "start_time": "2022-02-24T15:32:11.487Z"
   },
   {
    "duration": -664,
    "start_time": "2022-02-24T15:32:11.490Z"
   },
   {
    "duration": -665,
    "start_time": "2022-02-24T15:32:11.493Z"
   },
   {
    "duration": -666,
    "start_time": "2022-02-24T15:32:11.496Z"
   },
   {
    "duration": -666,
    "start_time": "2022-02-24T15:32:11.498Z"
   },
   {
    "duration": -668,
    "start_time": "2022-02-24T15:32:11.501Z"
   },
   {
    "duration": -675,
    "start_time": "2022-02-24T15:32:11.510Z"
   },
   {
    "duration": -677,
    "start_time": "2022-02-24T15:32:11.513Z"
   },
   {
    "duration": -855,
    "start_time": "2022-02-24T15:32:11.693Z"
   },
   {
    "duration": -903,
    "start_time": "2022-02-24T15:32:11.742Z"
   },
   {
    "duration": -919,
    "start_time": "2022-02-24T15:32:11.760Z"
   },
   {
    "duration": -920,
    "start_time": "2022-02-24T15:32:11.763Z"
   },
   {
    "duration": -920,
    "start_time": "2022-02-24T15:32:11.765Z"
   },
   {
    "duration": -927,
    "start_time": "2022-02-24T15:32:11.773Z"
   },
   {
    "duration": -928,
    "start_time": "2022-02-24T15:32:11.776Z"
   },
   {
    "duration": -930,
    "start_time": "2022-02-24T15:32:11.779Z"
   },
   {
    "duration": -931,
    "start_time": "2022-02-24T15:32:11.781Z"
   },
   {
    "duration": -932,
    "start_time": "2022-02-24T15:32:11.784Z"
   },
   {
    "duration": -933,
    "start_time": "2022-02-24T15:32:11.786Z"
   },
   {
    "duration": -935,
    "start_time": "2022-02-24T15:32:11.790Z"
   },
   {
    "duration": -936,
    "start_time": "2022-02-24T15:32:11.792Z"
   },
   {
    "duration": -936,
    "start_time": "2022-02-24T15:32:11.795Z"
   },
   {
    "duration": -937,
    "start_time": "2022-02-24T15:32:11.797Z"
   },
   {
    "duration": -938,
    "start_time": "2022-02-24T15:32:11.800Z"
   },
   {
    "duration": -939,
    "start_time": "2022-02-24T15:32:11.802Z"
   },
   {
    "duration": -941,
    "start_time": "2022-02-24T15:32:11.805Z"
   },
   {
    "duration": -882,
    "start_time": "2022-02-24T15:32:11.809Z"
   },
   {
    "duration": -884,
    "start_time": "2022-02-24T15:32:11.812Z"
   },
   {
    "duration": 912,
    "start_time": "2022-02-24T15:33:04.486Z"
   },
   {
    "duration": 1781,
    "start_time": "2022-02-24T15:33:05.400Z"
   },
   {
    "duration": 10,
    "start_time": "2022-02-24T15:33:07.188Z"
   },
   {
    "duration": 761,
    "start_time": "2022-02-24T15:33:07.201Z"
   },
   {
    "duration": 761,
    "start_time": "2022-02-24T15:33:07.964Z"
   },
   {
    "duration": 42,
    "start_time": "2022-02-24T15:33:08.729Z"
   },
   {
    "duration": 7,
    "start_time": "2022-02-24T15:33:08.776Z"
   },
   {
    "duration": 158,
    "start_time": "2022-02-24T15:33:08.826Z"
   },
   {
    "duration": 9385,
    "start_time": "2022-02-24T15:33:08.987Z"
   },
   {
    "duration": -665,
    "start_time": "2022-02-24T15:33:19.041Z"
   },
   {
    "duration": -667,
    "start_time": "2022-02-24T15:33:19.045Z"
   },
   {
    "duration": -671,
    "start_time": "2022-02-24T15:33:19.050Z"
   },
   {
    "duration": -675,
    "start_time": "2022-02-24T15:33:19.056Z"
   },
   {
    "duration": -679,
    "start_time": "2022-02-24T15:33:19.062Z"
   },
   {
    "duration": -681,
    "start_time": "2022-02-24T15:33:19.065Z"
   },
   {
    "duration": -682,
    "start_time": "2022-02-24T15:33:19.068Z"
   },
   {
    "duration": -684,
    "start_time": "2022-02-24T15:33:19.072Z"
   },
   {
    "duration": -686,
    "start_time": "2022-02-24T15:33:19.075Z"
   },
   {
    "duration": -695,
    "start_time": "2022-02-24T15:33:19.086Z"
   },
   {
    "duration": -699,
    "start_time": "2022-02-24T15:33:19.091Z"
   },
   {
    "duration": -701,
    "start_time": "2022-02-24T15:33:19.095Z"
   },
   {
    "duration": -702,
    "start_time": "2022-02-24T15:33:19.098Z"
   },
   {
    "duration": -704,
    "start_time": "2022-02-24T15:33:19.101Z"
   },
   {
    "duration": -705,
    "start_time": "2022-02-24T15:33:19.104Z"
   },
   {
    "duration": -707,
    "start_time": "2022-02-24T15:33:19.107Z"
   },
   {
    "duration": -707,
    "start_time": "2022-02-24T15:33:19.109Z"
   },
   {
    "duration": -708,
    "start_time": "2022-02-24T15:33:19.112Z"
   },
   {
    "duration": -710,
    "start_time": "2022-02-24T15:33:19.115Z"
   },
   {
    "duration": -711,
    "start_time": "2022-02-24T15:33:19.118Z"
   },
   {
    "duration": -713,
    "start_time": "2022-02-24T15:33:19.121Z"
   },
   {
    "duration": -714,
    "start_time": "2022-02-24T15:33:19.123Z"
   },
   {
    "duration": -715,
    "start_time": "2022-02-24T15:33:19.126Z"
   },
   {
    "duration": -718,
    "start_time": "2022-02-24T15:33:19.130Z"
   },
   {
    "duration": -707,
    "start_time": "2022-02-24T15:33:19.133Z"
   },
   {
    "duration": -708,
    "start_time": "2022-02-24T15:33:19.136Z"
   },
   {
    "duration": -709,
    "start_time": "2022-02-24T15:33:19.139Z"
   },
   {
    "duration": -720,
    "start_time": "2022-02-24T15:33:19.151Z"
   },
   {
    "duration": -723,
    "start_time": "2022-02-24T15:33:19.157Z"
   },
   {
    "duration": -724,
    "start_time": "2022-02-24T15:33:19.160Z"
   },
   {
    "duration": -731,
    "start_time": "2022-02-24T15:33:19.169Z"
   },
   {
    "duration": -734,
    "start_time": "2022-02-24T15:33:19.173Z"
   },
   {
    "duration": -734,
    "start_time": "2022-02-24T15:33:19.176Z"
   },
   {
    "duration": -752,
    "start_time": "2022-02-24T15:33:19.196Z"
   },
   {
    "duration": -755,
    "start_time": "2022-02-24T15:33:19.202Z"
   },
   {
    "duration": -757,
    "start_time": "2022-02-24T15:33:19.206Z"
   },
   {
    "duration": -758,
    "start_time": "2022-02-24T15:33:19.209Z"
   },
   {
    "duration": -763,
    "start_time": "2022-02-24T15:33:19.216Z"
   },
   {
    "duration": -768,
    "start_time": "2022-02-24T15:33:19.223Z"
   },
   {
    "duration": -783,
    "start_time": "2022-02-24T15:33:19.239Z"
   },
   {
    "duration": -784,
    "start_time": "2022-02-24T15:33:19.242Z"
   },
   {
    "duration": -787,
    "start_time": "2022-02-24T15:33:19.247Z"
   },
   {
    "duration": 879,
    "start_time": "2022-02-24T15:34:44.634Z"
   },
   {
    "duration": 1115,
    "start_time": "2022-02-24T15:34:45.516Z"
   },
   {
    "duration": 11,
    "start_time": "2022-02-24T15:34:46.634Z"
   },
   {
    "duration": 792,
    "start_time": "2022-02-24T15:34:46.648Z"
   },
   {
    "duration": 102,
    "start_time": "2022-02-24T15:34:47.444Z"
   },
   {
    "duration": 84,
    "start_time": "2022-02-24T15:34:47.550Z"
   },
   {
    "duration": 7,
    "start_time": "2022-02-24T15:34:47.637Z"
   },
   {
    "duration": 126,
    "start_time": "2022-02-24T15:34:47.648Z"
   },
   {
    "duration": 249,
    "start_time": "2022-02-24T15:34:47.778Z"
   },
   {
    "duration": 55,
    "start_time": "2022-02-24T15:34:48.030Z"
   },
   {
    "duration": 18,
    "start_time": "2022-02-24T15:34:48.089Z"
   },
   {
    "duration": 12,
    "start_time": "2022-02-24T15:34:48.125Z"
   },
   {
    "duration": 431,
    "start_time": "2022-02-24T15:34:48.140Z"
   },
   {
    "duration": 12,
    "start_time": "2022-02-24T15:34:48.574Z"
   },
   {
    "duration": 14,
    "start_time": "2022-02-24T15:34:48.590Z"
   },
   {
    "duration": 14,
    "start_time": "2022-02-24T15:34:48.626Z"
   },
   {
    "duration": 24,
    "start_time": "2022-02-24T15:34:48.643Z"
   },
   {
    "duration": 22,
    "start_time": "2022-02-24T15:34:48.670Z"
   },
   {
    "duration": 37,
    "start_time": "2022-02-24T15:34:48.695Z"
   },
   {
    "duration": 31,
    "start_time": "2022-02-24T15:34:48.735Z"
   },
   {
    "duration": 17,
    "start_time": "2022-02-24T15:34:48.769Z"
   },
   {
    "duration": 926,
    "start_time": "2022-02-24T15:34:48.788Z"
   },
   {
    "duration": 35,
    "start_time": "2022-02-24T15:34:49.719Z"
   },
   {
    "duration": 39,
    "start_time": "2022-02-24T15:34:49.757Z"
   },
   {
    "duration": 673,
    "start_time": "2022-02-24T15:34:49.799Z"
   },
   {
    "duration": 34,
    "start_time": "2022-02-24T15:34:50.475Z"
   },
   {
    "duration": 630,
    "start_time": "2022-02-24T15:34:50.527Z"
   },
   {
    "duration": 41,
    "start_time": "2022-02-24T15:34:51.160Z"
   },
   {
    "duration": 1157,
    "start_time": "2022-02-24T15:34:51.204Z"
   },
   {
    "duration": 7,
    "start_time": "2022-02-24T15:34:52.364Z"
   },
   {
    "duration": 28,
    "start_time": "2022-02-24T15:34:52.374Z"
   },
   {
    "duration": 484,
    "start_time": "2022-02-24T15:34:52.427Z"
   },
   {
    "duration": 52,
    "start_time": "2022-02-24T15:34:52.913Z"
   },
   {
    "duration": 539,
    "start_time": "2022-02-24T15:34:52.968Z"
   },
   {
    "duration": 35,
    "start_time": "2022-02-24T15:34:53.509Z"
   },
   {
    "duration": 22,
    "start_time": "2022-02-24T15:34:53.547Z"
   },
   {
    "duration": 365,
    "start_time": "2022-02-24T15:34:53.572Z"
   },
   {
    "duration": 4,
    "start_time": "2022-02-24T15:34:53.940Z"
   },
   {
    "duration": 33,
    "start_time": "2022-02-24T15:34:53.947Z"
   },
   {
    "duration": 3049,
    "start_time": "2022-02-24T15:34:53.983Z"
   },
   {
    "duration": 4180,
    "start_time": "2022-02-24T15:34:57.034Z"
   },
   {
    "duration": 3939,
    "start_time": "2022-02-24T15:35:01.217Z"
   },
   {
    "duration": 20,
    "start_time": "2022-02-24T15:35:05.158Z"
   },
   {
    "duration": 69,
    "start_time": "2022-02-24T15:35:05.180Z"
   },
   {
    "duration": 3834,
    "start_time": "2022-02-24T15:35:05.252Z"
   },
   {
    "duration": 1708,
    "start_time": "2022-02-24T15:35:09.089Z"
   },
   {
    "duration": 3275,
    "start_time": "2022-02-24T15:35:10.801Z"
   },
   {
    "duration": 1795,
    "start_time": "2022-02-24T15:35:14.078Z"
   },
   {
    "duration": 3302,
    "start_time": "2022-02-24T15:35:15.876Z"
   },
   {
    "duration": 1693,
    "start_time": "2022-02-24T15:35:19.180Z"
   },
   {
    "duration": 3150,
    "start_time": "2022-02-24T15:35:20.876Z"
   },
   {
    "duration": 223,
    "start_time": "2022-02-24T16:50:02.927Z"
   },
   {
    "duration": 172,
    "start_time": "2022-02-24T16:50:10.032Z"
   },
   {
    "duration": 183,
    "start_time": "2022-02-24T16:50:29.151Z"
   },
   {
    "duration": 652,
    "start_time": "2022-02-24T16:50:39.631Z"
   },
   {
    "duration": 686,
    "start_time": "2022-02-24T16:50:40.285Z"
   },
   {
    "duration": 6,
    "start_time": "2022-02-24T16:50:40.973Z"
   },
   {
    "duration": 538,
    "start_time": "2022-02-24T16:50:40.981Z"
   },
   {
    "duration": 50,
    "start_time": "2022-02-24T16:50:41.520Z"
   },
   {
    "duration": 27,
    "start_time": "2022-02-24T16:50:41.571Z"
   },
   {
    "duration": 5,
    "start_time": "2022-02-24T16:50:41.630Z"
   },
   {
    "duration": 60,
    "start_time": "2022-02-24T16:50:41.638Z"
   },
   {
    "duration": 187,
    "start_time": "2022-02-24T16:50:41.700Z"
   },
   {
    "duration": 44,
    "start_time": "2022-02-24T16:50:41.888Z"
   },
   {
    "duration": 7,
    "start_time": "2022-02-24T16:50:41.934Z"
   },
   {
    "duration": 6,
    "start_time": "2022-02-24T16:50:41.942Z"
   },
   {
    "duration": 242,
    "start_time": "2022-02-24T16:50:41.950Z"
   },
   {
    "duration": 7,
    "start_time": "2022-02-24T16:50:42.193Z"
   },
   {
    "duration": 10,
    "start_time": "2022-02-24T16:50:42.203Z"
   },
   {
    "duration": 20,
    "start_time": "2022-02-24T16:50:42.215Z"
   },
   {
    "duration": 10,
    "start_time": "2022-02-24T16:50:42.237Z"
   },
   {
    "duration": 9,
    "start_time": "2022-02-24T16:50:42.248Z"
   },
   {
    "duration": 9,
    "start_time": "2022-02-24T16:50:42.258Z"
   },
   {
    "duration": 7,
    "start_time": "2022-02-24T16:50:42.269Z"
   },
   {
    "duration": 11,
    "start_time": "2022-02-24T16:50:42.277Z"
   },
   {
    "duration": 525,
    "start_time": "2022-02-24T16:50:42.290Z"
   },
   {
    "duration": 31,
    "start_time": "2022-02-24T16:50:42.819Z"
   },
   {
    "duration": 28,
    "start_time": "2022-02-24T16:50:42.852Z"
   },
   {
    "duration": 376,
    "start_time": "2022-02-24T16:50:42.882Z"
   },
   {
    "duration": 22,
    "start_time": "2022-02-24T16:50:43.260Z"
   },
   {
    "duration": 362,
    "start_time": "2022-02-24T16:50:43.284Z"
   },
   {
    "duration": 28,
    "start_time": "2022-02-24T16:50:43.647Z"
   },
   {
    "duration": 568,
    "start_time": "2022-02-24T16:50:43.677Z"
   },
   {
    "duration": 4,
    "start_time": "2022-02-24T16:50:44.246Z"
   },
   {
    "duration": 17,
    "start_time": "2022-02-24T16:50:44.252Z"
   },
   {
    "duration": 239,
    "start_time": "2022-02-24T16:50:44.271Z"
   },
   {
    "duration": 32,
    "start_time": "2022-02-24T16:50:44.512Z"
   },
   {
    "duration": 311,
    "start_time": "2022-02-24T16:50:44.546Z"
   },
   {
    "duration": 18,
    "start_time": "2022-02-24T16:50:44.859Z"
   },
   {
    "duration": 14,
    "start_time": "2022-02-24T16:50:47.213Z"
   },
   {
    "duration": 25,
    "start_time": "2022-02-24T16:51:13.121Z"
   },
   {
    "duration": 62,
    "start_time": "2022-02-24T17:45:53.657Z"
   },
   {
    "duration": 54,
    "start_time": "2022-02-24T17:46:09.501Z"
   },
   {
    "duration": 260,
    "start_time": "2022-02-24T17:46:36.721Z"
   },
   {
    "duration": 25,
    "start_time": "2022-02-24T17:47:05.298Z"
   },
   {
    "duration": 46,
    "start_time": "2022-02-24T17:47:30.098Z"
   },
   {
    "duration": 209,
    "start_time": "2022-02-24T17:49:00.683Z"
   },
   {
    "duration": 41,
    "start_time": "2022-02-24T17:50:03.891Z"
   },
   {
    "duration": 176,
    "start_time": "2022-02-24T17:50:10.319Z"
   },
   {
    "duration": 3,
    "start_time": "2022-02-24T17:50:17.054Z"
   },
   {
    "duration": 776,
    "start_time": "2022-02-24T17:50:17.059Z"
   },
   {
    "duration": 7,
    "start_time": "2022-02-24T17:50:17.837Z"
   },
   {
    "duration": 495,
    "start_time": "2022-02-24T17:50:17.846Z"
   },
   {
    "duration": 42,
    "start_time": "2022-02-24T17:50:18.343Z"
   },
   {
    "duration": 56,
    "start_time": "2022-02-24T17:50:18.387Z"
   },
   {
    "duration": 4,
    "start_time": "2022-02-24T17:50:18.446Z"
   },
   {
    "duration": 51,
    "start_time": "2022-02-24T17:50:18.452Z"
   },
   {
    "duration": 163,
    "start_time": "2022-02-24T17:50:18.504Z"
   },
   {
    "duration": 40,
    "start_time": "2022-02-24T17:50:18.668Z"
   },
   {
    "duration": 5,
    "start_time": "2022-02-24T17:50:18.710Z"
   },
   {
    "duration": 19,
    "start_time": "2022-02-24T17:50:18.717Z"
   },
   {
    "duration": 230,
    "start_time": "2022-02-24T17:50:18.737Z"
   },
   {
    "duration": 7,
    "start_time": "2022-02-24T17:50:18.969Z"
   },
   {
    "duration": 8,
    "start_time": "2022-02-24T17:50:18.977Z"
   },
   {
    "duration": 8,
    "start_time": "2022-02-24T17:50:18.987Z"
   },
   {
    "duration": 11,
    "start_time": "2022-02-24T17:50:18.996Z"
   },
   {
    "duration": 3,
    "start_time": "2022-02-24T17:50:19.031Z"
   },
   {
    "duration": 10,
    "start_time": "2022-02-24T17:50:19.037Z"
   },
   {
    "duration": 8,
    "start_time": "2022-02-24T17:50:19.050Z"
   },
   {
    "duration": 11,
    "start_time": "2022-02-24T17:50:19.060Z"
   },
   {
    "duration": 490,
    "start_time": "2022-02-24T17:50:19.073Z"
   },
   {
    "duration": 21,
    "start_time": "2022-02-24T17:50:19.565Z"
   },
   {
    "duration": 26,
    "start_time": "2022-02-24T17:50:19.587Z"
   },
   {
    "duration": 378,
    "start_time": "2022-02-24T17:50:19.630Z"
   },
   {
    "duration": 30,
    "start_time": "2022-02-24T17:50:20.010Z"
   },
   {
    "duration": 358,
    "start_time": "2022-02-24T17:50:20.042Z"
   },
   {
    "duration": 34,
    "start_time": "2022-02-24T17:50:20.402Z"
   },
   {
    "duration": 502,
    "start_time": "2022-02-24T17:50:20.438Z"
   },
   {
    "duration": 4,
    "start_time": "2022-02-24T17:50:20.941Z"
   },
   {
    "duration": 20,
    "start_time": "2022-02-24T17:50:20.946Z"
   },
   {
    "duration": 224,
    "start_time": "2022-02-24T17:50:20.968Z"
   },
   {
    "duration": 23,
    "start_time": "2022-02-24T17:50:21.193Z"
   },
   {
    "duration": 313,
    "start_time": "2022-02-24T17:50:21.230Z"
   },
   {
    "duration": 17,
    "start_time": "2022-02-24T17:50:21.544Z"
   },
   {
    "duration": 24,
    "start_time": "2022-02-24T17:50:21.563Z"
   },
   {
    "duration": 288,
    "start_time": "2022-02-24T17:50:21.589Z"
   },
   {
    "duration": 3,
    "start_time": "2022-02-24T17:50:21.878Z"
   },
   {
    "duration": 26,
    "start_time": "2022-02-24T17:50:21.882Z"
   },
   {
    "duration": 1746,
    "start_time": "2022-02-24T17:50:21.910Z"
   },
   {
    "duration": 2279,
    "start_time": "2022-02-24T17:50:23.658Z"
   },
   {
    "duration": 2595,
    "start_time": "2022-02-24T17:50:25.939Z"
   },
   {
    "duration": 13,
    "start_time": "2022-02-24T17:50:28.536Z"
   },
   {
    "duration": 21,
    "start_time": "2022-02-24T17:50:28.551Z"
   },
   {
    "duration": 2322,
    "start_time": "2022-02-24T17:50:28.574Z"
   },
   {
    "duration": 37,
    "start_time": "2022-02-24T17:50:30.953Z"
   },
   {
    "duration": 2275,
    "start_time": "2022-02-24T17:50:30.992Z"
   },
   {
    "duration": 49,
    "start_time": "2022-02-24T18:00:17.513Z"
   },
   {
    "duration": 2396,
    "start_time": "2022-02-24T18:00:24.994Z"
   },
   {
    "duration": 199,
    "start_time": "2022-02-24T18:05:14.165Z"
   },
   {
    "duration": 48,
    "start_time": "2022-02-24T18:05:25.652Z"
   },
   {
    "duration": 20,
    "start_time": "2022-02-24T18:06:48.431Z"
   },
   {
    "duration": 11,
    "start_time": "2022-02-24T18:07:19.701Z"
   },
   {
    "duration": 44,
    "start_time": "2022-02-24T18:07:30.820Z"
   },
   {
    "duration": 11,
    "start_time": "2022-02-24T18:07:41.813Z"
   },
   {
    "duration": 35,
    "start_time": "2022-02-24T18:07:49.533Z"
   },
   {
    "duration": 27,
    "start_time": "2022-02-24T18:08:11.233Z"
   },
   {
    "duration": 37,
    "start_time": "2022-02-24T18:10:34.915Z"
   },
   {
    "duration": 27,
    "start_time": "2022-02-24T18:11:12.658Z"
   },
   {
    "duration": 168,
    "start_time": "2022-02-24T18:11:51.282Z"
   },
   {
    "duration": 11,
    "start_time": "2022-02-24T18:11:57.998Z"
   },
   {
    "duration": 14,
    "start_time": "2022-02-24T18:11:58.557Z"
   },
   {
    "duration": 2286,
    "start_time": "2022-02-24T18:12:17.902Z"
   },
   {
    "duration": 22,
    "start_time": "2022-02-24T18:15:13.346Z"
   },
   {
    "duration": 1809,
    "start_time": "2022-02-24T18:25:17.586Z"
   },
   {
    "duration": 900,
    "start_time": "2022-02-24T18:32:30.079Z"
   },
   {
    "duration": 82,
    "start_time": "2022-02-24T18:54:29.049Z"
   },
   {
    "duration": 606,
    "start_time": "2022-02-24T18:58:03.783Z"
   },
   {
    "duration": 671,
    "start_time": "2022-02-24T18:58:04.390Z"
   },
   {
    "duration": 6,
    "start_time": "2022-02-24T18:58:05.063Z"
   },
   {
    "duration": 499,
    "start_time": "2022-02-24T18:58:05.071Z"
   },
   {
    "duration": 61,
    "start_time": "2022-02-24T18:58:05.572Z"
   },
   {
    "duration": 26,
    "start_time": "2022-02-24T18:58:05.635Z"
   },
   {
    "duration": 5,
    "start_time": "2022-02-24T18:58:05.662Z"
   },
   {
    "duration": 87,
    "start_time": "2022-02-24T18:58:05.669Z"
   },
   {
    "duration": 158,
    "start_time": "2022-02-24T18:58:05.759Z"
   },
   {
    "duration": 39,
    "start_time": "2022-02-24T18:58:05.919Z"
   },
   {
    "duration": 5,
    "start_time": "2022-02-24T18:58:05.960Z"
   },
   {
    "duration": 7,
    "start_time": "2022-02-24T18:58:05.967Z"
   },
   {
    "duration": 255,
    "start_time": "2022-02-24T18:58:05.976Z"
   },
   {
    "duration": 7,
    "start_time": "2022-02-24T18:58:06.233Z"
   },
   {
    "duration": 7,
    "start_time": "2022-02-24T18:58:06.242Z"
   },
   {
    "duration": 7,
    "start_time": "2022-02-24T18:58:06.251Z"
   },
   {
    "duration": 10,
    "start_time": "2022-02-24T18:58:06.260Z"
   },
   {
    "duration": 7,
    "start_time": "2022-02-24T18:58:06.271Z"
   },
   {
    "duration": 7,
    "start_time": "2022-02-24T18:58:06.280Z"
   },
   {
    "duration": 13,
    "start_time": "2022-02-24T18:58:06.289Z"
   },
   {
    "duration": 31,
    "start_time": "2022-02-24T18:58:06.303Z"
   },
   {
    "duration": 509,
    "start_time": "2022-02-24T18:58:06.336Z"
   },
   {
    "duration": 22,
    "start_time": "2022-02-24T18:58:06.848Z"
   },
   {
    "duration": 26,
    "start_time": "2022-02-24T18:58:06.872Z"
   },
   {
    "duration": 572,
    "start_time": "2022-02-24T18:58:06.900Z"
   },
   {
    "duration": 23,
    "start_time": "2022-02-24T18:58:07.474Z"
   },
   {
    "duration": 355,
    "start_time": "2022-02-24T18:58:07.499Z"
   },
   {
    "duration": 27,
    "start_time": "2022-02-24T18:58:07.855Z"
   },
   {
    "duration": 591,
    "start_time": "2022-02-24T18:58:07.883Z"
   },
   {
    "duration": 3,
    "start_time": "2022-02-24T18:58:08.477Z"
   },
   {
    "duration": 17,
    "start_time": "2022-02-24T18:58:08.482Z"
   },
   {
    "duration": 221,
    "start_time": "2022-02-24T18:58:08.500Z"
   },
   {
    "duration": 31,
    "start_time": "2022-02-24T18:58:08.723Z"
   },
   {
    "duration": 347,
    "start_time": "2022-02-24T18:58:08.756Z"
   },
   {
    "duration": 31,
    "start_time": "2022-02-24T18:58:09.105Z"
   },
   {
    "duration": 24,
    "start_time": "2022-02-24T18:58:09.138Z"
   },
   {
    "duration": 213,
    "start_time": "2022-02-24T18:58:09.164Z"
   },
   {
    "duration": 2,
    "start_time": "2022-02-24T18:58:09.379Z"
   },
   {
    "duration": 20,
    "start_time": "2022-02-24T18:58:09.383Z"
   },
   {
    "duration": 1950,
    "start_time": "2022-02-24T18:58:09.405Z"
   },
   {
    "duration": 2579,
    "start_time": "2022-02-24T18:58:11.357Z"
   },
   {
    "duration": 2386,
    "start_time": "2022-02-24T18:58:13.938Z"
   },
   {
    "duration": 15,
    "start_time": "2022-02-24T18:58:16.325Z"
   },
   {
    "duration": 20,
    "start_time": "2022-02-24T18:58:16.342Z"
   },
   {
    "duration": 2388,
    "start_time": "2022-02-24T18:58:16.364Z"
   },
   {
    "duration": 11,
    "start_time": "2022-02-24T18:58:18.753Z"
   },
   {
    "duration": 12,
    "start_time": "2022-02-24T18:58:18.766Z"
   },
   {
    "duration": 2280,
    "start_time": "2022-02-24T18:58:18.780Z"
   },
   {
    "duration": 1127,
    "start_time": "2022-02-24T18:58:21.062Z"
   },
   {
    "duration": 2073,
    "start_time": "2022-02-24T18:58:22.191Z"
   },
   {
    "duration": 1040,
    "start_time": "2022-02-24T18:58:24.265Z"
   },
   {
    "duration": 2068,
    "start_time": "2022-02-24T18:58:25.307Z"
   },
   {
    "duration": 1024,
    "start_time": "2022-02-24T18:58:27.377Z"
   },
   {
    "duration": 1885,
    "start_time": "2022-02-24T18:58:28.403Z"
   },
   {
    "duration": 926,
    "start_time": "2022-02-24T18:58:30.290Z"
   },
   {
    "duration": 1721,
    "start_time": "2022-02-24T18:58:31.218Z"
   },
   {
    "duration": 72,
    "start_time": "2022-02-24T19:05:06.851Z"
   },
   {
    "duration": 718,
    "start_time": "2022-02-25T07:57:29.480Z"
   },
   {
    "duration": 1255,
    "start_time": "2022-02-25T07:57:30.199Z"
   },
   {
    "duration": 7,
    "start_time": "2022-02-25T07:57:31.456Z"
   },
   {
    "duration": 591,
    "start_time": "2022-02-25T07:57:31.465Z"
   },
   {
    "duration": 56,
    "start_time": "2022-02-25T07:57:32.058Z"
   },
   {
    "duration": 56,
    "start_time": "2022-02-25T07:57:32.116Z"
   },
   {
    "duration": 5,
    "start_time": "2022-02-25T07:57:32.174Z"
   },
   {
    "duration": 69,
    "start_time": "2022-02-25T07:57:32.182Z"
   },
   {
    "duration": 192,
    "start_time": "2022-02-25T07:57:32.253Z"
   },
   {
    "duration": 53,
    "start_time": "2022-02-25T07:57:32.447Z"
   },
   {
    "duration": 6,
    "start_time": "2022-02-25T07:57:32.502Z"
   },
   {
    "duration": 8,
    "start_time": "2022-02-25T07:57:32.510Z"
   },
   {
    "duration": 250,
    "start_time": "2022-02-25T07:57:32.520Z"
   },
   {
    "duration": 8,
    "start_time": "2022-02-25T07:57:32.771Z"
   },
   {
    "duration": 10,
    "start_time": "2022-02-25T07:57:32.781Z"
   },
   {
    "duration": 13,
    "start_time": "2022-02-25T07:57:32.793Z"
   },
   {
    "duration": 10,
    "start_time": "2022-02-25T07:57:32.808Z"
   },
   {
    "duration": 13,
    "start_time": "2022-02-25T07:57:32.820Z"
   },
   {
    "duration": 9,
    "start_time": "2022-02-25T07:57:32.835Z"
   },
   {
    "duration": 29,
    "start_time": "2022-02-25T07:57:32.846Z"
   },
   {
    "duration": 12,
    "start_time": "2022-02-25T07:57:32.876Z"
   },
   {
    "duration": 535,
    "start_time": "2022-02-25T07:57:32.890Z"
   },
   {
    "duration": 29,
    "start_time": "2022-02-25T07:57:33.428Z"
   },
   {
    "duration": 29,
    "start_time": "2022-02-25T07:57:33.468Z"
   },
   {
    "duration": 430,
    "start_time": "2022-02-25T07:57:33.499Z"
   },
   {
    "duration": 25,
    "start_time": "2022-02-25T07:57:33.931Z"
   },
   {
    "duration": 433,
    "start_time": "2022-02-25T07:57:33.970Z"
   },
   {
    "duration": 29,
    "start_time": "2022-02-25T07:57:34.405Z"
   },
   {
    "duration": 649,
    "start_time": "2022-02-25T07:57:34.435Z"
   },
   {
    "duration": 4,
    "start_time": "2022-02-25T07:57:35.086Z"
   },
   {
    "duration": 30,
    "start_time": "2022-02-25T07:57:35.092Z"
   },
   {
    "duration": 262,
    "start_time": "2022-02-25T07:57:35.124Z"
   },
   {
    "duration": 26,
    "start_time": "2022-02-25T07:57:35.388Z"
   },
   {
    "duration": 390,
    "start_time": "2022-02-25T07:57:35.415Z"
   },
   {
    "duration": 19,
    "start_time": "2022-02-25T07:57:35.807Z"
   },
   {
    "duration": 45,
    "start_time": "2022-02-25T07:57:35.828Z"
   },
   {
    "duration": 251,
    "start_time": "2022-02-25T07:57:35.876Z"
   },
   {
    "duration": 3,
    "start_time": "2022-02-25T07:57:36.129Z"
   },
   {
    "duration": 35,
    "start_time": "2022-02-25T07:57:36.134Z"
   },
   {
    "duration": 2129,
    "start_time": "2022-02-25T07:57:36.172Z"
   },
   {
    "duration": 2774,
    "start_time": "2022-02-25T07:57:38.303Z"
   },
   {
    "duration": 2753,
    "start_time": "2022-02-25T07:57:41.079Z"
   },
   {
    "duration": 16,
    "start_time": "2022-02-25T07:57:43.835Z"
   },
   {
    "duration": 24,
    "start_time": "2022-02-25T07:57:43.870Z"
   },
   {
    "duration": 2859,
    "start_time": "2022-02-25T07:57:43.895Z"
   },
   {
    "duration": 20,
    "start_time": "2022-02-25T07:57:46.756Z"
   },
   {
    "duration": 13,
    "start_time": "2022-02-25T07:57:46.778Z"
   },
   {
    "duration": 2625,
    "start_time": "2022-02-25T07:57:46.793Z"
   },
   {
    "duration": 1279,
    "start_time": "2022-02-25T07:57:49.420Z"
   },
   {
    "duration": 2288,
    "start_time": "2022-02-25T07:57:50.701Z"
   },
   {
    "duration": 1190,
    "start_time": "2022-02-25T07:57:52.991Z"
   },
   {
    "duration": 2268,
    "start_time": "2022-02-25T07:57:54.183Z"
   },
   {
    "duration": 1269,
    "start_time": "2022-02-25T07:57:56.453Z"
   },
   {
    "duration": 2107,
    "start_time": "2022-02-25T07:57:57.724Z"
   },
   {
    "duration": 1056,
    "start_time": "2022-02-25T07:57:59.833Z"
   },
   {
    "duration": 2097,
    "start_time": "2022-02-25T07:58:00.891Z"
   },
   {
    "duration": 4,
    "start_time": "2022-02-25T08:00:10.241Z"
   },
   {
    "duration": 333,
    "start_time": "2022-02-25T08:00:18.745Z"
   }
  ],
  "kernelspec": {
   "display_name": "Python 3 (ipykernel)",
   "language": "python",
   "name": "python3"
  },
  "language_info": {
   "codemirror_mode": {
    "name": "ipython",
    "version": 3
   },
   "file_extension": ".py",
   "mimetype": "text/x-python",
   "name": "python",
   "nbconvert_exporter": "python",
   "pygments_lexer": "ipython3",
   "version": "3.10.4"
  },
  "toc": {
   "base_numbering": 1,
   "nav_menu": {},
   "number_sections": true,
   "sideBar": true,
   "skip_h1_title": true,
   "title_cell": "Table of Contents",
   "title_sidebar": "Contents",
   "toc_cell": false,
   "toc_position": {
    "height": "calc(100% - 180px)",
    "left": "10px",
    "top": "150px",
    "width": "419px"
   },
   "toc_section_display": true,
   "toc_window_display": true
  }
 },
 "nbformat": 4,
 "nbformat_minor": 4
}
