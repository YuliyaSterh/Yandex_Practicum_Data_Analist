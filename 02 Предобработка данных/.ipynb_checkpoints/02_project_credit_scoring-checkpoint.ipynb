{
 "cells": [
  {
   "cell_type": "markdown",
   "metadata": {
    "id": "E0vqbgi9ay0H"
   },
   "source": [
    "# Исследование надёжности заёмщиков¶\n",
    "Заказчик — кредитный отдел банка. Нужно разобраться, влияет ли семейное положение и количество детей клиента на факт погашения кредита в срок. Входные данные от банка — статистика о платёжеспособности клиентов.\n",
    "\n",
    "Результаты исследования будут учтены при построении модели кредитного скоринга — специальной системы, которая оценивает способность потенциального заёмщика вернуть кредит банку."
   ]
  },
  {
   "cell_type": "markdown",
   "metadata": {},
   "source": [
    "# Описание проекта.\n",
    "\n",
    "По представленным статичтическим данным о платежеспособности клиентов банка необходимо провести исследование- влияет ли семейное положение и количество детей клиента на факт погашения кредита в срок. \n",
    "Результаты исследования будут учтены при построении модели кредитного скоринга — специальной системы, которая оценивает способность потенциального заёмщика вернуть кредит банку.\n",
    "\n",
    "###### Цель исследования — проверить гипотезы:\n",
    "Существует ли зависимость:\n",
    "- между наличием детей и возвратом кредита в срок;\n",
    "- между семейным положением и возвратом кредита в срок;\n",
    "- между уровнем дохода и возвратом кредита в срок;\n",
    "- между целью кредита и его возврат в срок.\n",
    "\n",
    "###### Ход исследования\n",
    "\n",
    "Данные о поведении пользователей (статистика о платёжеспособности клиентов)- в файле /datasets/data.csv. О качестве данных ничего не известно. Поэтому перед проверкой гипотез понадобится обзор данных.\n",
    "\n",
    "Проверим данные на ошибки и оценим их влияние на исследование. Затем, на этапе предобработки поищем возможность исправить самые критичные ошибки данных.\n",
    "\n",
    "Таким образом, исследование пройдёт в три этапа:\n",
    "\n",
    "- Обзор данных.\n",
    "- Предобработка данных.\n",
    "- Проверка гипотез."
   ]
  },
  {
   "cell_type": "markdown",
   "metadata": {
    "id": "Ml1hmfXC_Zcs"
   },
   "source": [
    "## Обзор данных\n",
    "\n",
    "Импортируем библиотеки, необходимые для исследования (Pandas, pymystem3), cоставляем первое представление о данных: читаем файл и сохраняем его в переменной df:\n"
   ]
  },
  {
   "cell_type": "code",
   "execution_count": 1,
   "metadata": {
    "id": "AXN7PHPN_Zcs"
   },
   "outputs": [],
   "source": [
    "#импорт библиотек\n",
    "import pandas as pd\n",
    "import seaborn\n",
    "from pymystem3 import Mystem  \n",
    "from collections import Counter\n",
    "\n",
    "#чтение файла\n",
    "try:\n",
    "    df = pd.read_csv('D:\\Yuliy\\Documents\\Курс Аналитик данных\\проекты\\sprint_3\\data.csv')\n",
    "except:    \n",
    "    df = pd.read_csv('/datasets/data.csv')"
   ]
  },
  {
   "cell_type": "markdown",
   "metadata": {
    "id": "rDoOMd3uTqnZ"
   },
   "source": [
    "Выведем для наглядности на экран первые десять строк таблицы:"
   ]
  },
  {
   "cell_type": "code",
   "execution_count": 2,
   "metadata": {
    "id": "oWTVX3gW_Zct"
   },
   "outputs": [
    {
     "data": {
      "text/html": [
       "<div>\n",
       "<style scoped>\n",
       "    .dataframe tbody tr th:only-of-type {\n",
       "        vertical-align: middle;\n",
       "    }\n",
       "\n",
       "    .dataframe tbody tr th {\n",
       "        vertical-align: top;\n",
       "    }\n",
       "\n",
       "    .dataframe thead th {\n",
       "        text-align: right;\n",
       "    }\n",
       "</style>\n",
       "<table border=\"1\" class=\"dataframe\">\n",
       "  <thead>\n",
       "    <tr style=\"text-align: right;\">\n",
       "      <th></th>\n",
       "      <th>children</th>\n",
       "      <th>days_employed</th>\n",
       "      <th>dob_years</th>\n",
       "      <th>education</th>\n",
       "      <th>education_id</th>\n",
       "      <th>family_status</th>\n",
       "      <th>family_status_id</th>\n",
       "      <th>gender</th>\n",
       "      <th>income_type</th>\n",
       "      <th>debt</th>\n",
       "      <th>total_income</th>\n",
       "      <th>purpose</th>\n",
       "    </tr>\n",
       "  </thead>\n",
       "  <tbody>\n",
       "    <tr>\n",
       "      <td>0</td>\n",
       "      <td>1</td>\n",
       "      <td>-8437.673028</td>\n",
       "      <td>42</td>\n",
       "      <td>высшее</td>\n",
       "      <td>0</td>\n",
       "      <td>женат / замужем</td>\n",
       "      <td>0</td>\n",
       "      <td>F</td>\n",
       "      <td>сотрудник</td>\n",
       "      <td>0</td>\n",
       "      <td>253875.639453</td>\n",
       "      <td>покупка жилья</td>\n",
       "    </tr>\n",
       "    <tr>\n",
       "      <td>1</td>\n",
       "      <td>1</td>\n",
       "      <td>-4024.803754</td>\n",
       "      <td>36</td>\n",
       "      <td>среднее</td>\n",
       "      <td>1</td>\n",
       "      <td>женат / замужем</td>\n",
       "      <td>0</td>\n",
       "      <td>F</td>\n",
       "      <td>сотрудник</td>\n",
       "      <td>0</td>\n",
       "      <td>112080.014102</td>\n",
       "      <td>приобретение автомобиля</td>\n",
       "    </tr>\n",
       "    <tr>\n",
       "      <td>2</td>\n",
       "      <td>0</td>\n",
       "      <td>-5623.422610</td>\n",
       "      <td>33</td>\n",
       "      <td>Среднее</td>\n",
       "      <td>1</td>\n",
       "      <td>женат / замужем</td>\n",
       "      <td>0</td>\n",
       "      <td>M</td>\n",
       "      <td>сотрудник</td>\n",
       "      <td>0</td>\n",
       "      <td>145885.952297</td>\n",
       "      <td>покупка жилья</td>\n",
       "    </tr>\n",
       "    <tr>\n",
       "      <td>3</td>\n",
       "      <td>3</td>\n",
       "      <td>-4124.747207</td>\n",
       "      <td>32</td>\n",
       "      <td>среднее</td>\n",
       "      <td>1</td>\n",
       "      <td>женат / замужем</td>\n",
       "      <td>0</td>\n",
       "      <td>M</td>\n",
       "      <td>сотрудник</td>\n",
       "      <td>0</td>\n",
       "      <td>267628.550329</td>\n",
       "      <td>дополнительное образование</td>\n",
       "    </tr>\n",
       "    <tr>\n",
       "      <td>4</td>\n",
       "      <td>0</td>\n",
       "      <td>340266.072047</td>\n",
       "      <td>53</td>\n",
       "      <td>среднее</td>\n",
       "      <td>1</td>\n",
       "      <td>гражданский брак</td>\n",
       "      <td>1</td>\n",
       "      <td>F</td>\n",
       "      <td>пенсионер</td>\n",
       "      <td>0</td>\n",
       "      <td>158616.077870</td>\n",
       "      <td>сыграть свадьбу</td>\n",
       "    </tr>\n",
       "  </tbody>\n",
       "</table>\n",
       "</div>"
      ],
      "text/plain": [
       "   children  days_employed  dob_years education  education_id  \\\n",
       "0         1   -8437.673028         42    высшее             0   \n",
       "1         1   -4024.803754         36   среднее             1   \n",
       "2         0   -5623.422610         33   Среднее             1   \n",
       "3         3   -4124.747207         32   среднее             1   \n",
       "4         0  340266.072047         53   среднее             1   \n",
       "\n",
       "      family_status  family_status_id gender income_type  debt   total_income  \\\n",
       "0   женат / замужем                 0      F   сотрудник     0  253875.639453   \n",
       "1   женат / замужем                 0      F   сотрудник     0  112080.014102   \n",
       "2   женат / замужем                 0      M   сотрудник     0  145885.952297   \n",
       "3   женат / замужем                 0      M   сотрудник     0  267628.550329   \n",
       "4  гражданский брак                 1      F   пенсионер     0  158616.077870   \n",
       "\n",
       "                      purpose  \n",
       "0               покупка жилья  \n",
       "1     приобретение автомобиля  \n",
       "2               покупка жилья  \n",
       "3  дополнительное образование  \n",
       "4             сыграть свадьбу  "
      ]
     },
     "execution_count": 2,
     "metadata": {},
     "output_type": "execute_result"
    }
   ],
   "source": [
    "df.head()"
   ]
  },
  {
   "cell_type": "markdown",
   "metadata": {
    "id": "EO73Kwic_Zct"
   },
   "source": [
    "Получим общую информацию о таблице:"
   ]
  },
  {
   "cell_type": "code",
   "execution_count": 3,
   "metadata": {
    "id": "DSf2kIb-_Zct",
    "scrolled": true
   },
   "outputs": [
    {
     "name": "stdout",
     "output_type": "stream",
     "text": [
      "<class 'pandas.core.frame.DataFrame'>\n",
      "RangeIndex: 21525 entries, 0 to 21524\n",
      "Data columns (total 12 columns):\n",
      "children            21525 non-null int64\n",
      "days_employed       19351 non-null float64\n",
      "dob_years           21525 non-null int64\n",
      "education           21525 non-null object\n",
      "education_id        21525 non-null int64\n",
      "family_status       21525 non-null object\n",
      "family_status_id    21525 non-null int64\n",
      "gender              21525 non-null object\n",
      "income_type         21525 non-null object\n",
      "debt                21525 non-null int64\n",
      "total_income        19351 non-null float64\n",
      "purpose             21525 non-null object\n",
      "dtypes: float64(2), int64(5), object(5)\n",
      "memory usage: 2.0+ MB\n"
     ]
    }
   ],
   "source": [
    "df.info()"
   ]
  },
  {
   "cell_type": "markdown",
   "metadata": {
    "id": "TaQ2Iwbr_Zct"
   },
   "source": [
    "В таблице 12 столбцов. Тип данных в столбцах — `object`, `int64` и `float64`.\n",
    "\n",
    "###### Описание данных:\n",
    "* `children` — количество детей в семье;\n",
    "* `days_employed` — общий трудовой стаж в днях\n",
    "* `dob_years` — возраст клиента в годах\n",
    "* `education` — уровень образования клиента\n",
    "* `education_id` — идентификатор уровня образования\n",
    "* `family_status` — семейное положение\n",
    "* `family_status_id` — идентификатор семейного положения\n",
    "* `gender` — пол клиента\n",
    "* `income_type` — тип занятости\n",
    "* `debt` — имел ли задолженность по возврату кредитов\n",
    "* `total_income` — ежемесячный доход\n",
    "* `purpose` — цель получения кредита\n",
    "\n",
    "\n",
    "    Предварительная оценка качества данных:\n",
    "\n",
    "- в названиях колонок нарушения стиля отсутствуют. \n",
    "\n",
    "- количество значений в столбцах различается. Значит, в данных есть пропущенные значения (столбцы 'days_employed', 'total_income'). Все пропущенные значения 'days_employed' и 'total_income' находятся  в одних и тех же строках, но, например, из значений 'income_type' в этих строках (работающий человек не может не иметь стажа и дохода) понятно, что имеет место техническая ошибка при выгрузке конкретных строк.\n",
    "\n",
    "- столбец 'days_employed' содержит отрицательные значения (общий трудовой стаж не может быть отрицательным числом), а также значения, значительно большие, чем продолжительность жизни человека (например, 100, 900 лет)- скорее всего это данные не в днях, а в часах. Вероятно данные выгружены из нескольких источников.\n",
    "\n",
    "- столбец 'children'содержит значения \"-1\" и \"20\". Можно предположить, что значение \"-1\"- результат выгрузки части данных из источника, учитывающего как  \"-1\" отсутствие значений, а \"20\" - опечатка (клавиши 2 и 0 находятся недалеко друг от друга), и имелось в виду значение \"2\"\n",
    "\n",
    "- столбец 'dob_years' содержит значения возраста, равные \"0\" лет. Возможно это ошибка при выгрузке либо результат некорректного заполнения первоисточника. \n",
    "\n",
    "- столбец  'education' содержит значения, написанные в разном регистре. Это может затруднить категоризацию данных для дальнейшего анализа. Причина- либо выгрузка из нескольких источников, либо просто бессистемное заполнение данных исполнителем."
   ]
  },
  {
   "cell_type": "markdown",
   "metadata": {
    "id": "MCB6-dXG_Zct"
   },
   "source": [
    "**Выводы**\n",
    "\n",
    " В каждой строке таблицы — данные о клиенте-получателе кредита. Часть колонок описывает характеристики клиента: его возраст, пол, семейное положение, количество детей, тип занятости, доход.  Остальные данные являются частью кредитной истории клиента: цель получения кредита, наличие/отсутствие задолженности по возврату кредита.\n",
    "    \n",
    "\n",
    "Предварительно можно утверждать, что, данных достаточно для проверки гипотез. Но данные, скорее всего, взяты из разных источников, что является результатом несопоставимости данных в некоторых столбцах и пропусков, а также предположительны ошибки при выгрузке и из-за некорректного заполнения первоисточников исполнителем. \n",
    "    \n",
    "\n",
    "Для корректного анализа попытаемся устранить выявленные ошибки, для чего проведем более подробную проверку каждого столбца  в следующем разделе.\n"
   ]
  },
  {
   "cell_type": "markdown",
   "metadata": {
    "id": "SjYF6Ub9_Zct"
   },
   "source": [
    "## Предобработка данных\n",
    "Цель предобработки данных -исключить пропуски, а также проверка данных на дубликаты."
   ]
  },
  {
   "cell_type": "markdown",
   "metadata": {
    "id": "5ISfbcfY_Zct"
   },
   "source": [
    "### Пропуски значений\n",
    "Подсчитаем сколько в таблице пропущенных значений:"
   ]
  },
  {
   "cell_type": "code",
   "execution_count": 4,
   "metadata": {
    "id": "RskX29qr_Zct",
    "scrolled": true
   },
   "outputs": [
    {
     "data": {
      "text/plain": [
       "children               0\n",
       "days_employed       2174\n",
       "dob_years              0\n",
       "education              0\n",
       "education_id           0\n",
       "family_status          0\n",
       "family_status_id       0\n",
       "gender                 0\n",
       "income_type            0\n",
       "debt                   0\n",
       "total_income        2174\n",
       "purpose                0\n",
       "dtype: int64"
      ]
     },
     "execution_count": 4,
     "metadata": {},
     "output_type": "execute_result"
    }
   ],
   "source": [
    "# подсчет явных пропущенных значений\n",
    "\n",
    "df.isna().sum()"
   ]
  },
  {
   "cell_type": "code",
   "execution_count": 5,
   "metadata": {
    "scrolled": true
   },
   "outputs": [
    {
     "name": "stdout",
     "output_type": "stream",
     "text": [
      "<class 'pandas.core.frame.DataFrame'>\n",
      "Int64Index: 2174 entries, 12 to 21510\n",
      "Data columns (total 12 columns):\n",
      "children            2174 non-null int64\n",
      "days_employed       0 non-null float64\n",
      "dob_years           2174 non-null int64\n",
      "education           2174 non-null object\n",
      "education_id        2174 non-null int64\n",
      "family_status       2174 non-null object\n",
      "family_status_id    2174 non-null int64\n",
      "gender              2174 non-null object\n",
      "income_type         2174 non-null object\n",
      "debt                2174 non-null int64\n",
      "total_income        0 non-null float64\n",
      "purpose             2174 non-null object\n",
      "dtypes: float64(2), int64(5), object(5)\n",
      "memory usage: 220.8+ KB\n"
     ]
    }
   ],
   "source": [
    "#выборка строк с пропущенными значениями 'days_employed' и 'total_income'\n",
    "\n",
    "df_nan = df[(df['days_employed'].isna())&(df['total_income'].isna())]\n",
    "df_nan.info()\n"
   ]
  },
  {
   "cell_type": "markdown",
   "metadata": {
    "id": "qubhgnlO_Zct"
   },
   "source": [
    "Как видим, все пропущенные значения попали в выборку df_nan но, например, из значений 'income_type' понятно, что имеет место техническая ошибка при выгрузке конкретных строк (если клиент работает, то стаж и доход не могут быть нулевыми) Вероятно, имеет место техническая ошибка при выгрузке.\n",
    "Но т.к. в данном случае установить конкретную причину пропусков и восстановить данные не представляется возможным, наша цель -заполнить их реальными значениями.\n"
   ]
  },
  {
   "cell_type": "markdown",
   "metadata": {
    "id": "fSv2laPA_Zct"
   },
   "source": [
    "#### Исправление значений в столбце \"days_employed\" и заполнение пропусков\n",
    "Перед тем, чтобы заполнить пустые поля значениями, приведем данные колонки days_employed к корректным значениям, для чего сделаем небольшой анализ данных столбца:"
   ]
  },
  {
   "cell_type": "code",
   "execution_count": 6,
   "metadata": {},
   "outputs": [
    {
     "name": "stdout",
     "output_type": "stream",
     "text": [
      "Значения 'days_employed' в годах:\n",
      "максимум в отрицательных значениях:  -0.06614146093282515\n",
      "минимум в отрицательных значениях:  -50.38068465909146\n",
      "\n",
      "максимум в положительных значениях:  1100.6997273296713\n",
      "минимум в положительных значениях:  900.6266317932007\n",
      "\n",
      "Тип занятости клиента в строках со значением стажа 'days_employed'>0: \n",
      "пенсионер      3443\n",
      "безработный       2\n",
      "Name: income_type, dtype: int64\n"
     ]
    }
   ],
   "source": [
    "#выявим диапазон отрицательных и положительных значений стажа в годах в стоблце'days_employed':\n",
    "print('Значения \\'days_employed\\' в годах:')\n",
    "print('максимум в отрицательных значениях: ',df[df['days_employed']<0]['days_employed'].max()/365)\n",
    "print('минимум в отрицательных значениях: ',df[df['days_employed']<0]['days_employed'].min()/365)\n",
    "print()\n",
    "print('максимум в положительных значениях: ',df[df['days_employed']>=0]['days_employed'].max()/365)\n",
    "print('минимум в положительных значениях: ',df[df['days_employed']>=0]['days_employed'].min()/365)\n",
    "print()\n",
    "\n",
    "# тип занятости клиента в выборке days_employed'>0:\n",
    "print('Тип занятости клиента в строках со значением стажа \\'days_employed\\'>0: ')\n",
    "print(df[df['days_employed']>=0]['income_type'].value_counts())\n",
    "\n"
   ]
  },
  {
   "cell_type": "markdown",
   "metadata": {},
   "source": [
    "Из анализа заполненных данных 'days_employed' можно сделать следующие выводы:\n",
    "- Данные с отрицательным значением в целом соответствуют реальности, но нужно заменить значение с отрицательного на положительный;\n",
    "- Данные со знаком \"+\" не соответствуют реальным значениям и составляют от 900 до 1100 лет для одного клиента. При этом подавляющее количество этих клиентов- пенсионеры. Можно предположить, что данные представлены в часах, для сопоставимости общей картины необходимо привести их к дням:"
   ]
  },
  {
   "cell_type": "code",
   "execution_count": 7,
   "metadata": {},
   "outputs": [
    {
     "name": "stdout",
     "output_type": "stream",
     "text": [
      "Значения 'days_employed' в годах после внесения изменений: \n",
      "максимум в положительных значениях:  45.8624886387363\n",
      "минимум в положительных значениях:  37.526109658050025\n",
      "\n",
      "Количество отрицательных значений после изменения:  0.0\n"
     ]
    }
   ],
   "source": [
    "#приведение значений 'days_employed' со знаком \"+\" из количества часов к количеству дней:\n",
    "df.loc[df['days_employed']>=0,'days_employed'] = df[df['days_employed']>=0]['days_employed']/24\n",
    "\n",
    "#проверка минимального и максимального значений в выборке 'days_employed']>=0 на \"правдоподобность\":\n",
    "print('Значения \\'days_employed\\' в годах после внесения изменений: ')\n",
    "print('максимум в положительных значениях: ',df[df['days_employed']>=0]['days_employed'].max()/365)\n",
    "print('минимум в положительных значениях: ',df[df['days_employed']>=0]['days_employed'].min()/365)\n",
    "print()\n",
    "\n",
    "#приведение значений со знаком \"-\" к \"+\":\n",
    "df['days_employed'] = df['days_employed'].apply(abs)\n",
    "\n",
    "#количество отрицательных значений после изменения:\n",
    "print('Количество отрицательных значений после изменения: ',\n",
    "      df[df['days_employed']<0]['days_employed'].sum()\n",
    ")"
   ]
  },
  {
   "cell_type": "markdown",
   "metadata": {},
   "source": [
    "Для заполнения отсутствующих данных в столбце 'days_employed' применим расчет медианы для клиентов, сгруппированных по типу занятости ('income_type').\n",
    "\n",
    "Примечание: Данные столбца 'dob_years'(возраст клиента) невозможно применить в данной группировке, т.к. в некоторых строках значениях возраста одновременно присутствует возраст 0 лет(скрытые пропуски) и пропущено значение стажа (days_employed). Остальные данные по смыслу не подходят для данного расчета."
   ]
  },
  {
   "cell_type": "code",
   "execution_count": 8,
   "metadata": {},
   "outputs": [
    {
     "name": "stdout",
     "output_type": "stream",
     "text": [
      "1.уникальные значения income_type: \n",
      " сотрудник          11119\n",
      "компаньон           5085\n",
      "пенсионер           3856\n",
      "госслужащий         1459\n",
      "предприниматель        2\n",
      "безработный            2\n",
      "в декрете              1\n",
      "студент                1\n",
      "Name: income_type, dtype: int64\n",
      "\n",
      "2.пропуски до изменений:  2174\n",
      "\n",
      "пропуски после изменений:  0\n"
     ]
    }
   ],
   "source": [
    "#Заполнение отсутствующих данных в days_employed\n",
    "\n",
    "#1.проверяем столбец тип занятости income_type на дубликаты значений\n",
    "print('1.уникальные значения income_type:','\\n', df['income_type'].value_counts())\n",
    "print()\n",
    "\n",
    "#2.изменяем значение days_employed , равное нулю,\n",
    "#на медиану, рассчитанную по каждой группировке income_type\n",
    "\n",
    "print('2.пропуски до изменений: ', df['days_employed'].isna().sum())\n",
    "print()\n",
    "\n",
    "for type in df['income_type'].unique():\n",
    "    median_days_employed = df.loc[df['income_type']==type, 'days_employed'].median()\n",
    "    #print(type, median_days_employed)\n",
    "    df.loc[(df['days_employed'].isna()) & (df['income_type']==type),'days_employed'] = median_days_employed\n",
    "\n",
    "print('пропуски после изменений: ', df['days_employed'].isna().sum())    "
   ]
  },
  {
   "cell_type": "markdown",
   "metadata": {},
   "source": [
    "**Вывод**"
   ]
  },
  {
   "cell_type": "markdown",
   "metadata": {},
   "source": [
    "В процессе анализа столбца \"days_employed\" были выявлены данные с отрицательным значением (заменены на положительные), данные с положительным значением скорректированы с учетом предположения, что в связи с формированием исходной базы данных из разных источников они представлены в часах (приведены к значениям в днях).\n",
    "Затем для заполнения отсутствующих данных (NaN) был применен расчет медианы для клиентов, сгруппированных по типу занятости ('income_type').Таким образом, пропуски полностью заполнены."
   ]
  },
  {
   "cell_type": "markdown",
   "metadata": {},
   "source": [
    "#### Исправление значений в столбце 'total_income' и заполнение пропусков':"
   ]
  },
  {
   "cell_type": "markdown",
   "metadata": {},
   "source": [
    "Для заполнения отсутствующих данных (NaN) в столбце 'total_income' применим расчет медианы для клиентов, сгруппированных по типу занятости ('income_type'), поскольку возраст, как и стаж клиента не гарантирует определенного уровня дохода, а некоторая зависимость дохода от типа занятости существует. "
   ]
  },
  {
   "cell_type": "code",
   "execution_count": 9,
   "metadata": {},
   "outputs": [
    {
     "name": "stdout",
     "output_type": "stream",
     "text": [
      "1.пропуски до изменений:  2174\n",
      "2.пропуски после изменений:  0\n"
     ]
    }
   ],
   "source": [
    "#заполняем значения total_income , равные Nan,\n",
    "#на медиану, рассчитанную по каждой группировке income_type\n",
    "\n",
    "print('1.пропуски до изменений: ', df['total_income'].isna().sum())\n",
    "\n",
    "for type in df['income_type'].unique():\n",
    "    median_total_income = df.loc[df['income_type']==type, 'total_income'].median()\n",
    "    df.loc[(df['total_income'].isna()) & (df['income_type']==type),'total_income'] = median_total_income\n",
    "\n",
    "  \n",
    "print('2.пропуски после изменений: ', df['total_income'].isna().sum())    \n"
   ]
  },
  {
   "cell_type": "markdown",
   "metadata": {},
   "source": [
    "Убедимся, что в таблице не осталось пропусков. Для этого ещё раз посчитаем пропущенные значения:"
   ]
  },
  {
   "cell_type": "code",
   "execution_count": 10,
   "metadata": {},
   "outputs": [
    {
     "data": {
      "text/plain": [
       "children            0\n",
       "days_employed       0\n",
       "dob_years           0\n",
       "education           0\n",
       "education_id        0\n",
       "family_status       0\n",
       "family_status_id    0\n",
       "gender              0\n",
       "income_type         0\n",
       "debt                0\n",
       "total_income        0\n",
       "purpose             0\n",
       "dtype: int64"
      ]
     },
     "execution_count": 10,
     "metadata": {},
     "output_type": "execute_result"
    }
   ],
   "source": [
    "df.isna().sum()"
   ]
  },
  {
   "cell_type": "markdown",
   "metadata": {},
   "source": [
    "**Вывод**"
   ]
  },
  {
   "cell_type": "markdown",
   "metadata": {},
   "source": [
    "Пропущенные значения столбца 'total_income' заполнены медианами, рассчитанными с учетом группировок по столбцу 'income_type'."
   ]
  },
  {
   "cell_type": "markdown",
   "metadata": {},
   "source": [
    "#### Проверка на скрытые пропуски и ошибки столбцов 'gender', 'children', 'dob_years'\n",
    "\n",
    "##### Проверка столбца 'genger':"
   ]
  },
  {
   "cell_type": "code",
   "execution_count": 11,
   "metadata": {},
   "outputs": [
    {
     "name": "stdout",
     "output_type": "stream",
     "text": [
      "1.уникальные значения столбца 'пол' 'gender:'\n",
      "F      14236\n",
      "M       7288\n",
      "XNA        1\n",
      "Name: gender, dtype: int64\n",
      "\n",
      "2.Данные клиента со значением df['gender']==XNA:\n",
      "       children  days_employed  dob_years            education  education_id  \\\n",
      "10701         0    2358.600502         24  неоконченное высшее             2   \n",
      "\n",
      "          family_status  family_status_id gender income_type  debt  \\\n",
      "10701  гражданский брак                 1    XNA   компаньон     0   \n",
      "\n",
      "        total_income               purpose  \n",
      "10701  203905.157261  покупка недвижимости  \n",
      "\n",
      "3.Значение до изменения:  XNA\n",
      "Значение после изменения:  F\n"
     ]
    }
   ],
   "source": [
    "# проверим данные 'gender' на корректность:\n",
    "print('1.уникальные значения столбца \\'пол\\' \\'gender:\\'')\n",
    "print(df['gender'].value_counts())\n",
    "print()\n",
    "\n",
    "#находим строку со значением XNA\n",
    "print('''2.Данные клиента со значением df['gender']==XNA:''' )\n",
    "print(df.loc[df['gender']=='XNA'])\n",
    "print()\n",
    "\n",
    "#в связи с невозможностью определить пол по данным клиента\n",
    "#и незначительностью в выборке (1 значение из 21525), изменим\n",
    "#значение 'XNA' на наиболее часто встречающееся 'F' \n",
    "#в ячейке df.loc[10701,'gender']\n",
    "print('3.Значение до изменения: ',df.loc[10701,'gender'])\n",
    "df.loc[10701,'gender'] = 'F'\n",
    "\n",
    "#проверяем смену значения:\n",
    "print('Значение после изменения: ',df.loc[10701,'gender'])\n"
   ]
  },
  {
   "cell_type": "markdown",
   "metadata": {},
   "source": [
    "**Вывод**"
   ]
  },
  {
   "cell_type": "markdown",
   "metadata": {},
   "source": [
    "Выявлен один случайный пропуск в виде значения \"XNA\", заполнен вручную наиболее часто встречающимся значением \"F\""
   ]
  },
  {
   "cell_type": "markdown",
   "metadata": {},
   "source": [
    "##### Проверка столбца 'children':"
   ]
  },
  {
   "cell_type": "code",
   "execution_count": 12,
   "metadata": {},
   "outputs": [
    {
     "name": "stdout",
     "output_type": "stream",
     "text": [
      "уникальные значения поля 'количество детей в семье' 'children:'\n",
      " 0     14149\n",
      " 1      4818\n",
      " 2      2055\n",
      " 3       330\n",
      " 20       76\n",
      "-1        47\n",
      " 4        41\n",
      " 5         9\n",
      "Name: children, dtype: int64\n"
     ]
    }
   ],
   "source": [
    "# Просмотр уникальных значений\n",
    "\n",
    "print('уникальные значения поля \\'количество детей в семье\\' \\'children:\\'')\n",
    "print(df['children'].value_counts())\n"
   ]
  },
  {
   "cell_type": "markdown",
   "metadata": {},
   "source": [
    "Как видно из таблицы с уникальными значениями столбца 'children', выявлено:\n",
    "- 47 ячеек со значением \"-1\". \n",
    "Можно предположить, что значение \"-1\"- результат выгрузки части данных из источника, учитывающего как  \"-1\" отсутствие значений, поэтому заменим его на значение \"0\"\n",
    "- 76 ячеек со значением \"20\".\n",
    "Принимая во внимание неправдоподобное значение у достаточно большой массы клиентов (такое количество детей -скорее очень редкое исключение, чем правило), предположим, что имеет место опечатка (клавиши 2 и 0 находятся недалеко друг от друга) и заменим значение \"20\" на \"2\":"
   ]
  },
  {
   "cell_type": "code",
   "execution_count": 13,
   "metadata": {},
   "outputs": [
    {
     "name": "stdout",
     "output_type": "stream",
     "text": [
      "уникальные значения поля 'количество детей в семье' 'children' после внесения изменений:\n",
      "0    14196\n",
      "1     4818\n",
      "2     2131\n",
      "3      330\n",
      "4       41\n",
      "5        9\n",
      "Name: children, dtype: int64\n"
     ]
    }
   ],
   "source": [
    "#замена значения \"-1\" на \"0\"\n",
    "df.loc[df['children'] == -1, 'children'] = 0\n",
    "\n",
    "#замена значения \"20\" на \"2\"\n",
    "df.loc[df['children'] == 20, 'children'] = 2\n",
    "\n",
    "#проверка изменений:\n",
    "print('уникальные значения поля \\'количество детей в семье\\' \\'children\\' после внесения изменений:')\n",
    "print(df['children'].value_counts())\n",
    "\n"
   ]
  },
  {
   "cell_type": "markdown",
   "metadata": {},
   "source": [
    "**Вывод**"
   ]
  },
  {
   "cell_type": "markdown",
   "metadata": {},
   "source": [
    "В столбце 'children' выявлены ошибки данных в виде 47 значений \"-1\" (расценены как подгруженные из некоторой базы данной значения отсутствия детей) и 76 значений \"20\" (расценены как опечатка), которые были исправлены соответственно на \"0\" и \"2\""
   ]
  },
  {
   "cell_type": "markdown",
   "metadata": {},
   "source": [
    "##### Проверка столбца 'dob_years':\n",
    "\n",
    "Для выявления скрытых пропусков и ошибок столбца 'dob_years' проверим его значения:\n",
    "- на наличие значений меньше возраста совершеннолетия (<18)\n",
    "- на наличие неадекватно большого значения возраста\n",
    "        "
   ]
  },
  {
   "cell_type": "code",
   "execution_count": 14,
   "metadata": {},
   "outputs": [
    {
     "name": "stdout",
     "output_type": "stream",
     "text": [
      "уникальные значения столбца 'возраст в годах ' 'dob_years:'\n",
      "Минимальный возраст:  0\n",
      "Максимальный возраст:  75\n",
      "\n",
      "значения возраста до 18 лет:\n",
      "0    101\n",
      "Name: dob_years, dtype: int64\n",
      "\n",
      "5 первых строк с возрастом 0 лет:\n"
     ]
    },
    {
     "data": {
      "text/html": [
       "<div>\n",
       "<style scoped>\n",
       "    .dataframe tbody tr th:only-of-type {\n",
       "        vertical-align: middle;\n",
       "    }\n",
       "\n",
       "    .dataframe tbody tr th {\n",
       "        vertical-align: top;\n",
       "    }\n",
       "\n",
       "    .dataframe thead th {\n",
       "        text-align: right;\n",
       "    }\n",
       "</style>\n",
       "<table border=\"1\" class=\"dataframe\">\n",
       "  <thead>\n",
       "    <tr style=\"text-align: right;\">\n",
       "      <th></th>\n",
       "      <th>children</th>\n",
       "      <th>days_employed</th>\n",
       "      <th>dob_years</th>\n",
       "      <th>education</th>\n",
       "      <th>education_id</th>\n",
       "      <th>family_status</th>\n",
       "      <th>family_status_id</th>\n",
       "      <th>gender</th>\n",
       "      <th>income_type</th>\n",
       "      <th>debt</th>\n",
       "      <th>total_income</th>\n",
       "      <th>purpose</th>\n",
       "    </tr>\n",
       "  </thead>\n",
       "  <tbody>\n",
       "    <tr>\n",
       "      <td>99</td>\n",
       "      <td>0</td>\n",
       "      <td>14439.234121</td>\n",
       "      <td>0</td>\n",
       "      <td>Среднее</td>\n",
       "      <td>1</td>\n",
       "      <td>женат / замужем</td>\n",
       "      <td>0</td>\n",
       "      <td>F</td>\n",
       "      <td>пенсионер</td>\n",
       "      <td>0</td>\n",
       "      <td>71291.522491</td>\n",
       "      <td>автомобиль</td>\n",
       "    </tr>\n",
       "    <tr>\n",
       "      <td>149</td>\n",
       "      <td>0</td>\n",
       "      <td>2664.273168</td>\n",
       "      <td>0</td>\n",
       "      <td>среднее</td>\n",
       "      <td>1</td>\n",
       "      <td>в разводе</td>\n",
       "      <td>3</td>\n",
       "      <td>F</td>\n",
       "      <td>сотрудник</td>\n",
       "      <td>0</td>\n",
       "      <td>70176.435951</td>\n",
       "      <td>операции с жильем</td>\n",
       "    </tr>\n",
       "    <tr>\n",
       "      <td>270</td>\n",
       "      <td>3</td>\n",
       "      <td>1872.663186</td>\n",
       "      <td>0</td>\n",
       "      <td>среднее</td>\n",
       "      <td>1</td>\n",
       "      <td>женат / замужем</td>\n",
       "      <td>0</td>\n",
       "      <td>F</td>\n",
       "      <td>сотрудник</td>\n",
       "      <td>0</td>\n",
       "      <td>102166.458894</td>\n",
       "      <td>ремонт жилью</td>\n",
       "    </tr>\n",
       "    <tr>\n",
       "      <td>578</td>\n",
       "      <td>0</td>\n",
       "      <td>16577.356876</td>\n",
       "      <td>0</td>\n",
       "      <td>среднее</td>\n",
       "      <td>1</td>\n",
       "      <td>женат / замужем</td>\n",
       "      <td>0</td>\n",
       "      <td>F</td>\n",
       "      <td>пенсионер</td>\n",
       "      <td>0</td>\n",
       "      <td>97620.687042</td>\n",
       "      <td>строительство собственной недвижимости</td>\n",
       "    </tr>\n",
       "    <tr>\n",
       "      <td>1040</td>\n",
       "      <td>0</td>\n",
       "      <td>1158.029561</td>\n",
       "      <td>0</td>\n",
       "      <td>высшее</td>\n",
       "      <td>0</td>\n",
       "      <td>в разводе</td>\n",
       "      <td>3</td>\n",
       "      <td>F</td>\n",
       "      <td>компаньон</td>\n",
       "      <td>0</td>\n",
       "      <td>303994.134987</td>\n",
       "      <td>свой автомобиль</td>\n",
       "    </tr>\n",
       "  </tbody>\n",
       "</table>\n",
       "</div>"
      ],
      "text/plain": [
       "      children  days_employed  dob_years education  education_id  \\\n",
       "99           0   14439.234121          0   Среднее             1   \n",
       "149          0    2664.273168          0   среднее             1   \n",
       "270          3    1872.663186          0   среднее             1   \n",
       "578          0   16577.356876          0   среднее             1   \n",
       "1040         0    1158.029561          0    высшее             0   \n",
       "\n",
       "        family_status  family_status_id gender income_type  debt  \\\n",
       "99    женат / замужем                 0      F   пенсионер     0   \n",
       "149         в разводе                 3      F   сотрудник     0   \n",
       "270   женат / замужем                 0      F   сотрудник     0   \n",
       "578   женат / замужем                 0      F   пенсионер     0   \n",
       "1040        в разводе                 3      F   компаньон     0   \n",
       "\n",
       "       total_income                                 purpose  \n",
       "99     71291.522491                              автомобиль  \n",
       "149    70176.435951                       операции с жильем  \n",
       "270   102166.458894                            ремонт жилью  \n",
       "578    97620.687042  строительство собственной недвижимости  \n",
       "1040  303994.134987                         свой автомобиль  "
      ]
     },
     "metadata": {},
     "output_type": "display_data"
    }
   ],
   "source": [
    "#посмотрим минимальное и максимальное значение возраста в годах:\n",
    "print('уникальные значения столбца \\'возраст в годах \\' \\'dob_years:\\'')\n",
    "print('Минимальный возраст: ',df['dob_years'].min())\n",
    "print('Максимальный возраст: ',df['dob_years'].max())\n",
    "print()\n",
    "\n",
    "#строки со значением  лет возраста <18:\n",
    "print('значения возраста до 18 лет:')\n",
    "print(df[df['dob_years']<18]['dob_years'].value_counts())\n",
    "print()\n",
    "\n",
    "print('5 первых строк с возрастом 0 лет:')\n",
    "display(df.loc[df['dob_years']==0].head())\n"
   ]
  },
  {
   "cell_type": "markdown",
   "metadata": {},
   "source": [
    "В данных 'dob_years' выявлены скрытые пропуски, а именно 101 строка со значением возраста 0 лет.\n",
    "Заменим \"0\" значением, равным стажу (days_employed), увеличенным на количество лет до совершеннолетия (18) и среднее количество лет на учебу (3)\n"
   ]
  },
  {
   "cell_type": "code",
   "execution_count": 15,
   "metadata": {},
   "outputs": [],
   "source": [
    "#замена \"0\" количеством лет = стаж + 18 + 3\n",
    "\n",
    "df.loc[df['dob_years']==0,'dob_years'] = df.loc[df['dob_years']==0,'days_employed']/365+21"
   ]
  },
  {
   "cell_type": "code",
   "execution_count": 16,
   "metadata": {},
   "outputs": [
    {
     "name": "stdout",
     "output_type": "stream",
     "text": [
      "уникальные значения столбца 'возраст в годах ' 'dob_years:'\n",
      "Минимальный возраст:  19.0\n",
      "Максимальный возраст:  75.0\n"
     ]
    }
   ],
   "source": [
    "#проверяем результат изменений:\n",
    "\n",
    "print('уникальные значения столбца \\'возраст в годах \\' \\'dob_years:\\'')\n",
    "print('Минимальный возраст: ',df['dob_years'].min())\n",
    "print('Максимальный возраст: ',df['dob_years'].max())\n"
   ]
  },
  {
   "cell_type": "markdown",
   "metadata": {},
   "source": [
    "**Вывод**"
   ]
  },
  {
   "cell_type": "markdown",
   "metadata": {},
   "source": [
    "В процессе анализа выявлен 101 скрытый пропуск данных (значение \"0\"), который был заполнен по принципу: значение стажа в годах + возраст совершеннолетия(18) + среднее количество лет обучения(3)"
   ]
  },
  {
   "cell_type": "markdown",
   "metadata": {
    "id": "BWKRtBJ3_Zct"
   },
   "source": [
    "### Замена типа данных\n",
    "\n",
    "Заменим тип данных столбцов 'days_employed', 'dob_years', 'total_income' c float на int:"
   ]
  },
  {
   "cell_type": "code",
   "execution_count": 17,
   "metadata": {},
   "outputs": [],
   "source": [
    "#замена типа данных методом astype()\n",
    "\n",
    "df[['days_employed','dob_years','total_income']] = df[['days_employed','dob_years','total_income']].astype('int')"
   ]
  },
  {
   "cell_type": "code",
   "execution_count": 18,
   "metadata": {},
   "outputs": [
    {
     "name": "stdout",
     "output_type": "stream",
     "text": [
      "<class 'pandas.core.frame.DataFrame'>\n",
      "RangeIndex: 21525 entries, 0 to 21524\n",
      "Data columns (total 12 columns):\n",
      "children            21525 non-null int64\n",
      "days_employed       21525 non-null int64\n",
      "dob_years           21525 non-null int64\n",
      "education           21525 non-null object\n",
      "education_id        21525 non-null int64\n",
      "family_status       21525 non-null object\n",
      "family_status_id    21525 non-null int64\n",
      "gender              21525 non-null object\n",
      "income_type         21525 non-null object\n",
      "debt                21525 non-null int64\n",
      "total_income        21525 non-null int64\n",
      "purpose             21525 non-null object\n",
      "dtypes: int64(7), object(5)\n",
      "memory usage: 2.0+ MB\n"
     ]
    }
   ],
   "source": [
    "#проверяем результат изменений:\n",
    "\n",
    "df.info()"
   ]
  },
  {
   "cell_type": "markdown",
   "metadata": {},
   "source": [
    "**Вывод**"
   ]
  },
  {
   "cell_type": "markdown",
   "metadata": {},
   "source": [
    "В результате применения метода astype() вещественный тип данных столбцов 'days_employed','dob_years' и 'total_income' изменен на целочисленный."
   ]
  },
  {
   "cell_type": "markdown",
   "metadata": {},
   "source": [
    "### Обработка дубликатов\n",
    "###### Выявление и удаление явных дубликатов\n",
    "\n",
    "Посчитаем явные дубликаты в таблице одной командой:"
   ]
  },
  {
   "cell_type": "code",
   "execution_count": 19,
   "metadata": {
    "id": "36eES_S0_Zct"
   },
   "outputs": [
    {
     "data": {
      "text/plain": [
       "55"
      ]
     },
     "execution_count": 19,
     "metadata": {},
     "output_type": "execute_result"
    }
   ],
   "source": [
    "# подсчёт явных дубликатов\n",
    "df.duplicated().sum()"
   ]
  },
  {
   "cell_type": "markdown",
   "metadata": {
    "id": "Ot25h6XR_Zct"
   },
   "source": [
    "Удаляем явные дубликаты специальным методом `pandas` drop_duplicates():"
   ]
  },
  {
   "cell_type": "code",
   "execution_count": 20,
   "metadata": {
    "id": "exFHq6tt_Zct"
   },
   "outputs": [
    {
     "data": {
      "text/plain": [
       "0"
      ]
     },
     "execution_count": 20,
     "metadata": {},
     "output_type": "execute_result"
    }
   ],
   "source": [
    "# удаление явных дубликатов (с удалением старых индексов и формированием новых)\n",
    "df = df.drop_duplicates().reset_index(drop=True)\n",
    "\n",
    "# проверка на отсутствие дубликатов после внесения изменений:\n",
    "df.duplicated().sum()"
   ]
  },
  {
   "cell_type": "code",
   "execution_count": 21,
   "metadata": {
    "scrolled": true
   },
   "outputs": [
    {
     "name": "stdout",
     "output_type": "stream",
     "text": [
      "<class 'pandas.core.frame.DataFrame'>\n",
      "RangeIndex: 21470 entries, 0 to 21469\n",
      "Data columns (total 12 columns):\n",
      "children            21470 non-null int64\n",
      "days_employed       21470 non-null int64\n",
      "dob_years           21470 non-null int64\n",
      "education           21470 non-null object\n",
      "education_id        21470 non-null int64\n",
      "family_status       21470 non-null object\n",
      "family_status_id    21470 non-null int64\n",
      "gender              21470 non-null object\n",
      "income_type         21470 non-null object\n",
      "debt                21470 non-null int64\n",
      "total_income        21470 non-null int64\n",
      "purpose             21470 non-null object\n",
      "dtypes: int64(7), object(5)\n",
      "memory usage: 2.0+ MB\n"
     ]
    }
   ],
   "source": [
    "df.info()"
   ]
  },
  {
   "cell_type": "markdown",
   "metadata": {},
   "source": [
    "**Вывод**"
   ]
  },
  {
   "cell_type": "markdown",
   "metadata": {},
   "source": [
    "Выявлено и удалено 55 явных дубликатов."
   ]
  },
  {
   "cell_type": "markdown",
   "metadata": {},
   "source": [
    "###### Выявление неявных дубликатов. Преобразование значений столбца 'education'"
   ]
  },
  {
   "cell_type": "markdown",
   "metadata": {},
   "source": [
    "Выявим уникальные значения столбца 'education':"
   ]
  },
  {
   "cell_type": "code",
   "execution_count": 22,
   "metadata": {},
   "outputs": [
    {
     "name": "stdout",
     "output_type": "stream",
     "text": [
      "уникальные значения поля 'образование' 'education:'\n",
      "['ВЫСШЕЕ', 'Высшее', 'НАЧАЛЬНОЕ', 'НЕОКОНЧЕННОЕ ВЫСШЕЕ', 'Начальное', 'Неоконченное высшее', 'СРЕДНЕЕ', 'Среднее', 'УЧЕНАЯ СТЕПЕНЬ', 'Ученая степень', 'высшее', 'начальное', 'неоконченное высшее', 'среднее', 'ученая степень']\n"
     ]
    }
   ],
   "source": [
    "print('уникальные значения поля \\'образование\\' \\'education:\\'')\n",
    "print(sorted(df['education'].unique()))\n"
   ]
  },
  {
   "cell_type": "markdown",
   "metadata": {},
   "source": [
    "Как видим, в значениях столбца присутствуют неявные дубликаты, которые образовались из-за различного написания категорий. Приведем значения к нижнему регистру:"
   ]
  },
  {
   "cell_type": "code",
   "execution_count": 23,
   "metadata": {},
   "outputs": [],
   "source": [
    "#применяем к столбцу метод str.lower() для изменения регистра: \n",
    "df['education'] = df['education'].str.lower()"
   ]
  },
  {
   "cell_type": "code",
   "execution_count": 24,
   "metadata": {},
   "outputs": [
    {
     "name": "stdout",
     "output_type": "stream",
     "text": [
      "уникальные значения поля 'образование' 'education:'\n",
      "['высшее', 'начальное', 'неоконченное высшее', 'среднее', 'ученая степень']\n"
     ]
    }
   ],
   "source": [
    "#проверяем результат внесения изменений:\n",
    "print('уникальные значения поля \\'образование\\' \\'education:\\'')\n",
    "print(sorted(df['education'].unique()))"
   ]
  },
  {
   "cell_type": "markdown",
   "metadata": {},
   "source": [
    "**Вывод**"
   ]
  },
  {
   "cell_type": "markdown",
   "metadata": {},
   "source": [
    "Методом ручного поиска дубликатов и приведения данных к одному регистру устранены неявные дубликаты столбца 'education'"
   ]
  },
  {
   "cell_type": "markdown",
   "metadata": {},
   "source": [
    "**Выводы**"
   ]
  },
  {
   "cell_type": "markdown",
   "metadata": {},
   "source": [
    "В данных выявлены и удалены явные дубликаты, что говорит либо о двойной выгрузке одного и того же фрагмента данных, либо о том, что при формировании критериев выборки они попали в нее дважды по пересекающимся параметрам.\n",
    "    \n",
    "Кроме того, из-за заполнения значений в различных регистрах в столбце 'education' возникли неявные дубликаты, которые затруднили бы дальнейший анализ. Для устранения проблемы значения приведены к нижнему регистру. "
   ]
  },
  {
   "cell_type": "markdown",
   "metadata": {},
   "source": [
    "### Лемматизация"
   ]
  },
  {
   "cell_type": "markdown",
   "metadata": {},
   "source": [
    "Выявим уникальные значения столбца 'purpose':"
   ]
  },
  {
   "cell_type": "code",
   "execution_count": 25,
   "metadata": {},
   "outputs": [
    {
     "name": "stdout",
     "output_type": "stream",
     "text": [
      "уникальные значения поля ' цель получения кредита' 'purpose:'\n"
     ]
    },
    {
     "data": {
      "text/plain": [
       "['автомобили',\n",
       " 'автомобиль',\n",
       " 'высшее образование',\n",
       " 'дополнительное образование',\n",
       " 'жилье',\n",
       " 'заняться высшим образованием',\n",
       " 'заняться образованием',\n",
       " 'на покупку автомобиля',\n",
       " 'на покупку подержанного автомобиля',\n",
       " 'на покупку своего автомобиля',\n",
       " 'на проведение свадьбы',\n",
       " 'недвижимость',\n",
       " 'образование',\n",
       " 'операции с жильем',\n",
       " 'операции с коммерческой недвижимостью',\n",
       " 'операции с недвижимостью',\n",
       " 'операции со своей недвижимостью',\n",
       " 'покупка жилой недвижимости',\n",
       " 'покупка жилья',\n",
       " 'покупка жилья для сдачи',\n",
       " 'покупка жилья для семьи',\n",
       " 'покупка коммерческой недвижимости',\n",
       " 'покупка недвижимости',\n",
       " 'покупка своего жилья',\n",
       " 'получение высшего образования',\n",
       " 'получение дополнительного образования',\n",
       " 'получение образования',\n",
       " 'приобретение автомобиля',\n",
       " 'профильное образование',\n",
       " 'ремонт жилью',\n",
       " 'свадьба',\n",
       " 'свой автомобиль',\n",
       " 'сделка с автомобилем',\n",
       " 'сделка с подержанным автомобилем',\n",
       " 'строительство жилой недвижимости',\n",
       " 'строительство недвижимости',\n",
       " 'строительство собственной недвижимости',\n",
       " 'сыграть свадьбу']"
      ]
     },
     "metadata": {},
     "output_type": "display_data"
    }
   ],
   "source": [
    "#формируем список с уникальными значениями и сохраняем его в переменной purpose_unique:\n",
    "\n",
    "purpose_unique = sorted(df['purpose'].unique())\n",
    "\n",
    "print('уникальные значения поля \\' цель получения кредита\\' \\'purpose:\\'')\n",
    "display(purpose_unique)"
   ]
  },
  {
   "cell_type": "markdown",
   "metadata": {
    "id": "JIUcqzZN_Zct",
    "scrolled": true
   },
   "source": [
    "Как можно заметить, для дальнейшего корректного анализа данные необходимо систематизировать. Проведем лемматизацию значений, выберем наиболее часто повторяющиеся и выберем несколько категорий значений, чтобы стал возможен дальнейший анализ."
   ]
  },
  {
   "cell_type": "code",
   "execution_count": 26,
   "metadata": {
    "scrolled": true
   },
   "outputs": [
    {
     "name": "stdout",
     "output_type": "stream",
     "text": [
      "Counter({' ': 96, 'покупка': 10, 'недвижимость': 10, 'автомобиль': 9, 'образование': 9, 'жилье': 7, 'с': 5, 'на': 4, 'свой': 4, 'операция': 4, 'высокий': 3, 'свадьба': 3, 'получение': 3, 'строительство': 3, 'дополнительный': 2, 'заниматься': 2, 'подержать': 2, 'коммерческий': 2, 'жилой': 2, 'для': 2, 'сделка': 2, 'проведение': 1, 'со': 1, 'сдача': 1, 'семья': 1, 'приобретение': 1, 'профильный': 1, 'ремонт': 1, 'собственный': 1, 'сыграть': 1, ' \\n': 1})\n"
     ]
    }
   ],
   "source": [
    "#приведем значения столбца к леммам и сохраним их в переменной purpose_lemmas.\n",
    "\n",
    "#собираем уникальные значения 'purpose' в строку\n",
    "purpose_unique_str = ''\n",
    "for words in purpose_unique:\n",
    "    purpose_unique_str += ''.join(words)+' '\n",
    "\n",
    "#лемматизируем уникальные значения\n",
    "m = Mystem()\n",
    "lemmas = m.lemmatize(purpose_unique_str)\n",
    "\n",
    "#подсчитываем уникальные леммы\n",
    "print(Counter(lemmas))"
   ]
  },
  {
   "cell_type": "markdown",
   "metadata": {},
   "source": [
    "Таким образом, наиболее встречающиеся слова-существительные, которые содержатся во всех значениях столбца 'purpose - \"автомобиль\", \"образование\", \"жилье\", \"недвижимость\", \"свадьба\". \n",
    "\n",
    "Напишем функцию для определения категории:"
   ]
  },
  {
   "cell_type": "code",
   "execution_count": 27,
   "metadata": {},
   "outputs": [],
   "source": [
    "#функция определяет лемму текущей ячейки, сопоставляет ее с основными категориями\n",
    "#и возвращает нужную категорию\n",
    "\n",
    "def categorize_purpos(purpose):\n",
    "    purpose_lemmas = m.lemmatize(purpose)\n",
    "    if 'автомобиль' in purpose_lemmas:\n",
    "        return 'автомобиль'\n",
    "    elif 'образование' in purpose_lemmas:\n",
    "        return 'образование' \n",
    "    elif 'жилье' in purpose_lemmas or 'недвижимость' in purpose_lemmas:\n",
    "        return 'недвижимость'\n",
    "    elif 'свадьба' in purpose_lemmas:\n",
    "        return 'свадьба'\n",
    "    else:\n",
    "        print('Неопознанная категория данных!!!!!!')\n"
   ]
  },
  {
   "cell_type": "code",
   "execution_count": 28,
   "metadata": {},
   "outputs": [
    {
     "data": {
      "text/html": [
       "<div>\n",
       "<style scoped>\n",
       "    .dataframe tbody tr th:only-of-type {\n",
       "        vertical-align: middle;\n",
       "    }\n",
       "\n",
       "    .dataframe tbody tr th {\n",
       "        vertical-align: top;\n",
       "    }\n",
       "\n",
       "    .dataframe thead th {\n",
       "        text-align: right;\n",
       "    }\n",
       "</style>\n",
       "<table border=\"1\" class=\"dataframe\">\n",
       "  <thead>\n",
       "    <tr style=\"text-align: right;\">\n",
       "      <th></th>\n",
       "      <th>purpose</th>\n",
       "      <th>purpose_category</th>\n",
       "    </tr>\n",
       "  </thead>\n",
       "  <tbody>\n",
       "    <tr>\n",
       "      <td>0</td>\n",
       "      <td>покупка жилья</td>\n",
       "      <td>недвижимость</td>\n",
       "    </tr>\n",
       "    <tr>\n",
       "      <td>1</td>\n",
       "      <td>приобретение автомобиля</td>\n",
       "      <td>автомобиль</td>\n",
       "    </tr>\n",
       "    <tr>\n",
       "      <td>2</td>\n",
       "      <td>покупка жилья</td>\n",
       "      <td>недвижимость</td>\n",
       "    </tr>\n",
       "    <tr>\n",
       "      <td>3</td>\n",
       "      <td>дополнительное образование</td>\n",
       "      <td>образование</td>\n",
       "    </tr>\n",
       "    <tr>\n",
       "      <td>4</td>\n",
       "      <td>сыграть свадьбу</td>\n",
       "      <td>свадьба</td>\n",
       "    </tr>\n",
       "  </tbody>\n",
       "</table>\n",
       "</div>"
      ],
      "text/plain": [
       "                      purpose purpose_category\n",
       "0               покупка жилья     недвижимость\n",
       "1     приобретение автомобиля       автомобиль\n",
       "2               покупка жилья     недвижимость\n",
       "3  дополнительное образование      образование\n",
       "4             сыграть свадьбу          свадьба"
      ]
     },
     "metadata": {},
     "output_type": "display_data"
    }
   ],
   "source": [
    "#применяем функцию к значениям 'purpose' и возвращаем результат во вновь \n",
    "#созданный столбец 'categories':\n",
    "\n",
    "df['purpose_category'] = df['purpose'].apply(categorize_purpos)\n",
    "\n",
    "# вывод первых 5 значений столбцов 'purpose' и 'categoryes':\n",
    "display(df[['purpose', 'purpose_category']].head())"
   ]
  },
  {
   "cell_type": "markdown",
   "metadata": {},
   "source": [
    "**Вывод**"
   ]
  },
  {
   "cell_type": "markdown",
   "metadata": {},
   "source": [
    "Проведена лемматизация столбца 'purpose', на основе самых распространенных лемм проведена категоризация целей кредитования, что отражено в созданном столбце 'purpose_category'"
   ]
  },
  {
   "cell_type": "markdown",
   "metadata": {},
   "source": [
    "### Категоризация данных"
   ]
  },
  {
   "cell_type": "markdown",
   "metadata": {},
   "source": [
    "Для дальнейшего анализа и проверки обозначим уникальные значения в категориальных переменных. Для этого используем метод drop_duplicates()"
   ]
  },
  {
   "cell_type": "markdown",
   "metadata": {},
   "source": [
    "###### Столбец 'children' (количество детей):"
   ]
  },
  {
   "cell_type": "code",
   "execution_count": 29,
   "metadata": {},
   "outputs": [
    {
     "data": {
      "text/html": [
       "<div>\n",
       "<style scoped>\n",
       "    .dataframe tbody tr th:only-of-type {\n",
       "        vertical-align: middle;\n",
       "    }\n",
       "\n",
       "    .dataframe tbody tr th {\n",
       "        vertical-align: top;\n",
       "    }\n",
       "\n",
       "    .dataframe thead th {\n",
       "        text-align: right;\n",
       "    }\n",
       "</style>\n",
       "<table border=\"1\" class=\"dataframe\">\n",
       "  <thead>\n",
       "    <tr style=\"text-align: right;\">\n",
       "      <th></th>\n",
       "      <th>children</th>\n",
       "    </tr>\n",
       "  </thead>\n",
       "  <tbody>\n",
       "    <tr>\n",
       "      <td>0</td>\n",
       "      <td>0</td>\n",
       "    </tr>\n",
       "    <tr>\n",
       "      <td>1</td>\n",
       "      <td>1</td>\n",
       "    </tr>\n",
       "    <tr>\n",
       "      <td>2</td>\n",
       "      <td>2</td>\n",
       "    </tr>\n",
       "    <tr>\n",
       "      <td>3</td>\n",
       "      <td>3</td>\n",
       "    </tr>\n",
       "    <tr>\n",
       "      <td>4</td>\n",
       "      <td>4</td>\n",
       "    </tr>\n",
       "    <tr>\n",
       "      <td>5</td>\n",
       "      <td>5</td>\n",
       "    </tr>\n",
       "  </tbody>\n",
       "</table>\n",
       "</div>"
      ],
      "text/plain": [
       "   children\n",
       "0         0\n",
       "1         1\n",
       "2         2\n",
       "3         3\n",
       "4         4\n",
       "5         5"
      ]
     },
     "metadata": {},
     "output_type": "display_data"
    }
   ],
   "source": [
    "#формируем  Series с применением drop_duplicates(): получаем уникальные значения, сортируем и индексируем\n",
    "\n",
    "children_category = df[['children']].drop_duplicates().sort_values(by='children').reset_index(drop=True)\n",
    "display(children_category)"
   ]
  },
  {
   "cell_type": "markdown",
   "metadata": {},
   "source": [
    "Категоризируем столбец 'children'. Для этого создадим функцию , определяющую категорию наличия/отсутствия детей и выделим отдельный столбец с результатом 'children_id'"
   ]
  },
  {
   "cell_type": "code",
   "execution_count": 30,
   "metadata": {},
   "outputs": [],
   "source": [
    "#функция для определения категории наличия/отсутствия детей (1/0)\n",
    "def cildren_num(number):\n",
    "    if number == 0:\n",
    "        return 0\n",
    "    elif number>0:\n",
    "        return 1\n",
    "    else:\n",
    "        print('Отрицательное число!')\n"
   ]
  },
  {
   "cell_type": "code",
   "execution_count": 31,
   "metadata": {},
   "outputs": [],
   "source": [
    "#создадим столбец 'children_id' и применим к нему функцию cildren_num:\n",
    "df['children_id'] = df['children'].apply(cildren_num)"
   ]
  },
  {
   "cell_type": "code",
   "execution_count": 32,
   "metadata": {},
   "outputs": [
    {
     "data": {
      "text/html": [
       "<div>\n",
       "<style scoped>\n",
       "    .dataframe tbody tr th:only-of-type {\n",
       "        vertical-align: middle;\n",
       "    }\n",
       "\n",
       "    .dataframe tbody tr th {\n",
       "        vertical-align: top;\n",
       "    }\n",
       "\n",
       "    .dataframe thead th {\n",
       "        text-align: right;\n",
       "    }\n",
       "</style>\n",
       "<table border=\"1\" class=\"dataframe\">\n",
       "  <thead>\n",
       "    <tr style=\"text-align: right;\">\n",
       "      <th></th>\n",
       "      <th>children</th>\n",
       "      <th>children_id</th>\n",
       "    </tr>\n",
       "  </thead>\n",
       "  <tbody>\n",
       "    <tr>\n",
       "      <td>0</td>\n",
       "      <td>1</td>\n",
       "      <td>1</td>\n",
       "    </tr>\n",
       "    <tr>\n",
       "      <td>1</td>\n",
       "      <td>1</td>\n",
       "      <td>1</td>\n",
       "    </tr>\n",
       "    <tr>\n",
       "      <td>2</td>\n",
       "      <td>0</td>\n",
       "      <td>0</td>\n",
       "    </tr>\n",
       "    <tr>\n",
       "      <td>3</td>\n",
       "      <td>3</td>\n",
       "      <td>1</td>\n",
       "    </tr>\n",
       "    <tr>\n",
       "      <td>4</td>\n",
       "      <td>0</td>\n",
       "      <td>0</td>\n",
       "    </tr>\n",
       "  </tbody>\n",
       "</table>\n",
       "</div>"
      ],
      "text/plain": [
       "   children  children_id\n",
       "0         1            1\n",
       "1         1            1\n",
       "2         0            0\n",
       "3         3            1\n",
       "4         0            0"
      ]
     },
     "execution_count": 32,
     "metadata": {},
     "output_type": "execute_result"
    }
   ],
   "source": [
    "#проверим результат:\n",
    "df[['children','children_id']].head()"
   ]
  },
  {
   "cell_type": "markdown",
   "metadata": {},
   "source": [
    "###### Столбец 'gender'(пол):"
   ]
  },
  {
   "cell_type": "code",
   "execution_count": 33,
   "metadata": {},
   "outputs": [
    {
     "data": {
      "text/html": [
       "<div>\n",
       "<style scoped>\n",
       "    .dataframe tbody tr th:only-of-type {\n",
       "        vertical-align: middle;\n",
       "    }\n",
       "\n",
       "    .dataframe tbody tr th {\n",
       "        vertical-align: top;\n",
       "    }\n",
       "\n",
       "    .dataframe thead th {\n",
       "        text-align: right;\n",
       "    }\n",
       "</style>\n",
       "<table border=\"1\" class=\"dataframe\">\n",
       "  <thead>\n",
       "    <tr style=\"text-align: right;\">\n",
       "      <th></th>\n",
       "      <th>gender</th>\n",
       "    </tr>\n",
       "  </thead>\n",
       "  <tbody>\n",
       "    <tr>\n",
       "      <td>0</td>\n",
       "      <td>F</td>\n",
       "    </tr>\n",
       "    <tr>\n",
       "      <td>1</td>\n",
       "      <td>M</td>\n",
       "    </tr>\n",
       "  </tbody>\n",
       "</table>\n",
       "</div>"
      ],
      "text/plain": [
       "  gender\n",
       "0      F\n",
       "1      M"
      ]
     },
     "metadata": {},
     "output_type": "display_data"
    }
   ],
   "source": [
    "#формируем  Series с применением drop_duplicates(): получаем уникальные значения, сортируем и индексируем\n",
    "\n",
    "gender_category = df[['gender']].drop_duplicates().sort_values(by='gender').reset_index(drop=True)\n",
    "display(gender_category)"
   ]
  },
  {
   "cell_type": "markdown",
   "metadata": {},
   "source": [
    "###### Столбец 'income_type' (тип занятости):"
   ]
  },
  {
   "cell_type": "code",
   "execution_count": 34,
   "metadata": {
    "scrolled": true
   },
   "outputs": [
    {
     "data": {
      "text/html": [
       "<div>\n",
       "<style scoped>\n",
       "    .dataframe tbody tr th:only-of-type {\n",
       "        vertical-align: middle;\n",
       "    }\n",
       "\n",
       "    .dataframe tbody tr th {\n",
       "        vertical-align: top;\n",
       "    }\n",
       "\n",
       "    .dataframe thead th {\n",
       "        text-align: right;\n",
       "    }\n",
       "</style>\n",
       "<table border=\"1\" class=\"dataframe\">\n",
       "  <thead>\n",
       "    <tr style=\"text-align: right;\">\n",
       "      <th></th>\n",
       "      <th>income_type</th>\n",
       "    </tr>\n",
       "  </thead>\n",
       "  <tbody>\n",
       "    <tr>\n",
       "      <td>0</td>\n",
       "      <td>сотрудник</td>\n",
       "    </tr>\n",
       "    <tr>\n",
       "      <td>1</td>\n",
       "      <td>пенсионер</td>\n",
       "    </tr>\n",
       "    <tr>\n",
       "      <td>2</td>\n",
       "      <td>компаньон</td>\n",
       "    </tr>\n",
       "    <tr>\n",
       "      <td>3</td>\n",
       "      <td>госслужащий</td>\n",
       "    </tr>\n",
       "    <tr>\n",
       "      <td>4</td>\n",
       "      <td>безработный</td>\n",
       "    </tr>\n",
       "    <tr>\n",
       "      <td>5</td>\n",
       "      <td>предприниматель</td>\n",
       "    </tr>\n",
       "    <tr>\n",
       "      <td>6</td>\n",
       "      <td>студент</td>\n",
       "    </tr>\n",
       "    <tr>\n",
       "      <td>7</td>\n",
       "      <td>в декрете</td>\n",
       "    </tr>\n",
       "  </tbody>\n",
       "</table>\n",
       "</div>"
      ],
      "text/plain": [
       "       income_type\n",
       "0        сотрудник\n",
       "1        пенсионер\n",
       "2        компаньон\n",
       "3      госслужащий\n",
       "4      безработный\n",
       "5  предприниматель\n",
       "6          студент\n",
       "7        в декрете"
      ]
     },
     "metadata": {},
     "output_type": "display_data"
    }
   ],
   "source": [
    "#формируем  Series с применением drop_duplicates(): получаем уникальные значения и индексируем\n",
    "\n",
    "income_type_category = df[['income_type']].drop_duplicates().reset_index(drop=True)\n",
    "display(income_type_category)"
   ]
  },
  {
   "cell_type": "markdown",
   "metadata": {},
   "source": [
    "###### Столбец 'debt' (наличие/отсутствие задолженности по кредиту):"
   ]
  },
  {
   "cell_type": "code",
   "execution_count": 35,
   "metadata": {},
   "outputs": [
    {
     "data": {
      "text/html": [
       "<div>\n",
       "<style scoped>\n",
       "    .dataframe tbody tr th:only-of-type {\n",
       "        vertical-align: middle;\n",
       "    }\n",
       "\n",
       "    .dataframe tbody tr th {\n",
       "        vertical-align: top;\n",
       "    }\n",
       "\n",
       "    .dataframe thead th {\n",
       "        text-align: right;\n",
       "    }\n",
       "</style>\n",
       "<table border=\"1\" class=\"dataframe\">\n",
       "  <thead>\n",
       "    <tr style=\"text-align: right;\">\n",
       "      <th></th>\n",
       "      <th>debt</th>\n",
       "    </tr>\n",
       "  </thead>\n",
       "  <tbody>\n",
       "    <tr>\n",
       "      <td>0</td>\n",
       "      <td>0</td>\n",
       "    </tr>\n",
       "    <tr>\n",
       "      <td>1</td>\n",
       "      <td>1</td>\n",
       "    </tr>\n",
       "  </tbody>\n",
       "</table>\n",
       "</div>"
      ],
      "text/plain": [
       "   debt\n",
       "0     0\n",
       "1     1"
      ]
     },
     "metadata": {},
     "output_type": "display_data"
    }
   ],
   "source": [
    "#формируем  Series с применением drop_duplicates(): получаем уникальные значения, сортируем и индексируем\n",
    "\n",
    "debt_category = df[['debt']].drop_duplicates().sort_values(by='debt').reset_index(drop=True)\n",
    "display(debt_category)"
   ]
  },
  {
   "cell_type": "markdown",
   "metadata": {},
   "source": [
    "###### Столбец 'purpose_category' (категория цели кредитования)"
   ]
  },
  {
   "cell_type": "code",
   "execution_count": 36,
   "metadata": {},
   "outputs": [
    {
     "data": {
      "text/html": [
       "<div>\n",
       "<style scoped>\n",
       "    .dataframe tbody tr th:only-of-type {\n",
       "        vertical-align: middle;\n",
       "    }\n",
       "\n",
       "    .dataframe tbody tr th {\n",
       "        vertical-align: top;\n",
       "    }\n",
       "\n",
       "    .dataframe thead th {\n",
       "        text-align: right;\n",
       "    }\n",
       "</style>\n",
       "<table border=\"1\" class=\"dataframe\">\n",
       "  <thead>\n",
       "    <tr style=\"text-align: right;\">\n",
       "      <th></th>\n",
       "      <th>purpose_category</th>\n",
       "    </tr>\n",
       "  </thead>\n",
       "  <tbody>\n",
       "    <tr>\n",
       "      <td>0</td>\n",
       "      <td>недвижимость</td>\n",
       "    </tr>\n",
       "    <tr>\n",
       "      <td>1</td>\n",
       "      <td>автомобиль</td>\n",
       "    </tr>\n",
       "    <tr>\n",
       "      <td>2</td>\n",
       "      <td>образование</td>\n",
       "    </tr>\n",
       "    <tr>\n",
       "      <td>3</td>\n",
       "      <td>свадьба</td>\n",
       "    </tr>\n",
       "  </tbody>\n",
       "</table>\n",
       "</div>"
      ],
      "text/plain": [
       "  purpose_category\n",
       "0     недвижимость\n",
       "1       автомобиль\n",
       "2      образование\n",
       "3          свадьба"
      ]
     },
     "metadata": {},
     "output_type": "display_data"
    }
   ],
   "source": [
    "#формируем  Series с применением drop_duplicates(): получаем уникальные значения и индексируем\n",
    "\n",
    "purpose_category = df[['purpose_category']].drop_duplicates().reset_index(drop=True)\n",
    "display(purpose_category)"
   ]
  },
  {
   "cell_type": "markdown",
   "metadata": {},
   "source": [
    "###### Столбцы 'education' и 'education_id':"
   ]
  },
  {
   "cell_type": "code",
   "execution_count": 37,
   "metadata": {},
   "outputs": [
    {
     "data": {
      "text/html": [
       "<div>\n",
       "<style scoped>\n",
       "    .dataframe tbody tr th:only-of-type {\n",
       "        vertical-align: middle;\n",
       "    }\n",
       "\n",
       "    .dataframe tbody tr th {\n",
       "        vertical-align: top;\n",
       "    }\n",
       "\n",
       "    .dataframe thead th {\n",
       "        text-align: right;\n",
       "    }\n",
       "</style>\n",
       "<table border=\"1\" class=\"dataframe\">\n",
       "  <thead>\n",
       "    <tr style=\"text-align: right;\">\n",
       "      <th></th>\n",
       "      <th>education_id</th>\n",
       "      <th>education</th>\n",
       "    </tr>\n",
       "  </thead>\n",
       "  <tbody>\n",
       "    <tr>\n",
       "      <td>0</td>\n",
       "      <td>0</td>\n",
       "      <td>высшее</td>\n",
       "    </tr>\n",
       "    <tr>\n",
       "      <td>1</td>\n",
       "      <td>1</td>\n",
       "      <td>среднее</td>\n",
       "    </tr>\n",
       "    <tr>\n",
       "      <td>2</td>\n",
       "      <td>2</td>\n",
       "      <td>неоконченное высшее</td>\n",
       "    </tr>\n",
       "    <tr>\n",
       "      <td>3</td>\n",
       "      <td>3</td>\n",
       "      <td>начальное</td>\n",
       "    </tr>\n",
       "    <tr>\n",
       "      <td>4</td>\n",
       "      <td>4</td>\n",
       "      <td>ученая степень</td>\n",
       "    </tr>\n",
       "  </tbody>\n",
       "</table>\n",
       "</div>"
      ],
      "text/plain": [
       "   education_id            education\n",
       "0             0               высшее\n",
       "1             1              среднее\n",
       "2             2  неоконченное высшее\n",
       "3             3            начальное\n",
       "4             4       ученая степень"
      ]
     },
     "metadata": {},
     "output_type": "display_data"
    }
   ],
   "source": [
    "#формируем  DataFrame с применением drop_duplicates(): получаем уникальные значения и индексируем\n",
    "\n",
    "education_category = df[['education_id','education']].drop_duplicates().reset_index(drop=True)\n",
    "display(education_category)"
   ]
  },
  {
   "cell_type": "markdown",
   "metadata": {},
   "source": [
    "###### Столбцы 'family_status' и 'family_status_id':"
   ]
  },
  {
   "cell_type": "code",
   "execution_count": 38,
   "metadata": {},
   "outputs": [
    {
     "data": {
      "text/html": [
       "<div>\n",
       "<style scoped>\n",
       "    .dataframe tbody tr th:only-of-type {\n",
       "        vertical-align: middle;\n",
       "    }\n",
       "\n",
       "    .dataframe tbody tr th {\n",
       "        vertical-align: top;\n",
       "    }\n",
       "\n",
       "    .dataframe thead th {\n",
       "        text-align: right;\n",
       "    }\n",
       "</style>\n",
       "<table border=\"1\" class=\"dataframe\">\n",
       "  <thead>\n",
       "    <tr style=\"text-align: right;\">\n",
       "      <th></th>\n",
       "      <th>family_status_id</th>\n",
       "      <th>family_status</th>\n",
       "    </tr>\n",
       "  </thead>\n",
       "  <tbody>\n",
       "    <tr>\n",
       "      <td>0</td>\n",
       "      <td>0</td>\n",
       "      <td>женат / замужем</td>\n",
       "    </tr>\n",
       "    <tr>\n",
       "      <td>1</td>\n",
       "      <td>1</td>\n",
       "      <td>гражданский брак</td>\n",
       "    </tr>\n",
       "    <tr>\n",
       "      <td>2</td>\n",
       "      <td>2</td>\n",
       "      <td>вдовец / вдова</td>\n",
       "    </tr>\n",
       "    <tr>\n",
       "      <td>3</td>\n",
       "      <td>3</td>\n",
       "      <td>в разводе</td>\n",
       "    </tr>\n",
       "    <tr>\n",
       "      <td>4</td>\n",
       "      <td>4</td>\n",
       "      <td>Не женат / не замужем</td>\n",
       "    </tr>\n",
       "  </tbody>\n",
       "</table>\n",
       "</div>"
      ],
      "text/plain": [
       "   family_status_id          family_status\n",
       "0                 0        женат / замужем\n",
       "1                 1       гражданский брак\n",
       "2                 2         вдовец / вдова\n",
       "3                 3              в разводе\n",
       "4                 4  Не женат / не замужем"
      ]
     },
     "metadata": {},
     "output_type": "display_data"
    }
   ],
   "source": [
    "#формируем  DataFrame с применением drop_duplicates(): получаем уникальные значения \n",
    "\n",
    "family_status_category = df[['family_status_id','family_status']].drop_duplicates().reset_index(drop=True)\n",
    "display(family_status_category)"
   ]
  },
  {
   "cell_type": "markdown",
   "metadata": {},
   "source": [
    "Разделим все имеющиеся статусы на 2 категории: \n",
    "- состоящие в официальном браке либо в гражданском (семейный статус)\n",
    "- не состоящие в отношениях -не женат/не замужем, в разводе, вдовец/вдова (несемейный статус). "
   ]
  },
  {
   "cell_type": "code",
   "execution_count": 39,
   "metadata": {},
   "outputs": [],
   "source": [
    "#функция, делящая клиентов на 2 категории: семейные (1) и свободные (0)\n",
    "def categorized_family(status):\n",
    "    fam = [0,1]\n",
    "    non_fam = [2,3,4]\n",
    "    if status in fam:\n",
    "        return 1\n",
    "    elif status in non_fam:\n",
    "        return 0\n",
    "    else:\n",
    "        print(\"некорректное значение статуса клиента!\")\n"
   ]
  },
  {
   "cell_type": "code",
   "execution_count": 40,
   "metadata": {},
   "outputs": [],
   "source": [
    "#создаем столбец 'family_category' с информацией семейные (1) и свободные (0)\n",
    "df['family_category'] = df['family_status_id'].apply(categorized_family)"
   ]
  },
  {
   "cell_type": "code",
   "execution_count": 41,
   "metadata": {},
   "outputs": [
    {
     "data": {
      "text/html": [
       "<div>\n",
       "<style scoped>\n",
       "    .dataframe tbody tr th:only-of-type {\n",
       "        vertical-align: middle;\n",
       "    }\n",
       "\n",
       "    .dataframe tbody tr th {\n",
       "        vertical-align: top;\n",
       "    }\n",
       "\n",
       "    .dataframe thead th {\n",
       "        text-align: right;\n",
       "    }\n",
       "</style>\n",
       "<table border=\"1\" class=\"dataframe\">\n",
       "  <thead>\n",
       "    <tr style=\"text-align: right;\">\n",
       "      <th></th>\n",
       "      <th>family_status_id</th>\n",
       "      <th>family_category</th>\n",
       "    </tr>\n",
       "  </thead>\n",
       "  <tbody>\n",
       "    <tr>\n",
       "      <td>0</td>\n",
       "      <td>0</td>\n",
       "      <td>1</td>\n",
       "    </tr>\n",
       "    <tr>\n",
       "      <td>1</td>\n",
       "      <td>0</td>\n",
       "      <td>1</td>\n",
       "    </tr>\n",
       "    <tr>\n",
       "      <td>2</td>\n",
       "      <td>0</td>\n",
       "      <td>1</td>\n",
       "    </tr>\n",
       "    <tr>\n",
       "      <td>3</td>\n",
       "      <td>0</td>\n",
       "      <td>1</td>\n",
       "    </tr>\n",
       "    <tr>\n",
       "      <td>4</td>\n",
       "      <td>1</td>\n",
       "      <td>1</td>\n",
       "    </tr>\n",
       "    <tr>\n",
       "      <td>5</td>\n",
       "      <td>1</td>\n",
       "      <td>1</td>\n",
       "    </tr>\n",
       "    <tr>\n",
       "      <td>6</td>\n",
       "      <td>0</td>\n",
       "      <td>1</td>\n",
       "    </tr>\n",
       "    <tr>\n",
       "      <td>7</td>\n",
       "      <td>0</td>\n",
       "      <td>1</td>\n",
       "    </tr>\n",
       "    <tr>\n",
       "      <td>8</td>\n",
       "      <td>1</td>\n",
       "      <td>1</td>\n",
       "    </tr>\n",
       "    <tr>\n",
       "      <td>9</td>\n",
       "      <td>0</td>\n",
       "      <td>1</td>\n",
       "    </tr>\n",
       "    <tr>\n",
       "      <td>10</td>\n",
       "      <td>0</td>\n",
       "      <td>1</td>\n",
       "    </tr>\n",
       "    <tr>\n",
       "      <td>11</td>\n",
       "      <td>0</td>\n",
       "      <td>1</td>\n",
       "    </tr>\n",
       "    <tr>\n",
       "      <td>12</td>\n",
       "      <td>1</td>\n",
       "      <td>1</td>\n",
       "    </tr>\n",
       "    <tr>\n",
       "      <td>13</td>\n",
       "      <td>0</td>\n",
       "      <td>1</td>\n",
       "    </tr>\n",
       "    <tr>\n",
       "      <td>14</td>\n",
       "      <td>1</td>\n",
       "      <td>1</td>\n",
       "    </tr>\n",
       "    <tr>\n",
       "      <td>15</td>\n",
       "      <td>0</td>\n",
       "      <td>1</td>\n",
       "    </tr>\n",
       "    <tr>\n",
       "      <td>16</td>\n",
       "      <td>0</td>\n",
       "      <td>1</td>\n",
       "    </tr>\n",
       "    <tr>\n",
       "      <td>17</td>\n",
       "      <td>1</td>\n",
       "      <td>1</td>\n",
       "    </tr>\n",
       "    <tr>\n",
       "      <td>18</td>\n",
       "      <td>2</td>\n",
       "      <td>0</td>\n",
       "    </tr>\n",
       "    <tr>\n",
       "      <td>19</td>\n",
       "      <td>3</td>\n",
       "      <td>0</td>\n",
       "    </tr>\n",
       "  </tbody>\n",
       "</table>\n",
       "</div>"
      ],
      "text/plain": [
       "    family_status_id  family_category\n",
       "0                  0                1\n",
       "1                  0                1\n",
       "2                  0                1\n",
       "3                  0                1\n",
       "4                  1                1\n",
       "5                  1                1\n",
       "6                  0                1\n",
       "7                  0                1\n",
       "8                  1                1\n",
       "9                  0                1\n",
       "10                 0                1\n",
       "11                 0                1\n",
       "12                 1                1\n",
       "13                 0                1\n",
       "14                 1                1\n",
       "15                 0                1\n",
       "16                 0                1\n",
       "17                 1                1\n",
       "18                 2                0\n",
       "19                 3                0"
      ]
     },
     "execution_count": 41,
     "metadata": {},
     "output_type": "execute_result"
    }
   ],
   "source": [
    "#проверяем результат\n",
    "df[['family_status_id', 'family_category']].head(20)"
   ]
  },
  {
   "cell_type": "markdown",
   "metadata": {},
   "source": [
    "###### Столбец 'total_income':"
   ]
  },
  {
   "cell_type": "markdown",
   "metadata": {},
   "source": [
    "Воспользуемся методом describe(), чтобы увидеть основные статистические характеристики данных 'total_income', для удобства переведем столбца данные в тысячи:"
   ]
  },
  {
   "cell_type": "code",
   "execution_count": 42,
   "metadata": {},
   "outputs": [
    {
     "data": {
      "text/plain": [
       "count    21470.000000\n",
       "mean       165.297558\n",
       "std         98.155227\n",
       "min         20.667000\n",
       "25%        107.652250\n",
       "50%        142.594000\n",
       "75%        195.775250\n",
       "max       2265.604000\n",
       "Name: total_income, dtype: float64"
      ]
     },
     "execution_count": 42,
     "metadata": {},
     "output_type": "execute_result"
    }
   ],
   "source": [
    "(df['total_income']/1000).describe()"
   ]
  },
  {
   "cell_type": "markdown",
   "metadata": {},
   "source": [
    " Как видно из данных выше, медиана значений находится на уровне 142 тыс., что уже является достаточно высоким доходом. \n",
    " \n",
    " Таким образом, основная масса среднестатистических значений уровня заработной платы в РФ находится в первой половине данных. С учетом того, что 75 процентиль - это 195 тыс., а максимум - 2,2 млн руб , но таких значений немного, средняя сильно искажена.\n",
    " \n",
    " Можно предположить, что наиболее чувствительные к несвоевременному возврату кредита находятся именно в 1 половине значений, и чем больше уровень дохода - тем менее чувствительным он окажется к факту наличия/отсутствия долга. С учетом этих рассуждений возьмем за основу заг в 20 тыс.руб. в первой половине значений, и далее- шаг в 50 тыс.\n",
    "  \n",
    "  Исходя из наших рассуждений создадим и заполним столбец 'income_category'. Если в процессе анализа окажется, что такой категоризации данных будет недостаточно, либо она избыточна, осуществим корректировку категорий на месте.\n"
   ]
  },
  {
   "cell_type": "code",
   "execution_count": 43,
   "metadata": {},
   "outputs": [],
   "source": [
    "#функция для определения категории дохода\n",
    "def categorizing_income (income):\n",
    "    cat_income = [0, 30000, 50000, 70000, 90000, 110000, 130000, 150000, 200000, 250000, 20000000] #условные категории дохода\n",
    "    \n",
    "    for index in range(1,len(cat_income)-1):\n",
    "        if (income < cat_income[index] and income >= cat_income[index-1]):\n",
    "            return f'от {int(cat_income[index-1]/1000)} до {int(cat_income[index]/1000)} тыс.'\n",
    "        elif income > cat_income[-2]:\n",
    "            return f'от {int(cat_income[-2]/1000)} тыс.'\n",
    " "
   ]
  },
  {
   "cell_type": "code",
   "execution_count": 44,
   "metadata": {},
   "outputs": [
    {
     "data": {
      "text/html": [
       "<div>\n",
       "<style scoped>\n",
       "    .dataframe tbody tr th:only-of-type {\n",
       "        vertical-align: middle;\n",
       "    }\n",
       "\n",
       "    .dataframe tbody tr th {\n",
       "        vertical-align: top;\n",
       "    }\n",
       "\n",
       "    .dataframe thead th {\n",
       "        text-align: right;\n",
       "    }\n",
       "</style>\n",
       "<table border=\"1\" class=\"dataframe\">\n",
       "  <thead>\n",
       "    <tr style=\"text-align: right;\">\n",
       "      <th></th>\n",
       "      <th>children</th>\n",
       "      <th>days_employed</th>\n",
       "      <th>dob_years</th>\n",
       "      <th>education</th>\n",
       "      <th>education_id</th>\n",
       "      <th>family_status</th>\n",
       "      <th>family_status_id</th>\n",
       "      <th>gender</th>\n",
       "      <th>income_type</th>\n",
       "      <th>debt</th>\n",
       "      <th>total_income</th>\n",
       "      <th>purpose</th>\n",
       "      <th>purpose_category</th>\n",
       "      <th>children_id</th>\n",
       "      <th>family_category</th>\n",
       "      <th>income_category</th>\n",
       "    </tr>\n",
       "  </thead>\n",
       "  <tbody>\n",
       "    <tr>\n",
       "      <td>0</td>\n",
       "      <td>1</td>\n",
       "      <td>8437</td>\n",
       "      <td>42</td>\n",
       "      <td>высшее</td>\n",
       "      <td>0</td>\n",
       "      <td>женат / замужем</td>\n",
       "      <td>0</td>\n",
       "      <td>F</td>\n",
       "      <td>сотрудник</td>\n",
       "      <td>0</td>\n",
       "      <td>253875</td>\n",
       "      <td>покупка жилья</td>\n",
       "      <td>недвижимость</td>\n",
       "      <td>1</td>\n",
       "      <td>1</td>\n",
       "      <td>от 250 тыс.</td>\n",
       "    </tr>\n",
       "    <tr>\n",
       "      <td>1</td>\n",
       "      <td>1</td>\n",
       "      <td>4024</td>\n",
       "      <td>36</td>\n",
       "      <td>среднее</td>\n",
       "      <td>1</td>\n",
       "      <td>женат / замужем</td>\n",
       "      <td>0</td>\n",
       "      <td>F</td>\n",
       "      <td>сотрудник</td>\n",
       "      <td>0</td>\n",
       "      <td>112080</td>\n",
       "      <td>приобретение автомобиля</td>\n",
       "      <td>автомобиль</td>\n",
       "      <td>1</td>\n",
       "      <td>1</td>\n",
       "      <td>от 110 до 130 тыс.</td>\n",
       "    </tr>\n",
       "    <tr>\n",
       "      <td>2</td>\n",
       "      <td>0</td>\n",
       "      <td>5623</td>\n",
       "      <td>33</td>\n",
       "      <td>среднее</td>\n",
       "      <td>1</td>\n",
       "      <td>женат / замужем</td>\n",
       "      <td>0</td>\n",
       "      <td>M</td>\n",
       "      <td>сотрудник</td>\n",
       "      <td>0</td>\n",
       "      <td>145885</td>\n",
       "      <td>покупка жилья</td>\n",
       "      <td>недвижимость</td>\n",
       "      <td>0</td>\n",
       "      <td>1</td>\n",
       "      <td>от 130 до 150 тыс.</td>\n",
       "    </tr>\n",
       "    <tr>\n",
       "      <td>3</td>\n",
       "      <td>3</td>\n",
       "      <td>4124</td>\n",
       "      <td>32</td>\n",
       "      <td>среднее</td>\n",
       "      <td>1</td>\n",
       "      <td>женат / замужем</td>\n",
       "      <td>0</td>\n",
       "      <td>M</td>\n",
       "      <td>сотрудник</td>\n",
       "      <td>0</td>\n",
       "      <td>267628</td>\n",
       "      <td>дополнительное образование</td>\n",
       "      <td>образование</td>\n",
       "      <td>1</td>\n",
       "      <td>1</td>\n",
       "      <td>от 250 тыс.</td>\n",
       "    </tr>\n",
       "    <tr>\n",
       "      <td>4</td>\n",
       "      <td>0</td>\n",
       "      <td>14177</td>\n",
       "      <td>53</td>\n",
       "      <td>среднее</td>\n",
       "      <td>1</td>\n",
       "      <td>гражданский брак</td>\n",
       "      <td>1</td>\n",
       "      <td>F</td>\n",
       "      <td>пенсионер</td>\n",
       "      <td>0</td>\n",
       "      <td>158616</td>\n",
       "      <td>сыграть свадьбу</td>\n",
       "      <td>свадьба</td>\n",
       "      <td>0</td>\n",
       "      <td>1</td>\n",
       "      <td>от 150 до 200 тыс.</td>\n",
       "    </tr>\n",
       "  </tbody>\n",
       "</table>\n",
       "</div>"
      ],
      "text/plain": [
       "   children  days_employed  dob_years education  education_id  \\\n",
       "0         1           8437         42    высшее             0   \n",
       "1         1           4024         36   среднее             1   \n",
       "2         0           5623         33   среднее             1   \n",
       "3         3           4124         32   среднее             1   \n",
       "4         0          14177         53   среднее             1   \n",
       "\n",
       "      family_status  family_status_id gender income_type  debt  total_income  \\\n",
       "0   женат / замужем                 0      F   сотрудник     0        253875   \n",
       "1   женат / замужем                 0      F   сотрудник     0        112080   \n",
       "2   женат / замужем                 0      M   сотрудник     0        145885   \n",
       "3   женат / замужем                 0      M   сотрудник     0        267628   \n",
       "4  гражданский брак                 1      F   пенсионер     0        158616   \n",
       "\n",
       "                      purpose purpose_category  children_id  family_category  \\\n",
       "0               покупка жилья     недвижимость            1                1   \n",
       "1     приобретение автомобиля       автомобиль            1                1   \n",
       "2               покупка жилья     недвижимость            0                1   \n",
       "3  дополнительное образование      образование            1                1   \n",
       "4             сыграть свадьбу          свадьба            0                1   \n",
       "\n",
       "      income_category  \n",
       "0         от 250 тыс.  \n",
       "1  от 110 до 130 тыс.  \n",
       "2  от 130 до 150 тыс.  \n",
       "3         от 250 тыс.  \n",
       "4  от 150 до 200 тыс.  "
      ]
     },
     "metadata": {},
     "output_type": "display_data"
    }
   ],
   "source": [
    "#создаем столбец 'income_category' и заполняем его значением категории дохода\n",
    "df['income_category'] = df['total_income'].apply(categorizing_income)\n",
    "\n",
    "#визуально проверим результат замены\n",
    "display(df.head())"
   ]
  },
  {
   "cell_type": "markdown",
   "metadata": {},
   "source": [
    "Создадим и сохраним в переменной income_category Series с уникальными значениями категорий дохода:"
   ]
  },
  {
   "cell_type": "code",
   "execution_count": 45,
   "metadata": {},
   "outputs": [
    {
     "data": {
      "text/html": [
       "<div>\n",
       "<style scoped>\n",
       "    .dataframe tbody tr th:only-of-type {\n",
       "        vertical-align: middle;\n",
       "    }\n",
       "\n",
       "    .dataframe tbody tr th {\n",
       "        vertical-align: top;\n",
       "    }\n",
       "\n",
       "    .dataframe thead th {\n",
       "        text-align: right;\n",
       "    }\n",
       "</style>\n",
       "<table border=\"1\" class=\"dataframe\">\n",
       "  <thead>\n",
       "    <tr style=\"text-align: right;\">\n",
       "      <th></th>\n",
       "      <th>income_index</th>\n",
       "      <th>income_category</th>\n",
       "    </tr>\n",
       "  </thead>\n",
       "  <tbody>\n",
       "    <tr>\n",
       "      <td>0</td>\n",
       "      <td>0</td>\n",
       "      <td>от 0 до 30 тыс.</td>\n",
       "    </tr>\n",
       "    <tr>\n",
       "      <td>1</td>\n",
       "      <td>1</td>\n",
       "      <td>от 30 до 50 тыс.</td>\n",
       "    </tr>\n",
       "    <tr>\n",
       "      <td>2</td>\n",
       "      <td>2</td>\n",
       "      <td>от 50 до 70 тыс.</td>\n",
       "    </tr>\n",
       "    <tr>\n",
       "      <td>3</td>\n",
       "      <td>3</td>\n",
       "      <td>от 70 до 90 тыс.</td>\n",
       "    </tr>\n",
       "    <tr>\n",
       "      <td>4</td>\n",
       "      <td>4</td>\n",
       "      <td>от 90 до 110 тыс.</td>\n",
       "    </tr>\n",
       "    <tr>\n",
       "      <td>5</td>\n",
       "      <td>5</td>\n",
       "      <td>от 110 до 130 тыс.</td>\n",
       "    </tr>\n",
       "    <tr>\n",
       "      <td>6</td>\n",
       "      <td>6</td>\n",
       "      <td>от 130 до 150 тыс.</td>\n",
       "    </tr>\n",
       "    <tr>\n",
       "      <td>7</td>\n",
       "      <td>7</td>\n",
       "      <td>от 150 до 200 тыс.</td>\n",
       "    </tr>\n",
       "    <tr>\n",
       "      <td>8</td>\n",
       "      <td>8</td>\n",
       "      <td>от 200 до 250 тыс.</td>\n",
       "    </tr>\n",
       "    <tr>\n",
       "      <td>9</td>\n",
       "      <td>9</td>\n",
       "      <td>от 250 тыс.</td>\n",
       "    </tr>\n",
       "  </tbody>\n",
       "</table>\n",
       "</div>"
      ],
      "text/plain": [
       "   income_index     income_category\n",
       "0             0     от 0 до 30 тыс.\n",
       "1             1    от 30 до 50 тыс.\n",
       "2             2    от 50 до 70 тыс.\n",
       "3             3    от 70 до 90 тыс.\n",
       "4             4   от 90 до 110 тыс.\n",
       "5             5  от 110 до 130 тыс.\n",
       "6             6  от 130 до 150 тыс.\n",
       "7             7  от 150 до 200 тыс.\n",
       "8             8  от 200 до 250 тыс.\n",
       "9             9         от 250 тыс."
      ]
     },
     "metadata": {},
     "output_type": "display_data"
    }
   ],
   "source": [
    "#формируем  DataFrame с применением drop_duplicates(): получаем уникальные значения\n",
    "income_category = df[['income_category']].drop_duplicates()\n",
    "\n",
    "#переименовываем индексы и сортируем\n",
    "income_category.set_axis([9,5,6,7,8,4,3,2,1,0],axis=0, inplace=True)\n",
    "income_category.sort_index(inplace=True)\n",
    "#для дальнейшей работы добавим номер категории, который совпадает с индексом и переименуем его: \n",
    "income_category = income_category.reset_index(drop=False)\n",
    "income_category = income_category.rename(columns={'index':'income_index'})\n",
    "display(income_category)"
   ]
  },
  {
   "cell_type": "markdown",
   "metadata": {},
   "source": [
    "**Вывод**"
   ]
  },
  {
   "cell_type": "markdown",
   "metadata": {},
   "source": [
    "Таким образом, мы еще раз проверили уникальность значений категориальных переменных, а также разделили на категории уровень ежемесячного дохода 'total_income'."
   ]
  },
  {
   "cell_type": "markdown",
   "metadata": {
    "id": "jz6a9-7HQUDd"
   },
   "source": [
    "**Выводы**\n",
    "\n",
    "Предобработка обнаружила следующие проблемы в данных:\n",
    "\n",
    "- пропущенные значения,\n",
    "- дубликаты — явные и неявные\n",
    "- ошибки в заполнении значений.\n",
    "\n",
    "Пропущенные значения были заполнены исходя из ситуации в конкретном столбце.\n",
    "Явные дубликаты удалены, неявные- исправлены.\n",
    "Проведена категоризация данных. Для формирования категорий столбца 'purpose' проведена лемматизация значений, поделен на категории ежемесячный доход ('total_income').\n",
    "\n",
    "Теперь можно перейти к проверке гипотез. "
   ]
  },
  {
   "cell_type": "markdown",
   "metadata": {
    "id": "WttZHXH0SqKk"
   },
   "source": [
    "## Проверка гипотез"
   ]
  },
  {
   "cell_type": "markdown",
   "metadata": {
    "id": "nwt_MuaL_Zcu"
   },
   "source": [
    "### - Есть ли зависимость между наличием детей и возвратом кредита в срок?"
   ]
  },
  {
   "cell_type": "markdown",
   "metadata": {
    "id": "8Dw_YMmT_Zcu"
   },
   "source": [
    "Для анализа зависимости между наличием/отсутствием детей сделаем выборку со значениями столбцов 'children', 'children_id' и 'debt'.\n",
    "\n",
    "Если рассматривать сам факт наличия/отсутствия детей, она будет следующей:"
   ]
  },
  {
   "cell_type": "code",
   "execution_count": 46,
   "metadata": {},
   "outputs": [
    {
     "data": {
      "text/html": [
       "<div>\n",
       "<style scoped>\n",
       "    .dataframe tbody tr th:only-of-type {\n",
       "        vertical-align: middle;\n",
       "    }\n",
       "\n",
       "    .dataframe tbody tr th {\n",
       "        vertical-align: top;\n",
       "    }\n",
       "\n",
       "    .dataframe thead th {\n",
       "        text-align: right;\n",
       "    }\n",
       "</style>\n",
       "<table border=\"1\" class=\"dataframe\">\n",
       "  <thead>\n",
       "    <tr style=\"text-align: right;\">\n",
       "      <th></th>\n",
       "      <th>children_id</th>\n",
       "      <th>debt</th>\n",
       "      <th>total</th>\n",
       "      <th>%</th>\n",
       "    </tr>\n",
       "  </thead>\n",
       "  <tbody>\n",
       "    <tr>\n",
       "      <td>0</td>\n",
       "      <td>0</td>\n",
       "      <td>1064</td>\n",
       "      <td>14153</td>\n",
       "      <td>8.0</td>\n",
       "    </tr>\n",
       "    <tr>\n",
       "      <td>1</td>\n",
       "      <td>1</td>\n",
       "      <td>677</td>\n",
       "      <td>7317</td>\n",
       "      <td>9.0</td>\n",
       "    </tr>\n",
       "  </tbody>\n",
       "</table>\n",
       "</div>"
      ],
      "text/plain": [
       "   children_id  debt  total    %\n",
       "0            0  1064  14153  8.0\n",
       "1            1   677   7317  9.0"
      ]
     },
     "metadata": {},
     "output_type": "display_data"
    }
   ],
   "source": [
    "#создадим сводную таблицу, сгруппированную по наличию/отсутствию детей, со значениями возврата/невозврата кредита\n",
    "#'debt' и применим функции 'sum'(=кол-во невозвратов), 'count'(общее кол-во клиентов категории) и 'mean'\n",
    "#(в данном случае- это % фактов невозврата в категории )\n",
    "pivot_table_children_id = df.pivot_table(index=['children_id'], values='debt', aggfunc=['sum','count','mean'])\n",
    "\n",
    "#переименуем колонки, отсортируем таблицу по значению 'total'\n",
    "pivot_table_children_id.columns = ['debt', 'total', '%']\n",
    "pivot_table_children_id['%'] = pivot_table_children_id['%'].round(2)*100\n",
    "\n",
    "#для построения столбчатой диаграммы сделаем небольшое преобразование:\n",
    "#методом reset_index переведем индекс 'children_id' в столбец\n",
    "pivot_table_children_id = pivot_table_children_id.reset_index(drop=False)\n",
    "display(pivot_table_children_id)\n",
    "\n"
   ]
  },
  {
   "cell_type": "code",
   "execution_count": 47,
   "metadata": {},
   "outputs": [
    {
     "data": {
      "image/png": "[encoded data removed]",
      "text/plain": [
       "<Figure size 432x288 with 1 Axes>"
      ]
     },
     "metadata": {
      "needs_background": "light"
     },
     "output_type": "display_data"
    }
   ],
   "source": [
    "#построим диаграмму:\n",
    "seaborn.barplot(x=pivot_table_children_id['children_id'], y=pivot_table_children_id['%']).set(xlabel='отсутствие/наличие детей', ylabel='процент несвоевременного возврата кредита');"
   ]
  },
  {
   "cell_type": "markdown",
   "metadata": {},
   "source": [
    "Таким образом, среднее количество невозвратов клиентов в детьми составляет на 1% больше, чем клиентов без детей.Аналогичными действиями детализируем данные в зависимости от количества детей:"
   ]
  },
  {
   "cell_type": "code",
   "execution_count": 48,
   "metadata": {
    "id": "0_Qs96oh_Zcu",
    "scrolled": true
   },
   "outputs": [
    {
     "data": {
      "text/html": [
       "<div>\n",
       "<style scoped>\n",
       "    .dataframe tbody tr th:only-of-type {\n",
       "        vertical-align: middle;\n",
       "    }\n",
       "\n",
       "    .dataframe tbody tr th {\n",
       "        vertical-align: top;\n",
       "    }\n",
       "\n",
       "    .dataframe thead th {\n",
       "        text-align: right;\n",
       "    }\n",
       "</style>\n",
       "<table border=\"1\" class=\"dataframe\">\n",
       "  <thead>\n",
       "    <tr style=\"text-align: right;\">\n",
       "      <th></th>\n",
       "      <th>children</th>\n",
       "      <th>debt</th>\n",
       "      <th>total</th>\n",
       "      <th>%</th>\n",
       "    </tr>\n",
       "  </thead>\n",
       "  <tbody>\n",
       "    <tr>\n",
       "      <td>0</td>\n",
       "      <td>0</td>\n",
       "      <td>1064</td>\n",
       "      <td>14153</td>\n",
       "      <td>8.0</td>\n",
       "    </tr>\n",
       "    <tr>\n",
       "      <td>1</td>\n",
       "      <td>1</td>\n",
       "      <td>444</td>\n",
       "      <td>4809</td>\n",
       "      <td>9.0</td>\n",
       "    </tr>\n",
       "    <tr>\n",
       "      <td>2</td>\n",
       "      <td>2</td>\n",
       "      <td>202</td>\n",
       "      <td>2128</td>\n",
       "      <td>9.0</td>\n",
       "    </tr>\n",
       "    <tr>\n",
       "      <td>3</td>\n",
       "      <td>3</td>\n",
       "      <td>27</td>\n",
       "      <td>330</td>\n",
       "      <td>8.0</td>\n",
       "    </tr>\n",
       "    <tr>\n",
       "      <td>4</td>\n",
       "      <td>4</td>\n",
       "      <td>4</td>\n",
       "      <td>41</td>\n",
       "      <td>10.0</td>\n",
       "    </tr>\n",
       "    <tr>\n",
       "      <td>5</td>\n",
       "      <td>5</td>\n",
       "      <td>0</td>\n",
       "      <td>9</td>\n",
       "      <td>0.0</td>\n",
       "    </tr>\n",
       "  </tbody>\n",
       "</table>\n",
       "</div>"
      ],
      "text/plain": [
       "   children  debt  total     %\n",
       "0         0  1064  14153   8.0\n",
       "1         1   444   4809   9.0\n",
       "2         2   202   2128   9.0\n",
       "3         3    27    330   8.0\n",
       "4         4     4     41  10.0\n",
       "5         5     0      9   0.0"
      ]
     },
     "metadata": {},
     "output_type": "display_data"
    }
   ],
   "source": [
    "#создадим сводную таблицу, сгруппированную по количеству детей, со значениями возврата/невозврата кредита  'debt'\n",
    "#и применим функции 'sum'(=кол-во невозвратов), 'count'(общее кол-во клиентов категории) и 'mean'\n",
    "#(в данном случае- это % фактов невозврата в категории )\n",
    "pivot_table_children = df.pivot_table(index=['children'], values='debt', aggfunc=['sum','count','mean'])\n",
    "\n",
    "#переименуем колонки, отсортируем таблицу по значению 'total'\n",
    "pivot_table_children.columns = ['debt', 'total', '%']\n",
    "pivot_table_children['%'] = pivot_table_children['%'].round(2)*100\n",
    "\n",
    "#для построения столбчатой диаграммы сделаем небольшое преобразование:\n",
    "#методом reset_index переведем индекс 'children' в столбец\n",
    "pivot_table_children = pivot_table_children.reset_index(drop=False)\n",
    "display(pivot_table_children)\n",
    "\n"
   ]
  },
  {
   "cell_type": "code",
   "execution_count": 49,
   "metadata": {},
   "outputs": [
    {
     "data": {
      "image/png": "[encoded data removed]",
      "text/plain": [
       "<Figure size 432x288 with 1 Axes>"
      ]
     },
     "metadata": {
      "needs_background": "light"
     },
     "output_type": "display_data"
    }
   ],
   "source": [
    "#построим диаграмму:\n",
    "seaborn.barplot(x=pivot_table_children['children'], y=pivot_table_children['%']).set(xlabel='количество детей', ylabel='процент несвоевременного возврата кредита');"
   ]
  },
  {
   "cell_type": "markdown",
   "metadata": {},
   "source": [
    "Мы видим, что внутри категорий клиентов с разным количеством детей существует общая тенденция: с  увеличением количества детей к увеличению фактов невозврата кредита вовремя, особенно у клиентов с 1,2 и 4 детьми (до 10%). Ситуация с 5 детьми непоказательна в связи с небольшим процентом в выборке (всего 9 клиентов из 21470) и, возможно, особенностях финансов многодетных семей, поэтому сложно судить о какой-либо устойчивой тенденции в данном случае. "
   ]
  },
  {
   "cell_type": "markdown",
   "metadata": {
    "id": "dzli3w8o_Zcu"
   },
   "source": [
    "**Вывод**"
   ]
  },
  {
   "cell_type": "markdown",
   "metadata": {
    "id": "uZMKjiJz_Zcu"
   },
   "source": [
    "При осуществлении детализированного анализа можно увидеть, что в реальности количество невозвратов у клиентов с 1 и 2 детьми выше на 1%, чем у клиентов без детей, 4 детьми - на 2%, а с 3 детьми -на уровне клиентов без детей. \n",
    "В среднем количество невозвратов кредитов вовремя клиентами с детьми составляет на 1% больше, чем клиентами без детей. "
   ]
  },
  {
   "cell_type": "markdown",
   "metadata": {
    "id": "cC2tNrlL_Zcu"
   },
   "source": [
    "### - Есть ли зависимость между семейным положением и возвратом кредита в срок?"
   ]
  },
  {
   "cell_type": "markdown",
   "metadata": {},
   "source": [
    "Для анализа зависимости возврата кредита в срок от семейного положения клиента сделаем выборку столбцов 'family_status', 'family_status_id' и 'debt'"
   ]
  },
  {
   "cell_type": "code",
   "execution_count": 50,
   "metadata": {},
   "outputs": [
    {
     "data": {
      "text/html": [
       "<div>\n",
       "<style scoped>\n",
       "    .dataframe tbody tr th:only-of-type {\n",
       "        vertical-align: middle;\n",
       "    }\n",
       "\n",
       "    .dataframe tbody tr th {\n",
       "        vertical-align: top;\n",
       "    }\n",
       "\n",
       "    .dataframe thead th {\n",
       "        text-align: right;\n",
       "    }\n",
       "</style>\n",
       "<table border=\"1\" class=\"dataframe\">\n",
       "  <thead>\n",
       "    <tr style=\"text-align: right;\">\n",
       "      <th></th>\n",
       "      <th>family_status</th>\n",
       "      <th>debt</th>\n",
       "      <th>total</th>\n",
       "      <th>%</th>\n",
       "    </tr>\n",
       "  </thead>\n",
       "  <tbody>\n",
       "    <tr>\n",
       "      <td>0</td>\n",
       "      <td>Не женат / не замужем</td>\n",
       "      <td>274</td>\n",
       "      <td>2810</td>\n",
       "      <td>10.0</td>\n",
       "    </tr>\n",
       "    <tr>\n",
       "      <td>1</td>\n",
       "      <td>в разводе</td>\n",
       "      <td>85</td>\n",
       "      <td>1195</td>\n",
       "      <td>7.0</td>\n",
       "    </tr>\n",
       "    <tr>\n",
       "      <td>2</td>\n",
       "      <td>вдовец / вдова</td>\n",
       "      <td>63</td>\n",
       "      <td>958</td>\n",
       "      <td>7.0</td>\n",
       "    </tr>\n",
       "    <tr>\n",
       "      <td>3</td>\n",
       "      <td>гражданский брак</td>\n",
       "      <td>388</td>\n",
       "      <td>4163</td>\n",
       "      <td>9.0</td>\n",
       "    </tr>\n",
       "    <tr>\n",
       "      <td>4</td>\n",
       "      <td>женат / замужем</td>\n",
       "      <td>931</td>\n",
       "      <td>12344</td>\n",
       "      <td>8.0</td>\n",
       "    </tr>\n",
       "  </tbody>\n",
       "</table>\n",
       "</div>"
      ],
      "text/plain": [
       "           family_status  debt  total     %\n",
       "0  Не женат / не замужем   274   2810  10.0\n",
       "1              в разводе    85   1195   7.0\n",
       "2         вдовец / вдова    63    958   7.0\n",
       "3       гражданский брак   388   4163   9.0\n",
       "4        женат / замужем   931  12344   8.0"
      ]
     },
     "metadata": {},
     "output_type": "display_data"
    }
   ],
   "source": [
    "#создадим сводную таблицу, сгруппированную по семейному статусу, со значениями возврата/невозврата кредита\n",
    "#'debt' и применим функции 'sum'(=кол-во невозвратов), 'count'(общее кол-во клиентов категории) и 'mean'\n",
    "#(в данном случае- это % фактов невозврата в категории )\n",
    "pivot_table_family = df.pivot_table(index=['family_status'], values='debt', aggfunc=['sum','count','mean'])\n",
    "\n",
    "#переименуем колонки, отсортируем таблицу по значению 'total'\n",
    "pivot_table_family.columns = ['debt', 'total', '%']\n",
    "pivot_table_family['%'] = pivot_table_family['%'].round(2)*100\n",
    "\n",
    "#для построения столбчатой диаграммы сделаем небольшое преобразование:\n",
    "#методом reset_index переведем индекс 'children_id' в столбец\n",
    "pivot_table_family = pivot_table_family.reset_index(drop=False)\n",
    "display(pivot_table_family)\n"
   ]
  },
  {
   "cell_type": "code",
   "execution_count": 51,
   "metadata": {},
   "outputs": [
    {
     "data": {
      "image/png": "[encoded data removed]",
      "text/plain": [
       "<Figure size 432x288 with 1 Axes>"
      ]
     },
     "metadata": {
      "needs_background": "light"
     },
     "output_type": "display_data"
    }
   ],
   "source": [
    "#построим диаграмму:\n",
    "seaborn.barplot(x=pivot_table_family['%'], y=pivot_table_family['family_status']).set(xlabel='процент несвоевременного возврата кредита', ylabel='семейный статус');"
   ]
  },
  {
   "cell_type": "markdown",
   "metadata": {},
   "source": [
    "На основании представленных данных можно сделать следующий вывод: клиенты со статусом 'женатые/замужние', а также те, кто был в браке, но в настоящее время либо находится в разводе, либо вдовствует, в целом имеют процент невозврата кредита ниже (7-8%), чем те, кто не состоял в браке либо находится в гражданском браке. Можно предположить, что опыт официальных отношений оказывает влияние на финансовую дисциплину клиента."
   ]
  },
  {
   "cell_type": "markdown",
   "metadata": {},
   "source": [
    "На вопрос зависимости финансовой дисциплины от семейного статуса можно посмотреть и под другим углом: поделить клиентов на 2 категории, а именно: \n",
    "- состоящие в официальном браке либо в гражданском (семейный статус)\n",
    "- не состоящие в отношениях -не женат/не замужем, в разводе, вдовец/вдова (несемейный статус). \n",
    "Сделаем группировку и посмотрим каким образом изменятся значения:"
   ]
  },
  {
   "cell_type": "code",
   "execution_count": 52,
   "metadata": {},
   "outputs": [
    {
     "data": {
      "text/html": [
       "<div>\n",
       "<style scoped>\n",
       "    .dataframe tbody tr th:only-of-type {\n",
       "        vertical-align: middle;\n",
       "    }\n",
       "\n",
       "    .dataframe tbody tr th {\n",
       "        vertical-align: top;\n",
       "    }\n",
       "\n",
       "    .dataframe thead th {\n",
       "        text-align: right;\n",
       "    }\n",
       "</style>\n",
       "<table border=\"1\" class=\"dataframe\">\n",
       "  <thead>\n",
       "    <tr style=\"text-align: right;\">\n",
       "      <th></th>\n",
       "      <th>family_category</th>\n",
       "      <th>debt</th>\n",
       "      <th>total</th>\n",
       "      <th>%</th>\n",
       "    </tr>\n",
       "  </thead>\n",
       "  <tbody>\n",
       "    <tr>\n",
       "      <td>0</td>\n",
       "      <td>0</td>\n",
       "      <td>422</td>\n",
       "      <td>4963</td>\n",
       "      <td>9.0</td>\n",
       "    </tr>\n",
       "    <tr>\n",
       "      <td>1</td>\n",
       "      <td>1</td>\n",
       "      <td>1319</td>\n",
       "      <td>16507</td>\n",
       "      <td>8.0</td>\n",
       "    </tr>\n",
       "  </tbody>\n",
       "</table>\n",
       "</div>"
      ],
      "text/plain": [
       "   family_category  debt  total    %\n",
       "0                0   422   4963  9.0\n",
       "1                1  1319  16507  8.0"
      ]
     },
     "metadata": {},
     "output_type": "display_data"
    }
   ],
   "source": [
    "#создадим сводную таблицу, сгруппированную по статусам семейный/ несемейный, со значениями возврата/невозврата кредита\n",
    "#'debt' и применим функции 'sum'(=кол-во невозвратов), 'count'(общее кол-во клиентов категории) и 'mean'\n",
    "#(в данном случае- это % фактов невозврата в категории )\n",
    "pivot_table_family_category = df.pivot_table(index=['family_category'], values='debt', aggfunc=['sum','count','mean'])\n",
    "\n",
    "#переименуем колонки, отсортируем таблицу по значению 'total'\n",
    "pivot_table_family_category.columns = ['debt', 'total', '%']\n",
    "pivot_table_family_category['%'] = pivot_table_family_category['%'].round(2)*100\n",
    "\n",
    "#для построения столбчатой диаграммы сделаем небольшое преобразование:\n",
    "#методом reset_index переведем индекс 'children_id' в столбец\n",
    "pivot_table_family_category = pivot_table_family_category.reset_index(drop=False)\n",
    "display(pivot_table_family_category)\n"
   ]
  },
  {
   "cell_type": "code",
   "execution_count": 53,
   "metadata": {},
   "outputs": [
    {
     "data": {
      "image/png": "[encoded data removed]",
      "text/plain": [
       "<Figure size 432x288 with 1 Axes>"
      ]
     },
     "metadata": {
      "needs_background": "light"
     },
     "output_type": "display_data"
    }
   ],
   "source": [
    "#построим диаграмму:\n",
    "seaborn.barplot(x=pivot_table_family_category['family_category'], y=pivot_table_family_category['%']).set(xlabel='отсутствие/наличие семьи', ylabel='процент несвоевременного возврата кредита');\n"
   ]
  },
  {
   "cell_type": "markdown",
   "metadata": {},
   "source": [
    "При таком виде группировки процент невозврата кредита вовремя также несколько ниже у категории 1-'семейные' (8%) против категории 0-'несемейные' (9%)"
   ]
  },
  {
   "cell_type": "markdown",
   "metadata": {
    "id": "Nz3GdQB1_Zcu"
   },
   "source": [
    "**Вывод**"
   ]
  },
  {
   "cell_type": "markdown",
   "metadata": {
    "id": "ytf7xFrFJQ2r"
   },
   "source": [
    "На основании проведенного исследования можно заключить, что среди клиентов, находящихся в семейных отношениях (зарегистрированных и незарегистрированных) чаще возвращают кредиты вовремя (среди них 8% тех, кто не вернул кредит в срок против 9% у несемейных). \n",
    "\n",
    "В то же время опыт официальных отношений (настоящих или бывших) влияет на финансовую дисциплину клиента: если среди клиентов, которые никогда не состояли в браке, % тех, кто просрочил возврат кредита составляет 9-10%, то среди клиентов, состоящих(состоявших ранее) в официальном браке 7-8%."
   ]
  },
  {
   "cell_type": "markdown",
   "metadata": {
    "id": "rJcRATNQ_Zcu"
   },
   "source": [
    "### - Есть ли зависимость между уровнем дохода и возвратом кредита в срок?"
   ]
  },
  {
   "cell_type": "markdown",
   "metadata": {
    "id": "hq_ncZ5T_Zcu"
   },
   "source": [
    "Для анализа зависимости возврата кредита в срок от уровня дохода клиента сделаем выборку значений столбца 'income_category', созданную ранее в целях категоризации данных,  и 'debt'"
   ]
  },
  {
   "cell_type": "code",
   "execution_count": 54,
   "metadata": {},
   "outputs": [
    {
     "data": {
      "text/html": [
       "<div>\n",
       "<style scoped>\n",
       "    .dataframe tbody tr th:only-of-type {\n",
       "        vertical-align: middle;\n",
       "    }\n",
       "\n",
       "    .dataframe tbody tr th {\n",
       "        vertical-align: top;\n",
       "    }\n",
       "\n",
       "    .dataframe thead th {\n",
       "        text-align: right;\n",
       "    }\n",
       "</style>\n",
       "<table border=\"1\" class=\"dataframe\">\n",
       "  <thead>\n",
       "    <tr style=\"text-align: right;\">\n",
       "      <th></th>\n",
       "      <th>income_category</th>\n",
       "      <th>debt</th>\n",
       "      <th>total</th>\n",
       "      <th>%</th>\n",
       "    </tr>\n",
       "  </thead>\n",
       "  <tbody>\n",
       "    <tr>\n",
       "      <td>0</td>\n",
       "      <td>от 0 до 30 тыс.</td>\n",
       "      <td>2</td>\n",
       "      <td>22</td>\n",
       "      <td>9.0</td>\n",
       "    </tr>\n",
       "    <tr>\n",
       "      <td>1</td>\n",
       "      <td>от 110 до 130 тыс.</td>\n",
       "      <td>226</td>\n",
       "      <td>2693</td>\n",
       "      <td>8.0</td>\n",
       "    </tr>\n",
       "    <tr>\n",
       "      <td>2</td>\n",
       "      <td>от 130 до 150 тыс.</td>\n",
       "      <td>297</td>\n",
       "      <td>3302</td>\n",
       "      <td>9.0</td>\n",
       "    </tr>\n",
       "    <tr>\n",
       "      <td>3</td>\n",
       "      <td>от 150 до 200 тыс.</td>\n",
       "      <td>405</td>\n",
       "      <td>4766</td>\n",
       "      <td>8.0</td>\n",
       "    </tr>\n",
       "    <tr>\n",
       "      <td>4</td>\n",
       "      <td>от 200 до 250 тыс.</td>\n",
       "      <td>164</td>\n",
       "      <td>2254</td>\n",
       "      <td>7.0</td>\n",
       "    </tr>\n",
       "    <tr>\n",
       "      <td>5</td>\n",
       "      <td>от 250 тыс.</td>\n",
       "      <td>194</td>\n",
       "      <td>2813</td>\n",
       "      <td>7.0</td>\n",
       "    </tr>\n",
       "    <tr>\n",
       "      <td>6</td>\n",
       "      <td>от 30 до 50 тыс.</td>\n",
       "      <td>21</td>\n",
       "      <td>350</td>\n",
       "      <td>6.0</td>\n",
       "    </tr>\n",
       "    <tr>\n",
       "      <td>7</td>\n",
       "      <td>от 50 до 70 тыс.</td>\n",
       "      <td>78</td>\n",
       "      <td>1102</td>\n",
       "      <td>7.0</td>\n",
       "    </tr>\n",
       "    <tr>\n",
       "      <td>8</td>\n",
       "      <td>от 70 до 90 тыс.</td>\n",
       "      <td>161</td>\n",
       "      <td>1874</td>\n",
       "      <td>9.0</td>\n",
       "    </tr>\n",
       "    <tr>\n",
       "      <td>9</td>\n",
       "      <td>от 90 до 110 тыс.</td>\n",
       "      <td>193</td>\n",
       "      <td>2294</td>\n",
       "      <td>8.0</td>\n",
       "    </tr>\n",
       "  </tbody>\n",
       "</table>\n",
       "</div>"
      ],
      "text/plain": [
       "      income_category  debt  total    %\n",
       "0     от 0 до 30 тыс.     2     22  9.0\n",
       "1  от 110 до 130 тыс.   226   2693  8.0\n",
       "2  от 130 до 150 тыс.   297   3302  9.0\n",
       "3  от 150 до 200 тыс.   405   4766  8.0\n",
       "4  от 200 до 250 тыс.   164   2254  7.0\n",
       "5         от 250 тыс.   194   2813  7.0\n",
       "6    от 30 до 50 тыс.    21    350  6.0\n",
       "7    от 50 до 70 тыс.    78   1102  7.0\n",
       "8    от 70 до 90 тыс.   161   1874  9.0\n",
       "9   от 90 до 110 тыс.   193   2294  8.0"
      ]
     },
     "metadata": {},
     "output_type": "display_data"
    }
   ],
   "source": [
    "#создадим сводную таблицу, сгруппированную по статусам income_category, со значениями возврата/невозврата кредита\n",
    "#'debt' и применим функции 'sum'(=кол-во невозвратов), 'count'(общее кол-во клиентов категории) и 'mean'\n",
    "#(в данном случае- это % фактов невозврата в категории )\n",
    "\n",
    "pivot_table_income_category = df.pivot_table(index=['income_category'], values='debt', aggfunc=['sum','count','mean'])\n",
    "\n",
    "#переименуем колонки, отсортируем таблицу по значению 'total'\n",
    "pivot_table_income_category.columns = ['debt', 'total', '%']\n",
    "pivot_table_income_category['%'] = pivot_table_income_category['%'].round(2)*100\n",
    "\n",
    "#для построения столбчатой диаграммы сделаем небольшое преобразование:\n",
    "#методом reset_index переведем индекс 'children_id' в столбец\n",
    "pivot_table_income_category = pivot_table_income_category.reset_index(drop=False)\n",
    "display(pivot_table_income_category)"
   ]
  },
  {
   "cell_type": "markdown",
   "metadata": {},
   "source": [
    "Для сортировки в порядке возрастания категорий добавим income_index\tиз переменной income_category, которую мы создали в разделе 2.5"
   ]
  },
  {
   "cell_type": "code",
   "execution_count": 55,
   "metadata": {},
   "outputs": [
    {
     "data": {
      "text/html": [
       "<div>\n",
       "<style scoped>\n",
       "    .dataframe tbody tr th:only-of-type {\n",
       "        vertical-align: middle;\n",
       "    }\n",
       "\n",
       "    .dataframe tbody tr th {\n",
       "        vertical-align: top;\n",
       "    }\n",
       "\n",
       "    .dataframe thead th {\n",
       "        text-align: right;\n",
       "    }\n",
       "</style>\n",
       "<table border=\"1\" class=\"dataframe\">\n",
       "  <thead>\n",
       "    <tr style=\"text-align: right;\">\n",
       "      <th></th>\n",
       "      <th>income_category</th>\n",
       "      <th>debt</th>\n",
       "      <th>total</th>\n",
       "      <th>%</th>\n",
       "      <th>income_index</th>\n",
       "    </tr>\n",
       "  </thead>\n",
       "  <tbody>\n",
       "    <tr>\n",
       "      <td>5</td>\n",
       "      <td>от 250 тыс.</td>\n",
       "      <td>194</td>\n",
       "      <td>2813</td>\n",
       "      <td>7.0</td>\n",
       "      <td>9</td>\n",
       "    </tr>\n",
       "    <tr>\n",
       "      <td>4</td>\n",
       "      <td>от 200 до 250 тыс.</td>\n",
       "      <td>164</td>\n",
       "      <td>2254</td>\n",
       "      <td>7.0</td>\n",
       "      <td>8</td>\n",
       "    </tr>\n",
       "    <tr>\n",
       "      <td>3</td>\n",
       "      <td>от 150 до 200 тыс.</td>\n",
       "      <td>405</td>\n",
       "      <td>4766</td>\n",
       "      <td>8.0</td>\n",
       "      <td>7</td>\n",
       "    </tr>\n",
       "    <tr>\n",
       "      <td>2</td>\n",
       "      <td>от 130 до 150 тыс.</td>\n",
       "      <td>297</td>\n",
       "      <td>3302</td>\n",
       "      <td>9.0</td>\n",
       "      <td>6</td>\n",
       "    </tr>\n",
       "    <tr>\n",
       "      <td>1</td>\n",
       "      <td>от 110 до 130 тыс.</td>\n",
       "      <td>226</td>\n",
       "      <td>2693</td>\n",
       "      <td>8.0</td>\n",
       "      <td>5</td>\n",
       "    </tr>\n",
       "    <tr>\n",
       "      <td>9</td>\n",
       "      <td>от 90 до 110 тыс.</td>\n",
       "      <td>193</td>\n",
       "      <td>2294</td>\n",
       "      <td>8.0</td>\n",
       "      <td>4</td>\n",
       "    </tr>\n",
       "    <tr>\n",
       "      <td>8</td>\n",
       "      <td>от 70 до 90 тыс.</td>\n",
       "      <td>161</td>\n",
       "      <td>1874</td>\n",
       "      <td>9.0</td>\n",
       "      <td>3</td>\n",
       "    </tr>\n",
       "    <tr>\n",
       "      <td>7</td>\n",
       "      <td>от 50 до 70 тыс.</td>\n",
       "      <td>78</td>\n",
       "      <td>1102</td>\n",
       "      <td>7.0</td>\n",
       "      <td>2</td>\n",
       "    </tr>\n",
       "    <tr>\n",
       "      <td>6</td>\n",
       "      <td>от 30 до 50 тыс.</td>\n",
       "      <td>21</td>\n",
       "      <td>350</td>\n",
       "      <td>6.0</td>\n",
       "      <td>1</td>\n",
       "    </tr>\n",
       "    <tr>\n",
       "      <td>0</td>\n",
       "      <td>от 0 до 30 тыс.</td>\n",
       "      <td>2</td>\n",
       "      <td>22</td>\n",
       "      <td>9.0</td>\n",
       "      <td>0</td>\n",
       "    </tr>\n",
       "  </tbody>\n",
       "</table>\n",
       "</div>"
      ],
      "text/plain": [
       "      income_category  debt  total    %  income_index\n",
       "5         от 250 тыс.   194   2813  7.0             9\n",
       "4  от 200 до 250 тыс.   164   2254  7.0             8\n",
       "3  от 150 до 200 тыс.   405   4766  8.0             7\n",
       "2  от 130 до 150 тыс.   297   3302  9.0             6\n",
       "1  от 110 до 130 тыс.   226   2693  8.0             5\n",
       "9   от 90 до 110 тыс.   193   2294  8.0             4\n",
       "8    от 70 до 90 тыс.   161   1874  9.0             3\n",
       "7    от 50 до 70 тыс.    78   1102  7.0             2\n",
       "6    от 30 до 50 тыс.    21    350  6.0             1\n",
       "0     от 0 до 30 тыс.     2     22  9.0             0"
      ]
     },
     "metadata": {},
     "output_type": "display_data"
    }
   ],
   "source": [
    "#применим метод merge() для слияния данных pivot_table_income_category и income_category, \n",
    "#сохраним результат в переменную pivot_table_income_index, которую отсортируем по добавленному столбцу income_index\n",
    "\n",
    "pivot_table_income_index = pivot_table_income_category.merge(income_category, on='income_category',how='left').sort_values(by='income_index', ascending=False)\n",
    "display(pivot_table_income_index)"
   ]
  },
  {
   "cell_type": "code",
   "execution_count": 56,
   "metadata": {},
   "outputs": [
    {
     "data": {
      "image/png": "[encoded data removed]",
      "text/plain": [
       "<Figure size 432x288 with 1 Axes>"
      ]
     },
     "metadata": {
      "needs_background": "light"
     },
     "output_type": "display_data"
    }
   ],
   "source": [
    "#на основе полученного датафрейма pivot_table_income_index построим диаграмму:\n",
    "seaborn.barplot(x=pivot_table_income_index['%'], y=pivot_table_income_index['income_category']).set(xlabel='процент несвоевременного возврата кредита', ylabel='категория дохода');\n"
   ]
  },
  {
   "cell_type": "markdown",
   "metadata": {},
   "source": [
    "Как можно заметить, четкого роста доли кредитов, не погашенных в срок, в зависимости от уровня дохода нет, в целом разброс значений процента невозврата в срок- от 6 до 9%. \n",
    "Максимальный уровень невозвратов в срок прослеживается у категорий с уровнем дохода до 30 тыс., от 70 до 90 тыс. и от 130 до 150 тыс.руб., их показатель равен 9%.  Самый низкий уровень невозвратов у категорий от 30 до 50 тыс. (6%) и в категориях от 50 до 70, 200 и выше (7%).\n"
   ]
  },
  {
   "cell_type": "markdown",
   "metadata": {
    "id": "_NTy2VPU_Zcu"
   },
   "source": [
    "**Вывод**"
   ]
  },
  {
   "cell_type": "markdown",
   "metadata": {},
   "source": [
    " В ходе анализа выявлены категории с максимальным уровнем невозвратов-до 30 тыс., от 70 до 90 тыс., от 130 до 150 тыс., которые составили 9% каждый в своей группе. Минимальный уровень невозврата (6-7%)- у категорий от 30 до 70 тыс., а также от 200 тыс. и выше.\n",
    " \n",
    " Таким образом, четкой прямой зависимости процента невовзрата от уровня дохода не выявлено, но есть тенденция к понижению количества непогашенных кредитов в срок при уровне дохода от 130 тыс.руб. и выше."
   ]
  },
  {
   "cell_type": "markdown",
   "metadata": {
    "id": "vYDw5u_K_Zcu"
   },
   "source": [
    "### - Как разные цели кредита влияют на его возврат в срок?"
   ]
  },
  {
   "cell_type": "markdown",
   "metadata": {
    "id": "8_yzFtW3_Zcu"
   },
   "source": [
    "Для анализа зависимости влияния целей кредита на его возврат в срок возьмем за основу созданные ранее категории целей кредита, сохраненные в переменной purpose_category, и значения столбца 'debt'"
   ]
  },
  {
   "cell_type": "code",
   "execution_count": 57,
   "metadata": {},
   "outputs": [
    {
     "data": {
      "text/html": [
       "<div>\n",
       "<style scoped>\n",
       "    .dataframe tbody tr th:only-of-type {\n",
       "        vertical-align: middle;\n",
       "    }\n",
       "\n",
       "    .dataframe tbody tr th {\n",
       "        vertical-align: top;\n",
       "    }\n",
       "\n",
       "    .dataframe thead th {\n",
       "        text-align: right;\n",
       "    }\n",
       "</style>\n",
       "<table border=\"1\" class=\"dataframe\">\n",
       "  <thead>\n",
       "    <tr style=\"text-align: right;\">\n",
       "      <th></th>\n",
       "      <th>purpose_category</th>\n",
       "      <th>debt</th>\n",
       "      <th>total</th>\n",
       "      <th>%</th>\n",
       "    </tr>\n",
       "  </thead>\n",
       "  <tbody>\n",
       "    <tr>\n",
       "      <td>0</td>\n",
       "      <td>автомобиль</td>\n",
       "      <td>403</td>\n",
       "      <td>4308</td>\n",
       "      <td>9.0</td>\n",
       "    </tr>\n",
       "    <tr>\n",
       "      <td>2</td>\n",
       "      <td>образование</td>\n",
       "      <td>370</td>\n",
       "      <td>4014</td>\n",
       "      <td>9.0</td>\n",
       "    </tr>\n",
       "    <tr>\n",
       "      <td>3</td>\n",
       "      <td>свадьба</td>\n",
       "      <td>186</td>\n",
       "      <td>2335</td>\n",
       "      <td>8.0</td>\n",
       "    </tr>\n",
       "    <tr>\n",
       "      <td>1</td>\n",
       "      <td>недвижимость</td>\n",
       "      <td>782</td>\n",
       "      <td>10813</td>\n",
       "      <td>7.0</td>\n",
       "    </tr>\n",
       "  </tbody>\n",
       "</table>\n",
       "</div>"
      ],
      "text/plain": [
       "  purpose_category  debt  total    %\n",
       "0       автомобиль   403   4308  9.0\n",
       "2      образование   370   4014  9.0\n",
       "3          свадьба   186   2335  8.0\n",
       "1     недвижимость   782  10813  7.0"
      ]
     },
     "metadata": {},
     "output_type": "display_data"
    }
   ],
   "source": [
    "#создадим сводную таблицу, сгруппированную по статусам purpose_category, со значениями возврата/невозврата кредита\n",
    "#'debt' и применим функции 'sum'(=кол-во невозвратов), 'count'(общее кол-во клиентов категории) и 'mean'\n",
    "#(в данном случае- это % фактов невозврата в категории )\n",
    "\n",
    "pivot_table_purpose_category = df.pivot_table(index=['purpose_category'], values='debt', aggfunc=['sum','count','mean'])\n",
    "\n",
    "#переименуем колонки, отсортируем таблицу по значению 'total'\n",
    "pivot_table_purpose_category.columns = ['debt', 'total', '%']\n",
    "pivot_table_purpose_category['%'] = pivot_table_purpose_category['%'].round(2)*100\n",
    "\n",
    "#для построения столбчатой диаграммы сделаем небольшое преобразование:\n",
    "#методом reset_index переведем индекс 'purpose_category' в столбец\n",
    "pivot_table_purpose_category = pivot_table_purpose_category.reset_index(drop=False).sort_values(by='%', ascending=False)\n",
    "display(pivot_table_purpose_category)"
   ]
  },
  {
   "cell_type": "code",
   "execution_count": 58,
   "metadata": {},
   "outputs": [
    {
     "data": {
      "image/png": "[encoded data removed]",
      "text/plain": [
       "<Figure size 432x288 with 1 Axes>"
      ]
     },
     "metadata": {
      "needs_background": "light"
     },
     "output_type": "display_data"
    }
   ],
   "source": [
    "#на основе полученного датафрейма pivot_table_purpose_category построим диаграмму:\n",
    "seaborn.barplot(x=pivot_table_purpose_category['%'], y=pivot_table_purpose_category['purpose_category']).set(xlabel='процент несвоевременного возврата кредита', ylabel='цель кредита');"
   ]
  },
  {
   "cell_type": "markdown",
   "metadata": {
    "id": "7QXffbO-_Zcu"
   },
   "source": [
    "**Вывод**"
   ]
  },
  {
   "cell_type": "markdown",
   "metadata": {
    "id": "APAcLpOr_Zcu"
   },
   "source": [
    " Наибольшая доля клиентов, не вернувших кредит в срок, оформляли кредиты на приобретение автомобиля и получение образования (9%). Самыми финансово дисциплинированным в плане своевременного возврата кредита являются клиенты, получившие кредит на приобретение недвижимости (7%). Это объясняется тем, что чем больше сумма кредита, тем ощутимее финансовые потери при его несвоевременном гашении (сумма начисленных процентов прямо зависит от размера и срока кредита, перекредитование при плохой кредитной истории  влечет за собой увеличенный процент и т.п.)."
   ]
  },
  {
   "cell_type": "markdown",
   "metadata": {
    "id": "-EgPIHYu_Zcu"
   },
   "source": [
    "## Шаг 4. Общий вывод"
   ]
  },
  {
   "cell_type": "markdown",
   "metadata": {
    "id": "atZAxtq4_Zcu"
   },
   "source": [
    "Представленные для анализа данные содержали информацию о заемщике и некоторых характеристиках кредита (цели его получения и  наличие/отсутствие задолженности по возврату).\n",
    "\n",
    "В процессе предварительной обработки данных были выявлены явные и неявные пропуски, ошибки представления значений (нули, минусы, значения, не соответствующие действительности). Скорее всего, данные были взяты из разных источников, что и являлось причиной несопоставимости, а также пропусков данных в некоторых столбцах. Кроме того, возможны ошибки при выгрузке (массовые пропуски в двух столбцах и дубликаты данных), а также из-за некорректного заполнения первоисточников исполнителем. Указанные проблемы были устранены.  \n",
    "\n",
    "\n",
    "При осуществлении детализированного анализа представленных данных можно сделать вывод, что уровень невозвратов кредитов в срок клиентами, имеющими детей, составляет на 1% больше, чем клиентами без детей (9% против 8%). Наибольший процент невозвратов (10%) у клиентов с 4 детьми.\n",
    "\n",
    "Клиенты, находящиеся в семейных отношениях (зарегистрированных и незарегистрированных) чаще возвращают кредиты вовремя (среди них 8% тех, кто не вернул кредит в срок против 9% у несемейных).\n",
    "\n",
    "В то же время опыт официальных отношений (настоящих или бывших) влияет на финансовую дисциплину клиента: если среди клиентов, которые никогда не состояли в браке, % тех, кто просрочил возврат кредита составляет 9-10%, то среди клиентов, состоящих (либо состоявших ранее) в официальном браке 7-8%.\n",
    "Если же говорить о конкретных категориях заемщиков с минимальным уровнем просроченных кредитов, то это клиенты из категорий \"в разводе\" либо вдовствующие. Вероятно факт потерь в прошлом влияет на осторожность при принятии решения об оформлении кредита, а  официальный брак дает опыт в рациональном ведении финансов.\n",
    "\n",
    "Если говорить о зависимости возврата кредита в срок и уровне дохода клиента,- четкой прямой зависимости уровня дохода и доли кредитов, не погашенных в срок, нет.  Но в исследуемых данных были выявлены категории с максимальным уровнем невозвратов-до 30 тыс., от 70 до 90 тыс., от 130 до 150 тыс., которые составили 9% каждый в своей группе. Минимальный уровень невозврата (6-7%)- у категорий от 30 до 70 тыс., а также от 200 тыс. и выше. То есть можно сделать вывод, что клиент более финансово дисциплинирован при достаточно небольшом доходе (но не минимальном), а также при доходе от 200 тыс.руб.\n",
    "\n",
    "Достаточно четко прослеживается уровень невозвратов от цели кредита: наибольшая доля клиентов, не вернувших кредит в срок, оформляла кредит на приобретение автомобиля и получение образования (9%). Самыми финансово-дисциплинированным же являются клиенты, получившие кредит на приобретение недвижимости (7%). Это объясняется тем, что чем больше сумма кредита, тем ощутимее финансовые потери (сумма начисленных процентов прямо зависит от срока кредита, перекредитование при плохой кредитной истории влечет за собой увеличенный процент и т.п.) при его несвоевременном гашении."
   ]
  },
  {
   "cell_type": "markdown",
   "metadata": {
    "id": "eXrQqXFH_Zcu"
   },
   "source": [
    "## Чек-лист готовности проекта\n",
    "\n",
    "Поставьте 'x' в выполненных пунктах. Далее нажмите Shift+Enter."
   ]
  },
  {
   "cell_type": "markdown",
   "metadata": {
    "id": "S8UcW6Hw_Zcu"
   },
   "source": [
    "## - [x]  открыт файл;\n",
    "- [x]  файл изучен;\n",
    "- [x]  определены пропущенные значения;\n",
    "- [x]  заполнены пропущенные значения;\n",
    "- [x]  есть пояснение, какие пропущенные значения обнаружены;\n",
    "- [x]  описаны возможные причины появления пропусков в данных;\n",
    "- [x]  объяснено, по какому принципу заполнены пропуски;\n",
    "- [x]  заменен вещественный тип данных на целочисленный;\n",
    "- [x]  есть пояснение, какой метод используется для изменения типа данных и почему;\n",
    "- [x]  удалены дубликаты;\n",
    "- [x]  есть пояснение, какой метод используется для поиска и удаления дубликатов;\n",
    "- [x]  описаны возможные причины появления дубликатов в данных;\n",
    "- [x]  выделены леммы в значениях столбца с целями получения кредита;\n",
    "- [x]  описан процесс лемматизации;\n",
    "- [x]  данные категоризированы;\n",
    "- [x]  есть объяснение принципа категоризации данных;\n",
    "- [x]  есть ответ на вопрос: \"Есть ли зависимость между наличием детей и возвратом кредита в срок?\";\n",
    "- [x]  есть ответ на вопрос: \"Есть ли зависимость между семейным положением и возвратом кредита в срок?\";\n",
    "- [x]  есть ответ на вопрос: \"Есть ли зависимость между уровнем дохода и возвратом кредита в срок?\";\n",
    "- [x]  есть ответ на вопрос: \"Как разные цели кредита влияют на его возврат в срок?\";\n",
    "- [x]  в каждом этапе есть выводы;\n",
    "- [x]  есть общий вывод."
   ]
  }
 ],
 "metadata": {
  "ExecuteTimeLog": [
   {
    "duration": 453,
    "start_time": "2021-11-22T08:42:29.494Z"
   },
   {
    "duration": 660,
    "start_time": "2021-11-22T08:42:36.785Z"
   },
   {
    "duration": 3,
    "start_time": "2021-11-22T08:42:47.044Z"
   },
   {
    "duration": 3,
    "start_time": "2021-11-22T08:44:19.880Z"
   },
   {
    "duration": 149,
    "start_time": "2021-11-22T08:44:23.060Z"
   },
   {
    "duration": 22,
    "start_time": "2021-11-22T08:44:53.424Z"
   },
   {
    "duration": 25,
    "start_time": "2021-11-22T08:53:16.962Z"
   },
   {
    "duration": 4,
    "start_time": "2021-11-22T09:22:43.270Z"
   },
   {
    "duration": 146,
    "start_time": "2021-11-22T09:33:32.389Z"
   },
   {
    "duration": 21,
    "start_time": "2021-11-22T09:34:28.285Z"
   },
   {
    "duration": 4,
    "start_time": "2021-11-22T09:34:38.614Z"
   },
   {
    "duration": 24,
    "start_time": "2021-11-22T09:36:18.269Z"
   },
   {
    "duration": 9475,
    "start_time": "2021-11-22T09:38:16.529Z"
   },
   {
    "duration": 7,
    "start_time": "2021-11-22T09:40:00.290Z"
   },
   {
    "duration": 363,
    "start_time": "2021-11-22T09:42:13.229Z"
   },
   {
    "duration": 344,
    "start_time": "2021-11-22T09:48:43.641Z"
   },
   {
    "duration": 10129,
    "start_time": "2021-11-22T09:49:55.250Z"
   },
   {
    "duration": 8959,
    "start_time": "2021-11-22T09:50:13.022Z"
   },
   {
    "duration": 18,
    "start_time": "2021-11-22T09:51:27.482Z"
   },
   {
    "duration": 21,
    "start_time": "2021-11-22T09:51:49.001Z"
   },
   {
    "duration": 2,
    "start_time": "2021-11-22T09:52:12.550Z"
   },
   {
    "duration": 16,
    "start_time": "2021-11-22T09:52:46.622Z"
   },
   {
    "duration": 18,
    "start_time": "2021-11-22T09:53:36.910Z"
   },
   {
    "duration": 39,
    "start_time": "2021-11-22T09:54:15.078Z"
   },
   {
    "duration": 37,
    "start_time": "2021-11-22T09:54:22.738Z"
   },
   {
    "duration": 471,
    "start_time": "2021-11-22T13:08:45.868Z"
   },
   {
    "duration": 678,
    "start_time": "2021-11-22T13:09:06.798Z"
   },
   {
    "duration": 134,
    "start_time": "2021-11-22T13:09:07.478Z"
   },
   {
    "duration": 14,
    "start_time": "2021-11-22T13:09:07.614Z"
   },
   {
    "duration": 23,
    "start_time": "2021-11-22T13:09:07.630Z"
   },
   {
    "duration": 3,
    "start_time": "2021-11-22T13:09:07.655Z"
   },
   {
    "duration": 46,
    "start_time": "2021-11-22T13:09:07.660Z"
   },
   {
    "duration": 9,
    "start_time": "2021-11-22T13:09:07.708Z"
   },
   {
    "duration": 34,
    "start_time": "2021-11-22T13:09:07.719Z"
   },
   {
    "duration": 16,
    "start_time": "2021-11-22T13:09:07.756Z"
   },
   {
    "duration": 7,
    "start_time": "2021-11-22T13:09:07.774Z"
   },
   {
    "duration": 13,
    "start_time": "2021-11-22T13:09:07.782Z"
   },
   {
    "duration": 11,
    "start_time": "2021-11-22T13:09:07.796Z"
   },
   {
    "duration": 16,
    "start_time": "2021-11-22T13:09:07.809Z"
   },
   {
    "duration": 13,
    "start_time": "2021-11-22T13:09:07.827Z"
   },
   {
    "duration": 26,
    "start_time": "2021-11-22T13:09:07.841Z"
   },
   {
    "duration": 14,
    "start_time": "2021-11-22T13:09:07.869Z"
   },
   {
    "duration": 15,
    "start_time": "2021-11-22T13:09:07.884Z"
   },
   {
    "duration": 16,
    "start_time": "2021-11-22T13:09:07.900Z"
   },
   {
    "duration": 11,
    "start_time": "2021-11-22T13:09:07.918Z"
   },
   {
    "duration": 14,
    "start_time": "2021-11-22T13:09:07.931Z"
   },
   {
    "duration": 25,
    "start_time": "2021-11-22T13:09:07.946Z"
   },
   {
    "duration": 4,
    "start_time": "2021-11-22T13:09:07.973Z"
   },
   {
    "duration": 9,
    "start_time": "2021-11-22T13:09:07.979Z"
   },
   {
    "duration": 14,
    "start_time": "2021-11-22T13:09:07.989Z"
   },
   {
    "duration": 14,
    "start_time": "2021-11-22T13:09:08.005Z"
   },
   {
    "duration": 21,
    "start_time": "2021-11-22T13:09:08.020Z"
   },
   {
    "duration": 18,
    "start_time": "2021-11-22T13:09:08.044Z"
   },
   {
    "duration": 11,
    "start_time": "2021-11-22T13:09:08.064Z"
   },
   {
    "duration": 6,
    "start_time": "2021-11-22T13:09:08.077Z"
   },
   {
    "duration": 5,
    "start_time": "2021-11-22T13:09:08.084Z"
   },
   {
    "duration": 8,
    "start_time": "2021-11-22T13:09:08.090Z"
   },
   {
    "duration": 6,
    "start_time": "2021-11-22T13:09:08.099Z"
   },
   {
    "duration": 7,
    "start_time": "2021-11-22T13:09:08.107Z"
   },
   {
    "duration": 5,
    "start_time": "2021-11-22T13:09:08.115Z"
   },
   {
    "duration": 8,
    "start_time": "2021-11-22T13:09:08.121Z"
   },
   {
    "duration": 5,
    "start_time": "2021-11-22T13:09:08.130Z"
   },
   {
    "duration": 5,
    "start_time": "2021-11-22T13:09:08.137Z"
   },
   {
    "duration": 5,
    "start_time": "2021-11-22T13:09:08.144Z"
   },
   {
    "duration": 24,
    "start_time": "2021-11-22T13:09:50.780Z"
   },
   {
    "duration": 227,
    "start_time": "2021-11-22T13:10:54.348Z"
   },
   {
    "duration": 264,
    "start_time": "2021-11-22T13:11:16.269Z"
   },
   {
    "duration": 200,
    "start_time": "2021-11-22T13:11:43.228Z"
   },
   {
    "duration": 22,
    "start_time": "2021-11-22T13:11:53.799Z"
   },
   {
    "duration": 19,
    "start_time": "2021-11-22T13:12:08.607Z"
   },
   {
    "duration": 226,
    "start_time": "2021-11-22T13:12:40.447Z"
   },
   {
    "duration": 203,
    "start_time": "2021-11-22T13:13:52.186Z"
   },
   {
    "duration": 28,
    "start_time": "2021-11-22T13:14:31.217Z"
   },
   {
    "duration": 27,
    "start_time": "2021-11-22T13:14:45.646Z"
   },
   {
    "duration": 28,
    "start_time": "2021-11-22T13:15:07.167Z"
   },
   {
    "duration": 191,
    "start_time": "2021-11-22T13:28:33.484Z"
   },
   {
    "duration": 182,
    "start_time": "2021-11-22T13:29:27.515Z"
   },
   {
    "duration": 2,
    "start_time": "2021-11-22T13:29:42.856Z"
   },
   {
    "duration": 151,
    "start_time": "2021-11-22T13:29:42.860Z"
   },
   {
    "duration": 9,
    "start_time": "2021-11-22T13:29:43.013Z"
   },
   {
    "duration": 49,
    "start_time": "2021-11-22T13:29:43.024Z"
   },
   {
    "duration": 30,
    "start_time": "2021-11-22T13:29:43.075Z"
   },
   {
    "duration": 37,
    "start_time": "2021-11-22T13:29:43.107Z"
   },
   {
    "duration": 11,
    "start_time": "2021-11-22T13:29:43.145Z"
   },
   {
    "duration": 33,
    "start_time": "2021-11-22T13:29:43.158Z"
   },
   {
    "duration": 210,
    "start_time": "2021-11-22T13:29:43.194Z"
   },
   {
    "duration": -777,
    "start_time": "2021-11-22T13:29:44.183Z"
   },
   {
    "duration": -782,
    "start_time": "2021-11-22T13:29:44.189Z"
   },
   {
    "duration": -785,
    "start_time": "2021-11-22T13:29:44.193Z"
   },
   {
    "duration": -804,
    "start_time": "2021-11-22T13:29:44.213Z"
   },
   {
    "duration": -828,
    "start_time": "2021-11-22T13:29:44.238Z"
   },
   {
    "duration": -882,
    "start_time": "2021-11-22T13:29:44.293Z"
   },
   {
    "duration": -883,
    "start_time": "2021-11-22T13:29:44.295Z"
   },
   {
    "duration": -886,
    "start_time": "2021-11-22T13:29:44.299Z"
   },
   {
    "duration": -887,
    "start_time": "2021-11-22T13:29:44.301Z"
   },
   {
    "duration": -890,
    "start_time": "2021-11-22T13:29:44.304Z"
   },
   {
    "duration": -902,
    "start_time": "2021-11-22T13:29:44.317Z"
   },
   {
    "duration": -903,
    "start_time": "2021-11-22T13:29:44.319Z"
   },
   {
    "duration": -904,
    "start_time": "2021-11-22T13:29:44.321Z"
   },
   {
    "duration": -906,
    "start_time": "2021-11-22T13:29:44.324Z"
   },
   {
    "duration": -907,
    "start_time": "2021-11-22T13:29:44.326Z"
   },
   {
    "duration": -908,
    "start_time": "2021-11-22T13:29:44.328Z"
   },
   {
    "duration": -909,
    "start_time": "2021-11-22T13:29:44.330Z"
   },
   {
    "duration": -910,
    "start_time": "2021-11-22T13:29:44.332Z"
   },
   {
    "duration": -911,
    "start_time": "2021-11-22T13:29:44.334Z"
   },
   {
    "duration": -922,
    "start_time": "2021-11-22T13:29:44.346Z"
   },
   {
    "duration": -923,
    "start_time": "2021-11-22T13:29:44.348Z"
   },
   {
    "duration": -923,
    "start_time": "2021-11-22T13:29:44.349Z"
   },
   {
    "duration": -925,
    "start_time": "2021-11-22T13:29:44.352Z"
   },
   {
    "duration": -926,
    "start_time": "2021-11-22T13:29:44.354Z"
   },
   {
    "duration": -928,
    "start_time": "2021-11-22T13:29:44.357Z"
   },
   {
    "duration": -929,
    "start_time": "2021-11-22T13:29:44.359Z"
   },
   {
    "duration": -930,
    "start_time": "2021-11-22T13:29:44.361Z"
   },
   {
    "duration": -931,
    "start_time": "2021-11-22T13:29:44.363Z"
   },
   {
    "duration": -932,
    "start_time": "2021-11-22T13:29:44.365Z"
   },
   {
    "duration": 9,
    "start_time": "2021-11-22T13:30:43.983Z"
   },
   {
    "duration": 23,
    "start_time": "2021-11-22T13:30:50.696Z"
   },
   {
    "duration": 18,
    "start_time": "2021-11-22T13:31:23.945Z"
   },
   {
    "duration": 22,
    "start_time": "2021-11-22T13:31:28.463Z"
   },
   {
    "duration": 22,
    "start_time": "2021-11-22T13:33:05.056Z"
   },
   {
    "duration": 23,
    "start_time": "2021-11-22T13:33:09.013Z"
   },
   {
    "duration": 16,
    "start_time": "2021-11-22T13:33:11.383Z"
   },
   {
    "duration": 57,
    "start_time": "2021-11-22T13:36:20.896Z"
   },
   {
    "duration": 54,
    "start_time": "2021-11-22T14:11:54.640Z"
   },
   {
    "duration": 63,
    "start_time": "2021-11-22T14:14:30.569Z"
   },
   {
    "duration": 49,
    "start_time": "2021-11-22T14:14:33.312Z"
   },
   {
    "duration": 204,
    "start_time": "2021-11-22T14:23:08.422Z"
   },
   {
    "duration": 178,
    "start_time": "2021-11-22T14:23:19.133Z"
   },
   {
    "duration": 597,
    "start_time": "2021-11-22T14:23:27.594Z"
   },
   {
    "duration": 141,
    "start_time": "2021-11-22T14:23:28.193Z"
   },
   {
    "duration": 18,
    "start_time": "2021-11-22T14:23:28.336Z"
   },
   {
    "duration": 38,
    "start_time": "2021-11-22T14:23:28.356Z"
   },
   {
    "duration": 4,
    "start_time": "2021-11-22T14:23:28.396Z"
   },
   {
    "duration": 28,
    "start_time": "2021-11-22T14:23:28.402Z"
   },
   {
    "duration": 9,
    "start_time": "2021-11-22T14:23:28.432Z"
   },
   {
    "duration": 32,
    "start_time": "2021-11-22T14:23:28.444Z"
   },
   {
    "duration": 29,
    "start_time": "2021-11-22T14:23:28.478Z"
   },
   {
    "duration": 30,
    "start_time": "2021-11-22T14:23:28.508Z"
   },
   {
    "duration": 66,
    "start_time": "2021-11-22T14:23:28.541Z"
   },
   {
    "duration": 70,
    "start_time": "2021-11-22T14:23:28.609Z"
   },
   {
    "duration": 59,
    "start_time": "2021-11-22T14:23:28.681Z"
   },
   {
    "duration": 8,
    "start_time": "2021-11-22T14:23:28.742Z"
   },
   {
    "duration": 2,
    "start_time": "2021-11-22T14:23:28.752Z"
   },
   {
    "duration": 4,
    "start_time": "2021-11-22T14:23:28.756Z"
   },
   {
    "duration": 29,
    "start_time": "2021-11-22T14:23:28.762Z"
   },
   {
    "duration": 5,
    "start_time": "2021-11-22T14:23:28.793Z"
   },
   {
    "duration": 5,
    "start_time": "2021-11-22T14:23:28.799Z"
   },
   {
    "duration": 5,
    "start_time": "2021-11-22T14:23:28.805Z"
   },
   {
    "duration": 7,
    "start_time": "2021-11-22T14:23:28.811Z"
   },
   {
    "duration": 5,
    "start_time": "2021-11-22T14:23:28.819Z"
   },
   {
    "duration": 3,
    "start_time": "2021-11-22T14:23:28.827Z"
   },
   {
    "duration": 4,
    "start_time": "2021-11-22T14:23:28.832Z"
   },
   {
    "duration": 5,
    "start_time": "2021-11-22T14:23:28.837Z"
   },
   {
    "duration": 7,
    "start_time": "2021-11-22T14:23:28.843Z"
   },
   {
    "duration": 4,
    "start_time": "2021-11-22T14:23:28.851Z"
   },
   {
    "duration": 35,
    "start_time": "2021-11-22T14:23:28.857Z"
   },
   {
    "duration": 5,
    "start_time": "2021-11-22T14:23:28.893Z"
   },
   {
    "duration": 4,
    "start_time": "2021-11-22T14:23:28.900Z"
   },
   {
    "duration": 6,
    "start_time": "2021-11-22T14:23:28.906Z"
   },
   {
    "duration": 4,
    "start_time": "2021-11-22T14:23:28.914Z"
   },
   {
    "duration": 7,
    "start_time": "2021-11-22T14:23:28.920Z"
   },
   {
    "duration": 4,
    "start_time": "2021-11-22T14:23:28.929Z"
   },
   {
    "duration": 5,
    "start_time": "2021-11-22T14:23:28.935Z"
   },
   {
    "duration": 5,
    "start_time": "2021-11-22T14:23:28.941Z"
   },
   {
    "duration": 4,
    "start_time": "2021-11-22T14:23:28.948Z"
   },
   {
    "duration": 4,
    "start_time": "2021-11-22T14:23:28.954Z"
   },
   {
    "duration": 3,
    "start_time": "2021-11-22T15:41:53.655Z"
   },
   {
    "duration": 5418,
    "start_time": "2021-11-22T15:51:13.856Z"
   },
   {
    "duration": 3,
    "start_time": "2021-11-22T15:52:01.956Z"
   },
   {
    "duration": 4938,
    "start_time": "2021-11-22T15:52:05.805Z"
   },
   {
    "duration": 2,
    "start_time": "2021-11-22T15:53:13.547Z"
   },
   {
    "duration": 128,
    "start_time": "2021-11-22T15:53:13.555Z"
   },
   {
    "duration": 13,
    "start_time": "2021-11-22T15:53:13.685Z"
   },
   {
    "duration": 25,
    "start_time": "2021-11-22T15:53:13.701Z"
   },
   {
    "duration": 4,
    "start_time": "2021-11-22T15:53:13.728Z"
   },
   {
    "duration": 15,
    "start_time": "2021-11-22T15:53:13.733Z"
   },
   {
    "duration": 3,
    "start_time": "2021-11-22T15:53:13.750Z"
   },
   {
    "duration": 53,
    "start_time": "2021-11-22T15:53:13.754Z"
   },
   {
    "duration": 17,
    "start_time": "2021-11-22T15:53:13.809Z"
   },
   {
    "duration": 22,
    "start_time": "2021-11-22T15:53:13.829Z"
   },
   {
    "duration": 70,
    "start_time": "2021-11-22T15:53:13.853Z"
   },
   {
    "duration": 66,
    "start_time": "2021-11-22T15:53:13.925Z"
   },
   {
    "duration": 45,
    "start_time": "2021-11-22T15:53:13.993Z"
   },
   {
    "duration": 9,
    "start_time": "2021-11-22T15:53:14.040Z"
   },
   {
    "duration": 4,
    "start_time": "2021-11-22T15:53:14.051Z"
   },
   {
    "duration": 4751,
    "start_time": "2021-11-22T15:53:14.056Z"
   },
   {
    "duration": -743,
    "start_time": "2021-11-22T15:53:19.552Z"
   },
   {
    "duration": -744,
    "start_time": "2021-11-22T15:53:19.554Z"
   },
   {
    "duration": -746,
    "start_time": "2021-11-22T15:53:19.557Z"
   },
   {
    "duration": -747,
    "start_time": "2021-11-22T15:53:19.559Z"
   },
   {
    "duration": -754,
    "start_time": "2021-11-22T15:53:19.567Z"
   },
   {
    "duration": -755,
    "start_time": "2021-11-22T15:53:19.569Z"
   },
   {
    "duration": -756,
    "start_time": "2021-11-22T15:53:19.571Z"
   },
   {
    "duration": -758,
    "start_time": "2021-11-22T15:53:19.573Z"
   },
   {
    "duration": -758,
    "start_time": "2021-11-22T15:53:19.575Z"
   },
   {
    "duration": -759,
    "start_time": "2021-11-22T15:53:19.577Z"
   },
   {
    "duration": -761,
    "start_time": "2021-11-22T15:53:19.580Z"
   },
   {
    "duration": -763,
    "start_time": "2021-11-22T15:53:19.583Z"
   },
   {
    "duration": -764,
    "start_time": "2021-11-22T15:53:19.585Z"
   },
   {
    "duration": -764,
    "start_time": "2021-11-22T15:53:19.586Z"
   },
   {
    "duration": -765,
    "start_time": "2021-11-22T15:53:19.588Z"
   },
   {
    "duration": -766,
    "start_time": "2021-11-22T15:53:19.590Z"
   },
   {
    "duration": -767,
    "start_time": "2021-11-22T15:53:19.592Z"
   },
   {
    "duration": -768,
    "start_time": "2021-11-22T15:53:19.594Z"
   },
   {
    "duration": -769,
    "start_time": "2021-11-22T15:53:19.596Z"
   },
   {
    "duration": -771,
    "start_time": "2021-11-22T15:53:19.599Z"
   },
   {
    "duration": -772,
    "start_time": "2021-11-22T15:53:19.601Z"
   },
   {
    "duration": -773,
    "start_time": "2021-11-22T15:53:19.603Z"
   },
   {
    "duration": 2,
    "start_time": "2021-11-22T15:55:09.356Z"
   },
   {
    "duration": 16,
    "start_time": "2021-11-22T15:55:12.486Z"
   },
   {
    "duration": 10,
    "start_time": "2021-11-22T15:55:16.964Z"
   },
   {
    "duration": 61,
    "start_time": "2021-11-22T16:48:48.115Z"
   },
   {
    "duration": 55,
    "start_time": "2021-11-22T16:49:00.511Z"
   },
   {
    "duration": 10,
    "start_time": "2021-11-22T16:49:06.223Z"
   },
   {
    "duration": 54,
    "start_time": "2021-11-22T16:57:07.315Z"
   },
   {
    "duration": 10,
    "start_time": "2021-11-22T16:57:17.915Z"
   },
   {
    "duration": 195,
    "start_time": "2021-11-22T17:03:54.922Z"
   },
   {
    "duration": 203,
    "start_time": "2021-11-22T17:05:39.582Z"
   },
   {
    "duration": 5,
    "start_time": "2021-11-22T17:05:45.912Z"
   },
   {
    "duration": 6,
    "start_time": "2021-11-22T17:08:43.951Z"
   },
   {
    "duration": 184,
    "start_time": "2021-11-22T17:12:06.720Z"
   },
   {
    "duration": 12,
    "start_time": "2021-11-22T17:12:24.999Z"
   },
   {
    "duration": 19,
    "start_time": "2021-11-22T17:13:27.108Z"
   },
   {
    "duration": 198,
    "start_time": "2021-11-22T17:22:50.087Z"
   },
   {
    "duration": 200,
    "start_time": "2021-11-22T17:23:00.906Z"
   },
   {
    "duration": 196,
    "start_time": "2021-11-22T17:26:58.508Z"
   },
   {
    "duration": 20,
    "start_time": "2021-11-22T17:27:25.097Z"
   },
   {
    "duration": 19,
    "start_time": "2021-11-22T17:27:39.777Z"
   },
   {
    "duration": 19,
    "start_time": "2021-11-22T17:27:44.169Z"
   },
   {
    "duration": 25,
    "start_time": "2021-11-22T17:27:55.007Z"
   },
   {
    "duration": 39,
    "start_time": "2021-11-22T17:29:26.197Z"
   },
   {
    "duration": 35,
    "start_time": "2021-11-22T17:29:43.187Z"
   },
   {
    "duration": 25,
    "start_time": "2021-11-22T18:01:04.179Z"
   },
   {
    "duration": 40,
    "start_time": "2021-11-22T18:07:21.561Z"
   },
   {
    "duration": 40,
    "start_time": "2021-11-22T18:07:39.804Z"
   },
   {
    "duration": 203,
    "start_time": "2021-11-22T18:13:18.352Z"
   },
   {
    "duration": 198,
    "start_time": "2021-11-22T18:13:56.833Z"
   },
   {
    "duration": 24,
    "start_time": "2021-11-22T18:14:09.564Z"
   },
   {
    "duration": 26,
    "start_time": "2021-11-22T18:14:40.723Z"
   },
   {
    "duration": 51,
    "start_time": "2021-11-22T18:16:00.764Z"
   },
   {
    "duration": 204,
    "start_time": "2021-11-22T18:16:45.113Z"
   },
   {
    "duration": 32,
    "start_time": "2021-11-22T18:16:52.094Z"
   },
   {
    "duration": 29,
    "start_time": "2021-11-22T18:22:12.314Z"
   },
   {
    "duration": 268,
    "start_time": "2021-11-22T18:40:31.907Z"
   },
   {
    "duration": 63,
    "start_time": "2021-11-22T18:41:30.146Z"
   },
   {
    "duration": 974,
    "start_time": "2021-11-22T18:41:42.795Z"
   },
   {
    "duration": 52,
    "start_time": "2021-11-22T18:42:04.476Z"
   },
   {
    "duration": 35,
    "start_time": "2021-11-22T18:42:59.516Z"
   },
   {
    "duration": 31,
    "start_time": "2021-11-22T18:57:39.449Z"
   },
   {
    "duration": 32,
    "start_time": "2021-11-22T18:58:42.919Z"
   },
   {
    "duration": 56,
    "start_time": "2021-11-22T19:24:53.600Z"
   },
   {
    "duration": 66,
    "start_time": "2021-11-22T19:25:30.949Z"
   },
   {
    "duration": 81,
    "start_time": "2021-11-22T19:25:59.749Z"
   },
   {
    "duration": 62,
    "start_time": "2021-11-22T19:27:36.790Z"
   },
   {
    "duration": 33,
    "start_time": "2021-11-22T19:29:10.359Z"
   },
   {
    "duration": 39,
    "start_time": "2021-11-22T19:30:04.579Z"
   },
   {
    "duration": 44,
    "start_time": "2021-11-22T19:34:00.679Z"
   },
   {
    "duration": 44,
    "start_time": "2021-11-22T19:34:54.408Z"
   },
   {
    "duration": 40,
    "start_time": "2021-11-22T19:35:45.359Z"
   },
   {
    "duration": 35,
    "start_time": "2021-11-22T19:37:00.718Z"
   },
   {
    "duration": 10,
    "start_time": "2021-11-22T19:38:18.740Z"
   },
   {
    "duration": 27,
    "start_time": "2021-11-22T19:38:21.518Z"
   },
   {
    "duration": 31,
    "start_time": "2021-11-22T19:38:33.758Z"
   },
   {
    "duration": 29,
    "start_time": "2021-11-22T19:38:42.929Z"
   },
   {
    "duration": 27,
    "start_time": "2021-11-22T20:02:10.923Z"
   },
   {
    "duration": 207,
    "start_time": "2021-11-22T20:36:11.206Z"
   },
   {
    "duration": 393,
    "start_time": "2021-11-22T20:36:29.057Z"
   },
   {
    "duration": 3,
    "start_time": "2021-11-22T20:37:22.327Z"
   },
   {
    "duration": 333,
    "start_time": "2021-11-22T20:37:47.746Z"
   },
   {
    "duration": 296,
    "start_time": "2021-11-22T20:43:41.417Z"
   },
   {
    "duration": 20,
    "start_time": "2021-11-22T20:44:06.055Z"
   },
   {
    "duration": 23,
    "start_time": "2021-11-22T20:45:32.574Z"
   },
   {
    "duration": 5371,
    "start_time": "2021-11-22T20:50:11.344Z"
   },
   {
    "duration": 5192,
    "start_time": "2021-11-22T20:50:24.094Z"
   },
   {
    "duration": 21,
    "start_time": "2021-11-22T20:50:41.224Z"
   },
   {
    "duration": 21,
    "start_time": "2021-11-22T20:51:08.743Z"
   },
   {
    "duration": 411,
    "start_time": "2021-11-23T07:38:06.131Z"
   },
   {
    "duration": 794,
    "start_time": "2021-11-23T07:38:14.104Z"
   },
   {
    "duration": 205,
    "start_time": "2021-11-23T07:38:14.900Z"
   },
   {
    "duration": 23,
    "start_time": "2021-11-23T07:38:15.108Z"
   },
   {
    "duration": 39,
    "start_time": "2021-11-23T07:38:15.134Z"
   },
   {
    "duration": 25,
    "start_time": "2021-11-23T07:38:15.175Z"
   },
   {
    "duration": 25,
    "start_time": "2021-11-23T07:38:15.202Z"
   },
   {
    "duration": 7,
    "start_time": "2021-11-23T07:38:15.230Z"
   },
   {
    "duration": 61,
    "start_time": "2021-11-23T07:38:15.239Z"
   },
   {
    "duration": 23,
    "start_time": "2021-11-23T07:38:15.304Z"
   },
   {
    "duration": 30,
    "start_time": "2021-11-23T07:38:15.330Z"
   },
   {
    "duration": 112,
    "start_time": "2021-11-23T07:38:15.363Z"
   },
   {
    "duration": 104,
    "start_time": "2021-11-23T07:38:15.478Z"
   },
   {
    "duration": 92,
    "start_time": "2021-11-23T07:38:15.585Z"
   },
   {
    "duration": 26,
    "start_time": "2021-11-23T07:38:15.680Z"
   },
   {
    "duration": 4,
    "start_time": "2021-11-23T07:38:15.708Z"
   },
   {
    "duration": 110,
    "start_time": "2021-11-23T07:38:15.714Z"
   },
   {
    "duration": 16,
    "start_time": "2021-11-23T07:38:15.827Z"
   },
   {
    "duration": 20,
    "start_time": "2021-11-23T07:38:15.846Z"
   },
   {
    "duration": 66,
    "start_time": "2021-11-23T07:38:15.868Z"
   },
   {
    "duration": 27,
    "start_time": "2021-11-23T07:38:15.937Z"
   },
   {
    "duration": 2,
    "start_time": "2021-11-23T07:38:15.967Z"
   },
   {
    "duration": 29,
    "start_time": "2021-11-23T07:38:15.972Z"
   },
   {
    "duration": 6,
    "start_time": "2021-11-23T07:38:16.004Z"
   },
   {
    "duration": 5,
    "start_time": "2021-11-23T07:38:16.012Z"
   },
   {
    "duration": 10,
    "start_time": "2021-11-23T07:38:16.020Z"
   },
   {
    "duration": 5,
    "start_time": "2021-11-23T07:38:16.032Z"
   },
   {
    "duration": 4,
    "start_time": "2021-11-23T07:38:16.041Z"
   },
   {
    "duration": 65,
    "start_time": "2021-11-23T07:38:16.048Z"
   },
   {
    "duration": 8,
    "start_time": "2021-11-23T07:38:16.116Z"
   },
   {
    "duration": 12,
    "start_time": "2021-11-23T07:38:16.127Z"
   },
   {
    "duration": 11,
    "start_time": "2021-11-23T07:38:16.142Z"
   },
   {
    "duration": 13,
    "start_time": "2021-11-23T07:38:16.155Z"
   },
   {
    "duration": 13,
    "start_time": "2021-11-23T07:38:16.170Z"
   },
   {
    "duration": 10,
    "start_time": "2021-11-23T07:38:16.185Z"
   },
   {
    "duration": 12,
    "start_time": "2021-11-23T07:38:16.198Z"
   },
   {
    "duration": 8,
    "start_time": "2021-11-23T07:38:16.212Z"
   },
   {
    "duration": 7,
    "start_time": "2021-11-23T07:38:16.223Z"
   },
   {
    "duration": 7,
    "start_time": "2021-11-23T07:38:16.232Z"
   },
   {
    "duration": 86,
    "start_time": "2021-11-23T07:38:59.343Z"
   },
   {
    "duration": 15,
    "start_time": "2021-11-23T07:39:07.746Z"
   },
   {
    "duration": 13,
    "start_time": "2021-11-23T07:39:19.336Z"
   },
   {
    "duration": 86,
    "start_time": "2021-11-23T07:40:29.230Z"
   },
   {
    "duration": 13,
    "start_time": "2021-11-23T07:40:34.311Z"
   },
   {
    "duration": 3,
    "start_time": "2021-11-23T07:40:44.615Z"
   },
   {
    "duration": 217,
    "start_time": "2021-11-23T07:40:44.621Z"
   },
   {
    "duration": 13,
    "start_time": "2021-11-23T07:40:44.842Z"
   },
   {
    "duration": 49,
    "start_time": "2021-11-23T07:40:44.858Z"
   },
   {
    "duration": 5,
    "start_time": "2021-11-23T07:40:44.909Z"
   },
   {
    "duration": 19,
    "start_time": "2021-11-23T07:40:44.916Z"
   },
   {
    "duration": 6,
    "start_time": "2021-11-23T07:40:44.937Z"
   },
   {
    "duration": 66,
    "start_time": "2021-11-23T07:40:44.946Z"
   },
   {
    "duration": 48,
    "start_time": "2021-11-23T07:40:45.015Z"
   },
   {
    "duration": 31,
    "start_time": "2021-11-23T07:40:45.065Z"
   },
   {
    "duration": 86,
    "start_time": "2021-11-23T07:40:45.098Z"
   },
   {
    "duration": 103,
    "start_time": "2021-11-23T07:40:45.187Z"
   },
   {
    "duration": 85,
    "start_time": "2021-11-23T07:40:45.292Z"
   },
   {
    "duration": 30,
    "start_time": "2021-11-23T07:40:45.380Z"
   },
   {
    "duration": 5,
    "start_time": "2021-11-23T07:40:45.412Z"
   },
   {
    "duration": 113,
    "start_time": "2021-11-23T07:40:45.419Z"
   },
   {
    "duration": 14,
    "start_time": "2021-11-23T07:40:45.534Z"
   },
   {
    "duration": 14,
    "start_time": "2021-11-23T07:40:45.550Z"
   },
   {
    "duration": 71,
    "start_time": "2021-11-23T07:40:45.566Z"
   },
   {
    "duration": 30,
    "start_time": "2021-11-23T07:40:45.640Z"
   },
   {
    "duration": 27,
    "start_time": "2021-11-23T07:40:45.673Z"
   },
   {
    "duration": 4,
    "start_time": "2021-11-23T07:40:45.704Z"
   },
   {
    "duration": 6,
    "start_time": "2021-11-23T07:40:45.713Z"
   },
   {
    "duration": 6,
    "start_time": "2021-11-23T07:40:45.722Z"
   },
   {
    "duration": 15,
    "start_time": "2021-11-23T07:40:45.731Z"
   },
   {
    "duration": 9,
    "start_time": "2021-11-23T07:40:45.749Z"
   },
   {
    "duration": 8,
    "start_time": "2021-11-23T07:40:45.760Z"
   },
   {
    "duration": 30,
    "start_time": "2021-11-23T07:40:45.771Z"
   },
   {
    "duration": 7,
    "start_time": "2021-11-23T07:40:45.803Z"
   },
   {
    "duration": 8,
    "start_time": "2021-11-23T07:40:45.812Z"
   },
   {
    "duration": 13,
    "start_time": "2021-11-23T07:40:45.823Z"
   },
   {
    "duration": 7,
    "start_time": "2021-11-23T07:40:45.839Z"
   },
   {
    "duration": 12,
    "start_time": "2021-11-23T07:40:45.849Z"
   },
   {
    "duration": 7,
    "start_time": "2021-11-23T07:40:45.864Z"
   },
   {
    "duration": 8,
    "start_time": "2021-11-23T07:40:45.873Z"
   },
   {
    "duration": 4,
    "start_time": "2021-11-23T07:40:45.899Z"
   },
   {
    "duration": 7,
    "start_time": "2021-11-23T07:40:45.906Z"
   },
   {
    "duration": 8,
    "start_time": "2021-11-23T07:40:45.915Z"
   },
   {
    "duration": 15,
    "start_time": "2021-11-23T07:41:32.895Z"
   },
   {
    "duration": 95,
    "start_time": "2021-11-23T07:42:12.391Z"
   },
   {
    "duration": 15,
    "start_time": "2021-11-23T07:42:14.015Z"
   },
   {
    "duration": 4,
    "start_time": "2021-11-23T07:42:24.686Z"
   },
   {
    "duration": 207,
    "start_time": "2021-11-23T07:42:24.693Z"
   },
   {
    "duration": 15,
    "start_time": "2021-11-23T07:42:24.903Z"
   },
   {
    "duration": 53,
    "start_time": "2021-11-23T07:42:24.921Z"
   },
   {
    "duration": 6,
    "start_time": "2021-11-23T07:42:24.977Z"
   },
   {
    "duration": 21,
    "start_time": "2021-11-23T07:42:25.001Z"
   },
   {
    "duration": 7,
    "start_time": "2021-11-23T07:42:25.025Z"
   },
   {
    "duration": 38,
    "start_time": "2021-11-23T07:42:25.034Z"
   },
   {
    "duration": 23,
    "start_time": "2021-11-23T07:42:25.102Z"
   },
   {
    "duration": 30,
    "start_time": "2021-11-23T07:42:25.128Z"
   },
   {
    "duration": 115,
    "start_time": "2021-11-23T07:42:25.161Z"
   },
   {
    "duration": 114,
    "start_time": "2021-11-23T07:42:25.279Z"
   },
   {
    "duration": 79,
    "start_time": "2021-11-23T07:42:25.400Z"
   },
   {
    "duration": 29,
    "start_time": "2021-11-23T07:42:25.482Z"
   },
   {
    "duration": 4,
    "start_time": "2021-11-23T07:42:25.514Z"
   },
   {
    "duration": 104,
    "start_time": "2021-11-23T07:42:25.520Z"
   },
   {
    "duration": 14,
    "start_time": "2021-11-23T07:42:25.626Z"
   },
   {
    "duration": 16,
    "start_time": "2021-11-23T07:42:25.643Z"
   },
   {
    "duration": 71,
    "start_time": "2021-11-23T07:42:25.661Z"
   },
   {
    "duration": 31,
    "start_time": "2021-11-23T07:42:25.734Z"
   },
   {
    "duration": 3,
    "start_time": "2021-11-23T07:42:25.767Z"
   },
   {
    "duration": 3,
    "start_time": "2021-11-23T07:42:25.800Z"
   },
   {
    "duration": 14,
    "start_time": "2021-11-23T07:42:25.806Z"
   },
   {
    "duration": 13,
    "start_time": "2021-11-23T07:42:25.823Z"
   },
   {
    "duration": 25,
    "start_time": "2021-11-23T07:42:25.839Z"
   },
   {
    "duration": 13,
    "start_time": "2021-11-23T07:42:25.867Z"
   },
   {
    "duration": 18,
    "start_time": "2021-11-23T07:42:25.888Z"
   },
   {
    "duration": 16,
    "start_time": "2021-11-23T07:42:25.910Z"
   },
   {
    "duration": 11,
    "start_time": "2021-11-23T07:42:25.930Z"
   },
   {
    "duration": 34,
    "start_time": "2021-11-23T07:42:25.944Z"
   },
   {
    "duration": 19,
    "start_time": "2021-11-23T07:42:25.982Z"
   },
   {
    "duration": 16,
    "start_time": "2021-11-23T07:42:26.004Z"
   },
   {
    "duration": 27,
    "start_time": "2021-11-23T07:42:26.023Z"
   },
   {
    "duration": 9,
    "start_time": "2021-11-23T07:42:26.053Z"
   },
   {
    "duration": 20,
    "start_time": "2021-11-23T07:42:26.065Z"
   },
   {
    "duration": 15,
    "start_time": "2021-11-23T07:42:26.088Z"
   },
   {
    "duration": 11,
    "start_time": "2021-11-23T07:42:26.105Z"
   },
   {
    "duration": 15,
    "start_time": "2021-11-23T07:42:26.118Z"
   },
   {
    "duration": 137,
    "start_time": "2021-11-23T08:06:39.935Z"
   },
   {
    "duration": 14,
    "start_time": "2021-11-23T08:06:50.181Z"
   },
   {
    "duration": 28,
    "start_time": "2021-11-23T08:07:40.522Z"
   },
   {
    "duration": 22,
    "start_time": "2021-11-23T08:08:16.334Z"
   },
   {
    "duration": 5036,
    "start_time": "2021-11-23T08:10:04.794Z"
   },
   {
    "duration": 22,
    "start_time": "2021-11-23T08:10:19.981Z"
   },
   {
    "duration": 29,
    "start_time": "2021-11-23T08:11:06.534Z"
   },
   {
    "duration": 18,
    "start_time": "2021-11-23T08:33:38.372Z"
   },
   {
    "duration": 19,
    "start_time": "2021-11-23T08:34:23.391Z"
   },
   {
    "duration": 19,
    "start_time": "2021-11-23T08:34:46.550Z"
   },
   {
    "duration": 23,
    "start_time": "2021-11-23T08:35:31.390Z"
   },
   {
    "duration": 20,
    "start_time": "2021-11-23T08:35:49.812Z"
   },
   {
    "duration": 6,
    "start_time": "2021-11-23T12:46:26.199Z"
   },
   {
    "duration": 805,
    "start_time": "2021-11-23T13:26:00.179Z"
   },
   {
    "duration": 904,
    "start_time": "2021-11-23T13:26:13.371Z"
   },
   {
    "duration": 205,
    "start_time": "2021-11-23T13:26:14.278Z"
   },
   {
    "duration": 29,
    "start_time": "2021-11-23T13:26:14.486Z"
   },
   {
    "duration": 33,
    "start_time": "2021-11-23T13:26:14.518Z"
   },
   {
    "duration": 5,
    "start_time": "2021-11-23T13:26:14.554Z"
   },
   {
    "duration": 65,
    "start_time": "2021-11-23T13:26:14.562Z"
   },
   {
    "duration": 6,
    "start_time": "2021-11-23T13:26:14.630Z"
   },
   {
    "duration": 34,
    "start_time": "2021-11-23T13:26:14.639Z"
   },
   {
    "duration": 42,
    "start_time": "2021-11-23T13:26:14.676Z"
   },
   {
    "duration": 31,
    "start_time": "2021-11-23T13:26:14.721Z"
   },
   {
    "duration": 114,
    "start_time": "2021-11-23T13:26:14.754Z"
   },
   {
    "duration": 109,
    "start_time": "2021-11-23T13:26:14.870Z"
   },
   {
    "duration": 86,
    "start_time": "2021-11-23T13:26:14.981Z"
   },
   {
    "duration": 33,
    "start_time": "2021-11-23T13:26:15.069Z"
   },
   {
    "duration": 4,
    "start_time": "2021-11-23T13:26:15.104Z"
   },
   {
    "duration": 99,
    "start_time": "2021-11-23T13:26:15.110Z"
   },
   {
    "duration": 14,
    "start_time": "2021-11-23T13:26:15.211Z"
   },
   {
    "duration": 14,
    "start_time": "2021-11-23T13:26:15.227Z"
   },
   {
    "duration": 77,
    "start_time": "2021-11-23T13:26:15.243Z"
   },
   {
    "duration": 4,
    "start_time": "2021-11-23T13:26:15.323Z"
   },
   {
    "duration": 35,
    "start_time": "2021-11-23T13:26:15.329Z"
   },
   {
    "duration": 18,
    "start_time": "2021-11-23T13:26:15.367Z"
   },
   {
    "duration": 20,
    "start_time": "2021-11-23T13:26:15.400Z"
   },
   {
    "duration": 19,
    "start_time": "2021-11-23T13:26:15.423Z"
   },
   {
    "duration": 21,
    "start_time": "2021-11-23T13:26:15.444Z"
   },
   {
    "duration": 20,
    "start_time": "2021-11-23T13:26:15.501Z"
   },
   {
    "duration": 756,
    "start_time": "2021-11-23T13:26:15.524Z"
   },
   {
    "duration": 756,
    "start_time": "2021-11-23T13:28:09.030Z"
   },
   {
    "duration": 694,
    "start_time": "2021-11-23T13:28:23.285Z"
   },
   {
    "duration": 806,
    "start_time": "2021-11-23T13:29:04.399Z"
   },
   {
    "duration": 679,
    "start_time": "2021-11-23T13:29:29.994Z"
   },
   {
    "duration": 121,
    "start_time": "2021-11-23T13:32:14.740Z"
   },
   {
    "duration": 123,
    "start_time": "2021-11-23T13:33:46.431Z"
   },
   {
    "duration": 6,
    "start_time": "2021-11-23T13:33:52.422Z"
   },
   {
    "duration": 764,
    "start_time": "2021-11-23T13:35:38.823Z"
   },
   {
    "duration": 4,
    "start_time": "2021-11-23T13:35:45.123Z"
   },
   {
    "duration": 215,
    "start_time": "2021-11-23T13:35:45.130Z"
   },
   {
    "duration": 16,
    "start_time": "2021-11-23T13:35:45.348Z"
   },
   {
    "duration": 55,
    "start_time": "2021-11-23T13:35:45.367Z"
   },
   {
    "duration": 7,
    "start_time": "2021-11-23T13:35:45.425Z"
   },
   {
    "duration": 17,
    "start_time": "2021-11-23T13:35:45.435Z"
   },
   {
    "duration": 7,
    "start_time": "2021-11-23T13:35:45.454Z"
   },
   {
    "duration": 31,
    "start_time": "2021-11-23T13:35:45.502Z"
   },
   {
    "duration": 23,
    "start_time": "2021-11-23T13:35:45.539Z"
   },
   {
    "duration": 63,
    "start_time": "2021-11-23T13:35:45.566Z"
   },
   {
    "duration": 109,
    "start_time": "2021-11-23T13:35:45.632Z"
   },
   {
    "duration": 102,
    "start_time": "2021-11-23T13:35:45.744Z"
   },
   {
    "duration": 82,
    "start_time": "2021-11-23T13:35:45.849Z"
   },
   {
    "duration": 13,
    "start_time": "2021-11-23T13:35:45.934Z"
   },
   {
    "duration": 4,
    "start_time": "2021-11-23T13:35:45.949Z"
   },
   {
    "duration": 112,
    "start_time": "2021-11-23T13:35:45.955Z"
   },
   {
    "duration": 14,
    "start_time": "2021-11-23T13:35:46.069Z"
   },
   {
    "duration": 15,
    "start_time": "2021-11-23T13:35:46.100Z"
   },
   {
    "duration": 41,
    "start_time": "2021-11-23T13:35:46.117Z"
   },
   {
    "duration": 4,
    "start_time": "2021-11-23T13:35:46.160Z"
   },
   {
    "duration": 48,
    "start_time": "2021-11-23T13:35:46.167Z"
   },
   {
    "duration": 17,
    "start_time": "2021-11-23T13:35:46.218Z"
   },
   {
    "duration": 19,
    "start_time": "2021-11-23T13:35:46.238Z"
   },
   {
    "duration": 55,
    "start_time": "2021-11-23T13:35:46.259Z"
   },
   {
    "duration": 22,
    "start_time": "2021-11-23T13:35:46.316Z"
   },
   {
    "duration": 19,
    "start_time": "2021-11-23T13:35:46.340Z"
   },
   {
    "duration": 750,
    "start_time": "2021-11-23T13:35:46.364Z"
   },
   {
    "duration": 41,
    "start_time": "2021-11-23T13:36:36.467Z"
   },
   {
    "duration": 3,
    "start_time": "2021-11-23T13:37:36.450Z"
   },
   {
    "duration": 205,
    "start_time": "2021-11-23T13:37:36.456Z"
   },
   {
    "duration": 15,
    "start_time": "2021-11-23T13:37:36.664Z"
   },
   {
    "duration": 42,
    "start_time": "2021-11-23T13:37:36.682Z"
   },
   {
    "duration": 5,
    "start_time": "2021-11-23T13:37:36.727Z"
   },
   {
    "duration": 17,
    "start_time": "2021-11-23T13:37:36.734Z"
   },
   {
    "duration": 5,
    "start_time": "2021-11-23T13:37:36.754Z"
   },
   {
    "duration": 66,
    "start_time": "2021-11-23T13:37:36.761Z"
   },
   {
    "duration": 26,
    "start_time": "2021-11-23T13:37:36.831Z"
   },
   {
    "duration": 47,
    "start_time": "2021-11-23T13:37:36.860Z"
   },
   {
    "duration": 104,
    "start_time": "2021-11-23T13:37:36.909Z"
   },
   {
    "duration": 109,
    "start_time": "2021-11-23T13:37:37.016Z"
   },
   {
    "duration": 84,
    "start_time": "2021-11-23T13:37:37.128Z"
   },
   {
    "duration": 14,
    "start_time": "2021-11-23T13:37:37.214Z"
   },
   {
    "duration": 4,
    "start_time": "2021-11-23T13:37:37.230Z"
   },
   {
    "duration": 111,
    "start_time": "2021-11-23T13:37:37.236Z"
   },
   {
    "duration": 14,
    "start_time": "2021-11-23T13:37:37.349Z"
   },
   {
    "duration": 13,
    "start_time": "2021-11-23T13:37:37.365Z"
   },
   {
    "duration": 42,
    "start_time": "2021-11-23T13:37:37.401Z"
   },
   {
    "duration": 5,
    "start_time": "2021-11-23T13:37:37.446Z"
   },
   {
    "duration": 51,
    "start_time": "2021-11-23T13:37:37.453Z"
   },
   {
    "duration": 20,
    "start_time": "2021-11-23T13:37:37.506Z"
   },
   {
    "duration": 18,
    "start_time": "2021-11-23T13:37:37.529Z"
   },
   {
    "duration": 52,
    "start_time": "2021-11-23T13:37:37.550Z"
   },
   {
    "duration": 22,
    "start_time": "2021-11-23T13:37:37.604Z"
   },
   {
    "duration": 19,
    "start_time": "2021-11-23T13:37:37.628Z"
   },
   {
    "duration": 66,
    "start_time": "2021-11-23T13:37:37.651Z"
   },
   {
    "duration": 43,
    "start_time": "2021-11-23T13:39:05.692Z"
   },
   {
    "duration": 23,
    "start_time": "2021-11-23T13:39:16.173Z"
   },
   {
    "duration": 44,
    "start_time": "2021-11-23T13:40:06.605Z"
   },
   {
    "duration": 119,
    "start_time": "2021-11-23T13:40:53.513Z"
   },
   {
    "duration": 113,
    "start_time": "2021-11-23T13:41:15.043Z"
   },
   {
    "duration": 132,
    "start_time": "2021-11-23T13:41:28.540Z"
   },
   {
    "duration": 430,
    "start_time": "2021-11-23T13:42:34.116Z"
   },
   {
    "duration": 45,
    "start_time": "2021-11-23T13:43:16.072Z"
   },
   {
    "duration": 4,
    "start_time": "2021-11-23T13:44:51.521Z"
   },
   {
    "duration": 203,
    "start_time": "2021-11-23T13:44:51.528Z"
   },
   {
    "duration": 16,
    "start_time": "2021-11-23T13:44:51.734Z"
   },
   {
    "duration": 56,
    "start_time": "2021-11-23T13:44:51.753Z"
   },
   {
    "duration": 6,
    "start_time": "2021-11-23T13:44:51.812Z"
   },
   {
    "duration": 27,
    "start_time": "2021-11-23T13:44:51.820Z"
   },
   {
    "duration": 5,
    "start_time": "2021-11-23T13:44:51.850Z"
   },
   {
    "duration": 61,
    "start_time": "2021-11-23T13:44:51.857Z"
   },
   {
    "duration": 23,
    "start_time": "2021-11-23T13:44:51.923Z"
   },
   {
    "duration": 30,
    "start_time": "2021-11-23T13:44:51.949Z"
   },
   {
    "duration": 83,
    "start_time": "2021-11-23T13:44:52.001Z"
   },
   {
    "duration": 107,
    "start_time": "2021-11-23T13:44:52.100Z"
   },
   {
    "duration": 77,
    "start_time": "2021-11-23T13:44:52.209Z"
   },
   {
    "duration": 13,
    "start_time": "2021-11-23T13:44:52.300Z"
   },
   {
    "duration": 8,
    "start_time": "2021-11-23T13:44:52.316Z"
   },
   {
    "duration": 102,
    "start_time": "2021-11-23T13:44:52.326Z"
   },
   {
    "duration": 14,
    "start_time": "2021-11-23T13:44:52.430Z"
   },
   {
    "duration": 17,
    "start_time": "2021-11-23T13:44:52.446Z"
   },
   {
    "duration": 67,
    "start_time": "2021-11-23T13:44:52.466Z"
   },
   {
    "duration": 5,
    "start_time": "2021-11-23T13:44:52.535Z"
   },
   {
    "duration": 27,
    "start_time": "2021-11-23T13:44:52.542Z"
   },
   {
    "duration": 39,
    "start_time": "2021-11-23T13:44:52.571Z"
   },
   {
    "duration": 24,
    "start_time": "2021-11-23T13:44:52.612Z"
   },
   {
    "duration": 18,
    "start_time": "2021-11-23T13:44:52.638Z"
   },
   {
    "duration": 52,
    "start_time": "2021-11-23T13:44:52.658Z"
   },
   {
    "duration": 21,
    "start_time": "2021-11-23T13:44:52.713Z"
   },
   {
    "duration": 109,
    "start_time": "2021-11-23T14:22:26.102Z"
   },
   {
    "duration": 370,
    "start_time": "2021-11-23T14:25:23.701Z"
   },
   {
    "duration": 456,
    "start_time": "2021-11-23T14:26:01.671Z"
   },
   {
    "duration": 390,
    "start_time": "2021-11-23T14:26:30.022Z"
   },
   {
    "duration": 97,
    "start_time": "2021-11-23T14:27:25.980Z"
   },
   {
    "duration": 93,
    "start_time": "2021-11-23T14:28:13.881Z"
   },
   {
    "duration": 93,
    "start_time": "2021-11-23T14:28:35.478Z"
   },
   {
    "duration": 464,
    "start_time": "2021-11-23T15:32:15.575Z"
   },
   {
    "duration": 91,
    "start_time": "2021-11-23T15:32:55.463Z"
   },
   {
    "duration": 1534,
    "start_time": "2021-11-23T15:39:08.194Z"
   },
   {
    "duration": 3,
    "start_time": "2021-11-23T15:39:30.942Z"
   },
   {
    "duration": 223,
    "start_time": "2021-11-23T15:39:30.948Z"
   },
   {
    "duration": 16,
    "start_time": "2021-11-23T15:39:31.174Z"
   },
   {
    "duration": 46,
    "start_time": "2021-11-23T15:39:31.200Z"
   },
   {
    "duration": 34,
    "start_time": "2021-11-23T15:39:31.249Z"
   },
   {
    "duration": 35,
    "start_time": "2021-11-23T15:39:31.285Z"
   },
   {
    "duration": 19,
    "start_time": "2021-11-23T15:39:31.323Z"
   },
   {
    "duration": 38,
    "start_time": "2021-11-23T15:39:31.346Z"
   },
   {
    "duration": 28,
    "start_time": "2021-11-23T15:39:31.387Z"
   },
   {
    "duration": 39,
    "start_time": "2021-11-23T15:39:31.418Z"
   },
   {
    "duration": 102,
    "start_time": "2021-11-23T15:39:31.459Z"
   },
   {
    "duration": 111,
    "start_time": "2021-11-23T15:39:31.563Z"
   },
   {
    "duration": 88,
    "start_time": "2021-11-23T15:39:31.677Z"
   },
   {
    "duration": 15,
    "start_time": "2021-11-23T15:39:31.767Z"
   },
   {
    "duration": 18,
    "start_time": "2021-11-23T15:39:31.784Z"
   },
   {
    "duration": 122,
    "start_time": "2021-11-23T15:39:31.804Z"
   },
   {
    "duration": 14,
    "start_time": "2021-11-23T15:39:31.928Z"
   },
   {
    "duration": 13,
    "start_time": "2021-11-23T15:39:31.945Z"
   },
   {
    "duration": 70,
    "start_time": "2021-11-23T15:39:31.960Z"
   },
   {
    "duration": 4,
    "start_time": "2021-11-23T15:39:32.032Z"
   },
   {
    "duration": 35,
    "start_time": "2021-11-23T15:39:32.039Z"
   },
   {
    "duration": 36,
    "start_time": "2021-11-23T15:39:32.077Z"
   },
   {
    "duration": 19,
    "start_time": "2021-11-23T15:39:32.117Z"
   },
   {
    "duration": 39,
    "start_time": "2021-11-23T15:39:32.139Z"
   },
   {
    "duration": 39,
    "start_time": "2021-11-23T15:39:32.180Z"
   },
   {
    "duration": 33,
    "start_time": "2021-11-23T15:39:32.221Z"
   },
   {
    "duration": 394,
    "start_time": "2021-11-23T15:39:32.256Z"
   },
   {
    "duration": 93,
    "start_time": "2021-11-23T15:40:56.113Z"
   },
   {
    "duration": 94,
    "start_time": "2021-11-23T15:41:02.193Z"
   },
   {
    "duration": 382,
    "start_time": "2021-11-23T15:44:38.098Z"
   },
   {
    "duration": 391,
    "start_time": "2021-11-23T15:45:24.922Z"
   },
   {
    "duration": 120,
    "start_time": "2021-11-23T15:46:31.901Z"
   },
   {
    "duration": 90,
    "start_time": "2021-11-23T15:46:36.942Z"
   },
   {
    "duration": 97,
    "start_time": "2021-11-23T15:47:07.627Z"
   },
   {
    "duration": 99,
    "start_time": "2021-11-23T15:48:17.130Z"
   },
   {
    "duration": 96,
    "start_time": "2021-11-23T15:49:32.232Z"
   },
   {
    "duration": 93,
    "start_time": "2021-11-23T15:50:08.627Z"
   },
   {
    "duration": 89,
    "start_time": "2021-11-23T15:54:28.402Z"
   },
   {
    "duration": 88,
    "start_time": "2021-11-23T15:54:39.090Z"
   },
   {
    "duration": 100,
    "start_time": "2021-11-23T15:56:36.375Z"
   },
   {
    "duration": 10056,
    "start_time": "2021-11-23T15:57:36.135Z"
   },
   {
    "duration": 104,
    "start_time": "2021-11-23T16:01:34.502Z"
   },
   {
    "duration": 9315,
    "start_time": "2021-11-23T16:03:07.259Z"
   },
   {
    "duration": 3,
    "start_time": "2021-11-23T16:03:23.680Z"
   },
   {
    "duration": 202,
    "start_time": "2021-11-23T16:03:23.686Z"
   },
   {
    "duration": 16,
    "start_time": "2021-11-23T16:03:23.891Z"
   },
   {
    "duration": 38,
    "start_time": "2021-11-23T16:03:23.909Z"
   },
   {
    "duration": 6,
    "start_time": "2021-11-23T16:03:23.950Z"
   },
   {
    "duration": 55,
    "start_time": "2021-11-23T16:03:23.959Z"
   },
   {
    "duration": 5,
    "start_time": "2021-11-23T16:03:24.017Z"
   },
   {
    "duration": 38,
    "start_time": "2021-11-23T16:03:24.024Z"
   },
   {
    "duration": 45,
    "start_time": "2021-11-23T16:03:24.066Z"
   },
   {
    "duration": 32,
    "start_time": "2021-11-23T16:03:24.114Z"
   },
   {
    "duration": 109,
    "start_time": "2021-11-23T16:03:24.148Z"
   },
   {
    "duration": 111,
    "start_time": "2021-11-23T16:03:24.259Z"
   },
   {
    "duration": 83,
    "start_time": "2021-11-23T16:03:24.372Z"
   },
   {
    "duration": 14,
    "start_time": "2021-11-23T16:03:24.457Z"
   },
   {
    "duration": 4,
    "start_time": "2021-11-23T16:03:24.473Z"
   },
   {
    "duration": 102,
    "start_time": "2021-11-23T16:03:24.479Z"
   },
   {
    "duration": 26,
    "start_time": "2021-11-23T16:03:24.584Z"
   },
   {
    "duration": 14,
    "start_time": "2021-11-23T16:03:24.613Z"
   },
   {
    "duration": 72,
    "start_time": "2021-11-23T16:03:24.630Z"
   },
   {
    "duration": 4,
    "start_time": "2021-11-23T16:03:24.705Z"
   },
   {
    "duration": 41,
    "start_time": "2021-11-23T16:03:24.712Z"
   },
   {
    "duration": 23,
    "start_time": "2021-11-23T16:03:24.756Z"
   },
   {
    "duration": 23,
    "start_time": "2021-11-23T16:03:24.801Z"
   },
   {
    "duration": 20,
    "start_time": "2021-11-23T16:03:24.827Z"
   },
   {
    "duration": 54,
    "start_time": "2021-11-23T16:03:24.849Z"
   },
   {
    "duration": 21,
    "start_time": "2021-11-23T16:03:24.905Z"
   },
   {
    "duration": 101,
    "start_time": "2021-11-23T16:03:33.069Z"
   },
   {
    "duration": 9770,
    "start_time": "2021-11-23T16:04:25.890Z"
   },
   {
    "duration": 9177,
    "start_time": "2021-11-23T16:04:46.104Z"
   },
   {
    "duration": 4,
    "start_time": "2021-11-23T16:04:57.538Z"
   },
   {
    "duration": 200,
    "start_time": "2021-11-23T16:04:57.544Z"
   },
   {
    "duration": 14,
    "start_time": "2021-11-23T16:04:57.748Z"
   },
   {
    "duration": 49,
    "start_time": "2021-11-23T16:04:57.765Z"
   },
   {
    "duration": 8,
    "start_time": "2021-11-23T16:04:57.816Z"
   },
   {
    "duration": 31,
    "start_time": "2021-11-23T16:04:57.827Z"
   },
   {
    "duration": 5,
    "start_time": "2021-11-23T16:04:57.860Z"
   },
   {
    "duration": 57,
    "start_time": "2021-11-23T16:04:57.867Z"
   },
   {
    "duration": 24,
    "start_time": "2021-11-23T16:04:57.928Z"
   },
   {
    "duration": 47,
    "start_time": "2021-11-23T16:04:57.955Z"
   },
   {
    "duration": 104,
    "start_time": "2021-11-23T16:04:58.004Z"
   },
   {
    "duration": 108,
    "start_time": "2021-11-23T16:04:58.111Z"
   },
   {
    "duration": 94,
    "start_time": "2021-11-23T16:04:58.222Z"
   },
   {
    "duration": 13,
    "start_time": "2021-11-23T16:04:58.318Z"
   },
   {
    "duration": 5,
    "start_time": "2021-11-23T16:04:58.333Z"
   },
   {
    "duration": 114,
    "start_time": "2021-11-23T16:04:58.340Z"
   },
   {
    "duration": 14,
    "start_time": "2021-11-23T16:04:58.456Z"
   },
   {
    "duration": 30,
    "start_time": "2021-11-23T16:04:58.473Z"
   },
   {
    "duration": 44,
    "start_time": "2021-11-23T16:04:58.505Z"
   },
   {
    "duration": 5,
    "start_time": "2021-11-23T16:04:58.551Z"
   },
   {
    "duration": 49,
    "start_time": "2021-11-23T16:04:58.558Z"
   },
   {
    "duration": 19,
    "start_time": "2021-11-23T16:04:58.610Z"
   },
   {
    "duration": 20,
    "start_time": "2021-11-23T16:04:58.631Z"
   },
   {
    "duration": 51,
    "start_time": "2021-11-23T16:04:58.654Z"
   },
   {
    "duration": 22,
    "start_time": "2021-11-23T16:04:58.708Z"
   },
   {
    "duration": 21,
    "start_time": "2021-11-23T16:04:58.732Z"
   },
   {
    "duration": 102,
    "start_time": "2021-11-23T16:05:07.366Z"
   },
   {
    "duration": 127,
    "start_time": "2021-11-23T16:09:58.301Z"
   },
   {
    "duration": 9,
    "start_time": "2021-11-23T16:10:06.619Z"
   },
   {
    "duration": 9,
    "start_time": "2021-11-23T16:10:50.379Z"
   },
   {
    "duration": 8,
    "start_time": "2021-11-23T16:11:15.468Z"
   },
   {
    "duration": 5,
    "start_time": "2021-11-23T16:11:58.532Z"
   },
   {
    "duration": 5,
    "start_time": "2021-11-23T16:12:10.688Z"
   },
   {
    "duration": 9,
    "start_time": "2021-11-23T16:12:23.360Z"
   },
   {
    "duration": 3,
    "start_time": "2021-11-23T16:12:36.075Z"
   },
   {
    "duration": 224,
    "start_time": "2021-11-23T16:12:36.081Z"
   },
   {
    "duration": 14,
    "start_time": "2021-11-23T16:12:36.308Z"
   },
   {
    "duration": 36,
    "start_time": "2021-11-23T16:12:36.325Z"
   },
   {
    "duration": 36,
    "start_time": "2021-11-23T16:12:36.364Z"
   },
   {
    "duration": 27,
    "start_time": "2021-11-23T16:12:36.403Z"
   },
   {
    "duration": 11,
    "start_time": "2021-11-23T16:12:36.433Z"
   },
   {
    "duration": 53,
    "start_time": "2021-11-23T16:12:36.447Z"
   },
   {
    "duration": 24,
    "start_time": "2021-11-23T16:12:36.503Z"
   },
   {
    "duration": 34,
    "start_time": "2021-11-23T16:12:36.529Z"
   },
   {
    "duration": 109,
    "start_time": "2021-11-23T16:12:36.565Z"
   },
   {
    "duration": 103,
    "start_time": "2021-11-23T16:12:36.677Z"
   },
   {
    "duration": 83,
    "start_time": "2021-11-23T16:12:36.783Z"
   },
   {
    "duration": 13,
    "start_time": "2021-11-23T16:12:36.869Z"
   },
   {
    "duration": 17,
    "start_time": "2021-11-23T16:12:36.885Z"
   },
   {
    "duration": 107,
    "start_time": "2021-11-23T16:12:36.905Z"
   },
   {
    "duration": 15,
    "start_time": "2021-11-23T16:12:37.015Z"
   },
   {
    "duration": 13,
    "start_time": "2021-11-23T16:12:37.033Z"
   },
   {
    "duration": 68,
    "start_time": "2021-11-23T16:12:37.049Z"
   },
   {
    "duration": 5,
    "start_time": "2021-11-23T16:12:37.119Z"
   },
   {
    "duration": 33,
    "start_time": "2021-11-23T16:12:37.126Z"
   },
   {
    "duration": 40,
    "start_time": "2021-11-23T16:12:37.162Z"
   },
   {
    "duration": 19,
    "start_time": "2021-11-23T16:12:37.206Z"
   },
   {
    "duration": 19,
    "start_time": "2021-11-23T16:12:37.228Z"
   },
   {
    "duration": 59,
    "start_time": "2021-11-23T16:12:37.250Z"
   },
   {
    "duration": 23,
    "start_time": "2021-11-23T16:12:37.312Z"
   },
   {
    "duration": 129,
    "start_time": "2021-11-23T16:12:37.337Z"
   },
   {
    "duration": 9,
    "start_time": "2021-11-23T16:12:37.469Z"
   },
   {
    "duration": 9865,
    "start_time": "2021-11-23T16:13:49.801Z"
   },
   {
    "duration": 3,
    "start_time": "2021-11-23T16:14:05.611Z"
   },
   {
    "duration": 209,
    "start_time": "2021-11-23T16:14:05.617Z"
   },
   {
    "duration": 16,
    "start_time": "2021-11-23T16:14:05.829Z"
   },
   {
    "duration": 56,
    "start_time": "2021-11-23T16:14:05.848Z"
   },
   {
    "duration": 5,
    "start_time": "2021-11-23T16:14:05.907Z"
   },
   {
    "duration": 30,
    "start_time": "2021-11-23T16:14:05.915Z"
   },
   {
    "duration": 6,
    "start_time": "2021-11-23T16:14:05.948Z"
   },
   {
    "duration": 68,
    "start_time": "2021-11-23T16:14:05.958Z"
   },
   {
    "duration": 23,
    "start_time": "2021-11-23T16:14:06.029Z"
   },
   {
    "duration": 48,
    "start_time": "2021-11-23T16:14:06.054Z"
   },
   {
    "duration": 105,
    "start_time": "2021-11-23T16:14:06.104Z"
   },
   {
    "duration": 111,
    "start_time": "2021-11-23T16:14:06.212Z"
   },
   {
    "duration": 88,
    "start_time": "2021-11-23T16:14:06.325Z"
   },
   {
    "duration": 14,
    "start_time": "2021-11-23T16:14:06.416Z"
   },
   {
    "duration": 4,
    "start_time": "2021-11-23T16:14:06.432Z"
   },
   {
    "duration": 116,
    "start_time": "2021-11-23T16:14:06.439Z"
   },
   {
    "duration": 15,
    "start_time": "2021-11-23T16:14:06.557Z"
   },
   {
    "duration": 26,
    "start_time": "2021-11-23T16:14:06.574Z"
   },
   {
    "duration": 41,
    "start_time": "2021-11-23T16:14:06.603Z"
   },
   {
    "duration": 4,
    "start_time": "2021-11-23T16:14:06.647Z"
   },
   {
    "duration": 56,
    "start_time": "2021-11-23T16:14:06.654Z"
   },
   {
    "duration": 20,
    "start_time": "2021-11-23T16:14:06.713Z"
   },
   {
    "duration": 20,
    "start_time": "2021-11-23T16:14:06.738Z"
   },
   {
    "duration": 52,
    "start_time": "2021-11-23T16:14:06.761Z"
   },
   {
    "duration": 23,
    "start_time": "2021-11-23T16:14:06.816Z"
   },
   {
    "duration": 21,
    "start_time": "2021-11-23T16:14:06.841Z"
   },
   {
    "duration": 96,
    "start_time": "2021-11-23T16:14:49.932Z"
   },
   {
    "duration": 24,
    "start_time": "2021-11-23T16:14:58.655Z"
   },
   {
    "duration": 19,
    "start_time": "2021-11-23T16:15:18.224Z"
   },
   {
    "duration": 12,
    "start_time": "2021-11-23T16:15:39.278Z"
   },
   {
    "duration": 16,
    "start_time": "2021-11-23T16:15:43.693Z"
   },
   {
    "duration": 133,
    "start_time": "2021-11-23T17:19:16.247Z"
   },
   {
    "duration": 4,
    "start_time": "2021-11-23T17:19:25.373Z"
   },
   {
    "duration": 4,
    "start_time": "2021-11-23T17:19:46.879Z"
   },
   {
    "duration": 5,
    "start_time": "2021-11-23T17:19:50.078Z"
   },
   {
    "duration": 5,
    "start_time": "2021-11-23T17:21:34.512Z"
   },
   {
    "duration": 5,
    "start_time": "2021-11-23T17:27:55.683Z"
   },
   {
    "duration": 354,
    "start_time": "2021-11-23T17:30:55.955Z"
   },
   {
    "duration": 9742,
    "start_time": "2021-11-23T17:32:32.436Z"
   },
   {
    "duration": 3,
    "start_time": "2021-11-23T17:32:48.036Z"
   },
   {
    "duration": 209,
    "start_time": "2021-11-23T17:32:48.041Z"
   },
   {
    "duration": 14,
    "start_time": "2021-11-23T17:32:48.253Z"
   },
   {
    "duration": 50,
    "start_time": "2021-11-23T17:32:48.270Z"
   },
   {
    "duration": 6,
    "start_time": "2021-11-23T17:32:48.323Z"
   },
   {
    "duration": 33,
    "start_time": "2021-11-23T17:32:48.332Z"
   },
   {
    "duration": 6,
    "start_time": "2021-11-23T17:32:48.368Z"
   },
   {
    "duration": 53,
    "start_time": "2021-11-23T17:32:48.379Z"
   },
   {
    "duration": 26,
    "start_time": "2021-11-23T17:32:48.435Z"
   },
   {
    "duration": 65,
    "start_time": "2021-11-23T17:32:48.464Z"
   },
   {
    "duration": 114,
    "start_time": "2021-11-23T17:32:48.532Z"
   },
   {
    "duration": 116,
    "start_time": "2021-11-23T17:32:48.649Z"
   },
   {
    "duration": 90,
    "start_time": "2021-11-23T17:32:48.767Z"
   },
   {
    "duration": 15,
    "start_time": "2021-11-23T17:32:48.859Z"
   },
   {
    "duration": 24,
    "start_time": "2021-11-23T17:32:48.876Z"
   },
   {
    "duration": 109,
    "start_time": "2021-11-23T17:32:48.904Z"
   },
   {
    "duration": 17,
    "start_time": "2021-11-23T17:32:49.016Z"
   },
   {
    "duration": 16,
    "start_time": "2021-11-23T17:32:49.036Z"
   },
   {
    "duration": 81,
    "start_time": "2021-11-23T17:32:49.055Z"
   },
   {
    "duration": 5,
    "start_time": "2021-11-23T17:32:49.139Z"
   },
   {
    "duration": 41,
    "start_time": "2021-11-23T17:32:49.147Z"
   },
   {
    "duration": 21,
    "start_time": "2021-11-23T17:32:49.201Z"
   },
   {
    "duration": 21,
    "start_time": "2021-11-23T17:32:49.226Z"
   },
   {
    "duration": 51,
    "start_time": "2021-11-23T17:32:49.251Z"
   },
   {
    "duration": 24,
    "start_time": "2021-11-23T17:32:49.305Z"
   },
   {
    "duration": 19,
    "start_time": "2021-11-23T17:32:49.332Z"
   },
   {
    "duration": 133,
    "start_time": "2021-11-23T17:32:49.354Z"
   },
   {
    "duration": 21,
    "start_time": "2021-11-23T17:32:49.490Z"
   },
   {
    "duration": 13,
    "start_time": "2021-11-23T17:32:49.514Z"
   },
   {
    "duration": 371,
    "start_time": "2021-11-23T17:35:43.357Z"
   },
   {
    "duration": 9611,
    "start_time": "2021-11-23T17:36:24.934Z"
   },
   {
    "duration": 9676,
    "start_time": "2021-11-23T17:37:15.833Z"
   },
   {
    "duration": 9027,
    "start_time": "2021-11-23T17:39:02.172Z"
   },
   {
    "duration": 9482,
    "start_time": "2021-11-23T17:42:06.696Z"
   },
   {
    "duration": 8923,
    "start_time": "2021-11-23T17:43:14.736Z"
   },
   {
    "duration": 3,
    "start_time": "2021-11-23T17:43:36.050Z"
   },
   {
    "duration": 212,
    "start_time": "2021-11-23T17:43:36.056Z"
   },
   {
    "duration": 15,
    "start_time": "2021-11-23T17:43:36.271Z"
   },
   {
    "duration": 43,
    "start_time": "2021-11-23T17:43:36.288Z"
   },
   {
    "duration": 6,
    "start_time": "2021-11-23T17:43:36.333Z"
   },
   {
    "duration": 16,
    "start_time": "2021-11-23T17:43:36.342Z"
   },
   {
    "duration": 40,
    "start_time": "2021-11-23T17:43:36.361Z"
   },
   {
    "duration": 31,
    "start_time": "2021-11-23T17:43:36.403Z"
   },
   {
    "duration": 22,
    "start_time": "2021-11-23T17:43:36.439Z"
   },
   {
    "duration": 60,
    "start_time": "2021-11-23T17:43:36.464Z"
   },
   {
    "duration": 112,
    "start_time": "2021-11-23T17:43:36.527Z"
   },
   {
    "duration": 111,
    "start_time": "2021-11-23T17:43:36.643Z"
   },
   {
    "duration": 91,
    "start_time": "2021-11-23T17:43:36.757Z"
   },
   {
    "duration": 16,
    "start_time": "2021-11-23T17:43:36.851Z"
   },
   {
    "duration": 31,
    "start_time": "2021-11-23T17:43:36.870Z"
   },
   {
    "duration": 97,
    "start_time": "2021-11-23T17:43:36.903Z"
   },
   {
    "duration": 15,
    "start_time": "2021-11-23T17:43:37.003Z"
   },
   {
    "duration": 14,
    "start_time": "2021-11-23T17:43:37.020Z"
   },
   {
    "duration": 68,
    "start_time": "2021-11-23T17:43:37.036Z"
   },
   {
    "duration": 5,
    "start_time": "2021-11-23T17:43:37.107Z"
   },
   {
    "duration": 31,
    "start_time": "2021-11-23T17:43:37.114Z"
   },
   {
    "duration": 20,
    "start_time": "2021-11-23T17:43:37.147Z"
   },
   {
    "duration": 43,
    "start_time": "2021-11-23T17:43:37.170Z"
   },
   {
    "duration": 18,
    "start_time": "2021-11-23T17:43:37.216Z"
   },
   {
    "duration": 22,
    "start_time": "2021-11-23T17:43:37.237Z"
   },
   {
    "duration": 54,
    "start_time": "2021-11-23T17:43:37.261Z"
   },
   {
    "duration": 113,
    "start_time": "2021-11-23T17:43:37.319Z"
   },
   {
    "duration": 17,
    "start_time": "2021-11-23T17:43:37.435Z"
   },
   {
    "duration": 14,
    "start_time": "2021-11-23T17:43:37.454Z"
   },
   {
    "duration": 8867,
    "start_time": "2021-11-23T17:43:37.470Z"
   },
   {
    "duration": 8920,
    "start_time": "2021-11-23T17:43:55.606Z"
   },
   {
    "duration": 12437,
    "start_time": "2021-11-23T17:45:00.600Z"
   },
   {
    "duration": 4,
    "start_time": "2021-11-23T17:45:26.814Z"
   },
   {
    "duration": 211,
    "start_time": "2021-11-23T17:45:26.822Z"
   },
   {
    "duration": 14,
    "start_time": "2021-11-23T17:45:27.036Z"
   },
   {
    "duration": 53,
    "start_time": "2021-11-23T17:45:27.053Z"
   },
   {
    "duration": 5,
    "start_time": "2021-11-23T17:45:27.109Z"
   },
   {
    "duration": 29,
    "start_time": "2021-11-23T17:45:27.116Z"
   },
   {
    "duration": 6,
    "start_time": "2021-11-23T17:45:27.148Z"
   },
   {
    "duration": 71,
    "start_time": "2021-11-23T17:45:27.160Z"
   },
   {
    "duration": 24,
    "start_time": "2021-11-23T17:45:27.235Z"
   },
   {
    "duration": 51,
    "start_time": "2021-11-23T17:45:27.262Z"
   },
   {
    "duration": 103,
    "start_time": "2021-11-23T17:45:27.315Z"
   },
   {
    "duration": 103,
    "start_time": "2021-11-23T17:45:27.421Z"
   },
   {
    "duration": 95,
    "start_time": "2021-11-23T17:45:27.527Z"
   },
   {
    "duration": 14,
    "start_time": "2021-11-23T17:45:27.625Z"
   },
   {
    "duration": 4,
    "start_time": "2021-11-23T17:45:27.641Z"
   },
   {
    "duration": 117,
    "start_time": "2021-11-23T17:45:27.648Z"
   },
   {
    "duration": 15,
    "start_time": "2021-11-23T17:45:27.768Z"
   },
   {
    "duration": 26,
    "start_time": "2021-11-23T17:45:27.786Z"
   },
   {
    "duration": 43,
    "start_time": "2021-11-23T17:45:27.815Z"
   },
   {
    "duration": 5,
    "start_time": "2021-11-23T17:45:27.861Z"
   },
   {
    "duration": 54,
    "start_time": "2021-11-23T17:45:27.869Z"
   },
   {
    "duration": 19,
    "start_time": "2021-11-23T17:45:27.925Z"
   },
   {
    "duration": 21,
    "start_time": "2021-11-23T17:45:27.948Z"
   },
   {
    "duration": 44,
    "start_time": "2021-11-23T17:45:27.971Z"
   },
   {
    "duration": 22,
    "start_time": "2021-11-23T17:45:28.017Z"
   },
   {
    "duration": 19,
    "start_time": "2021-11-23T17:45:28.041Z"
   },
   {
    "duration": 126,
    "start_time": "2021-11-23T17:45:28.063Z"
   },
   {
    "duration": 18,
    "start_time": "2021-11-23T17:45:28.201Z"
   },
   {
    "duration": 13,
    "start_time": "2021-11-23T17:45:28.222Z"
   },
   {
    "duration": 8901,
    "start_time": "2021-11-23T17:45:28.238Z"
   },
   {
    "duration": 3,
    "start_time": "2021-11-23T17:47:29.215Z"
   },
   {
    "duration": 199,
    "start_time": "2021-11-23T17:47:29.221Z"
   },
   {
    "duration": 13,
    "start_time": "2021-11-23T17:47:29.423Z"
   },
   {
    "duration": 39,
    "start_time": "2021-11-23T17:47:29.439Z"
   },
   {
    "duration": 21,
    "start_time": "2021-11-23T17:47:29.481Z"
   },
   {
    "duration": 31,
    "start_time": "2021-11-23T17:47:29.504Z"
   },
   {
    "duration": 6,
    "start_time": "2021-11-23T17:47:29.537Z"
   },
   {
    "duration": 59,
    "start_time": "2021-11-23T17:47:29.546Z"
   },
   {
    "duration": 31,
    "start_time": "2021-11-23T17:47:29.609Z"
   },
   {
    "duration": 30,
    "start_time": "2021-11-23T17:47:29.643Z"
   },
   {
    "duration": 108,
    "start_time": "2021-11-23T17:47:29.675Z"
   },
   {
    "duration": 108,
    "start_time": "2021-11-23T17:47:29.785Z"
   },
   {
    "duration": 76,
    "start_time": "2021-11-23T17:47:29.901Z"
   },
   {
    "duration": 26,
    "start_time": "2021-11-23T17:47:29.980Z"
   },
   {
    "duration": 8,
    "start_time": "2021-11-23T17:47:30.009Z"
   },
   {
    "duration": 105,
    "start_time": "2021-11-23T17:47:30.019Z"
   },
   {
    "duration": 14,
    "start_time": "2021-11-23T17:47:30.126Z"
   },
   {
    "duration": 19,
    "start_time": "2021-11-23T17:47:30.142Z"
   },
   {
    "duration": 70,
    "start_time": "2021-11-23T17:47:30.163Z"
   },
   {
    "duration": 4,
    "start_time": "2021-11-23T17:47:30.236Z"
   },
   {
    "duration": 74,
    "start_time": "2021-11-23T17:47:30.242Z"
   },
   {
    "duration": 40,
    "start_time": "2021-11-23T17:47:30.319Z"
   },
   {
    "duration": 33,
    "start_time": "2021-11-23T17:47:30.362Z"
   },
   {
    "duration": 37,
    "start_time": "2021-11-23T17:47:30.398Z"
   },
   {
    "duration": 59,
    "start_time": "2021-11-23T17:47:30.437Z"
   },
   {
    "duration": 23,
    "start_time": "2021-11-23T17:47:30.499Z"
   },
   {
    "duration": 132,
    "start_time": "2021-11-23T17:47:30.527Z"
   },
   {
    "duration": 19,
    "start_time": "2021-11-23T17:47:30.662Z"
   },
   {
    "duration": 30,
    "start_time": "2021-11-23T17:47:30.684Z"
   },
   {
    "duration": 9586,
    "start_time": "2021-11-23T17:47:36.806Z"
   },
   {
    "duration": 15,
    "start_time": "2021-11-23T17:49:28.310Z"
   },
   {
    "duration": 24,
    "start_time": "2021-11-23T17:49:45.758Z"
   },
   {
    "duration": 8995,
    "start_time": "2021-11-23T17:50:19.451Z"
   },
   {
    "duration": 9311,
    "start_time": "2021-11-23T17:50:28.625Z"
   },
   {
    "duration": 17,
    "start_time": "2021-11-23T17:50:56.162Z"
   },
   {
    "duration": 23,
    "start_time": "2021-11-23T17:52:06.190Z"
   },
   {
    "duration": 21,
    "start_time": "2021-11-23T17:52:23.967Z"
   },
   {
    "duration": 24,
    "start_time": "2021-11-23T17:53:01.750Z"
   },
   {
    "duration": 25,
    "start_time": "2021-11-23T18:04:05.843Z"
   },
   {
    "duration": 24,
    "start_time": "2021-11-23T18:04:19.237Z"
   },
   {
    "duration": 21,
    "start_time": "2021-11-23T18:08:10.909Z"
   },
   {
    "duration": 411,
    "start_time": "2021-11-23T18:09:50.376Z"
   },
   {
    "duration": 28,
    "start_time": "2021-11-23T18:10:02.415Z"
   },
   {
    "duration": 40,
    "start_time": "2021-11-23T18:12:12.159Z"
   },
   {
    "duration": 30,
    "start_time": "2021-11-23T18:13:48.839Z"
   },
   {
    "duration": 34,
    "start_time": "2021-11-23T18:19:25.931Z"
   },
   {
    "duration": 438,
    "start_time": "2021-11-23T18:22:36.864Z"
   },
   {
    "duration": 415,
    "start_time": "2021-11-23T18:24:10.518Z"
   },
   {
    "duration": 3,
    "start_time": "2021-11-23T18:25:05.426Z"
   },
   {
    "duration": 200,
    "start_time": "2021-11-23T18:25:05.432Z"
   },
   {
    "duration": 14,
    "start_time": "2021-11-23T18:25:05.635Z"
   },
   {
    "duration": 52,
    "start_time": "2021-11-23T18:25:05.652Z"
   },
   {
    "duration": 6,
    "start_time": "2021-11-23T18:25:05.706Z"
   },
   {
    "duration": 24,
    "start_time": "2021-11-23T18:25:05.714Z"
   },
   {
    "duration": 7,
    "start_time": "2021-11-23T18:25:05.750Z"
   },
   {
    "duration": 60,
    "start_time": "2021-11-23T18:25:05.760Z"
   },
   {
    "duration": 22,
    "start_time": "2021-11-23T18:25:05.826Z"
   },
   {
    "duration": 51,
    "start_time": "2021-11-23T18:25:05.851Z"
   },
   {
    "duration": 103,
    "start_time": "2021-11-23T18:25:05.905Z"
   },
   {
    "duration": 109,
    "start_time": "2021-11-23T18:25:06.011Z"
   },
   {
    "duration": 97,
    "start_time": "2021-11-23T18:25:06.122Z"
   },
   {
    "duration": 17,
    "start_time": "2021-11-23T18:25:06.222Z"
   },
   {
    "duration": 5,
    "start_time": "2021-11-23T18:25:06.242Z"
   },
   {
    "duration": 117,
    "start_time": "2021-11-23T18:25:06.250Z"
   },
   {
    "duration": 13,
    "start_time": "2021-11-23T18:25:06.370Z"
   },
   {
    "duration": 15,
    "start_time": "2021-11-23T18:25:06.401Z"
   },
   {
    "duration": 47,
    "start_time": "2021-11-23T18:25:06.418Z"
   },
   {
    "duration": 35,
    "start_time": "2021-11-23T18:25:06.468Z"
   },
   {
    "duration": 45,
    "start_time": "2021-11-23T18:25:06.505Z"
   },
   {
    "duration": 20,
    "start_time": "2021-11-23T18:25:06.553Z"
   },
   {
    "duration": 33,
    "start_time": "2021-11-23T18:25:06.576Z"
   },
   {
    "duration": 19,
    "start_time": "2021-11-23T18:25:06.612Z"
   },
   {
    "duration": 22,
    "start_time": "2021-11-23T18:25:06.633Z"
   },
   {
    "duration": 55,
    "start_time": "2021-11-23T18:25:06.657Z"
   },
   {
    "duration": 118,
    "start_time": "2021-11-23T18:25:06.717Z"
   },
   {
    "duration": 21,
    "start_time": "2021-11-23T18:25:06.838Z"
   },
   {
    "duration": 39,
    "start_time": "2021-11-23T18:25:06.861Z"
   },
   {
    "duration": 34,
    "start_time": "2021-11-23T18:26:31.234Z"
   },
   {
    "duration": 35,
    "start_time": "2021-11-23T18:27:42.003Z"
   },
   {
    "duration": 416,
    "start_time": "2021-11-23T18:29:17.744Z"
   },
   {
    "duration": 453,
    "start_time": "2021-11-23T18:29:51.650Z"
   },
   {
    "duration": 396,
    "start_time": "2021-11-23T18:39:35.137Z"
   },
   {
    "duration": 388,
    "start_time": "2021-11-23T18:42:16.354Z"
   },
   {
    "duration": 428,
    "start_time": "2021-11-23T18:49:12.609Z"
   },
   {
    "duration": 37,
    "start_time": "2021-11-23T18:50:05.022Z"
   },
   {
    "duration": 94,
    "start_time": "2021-11-23T20:35:41.117Z"
   },
   {
    "duration": 6,
    "start_time": "2021-11-23T20:35:57.494Z"
   },
   {
    "duration": 281,
    "start_time": "2021-11-23T20:37:14.338Z"
   },
   {
    "duration": 780,
    "start_time": "2021-11-23T20:37:24.848Z"
   },
   {
    "duration": 212,
    "start_time": "2021-11-23T20:37:25.631Z"
   },
   {
    "duration": 33,
    "start_time": "2021-11-23T20:37:25.847Z"
   },
   {
    "duration": 33,
    "start_time": "2021-11-23T20:37:25.882Z"
   },
   {
    "duration": 8,
    "start_time": "2021-11-23T20:37:25.917Z"
   },
   {
    "duration": 57,
    "start_time": "2021-11-23T20:37:25.928Z"
   },
   {
    "duration": 9,
    "start_time": "2021-11-23T20:37:25.987Z"
   },
   {
    "duration": 31,
    "start_time": "2021-11-23T20:37:25.998Z"
   },
   {
    "duration": 48,
    "start_time": "2021-11-23T20:37:26.033Z"
   },
   {
    "duration": 32,
    "start_time": "2021-11-23T20:37:26.085Z"
   },
   {
    "duration": 110,
    "start_time": "2021-11-23T20:37:26.120Z"
   },
   {
    "duration": 114,
    "start_time": "2021-11-23T20:37:26.232Z"
   },
   {
    "duration": 86,
    "start_time": "2021-11-23T20:37:26.349Z"
   },
   {
    "duration": 14,
    "start_time": "2021-11-23T20:37:26.438Z"
   },
   {
    "duration": 4,
    "start_time": "2021-11-23T20:37:26.468Z"
   },
   {
    "duration": 102,
    "start_time": "2021-11-23T20:37:26.475Z"
   },
   {
    "duration": 14,
    "start_time": "2021-11-23T20:37:26.580Z"
   },
   {
    "duration": 15,
    "start_time": "2021-11-23T20:37:26.596Z"
   },
   {
    "duration": 70,
    "start_time": "2021-11-23T20:37:26.614Z"
   },
   {
    "duration": 5,
    "start_time": "2021-11-23T20:37:26.687Z"
   },
   {
    "duration": 29,
    "start_time": "2021-11-23T20:37:26.694Z"
   },
   {
    "duration": 45,
    "start_time": "2021-11-23T20:37:26.726Z"
   },
   {
    "duration": 21,
    "start_time": "2021-11-23T20:37:26.774Z"
   },
   {
    "duration": 20,
    "start_time": "2021-11-23T20:37:26.797Z"
   },
   {
    "duration": 52,
    "start_time": "2021-11-23T20:37:26.819Z"
   },
   {
    "duration": 20,
    "start_time": "2021-11-23T20:37:26.873Z"
   },
   {
    "duration": 127,
    "start_time": "2021-11-23T20:37:26.898Z"
   },
   {
    "duration": 16,
    "start_time": "2021-11-23T20:37:27.027Z"
   },
   {
    "duration": 28,
    "start_time": "2021-11-23T20:37:27.045Z"
   },
   {
    "duration": 6,
    "start_time": "2021-11-23T20:37:27.075Z"
   },
   {
    "duration": 23,
    "start_time": "2021-11-23T20:38:15.500Z"
   },
   {
    "duration": 23,
    "start_time": "2021-11-23T20:40:14.305Z"
   },
   {
    "duration": 21,
    "start_time": "2021-11-23T20:43:47.549Z"
   },
   {
    "duration": 27,
    "start_time": "2021-11-23T20:44:54.187Z"
   },
   {
    "duration": 18,
    "start_time": "2021-11-23T20:45:27.704Z"
   },
   {
    "duration": 26,
    "start_time": "2021-11-23T20:46:21.499Z"
   },
   {
    "duration": 25,
    "start_time": "2021-11-23T20:48:02.159Z"
   },
   {
    "duration": 5,
    "start_time": "2021-11-23T20:48:08.404Z"
   },
   {
    "duration": 202,
    "start_time": "2021-11-23T20:48:08.412Z"
   },
   {
    "duration": 15,
    "start_time": "2021-11-23T20:48:08.617Z"
   },
   {
    "duration": 51,
    "start_time": "2021-11-23T20:48:08.636Z"
   },
   {
    "duration": 8,
    "start_time": "2021-11-23T20:48:08.690Z"
   },
   {
    "duration": 35,
    "start_time": "2021-11-23T20:48:08.700Z"
   },
   {
    "duration": 29,
    "start_time": "2021-11-23T20:48:08.738Z"
   },
   {
    "duration": 34,
    "start_time": "2021-11-23T20:48:08.769Z"
   },
   {
    "duration": 23,
    "start_time": "2021-11-23T20:48:08.807Z"
   },
   {
    "duration": 60,
    "start_time": "2021-11-23T20:48:08.834Z"
   },
   {
    "duration": 103,
    "start_time": "2021-11-23T20:48:08.896Z"
   },
   {
    "duration": 114,
    "start_time": "2021-11-23T20:48:09.002Z"
   },
   {
    "duration": 87,
    "start_time": "2021-11-23T20:48:09.118Z"
   },
   {
    "duration": 15,
    "start_time": "2021-11-23T20:48:09.207Z"
   },
   {
    "duration": 4,
    "start_time": "2021-11-23T20:48:09.224Z"
   },
   {
    "duration": 110,
    "start_time": "2021-11-23T20:48:09.231Z"
   },
   {
    "duration": 26,
    "start_time": "2021-11-23T20:48:09.343Z"
   },
   {
    "duration": 13,
    "start_time": "2021-11-23T20:48:09.372Z"
   },
   {
    "duration": 44,
    "start_time": "2021-11-23T20:48:09.387Z"
   },
   {
    "duration": 5,
    "start_time": "2021-11-23T20:48:09.433Z"
   },
   {
    "duration": 22,
    "start_time": "2021-11-23T20:48:09.468Z"
   },
   {
    "duration": 20,
    "start_time": "2021-11-23T20:48:09.493Z"
   },
   {
    "duration": 62,
    "start_time": "2021-11-23T20:48:09.515Z"
   },
   {
    "duration": 18,
    "start_time": "2021-11-23T20:48:09.580Z"
   },
   {
    "duration": 21,
    "start_time": "2021-11-23T20:48:09.601Z"
   },
   {
    "duration": 52,
    "start_time": "2021-11-23T20:48:09.625Z"
   },
   {
    "duration": 109,
    "start_time": "2021-11-23T20:48:09.682Z"
   },
   {
    "duration": 17,
    "start_time": "2021-11-23T20:48:09.793Z"
   },
   {
    "duration": 13,
    "start_time": "2021-11-23T20:48:09.813Z"
   },
   {
    "duration": 6,
    "start_time": "2021-11-23T20:48:09.828Z"
   },
   {
    "duration": 53,
    "start_time": "2021-11-23T20:48:09.837Z"
   },
   {
    "duration": 4,
    "start_time": "2021-11-23T20:48:09.893Z"
   },
   {
    "duration": 9,
    "start_time": "2021-11-23T20:48:09.900Z"
   },
   {
    "duration": 5,
    "start_time": "2021-11-23T20:48:09.912Z"
   },
   {
    "duration": 8,
    "start_time": "2021-11-23T20:48:09.919Z"
   },
   {
    "duration": 8,
    "start_time": "2021-11-23T20:48:09.929Z"
   },
   {
    "duration": 6,
    "start_time": "2021-11-23T20:48:09.968Z"
   },
   {
    "duration": 6,
    "start_time": "2021-11-23T20:48:09.976Z"
   },
   {
    "duration": 4,
    "start_time": "2021-11-23T20:49:32.284Z"
   },
   {
    "duration": 276,
    "start_time": "2021-11-23T20:49:32.291Z"
   },
   {
    "duration": 19,
    "start_time": "2021-11-23T20:49:32.571Z"
   },
   {
    "duration": 74,
    "start_time": "2021-11-23T20:49:32.593Z"
   },
   {
    "duration": 6,
    "start_time": "2021-11-23T20:49:32.670Z"
   },
   {
    "duration": 27,
    "start_time": "2021-11-23T20:49:32.679Z"
   },
   {
    "duration": 7,
    "start_time": "2021-11-23T20:49:32.709Z"
   },
   {
    "duration": 65,
    "start_time": "2021-11-23T20:49:32.718Z"
   },
   {
    "duration": 24,
    "start_time": "2021-11-23T20:49:32.789Z"
   },
   {
    "duration": 53,
    "start_time": "2021-11-23T20:49:32.816Z"
   },
   {
    "duration": 105,
    "start_time": "2021-11-23T20:49:32.872Z"
   },
   {
    "duration": 111,
    "start_time": "2021-11-23T20:49:32.979Z"
   },
   {
    "duration": 102,
    "start_time": "2021-11-23T20:49:33.093Z"
   },
   {
    "duration": 14,
    "start_time": "2021-11-23T20:49:33.198Z"
   },
   {
    "duration": 4,
    "start_time": "2021-11-23T20:49:33.214Z"
   },
   {
    "duration": 117,
    "start_time": "2021-11-23T20:49:33.220Z"
   },
   {
    "duration": 13,
    "start_time": "2021-11-23T20:49:33.340Z"
   },
   {
    "duration": 13,
    "start_time": "2021-11-23T20:49:33.367Z"
   },
   {
    "duration": 65,
    "start_time": "2021-11-23T20:49:33.383Z"
   },
   {
    "duration": 20,
    "start_time": "2021-11-23T20:49:33.452Z"
   },
   {
    "duration": 41,
    "start_time": "2021-11-23T20:49:33.475Z"
   },
   {
    "duration": 51,
    "start_time": "2021-11-23T20:49:33.518Z"
   },
   {
    "duration": 23,
    "start_time": "2021-11-23T20:49:33.572Z"
   },
   {
    "duration": 19,
    "start_time": "2021-11-23T20:49:33.597Z"
   },
   {
    "duration": 57,
    "start_time": "2021-11-23T20:49:33.618Z"
   },
   {
    "duration": 20,
    "start_time": "2021-11-23T20:49:33.677Z"
   },
   {
    "duration": 122,
    "start_time": "2021-11-23T20:49:33.702Z"
   },
   {
    "duration": 17,
    "start_time": "2021-11-23T20:49:33.827Z"
   },
   {
    "duration": 30,
    "start_time": "2021-11-23T20:49:33.846Z"
   },
   {
    "duration": 6,
    "start_time": "2021-11-23T20:49:33.879Z"
   },
   {
    "duration": 30,
    "start_time": "2021-11-23T20:49:33.887Z"
   },
   {
    "duration": 3,
    "start_time": "2021-11-23T20:49:33.920Z"
   },
   {
    "duration": 8,
    "start_time": "2021-11-23T20:49:33.925Z"
   },
   {
    "duration": 32,
    "start_time": "2021-11-23T20:49:33.935Z"
   },
   {
    "duration": 4,
    "start_time": "2021-11-23T20:49:33.970Z"
   },
   {
    "duration": 6,
    "start_time": "2021-11-23T20:49:33.976Z"
   },
   {
    "duration": 7,
    "start_time": "2021-11-23T20:49:33.984Z"
   },
   {
    "duration": 10,
    "start_time": "2021-11-23T20:49:33.994Z"
   },
   {
    "duration": 617,
    "start_time": "2021-11-24T08:15:26.419Z"
   },
   {
    "duration": 168,
    "start_time": "2021-11-24T08:15:27.038Z"
   },
   {
    "duration": 18,
    "start_time": "2021-11-24T08:15:27.208Z"
   },
   {
    "duration": 37,
    "start_time": "2021-11-24T08:15:27.228Z"
   },
   {
    "duration": 4,
    "start_time": "2021-11-24T08:15:27.267Z"
   },
   {
    "duration": 26,
    "start_time": "2021-11-24T08:15:27.272Z"
   },
   {
    "duration": 4,
    "start_time": "2021-11-24T08:15:27.301Z"
   },
   {
    "duration": 29,
    "start_time": "2021-11-24T08:15:27.307Z"
   },
   {
    "duration": 42,
    "start_time": "2021-11-24T08:15:27.338Z"
   },
   {
    "duration": 26,
    "start_time": "2021-11-24T08:15:27.383Z"
   },
   {
    "duration": 90,
    "start_time": "2021-11-24T08:15:27.410Z"
   },
   {
    "duration": 84,
    "start_time": "2021-11-24T08:15:27.501Z"
   },
   {
    "duration": 56,
    "start_time": "2021-11-24T08:15:27.587Z"
   },
   {
    "duration": 22,
    "start_time": "2021-11-24T08:15:27.645Z"
   },
   {
    "duration": 3,
    "start_time": "2021-11-24T08:15:27.669Z"
   },
   {
    "duration": 61,
    "start_time": "2021-11-24T08:15:27.673Z"
   },
   {
    "duration": 29,
    "start_time": "2021-11-24T08:15:27.735Z"
   },
   {
    "duration": 11,
    "start_time": "2021-11-24T08:15:27.766Z"
   },
   {
    "duration": 38,
    "start_time": "2021-11-24T08:15:27.779Z"
   },
   {
    "duration": 3,
    "start_time": "2021-11-24T08:15:27.819Z"
   },
   {
    "duration": 48,
    "start_time": "2021-11-24T08:15:27.824Z"
   },
   {
    "duration": 18,
    "start_time": "2021-11-24T08:15:27.874Z"
   },
   {
    "duration": 19,
    "start_time": "2021-11-24T08:15:27.894Z"
   },
   {
    "duration": 17,
    "start_time": "2021-11-24T08:15:27.914Z"
   },
   {
    "duration": 55,
    "start_time": "2021-11-24T08:15:27.933Z"
   },
   {
    "duration": 18,
    "start_time": "2021-11-24T08:15:27.990Z"
   },
   {
    "duration": 146,
    "start_time": "2021-11-24T08:15:28.011Z"
   },
   {
    "duration": 18,
    "start_time": "2021-11-24T08:15:28.159Z"
   },
   {
    "duration": 21,
    "start_time": "2021-11-24T08:15:28.179Z"
   },
   {
    "duration": 5,
    "start_time": "2021-11-24T08:15:28.202Z"
   },
   {
    "duration": 31,
    "start_time": "2021-11-24T08:15:28.208Z"
   },
   {
    "duration": 32,
    "start_time": "2021-11-24T08:15:28.241Z"
   },
   {
    "duration": 19,
    "start_time": "2021-11-24T08:15:28.275Z"
   },
   {
    "duration": 15,
    "start_time": "2021-11-24T08:15:36.369Z"
   },
   {
    "duration": 13,
    "start_time": "2021-11-24T08:45:13.241Z"
   },
   {
    "duration": 9,
    "start_time": "2021-11-24T08:45:24.933Z"
   },
   {
    "duration": 40,
    "start_time": "2021-11-24T08:46:52.430Z"
   },
   {
    "duration": 23,
    "start_time": "2021-11-24T08:47:02.109Z"
   },
   {
    "duration": 26,
    "start_time": "2021-11-24T08:49:40.363Z"
   },
   {
    "duration": 9,
    "start_time": "2021-11-24T08:49:50.756Z"
   },
   {
    "duration": 29,
    "start_time": "2021-11-24T08:51:23.790Z"
   },
   {
    "duration": 19,
    "start_time": "2021-11-24T08:51:50.565Z"
   },
   {
    "duration": 15,
    "start_time": "2021-11-24T08:53:54.892Z"
   },
   {
    "duration": 13,
    "start_time": "2021-11-24T08:53:57.959Z"
   },
   {
    "duration": 5,
    "start_time": "2021-11-24T08:54:27.409Z"
   },
   {
    "duration": 23,
    "start_time": "2021-11-24T08:54:33.377Z"
   },
   {
    "duration": 3,
    "start_time": "2021-11-24T08:54:52.739Z"
   },
   {
    "duration": 173,
    "start_time": "2021-11-24T08:54:52.744Z"
   },
   {
    "duration": 9,
    "start_time": "2021-11-24T08:54:52.920Z"
   },
   {
    "duration": 33,
    "start_time": "2021-11-24T08:54:52.930Z"
   },
   {
    "duration": 4,
    "start_time": "2021-11-24T08:54:52.965Z"
   },
   {
    "duration": 23,
    "start_time": "2021-11-24T08:54:52.971Z"
   },
   {
    "duration": 4,
    "start_time": "2021-11-24T08:54:52.995Z"
   },
   {
    "duration": 26,
    "start_time": "2021-11-24T08:54:53.001Z"
   },
   {
    "duration": 42,
    "start_time": "2021-11-24T08:54:53.029Z"
   },
   {
    "duration": 22,
    "start_time": "2021-11-24T08:54:53.074Z"
   },
   {
    "duration": 68,
    "start_time": "2021-11-24T08:54:53.097Z"
   },
   {
    "duration": 63,
    "start_time": "2021-11-24T08:54:53.166Z"
   },
   {
    "duration": 70,
    "start_time": "2021-11-24T08:54:53.231Z"
   },
   {
    "duration": 9,
    "start_time": "2021-11-24T08:54:53.302Z"
   },
   {
    "duration": 2,
    "start_time": "2021-11-24T08:54:53.313Z"
   },
   {
    "duration": 69,
    "start_time": "2021-11-24T08:54:53.317Z"
   },
   {
    "duration": 9,
    "start_time": "2021-11-24T08:54:53.388Z"
   },
   {
    "duration": 9,
    "start_time": "2021-11-24T08:54:53.399Z"
   },
   {
    "duration": 28,
    "start_time": "2021-11-24T08:54:53.410Z"
   },
   {
    "duration": 4,
    "start_time": "2021-11-24T08:54:53.463Z"
   },
   {
    "duration": 25,
    "start_time": "2021-11-24T08:54:53.468Z"
   },
   {
    "duration": 17,
    "start_time": "2021-11-24T08:54:53.495Z"
   },
   {
    "duration": 16,
    "start_time": "2021-11-24T08:54:53.514Z"
   },
   {
    "duration": 41,
    "start_time": "2021-11-24T08:54:53.532Z"
   },
   {
    "duration": 17,
    "start_time": "2021-11-24T08:54:53.575Z"
   },
   {
    "duration": 16,
    "start_time": "2021-11-24T08:54:53.594Z"
   },
   {
    "duration": 98,
    "start_time": "2021-11-24T08:54:53.614Z"
   },
   {
    "duration": 14,
    "start_time": "2021-11-24T08:54:53.714Z"
   },
   {
    "duration": 12,
    "start_time": "2021-11-24T08:54:53.729Z"
   },
   {
    "duration": 22,
    "start_time": "2021-11-24T08:54:53.743Z"
   },
   {
    "duration": 29,
    "start_time": "2021-11-24T08:54:53.767Z"
   },
   {
    "duration": 14,
    "start_time": "2021-11-24T08:54:53.798Z"
   },
   {
    "duration": 18,
    "start_time": "2021-11-24T08:54:53.814Z"
   },
   {
    "duration": 6,
    "start_time": "2021-11-24T09:30:22.449Z"
   },
   {
    "duration": 4,
    "start_time": "2021-11-24T09:31:24.137Z"
   },
   {
    "duration": 32,
    "start_time": "2021-11-24T09:31:35.311Z"
   },
   {
    "duration": 325,
    "start_time": "2021-11-24T09:32:08.492Z"
   },
   {
    "duration": 13,
    "start_time": "2021-11-24T09:32:15.129Z"
   },
   {
    "duration": 10,
    "start_time": "2021-11-24T09:33:16.664Z"
   },
   {
    "duration": 5,
    "start_time": "2021-11-24T09:33:34.864Z"
   },
   {
    "duration": 8,
    "start_time": "2021-11-24T09:34:45.431Z"
   },
   {
    "duration": 5,
    "start_time": "2021-11-24T09:35:01.323Z"
   },
   {
    "duration": 3,
    "start_time": "2021-11-24T09:36:01.831Z"
   },
   {
    "duration": 171,
    "start_time": "2021-11-24T09:36:01.836Z"
   },
   {
    "duration": 10,
    "start_time": "2021-11-24T09:36:02.009Z"
   },
   {
    "duration": 64,
    "start_time": "2021-11-24T09:36:02.021Z"
   },
   {
    "duration": 35,
    "start_time": "2021-11-24T09:36:02.086Z"
   },
   {
    "duration": 35,
    "start_time": "2021-11-24T09:36:02.123Z"
   },
   {
    "duration": 51,
    "start_time": "2021-11-24T09:36:02.160Z"
   },
   {
    "duration": 39,
    "start_time": "2021-11-24T09:36:02.212Z"
   },
   {
    "duration": 35,
    "start_time": "2021-11-24T09:36:02.253Z"
   },
   {
    "duration": 41,
    "start_time": "2021-11-24T09:36:02.290Z"
   },
   {
    "duration": 68,
    "start_time": "2021-11-24T09:36:02.333Z"
   },
   {
    "duration": 70,
    "start_time": "2021-11-24T09:36:02.403Z"
   },
   {
    "duration": 50,
    "start_time": "2021-11-24T09:36:02.475Z"
   },
   {
    "duration": 18,
    "start_time": "2021-11-24T09:36:02.527Z"
   },
   {
    "duration": 62,
    "start_time": "2021-11-24T09:36:02.547Z"
   },
   {
    "duration": 94,
    "start_time": "2021-11-24T09:36:02.610Z"
   },
   {
    "duration": 9,
    "start_time": "2021-11-24T09:36:02.706Z"
   },
   {
    "duration": 25,
    "start_time": "2021-11-24T09:36:02.717Z"
   },
   {
    "duration": 47,
    "start_time": "2021-11-24T09:36:02.744Z"
   },
   {
    "duration": 4,
    "start_time": "2021-11-24T09:36:02.793Z"
   },
   {
    "duration": 53,
    "start_time": "2021-11-24T09:36:02.798Z"
   },
   {
    "duration": 16,
    "start_time": "2021-11-24T09:36:02.852Z"
   },
   {
    "duration": 15,
    "start_time": "2021-11-24T09:36:02.870Z"
   },
   {
    "duration": 33,
    "start_time": "2021-11-24T09:36:02.886Z"
   },
   {
    "duration": 37,
    "start_time": "2021-11-24T09:36:02.921Z"
   },
   {
    "duration": 24,
    "start_time": "2021-11-24T09:36:02.960Z"
   },
   {
    "duration": 112,
    "start_time": "2021-11-24T09:36:02.987Z"
   },
   {
    "duration": 11,
    "start_time": "2021-11-24T09:36:03.101Z"
   },
   {
    "duration": 25,
    "start_time": "2021-11-24T09:36:03.114Z"
   },
   {
    "duration": 54,
    "start_time": "2021-11-24T09:36:03.141Z"
   },
   {
    "duration": 110,
    "start_time": "2021-11-24T09:36:03.197Z"
   },
   {
    "duration": 58,
    "start_time": "2021-11-24T09:36:03.310Z"
   },
   {
    "duration": 96,
    "start_time": "2021-11-24T09:36:03.370Z"
   },
   {
    "duration": 99,
    "start_time": "2021-11-24T09:36:03.468Z"
   },
   {
    "duration": 15,
    "start_time": "2021-11-24T09:36:03.569Z"
   },
   {
    "duration": 12,
    "start_time": "2021-11-24T09:36:03.586Z"
   },
   {
    "duration": 18,
    "start_time": "2021-11-24T09:36:03.600Z"
   },
   {
    "duration": 19,
    "start_time": "2021-11-24T09:36:03.620Z"
   },
   {
    "duration": 5,
    "start_time": "2021-11-24T09:36:26.765Z"
   },
   {
    "duration": 6,
    "start_time": "2021-11-24T09:36:35.345Z"
   },
   {
    "duration": 7,
    "start_time": "2021-11-24T09:36:41.887Z"
   },
   {
    "duration": 638,
    "start_time": "2021-11-24T14:49:22.397Z"
   },
   {
    "duration": 143,
    "start_time": "2021-11-24T14:49:23.036Z"
   },
   {
    "duration": 16,
    "start_time": "2021-11-24T14:49:23.181Z"
   },
   {
    "duration": 26,
    "start_time": "2021-11-24T14:49:23.200Z"
   },
   {
    "duration": 5,
    "start_time": "2021-11-24T14:49:23.245Z"
   },
   {
    "duration": 21,
    "start_time": "2021-11-24T14:49:23.252Z"
   },
   {
    "duration": 6,
    "start_time": "2021-11-24T14:49:23.275Z"
   },
   {
    "duration": 25,
    "start_time": "2021-11-24T14:49:23.283Z"
   },
   {
    "duration": 20,
    "start_time": "2021-11-24T14:49:23.345Z"
   },
   {
    "duration": 25,
    "start_time": "2021-11-24T14:49:23.368Z"
   },
   {
    "duration": 86,
    "start_time": "2021-11-24T14:49:23.395Z"
   },
   {
    "duration": 82,
    "start_time": "2021-11-24T14:49:23.484Z"
   },
   {
    "duration": 53,
    "start_time": "2021-11-24T14:49:23.568Z"
   },
   {
    "duration": 26,
    "start_time": "2021-11-24T14:49:23.624Z"
   },
   {
    "duration": 28,
    "start_time": "2021-11-24T14:49:23.652Z"
   },
   {
    "duration": 75,
    "start_time": "2021-11-24T14:49:23.684Z"
   },
   {
    "duration": 9,
    "start_time": "2021-11-24T14:49:23.761Z"
   },
   {
    "duration": 32,
    "start_time": "2021-11-24T14:49:23.772Z"
   },
   {
    "duration": 68,
    "start_time": "2021-11-24T14:49:23.805Z"
   },
   {
    "duration": 16,
    "start_time": "2021-11-24T14:49:23.875Z"
   },
   {
    "duration": 48,
    "start_time": "2021-11-24T14:49:23.893Z"
   },
   {
    "duration": 43,
    "start_time": "2021-11-24T14:49:23.943Z"
   },
   {
    "duration": 33,
    "start_time": "2021-11-24T14:49:23.989Z"
   },
   {
    "duration": 48,
    "start_time": "2021-11-24T14:49:24.025Z"
   },
   {
    "duration": 24,
    "start_time": "2021-11-24T14:49:24.074Z"
   },
   {
    "duration": 31,
    "start_time": "2021-11-24T14:49:24.100Z"
   },
   {
    "duration": 95,
    "start_time": "2021-11-24T14:49:24.134Z"
   },
   {
    "duration": 10,
    "start_time": "2021-11-24T14:49:24.231Z"
   },
   {
    "duration": 28,
    "start_time": "2021-11-24T14:49:24.243Z"
   },
   {
    "duration": 9,
    "start_time": "2021-11-24T14:49:24.273Z"
   },
   {
    "duration": 61,
    "start_time": "2021-11-24T14:49:24.284Z"
   },
   {
    "duration": 13,
    "start_time": "2021-11-24T14:49:24.347Z"
   },
   {
    "duration": 17,
    "start_time": "2021-11-24T14:49:24.361Z"
   },
   {
    "duration": 11,
    "start_time": "2021-11-24T14:49:24.379Z"
   },
   {
    "duration": 13,
    "start_time": "2021-11-24T14:49:24.392Z"
   },
   {
    "duration": 5,
    "start_time": "2021-11-24T14:49:24.406Z"
   },
   {
    "duration": 39,
    "start_time": "2021-11-24T14:49:24.413Z"
   },
   {
    "duration": 6,
    "start_time": "2021-11-24T14:49:24.454Z"
   },
   {
    "duration": 3493,
    "start_time": "2021-11-27T17:26:20.453Z"
   },
   {
    "duration": 1146,
    "start_time": "2021-11-27T17:27:17.096Z"
   },
   {
    "duration": 781,
    "start_time": "2021-12-07T12:18:25.968Z"
   },
   {
    "duration": 16,
    "start_time": "2021-12-07T12:18:26.750Z"
   },
   {
    "duration": 12,
    "start_time": "2021-12-07T12:18:26.768Z"
   },
   {
    "duration": 13,
    "start_time": "2021-12-07T12:18:26.781Z"
   },
   {
    "duration": 2,
    "start_time": "2021-12-07T12:18:26.796Z"
   },
   {
    "duration": 13,
    "start_time": "2021-12-07T12:18:26.799Z"
   },
   {
    "duration": 17,
    "start_time": "2021-12-07T12:18:26.813Z"
   },
   {
    "duration": 16,
    "start_time": "2021-12-07T12:18:26.832Z"
   },
   {
    "duration": 73,
    "start_time": "2021-12-07T12:18:26.850Z"
   },
   {
    "duration": 39,
    "start_time": "2021-12-07T12:18:26.924Z"
   },
   {
    "duration": 25,
    "start_time": "2021-12-07T12:18:26.965Z"
   },
   {
    "duration": 19,
    "start_time": "2021-12-07T12:18:26.992Z"
   },
   {
    "duration": 17,
    "start_time": "2021-12-07T12:18:27.012Z"
   },
   {
    "duration": 14,
    "start_time": "2021-12-07T12:18:27.031Z"
   },
   {
    "duration": 26,
    "start_time": "2021-12-07T12:18:27.046Z"
   },
   {
    "duration": 14,
    "start_time": "2021-12-07T12:18:27.074Z"
   },
   {
    "duration": 14,
    "start_time": "2021-12-07T12:18:27.089Z"
   },
   {
    "duration": 8,
    "start_time": "2021-12-07T12:18:27.105Z"
   },
   {
    "duration": 11,
    "start_time": "2021-12-07T12:18:27.115Z"
   },
   {
    "duration": 22,
    "start_time": "2021-12-07T12:18:27.127Z"
   },
   {
    "duration": 25,
    "start_time": "2021-12-07T12:18:27.150Z"
   },
   {
    "duration": 17,
    "start_time": "2021-12-07T12:18:27.176Z"
   },
   {
    "duration": 12,
    "start_time": "2021-12-07T12:18:27.196Z"
   },
   {
    "duration": 12,
    "start_time": "2021-12-07T12:18:27.211Z"
   },
   {
    "duration": 13,
    "start_time": "2021-12-07T12:18:27.225Z"
   },
   {
    "duration": 6006,
    "start_time": "2021-12-07T12:18:27.240Z"
   },
   {
    "duration": 14,
    "start_time": "2021-12-07T12:20:05.886Z"
   },
   {
    "duration": 82,
    "start_time": "2021-12-07T12:23:12.111Z"
   },
   {
    "duration": 38,
    "start_time": "2021-12-07T12:35:12.817Z"
   },
   {
    "duration": 5,
    "start_time": "2021-12-07T12:54:45.366Z"
   },
   {
    "duration": 14,
    "start_time": "2021-12-07T12:54:48.189Z"
   },
   {
    "duration": 801,
    "start_time": "2021-12-07T14:41:58.074Z"
   },
   {
    "duration": 15,
    "start_time": "2021-12-07T14:41:58.877Z"
   },
   {
    "duration": 9,
    "start_time": "2021-12-07T14:41:58.894Z"
   },
   {
    "duration": 8,
    "start_time": "2021-12-07T14:41:58.904Z"
   },
   {
    "duration": 3,
    "start_time": "2021-12-07T14:41:58.913Z"
   },
   {
    "duration": 12,
    "start_time": "2021-12-07T14:41:58.917Z"
   },
   {
    "duration": 15,
    "start_time": "2021-12-07T14:41:58.930Z"
   },
   {
    "duration": 54,
    "start_time": "2021-12-07T14:41:58.947Z"
   },
   {
    "duration": 44,
    "start_time": "2021-12-07T14:41:59.003Z"
   },
   {
    "duration": 59,
    "start_time": "2021-12-07T14:41:59.049Z"
   },
   {
    "duration": 8,
    "start_time": "2021-12-07T14:41:59.110Z"
   },
   {
    "duration": 15,
    "start_time": "2021-12-07T14:41:59.119Z"
   },
   {
    "duration": 6,
    "start_time": "2021-12-07T14:41:59.136Z"
   },
   {
    "duration": 45,
    "start_time": "2021-12-07T14:41:59.143Z"
   },
   {
    "duration": 18,
    "start_time": "2021-12-07T14:41:59.189Z"
   },
   {
    "duration": 6,
    "start_time": "2021-12-07T14:41:59.208Z"
   },
   {
    "duration": 6,
    "start_time": "2021-12-07T14:41:59.216Z"
   },
   {
    "duration": 10,
    "start_time": "2021-12-07T14:41:59.223Z"
   },
   {
    "duration": 10,
    "start_time": "2021-12-07T14:41:59.234Z"
   },
   {
    "duration": 49,
    "start_time": "2021-12-07T14:41:59.246Z"
   },
   {
    "duration": 26,
    "start_time": "2021-12-07T14:41:59.297Z"
   },
   {
    "duration": 9,
    "start_time": "2021-12-07T14:41:59.324Z"
   },
   {
    "duration": 3,
    "start_time": "2021-12-07T14:41:59.336Z"
   },
   {
    "duration": 48,
    "start_time": "2021-12-07T14:41:59.341Z"
   },
   {
    "duration": 3,
    "start_time": "2021-12-07T14:41:59.390Z"
   },
   {
    "duration": 5,
    "start_time": "2021-12-07T14:48:35.936Z"
   },
   {
    "duration": 9,
    "start_time": "2021-12-07T14:48:37.599Z"
   },
   {
    "duration": 370,
    "start_time": "2021-12-07T14:51:06.201Z"
   },
   {
    "duration": 881,
    "start_time": "2021-12-07T14:51:06.665Z"
   },
   {
    "duration": 16,
    "start_time": "2021-12-07T14:51:07.548Z"
   },
   {
    "duration": 9,
    "start_time": "2021-12-07T14:51:07.566Z"
   },
   {
    "duration": 8,
    "start_time": "2021-12-07T14:51:07.577Z"
   },
   {
    "duration": 2,
    "start_time": "2021-12-07T14:51:07.586Z"
   },
   {
    "duration": 11,
    "start_time": "2021-12-07T14:51:07.589Z"
   },
   {
    "duration": 14,
    "start_time": "2021-12-07T14:51:07.602Z"
   },
   {
    "duration": 16,
    "start_time": "2021-12-07T14:51:07.618Z"
   },
   {
    "duration": 501,
    "start_time": "2021-12-07T14:51:07.636Z"
   },
   {
    "duration": 42,
    "start_time": "2021-12-07T14:51:08.096Z"
   },
   {
    "duration": 42,
    "start_time": "2021-12-07T14:51:08.097Z"
   },
   {
    "duration": 38,
    "start_time": "2021-12-07T14:51:08.102Z"
   },
   {
    "duration": 38,
    "start_time": "2021-12-07T14:51:08.103Z"
   },
   {
    "duration": 38,
    "start_time": "2021-12-07T14:51:08.104Z"
   },
   {
    "duration": 38,
    "start_time": "2021-12-07T14:51:08.105Z"
   },
   {
    "duration": 38,
    "start_time": "2021-12-07T14:51:08.106Z"
   },
   {
    "duration": 37,
    "start_time": "2021-12-07T14:51:08.108Z"
   },
   {
    "duration": 36,
    "start_time": "2021-12-07T14:51:08.109Z"
   },
   {
    "duration": 35,
    "start_time": "2021-12-07T14:51:08.111Z"
   },
   {
    "duration": 33,
    "start_time": "2021-12-07T14:51:08.114Z"
   },
   {
    "duration": 32,
    "start_time": "2021-12-07T14:51:08.116Z"
   },
   {
    "duration": 32,
    "start_time": "2021-12-07T14:51:08.117Z"
   },
   {
    "duration": 32,
    "start_time": "2021-12-07T14:51:08.118Z"
   },
   {
    "duration": 32,
    "start_time": "2021-12-07T14:51:08.119Z"
   },
   {
    "duration": 32,
    "start_time": "2021-12-07T14:51:08.119Z"
   },
   {
    "duration": 276,
    "start_time": "2021-12-07T14:51:24.123Z"
   },
   {
    "duration": 12,
    "start_time": "2021-12-07T14:51:24.400Z"
   },
   {
    "duration": 20,
    "start_time": "2021-12-07T14:51:24.414Z"
   },
   {
    "duration": 11,
    "start_time": "2021-12-07T14:51:24.436Z"
   },
   {
    "duration": 2,
    "start_time": "2021-12-07T14:51:24.449Z"
   },
   {
    "duration": 16,
    "start_time": "2021-12-07T14:51:24.452Z"
   },
   {
    "duration": 35,
    "start_time": "2021-12-07T14:51:24.470Z"
   },
   {
    "duration": 21,
    "start_time": "2021-12-07T14:51:24.508Z"
   },
   {
    "duration": 299,
    "start_time": "2021-12-07T14:51:24.532Z"
   },
   {
    "duration": 25,
    "start_time": "2021-12-07T14:51:24.808Z"
   },
   {
    "duration": 15,
    "start_time": "2021-12-07T14:51:24.818Z"
   },
   {
    "duration": 12,
    "start_time": "2021-12-07T14:51:24.822Z"
   },
   {
    "duration": 9,
    "start_time": "2021-12-07T14:51:24.826Z"
   },
   {
    "duration": 7,
    "start_time": "2021-12-07T14:51:24.829Z"
   },
   {
    "duration": 5,
    "start_time": "2021-12-07T14:51:24.832Z"
   },
   {
    "duration": 4,
    "start_time": "2021-12-07T14:51:24.833Z"
   },
   {
    "duration": 3,
    "start_time": "2021-12-07T14:51:24.835Z"
   },
   {
    "duration": -3,
    "start_time": "2021-12-07T14:51:24.842Z"
   },
   {
    "duration": -4,
    "start_time": "2021-12-07T14:51:24.844Z"
   },
   {
    "duration": -4,
    "start_time": "2021-12-07T14:51:24.845Z"
   },
   {
    "duration": -4,
    "start_time": "2021-12-07T14:51:24.846Z"
   },
   {
    "duration": -4,
    "start_time": "2021-12-07T14:51:24.847Z"
   },
   {
    "duration": -5,
    "start_time": "2021-12-07T14:51:24.848Z"
   },
   {
    "duration": -6,
    "start_time": "2021-12-07T14:51:24.850Z"
   },
   {
    "duration": -6,
    "start_time": "2021-12-07T14:51:24.851Z"
   },
   {
    "duration": 41,
    "start_time": "2021-12-07T14:51:43.550Z"
   },
   {
    "duration": 704,
    "start_time": "2021-12-07T14:52:02.636Z"
   },
   {
    "duration": 17,
    "start_time": "2021-12-07T14:52:03.341Z"
   },
   {
    "duration": 9,
    "start_time": "2021-12-07T14:52:03.360Z"
   },
   {
    "duration": 9,
    "start_time": "2021-12-07T14:52:03.371Z"
   },
   {
    "duration": 3,
    "start_time": "2021-12-07T14:52:03.381Z"
   },
   {
    "duration": 11,
    "start_time": "2021-12-07T14:52:03.385Z"
   },
   {
    "duration": 16,
    "start_time": "2021-12-07T14:52:03.397Z"
   },
   {
    "duration": 18,
    "start_time": "2021-12-07T14:52:03.414Z"
   },
   {
    "duration": 66,
    "start_time": "2021-12-07T14:52:03.435Z"
   },
   {
    "duration": 38,
    "start_time": "2021-12-07T14:52:03.503Z"
   },
   {
    "duration": 9,
    "start_time": "2021-12-07T14:52:03.543Z"
   },
   {
    "duration": 37,
    "start_time": "2021-12-07T14:52:03.554Z"
   },
   {
    "duration": 12,
    "start_time": "2021-12-07T14:52:03.594Z"
   },
   {
    "duration": 13,
    "start_time": "2021-12-07T14:52:03.607Z"
   },
   {
    "duration": 15,
    "start_time": "2021-12-07T14:52:03.622Z"
   },
   {
    "duration": 6,
    "start_time": "2021-12-07T14:52:03.638Z"
   },
   {
    "duration": 6,
    "start_time": "2021-12-07T14:52:03.645Z"
   },
   {
    "duration": 36,
    "start_time": "2021-12-07T14:52:03.652Z"
   },
   {
    "duration": 10,
    "start_time": "2021-12-07T14:52:03.689Z"
   },
   {
    "duration": 12,
    "start_time": "2021-12-07T14:52:03.701Z"
   },
   {
    "duration": 24,
    "start_time": "2021-12-07T14:52:03.714Z"
   },
   {
    "duration": 8,
    "start_time": "2021-12-07T14:52:03.740Z"
   },
   {
    "duration": 7,
    "start_time": "2021-12-07T14:52:03.749Z"
   },
   {
    "duration": 35,
    "start_time": "2021-12-07T14:52:03.758Z"
   },
   {
    "duration": 2,
    "start_time": "2021-12-07T14:52:03.794Z"
   },
   {
    "duration": 10,
    "start_time": "2021-12-07T14:53:49.702Z"
   },
   {
    "duration": 7,
    "start_time": "2021-12-07T14:56:21.888Z"
   },
   {
    "duration": 81,
    "start_time": "2021-12-07T15:01:39.292Z"
   },
   {
    "duration": 3,
    "start_time": "2021-12-07T15:02:49.168Z"
   },
   {
    "duration": 93,
    "start_time": "2021-12-07T15:05:34.874Z"
   },
   {
    "duration": 125,
    "start_time": "2021-12-07T15:12:19.789Z"
   },
   {
    "duration": 82,
    "start_time": "2021-12-07T15:12:33.281Z"
   },
   {
    "duration": 19,
    "start_time": "2021-12-07T15:14:07.902Z"
   },
   {
    "duration": 330,
    "start_time": "2021-12-07T15:14:26.330Z"
   },
   {
    "duration": 14,
    "start_time": "2021-12-07T15:14:26.664Z"
   },
   {
    "duration": 17,
    "start_time": "2021-12-07T15:14:26.680Z"
   },
   {
    "duration": 12,
    "start_time": "2021-12-07T15:14:26.700Z"
   },
   {
    "duration": 2,
    "start_time": "2021-12-07T15:14:26.715Z"
   },
   {
    "duration": 20,
    "start_time": "2021-12-07T15:14:26.719Z"
   },
   {
    "duration": 17,
    "start_time": "2021-12-07T15:14:26.741Z"
   },
   {
    "duration": 46,
    "start_time": "2021-12-07T15:14:26.761Z"
   },
   {
    "duration": 50,
    "start_time": "2021-12-07T15:14:26.810Z"
   },
   {
    "duration": 62,
    "start_time": "2021-12-07T15:14:26.862Z"
   },
   {
    "duration": 13,
    "start_time": "2021-12-07T15:14:26.926Z"
   },
   {
    "duration": 20,
    "start_time": "2021-12-07T15:14:26.941Z"
   },
   {
    "duration": 30,
    "start_time": "2021-12-07T15:14:26.963Z"
   },
   {
    "duration": 14,
    "start_time": "2021-12-07T15:14:26.996Z"
   },
   {
    "duration": 18,
    "start_time": "2021-12-07T15:14:27.012Z"
   },
   {
    "duration": 7,
    "start_time": "2021-12-07T15:14:27.031Z"
   },
   {
    "duration": 6,
    "start_time": "2021-12-07T15:14:27.039Z"
   },
   {
    "duration": 43,
    "start_time": "2021-12-07T15:14:27.047Z"
   },
   {
    "duration": 15,
    "start_time": "2021-12-07T15:14:27.092Z"
   },
   {
    "duration": 19,
    "start_time": "2021-12-07T15:14:34.169Z"
   },
   {
    "duration": 26,
    "start_time": "2021-12-07T15:14:37.206Z"
   },
   {
    "duration": 11,
    "start_time": "2021-12-07T15:14:41.482Z"
   },
   {
    "duration": 4,
    "start_time": "2021-12-07T15:17:11.715Z"
   },
   {
    "duration": 4,
    "start_time": "2021-12-07T15:18:13.894Z"
   },
   {
    "duration": 11,
    "start_time": "2021-12-07T15:19:28.388Z"
   },
   {
    "duration": 6,
    "start_time": "2021-12-07T15:19:46.493Z"
   },
   {
    "duration": 9,
    "start_time": "2021-12-07T15:22:47.636Z"
   },
   {
    "duration": 6,
    "start_time": "2021-12-07T15:22:50.841Z"
   },
   {
    "duration": 11,
    "start_time": "2021-12-07T15:24:40.734Z"
   },
   {
    "duration": 6,
    "start_time": "2021-12-07T15:25:05.345Z"
   },
   {
    "duration": 85,
    "start_time": "2021-12-07T15:25:48.265Z"
   },
   {
    "duration": 4,
    "start_time": "2021-12-07T15:25:57.064Z"
   },
   {
    "duration": 203,
    "start_time": "2021-12-07T15:26:06.235Z"
   },
   {
    "duration": 10,
    "start_time": "2021-12-07T15:26:06.440Z"
   },
   {
    "duration": 11,
    "start_time": "2021-12-07T15:26:06.452Z"
   },
   {
    "duration": 8,
    "start_time": "2021-12-07T15:26:06.465Z"
   },
   {
    "duration": 2,
    "start_time": "2021-12-07T15:26:06.475Z"
   },
   {
    "duration": 14,
    "start_time": "2021-12-07T15:26:06.478Z"
   },
   {
    "duration": 15,
    "start_time": "2021-12-07T15:26:06.493Z"
   },
   {
    "duration": 15,
    "start_time": "2021-12-07T15:26:06.510Z"
   },
   {
    "duration": 40,
    "start_time": "2021-12-07T15:26:06.527Z"
   },
   {
    "duration": 41,
    "start_time": "2021-12-07T15:26:06.588Z"
   },
   {
    "duration": 7,
    "start_time": "2021-12-07T15:26:06.631Z"
   },
   {
    "duration": 13,
    "start_time": "2021-12-07T15:26:06.640Z"
   },
   {
    "duration": 8,
    "start_time": "2021-12-07T15:26:06.654Z"
   },
   {
    "duration": 10,
    "start_time": "2021-12-07T15:26:06.687Z"
   },
   {
    "duration": 16,
    "start_time": "2021-12-07T15:26:06.698Z"
   },
   {
    "duration": 5,
    "start_time": "2021-12-07T15:26:06.715Z"
   },
   {
    "duration": 8,
    "start_time": "2021-12-07T15:26:06.722Z"
   },
   {
    "duration": 7,
    "start_time": "2021-12-07T15:26:06.732Z"
   },
   {
    "duration": 10,
    "start_time": "2021-12-07T15:26:06.741Z"
   },
   {
    "duration": 46,
    "start_time": "2021-12-07T15:26:06.753Z"
   },
   {
    "duration": 26,
    "start_time": "2021-12-07T15:26:06.800Z"
   },
   {
    "duration": 8,
    "start_time": "2021-12-07T15:26:06.828Z"
   },
   {
    "duration": 4,
    "start_time": "2021-12-07T15:26:06.838Z"
   },
   {
    "duration": 10,
    "start_time": "2021-12-07T15:26:06.844Z"
   },
   {
    "duration": 5,
    "start_time": "2021-12-07T15:28:36.175Z"
   },
   {
    "duration": 212,
    "start_time": "2021-12-07T15:42:24.563Z"
   },
   {
    "duration": 10,
    "start_time": "2021-12-07T15:42:24.777Z"
   },
   {
    "duration": 11,
    "start_time": "2021-12-07T15:42:24.789Z"
   },
   {
    "duration": 11,
    "start_time": "2021-12-07T15:42:24.801Z"
   },
   {
    "duration": 3,
    "start_time": "2021-12-07T15:42:24.813Z"
   },
   {
    "duration": 10,
    "start_time": "2021-12-07T15:42:24.817Z"
   },
   {
    "duration": 15,
    "start_time": "2021-12-07T15:42:24.828Z"
   },
   {
    "duration": 15,
    "start_time": "2021-12-07T15:42:24.845Z"
   },
   {
    "duration": 66,
    "start_time": "2021-12-07T15:42:24.862Z"
   },
   {
    "duration": 38,
    "start_time": "2021-12-07T15:42:24.929Z"
   },
   {
    "duration": 26,
    "start_time": "2021-12-07T15:42:24.968Z"
   },
   {
    "duration": 15,
    "start_time": "2021-12-07T15:42:24.995Z"
   },
   {
    "duration": 7,
    "start_time": "2021-12-07T15:42:25.011Z"
   },
   {
    "duration": 9,
    "start_time": "2021-12-07T15:42:25.020Z"
   },
   {
    "duration": 16,
    "start_time": "2021-12-07T15:42:25.031Z"
   },
   {
    "duration": 42,
    "start_time": "2021-12-07T15:42:25.048Z"
   },
   {
    "duration": 7,
    "start_time": "2021-12-07T15:42:25.092Z"
   },
   {
    "duration": 19,
    "start_time": "2021-12-07T15:42:25.100Z"
   },
   {
    "duration": 13,
    "start_time": "2021-12-07T15:42:25.120Z"
   },
   {
    "duration": 13,
    "start_time": "2021-12-07T15:42:25.135Z"
   },
   {
    "duration": 43,
    "start_time": "2021-12-07T15:42:25.150Z"
   },
   {
    "duration": 10,
    "start_time": "2021-12-07T15:42:25.195Z"
   },
   {
    "duration": 5,
    "start_time": "2021-12-07T15:42:25.209Z"
   },
   {
    "duration": 12,
    "start_time": "2021-12-07T15:42:25.216Z"
   },
   {
    "duration": 10,
    "start_time": "2021-12-07T15:42:25.230Z"
   },
   {
    "duration": 6,
    "start_time": "2021-12-07T15:42:25.242Z"
   },
   {
    "duration": 38,
    "start_time": "2021-12-07T15:42:25.250Z"
   },
   {
    "duration": 3,
    "start_time": "2021-12-07T15:42:25.290Z"
   },
   {
    "duration": 4,
    "start_time": "2021-12-07T15:47:18.730Z"
   },
   {
    "duration": 6,
    "start_time": "2021-12-07T15:48:14.963Z"
   },
   {
    "duration": 8,
    "start_time": "2021-12-07T15:49:12.581Z"
   },
   {
    "duration": 597,
    "start_time": "2021-12-07T16:00:43.479Z"
   },
   {
    "duration": 594,
    "start_time": "2021-12-07T16:00:52.059Z"
   },
   {
    "duration": 203,
    "start_time": "2021-12-07T16:05:29.603Z"
   },
   {
    "duration": 10,
    "start_time": "2021-12-07T16:05:29.808Z"
   },
   {
    "duration": 18,
    "start_time": "2021-12-07T16:05:29.820Z"
   },
   {
    "duration": 23,
    "start_time": "2021-12-07T16:05:29.840Z"
   },
   {
    "duration": 15,
    "start_time": "2021-12-07T16:05:29.864Z"
   },
   {
    "duration": 22,
    "start_time": "2021-12-07T16:05:29.880Z"
   },
   {
    "duration": 21,
    "start_time": "2021-12-07T16:05:29.904Z"
   },
   {
    "duration": 28,
    "start_time": "2021-12-07T16:05:29.927Z"
   },
   {
    "duration": 65,
    "start_time": "2021-12-07T16:05:29.957Z"
   },
   {
    "duration": 47,
    "start_time": "2021-12-07T16:05:30.023Z"
   },
   {
    "duration": 15,
    "start_time": "2021-12-07T16:05:30.072Z"
   },
   {
    "duration": 14,
    "start_time": "2021-12-07T16:05:30.089Z"
   },
   {
    "duration": 28,
    "start_time": "2021-12-07T16:05:30.104Z"
   },
   {
    "duration": 12,
    "start_time": "2021-12-07T16:05:30.134Z"
   },
   {
    "duration": 24,
    "start_time": "2021-12-07T16:05:30.148Z"
   },
   {
    "duration": 15,
    "start_time": "2021-12-07T16:05:30.174Z"
   },
   {
    "duration": 14,
    "start_time": "2021-12-07T16:05:30.190Z"
   },
   {
    "duration": 12,
    "start_time": "2021-12-07T16:05:30.206Z"
   },
   {
    "duration": 18,
    "start_time": "2021-12-07T16:05:30.219Z"
   },
   {
    "duration": 12,
    "start_time": "2021-12-07T16:05:30.239Z"
   },
   {
    "duration": 24,
    "start_time": "2021-12-07T16:05:30.253Z"
   },
   {
    "duration": 13,
    "start_time": "2021-12-07T16:05:30.278Z"
   },
   {
    "duration": 10,
    "start_time": "2021-12-07T16:05:30.294Z"
   },
   {
    "duration": 23,
    "start_time": "2021-12-07T16:05:30.306Z"
   },
   {
    "duration": 15,
    "start_time": "2021-12-07T16:05:30.330Z"
   },
   {
    "duration": 10,
    "start_time": "2021-12-07T16:05:30.347Z"
   },
   {
    "duration": 670,
    "start_time": "2021-12-07T16:05:30.359Z"
   },
   {
    "duration": 3,
    "start_time": "2021-12-07T16:05:31.031Z"
   },
   {
    "duration": 18,
    "start_time": "2021-12-07T16:05:31.035Z"
   },
   {
    "duration": 292,
    "start_time": "2021-12-07T16:07:06.933Z"
   },
   {
    "duration": 640,
    "start_time": "2021-12-07T16:09:44.064Z"
   },
   {
    "duration": 921,
    "start_time": "2021-12-07T16:10:52.466Z"
   },
   {
    "duration": 251,
    "start_time": "2021-12-07T16:13:36.536Z"
   },
   {
    "duration": 287,
    "start_time": "2021-12-07T16:14:09.800Z"
   },
   {
    "duration": 85,
    "start_time": "2021-12-07T16:14:29.181Z"
   },
   {
    "duration": 887,
    "start_time": "2021-12-07T16:14:34.933Z"
   },
   {
    "duration": 264,
    "start_time": "2021-12-07T16:16:22.017Z"
   },
   {
    "duration": 4,
    "start_time": "2021-12-07T16:16:44.870Z"
   },
   {
    "duration": 5,
    "start_time": "2021-12-07T16:17:05.214Z"
   },
   {
    "duration": 4,
    "start_time": "2021-12-07T16:17:09.616Z"
   },
   {
    "duration": 4,
    "start_time": "2021-12-07T16:17:17.918Z"
   },
   {
    "duration": 4,
    "start_time": "2021-12-07T16:18:42.910Z"
   },
   {
    "duration": 4,
    "start_time": "2021-12-07T16:18:51.195Z"
   },
   {
    "duration": 4,
    "start_time": "2021-12-07T16:19:12.354Z"
   },
   {
    "duration": 4,
    "start_time": "2021-12-07T16:22:52.286Z"
   },
   {
    "duration": 7,
    "start_time": "2021-12-07T16:23:11.823Z"
   },
   {
    "duration": 5,
    "start_time": "2021-12-07T16:26:12.331Z"
   },
   {
    "duration": 630,
    "start_time": "2021-12-07T16:27:43.578Z"
   },
   {
    "duration": 1019,
    "start_time": "2021-12-07T16:33:40.652Z"
   },
   {
    "duration": 664,
    "start_time": "2021-12-07T16:35:14.524Z"
   },
   {
    "duration": 269,
    "start_time": "2021-12-07T16:37:33.121Z"
   },
   {
    "duration": 644,
    "start_time": "2021-12-07T16:37:51.749Z"
   },
   {
    "duration": 649,
    "start_time": "2021-12-07T16:38:23.246Z"
   },
   {
    "duration": 655,
    "start_time": "2021-12-07T16:39:31.249Z"
   },
   {
    "duration": 669,
    "start_time": "2021-12-07T16:40:00.970Z"
   },
   {
    "duration": 884,
    "start_time": "2021-12-07T16:42:27.336Z"
   },
   {
    "duration": 651,
    "start_time": "2021-12-07T16:42:43.740Z"
   },
   {
    "duration": 712,
    "start_time": "2021-12-07T16:43:17.904Z"
   },
   {
    "duration": 645,
    "start_time": "2021-12-07T17:42:08.350Z"
   },
   {
    "duration": 929,
    "start_time": "2021-12-07T17:44:46.216Z"
   },
   {
    "duration": 657,
    "start_time": "2021-12-07T17:45:06.331Z"
   },
   {
    "duration": 721,
    "start_time": "2021-12-07T17:45:18.638Z"
   },
   {
    "duration": 958,
    "start_time": "2021-12-07T17:45:36.102Z"
   },
   {
    "duration": 900,
    "start_time": "2021-12-07T17:45:53.469Z"
   },
   {
    "duration": 714,
    "start_time": "2021-12-07T17:55:04.155Z"
   },
   {
    "duration": 642,
    "start_time": "2021-12-07T17:55:17.057Z"
   },
   {
    "duration": 911,
    "start_time": "2021-12-07T17:57:15.744Z"
   },
   {
    "duration": 637,
    "start_time": "2021-12-07T17:57:32.148Z"
   },
   {
    "duration": 644,
    "start_time": "2021-12-07T18:04:42.229Z"
   },
   {
    "duration": 713,
    "start_time": "2021-12-07T18:04:59.142Z"
   },
   {
    "duration": 647,
    "start_time": "2021-12-07T18:06:33.423Z"
   },
   {
    "duration": 646,
    "start_time": "2021-12-07T19:18:21.275Z"
   },
   {
    "duration": 630,
    "start_time": "2021-12-07T19:18:29.136Z"
   },
   {
    "duration": 646,
    "start_time": "2021-12-07T19:19:21.451Z"
   },
   {
    "duration": 646,
    "start_time": "2021-12-07T19:19:34.289Z"
   },
   {
    "duration": 632,
    "start_time": "2021-12-07T19:26:07.420Z"
   },
   {
    "duration": 638,
    "start_time": "2021-12-07T19:30:34.257Z"
   },
   {
    "duration": 647,
    "start_time": "2021-12-07T19:30:49.499Z"
   },
   {
    "duration": 6,
    "start_time": "2021-12-07T19:51:36.053Z"
   },
   {
    "duration": 4,
    "start_time": "2021-12-07T19:51:42.945Z"
   },
   {
    "duration": 3,
    "start_time": "2021-12-07T19:52:09.408Z"
   },
   {
    "duration": 631,
    "start_time": "2021-12-07T19:52:35.977Z"
   },
   {
    "duration": 231,
    "start_time": "2021-12-07T19:53:05.094Z"
   },
   {
    "duration": 5,
    "start_time": "2021-12-07T19:53:14.165Z"
   },
   {
    "duration": 4,
    "start_time": "2021-12-07T19:56:11.172Z"
   },
   {
    "duration": 2753,
    "start_time": "2021-12-07T19:59:25.634Z"
   },
   {
    "duration": 2998,
    "start_time": "2021-12-07T19:59:51.524Z"
   },
   {
    "duration": 11,
    "start_time": "2021-12-07T20:00:47.725Z"
   },
   {
    "duration": 16,
    "start_time": "2021-12-07T20:01:04.280Z"
   },
   {
    "duration": 11,
    "start_time": "2021-12-07T20:03:55.712Z"
   },
   {
    "duration": 3,
    "start_time": "2021-12-07T20:08:20.212Z"
   },
   {
    "duration": 2653,
    "start_time": "2021-12-07T20:09:42.861Z"
   },
   {
    "duration": 77,
    "start_time": "2021-12-07T20:10:50.846Z"
   },
   {
    "duration": 227,
    "start_time": "2021-12-07T20:22:37.278Z"
   },
   {
    "duration": 10,
    "start_time": "2021-12-07T20:22:37.507Z"
   },
   {
    "duration": 15,
    "start_time": "2021-12-07T20:22:37.519Z"
   },
   {
    "duration": 8,
    "start_time": "2021-12-07T20:22:37.536Z"
   },
   {
    "duration": 3,
    "start_time": "2021-12-07T20:22:37.545Z"
   },
   {
    "duration": 9,
    "start_time": "2021-12-07T20:22:37.549Z"
   },
   {
    "duration": 41,
    "start_time": "2021-12-07T20:22:37.559Z"
   },
   {
    "duration": 15,
    "start_time": "2021-12-07T20:22:37.602Z"
   },
   {
    "duration": 42,
    "start_time": "2021-12-07T20:22:37.619Z"
   },
   {
    "duration": 64,
    "start_time": "2021-12-07T20:22:37.663Z"
   },
   {
    "duration": 10,
    "start_time": "2021-12-07T20:22:37.728Z"
   },
   {
    "duration": 13,
    "start_time": "2021-12-07T20:22:37.740Z"
   },
   {
    "duration": 7,
    "start_time": "2021-12-07T20:22:37.754Z"
   },
   {
    "duration": 33,
    "start_time": "2021-12-07T20:22:37.762Z"
   },
   {
    "duration": 15,
    "start_time": "2021-12-07T20:22:37.797Z"
   },
   {
    "duration": 6,
    "start_time": "2021-12-07T20:22:37.814Z"
   },
   {
    "duration": 8,
    "start_time": "2021-12-07T20:22:37.821Z"
   },
   {
    "duration": 6,
    "start_time": "2021-12-07T20:22:37.830Z"
   },
   {
    "duration": 50,
    "start_time": "2021-12-07T20:22:37.838Z"
   },
   {
    "duration": 14,
    "start_time": "2021-12-07T20:22:37.889Z"
   },
   {
    "duration": 27,
    "start_time": "2021-12-07T20:22:37.904Z"
   },
   {
    "duration": 11,
    "start_time": "2021-12-07T20:22:37.932Z"
   },
   {
    "duration": 4,
    "start_time": "2021-12-07T20:22:37.946Z"
   },
   {
    "duration": 40,
    "start_time": "2021-12-07T20:22:37.952Z"
   },
   {
    "duration": 9,
    "start_time": "2021-12-07T20:22:37.994Z"
   },
   {
    "duration": 7,
    "start_time": "2021-12-07T20:22:38.005Z"
   },
   {
    "duration": 688,
    "start_time": "2021-12-07T20:22:38.014Z"
   },
   {
    "duration": 3,
    "start_time": "2021-12-07T20:22:38.704Z"
   },
   {
    "duration": 3030,
    "start_time": "2021-12-07T20:22:38.709Z"
   },
   {
    "duration": 743,
    "start_time": "2021-12-08T13:18:21.254Z"
   },
   {
    "duration": 1085,
    "start_time": "2021-12-08T13:18:34.685Z"
   },
   {
    "duration": 27,
    "start_time": "2021-12-08T13:18:35.773Z"
   },
   {
    "duration": 18,
    "start_time": "2021-12-08T13:18:35.803Z"
   },
   {
    "duration": 12,
    "start_time": "2021-12-08T13:18:35.825Z"
   },
   {
    "duration": 28,
    "start_time": "2021-12-08T13:18:35.840Z"
   },
   {
    "duration": 16,
    "start_time": "2021-12-08T13:18:35.871Z"
   },
   {
    "duration": 28,
    "start_time": "2021-12-08T13:18:35.889Z"
   },
   {
    "duration": 65,
    "start_time": "2021-12-08T13:18:35.919Z"
   },
   {
    "duration": 89,
    "start_time": "2021-12-08T13:18:35.988Z"
   },
   {
    "duration": 64,
    "start_time": "2021-12-08T13:18:36.080Z"
   },
   {
    "duration": 30,
    "start_time": "2021-12-08T13:18:36.146Z"
   },
   {
    "duration": 24,
    "start_time": "2021-12-08T13:18:36.179Z"
   },
   {
    "duration": 7,
    "start_time": "2021-12-08T13:18:36.206Z"
   },
   {
    "duration": 58,
    "start_time": "2021-12-08T13:18:36.215Z"
   },
   {
    "duration": 29,
    "start_time": "2021-12-08T13:18:36.276Z"
   },
   {
    "duration": 8,
    "start_time": "2021-12-08T13:18:36.308Z"
   },
   {
    "duration": 11,
    "start_time": "2021-12-08T13:18:36.319Z"
   },
   {
    "duration": 8,
    "start_time": "2021-12-08T13:18:36.367Z"
   },
   {
    "duration": 20,
    "start_time": "2021-12-08T13:18:36.377Z"
   },
   {
    "duration": 21,
    "start_time": "2021-12-08T13:18:36.400Z"
   },
   {
    "duration": 76,
    "start_time": "2021-12-08T13:18:36.423Z"
   },
   {
    "duration": 14,
    "start_time": "2021-12-08T13:18:36.501Z"
   },
   {
    "duration": 11,
    "start_time": "2021-12-08T13:18:36.517Z"
   },
   {
    "duration": 40,
    "start_time": "2021-12-08T13:18:36.531Z"
   },
   {
    "duration": 8,
    "start_time": "2021-12-08T13:18:36.574Z"
   },
   {
    "duration": 14,
    "start_time": "2021-12-08T13:18:36.584Z"
   },
   {
    "duration": 945,
    "start_time": "2021-12-08T13:18:36.603Z"
   },
   {
    "duration": 16,
    "start_time": "2021-12-08T13:18:37.552Z"
   },
   {
    "duration": 3848,
    "start_time": "2021-12-08T13:18:37.571Z"
   },
   {
    "duration": 7,
    "start_time": "2021-12-08T13:18:41.422Z"
   },
   {
    "duration": 7,
    "start_time": "2021-12-08T13:18:43.275Z"
   },
   {
    "duration": 12,
    "start_time": "2021-12-08T13:19:02.409Z"
   },
   {
    "duration": 329,
    "start_time": "2021-12-08T13:20:03.160Z"
   },
   {
    "duration": 10,
    "start_time": "2021-12-08T13:20:13.980Z"
   },
   {
    "duration": 19,
    "start_time": "2021-12-08T13:22:28.286Z"
   },
   {
    "duration": 19,
    "start_time": "2021-12-08T13:25:39.314Z"
   },
   {
    "duration": 307,
    "start_time": "2021-12-08T13:27:51.255Z"
   },
   {
    "duration": 558,
    "start_time": "2021-12-08T13:28:19.124Z"
   },
   {
    "duration": 18,
    "start_time": "2021-12-08T13:28:37.177Z"
   },
   {
    "duration": 18,
    "start_time": "2021-12-08T13:28:50.835Z"
   },
   {
    "duration": 19,
    "start_time": "2021-12-08T13:29:20.992Z"
   },
   {
    "duration": 13,
    "start_time": "2021-12-08T13:40:16.500Z"
   },
   {
    "duration": 13,
    "start_time": "2021-12-08T13:41:59.551Z"
   },
   {
    "duration": 16,
    "start_time": "2021-12-08T13:42:14.317Z"
   },
   {
    "duration": 14,
    "start_time": "2021-12-08T13:44:53.714Z"
   },
   {
    "duration": 12,
    "start_time": "2021-12-08T13:46:26.395Z"
   },
   {
    "duration": 13,
    "start_time": "2021-12-08T13:47:11.984Z"
   },
   {
    "duration": 8,
    "start_time": "2021-12-08T13:47:16.271Z"
   },
   {
    "duration": 9,
    "start_time": "2021-12-08T13:47:18.621Z"
   },
   {
    "duration": 13,
    "start_time": "2021-12-08T13:47:21.875Z"
   },
   {
    "duration": 15,
    "start_time": "2021-12-08T13:50:39.944Z"
   },
   {
    "duration": 13,
    "start_time": "2021-12-08T13:51:13.654Z"
   },
   {
    "duration": 14,
    "start_time": "2021-12-08T13:51:38.708Z"
   },
   {
    "duration": 13,
    "start_time": "2021-12-08T13:51:52.731Z"
   },
   {
    "duration": 13,
    "start_time": "2021-12-08T13:52:01.599Z"
   },
   {
    "duration": 90,
    "start_time": "2021-12-08T13:53:10.645Z"
   },
   {
    "duration": 91,
    "start_time": "2021-12-08T13:53:15.425Z"
   },
   {
    "duration": 93,
    "start_time": "2021-12-08T13:54:11.342Z"
   },
   {
    "duration": 3832,
    "start_time": "2021-12-08T13:54:20.607Z"
   },
   {
    "duration": 3851,
    "start_time": "2021-12-08T13:54:24.765Z"
   },
   {
    "duration": 3755,
    "start_time": "2021-12-08T13:55:20.656Z"
   },
   {
    "duration": 3,
    "start_time": "2021-12-08T13:57:16.311Z"
   },
   {
    "duration": 20,
    "start_time": "2021-12-08T13:58:43.795Z"
   },
   {
    "duration": 18,
    "start_time": "2021-12-08T13:59:17.522Z"
   },
   {
    "duration": 252,
    "start_time": "2021-12-08T13:59:48.968Z"
   },
   {
    "duration": 22,
    "start_time": "2021-12-08T13:59:49.223Z"
   },
   {
    "duration": 27,
    "start_time": "2021-12-08T13:59:49.248Z"
   },
   {
    "duration": 14,
    "start_time": "2021-12-08T13:59:49.278Z"
   },
   {
    "duration": 3,
    "start_time": "2021-12-08T13:59:49.294Z"
   },
   {
    "duration": 28,
    "start_time": "2021-12-08T13:59:49.299Z"
   },
   {
    "duration": 54,
    "start_time": "2021-12-08T13:59:49.330Z"
   },
   {
    "duration": 26,
    "start_time": "2021-12-08T13:59:49.388Z"
   },
   {
    "duration": 96,
    "start_time": "2021-12-08T13:59:49.417Z"
   },
   {
    "duration": 87,
    "start_time": "2021-12-08T13:59:49.516Z"
   },
   {
    "duration": 13,
    "start_time": "2021-12-08T13:59:49.606Z"
   },
   {
    "duration": 44,
    "start_time": "2021-12-08T13:59:49.629Z"
   },
   {
    "duration": 11,
    "start_time": "2021-12-08T13:59:49.676Z"
   },
   {
    "duration": 32,
    "start_time": "2021-12-08T13:59:49.689Z"
   },
   {
    "duration": 46,
    "start_time": "2021-12-08T13:59:49.723Z"
   },
   {
    "duration": 10,
    "start_time": "2021-12-08T13:59:49.771Z"
   },
   {
    "duration": 8,
    "start_time": "2021-12-08T13:59:49.783Z"
   },
   {
    "duration": 8,
    "start_time": "2021-12-08T13:59:49.793Z"
   },
   {
    "duration": 16,
    "start_time": "2021-12-08T13:59:49.803Z"
   },
   {
    "duration": 65,
    "start_time": "2021-12-08T13:59:49.821Z"
   },
   {
    "duration": 44,
    "start_time": "2021-12-08T13:59:49.888Z"
   },
   {
    "duration": 34,
    "start_time": "2021-12-08T13:59:49.934Z"
   },
   {
    "duration": 8,
    "start_time": "2021-12-08T13:59:49.973Z"
   },
   {
    "duration": 15,
    "start_time": "2021-12-08T13:59:49.984Z"
   },
   {
    "duration": 12,
    "start_time": "2021-12-08T13:59:50.001Z"
   },
   {
    "duration": 10,
    "start_time": "2021-12-08T13:59:50.016Z"
   },
   {
    "duration": 949,
    "start_time": "2021-12-08T13:59:50.068Z"
   },
   {
    "duration": 6,
    "start_time": "2021-12-08T13:59:51.020Z"
   },
   {
    "duration": 3706,
    "start_time": "2021-12-08T13:59:51.029Z"
   },
   {
    "duration": 12,
    "start_time": "2021-12-08T13:59:54.737Z"
   },
   {
    "duration": 16,
    "start_time": "2021-12-08T13:59:54.768Z"
   },
   {
    "duration": 14,
    "start_time": "2021-12-08T13:59:54.786Z"
   },
   {
    "duration": 14,
    "start_time": "2021-12-08T13:59:54.802Z"
   },
   {
    "duration": 52,
    "start_time": "2021-12-08T13:59:54.819Z"
   },
   {
    "duration": 13,
    "start_time": "2021-12-08T13:59:54.873Z"
   },
   {
    "duration": 295,
    "start_time": "2021-12-08T14:17:42.393Z"
   },
   {
    "duration": 3,
    "start_time": "2021-12-08T14:18:41.243Z"
   },
   {
    "duration": 18,
    "start_time": "2021-12-08T14:19:54.267Z"
   },
   {
    "duration": 18,
    "start_time": "2021-12-08T14:20:57.837Z"
   },
   {
    "duration": 3,
    "start_time": "2021-12-08T14:21:03.994Z"
   },
   {
    "duration": 3,
    "start_time": "2021-12-08T14:22:14.647Z"
   },
   {
    "duration": 16,
    "start_time": "2021-12-08T14:23:31.804Z"
   },
   {
    "duration": 67,
    "start_time": "2021-12-08T14:31:44.624Z"
   },
   {
    "duration": 316,
    "start_time": "2021-12-08T14:31:50.863Z"
   },
   {
    "duration": 18,
    "start_time": "2021-12-08T14:31:51.183Z"
   },
   {
    "duration": 31,
    "start_time": "2021-12-08T14:31:51.205Z"
   },
   {
    "duration": 30,
    "start_time": "2021-12-08T14:31:51.239Z"
   },
   {
    "duration": 17,
    "start_time": "2021-12-08T14:31:51.272Z"
   },
   {
    "duration": 48,
    "start_time": "2021-12-08T14:31:51.292Z"
   },
   {
    "duration": 51,
    "start_time": "2021-12-08T14:31:51.342Z"
   },
   {
    "duration": 29,
    "start_time": "2021-12-08T14:31:51.397Z"
   },
   {
    "duration": 97,
    "start_time": "2021-12-08T14:31:51.428Z"
   },
   {
    "duration": 84,
    "start_time": "2021-12-08T14:31:51.527Z"
   },
   {
    "duration": 13,
    "start_time": "2021-12-08T14:31:51.613Z"
   },
   {
    "duration": 52,
    "start_time": "2021-12-08T14:31:51.628Z"
   },
   {
    "duration": 21,
    "start_time": "2021-12-08T14:31:51.682Z"
   },
   {
    "duration": 43,
    "start_time": "2021-12-08T14:31:51.706Z"
   },
   {
    "duration": 71,
    "start_time": "2021-12-08T14:31:51.751Z"
   },
   {
    "duration": 18,
    "start_time": "2021-12-08T14:31:51.824Z"
   },
   {
    "duration": 20,
    "start_time": "2021-12-08T14:31:51.844Z"
   },
   {
    "duration": 32,
    "start_time": "2021-12-08T14:31:51.866Z"
   },
   {
    "duration": 39,
    "start_time": "2021-12-08T14:31:51.901Z"
   },
   {
    "duration": 42,
    "start_time": "2021-12-08T14:31:51.942Z"
   },
   {
    "duration": 46,
    "start_time": "2021-12-08T14:31:51.986Z"
   },
   {
    "duration": 32,
    "start_time": "2021-12-08T14:31:52.035Z"
   },
   {
    "duration": 14,
    "start_time": "2021-12-08T14:31:52.074Z"
   },
   {
    "duration": 44,
    "start_time": "2021-12-08T14:31:52.091Z"
   },
   {
    "duration": 40,
    "start_time": "2021-12-08T14:31:52.138Z"
   },
   {
    "duration": 38,
    "start_time": "2021-12-08T14:31:52.180Z"
   },
   {
    "duration": 1046,
    "start_time": "2021-12-08T14:31:52.220Z"
   },
   {
    "duration": 8,
    "start_time": "2021-12-08T14:31:53.270Z"
   },
   {
    "duration": 4028,
    "start_time": "2021-12-08T14:31:53.281Z"
   },
   {
    "duration": 13,
    "start_time": "2021-12-08T14:31:57.311Z"
   },
   {
    "duration": 14,
    "start_time": "2021-12-08T14:31:57.326Z"
   },
   {
    "duration": 22,
    "start_time": "2021-12-08T14:31:57.367Z"
   },
   {
    "duration": 13,
    "start_time": "2021-12-08T14:31:57.391Z"
   },
   {
    "duration": 28,
    "start_time": "2021-12-08T14:31:57.406Z"
   },
   {
    "duration": 33,
    "start_time": "2021-12-08T14:31:57.436Z"
   },
   {
    "duration": 45,
    "start_time": "2021-12-08T14:31:57.471Z"
   },
   {
    "duration": 22,
    "start_time": "2021-12-08T14:32:31.082Z"
   },
   {
    "duration": 23,
    "start_time": "2021-12-08T14:32:51.881Z"
   },
   {
    "duration": 265,
    "start_time": "2021-12-08T14:32:57.042Z"
   },
   {
    "duration": 20,
    "start_time": "2021-12-08T14:32:57.309Z"
   },
   {
    "duration": 17,
    "start_time": "2021-12-08T14:32:57.332Z"
   },
   {
    "duration": 13,
    "start_time": "2021-12-08T14:32:57.367Z"
   },
   {
    "duration": 4,
    "start_time": "2021-12-08T14:32:57.383Z"
   },
   {
    "duration": 18,
    "start_time": "2021-12-08T14:32:57.390Z"
   },
   {
    "duration": 72,
    "start_time": "2021-12-08T14:32:57.410Z"
   },
   {
    "duration": 27,
    "start_time": "2021-12-08T14:32:57.487Z"
   },
   {
    "duration": 101,
    "start_time": "2021-12-08T14:32:57.516Z"
   },
   {
    "duration": 82,
    "start_time": "2021-12-08T14:32:57.620Z"
   },
   {
    "duration": 12,
    "start_time": "2021-12-08T14:32:57.705Z"
   },
   {
    "duration": 53,
    "start_time": "2021-12-08T14:32:57.720Z"
   },
   {
    "duration": 17,
    "start_time": "2021-12-08T14:33:28.910Z"
   },
   {
    "duration": 306,
    "start_time": "2021-12-08T14:33:34.166Z"
   },
   {
    "duration": 17,
    "start_time": "2021-12-08T14:33:34.475Z"
   },
   {
    "duration": 20,
    "start_time": "2021-12-08T14:33:34.496Z"
   },
   {
    "duration": 49,
    "start_time": "2021-12-08T14:33:34.519Z"
   },
   {
    "duration": 4,
    "start_time": "2021-12-08T14:33:34.571Z"
   },
   {
    "duration": 20,
    "start_time": "2021-12-08T14:33:34.578Z"
   },
   {
    "duration": 29,
    "start_time": "2021-12-08T14:33:34.601Z"
   },
   {
    "duration": 35,
    "start_time": "2021-12-08T14:33:34.668Z"
   },
   {
    "duration": 108,
    "start_time": "2021-12-08T14:33:34.706Z"
   },
   {
    "duration": 89,
    "start_time": "2021-12-08T14:33:34.816Z"
   },
   {
    "duration": 14,
    "start_time": "2021-12-08T14:33:34.908Z"
   },
   {
    "duration": 24,
    "start_time": "2021-12-08T14:33:36.987Z"
   },
   {
    "duration": 7,
    "start_time": "2021-12-08T14:47:13.587Z"
   },
   {
    "duration": 273,
    "start_time": "2021-12-08T14:47:46.475Z"
   },
   {
    "duration": 18,
    "start_time": "2021-12-08T14:47:46.750Z"
   },
   {
    "duration": 45,
    "start_time": "2021-12-08T14:47:46.772Z"
   },
   {
    "duration": 15,
    "start_time": "2021-12-08T14:47:46.820Z"
   },
   {
    "duration": 10,
    "start_time": "2021-12-08T14:47:46.838Z"
   },
   {
    "duration": 34,
    "start_time": "2021-12-08T14:47:46.851Z"
   },
   {
    "duration": 26,
    "start_time": "2021-12-08T14:47:46.888Z"
   },
   {
    "duration": 27,
    "start_time": "2021-12-08T14:47:46.918Z"
   },
   {
    "duration": 74,
    "start_time": "2021-12-08T14:47:46.969Z"
   },
   {
    "duration": 90,
    "start_time": "2021-12-08T14:47:47.046Z"
   },
   {
    "duration": 34,
    "start_time": "2021-12-08T14:47:47.139Z"
   },
   {
    "duration": 43,
    "start_time": "2021-12-08T14:47:47.176Z"
   },
   {
    "duration": 26,
    "start_time": "2021-12-08T14:47:47.222Z"
   },
   {
    "duration": 32,
    "start_time": "2021-12-08T14:47:47.251Z"
   },
   {
    "duration": 30,
    "start_time": "2021-12-08T14:47:47.286Z"
   },
   {
    "duration": 12,
    "start_time": "2021-12-08T14:47:47.319Z"
   },
   {
    "duration": 11,
    "start_time": "2021-12-08T14:47:47.367Z"
   },
   {
    "duration": 14,
    "start_time": "2021-12-08T14:47:47.382Z"
   },
   {
    "duration": 26,
    "start_time": "2021-12-08T14:47:47.399Z"
   },
   {
    "duration": 66,
    "start_time": "2021-12-08T14:47:47.428Z"
   },
   {
    "duration": 78,
    "start_time": "2021-12-08T14:47:47.498Z"
   },
   {
    "duration": 21,
    "start_time": "2021-12-08T14:47:47.580Z"
   },
   {
    "duration": 8,
    "start_time": "2021-12-08T14:47:47.608Z"
   },
   {
    "duration": 47,
    "start_time": "2021-12-08T14:47:47.620Z"
   },
   {
    "duration": 37,
    "start_time": "2021-12-08T14:47:47.670Z"
   },
   {
    "duration": 12,
    "start_time": "2021-12-08T14:47:47.710Z"
   },
   {
    "duration": 1131,
    "start_time": "2021-12-08T14:47:47.724Z"
   },
   {
    "duration": 7,
    "start_time": "2021-12-08T14:47:48.869Z"
   },
   {
    "duration": 4400,
    "start_time": "2021-12-08T14:47:48.880Z"
   },
   {
    "duration": 18,
    "start_time": "2021-12-08T14:47:53.283Z"
   },
   {
    "duration": 18,
    "start_time": "2021-12-08T14:47:53.304Z"
   },
   {
    "duration": 54,
    "start_time": "2021-12-08T14:47:53.325Z"
   },
   {
    "duration": 17,
    "start_time": "2021-12-08T14:47:53.382Z"
   },
   {
    "duration": 14,
    "start_time": "2021-12-08T14:47:53.401Z"
   },
   {
    "duration": 58,
    "start_time": "2021-12-08T14:47:53.418Z"
   },
   {
    "duration": 20,
    "start_time": "2021-12-08T14:47:53.479Z"
   },
   {
    "duration": 9,
    "start_time": "2021-12-08T14:47:53.502Z"
   },
   {
    "duration": 7,
    "start_time": "2021-12-08T14:49:03.853Z"
   },
   {
    "duration": 9,
    "start_time": "2021-12-08T14:49:19.109Z"
   },
   {
    "duration": 9,
    "start_time": "2021-12-08T14:49:42.479Z"
   },
   {
    "duration": 8,
    "start_time": "2021-12-08T14:49:54.688Z"
   },
   {
    "duration": 16,
    "start_time": "2021-12-08T15:32:13.864Z"
   },
   {
    "duration": 14,
    "start_time": "2021-12-08T15:32:44.498Z"
   },
   {
    "duration": 138,
    "start_time": "2021-12-08T15:32:58.509Z"
   },
   {
    "duration": 343,
    "start_time": "2021-12-08T15:33:51.855Z"
   },
   {
    "duration": 14,
    "start_time": "2021-12-08T15:34:05.808Z"
   },
   {
    "duration": 14,
    "start_time": "2021-12-08T15:34:51.697Z"
   },
   {
    "duration": 11,
    "start_time": "2021-12-08T16:10:48.447Z"
   },
   {
    "duration": 54,
    "start_time": "2021-12-08T16:29:23.997Z"
   },
   {
    "duration": 33,
    "start_time": "2021-12-08T16:29:45.053Z"
   },
   {
    "duration": 53,
    "start_time": "2021-12-08T16:30:22.873Z"
   },
   {
    "duration": 256,
    "start_time": "2021-12-08T16:31:55.149Z"
   },
   {
    "duration": 20,
    "start_time": "2021-12-08T16:31:55.408Z"
   },
   {
    "duration": 36,
    "start_time": "2021-12-08T16:31:55.431Z"
   },
   {
    "duration": 13,
    "start_time": "2021-12-08T16:31:55.470Z"
   },
   {
    "duration": 3,
    "start_time": "2021-12-08T16:31:55.486Z"
   },
   {
    "duration": 16,
    "start_time": "2021-12-08T16:31:55.492Z"
   },
   {
    "duration": 63,
    "start_time": "2021-12-08T16:31:55.511Z"
   },
   {
    "duration": 27,
    "start_time": "2021-12-08T16:31:55.578Z"
   },
   {
    "duration": 101,
    "start_time": "2021-12-08T16:31:55.608Z"
   },
   {
    "duration": 82,
    "start_time": "2021-12-08T16:31:55.712Z"
   },
   {
    "duration": 13,
    "start_time": "2021-12-08T16:31:55.796Z"
   },
   {
    "duration": 24,
    "start_time": "2021-12-08T16:31:55.812Z"
   },
   {
    "duration": 34,
    "start_time": "2021-12-08T16:31:55.838Z"
   },
   {
    "duration": 16,
    "start_time": "2021-12-08T16:31:55.875Z"
   },
   {
    "duration": 31,
    "start_time": "2021-12-08T16:31:55.894Z"
   },
   {
    "duration": 9,
    "start_time": "2021-12-08T16:31:55.968Z"
   },
   {
    "duration": 10,
    "start_time": "2021-12-08T16:31:55.980Z"
   },
   {
    "duration": 10,
    "start_time": "2021-12-08T16:31:55.993Z"
   },
   {
    "duration": 19,
    "start_time": "2021-12-08T16:31:56.005Z"
   },
   {
    "duration": 25,
    "start_time": "2021-12-08T16:31:56.068Z"
   },
   {
    "duration": 72,
    "start_time": "2021-12-08T16:31:56.096Z"
   },
   {
    "duration": 15,
    "start_time": "2021-12-08T16:31:56.171Z"
   },
   {
    "duration": 6,
    "start_time": "2021-12-08T16:31:56.192Z"
   },
   {
    "duration": 15,
    "start_time": "2021-12-08T16:31:56.201Z"
   },
   {
    "duration": 49,
    "start_time": "2021-12-08T16:31:56.218Z"
   },
   {
    "duration": 10,
    "start_time": "2021-12-08T16:31:56.269Z"
   },
   {
    "duration": 986,
    "start_time": "2021-12-08T16:31:56.281Z"
   },
   {
    "duration": 5,
    "start_time": "2021-12-08T16:31:57.270Z"
   },
   {
    "duration": 3740,
    "start_time": "2021-12-08T16:31:57.277Z"
   },
   {
    "duration": 13,
    "start_time": "2021-12-08T16:32:01.019Z"
   },
   {
    "duration": 36,
    "start_time": "2021-12-08T16:32:01.034Z"
   },
   {
    "duration": 17,
    "start_time": "2021-12-08T16:32:01.073Z"
   },
   {
    "duration": 13,
    "start_time": "2021-12-08T16:32:01.092Z"
   },
   {
    "duration": 30,
    "start_time": "2021-12-08T16:32:01.108Z"
   },
   {
    "duration": 38,
    "start_time": "2021-12-08T16:32:01.141Z"
   },
   {
    "duration": 25,
    "start_time": "2021-12-08T16:32:01.182Z"
   },
   {
    "duration": 76,
    "start_time": "2021-12-08T16:32:01.210Z"
   },
   {
    "duration": 48,
    "start_time": "2021-12-08T16:32:08.103Z"
   },
   {
    "duration": 102,
    "start_time": "2021-12-08T17:28:54.454Z"
   },
   {
    "duration": 329,
    "start_time": "2021-12-08T17:31:09.921Z"
   },
   {
    "duration": 5,
    "start_time": "2021-12-08T17:31:47.675Z"
   },
   {
    "duration": 5,
    "start_time": "2021-12-08T17:31:51.245Z"
   },
   {
    "duration": 5,
    "start_time": "2021-12-08T17:31:58.236Z"
   },
   {
    "duration": 5,
    "start_time": "2021-12-08T17:32:07.692Z"
   },
   {
    "duration": 6,
    "start_time": "2021-12-08T17:32:35.772Z"
   },
   {
    "duration": 5,
    "start_time": "2021-12-08T17:37:25.781Z"
   },
   {
    "duration": 8,
    "start_time": "2021-12-08T17:37:37.577Z"
   },
   {
    "duration": 8,
    "start_time": "2021-12-08T17:38:08.184Z"
   },
   {
    "duration": 8,
    "start_time": "2021-12-08T17:38:23.305Z"
   },
   {
    "duration": 9,
    "start_time": "2021-12-08T17:39:34.721Z"
   },
   {
    "duration": 7,
    "start_time": "2021-12-08T17:40:04.885Z"
   },
   {
    "duration": 10,
    "start_time": "2021-12-08T17:40:09.945Z"
   },
   {
    "duration": 280,
    "start_time": "2021-12-08T17:40:20.902Z"
   },
   {
    "duration": 18,
    "start_time": "2021-12-08T17:40:21.186Z"
   },
   {
    "duration": 20,
    "start_time": "2021-12-08T17:40:21.208Z"
   },
   {
    "duration": 38,
    "start_time": "2021-12-08T17:40:21.231Z"
   },
   {
    "duration": 3,
    "start_time": "2021-12-08T17:40:21.271Z"
   },
   {
    "duration": 19,
    "start_time": "2021-12-08T17:40:21.277Z"
   },
   {
    "duration": 69,
    "start_time": "2021-12-08T17:40:21.299Z"
   },
   {
    "duration": 27,
    "start_time": "2021-12-08T17:40:21.371Z"
   },
   {
    "duration": 105,
    "start_time": "2021-12-08T17:40:21.403Z"
   },
   {
    "duration": 81,
    "start_time": "2021-12-08T17:40:21.511Z"
   },
   {
    "duration": 15,
    "start_time": "2021-12-08T17:40:21.595Z"
   },
   {
    "duration": 56,
    "start_time": "2021-12-08T17:40:21.613Z"
   },
   {
    "duration": 12,
    "start_time": "2021-12-08T17:40:21.672Z"
   },
   {
    "duration": 17,
    "start_time": "2021-12-08T17:40:21.686Z"
   },
   {
    "duration": 73,
    "start_time": "2021-12-08T17:40:21.706Z"
   },
   {
    "duration": 11,
    "start_time": "2021-12-08T17:40:21.782Z"
   },
   {
    "duration": 8,
    "start_time": "2021-12-08T17:40:21.796Z"
   },
   {
    "duration": 10,
    "start_time": "2021-12-08T17:40:21.807Z"
   },
   {
    "duration": 60,
    "start_time": "2021-12-08T17:40:21.819Z"
   },
   {
    "duration": 23,
    "start_time": "2021-12-08T17:40:21.882Z"
   },
   {
    "duration": 80,
    "start_time": "2021-12-08T17:40:21.908Z"
   },
   {
    "duration": 16,
    "start_time": "2021-12-08T17:40:21.991Z"
   },
   {
    "duration": 8,
    "start_time": "2021-12-08T17:40:22.011Z"
   },
   {
    "duration": 55,
    "start_time": "2021-12-08T17:40:22.022Z"
   },
   {
    "duration": 17,
    "start_time": "2021-12-08T17:40:22.080Z"
   },
   {
    "duration": 28,
    "start_time": "2021-12-08T17:40:22.101Z"
   },
   {
    "duration": 1407,
    "start_time": "2021-12-08T17:40:22.136Z"
   },
   {
    "duration": 21,
    "start_time": "2021-12-08T17:40:23.547Z"
   },
   {
    "duration": 4232,
    "start_time": "2021-12-08T17:40:23.571Z"
   },
   {
    "duration": 13,
    "start_time": "2021-12-08T17:40:27.806Z"
   },
   {
    "duration": 16,
    "start_time": "2021-12-08T17:40:27.822Z"
   },
   {
    "duration": 15,
    "start_time": "2021-12-08T17:40:27.867Z"
   },
   {
    "duration": 12,
    "start_time": "2021-12-08T17:40:27.885Z"
   },
   {
    "duration": 13,
    "start_time": "2021-12-08T17:40:27.900Z"
   },
   {
    "duration": 56,
    "start_time": "2021-12-08T17:40:27.916Z"
   },
   {
    "duration": 16,
    "start_time": "2021-12-08T17:40:27.975Z"
   },
   {
    "duration": 77,
    "start_time": "2021-12-08T17:40:27.994Z"
   },
   {
    "duration": 7,
    "start_time": "2021-12-08T17:40:32.054Z"
   },
   {
    "duration": 7,
    "start_time": "2021-12-08T17:42:55.856Z"
   },
   {
    "duration": 7,
    "start_time": "2021-12-08T17:42:58.913Z"
   },
   {
    "duration": 6,
    "start_time": "2021-12-08T17:43:31.220Z"
   },
   {
    "duration": 8,
    "start_time": "2021-12-08T17:44:19.898Z"
   },
   {
    "duration": 7,
    "start_time": "2021-12-08T17:44:23.874Z"
   },
   {
    "duration": 6,
    "start_time": "2021-12-08T17:44:34.132Z"
   },
   {
    "duration": 8,
    "start_time": "2021-12-08T17:45:40.727Z"
   },
   {
    "duration": 165,
    "start_time": "2021-12-08T17:46:49.813Z"
   },
   {
    "duration": 9,
    "start_time": "2021-12-08T17:46:55.674Z"
   },
   {
    "duration": 116,
    "start_time": "2021-12-08T17:48:15.650Z"
   },
   {
    "duration": 12,
    "start_time": "2021-12-08T17:48:21.939Z"
   },
   {
    "duration": 107,
    "start_time": "2021-12-08T17:49:48.906Z"
   },
   {
    "duration": 510,
    "start_time": "2021-12-08T17:49:52.956Z"
   },
   {
    "duration": 8,
    "start_time": "2021-12-08T17:51:10.538Z"
   },
   {
    "duration": 6,
    "start_time": "2021-12-08T17:52:26.345Z"
   },
   {
    "duration": 6,
    "start_time": "2021-12-08T17:53:04.060Z"
   },
   {
    "duration": 7,
    "start_time": "2021-12-08T17:53:29.456Z"
   },
   {
    "duration": 7,
    "start_time": "2021-12-08T17:54:20.979Z"
   },
   {
    "duration": 8,
    "start_time": "2021-12-08T17:54:42.608Z"
   },
   {
    "duration": 5,
    "start_time": "2021-12-08T17:55:38.409Z"
   },
   {
    "duration": 5,
    "start_time": "2021-12-08T17:55:42.537Z"
   },
   {
    "duration": 4,
    "start_time": "2021-12-08T17:55:52.015Z"
   },
   {
    "duration": 5,
    "start_time": "2021-12-08T17:56:00.836Z"
   },
   {
    "duration": 7,
    "start_time": "2021-12-08T17:56:05.514Z"
   },
   {
    "duration": 7,
    "start_time": "2021-12-08T17:58:23.938Z"
   },
   {
    "duration": 8,
    "start_time": "2021-12-08T17:58:53.222Z"
   },
   {
    "duration": 8,
    "start_time": "2021-12-08T17:59:07.461Z"
   },
   {
    "duration": 8,
    "start_time": "2021-12-08T17:59:31.746Z"
   },
   {
    "duration": 10,
    "start_time": "2021-12-08T18:00:00.835Z"
   },
   {
    "duration": 5,
    "start_time": "2021-12-08T18:03:42.764Z"
   },
   {
    "duration": 90,
    "start_time": "2021-12-08T18:03:52.481Z"
   },
   {
    "duration": 7,
    "start_time": "2021-12-08T18:03:58.778Z"
   },
   {
    "duration": 10,
    "start_time": "2021-12-08T18:04:06.052Z"
   },
   {
    "duration": 7,
    "start_time": "2021-12-08T18:04:24.489Z"
   },
   {
    "duration": 6,
    "start_time": "2021-12-08T18:04:33.299Z"
   },
   {
    "duration": 106,
    "start_time": "2021-12-08T18:06:24.826Z"
   },
   {
    "duration": 137,
    "start_time": "2021-12-08T18:06:37.501Z"
   },
   {
    "duration": 7,
    "start_time": "2021-12-08T18:07:24.079Z"
   },
   {
    "duration": 7,
    "start_time": "2021-12-08T18:08:02.730Z"
   },
   {
    "duration": 7,
    "start_time": "2021-12-08T18:08:16.227Z"
   },
   {
    "duration": 7,
    "start_time": "2021-12-08T18:08:25.762Z"
   },
   {
    "duration": 7,
    "start_time": "2021-12-08T18:08:57.345Z"
   },
   {
    "duration": 9,
    "start_time": "2021-12-08T18:09:04.019Z"
   },
   {
    "duration": 7,
    "start_time": "2021-12-08T18:09:26.663Z"
   },
   {
    "duration": 6,
    "start_time": "2021-12-08T18:09:45.167Z"
   },
   {
    "duration": 8,
    "start_time": "2021-12-08T18:09:56.747Z"
   },
   {
    "duration": 6,
    "start_time": "2021-12-08T18:10:03.227Z"
   },
   {
    "duration": 8,
    "start_time": "2021-12-08T18:10:53.053Z"
   },
   {
    "duration": 6,
    "start_time": "2021-12-08T18:11:22.617Z"
   },
   {
    "duration": 7,
    "start_time": "2021-12-08T18:14:05.372Z"
   },
   {
    "duration": 6,
    "start_time": "2021-12-08T18:14:29.957Z"
   },
   {
    "duration": 7,
    "start_time": "2021-12-08T18:14:47.843Z"
   },
   {
    "duration": 7,
    "start_time": "2021-12-08T18:14:52.759Z"
   },
   {
    "duration": 7,
    "start_time": "2021-12-08T18:15:00.155Z"
   },
   {
    "duration": 8,
    "start_time": "2021-12-08T18:15:41.004Z"
   },
   {
    "duration": 9,
    "start_time": "2021-12-08T18:15:44.360Z"
   },
   {
    "duration": 7,
    "start_time": "2021-12-08T18:15:52.794Z"
   },
   {
    "duration": 11,
    "start_time": "2021-12-08T18:16:30.693Z"
   },
   {
    "duration": 7,
    "start_time": "2021-12-08T18:16:38.771Z"
   },
   {
    "duration": 7,
    "start_time": "2021-12-08T18:16:57.360Z"
   },
   {
    "duration": 8,
    "start_time": "2021-12-08T18:17:12.724Z"
   },
   {
    "duration": 7,
    "start_time": "2021-12-08T18:17:45.231Z"
   },
   {
    "duration": 10,
    "start_time": "2021-12-08T18:18:04.687Z"
   },
   {
    "duration": 6,
    "start_time": "2021-12-08T18:18:39.612Z"
   },
   {
    "duration": 8,
    "start_time": "2021-12-08T18:18:49.105Z"
   },
   {
    "duration": 7,
    "start_time": "2021-12-08T18:20:15.525Z"
   },
   {
    "duration": 7,
    "start_time": "2021-12-08T18:20:22.641Z"
   },
   {
    "duration": 135,
    "start_time": "2021-12-08T18:24:46.065Z"
   },
   {
    "duration": 7,
    "start_time": "2021-12-08T18:25:32.635Z"
   },
   {
    "duration": 7,
    "start_time": "2021-12-08T18:26:15.756Z"
   },
   {
    "duration": 7,
    "start_time": "2021-12-08T18:26:30.231Z"
   },
   {
    "duration": 7,
    "start_time": "2021-12-08T18:26:41.793Z"
   },
   {
    "duration": 8,
    "start_time": "2021-12-08T18:27:28.413Z"
   },
   {
    "duration": 7,
    "start_time": "2021-12-08T18:30:17.243Z"
   },
   {
    "duration": 7,
    "start_time": "2021-12-08T18:30:55.438Z"
   },
   {
    "duration": 6,
    "start_time": "2021-12-08T18:31:11.209Z"
   },
   {
    "duration": 5,
    "start_time": "2021-12-08T18:34:15.119Z"
   },
   {
    "duration": 353,
    "start_time": "2021-12-08T18:34:58.744Z"
   },
   {
    "duration": 17,
    "start_time": "2021-12-08T18:34:59.100Z"
   },
   {
    "duration": 18,
    "start_time": "2021-12-08T18:34:59.120Z"
   },
   {
    "duration": 39,
    "start_time": "2021-12-08T18:34:59.142Z"
   },
   {
    "duration": 4,
    "start_time": "2021-12-08T18:34:59.183Z"
   },
   {
    "duration": 14,
    "start_time": "2021-12-08T18:34:59.190Z"
   },
   {
    "duration": 71,
    "start_time": "2021-12-08T18:34:59.206Z"
   },
   {
    "duration": 30,
    "start_time": "2021-12-08T18:34:59.282Z"
   },
   {
    "duration": 108,
    "start_time": "2021-12-08T18:34:59.316Z"
   },
   {
    "duration": 84,
    "start_time": "2021-12-08T18:34:59.427Z"
   },
   {
    "duration": 14,
    "start_time": "2021-12-08T18:34:59.513Z"
   },
   {
    "duration": 58,
    "start_time": "2021-12-08T18:34:59.531Z"
   },
   {
    "duration": 9,
    "start_time": "2021-12-08T18:34:59.592Z"
   },
   {
    "duration": 16,
    "start_time": "2021-12-08T18:34:59.603Z"
   },
   {
    "duration": 72,
    "start_time": "2021-12-08T18:34:59.622Z"
   },
   {
    "duration": 12,
    "start_time": "2021-12-08T18:34:59.697Z"
   },
   {
    "duration": 19,
    "start_time": "2021-12-08T18:34:59.712Z"
   },
   {
    "duration": 40,
    "start_time": "2021-12-08T18:34:59.733Z"
   },
   {
    "duration": 19,
    "start_time": "2021-12-08T18:34:59.776Z"
   },
   {
    "duration": 22,
    "start_time": "2021-12-08T18:34:59.797Z"
   },
   {
    "duration": 80,
    "start_time": "2021-12-08T18:34:59.821Z"
   },
   {
    "duration": 14,
    "start_time": "2021-12-08T18:34:59.904Z"
   },
   {
    "duration": 7,
    "start_time": "2021-12-08T18:34:59.923Z"
   },
   {
    "duration": 48,
    "start_time": "2021-12-08T18:34:59.933Z"
   },
   {
    "duration": 66,
    "start_time": "2021-12-08T18:34:59.983Z"
   },
   {
    "duration": 23,
    "start_time": "2021-12-08T18:35:00.051Z"
   },
   {
    "duration": 1020,
    "start_time": "2021-12-08T18:35:00.077Z"
   },
   {
    "duration": 5,
    "start_time": "2021-12-08T18:35:01.100Z"
   },
   {
    "duration": 4257,
    "start_time": "2021-12-08T18:35:01.110Z"
   },
   {
    "duration": 13,
    "start_time": "2021-12-08T18:35:05.370Z"
   },
   {
    "duration": 13,
    "start_time": "2021-12-08T18:35:05.386Z"
   },
   {
    "duration": 14,
    "start_time": "2021-12-08T18:35:05.402Z"
   },
   {
    "duration": 51,
    "start_time": "2021-12-08T18:35:05.418Z"
   },
   {
    "duration": 16,
    "start_time": "2021-12-08T18:35:05.471Z"
   },
   {
    "duration": 18,
    "start_time": "2021-12-08T18:35:05.489Z"
   },
   {
    "duration": 17,
    "start_time": "2021-12-08T18:35:05.509Z"
   },
   {
    "duration": 87,
    "start_time": "2021-12-08T18:35:05.528Z"
   },
   {
    "duration": 6,
    "start_time": "2021-12-08T18:37:03.598Z"
   },
   {
    "duration": 6,
    "start_time": "2021-12-08T18:37:29.034Z"
   },
   {
    "duration": 5,
    "start_time": "2021-12-08T18:37:37.902Z"
   },
   {
    "duration": 4,
    "start_time": "2021-12-08T18:37:46.171Z"
   },
   {
    "duration": 6,
    "start_time": "2021-12-08T18:38:01.264Z"
   },
   {
    "duration": 6,
    "start_time": "2021-12-08T18:38:08.317Z"
   },
   {
    "duration": 273,
    "start_time": "2021-12-08T18:38:15.309Z"
   },
   {
    "duration": 21,
    "start_time": "2021-12-08T18:38:15.586Z"
   },
   {
    "duration": 17,
    "start_time": "2021-12-08T18:38:15.611Z"
   },
   {
    "duration": 49,
    "start_time": "2021-12-08T18:38:15.632Z"
   },
   {
    "duration": 4,
    "start_time": "2021-12-08T18:38:15.684Z"
   },
   {
    "duration": 17,
    "start_time": "2021-12-08T18:38:15.691Z"
   },
   {
    "duration": 83,
    "start_time": "2021-12-08T18:38:15.711Z"
   },
   {
    "duration": 26,
    "start_time": "2021-12-08T18:38:15.796Z"
   },
   {
    "duration": 101,
    "start_time": "2021-12-08T18:38:15.827Z"
   },
   {
    "duration": 86,
    "start_time": "2021-12-08T18:38:15.931Z"
   },
   {
    "duration": 12,
    "start_time": "2021-12-08T18:38:16.020Z"
   },
   {
    "duration": 50,
    "start_time": "2021-12-08T18:38:16.035Z"
   },
   {
    "duration": 8,
    "start_time": "2021-12-08T18:38:16.089Z"
   },
   {
    "duration": 16,
    "start_time": "2021-12-08T18:38:16.100Z"
   },
   {
    "duration": 65,
    "start_time": "2021-12-08T18:38:16.118Z"
   },
   {
    "duration": 10,
    "start_time": "2021-12-08T18:38:16.186Z"
   },
   {
    "duration": 8,
    "start_time": "2021-12-08T18:38:16.198Z"
   },
   {
    "duration": 8,
    "start_time": "2021-12-08T18:38:16.208Z"
   },
   {
    "duration": 60,
    "start_time": "2021-12-08T18:38:16.219Z"
   },
   {
    "duration": 23,
    "start_time": "2021-12-08T18:38:16.283Z"
   },
   {
    "duration": 75,
    "start_time": "2021-12-08T18:38:16.309Z"
   },
   {
    "duration": 14,
    "start_time": "2021-12-08T18:38:16.386Z"
   },
   {
    "duration": 6,
    "start_time": "2021-12-08T18:38:16.403Z"
   },
   {
    "duration": 16,
    "start_time": "2021-12-08T18:38:16.412Z"
   },
   {
    "duration": 50,
    "start_time": "2021-12-08T18:38:16.431Z"
   },
   {
    "duration": 11,
    "start_time": "2021-12-08T18:38:16.485Z"
   },
   {
    "duration": 1128,
    "start_time": "2021-12-08T18:38:16.502Z"
   },
   {
    "duration": 7,
    "start_time": "2021-12-08T18:38:17.634Z"
   },
   {
    "duration": 3926,
    "start_time": "2021-12-08T18:38:17.643Z"
   },
   {
    "duration": 13,
    "start_time": "2021-12-08T18:38:21.572Z"
   },
   {
    "duration": 17,
    "start_time": "2021-12-08T18:38:21.588Z"
   },
   {
    "duration": 15,
    "start_time": "2021-12-08T18:38:21.608Z"
   },
   {
    "duration": 12,
    "start_time": "2021-12-08T18:38:21.668Z"
   },
   {
    "duration": 13,
    "start_time": "2021-12-08T18:38:21.683Z"
   },
   {
    "duration": 17,
    "start_time": "2021-12-08T18:38:21.699Z"
   },
   {
    "duration": 56,
    "start_time": "2021-12-08T18:38:21.718Z"
   },
   {
    "duration": 47,
    "start_time": "2021-12-08T18:38:21.776Z"
   },
   {
    "duration": 6,
    "start_time": "2021-12-08T18:38:21.825Z"
   },
   {
    "duration": 37,
    "start_time": "2021-12-08T18:38:21.833Z"
   },
   {
    "duration": 7,
    "start_time": "2021-12-08T18:39:15.591Z"
   },
   {
    "duration": 4,
    "start_time": "2021-12-08T18:39:25.612Z"
   },
   {
    "duration": 5,
    "start_time": "2021-12-08T18:39:51.703Z"
   },
   {
    "duration": 5,
    "start_time": "2021-12-08T18:40:00.567Z"
   },
   {
    "duration": 5,
    "start_time": "2021-12-08T18:40:06.155Z"
   },
   {
    "duration": 4,
    "start_time": "2021-12-08T18:40:09.102Z"
   },
   {
    "duration": 8,
    "start_time": "2021-12-08T18:40:49.552Z"
   },
   {
    "duration": 5,
    "start_time": "2021-12-08T18:40:53.389Z"
   },
   {
    "duration": 5,
    "start_time": "2021-12-08T18:40:58.962Z"
   },
   {
    "duration": 245,
    "start_time": "2021-12-08T18:41:07.007Z"
   },
   {
    "duration": 19,
    "start_time": "2021-12-08T18:41:07.255Z"
   },
   {
    "duration": 43,
    "start_time": "2021-12-08T18:41:07.278Z"
   },
   {
    "duration": 20,
    "start_time": "2021-12-08T18:41:07.325Z"
   },
   {
    "duration": 4,
    "start_time": "2021-12-08T18:41:07.349Z"
   },
   {
    "duration": 25,
    "start_time": "2021-12-08T18:41:07.358Z"
   },
   {
    "duration": 36,
    "start_time": "2021-12-08T18:41:07.387Z"
   },
   {
    "duration": 66,
    "start_time": "2021-12-08T18:41:07.427Z"
   },
   {
    "duration": 126,
    "start_time": "2021-12-08T18:41:07.499Z"
   },
   {
    "duration": 85,
    "start_time": "2021-12-08T18:41:07.629Z"
   },
   {
    "duration": 14,
    "start_time": "2021-12-08T18:41:07.716Z"
   },
   {
    "duration": 46,
    "start_time": "2021-12-08T18:41:07.733Z"
   },
   {
    "duration": 30,
    "start_time": "2021-12-08T18:41:07.782Z"
   },
   {
    "duration": 32,
    "start_time": "2021-12-08T18:41:07.815Z"
   },
   {
    "duration": 41,
    "start_time": "2021-12-08T18:41:07.850Z"
   },
   {
    "duration": 9,
    "start_time": "2021-12-08T18:41:07.894Z"
   },
   {
    "duration": 14,
    "start_time": "2021-12-08T18:41:07.905Z"
   },
   {
    "duration": 30,
    "start_time": "2021-12-08T18:41:07.922Z"
   },
   {
    "duration": 28,
    "start_time": "2021-12-08T18:41:07.969Z"
   },
   {
    "duration": 21,
    "start_time": "2021-12-08T18:41:07.999Z"
   },
   {
    "duration": 83,
    "start_time": "2021-12-08T18:41:08.022Z"
   },
   {
    "duration": 17,
    "start_time": "2021-12-08T18:41:08.108Z"
   },
   {
    "duration": 9,
    "start_time": "2021-12-08T18:41:08.128Z"
   },
   {
    "duration": 26,
    "start_time": "2021-12-08T18:41:08.169Z"
   },
   {
    "duration": 13,
    "start_time": "2021-12-08T18:41:08.198Z"
   },
   {
    "duration": 11,
    "start_time": "2021-12-08T18:41:08.214Z"
   },
   {
    "duration": 1035,
    "start_time": "2021-12-08T18:41:08.231Z"
   },
   {
    "duration": 5,
    "start_time": "2021-12-08T18:41:09.270Z"
   },
   {
    "duration": 4669,
    "start_time": "2021-12-08T18:41:09.278Z"
   },
   {
    "duration": 30,
    "start_time": "2021-12-08T18:41:13.949Z"
   },
   {
    "duration": 19,
    "start_time": "2021-12-08T18:41:13.982Z"
   },
   {
    "duration": 20,
    "start_time": "2021-12-08T18:41:14.004Z"
   },
   {
    "duration": 48,
    "start_time": "2021-12-08T18:41:14.027Z"
   },
   {
    "duration": 13,
    "start_time": "2021-12-08T18:41:14.078Z"
   },
   {
    "duration": 20,
    "start_time": "2021-12-08T18:41:14.094Z"
   },
   {
    "duration": 61,
    "start_time": "2021-12-08T18:41:14.116Z"
   },
   {
    "duration": 47,
    "start_time": "2021-12-08T18:41:14.179Z"
   },
   {
    "duration": 6,
    "start_time": "2021-12-08T18:41:14.228Z"
   },
   {
    "duration": 32,
    "start_time": "2021-12-08T18:41:14.237Z"
   },
   {
    "duration": 5,
    "start_time": "2021-12-08T18:41:16.980Z"
   },
   {
    "duration": 3,
    "start_time": "2021-12-08T18:41:18.774Z"
   },
   {
    "duration": 6,
    "start_time": "2021-12-08T18:41:32.833Z"
   },
   {
    "duration": 4,
    "start_time": "2021-12-08T18:41:34.971Z"
   },
   {
    "duration": 5,
    "start_time": "2021-12-08T18:41:42.082Z"
   },
   {
    "duration": 6,
    "start_time": "2021-12-08T18:41:49.129Z"
   },
   {
    "duration": 6,
    "start_time": "2021-12-08T18:42:16.114Z"
   },
   {
    "duration": 6,
    "start_time": "2021-12-08T18:42:17.899Z"
   },
   {
    "duration": 289,
    "start_time": "2021-12-08T18:45:48.791Z"
   },
   {
    "duration": 6,
    "start_time": "2021-12-08T18:45:56.812Z"
   },
   {
    "duration": 6,
    "start_time": "2021-12-08T18:45:58.227Z"
   },
   {
    "duration": 51,
    "start_time": "2021-12-08T18:47:22.140Z"
   },
   {
    "duration": 66,
    "start_time": "2021-12-08T18:47:38.048Z"
   },
   {
    "duration": 65,
    "start_time": "2021-12-08T18:49:10.335Z"
   },
   {
    "duration": 6,
    "start_time": "2021-12-08T18:51:16.351Z"
   },
   {
    "duration": 4422,
    "start_time": "2021-12-08T18:51:18.390Z"
   },
   {
    "duration": 6,
    "start_time": "2021-12-08T18:51:52.353Z"
   },
   {
    "duration": 64,
    "start_time": "2021-12-08T18:51:53.721Z"
   },
   {
    "duration": 20,
    "start_time": "2021-12-08T18:53:47.917Z"
   },
   {
    "duration": 17,
    "start_time": "2021-12-08T18:54:10.486Z"
   },
   {
    "duration": 15,
    "start_time": "2021-12-08T18:55:27.245Z"
   },
   {
    "duration": 896,
    "start_time": "2021-12-09T07:38:43.788Z"
   },
   {
    "duration": 16,
    "start_time": "2021-12-09T07:38:44.686Z"
   },
   {
    "duration": 11,
    "start_time": "2021-12-09T07:38:44.704Z"
   },
   {
    "duration": 9,
    "start_time": "2021-12-09T07:38:44.717Z"
   },
   {
    "duration": 3,
    "start_time": "2021-12-09T07:38:44.728Z"
   },
   {
    "duration": 18,
    "start_time": "2021-12-09T07:38:44.732Z"
   },
   {
    "duration": 19,
    "start_time": "2021-12-09T07:38:44.752Z"
   },
   {
    "duration": 42,
    "start_time": "2021-12-09T07:38:44.773Z"
   },
   {
    "duration": 46,
    "start_time": "2021-12-09T07:38:44.817Z"
   },
   {
    "duration": 58,
    "start_time": "2021-12-09T07:38:44.865Z"
   },
   {
    "duration": 9,
    "start_time": "2021-12-09T07:38:44.924Z"
   },
   {
    "duration": 15,
    "start_time": "2021-12-09T07:38:44.934Z"
   },
   {
    "duration": 9,
    "start_time": "2021-12-09T07:38:44.950Z"
   },
   {
    "duration": 10,
    "start_time": "2021-12-09T07:38:44.960Z"
   },
   {
    "duration": 48,
    "start_time": "2021-12-09T07:38:44.971Z"
   },
   {
    "duration": 6,
    "start_time": "2021-12-09T07:38:45.021Z"
   },
   {
    "duration": 7,
    "start_time": "2021-12-09T07:38:45.029Z"
   },
   {
    "duration": 7,
    "start_time": "2021-12-09T07:38:45.038Z"
   },
   {
    "duration": 15,
    "start_time": "2021-12-09T07:38:45.047Z"
   },
   {
    "duration": 14,
    "start_time": "2021-12-09T07:38:45.064Z"
   },
   {
    "duration": 30,
    "start_time": "2021-12-09T07:38:45.106Z"
   },
   {
    "duration": 9,
    "start_time": "2021-12-09T07:38:45.138Z"
   },
   {
    "duration": 4,
    "start_time": "2021-12-09T07:38:45.150Z"
   },
   {
    "duration": 13,
    "start_time": "2021-12-09T07:38:45.155Z"
   },
   {
    "duration": 38,
    "start_time": "2021-12-09T07:38:45.170Z"
   },
   {
    "duration": 11,
    "start_time": "2021-12-09T07:38:45.210Z"
   },
   {
    "duration": 655,
    "start_time": "2021-12-09T07:38:45.224Z"
   },
   {
    "duration": 4,
    "start_time": "2021-12-09T07:38:45.881Z"
   },
   {
    "duration": 3007,
    "start_time": "2021-12-09T07:38:45.888Z"
   },
   {
    "duration": 16,
    "start_time": "2021-12-09T07:38:48.896Z"
   },
   {
    "duration": 8,
    "start_time": "2021-12-09T07:38:48.914Z"
   },
   {
    "duration": 9,
    "start_time": "2021-12-09T07:38:48.923Z"
   },
   {
    "duration": 8,
    "start_time": "2021-12-09T07:38:48.933Z"
   },
   {
    "duration": 9,
    "start_time": "2021-12-09T07:38:48.943Z"
   },
   {
    "duration": 10,
    "start_time": "2021-12-09T07:38:48.953Z"
   },
   {
    "duration": 47,
    "start_time": "2021-12-09T07:38:48.965Z"
   },
   {
    "duration": 31,
    "start_time": "2021-12-09T07:38:49.014Z"
   },
   {
    "duration": 4,
    "start_time": "2021-12-09T07:38:49.046Z"
   },
   {
    "duration": 63,
    "start_time": "2021-12-09T07:38:49.052Z"
   },
   {
    "duration": 15,
    "start_time": "2021-12-09T07:38:49.117Z"
   },
   {
    "duration": 13,
    "start_time": "2021-12-09T07:43:27.448Z"
   },
   {
    "duration": 4,
    "start_time": "2021-12-09T09:00:14.701Z"
   },
   {
    "duration": 7,
    "start_time": "2021-12-09T09:00:25.802Z"
   },
   {
    "duration": 7,
    "start_time": "2021-12-09T09:01:01.601Z"
   },
   {
    "duration": 8,
    "start_time": "2021-12-09T09:02:05.679Z"
   },
   {
    "duration": 4,
    "start_time": "2021-12-09T09:03:39.661Z"
   },
   {
    "duration": 276,
    "start_time": "2021-12-09T09:03:45.918Z"
   },
   {
    "duration": 15,
    "start_time": "2021-12-09T09:03:46.196Z"
   },
   {
    "duration": 12,
    "start_time": "2021-12-09T09:03:46.215Z"
   },
   {
    "duration": 10,
    "start_time": "2021-12-09T09:03:46.230Z"
   },
   {
    "duration": 3,
    "start_time": "2021-12-09T09:03:46.242Z"
   },
   {
    "duration": 10,
    "start_time": "2021-12-09T09:03:46.247Z"
   },
   {
    "duration": 54,
    "start_time": "2021-12-09T09:03:46.259Z"
   },
   {
    "duration": 18,
    "start_time": "2021-12-09T09:03:46.316Z"
   },
   {
    "duration": 72,
    "start_time": "2021-12-09T09:03:46.337Z"
   },
   {
    "duration": 47,
    "start_time": "2021-12-09T09:03:46.412Z"
   },
   {
    "duration": 10,
    "start_time": "2021-12-09T09:03:46.461Z"
   },
   {
    "duration": 44,
    "start_time": "2021-12-09T09:03:46.473Z"
   },
   {
    "duration": 8,
    "start_time": "2021-12-09T09:03:46.519Z"
   },
   {
    "duration": 28,
    "start_time": "2021-12-09T09:03:46.529Z"
   },
   {
    "duration": 19,
    "start_time": "2021-12-09T09:03:46.559Z"
   },
   {
    "duration": 19,
    "start_time": "2021-12-09T09:03:46.580Z"
   },
   {
    "duration": 19,
    "start_time": "2021-12-09T09:03:46.600Z"
   },
   {
    "duration": 24,
    "start_time": "2021-12-09T09:03:46.620Z"
   },
   {
    "duration": 16,
    "start_time": "2021-12-09T09:03:46.646Z"
   },
   {
    "duration": 20,
    "start_time": "2021-12-09T09:03:46.663Z"
   },
   {
    "duration": 30,
    "start_time": "2021-12-09T09:03:46.685Z"
   },
   {
    "duration": 9,
    "start_time": "2021-12-09T09:03:46.717Z"
   },
   {
    "duration": 19,
    "start_time": "2021-12-09T09:03:46.729Z"
   },
   {
    "duration": 27,
    "start_time": "2021-12-09T09:03:46.750Z"
   },
   {
    "duration": 18,
    "start_time": "2021-12-09T09:03:46.779Z"
   },
   {
    "duration": 7,
    "start_time": "2021-12-09T09:03:46.799Z"
   },
   {
    "duration": 693,
    "start_time": "2021-12-09T09:03:46.808Z"
   },
   {
    "duration": 3,
    "start_time": "2021-12-09T09:03:47.504Z"
   },
   {
    "duration": 3032,
    "start_time": "2021-12-09T09:03:47.509Z"
   },
   {
    "duration": 8,
    "start_time": "2021-12-09T09:03:50.543Z"
   },
   {
    "duration": 15,
    "start_time": "2021-12-09T09:03:50.553Z"
   },
   {
    "duration": 9,
    "start_time": "2021-12-09T09:03:50.570Z"
   },
   {
    "duration": 30,
    "start_time": "2021-12-09T09:03:50.581Z"
   },
   {
    "duration": 11,
    "start_time": "2021-12-09T09:03:50.613Z"
   },
   {
    "duration": 13,
    "start_time": "2021-12-09T09:03:50.626Z"
   },
   {
    "duration": 13,
    "start_time": "2021-12-09T09:03:50.641Z"
   },
   {
    "duration": 67,
    "start_time": "2021-12-09T09:03:50.655Z"
   },
   {
    "duration": 4,
    "start_time": "2021-12-09T09:03:50.724Z"
   },
   {
    "duration": 38,
    "start_time": "2021-12-09T09:03:50.730Z"
   },
   {
    "duration": 14,
    "start_time": "2021-12-09T09:03:50.770Z"
   },
   {
    "duration": 1393,
    "start_time": "2021-12-09T09:03:50.786Z"
   },
   {
    "duration": 11,
    "start_time": "2021-12-09T09:04:03.648Z"
   },
   {
    "duration": 9,
    "start_time": "2021-12-09T09:06:12.769Z"
   },
   {
    "duration": 363,
    "start_time": "2021-12-09T09:06:32.847Z"
   },
   {
    "duration": 6,
    "start_time": "2021-12-09T09:07:26.005Z"
   },
   {
    "duration": 350,
    "start_time": "2021-12-09T09:08:18.479Z"
   },
   {
    "duration": 8,
    "start_time": "2021-12-09T09:08:41.897Z"
   },
   {
    "duration": 8,
    "start_time": "2021-12-09T09:08:57.680Z"
   },
   {
    "duration": 270,
    "start_time": "2021-12-09T09:09:28.876Z"
   },
   {
    "duration": 11,
    "start_time": "2021-12-09T09:09:29.148Z"
   },
   {
    "duration": 10,
    "start_time": "2021-12-09T09:09:29.161Z"
   },
   {
    "duration": 8,
    "start_time": "2021-12-09T09:09:29.173Z"
   },
   {
    "duration": 2,
    "start_time": "2021-12-09T09:09:29.183Z"
   },
   {
    "duration": 9,
    "start_time": "2021-12-09T09:09:29.207Z"
   },
   {
    "duration": 17,
    "start_time": "2021-12-09T09:09:29.218Z"
   },
   {
    "duration": 17,
    "start_time": "2021-12-09T09:09:29.238Z"
   },
   {
    "duration": 74,
    "start_time": "2021-12-09T09:09:29.257Z"
   },
   {
    "duration": 42,
    "start_time": "2021-12-09T09:09:29.332Z"
   },
   {
    "duration": 9,
    "start_time": "2021-12-09T09:09:29.376Z"
   },
   {
    "duration": 15,
    "start_time": "2021-12-09T09:09:29.407Z"
   },
   {
    "duration": 8,
    "start_time": "2021-12-09T09:09:29.424Z"
   },
   {
    "duration": 11,
    "start_time": "2021-12-09T09:09:29.434Z"
   },
   {
    "duration": 17,
    "start_time": "2021-12-09T09:09:29.447Z"
   },
   {
    "duration": 42,
    "start_time": "2021-12-09T09:09:29.466Z"
   },
   {
    "duration": 5,
    "start_time": "2021-12-09T09:09:29.510Z"
   },
   {
    "duration": 6,
    "start_time": "2021-12-09T09:09:29.516Z"
   },
   {
    "duration": 11,
    "start_time": "2021-12-09T09:09:29.524Z"
   },
   {
    "duration": 17,
    "start_time": "2021-12-09T09:09:29.536Z"
   },
   {
    "duration": 59,
    "start_time": "2021-12-09T09:09:29.555Z"
   },
   {
    "duration": 10,
    "start_time": "2021-12-09T09:09:29.615Z"
   },
   {
    "duration": 4,
    "start_time": "2021-12-09T09:09:29.629Z"
   },
   {
    "duration": 12,
    "start_time": "2021-12-09T09:09:29.635Z"
   },
   {
    "duration": 11,
    "start_time": "2021-12-09T09:09:29.649Z"
   },
   {
    "duration": 8,
    "start_time": "2021-12-09T09:09:29.661Z"
   },
   {
    "duration": 734,
    "start_time": "2021-12-09T09:09:29.671Z"
   },
   {
    "duration": 4,
    "start_time": "2021-12-09T09:09:30.407Z"
   },
   {
    "duration": 3106,
    "start_time": "2021-12-09T09:09:30.413Z"
   },
   {
    "duration": 9,
    "start_time": "2021-12-09T09:09:33.521Z"
   },
   {
    "duration": 11,
    "start_time": "2021-12-09T09:09:33.531Z"
   },
   {
    "duration": 9,
    "start_time": "2021-12-09T09:09:33.544Z"
   },
   {
    "duration": 8,
    "start_time": "2021-12-09T09:09:33.555Z"
   },
   {
    "duration": 8,
    "start_time": "2021-12-09T09:09:33.565Z"
   },
   {
    "duration": 13,
    "start_time": "2021-12-09T09:09:33.608Z"
   },
   {
    "duration": 13,
    "start_time": "2021-12-09T09:09:33.623Z"
   },
   {
    "duration": 32,
    "start_time": "2021-12-09T09:09:33.637Z"
   },
   {
    "duration": 4,
    "start_time": "2021-12-09T09:09:33.671Z"
   },
   {
    "duration": 60,
    "start_time": "2021-12-09T09:09:33.676Z"
   },
   {
    "duration": 14,
    "start_time": "2021-12-09T09:09:33.738Z"
   },
   {
    "duration": 341,
    "start_time": "2021-12-09T09:10:05.200Z"
   },
   {
    "duration": 340,
    "start_time": "2021-12-09T09:10:38.663Z"
   },
   {
    "duration": 335,
    "start_time": "2021-12-09T09:12:53.513Z"
   },
   {
    "duration": 402,
    "start_time": "2021-12-09T09:13:17.096Z"
   },
   {
    "duration": 347,
    "start_time": "2021-12-09T09:13:35.731Z"
   },
   {
    "duration": 7,
    "start_time": "2021-12-09T09:15:03.975Z"
   },
   {
    "duration": 5,
    "start_time": "2021-12-09T09:15:15.901Z"
   },
   {
    "duration": 6,
    "start_time": "2021-12-09T09:15:34.775Z"
   },
   {
    "duration": 485,
    "start_time": "2021-12-09T09:31:40.789Z"
   },
   {
    "duration": 280,
    "start_time": "2021-12-09T09:31:47.639Z"
   },
   {
    "duration": 11,
    "start_time": "2021-12-09T09:31:47.921Z"
   },
   {
    "duration": 12,
    "start_time": "2021-12-09T09:31:47.934Z"
   },
   {
    "duration": 9,
    "start_time": "2021-12-09T09:31:47.948Z"
   },
   {
    "duration": 11,
    "start_time": "2021-12-09T09:31:47.959Z"
   },
   {
    "duration": 14,
    "start_time": "2021-12-09T09:31:47.972Z"
   },
   {
    "duration": 34,
    "start_time": "2021-12-09T09:31:47.988Z"
   },
   {
    "duration": 23,
    "start_time": "2021-12-09T09:31:48.025Z"
   },
   {
    "duration": 76,
    "start_time": "2021-12-09T09:31:48.052Z"
   },
   {
    "duration": 44,
    "start_time": "2021-12-09T09:31:48.131Z"
   },
   {
    "duration": 29,
    "start_time": "2021-12-09T09:31:48.177Z"
   },
   {
    "duration": 18,
    "start_time": "2021-12-09T09:31:48.208Z"
   },
   {
    "duration": 6,
    "start_time": "2021-12-09T09:31:48.228Z"
   },
   {
    "duration": 11,
    "start_time": "2021-12-09T09:31:48.236Z"
   },
   {
    "duration": 18,
    "start_time": "2021-12-09T09:31:48.249Z"
   },
   {
    "duration": 42,
    "start_time": "2021-12-09T09:31:48.269Z"
   },
   {
    "duration": 6,
    "start_time": "2021-12-09T09:31:48.313Z"
   },
   {
    "duration": 6,
    "start_time": "2021-12-09T09:31:48.320Z"
   },
   {
    "duration": 10,
    "start_time": "2021-12-09T09:31:48.328Z"
   },
   {
    "duration": 14,
    "start_time": "2021-12-09T09:31:48.339Z"
   },
   {
    "duration": 60,
    "start_time": "2021-12-09T09:31:48.355Z"
   },
   {
    "duration": 10,
    "start_time": "2021-12-09T09:31:48.416Z"
   },
   {
    "duration": 4,
    "start_time": "2021-12-09T09:31:48.428Z"
   },
   {
    "duration": 12,
    "start_time": "2021-12-09T09:31:48.434Z"
   },
   {
    "duration": 10,
    "start_time": "2021-12-09T09:31:48.448Z"
   },
   {
    "duration": 9,
    "start_time": "2021-12-09T09:31:48.460Z"
   },
   {
    "duration": 700,
    "start_time": "2021-12-09T09:31:48.508Z"
   },
   {
    "duration": 4,
    "start_time": "2021-12-09T09:31:49.210Z"
   },
   {
    "duration": 3264,
    "start_time": "2021-12-09T09:31:49.216Z"
   },
   {
    "duration": 8,
    "start_time": "2021-12-09T09:31:52.482Z"
   },
   {
    "duration": 10,
    "start_time": "2021-12-09T09:31:52.507Z"
   },
   {
    "duration": 9,
    "start_time": "2021-12-09T09:31:52.518Z"
   },
   {
    "duration": 7,
    "start_time": "2021-12-09T09:31:52.529Z"
   },
   {
    "duration": 10,
    "start_time": "2021-12-09T09:31:52.538Z"
   },
   {
    "duration": 11,
    "start_time": "2021-12-09T09:31:52.550Z"
   },
   {
    "duration": 52,
    "start_time": "2021-12-09T09:31:52.563Z"
   },
   {
    "duration": 44,
    "start_time": "2021-12-09T09:31:52.616Z"
   },
   {
    "duration": 3,
    "start_time": "2021-12-09T09:31:52.662Z"
   },
   {
    "duration": 58,
    "start_time": "2021-12-09T09:31:52.667Z"
   },
   {
    "duration": 19,
    "start_time": "2021-12-09T09:31:52.727Z"
   },
   {
    "duration": 8,
    "start_time": "2021-12-09T09:31:57.017Z"
   },
   {
    "duration": 8,
    "start_time": "2021-12-09T09:32:05.779Z"
   },
   {
    "duration": 3,
    "start_time": "2021-12-09T09:32:15.878Z"
   },
   {
    "duration": 3,
    "start_time": "2021-12-09T09:32:19.052Z"
   },
   {
    "duration": 4,
    "start_time": "2021-12-09T09:32:31.475Z"
   },
   {
    "duration": 347,
    "start_time": "2021-12-09T09:32:34.155Z"
   },
   {
    "duration": 374,
    "start_time": "2021-12-09T09:32:47.726Z"
   },
   {
    "duration": 482,
    "start_time": "2021-12-09T09:33:17.958Z"
   },
   {
    "duration": 336,
    "start_time": "2021-12-09T09:34:38.564Z"
   },
   {
    "duration": 350,
    "start_time": "2021-12-09T09:35:50.744Z"
   },
   {
    "duration": 10,
    "start_time": "2021-12-09T09:36:45.171Z"
   },
   {
    "duration": 7,
    "start_time": "2021-12-09T09:37:21.751Z"
   },
   {
    "duration": 384,
    "start_time": "2021-12-09T09:38:24.664Z"
   },
   {
    "duration": 12,
    "start_time": "2021-12-09T09:38:41.378Z"
   },
   {
    "duration": 345,
    "start_time": "2021-12-09T09:39:32.100Z"
   },
   {
    "duration": 11,
    "start_time": "2021-12-09T09:39:46.192Z"
   },
   {
    "duration": 11,
    "start_time": "2021-12-09T09:41:11.577Z"
   },
   {
    "duration": 7,
    "start_time": "2021-12-09T09:41:13.139Z"
   },
   {
    "duration": 10,
    "start_time": "2021-12-09T09:41:52.305Z"
   },
   {
    "duration": 12,
    "start_time": "2021-12-09T09:42:49.705Z"
   },
   {
    "duration": 10,
    "start_time": "2021-12-09T09:44:15.194Z"
   },
   {
    "duration": 8,
    "start_time": "2021-12-09T09:44:28.983Z"
   },
   {
    "duration": 8,
    "start_time": "2021-12-09T09:44:42.588Z"
   },
   {
    "duration": 7,
    "start_time": "2021-12-09T09:45:47.897Z"
   },
   {
    "duration": 8,
    "start_time": "2021-12-09T09:57:01.204Z"
   },
   {
    "duration": 9,
    "start_time": "2021-12-09T09:57:15.443Z"
   },
   {
    "duration": 395,
    "start_time": "2021-12-09T09:57:30.167Z"
   },
   {
    "duration": 8,
    "start_time": "2021-12-09T09:57:39.397Z"
   },
   {
    "duration": 7,
    "start_time": "2021-12-09T09:58:20.335Z"
   },
   {
    "duration": 8,
    "start_time": "2021-12-09T09:58:29.657Z"
   },
   {
    "duration": 11,
    "start_time": "2021-12-09T09:58:39.029Z"
   },
   {
    "duration": 1420,
    "start_time": "2021-12-09T10:02:44.456Z"
   },
   {
    "duration": 11,
    "start_time": "2021-12-09T10:04:59.393Z"
   },
   {
    "duration": 9,
    "start_time": "2021-12-09T10:05:10.906Z"
   },
   {
    "duration": 13,
    "start_time": "2021-12-09T10:11:24.388Z"
   },
   {
    "duration": 352,
    "start_time": "2021-12-09T10:14:12.956Z"
   },
   {
    "duration": 12,
    "start_time": "2021-12-09T10:16:03.932Z"
   },
   {
    "duration": 11,
    "start_time": "2021-12-09T10:16:17.487Z"
   },
   {
    "duration": 264,
    "start_time": "2021-12-09T10:16:29.613Z"
   },
   {
    "duration": 11,
    "start_time": "2021-12-09T10:16:29.879Z"
   },
   {
    "duration": 11,
    "start_time": "2021-12-09T10:16:29.892Z"
   },
   {
    "duration": 10,
    "start_time": "2021-12-09T10:16:29.905Z"
   },
   {
    "duration": 3,
    "start_time": "2021-12-09T10:16:29.917Z"
   },
   {
    "duration": 11,
    "start_time": "2021-12-09T10:16:29.922Z"
   },
   {
    "duration": 18,
    "start_time": "2021-12-09T10:16:29.935Z"
   },
   {
    "duration": 17,
    "start_time": "2021-12-09T10:16:29.955Z"
   },
   {
    "duration": 48,
    "start_time": "2021-12-09T10:16:30.008Z"
   },
   {
    "duration": 60,
    "start_time": "2021-12-09T10:16:30.057Z"
   },
   {
    "duration": 8,
    "start_time": "2021-12-09T10:16:30.119Z"
   },
   {
    "duration": 19,
    "start_time": "2021-12-09T10:16:30.129Z"
   },
   {
    "duration": 13,
    "start_time": "2021-12-09T10:16:30.150Z"
   },
   {
    "duration": 15,
    "start_time": "2021-12-09T10:16:30.165Z"
   },
   {
    "duration": 41,
    "start_time": "2021-12-09T10:16:30.182Z"
   },
   {
    "duration": 8,
    "start_time": "2021-12-09T10:16:30.225Z"
   },
   {
    "duration": 19,
    "start_time": "2021-12-09T10:16:30.235Z"
   },
   {
    "duration": 14,
    "start_time": "2021-12-09T10:16:30.257Z"
   },
   {
    "duration": 16,
    "start_time": "2021-12-09T10:16:30.273Z"
   },
   {
    "duration": 29,
    "start_time": "2021-12-09T10:16:30.290Z"
   },
   {
    "duration": 28,
    "start_time": "2021-12-09T10:16:30.321Z"
   },
   {
    "duration": 10,
    "start_time": "2021-12-09T10:16:30.351Z"
   },
   {
    "duration": 15,
    "start_time": "2021-12-09T10:16:30.365Z"
   },
   {
    "duration": 34,
    "start_time": "2021-12-09T10:16:30.383Z"
   },
   {
    "duration": 27,
    "start_time": "2021-12-09T10:16:30.419Z"
   },
   {
    "duration": 23,
    "start_time": "2021-12-09T10:16:30.449Z"
   },
   {
    "duration": 696,
    "start_time": "2021-12-09T10:16:30.474Z"
   },
   {
    "duration": 4,
    "start_time": "2021-12-09T10:16:31.172Z"
   },
   {
    "duration": 2899,
    "start_time": "2021-12-09T10:16:31.177Z"
   },
   {
    "duration": 9,
    "start_time": "2021-12-09T10:16:34.078Z"
   },
   {
    "duration": 10,
    "start_time": "2021-12-09T10:16:34.106Z"
   },
   {
    "duration": 9,
    "start_time": "2021-12-09T10:16:34.117Z"
   },
   {
    "duration": 9,
    "start_time": "2021-12-09T10:16:34.127Z"
   },
   {
    "duration": 9,
    "start_time": "2021-12-09T10:16:34.137Z"
   },
   {
    "duration": 11,
    "start_time": "2021-12-09T10:16:34.147Z"
   },
   {
    "duration": 10,
    "start_time": "2021-12-09T10:16:34.159Z"
   },
   {
    "duration": 32,
    "start_time": "2021-12-09T10:16:34.207Z"
   },
   {
    "duration": 4,
    "start_time": "2021-12-09T10:16:34.241Z"
   },
   {
    "duration": 38,
    "start_time": "2021-12-09T10:16:34.247Z"
   },
   {
    "duration": 17,
    "start_time": "2021-12-09T10:16:34.307Z"
   },
   {
    "duration": 9,
    "start_time": "2021-12-09T10:17:16.313Z"
   },
   {
    "duration": 11,
    "start_time": "2021-12-09T10:18:14.613Z"
   },
   {
    "duration": 639,
    "start_time": "2021-12-09T10:20:07.654Z"
   },
   {
    "duration": 443,
    "start_time": "2021-12-09T10:20:25.950Z"
   },
   {
    "duration": 12,
    "start_time": "2021-12-09T10:20:32.611Z"
   },
   {
    "duration": 152,
    "start_time": "2021-12-09T10:20:35.314Z"
   },
   {
    "duration": 1043,
    "start_time": "2021-12-09T10:21:32.714Z"
   },
   {
    "duration": 8,
    "start_time": "2021-12-09T10:21:57.801Z"
   },
   {
    "duration": 378,
    "start_time": "2021-12-09T10:22:02.364Z"
   },
   {
    "duration": 9,
    "start_time": "2021-12-09T10:22:12.400Z"
   },
   {
    "duration": 6,
    "start_time": "2021-12-09T10:25:15.145Z"
   },
   {
    "duration": 5,
    "start_time": "2021-12-09T10:25:35.438Z"
   },
   {
    "duration": 6,
    "start_time": "2021-12-09T10:25:58.084Z"
   },
   {
    "duration": 6,
    "start_time": "2021-12-09T10:26:28.716Z"
   },
   {
    "duration": 6,
    "start_time": "2021-12-09T10:29:00.534Z"
   },
   {
    "duration": 6,
    "start_time": "2021-12-09T10:29:06.245Z"
   },
   {
    "duration": 6,
    "start_time": "2021-12-09T10:29:17.381Z"
   },
   {
    "duration": 5,
    "start_time": "2021-12-09T10:29:57.748Z"
   },
   {
    "duration": 6,
    "start_time": "2021-12-09T10:30:11.470Z"
   },
   {
    "duration": 5,
    "start_time": "2021-12-09T10:30:24.704Z"
   },
   {
    "duration": 5,
    "start_time": "2021-12-09T10:30:33.234Z"
   },
   {
    "duration": 6,
    "start_time": "2021-12-09T10:30:43.165Z"
   },
   {
    "duration": 310,
    "start_time": "2021-12-09T10:30:55.254Z"
   },
   {
    "duration": 12,
    "start_time": "2021-12-09T10:30:55.566Z"
   },
   {
    "duration": 11,
    "start_time": "2021-12-09T10:30:55.580Z"
   },
   {
    "duration": 9,
    "start_time": "2021-12-09T10:30:55.593Z"
   },
   {
    "duration": 3,
    "start_time": "2021-12-09T10:30:55.604Z"
   },
   {
    "duration": 11,
    "start_time": "2021-12-09T10:30:55.609Z"
   },
   {
    "duration": 17,
    "start_time": "2021-12-09T10:30:55.621Z"
   },
   {
    "duration": 15,
    "start_time": "2021-12-09T10:30:55.641Z"
   },
   {
    "duration": 78,
    "start_time": "2021-12-09T10:30:55.658Z"
   },
   {
    "duration": 41,
    "start_time": "2021-12-09T10:30:55.738Z"
   },
   {
    "duration": 8,
    "start_time": "2021-12-09T10:30:55.781Z"
   },
   {
    "duration": 15,
    "start_time": "2021-12-09T10:30:55.806Z"
   },
   {
    "duration": 7,
    "start_time": "2021-12-09T10:30:55.823Z"
   },
   {
    "duration": 10,
    "start_time": "2021-12-09T10:30:55.831Z"
   },
   {
    "duration": 16,
    "start_time": "2021-12-09T10:30:55.843Z"
   },
   {
    "duration": 6,
    "start_time": "2021-12-09T10:30:55.861Z"
   },
   {
    "duration": 41,
    "start_time": "2021-12-09T10:30:55.869Z"
   },
   {
    "duration": 10,
    "start_time": "2021-12-09T10:30:55.912Z"
   },
   {
    "duration": 10,
    "start_time": "2021-12-09T10:30:55.924Z"
   },
   {
    "duration": 14,
    "start_time": "2021-12-09T10:30:55.936Z"
   },
   {
    "duration": 55,
    "start_time": "2021-12-09T10:30:55.952Z"
   },
   {
    "duration": 11,
    "start_time": "2021-12-09T10:30:56.010Z"
   },
   {
    "duration": 7,
    "start_time": "2021-12-09T10:30:56.026Z"
   },
   {
    "duration": 15,
    "start_time": "2021-12-09T10:30:56.035Z"
   },
   {
    "duration": 14,
    "start_time": "2021-12-09T10:30:56.051Z"
   },
   {
    "duration": 41,
    "start_time": "2021-12-09T10:30:56.067Z"
   },
   {
    "duration": 719,
    "start_time": "2021-12-09T10:30:56.110Z"
   },
   {
    "duration": 4,
    "start_time": "2021-12-09T10:30:56.831Z"
   },
   {
    "duration": 3004,
    "start_time": "2021-12-09T10:30:56.836Z"
   },
   {
    "duration": 9,
    "start_time": "2021-12-09T10:30:59.842Z"
   },
   {
    "duration": 8,
    "start_time": "2021-12-09T10:30:59.853Z"
   },
   {
    "duration": 8,
    "start_time": "2021-12-09T10:30:59.863Z"
   },
   {
    "duration": 34,
    "start_time": "2021-12-09T10:30:59.873Z"
   },
   {
    "duration": 10,
    "start_time": "2021-12-09T10:30:59.909Z"
   },
   {
    "duration": 11,
    "start_time": "2021-12-09T10:30:59.920Z"
   },
   {
    "duration": 13,
    "start_time": "2021-12-09T10:30:59.933Z"
   },
   {
    "duration": 64,
    "start_time": "2021-12-09T10:30:59.947Z"
   },
   {
    "duration": 4,
    "start_time": "2021-12-09T10:31:00.013Z"
   },
   {
    "duration": 49,
    "start_time": "2021-12-09T10:31:00.018Z"
   },
   {
    "duration": 33,
    "start_time": "2021-12-09T10:31:00.069Z"
   },
   {
    "duration": 13,
    "start_time": "2021-12-09T10:31:00.103Z"
   },
   {
    "duration": 16,
    "start_time": "2021-12-09T10:31:00.118Z"
   },
   {
    "duration": 543,
    "start_time": "2021-12-09T10:47:47.980Z"
   },
   {
    "duration": 10,
    "start_time": "2021-12-09T10:47:55.081Z"
   },
   {
    "duration": 9,
    "start_time": "2021-12-09T10:48:53.543Z"
   },
   {
    "duration": 11,
    "start_time": "2021-12-09T10:49:21.742Z"
   },
   {
    "duration": 361,
    "start_time": "2021-12-09T10:50:07.593Z"
   },
   {
    "duration": 351,
    "start_time": "2021-12-09T10:50:28.345Z"
   },
   {
    "duration": 350,
    "start_time": "2021-12-09T10:54:08.918Z"
   },
   {
    "duration": 13,
    "start_time": "2021-12-09T10:54:22.576Z"
   },
   {
    "duration": 9,
    "start_time": "2021-12-09T10:57:40.548Z"
   },
   {
    "duration": 1517,
    "start_time": "2021-12-09T10:58:10.778Z"
   },
   {
    "duration": 1336,
    "start_time": "2021-12-09T10:58:14.597Z"
   },
   {
    "duration": 359,
    "start_time": "2021-12-09T10:58:26.043Z"
   },
   {
    "duration": 345,
    "start_time": "2021-12-09T10:58:38.755Z"
   },
   {
    "duration": 341,
    "start_time": "2021-12-09T10:58:56.091Z"
   },
   {
    "duration": 3,
    "start_time": "2021-12-09T10:59:04.700Z"
   },
   {
    "duration": 5,
    "start_time": "2021-12-09T10:59:13.324Z"
   },
   {
    "duration": 338,
    "start_time": "2021-12-09T10:59:18.174Z"
   },
   {
    "duration": 5,
    "start_time": "2021-12-09T11:00:24.769Z"
   },
   {
    "duration": 7,
    "start_time": "2021-12-09T11:00:43.200Z"
   },
   {
    "duration": 6,
    "start_time": "2021-12-09T11:01:18.144Z"
   },
   {
    "duration": 10,
    "start_time": "2021-12-09T11:01:33.571Z"
   },
   {
    "duration": 12,
    "start_time": "2021-12-09T11:01:46.070Z"
   },
   {
    "duration": 7,
    "start_time": "2021-12-09T11:02:08.854Z"
   },
   {
    "duration": 11,
    "start_time": "2021-12-09T11:02:35.685Z"
   },
   {
    "duration": 12,
    "start_time": "2021-12-09T11:02:41.993Z"
   },
   {
    "duration": 11,
    "start_time": "2021-12-09T11:03:16.800Z"
   },
   {
    "duration": 382,
    "start_time": "2021-12-09T11:04:51.852Z"
   },
   {
    "duration": 12,
    "start_time": "2021-12-09T11:04:52.236Z"
   },
   {
    "duration": 14,
    "start_time": "2021-12-09T11:04:52.250Z"
   },
   {
    "duration": 11,
    "start_time": "2021-12-09T11:04:52.266Z"
   },
   {
    "duration": 3,
    "start_time": "2021-12-09T11:04:52.279Z"
   },
   {
    "duration": 25,
    "start_time": "2021-12-09T11:04:52.283Z"
   },
   {
    "duration": 17,
    "start_time": "2021-12-09T11:04:52.310Z"
   },
   {
    "duration": 16,
    "start_time": "2021-12-09T11:04:52.330Z"
   },
   {
    "duration": 73,
    "start_time": "2021-12-09T11:04:52.348Z"
   },
   {
    "duration": 45,
    "start_time": "2021-12-09T11:04:52.423Z"
   },
   {
    "duration": 9,
    "start_time": "2021-12-09T11:04:52.469Z"
   },
   {
    "duration": 41,
    "start_time": "2021-12-09T11:04:52.480Z"
   },
   {
    "duration": 9,
    "start_time": "2021-12-09T11:04:52.523Z"
   },
   {
    "duration": 11,
    "start_time": "2021-12-09T11:04:52.534Z"
   },
   {
    "duration": 19,
    "start_time": "2021-12-09T11:04:52.547Z"
   },
   {
    "duration": 6,
    "start_time": "2021-12-09T11:04:52.568Z"
   },
   {
    "duration": 6,
    "start_time": "2021-12-09T11:04:52.607Z"
   },
   {
    "duration": 6,
    "start_time": "2021-12-09T11:04:52.615Z"
   },
   {
    "duration": 13,
    "start_time": "2021-12-09T11:04:52.623Z"
   },
   {
    "duration": 21,
    "start_time": "2021-12-09T11:04:52.638Z"
   },
   {
    "duration": 74,
    "start_time": "2021-12-09T11:04:52.661Z"
   },
   {
    "duration": 12,
    "start_time": "2021-12-09T11:04:52.737Z"
   },
   {
    "duration": 3,
    "start_time": "2021-12-09T11:04:52.753Z"
   },
   {
    "duration": 11,
    "start_time": "2021-12-09T11:04:52.758Z"
   },
   {
    "duration": 10,
    "start_time": "2021-12-09T11:04:52.770Z"
   },
   {
    "duration": 30,
    "start_time": "2021-12-09T11:04:52.782Z"
   },
   {
    "duration": 784,
    "start_time": "2021-12-09T11:04:52.815Z"
   },
   {
    "duration": 8,
    "start_time": "2021-12-09T11:04:53.601Z"
   },
   {
    "duration": 3179,
    "start_time": "2021-12-09T11:04:53.611Z"
   },
   {
    "duration": 21,
    "start_time": "2021-12-09T11:04:56.791Z"
   },
   {
    "duration": 11,
    "start_time": "2021-12-09T11:04:56.814Z"
   },
   {
    "duration": 10,
    "start_time": "2021-12-09T11:04:56.826Z"
   },
   {
    "duration": 9,
    "start_time": "2021-12-09T11:04:56.838Z"
   },
   {
    "duration": 10,
    "start_time": "2021-12-09T11:04:56.849Z"
   },
   {
    "duration": 55,
    "start_time": "2021-12-09T11:04:56.860Z"
   },
   {
    "duration": 12,
    "start_time": "2021-12-09T11:04:56.917Z"
   },
   {
    "duration": 31,
    "start_time": "2021-12-09T11:04:56.931Z"
   },
   {
    "duration": 5,
    "start_time": "2021-12-09T11:04:56.964Z"
   },
   {
    "duration": 76,
    "start_time": "2021-12-09T11:04:56.970Z"
   },
   {
    "duration": 17,
    "start_time": "2021-12-09T11:05:44.002Z"
   },
   {
    "duration": 11,
    "start_time": "2021-12-09T11:06:48.478Z"
   },
   {
    "duration": 12,
    "start_time": "2021-12-09T11:07:46.026Z"
   },
   {
    "duration": 8,
    "start_time": "2021-12-09T11:10:46.346Z"
   },
   {
    "duration": 111,
    "start_time": "2021-12-09T11:10:54.442Z"
   },
   {
    "duration": 8,
    "start_time": "2021-12-09T11:11:05.399Z"
   },
   {
    "duration": 9,
    "start_time": "2021-12-09T11:11:10.075Z"
   },
   {
    "duration": 8,
    "start_time": "2021-12-09T11:11:18.186Z"
   },
   {
    "duration": 344,
    "start_time": "2021-12-09T11:13:57.600Z"
   },
   {
    "duration": 8,
    "start_time": "2021-12-09T11:14:01.574Z"
   },
   {
    "duration": 9,
    "start_time": "2021-12-09T11:17:29.372Z"
   },
   {
    "duration": 143,
    "start_time": "2021-12-09T11:21:10.483Z"
   },
   {
    "duration": 44,
    "start_time": "2021-12-09T11:22:11.333Z"
   },
   {
    "duration": 301,
    "start_time": "2021-12-09T11:28:52.989Z"
   },
   {
    "duration": 13,
    "start_time": "2021-12-09T11:28:53.292Z"
   },
   {
    "duration": 12,
    "start_time": "2021-12-09T11:28:53.307Z"
   },
   {
    "duration": 10,
    "start_time": "2021-12-09T11:28:53.321Z"
   },
   {
    "duration": 4,
    "start_time": "2021-12-09T11:28:53.333Z"
   },
   {
    "duration": 10,
    "start_time": "2021-12-09T11:28:53.339Z"
   },
   {
    "duration": 18,
    "start_time": "2021-12-09T11:28:53.350Z"
   },
   {
    "duration": 56,
    "start_time": "2021-12-09T11:28:53.370Z"
   },
   {
    "duration": 47,
    "start_time": "2021-12-09T11:28:53.429Z"
   },
   {
    "duration": 68,
    "start_time": "2021-12-09T11:28:53.478Z"
   },
   {
    "duration": 10,
    "start_time": "2021-12-09T11:28:53.548Z"
   },
   {
    "duration": 18,
    "start_time": "2021-12-09T11:28:53.560Z"
   },
   {
    "duration": 29,
    "start_time": "2021-12-09T11:28:53.579Z"
   },
   {
    "duration": 11,
    "start_time": "2021-12-09T11:28:53.610Z"
   },
   {
    "duration": 18,
    "start_time": "2021-12-09T11:28:53.624Z"
   },
   {
    "duration": 6,
    "start_time": "2021-12-09T11:28:53.644Z"
   },
   {
    "duration": 7,
    "start_time": "2021-12-09T11:28:53.652Z"
   },
   {
    "duration": 6,
    "start_time": "2021-12-09T11:28:53.661Z"
   },
   {
    "duration": 11,
    "start_time": "2021-12-09T11:28:53.707Z"
   },
   {
    "duration": 15,
    "start_time": "2021-12-09T11:28:53.720Z"
   },
   {
    "duration": 28,
    "start_time": "2021-12-09T11:28:53.737Z"
   },
   {
    "duration": 10,
    "start_time": "2021-12-09T11:28:53.766Z"
   },
   {
    "duration": 4,
    "start_time": "2021-12-09T11:28:53.808Z"
   },
   {
    "duration": 11,
    "start_time": "2021-12-09T11:28:53.814Z"
   },
   {
    "duration": 9,
    "start_time": "2021-12-09T11:28:53.827Z"
   },
   {
    "duration": 8,
    "start_time": "2021-12-09T11:28:53.838Z"
   },
   {
    "duration": 739,
    "start_time": "2021-12-09T11:28:53.848Z"
   },
   {
    "duration": 5,
    "start_time": "2021-12-09T11:28:54.589Z"
   },
   {
    "duration": 3054,
    "start_time": "2021-12-09T11:28:54.607Z"
   },
   {
    "duration": 9,
    "start_time": "2021-12-09T11:28:57.663Z"
   },
   {
    "duration": 9,
    "start_time": "2021-12-09T11:28:57.674Z"
   },
   {
    "duration": 30,
    "start_time": "2021-12-09T11:28:57.685Z"
   },
   {
    "duration": 9,
    "start_time": "2021-12-09T11:28:57.716Z"
   },
   {
    "duration": 9,
    "start_time": "2021-12-09T11:28:57.727Z"
   },
   {
    "duration": 11,
    "start_time": "2021-12-09T11:28:57.738Z"
   },
   {
    "duration": 11,
    "start_time": "2021-12-09T11:28:57.751Z"
   },
   {
    "duration": 46,
    "start_time": "2021-12-09T11:28:57.763Z"
   },
   {
    "duration": 4,
    "start_time": "2021-12-09T11:28:57.810Z"
   },
   {
    "duration": 43,
    "start_time": "2021-12-09T11:28:57.816Z"
   },
   {
    "duration": 17,
    "start_time": "2021-12-09T11:28:57.861Z"
   },
   {
    "duration": 14,
    "start_time": "2021-12-09T12:56:51.199Z"
   },
   {
    "duration": 20,
    "start_time": "2021-12-09T12:58:24.053Z"
   },
   {
    "duration": 28,
    "start_time": "2021-12-09T12:58:42.778Z"
   },
   {
    "duration": 129,
    "start_time": "2021-12-09T12:59:48.446Z"
   },
   {
    "duration": 193,
    "start_time": "2021-12-09T13:00:32.466Z"
   },
   {
    "duration": 29,
    "start_time": "2021-12-09T13:00:38.622Z"
   },
   {
    "duration": 144,
    "start_time": "2021-12-09T13:02:19.200Z"
   },
   {
    "duration": 20,
    "start_time": "2021-12-09T13:02:38.227Z"
   },
   {
    "duration": 4,
    "start_time": "2021-12-09T13:03:09.690Z"
   },
   {
    "duration": 129,
    "start_time": "2021-12-09T13:05:22.142Z"
   },
   {
    "duration": 26,
    "start_time": "2021-12-09T13:05:28.402Z"
   },
   {
    "duration": 350,
    "start_time": "2021-12-09T13:07:23.198Z"
   },
   {
    "duration": 38,
    "start_time": "2021-12-09T13:07:36.690Z"
   },
   {
    "duration": 4,
    "start_time": "2021-12-09T13:09:19.034Z"
   },
   {
    "duration": 3,
    "start_time": "2021-12-09T13:09:40.605Z"
   },
   {
    "duration": 26,
    "start_time": "2021-12-09T13:10:42.832Z"
   },
   {
    "duration": 4,
    "start_time": "2021-12-09T13:11:21.251Z"
   },
   {
    "duration": 4,
    "start_time": "2021-12-09T13:12:41.915Z"
   },
   {
    "duration": 13,
    "start_time": "2021-12-09T13:12:54.871Z"
   },
   {
    "duration": 4,
    "start_time": "2021-12-09T13:22:14.218Z"
   },
   {
    "duration": 5,
    "start_time": "2021-12-09T13:22:59.196Z"
   },
   {
    "duration": 4,
    "start_time": "2021-12-09T13:24:01.369Z"
   },
   {
    "duration": 4,
    "start_time": "2021-12-09T13:24:27.864Z"
   },
   {
    "duration": 4,
    "start_time": "2021-12-09T13:24:35.162Z"
   },
   {
    "duration": 1003,
    "start_time": "2021-12-09T14:13:12.251Z"
   },
   {
    "duration": 27,
    "start_time": "2021-12-09T14:13:26.790Z"
   },
   {
    "duration": 11866,
    "start_time": "2021-12-09T14:13:30.911Z"
   },
   {
    "duration": 8999,
    "start_time": "2021-12-09T14:16:11.355Z"
   },
   {
    "duration": 8987,
    "start_time": "2021-12-09T14:16:38.510Z"
   },
   {
    "duration": 1700,
    "start_time": "2021-12-09T14:20:11.244Z"
   },
   {
    "duration": 523,
    "start_time": "2021-12-09T14:20:15.703Z"
   },
   {
    "duration": 19,
    "start_time": "2021-12-09T14:20:16.229Z"
   },
   {
    "duration": 18,
    "start_time": "2021-12-09T14:20:16.251Z"
   },
   {
    "duration": 37,
    "start_time": "2021-12-09T14:20:16.271Z"
   },
   {
    "duration": 3,
    "start_time": "2021-12-09T14:20:16.310Z"
   },
   {
    "duration": 14,
    "start_time": "2021-12-09T14:20:16.315Z"
   },
   {
    "duration": 24,
    "start_time": "2021-12-09T14:20:16.331Z"
   },
   {
    "duration": 54,
    "start_time": "2021-12-09T14:20:16.359Z"
   },
   {
    "duration": 92,
    "start_time": "2021-12-09T14:20:16.416Z"
   },
   {
    "duration": 76,
    "start_time": "2021-12-09T14:20:16.510Z"
   },
   {
    "duration": 26,
    "start_time": "2021-12-09T14:20:16.589Z"
   },
   {
    "duration": 16,
    "start_time": "2021-12-09T14:20:16.617Z"
   },
   {
    "duration": 7,
    "start_time": "2021-12-09T14:20:16.635Z"
   },
   {
    "duration": 12,
    "start_time": "2021-12-09T14:20:16.643Z"
   },
   {
    "duration": 61,
    "start_time": "2021-12-09T14:20:16.657Z"
   },
   {
    "duration": 7,
    "start_time": "2021-12-09T14:20:16.721Z"
   },
   {
    "duration": 6,
    "start_time": "2021-12-09T14:20:16.730Z"
   },
   {
    "duration": 9,
    "start_time": "2021-12-09T14:20:16.738Z"
   },
   {
    "duration": 11,
    "start_time": "2021-12-09T14:20:16.750Z"
   },
   {
    "duration": 54,
    "start_time": "2021-12-09T14:20:16.763Z"
   },
   {
    "duration": 43,
    "start_time": "2021-12-09T14:20:16.819Z"
   },
   {
    "duration": 15,
    "start_time": "2021-12-09T14:20:16.865Z"
   },
   {
    "duration": 24,
    "start_time": "2021-12-09T14:20:16.884Z"
   },
   {
    "duration": 12,
    "start_time": "2021-12-09T14:20:16.910Z"
   },
   {
    "duration": 11,
    "start_time": "2021-12-09T14:20:16.923Z"
   },
   {
    "duration": 9,
    "start_time": "2021-12-09T14:20:16.936Z"
   },
   {
    "duration": 751,
    "start_time": "2021-12-09T14:20:16.948Z"
   },
   {
    "duration": 4,
    "start_time": "2021-12-09T14:20:17.706Z"
   },
   {
    "duration": 3240,
    "start_time": "2021-12-09T14:20:17.712Z"
   },
   {
    "duration": 12,
    "start_time": "2021-12-09T14:20:20.955Z"
   },
   {
    "duration": 12,
    "start_time": "2021-12-09T14:20:20.970Z"
   },
   {
    "duration": 32,
    "start_time": "2021-12-09T14:20:20.985Z"
   },
   {
    "duration": 11,
    "start_time": "2021-12-09T14:20:21.019Z"
   },
   {
    "duration": 12,
    "start_time": "2021-12-09T14:20:21.033Z"
   },
   {
    "duration": 11,
    "start_time": "2021-12-09T14:20:21.047Z"
   },
   {
    "duration": 51,
    "start_time": "2021-12-09T14:20:21.060Z"
   },
   {
    "duration": 9,
    "start_time": "2021-12-09T14:20:21.113Z"
   },
   {
    "duration": 4,
    "start_time": "2021-12-09T14:20:21.124Z"
   },
   {
    "duration": 52,
    "start_time": "2021-12-09T14:20:21.130Z"
   },
   {
    "duration": 34,
    "start_time": "2021-12-09T14:20:21.184Z"
   },
   {
    "duration": 14845,
    "start_time": "2021-12-09T14:20:21.221Z"
   },
   {
    "duration": 33,
    "start_time": "2021-12-09T14:20:36.036Z"
   },
   {
    "duration": 30,
    "start_time": "2021-12-09T14:20:36.041Z"
   },
   {
    "duration": 28,
    "start_time": "2021-12-09T14:20:36.044Z"
   },
   {
    "duration": 25,
    "start_time": "2021-12-09T14:20:36.049Z"
   },
   {
    "duration": 11434,
    "start_time": "2021-12-09T14:25:22.858Z"
   },
   {
    "duration": 10083,
    "start_time": "2021-12-09T14:26:10.783Z"
   },
   {
    "duration": 330,
    "start_time": "2021-12-09T14:26:23.846Z"
   },
   {
    "duration": 11,
    "start_time": "2021-12-09T14:26:24.178Z"
   },
   {
    "duration": 18,
    "start_time": "2021-12-09T14:26:24.191Z"
   },
   {
    "duration": 17,
    "start_time": "2021-12-09T14:26:24.211Z"
   },
   {
    "duration": 2,
    "start_time": "2021-12-09T14:26:24.230Z"
   },
   {
    "duration": 15,
    "start_time": "2021-12-09T14:26:24.234Z"
   },
   {
    "duration": 18,
    "start_time": "2021-12-09T14:26:24.251Z"
   },
   {
    "duration": 38,
    "start_time": "2021-12-09T14:26:24.271Z"
   },
   {
    "duration": 47,
    "start_time": "2021-12-09T14:26:24.311Z"
   },
   {
    "duration": 62,
    "start_time": "2021-12-09T14:26:24.360Z"
   },
   {
    "duration": 9,
    "start_time": "2021-12-09T14:26:24.424Z"
   },
   {
    "duration": 15,
    "start_time": "2021-12-09T14:26:24.435Z"
   },
   {
    "duration": 9,
    "start_time": "2021-12-09T14:26:24.452Z"
   },
   {
    "duration": 13,
    "start_time": "2021-12-09T14:26:24.462Z"
   },
   {
    "duration": 20,
    "start_time": "2021-12-09T14:26:24.507Z"
   },
   {
    "duration": 6,
    "start_time": "2021-12-09T14:26:24.529Z"
   },
   {
    "duration": 5,
    "start_time": "2021-12-09T14:26:24.537Z"
   },
   {
    "duration": 6,
    "start_time": "2021-12-09T14:26:24.544Z"
   },
   {
    "duration": 13,
    "start_time": "2021-12-09T14:26:24.551Z"
   },
   {
    "duration": 50,
    "start_time": "2021-12-09T14:26:24.566Z"
   },
   {
    "duration": 29,
    "start_time": "2021-12-09T14:26:24.618Z"
   },
   {
    "duration": 9,
    "start_time": "2021-12-09T14:26:24.649Z"
   },
   {
    "duration": 5,
    "start_time": "2021-12-09T14:26:24.662Z"
   },
   {
    "duration": 40,
    "start_time": "2021-12-09T14:26:24.669Z"
   },
   {
    "duration": 24,
    "start_time": "2021-12-09T14:26:24.711Z"
   },
   {
    "duration": 9,
    "start_time": "2021-12-09T14:26:24.736Z"
   },
   {
    "duration": 705,
    "start_time": "2021-12-09T14:26:24.747Z"
   },
   {
    "duration": 4,
    "start_time": "2021-12-09T14:26:25.454Z"
   },
   {
    "duration": 2984,
    "start_time": "2021-12-09T14:26:25.460Z"
   },
   {
    "duration": 9,
    "start_time": "2021-12-09T14:26:28.446Z"
   },
   {
    "duration": 10,
    "start_time": "2021-12-09T14:26:28.456Z"
   },
   {
    "duration": 9,
    "start_time": "2021-12-09T14:26:28.467Z"
   },
   {
    "duration": 34,
    "start_time": "2021-12-09T14:26:28.478Z"
   },
   {
    "duration": 9,
    "start_time": "2021-12-09T14:26:28.514Z"
   },
   {
    "duration": 11,
    "start_time": "2021-12-09T14:26:28.525Z"
   },
   {
    "duration": 11,
    "start_time": "2021-12-09T14:26:28.538Z"
   },
   {
    "duration": 8,
    "start_time": "2021-12-09T14:26:28.551Z"
   },
   {
    "duration": 4,
    "start_time": "2021-12-09T14:26:28.560Z"
   },
   {
    "duration": 42,
    "start_time": "2021-12-09T14:26:28.606Z"
   },
   {
    "duration": 16,
    "start_time": "2021-12-09T14:26:28.650Z"
   },
   {
    "duration": 13175,
    "start_time": "2021-12-09T14:26:28.668Z"
   },
   {
    "duration": 33,
    "start_time": "2021-12-09T14:26:41.812Z"
   },
   {
    "duration": 20,
    "start_time": "2021-12-09T14:26:41.826Z"
   },
   {
    "duration": 16,
    "start_time": "2021-12-09T14:26:41.831Z"
   },
   {
    "duration": 13,
    "start_time": "2021-12-09T14:26:41.835Z"
   },
   {
    "duration": 26,
    "start_time": "2021-12-09T14:26:50.255Z"
   },
   {
    "duration": 28,
    "start_time": "2021-12-09T14:28:48.626Z"
   },
   {
    "duration": 25,
    "start_time": "2021-12-09T14:29:25.820Z"
   },
   {
    "duration": 33,
    "start_time": "2021-12-09T14:29:46.427Z"
   },
   {
    "duration": 411,
    "start_time": "2021-12-09T14:31:46.189Z"
   },
   {
    "duration": 423,
    "start_time": "2021-12-09T14:39:21.561Z"
   },
   {
    "duration": 387,
    "start_time": "2021-12-09T14:40:11.116Z"
   },
   {
    "duration": 378,
    "start_time": "2021-12-09T14:40:19.268Z"
   },
   {
    "duration": 363,
    "start_time": "2021-12-09T14:40:36.098Z"
   },
   {
    "duration": 414,
    "start_time": "2021-12-09T14:42:15.843Z"
   },
   {
    "duration": 8864,
    "start_time": "2021-12-09T14:43:02.599Z"
   },
   {
    "duration": 27,
    "start_time": "2021-12-09T14:52:26.492Z"
   },
   {
    "duration": 29,
    "start_time": "2021-12-09T14:54:04.984Z"
   },
   {
    "duration": 28,
    "start_time": "2021-12-09T14:54:17.683Z"
   },
   {
    "duration": 113,
    "start_time": "2021-12-09T14:54:40.503Z"
   },
   {
    "duration": 182,
    "start_time": "2021-12-09T14:55:02.547Z"
   },
   {
    "duration": 118,
    "start_time": "2021-12-09T15:09:31.206Z"
   },
   {
    "duration": 148,
    "start_time": "2021-12-09T15:35:26.200Z"
   },
   {
    "duration": 5,
    "start_time": "2021-12-09T15:35:37.376Z"
   },
   {
    "duration": 4,
    "start_time": "2021-12-09T15:35:42.734Z"
   },
   {
    "duration": 4,
    "start_time": "2021-12-09T15:36:07.077Z"
   },
   {
    "duration": 5,
    "start_time": "2021-12-09T15:36:12.284Z"
   },
   {
    "duration": 4,
    "start_time": "2021-12-09T15:37:02.410Z"
   },
   {
    "duration": 11,
    "start_time": "2021-12-09T15:40:46.382Z"
   },
   {
    "duration": 116,
    "start_time": "2021-12-09T15:41:25.898Z"
   },
   {
    "duration": 13,
    "start_time": "2021-12-09T15:42:02.822Z"
   },
   {
    "duration": 11,
    "start_time": "2021-12-09T15:43:07.277Z"
   },
   {
    "duration": 8,
    "start_time": "2021-12-09T15:43:33.525Z"
   },
   {
    "duration": 121,
    "start_time": "2021-12-09T15:45:29.527Z"
   },
   {
    "duration": 17,
    "start_time": "2021-12-09T15:46:26.144Z"
   },
   {
    "duration": 8,
    "start_time": "2021-12-09T15:46:40.148Z"
   },
   {
    "duration": 320,
    "start_time": "2021-12-09T15:46:50.257Z"
   },
   {
    "duration": 12,
    "start_time": "2021-12-09T15:46:50.579Z"
   },
   {
    "duration": 15,
    "start_time": "2021-12-09T15:46:50.593Z"
   },
   {
    "duration": 11,
    "start_time": "2021-12-09T15:46:50.611Z"
   },
   {
    "duration": 3,
    "start_time": "2021-12-09T15:46:50.624Z"
   },
   {
    "duration": 14,
    "start_time": "2021-12-09T15:46:50.629Z"
   },
   {
    "duration": 19,
    "start_time": "2021-12-09T15:46:50.645Z"
   },
   {
    "duration": 51,
    "start_time": "2021-12-09T15:46:50.667Z"
   },
   {
    "duration": 47,
    "start_time": "2021-12-09T15:46:50.721Z"
   },
   {
    "duration": 66,
    "start_time": "2021-12-09T15:46:50.770Z"
   },
   {
    "duration": 9,
    "start_time": "2021-12-09T15:46:50.838Z"
   },
   {
    "duration": 18,
    "start_time": "2021-12-09T15:46:50.849Z"
   },
   {
    "duration": 20,
    "start_time": "2021-12-09T15:46:50.869Z"
   },
   {
    "duration": 22,
    "start_time": "2021-12-09T15:46:50.890Z"
   },
   {
    "duration": 20,
    "start_time": "2021-12-09T15:46:50.913Z"
   },
   {
    "duration": 6,
    "start_time": "2021-12-09T15:46:50.935Z"
   },
   {
    "duration": 5,
    "start_time": "2021-12-09T15:46:50.943Z"
   },
   {
    "duration": 7,
    "start_time": "2021-12-09T15:46:50.950Z"
   },
   {
    "duration": 12,
    "start_time": "2021-12-09T15:46:50.958Z"
   },
   {
    "duration": 16,
    "start_time": "2021-12-09T15:46:51.006Z"
   },
   {
    "duration": 29,
    "start_time": "2021-12-09T15:46:51.024Z"
   },
   {
    "duration": 10,
    "start_time": "2021-12-09T15:46:51.055Z"
   },
   {
    "duration": 4,
    "start_time": "2021-12-09T15:46:51.069Z"
   },
   {
    "duration": 12,
    "start_time": "2021-12-09T15:46:51.107Z"
   },
   {
    "duration": 10,
    "start_time": "2021-12-09T15:46:51.121Z"
   },
   {
    "duration": 7,
    "start_time": "2021-12-09T15:46:51.133Z"
   },
   {
    "duration": 797,
    "start_time": "2021-12-09T15:46:51.142Z"
   },
   {
    "duration": 4,
    "start_time": "2021-12-09T15:46:51.941Z"
   },
   {
    "duration": 3266,
    "start_time": "2021-12-09T15:46:51.946Z"
   },
   {
    "duration": 11,
    "start_time": "2021-12-09T15:46:55.213Z"
   },
   {
    "duration": 14,
    "start_time": "2021-12-09T15:46:55.225Z"
   },
   {
    "duration": 18,
    "start_time": "2021-12-09T15:46:55.241Z"
   },
   {
    "duration": 19,
    "start_time": "2021-12-09T15:46:55.261Z"
   },
   {
    "duration": 10,
    "start_time": "2021-12-09T15:46:55.282Z"
   },
   {
    "duration": 10,
    "start_time": "2021-12-09T15:46:55.307Z"
   },
   {
    "duration": 9,
    "start_time": "2021-12-09T15:46:55.318Z"
   },
   {
    "duration": 10,
    "start_time": "2021-12-09T15:46:55.328Z"
   },
   {
    "duration": 11,
    "start_time": "2021-12-09T15:46:55.340Z"
   },
   {
    "duration": 10,
    "start_time": "2021-12-09T15:46:55.353Z"
   },
   {
    "duration": 46,
    "start_time": "2021-12-09T15:46:55.365Z"
   },
   {
    "duration": 4,
    "start_time": "2021-12-09T15:46:55.413Z"
   },
   {
    "duration": 45,
    "start_time": "2021-12-09T15:46:55.418Z"
   },
   {
    "duration": 16,
    "start_time": "2021-12-09T15:46:55.465Z"
   },
   {
    "duration": 212,
    "start_time": "2021-12-09T15:46:55.482Z"
   },
   {
    "duration": 10,
    "start_time": "2021-12-09T15:46:55.696Z"
   },
   {
    "duration": 15,
    "start_time": "2021-12-09T15:46:55.708Z"
   },
   {
    "duration": 21,
    "start_time": "2021-12-09T15:48:09.087Z"
   },
   {
    "duration": 157,
    "start_time": "2021-12-09T15:49:46.170Z"
   },
   {
    "duration": 169,
    "start_time": "2021-12-09T15:51:01.098Z"
   },
   {
    "duration": 112,
    "start_time": "2021-12-09T15:54:39.614Z"
   },
   {
    "duration": 220,
    "start_time": "2021-12-09T15:56:19.360Z"
   },
   {
    "duration": 29,
    "start_time": "2021-12-09T15:56:21.164Z"
   },
   {
    "duration": 355,
    "start_time": "2021-12-09T16:00:17.691Z"
   },
   {
    "duration": 359,
    "start_time": "2021-12-09T16:00:31.992Z"
   },
   {
    "duration": 14,
    "start_time": "2021-12-09T16:01:20.285Z"
   },
   {
    "duration": 714,
    "start_time": "2021-12-09T16:01:30.241Z"
   },
   {
    "duration": 386,
    "start_time": "2021-12-09T16:01:43.477Z"
   },
   {
    "duration": 15,
    "start_time": "2021-12-09T16:03:47.525Z"
   },
   {
    "duration": 18,
    "start_time": "2021-12-09T16:04:00.840Z"
   },
   {
    "duration": 168,
    "start_time": "2021-12-09T16:18:20.531Z"
   },
   {
    "duration": 369,
    "start_time": "2021-12-09T16:18:24.707Z"
   },
   {
    "duration": 13,
    "start_time": "2021-12-09T16:18:25.078Z"
   },
   {
    "duration": 19,
    "start_time": "2021-12-09T16:18:25.093Z"
   },
   {
    "duration": 10,
    "start_time": "2021-12-09T16:18:25.115Z"
   },
   {
    "duration": 2,
    "start_time": "2021-12-09T16:18:25.127Z"
   },
   {
    "duration": 16,
    "start_time": "2021-12-09T16:18:25.131Z"
   },
   {
    "duration": 18,
    "start_time": "2021-12-09T16:18:25.149Z"
   },
   {
    "duration": 44,
    "start_time": "2021-12-09T16:18:25.170Z"
   },
   {
    "duration": 47,
    "start_time": "2021-12-09T16:18:25.216Z"
   },
   {
    "duration": 62,
    "start_time": "2021-12-09T16:18:25.266Z"
   },
   {
    "duration": 11,
    "start_time": "2021-12-09T16:18:25.330Z"
   },
   {
    "duration": 18,
    "start_time": "2021-12-09T16:18:25.342Z"
   },
   {
    "duration": 9,
    "start_time": "2021-12-09T16:18:25.362Z"
   },
   {
    "duration": 41,
    "start_time": "2021-12-09T16:18:25.372Z"
   },
   {
    "duration": 19,
    "start_time": "2021-12-09T16:18:25.415Z"
   },
   {
    "duration": 6,
    "start_time": "2021-12-09T16:18:25.436Z"
   },
   {
    "duration": 6,
    "start_time": "2021-12-09T16:18:25.444Z"
   },
   {
    "duration": 6,
    "start_time": "2021-12-09T16:18:25.452Z"
   },
   {
    "duration": 16,
    "start_time": "2021-12-09T16:18:25.460Z"
   },
   {
    "duration": 15,
    "start_time": "2021-12-09T16:18:25.506Z"
   },
   {
    "duration": 29,
    "start_time": "2021-12-09T16:18:25.522Z"
   },
   {
    "duration": 9,
    "start_time": "2021-12-09T16:18:25.552Z"
   },
   {
    "duration": 6,
    "start_time": "2021-12-09T16:18:25.564Z"
   },
   {
    "duration": 43,
    "start_time": "2021-12-09T16:18:25.572Z"
   },
   {
    "duration": 6,
    "start_time": "2021-12-09T16:18:25.617Z"
   },
   {
    "duration": 23,
    "start_time": "2021-12-09T16:18:25.625Z"
   },
   {
    "duration": 917,
    "start_time": "2021-12-09T16:18:25.650Z"
   },
   {
    "duration": 4,
    "start_time": "2021-12-09T16:18:26.570Z"
   },
   {
    "duration": 3239,
    "start_time": "2021-12-09T16:18:26.575Z"
   },
   {
    "duration": 9,
    "start_time": "2021-12-09T16:18:29.816Z"
   },
   {
    "duration": 3,
    "start_time": "2021-12-09T16:18:29.827Z"
   },
   {
    "duration": 12,
    "start_time": "2021-12-09T16:18:29.831Z"
   },
   {
    "duration": 8,
    "start_time": "2021-12-09T16:18:29.845Z"
   },
   {
    "duration": 9,
    "start_time": "2021-12-09T16:18:29.855Z"
   },
   {
    "duration": 41,
    "start_time": "2021-12-09T16:18:29.866Z"
   },
   {
    "duration": 9,
    "start_time": "2021-12-09T16:18:29.909Z"
   },
   {
    "duration": 18,
    "start_time": "2021-12-09T16:18:29.920Z"
   },
   {
    "duration": 11,
    "start_time": "2021-12-09T16:18:29.940Z"
   },
   {
    "duration": 15,
    "start_time": "2021-12-09T16:18:29.953Z"
   },
   {
    "duration": 16,
    "start_time": "2021-12-09T16:18:29.970Z"
   },
   {
    "duration": 22,
    "start_time": "2021-12-09T16:18:29.987Z"
   },
   {
    "duration": 49,
    "start_time": "2021-12-09T16:18:30.010Z"
   },
   {
    "duration": 16,
    "start_time": "2021-12-09T16:18:30.061Z"
   },
   {
    "duration": 181,
    "start_time": "2021-12-09T16:18:30.079Z"
   },
   {
    "duration": 28,
    "start_time": "2021-12-09T16:18:30.262Z"
   },
   {
    "duration": 177,
    "start_time": "2021-12-09T16:18:30.292Z"
   },
   {
    "duration": 13,
    "start_time": "2021-12-09T16:18:30.471Z"
   },
   {
    "duration": 170,
    "start_time": "2021-12-09T16:18:30.485Z"
   },
   {
    "duration": 113,
    "start_time": "2021-12-09T17:27:11.829Z"
   },
   {
    "duration": 179,
    "start_time": "2021-12-09T17:31:10.405Z"
   },
   {
    "duration": 191,
    "start_time": "2021-12-09T17:32:03.617Z"
   },
   {
    "duration": 9354,
    "start_time": "2021-12-09T17:32:28.286Z"
   },
   {
    "duration": 8653,
    "start_time": "2021-12-09T17:32:54.634Z"
   },
   {
    "duration": 192,
    "start_time": "2021-12-09T17:33:47.165Z"
   },
   {
    "duration": 164,
    "start_time": "2021-12-09T17:41:42.397Z"
   },
   {
    "duration": 33,
    "start_time": "2021-12-09T17:41:47.561Z"
   },
   {
    "duration": 150,
    "start_time": "2021-12-09T17:42:19.941Z"
   },
   {
    "duration": 126,
    "start_time": "2021-12-09T17:42:55.973Z"
   },
   {
    "duration": 27,
    "start_time": "2021-12-09T17:42:58.560Z"
   },
   {
    "duration": 36,
    "start_time": "2021-12-09T17:43:40.124Z"
   },
   {
    "duration": 37,
    "start_time": "2021-12-09T17:45:09.646Z"
   },
   {
    "duration": 4,
    "start_time": "2021-12-09T17:46:25.083Z"
   },
   {
    "duration": 4,
    "start_time": "2021-12-09T17:46:42.831Z"
   },
   {
    "duration": 5,
    "start_time": "2021-12-09T17:47:13.186Z"
   },
   {
    "duration": 12,
    "start_time": "2021-12-09T17:47:26.700Z"
   },
   {
    "duration": 42,
    "start_time": "2021-12-09T17:48:28.555Z"
   },
   {
    "duration": 32,
    "start_time": "2021-12-09T17:51:37.673Z"
   },
   {
    "duration": 183,
    "start_time": "2021-12-09T17:52:05.911Z"
   },
   {
    "duration": 352,
    "start_time": "2021-12-09T17:56:36.467Z"
   },
   {
    "duration": 260,
    "start_time": "2021-12-09T17:56:43.848Z"
   },
   {
    "duration": 12,
    "start_time": "2021-12-09T17:56:44.110Z"
   },
   {
    "duration": 19,
    "start_time": "2021-12-09T17:56:44.124Z"
   },
   {
    "duration": 10,
    "start_time": "2021-12-09T17:56:44.145Z"
   },
   {
    "duration": 4,
    "start_time": "2021-12-09T17:56:44.156Z"
   },
   {
    "duration": 17,
    "start_time": "2021-12-09T17:56:44.162Z"
   },
   {
    "duration": 39,
    "start_time": "2021-12-09T17:56:44.180Z"
   },
   {
    "duration": 18,
    "start_time": "2021-12-09T17:56:44.221Z"
   },
   {
    "duration": 68,
    "start_time": "2021-12-09T17:56:44.241Z"
   },
   {
    "duration": 43,
    "start_time": "2021-12-09T17:56:44.312Z"
   },
   {
    "duration": 9,
    "start_time": "2021-12-09T17:56:44.357Z"
   },
   {
    "duration": 40,
    "start_time": "2021-12-09T17:56:44.368Z"
   },
   {
    "duration": 10,
    "start_time": "2021-12-09T17:56:44.410Z"
   },
   {
    "duration": 11,
    "start_time": "2021-12-09T17:56:44.422Z"
   },
   {
    "duration": 19,
    "start_time": "2021-12-09T17:56:44.435Z"
   },
   {
    "duration": 7,
    "start_time": "2021-12-09T17:56:44.456Z"
   },
   {
    "duration": 45,
    "start_time": "2021-12-09T17:56:44.465Z"
   },
   {
    "duration": 6,
    "start_time": "2021-12-09T17:56:44.511Z"
   },
   {
    "duration": 13,
    "start_time": "2021-12-09T17:56:44.519Z"
   },
   {
    "duration": 14,
    "start_time": "2021-12-09T17:56:44.534Z"
   },
   {
    "duration": 28,
    "start_time": "2021-12-09T17:56:44.550Z"
   },
   {
    "duration": 35,
    "start_time": "2021-12-09T17:56:44.580Z"
   },
   {
    "duration": 4,
    "start_time": "2021-12-09T17:56:44.617Z"
   },
   {
    "duration": 14,
    "start_time": "2021-12-09T17:56:44.623Z"
   },
   {
    "duration": 14,
    "start_time": "2021-12-09T17:56:44.639Z"
   },
   {
    "duration": 7,
    "start_time": "2021-12-09T17:56:44.655Z"
   },
   {
    "duration": 748,
    "start_time": "2021-12-09T17:56:44.666Z"
   },
   {
    "duration": 4,
    "start_time": "2021-12-09T17:56:45.417Z"
   },
   {
    "duration": 2954,
    "start_time": "2021-12-09T17:56:45.423Z"
   },
   {
    "duration": 9,
    "start_time": "2021-12-09T17:56:48.380Z"
   },
   {
    "duration": 17,
    "start_time": "2021-12-09T17:56:48.390Z"
   },
   {
    "duration": 12,
    "start_time": "2021-12-09T17:56:48.409Z"
   },
   {
    "duration": 10,
    "start_time": "2021-12-09T17:56:48.423Z"
   },
   {
    "duration": 11,
    "start_time": "2021-12-09T17:56:48.435Z"
   },
   {
    "duration": 16,
    "start_time": "2021-12-09T17:56:48.448Z"
   },
   {
    "duration": 42,
    "start_time": "2021-12-09T17:56:48.466Z"
   },
   {
    "duration": 10,
    "start_time": "2021-12-09T17:56:48.510Z"
   },
   {
    "duration": 11,
    "start_time": "2021-12-09T17:56:48.522Z"
   },
   {
    "duration": 10,
    "start_time": "2021-12-09T17:56:48.535Z"
   },
   {
    "duration": 119,
    "start_time": "2021-12-09T17:56:48.547Z"
   },
   {
    "duration": 108,
    "start_time": "2021-12-09T17:56:48.560Z"
   },
   {
    "duration": 107,
    "start_time": "2021-12-09T17:56:48.563Z"
   },
   {
    "duration": 104,
    "start_time": "2021-12-09T17:56:48.567Z"
   },
   {
    "duration": 103,
    "start_time": "2021-12-09T17:56:48.570Z"
   },
   {
    "duration": 101,
    "start_time": "2021-12-09T17:56:48.573Z"
   },
   {
    "duration": 89,
    "start_time": "2021-12-09T17:56:48.587Z"
   },
   {
    "duration": 85,
    "start_time": "2021-12-09T17:56:48.592Z"
   },
   {
    "duration": 84,
    "start_time": "2021-12-09T17:56:48.595Z"
   },
   {
    "duration": 81,
    "start_time": "2021-12-09T17:56:48.599Z"
   },
   {
    "duration": 137,
    "start_time": "2021-12-09T17:57:09.689Z"
   },
   {
    "duration": 31,
    "start_time": "2021-12-09T17:57:11.902Z"
   },
   {
    "duration": 29,
    "start_time": "2021-12-09T17:57:16.540Z"
   },
   {
    "duration": 149,
    "start_time": "2021-12-09T17:57:19.614Z"
   },
   {
    "duration": 354,
    "start_time": "2021-12-09T17:59:01.139Z"
   },
   {
    "duration": 328,
    "start_time": "2021-12-09T17:59:23.910Z"
   },
   {
    "duration": 33,
    "start_time": "2021-12-09T18:00:45.450Z"
   },
   {
    "duration": 152,
    "start_time": "2021-12-09T18:01:00.785Z"
   },
   {
    "duration": 149,
    "start_time": "2021-12-09T18:01:23.768Z"
   },
   {
    "duration": 131,
    "start_time": "2021-12-09T18:06:11.001Z"
   },
   {
    "duration": 11,
    "start_time": "2021-12-09T18:13:35.448Z"
   },
   {
    "duration": 12,
    "start_time": "2021-12-09T18:17:32.849Z"
   },
   {
    "duration": 117,
    "start_time": "2021-12-09T18:20:36.893Z"
   },
   {
    "duration": 130,
    "start_time": "2021-12-09T18:20:43.046Z"
   },
   {
    "duration": 5,
    "start_time": "2021-12-09T18:20:53.365Z"
   },
   {
    "duration": 6,
    "start_time": "2021-12-09T18:20:58.357Z"
   },
   {
    "duration": 5,
    "start_time": "2021-12-09T18:21:02.638Z"
   },
   {
    "duration": 5,
    "start_time": "2021-12-09T18:21:07.589Z"
   },
   {
    "duration": 5,
    "start_time": "2021-12-09T18:21:10.495Z"
   },
   {
    "duration": 4,
    "start_time": "2021-12-09T18:21:15.606Z"
   },
   {
    "duration": 4,
    "start_time": "2021-12-09T18:21:22.896Z"
   },
   {
    "duration": 12,
    "start_time": "2021-12-09T18:25:55.069Z"
   },
   {
    "duration": 11,
    "start_time": "2021-12-09T18:28:01.547Z"
   },
   {
    "duration": 8,
    "start_time": "2021-12-09T18:28:24.872Z"
   },
   {
    "duration": 11,
    "start_time": "2021-12-09T18:28:41.164Z"
   },
   {
    "duration": 365,
    "start_time": "2021-12-09T18:31:08.314Z"
   },
   {
    "duration": 309,
    "start_time": "2021-12-09T18:31:20.500Z"
   },
   {
    "duration": 12,
    "start_time": "2021-12-09T18:31:20.811Z"
   },
   {
    "duration": 12,
    "start_time": "2021-12-09T18:31:20.826Z"
   },
   {
    "duration": 11,
    "start_time": "2021-12-09T18:31:20.840Z"
   },
   {
    "duration": 2,
    "start_time": "2021-12-09T18:31:20.853Z"
   },
   {
    "duration": 12,
    "start_time": "2021-12-09T18:31:20.857Z"
   },
   {
    "duration": 52,
    "start_time": "2021-12-09T18:31:20.870Z"
   },
   {
    "duration": 19,
    "start_time": "2021-12-09T18:31:20.924Z"
   },
   {
    "duration": 70,
    "start_time": "2021-12-09T18:31:20.946Z"
   },
   {
    "duration": 54,
    "start_time": "2021-12-09T18:31:21.019Z"
   },
   {
    "duration": 34,
    "start_time": "2021-12-09T18:31:21.074Z"
   },
   {
    "duration": 19,
    "start_time": "2021-12-09T18:31:21.110Z"
   },
   {
    "duration": 10,
    "start_time": "2021-12-09T18:31:21.131Z"
   },
   {
    "duration": 16,
    "start_time": "2021-12-09T18:31:21.143Z"
   },
   {
    "duration": 54,
    "start_time": "2021-12-09T18:31:21.161Z"
   },
   {
    "duration": 9,
    "start_time": "2021-12-09T18:31:21.216Z"
   },
   {
    "duration": 7,
    "start_time": "2021-12-09T18:31:21.227Z"
   },
   {
    "duration": 8,
    "start_time": "2021-12-09T18:31:21.237Z"
   },
   {
    "duration": 26,
    "start_time": "2021-12-09T18:31:21.247Z"
   },
   {
    "duration": 44,
    "start_time": "2021-12-09T18:31:21.275Z"
   },
   {
    "duration": 31,
    "start_time": "2021-12-09T18:31:21.321Z"
   },
   {
    "duration": 11,
    "start_time": "2021-12-09T18:31:21.353Z"
   },
   {
    "duration": 7,
    "start_time": "2021-12-09T18:31:21.366Z"
   },
   {
    "duration": 38,
    "start_time": "2021-12-09T18:31:21.375Z"
   },
   {
    "duration": 18,
    "start_time": "2021-12-09T18:31:21.415Z"
   },
   {
    "duration": 8,
    "start_time": "2021-12-09T18:31:21.435Z"
   },
   {
    "duration": 758,
    "start_time": "2021-12-09T18:31:21.448Z"
   },
   {
    "duration": 4,
    "start_time": "2021-12-09T18:31:22.210Z"
   },
   {
    "duration": 3013,
    "start_time": "2021-12-09T18:31:22.216Z"
   },
   {
    "duration": 9,
    "start_time": "2021-12-09T18:31:25.231Z"
   },
   {
    "duration": 3,
    "start_time": "2021-12-09T18:31:25.242Z"
   },
   {
    "duration": 11,
    "start_time": "2021-12-09T18:31:25.247Z"
   },
   {
    "duration": 9,
    "start_time": "2021-12-09T18:31:25.260Z"
   },
   {
    "duration": 38,
    "start_time": "2021-12-09T18:31:25.271Z"
   },
   {
    "duration": 10,
    "start_time": "2021-12-09T18:31:25.311Z"
   },
   {
    "duration": 8,
    "start_time": "2021-12-09T18:31:25.323Z"
   },
   {
    "duration": 9,
    "start_time": "2021-12-09T18:31:25.333Z"
   },
   {
    "duration": 12,
    "start_time": "2021-12-09T18:31:25.343Z"
   },
   {
    "duration": 12,
    "start_time": "2021-12-09T18:31:25.356Z"
   },
   {
    "duration": 4,
    "start_time": "2021-12-09T18:31:25.406Z"
   },
   {
    "duration": 20,
    "start_time": "2021-12-09T18:31:25.412Z"
   },
   {
    "duration": 34,
    "start_time": "2021-12-09T18:31:25.434Z"
   },
   {
    "duration": 10,
    "start_time": "2021-12-09T18:31:25.471Z"
   },
   {
    "duration": 6,
    "start_time": "2021-12-09T18:31:25.483Z"
   },
   {
    "duration": 51,
    "start_time": "2021-12-09T18:31:25.491Z"
   },
   {
    "duration": 20,
    "start_time": "2021-12-09T18:31:25.544Z"
   },
   {
    "duration": 54,
    "start_time": "2021-12-09T18:31:25.566Z"
   },
   {
    "duration": 148,
    "start_time": "2021-12-09T18:31:25.623Z"
   },
   {
    "duration": 39,
    "start_time": "2021-12-09T18:31:25.773Z"
   },
   {
    "duration": 176,
    "start_time": "2021-12-09T18:31:25.814Z"
   },
   {
    "duration": 184,
    "start_time": "2021-12-09T18:31:25.992Z"
   },
   {
    "duration": 423,
    "start_time": "2021-12-09T18:31:28.294Z"
   },
   {
    "duration": 266,
    "start_time": "2021-12-09T18:31:46.341Z"
   },
   {
    "duration": 13,
    "start_time": "2021-12-09T18:31:46.610Z"
   },
   {
    "duration": 12,
    "start_time": "2021-12-09T18:31:46.625Z"
   },
   {
    "duration": 10,
    "start_time": "2021-12-09T18:31:46.639Z"
   },
   {
    "duration": 10,
    "start_time": "2021-12-09T18:31:46.651Z"
   },
   {
    "duration": 24,
    "start_time": "2021-12-09T18:31:46.663Z"
   },
   {
    "duration": 28,
    "start_time": "2021-12-09T18:31:46.689Z"
   },
   {
    "duration": 19,
    "start_time": "2021-12-09T18:31:46.719Z"
   },
   {
    "duration": 68,
    "start_time": "2021-12-09T18:31:46.741Z"
   },
   {
    "duration": 51,
    "start_time": "2021-12-09T18:31:46.811Z"
   },
   {
    "duration": 12,
    "start_time": "2021-12-09T18:31:46.865Z"
   },
   {
    "duration": 43,
    "start_time": "2021-12-09T18:31:46.879Z"
   },
   {
    "duration": 6,
    "start_time": "2021-12-09T18:31:46.924Z"
   },
   {
    "duration": 11,
    "start_time": "2021-12-09T18:31:46.932Z"
   },
   {
    "duration": 20,
    "start_time": "2021-12-09T18:31:46.945Z"
   },
   {
    "duration": 45,
    "start_time": "2021-12-09T18:31:46.967Z"
   },
   {
    "duration": 6,
    "start_time": "2021-12-09T18:31:47.014Z"
   },
   {
    "duration": 6,
    "start_time": "2021-12-09T18:31:47.022Z"
   },
   {
    "duration": 12,
    "start_time": "2021-12-09T18:31:47.030Z"
   },
   {
    "duration": 15,
    "start_time": "2021-12-09T18:31:47.044Z"
   },
   {
    "duration": 63,
    "start_time": "2021-12-09T18:31:47.061Z"
   },
   {
    "duration": 11,
    "start_time": "2021-12-09T18:31:47.126Z"
   },
   {
    "duration": 5,
    "start_time": "2021-12-09T18:31:47.139Z"
   },
   {
    "duration": 17,
    "start_time": "2021-12-09T18:31:47.146Z"
   },
   {
    "duration": 10,
    "start_time": "2021-12-09T18:31:47.165Z"
   },
   {
    "duration": 37,
    "start_time": "2021-12-09T18:31:47.177Z"
   },
   {
    "duration": 730,
    "start_time": "2021-12-09T18:31:47.218Z"
   },
   {
    "duration": 3,
    "start_time": "2021-12-09T18:31:47.951Z"
   },
   {
    "duration": 2958,
    "start_time": "2021-12-09T18:31:47.956Z"
   },
   {
    "duration": 9,
    "start_time": "2021-12-09T18:31:50.916Z"
   },
   {
    "duration": 3,
    "start_time": "2021-12-09T18:31:50.926Z"
   },
   {
    "duration": 11,
    "start_time": "2021-12-09T18:31:50.931Z"
   },
   {
    "duration": 12,
    "start_time": "2021-12-09T18:31:50.944Z"
   },
   {
    "duration": 9,
    "start_time": "2021-12-09T18:31:50.957Z"
   },
   {
    "duration": 40,
    "start_time": "2021-12-09T18:31:50.968Z"
   },
   {
    "duration": 9,
    "start_time": "2021-12-09T18:31:51.010Z"
   },
   {
    "duration": 12,
    "start_time": "2021-12-09T18:31:51.020Z"
   },
   {
    "duration": 10,
    "start_time": "2021-12-09T18:31:51.034Z"
   },
   {
    "duration": 10,
    "start_time": "2021-12-09T18:31:51.046Z"
   },
   {
    "duration": 4,
    "start_time": "2021-12-09T18:31:51.058Z"
   },
   {
    "duration": 51,
    "start_time": "2021-12-09T18:31:51.063Z"
   },
   {
    "duration": 11,
    "start_time": "2021-12-09T18:31:51.116Z"
   },
   {
    "duration": 9,
    "start_time": "2021-12-09T18:31:51.128Z"
   },
   {
    "duration": 4,
    "start_time": "2021-12-09T18:31:51.139Z"
   },
   {
    "duration": 70,
    "start_time": "2021-12-09T18:31:51.144Z"
   },
   {
    "duration": 17,
    "start_time": "2021-12-09T18:31:51.216Z"
   },
   {
    "duration": 27,
    "start_time": "2021-12-09T18:31:51.235Z"
   },
   {
    "duration": 150,
    "start_time": "2021-12-09T18:31:51.264Z"
   },
   {
    "duration": 28,
    "start_time": "2021-12-09T18:31:51.415Z"
   },
   {
    "duration": 172,
    "start_time": "2021-12-09T18:31:51.445Z"
   },
   {
    "duration": 165,
    "start_time": "2021-12-09T18:31:51.619Z"
   },
   {
    "duration": 358,
    "start_time": "2021-12-09T18:31:51.786Z"
   },
   {
    "duration": 103,
    "start_time": "2021-12-09T18:31:52.043Z"
   },
   {
    "duration": 23,
    "start_time": "2021-12-09T18:33:00.840Z"
   },
   {
    "duration": 27,
    "start_time": "2021-12-09T18:33:11.752Z"
   },
   {
    "duration": 23,
    "start_time": "2021-12-09T18:33:22.860Z"
   },
   {
    "duration": 23,
    "start_time": "2021-12-09T18:33:29.223Z"
   },
   {
    "duration": 25,
    "start_time": "2021-12-09T18:33:54.881Z"
   },
   {
    "duration": 26,
    "start_time": "2021-12-09T18:34:00.603Z"
   },
   {
    "duration": 29,
    "start_time": "2021-12-09T18:34:06.830Z"
   },
   {
    "duration": 230,
    "start_time": "2021-12-09T18:34:40.609Z"
   },
   {
    "duration": 128,
    "start_time": "2021-12-09T18:35:34.258Z"
   },
   {
    "duration": 315,
    "start_time": "2021-12-09T18:36:30.033Z"
   },
   {
    "duration": 12,
    "start_time": "2021-12-09T18:36:30.350Z"
   },
   {
    "duration": 26,
    "start_time": "2021-12-09T18:36:30.364Z"
   },
   {
    "duration": 10,
    "start_time": "2021-12-09T18:36:30.392Z"
   },
   {
    "duration": 6,
    "start_time": "2021-12-09T18:36:30.407Z"
   },
   {
    "duration": 44,
    "start_time": "2021-12-09T18:36:30.415Z"
   },
   {
    "duration": 43,
    "start_time": "2021-12-09T18:36:30.460Z"
   },
   {
    "duration": 21,
    "start_time": "2021-12-09T18:36:30.505Z"
   },
   {
    "duration": 74,
    "start_time": "2021-12-09T18:36:30.528Z"
   },
   {
    "duration": 45,
    "start_time": "2021-12-09T18:36:30.604Z"
   },
   {
    "duration": 9,
    "start_time": "2021-12-09T18:36:30.651Z"
   },
   {
    "duration": 31,
    "start_time": "2021-12-09T18:36:30.661Z"
   },
   {
    "duration": 19,
    "start_time": "2021-12-09T18:36:30.694Z"
   },
   {
    "duration": 17,
    "start_time": "2021-12-09T18:36:30.715Z"
   },
   {
    "duration": 25,
    "start_time": "2021-12-09T18:36:30.734Z"
   },
   {
    "duration": 9,
    "start_time": "2021-12-09T18:36:30.761Z"
   },
   {
    "duration": 20,
    "start_time": "2021-12-09T18:36:30.772Z"
   },
   {
    "duration": 14,
    "start_time": "2021-12-09T18:36:30.793Z"
   },
   {
    "duration": 24,
    "start_time": "2021-12-09T18:36:30.809Z"
   },
   {
    "duration": 25,
    "start_time": "2021-12-09T18:36:30.835Z"
   },
   {
    "duration": 28,
    "start_time": "2021-12-09T18:36:30.861Z"
   },
   {
    "duration": 17,
    "start_time": "2021-12-09T18:36:30.891Z"
   },
   {
    "duration": 22,
    "start_time": "2021-12-09T18:36:30.910Z"
   },
   {
    "duration": 21,
    "start_time": "2021-12-09T18:36:30.934Z"
   },
   {
    "duration": 17,
    "start_time": "2021-12-09T18:36:30.957Z"
   },
   {
    "duration": 14,
    "start_time": "2021-12-09T18:36:30.976Z"
   },
   {
    "duration": 712,
    "start_time": "2021-12-09T18:36:30.994Z"
   },
   {
    "duration": 4,
    "start_time": "2021-12-09T18:36:31.709Z"
   },
   {
    "duration": 3078,
    "start_time": "2021-12-09T18:36:31.715Z"
   },
   {
    "duration": 18,
    "start_time": "2021-12-09T18:36:34.794Z"
   },
   {
    "duration": 3,
    "start_time": "2021-12-09T18:36:34.814Z"
   },
   {
    "duration": 12,
    "start_time": "2021-12-09T18:36:34.818Z"
   },
   {
    "duration": 10,
    "start_time": "2021-12-09T18:36:34.831Z"
   },
   {
    "duration": 9,
    "start_time": "2021-12-09T18:36:34.843Z"
   },
   {
    "duration": 10,
    "start_time": "2021-12-09T18:36:34.854Z"
   },
   {
    "duration": 43,
    "start_time": "2021-12-09T18:36:34.866Z"
   },
   {
    "duration": 13,
    "start_time": "2021-12-09T18:36:34.911Z"
   },
   {
    "duration": 11,
    "start_time": "2021-12-09T18:36:34.925Z"
   },
   {
    "duration": 10,
    "start_time": "2021-12-09T18:36:34.937Z"
   },
   {
    "duration": 4,
    "start_time": "2021-12-09T18:36:34.949Z"
   },
   {
    "duration": 53,
    "start_time": "2021-12-09T18:36:34.954Z"
   },
   {
    "duration": 10,
    "start_time": "2021-12-09T18:36:35.009Z"
   },
   {
    "duration": 10,
    "start_time": "2021-12-09T18:36:35.021Z"
   },
   {
    "duration": 4,
    "start_time": "2021-12-09T18:36:35.032Z"
   },
   {
    "duration": 44,
    "start_time": "2021-12-09T18:36:35.038Z"
   },
   {
    "duration": 40,
    "start_time": "2021-12-09T18:36:35.083Z"
   },
   {
    "duration": 26,
    "start_time": "2021-12-09T18:36:35.125Z"
   },
   {
    "duration": 141,
    "start_time": "2021-12-09T18:36:35.153Z"
   },
   {
    "duration": 31,
    "start_time": "2021-12-09T18:36:35.295Z"
   },
   {
    "duration": 265,
    "start_time": "2021-12-09T18:36:35.328Z"
   },
   {
    "duration": 158,
    "start_time": "2021-12-09T18:36:35.595Z"
   },
   {
    "duration": 29,
    "start_time": "2021-12-09T18:36:35.756Z"
   },
   {
    "duration": 147,
    "start_time": "2021-12-09T18:36:35.787Z"
   },
   {
    "duration": 42,
    "start_time": "2021-12-09T18:36:41.374Z"
   },
   {
    "duration": 126,
    "start_time": "2021-12-09T18:38:14.672Z"
   },
   {
    "duration": 156,
    "start_time": "2021-12-09T18:39:27.271Z"
   },
   {
    "duration": 118,
    "start_time": "2021-12-09T18:41:50.726Z"
   },
   {
    "duration": 1363,
    "start_time": "2021-12-10T09:14:45.968Z"
   },
   {
    "duration": 16,
    "start_time": "2021-12-10T09:14:47.334Z"
   },
   {
    "duration": 35,
    "start_time": "2021-12-10T09:14:47.353Z"
   },
   {
    "duration": 30,
    "start_time": "2021-12-10T09:14:47.390Z"
   },
   {
    "duration": 65,
    "start_time": "2021-12-10T09:14:47.422Z"
   },
   {
    "duration": 231,
    "start_time": "2021-12-10T09:14:47.489Z"
   },
   {
    "duration": 25,
    "start_time": "2021-12-10T09:14:47.722Z"
   },
   {
    "duration": 63,
    "start_time": "2021-12-10T09:14:47.749Z"
   },
   {
    "duration": 43,
    "start_time": "2021-12-10T09:14:47.814Z"
   },
   {
    "duration": 9,
    "start_time": "2021-12-10T09:14:47.864Z"
   },
   {
    "duration": 46,
    "start_time": "2021-12-10T09:14:47.875Z"
   },
   {
    "duration": 21,
    "start_time": "2021-12-10T09:14:47.923Z"
   },
   {
    "duration": 27,
    "start_time": "2021-12-10T09:14:47.945Z"
   },
   {
    "duration": 38,
    "start_time": "2021-12-10T09:14:47.974Z"
   },
   {
    "duration": 28,
    "start_time": "2021-12-10T09:14:48.014Z"
   },
   {
    "duration": 18,
    "start_time": "2021-12-10T09:14:48.044Z"
   },
   {
    "duration": 33,
    "start_time": "2021-12-10T09:14:48.063Z"
   },
   {
    "duration": 20,
    "start_time": "2021-12-10T09:14:48.098Z"
   },
   {
    "duration": 38,
    "start_time": "2021-12-10T09:14:48.120Z"
   },
   {
    "duration": 40,
    "start_time": "2021-12-10T09:14:48.160Z"
   },
   {
    "duration": 12,
    "start_time": "2021-12-10T09:14:48.202Z"
   },
   {
    "duration": 105,
    "start_time": "2021-12-10T09:14:48.216Z"
   },
   {
    "duration": 40,
    "start_time": "2021-12-10T09:14:48.324Z"
   },
   {
    "duration": 52,
    "start_time": "2021-12-10T09:14:48.366Z"
   },
   {
    "duration": 43,
    "start_time": "2021-12-10T09:14:48.421Z"
   },
   {
    "duration": 655,
    "start_time": "2021-12-10T09:14:48.466Z"
   },
   {
    "duration": 4,
    "start_time": "2021-12-10T09:14:49.126Z"
   },
   {
    "duration": 3156,
    "start_time": "2021-12-10T09:14:49.133Z"
   },
   {
    "duration": 10,
    "start_time": "2021-12-10T09:14:52.291Z"
   },
   {
    "duration": 43,
    "start_time": "2021-12-10T09:14:52.303Z"
   },
   {
    "duration": 37,
    "start_time": "2021-12-10T09:14:52.347Z"
   },
   {
    "duration": 25,
    "start_time": "2021-12-10T09:14:52.386Z"
   },
   {
    "duration": 32,
    "start_time": "2021-12-10T09:14:52.413Z"
   },
   {
    "duration": 26,
    "start_time": "2021-12-10T09:14:52.447Z"
   },
   {
    "duration": 18,
    "start_time": "2021-12-10T09:14:52.475Z"
   },
   {
    "duration": 45,
    "start_time": "2021-12-10T09:14:52.495Z"
   },
   {
    "duration": 32,
    "start_time": "2021-12-10T09:14:52.541Z"
   },
   {
    "duration": 16,
    "start_time": "2021-12-10T09:14:52.574Z"
   },
   {
    "duration": 7,
    "start_time": "2021-12-10T09:14:52.592Z"
   },
   {
    "duration": 43,
    "start_time": "2021-12-10T09:14:52.601Z"
   },
   {
    "duration": 33,
    "start_time": "2021-12-10T09:14:52.645Z"
   },
   {
    "duration": 41,
    "start_time": "2021-12-10T09:14:52.679Z"
   },
   {
    "duration": 14,
    "start_time": "2021-12-10T09:14:52.722Z"
   },
   {
    "duration": 88,
    "start_time": "2021-12-10T09:14:52.737Z"
   },
   {
    "duration": 33,
    "start_time": "2021-12-10T09:14:52.826Z"
   },
   {
    "duration": 29,
    "start_time": "2021-12-10T09:14:52.861Z"
   },
   {
    "duration": 382,
    "start_time": "2021-12-10T09:14:52.891Z"
   },
   {
    "duration": -432,
    "start_time": "2021-12-10T09:14:53.707Z"
   },
   {
    "duration": -435,
    "start_time": "2021-12-10T09:14:53.711Z"
   },
   {
    "duration": -440,
    "start_time": "2021-12-10T09:14:53.717Z"
   },
   {
    "duration": -443,
    "start_time": "2021-12-10T09:14:53.721Z"
   },
   {
    "duration": -446,
    "start_time": "2021-12-10T09:14:53.725Z"
   },
   {
    "duration": 29,
    "start_time": "2021-12-10T09:15:12.551Z"
   },
   {
    "duration": 250,
    "start_time": "2021-12-10T09:15:15.266Z"
   },
   {
    "duration": 29,
    "start_time": "2021-12-10T09:15:33.234Z"
   },
   {
    "duration": 154,
    "start_time": "2021-12-10T09:15:34.616Z"
   },
   {
    "duration": -449,
    "start_time": "2021-12-10T09:15:47.760Z"
   },
   {
    "duration": 7910,
    "start_time": "2021-12-10T09:16:01.163Z"
   },
   {
    "duration": 132,
    "start_time": "2021-12-10T09:16:19.099Z"
   },
   {
    "duration": 278,
    "start_time": "2021-12-10T09:17:12.166Z"
   },
   {
    "duration": 32,
    "start_time": "2021-12-10T09:17:20.991Z"
   },
   {
    "duration": 254,
    "start_time": "2021-12-10T09:17:23.843Z"
   },
   {
    "duration": 457,
    "start_time": "2021-12-10T09:17:25.868Z"
   },
   {
    "duration": 30,
    "start_time": "2021-12-10T09:17:37.972Z"
   },
   {
    "duration": 122,
    "start_time": "2021-12-10T09:17:39.266Z"
   },
   {
    "duration": 259,
    "start_time": "2021-12-10T09:17:41.975Z"
   },
   {
    "duration": 32,
    "start_time": "2021-12-10T09:17:45.015Z"
   },
   {
    "duration": 239,
    "start_time": "2021-12-10T09:17:47.392Z"
   },
   {
    "duration": 156,
    "start_time": "2021-12-10T09:18:19.623Z"
   },
   {
    "duration": 1379,
    "start_time": "2021-12-10T09:18:51.300Z"
   },
   {
    "duration": 16,
    "start_time": "2021-12-10T09:18:52.681Z"
   },
   {
    "duration": 12,
    "start_time": "2021-12-10T09:18:52.699Z"
   },
   {
    "duration": 10,
    "start_time": "2021-12-10T09:18:52.713Z"
   },
   {
    "duration": 38,
    "start_time": "2021-12-10T09:18:52.725Z"
   },
   {
    "duration": 18,
    "start_time": "2021-12-10T09:18:52.766Z"
   },
   {
    "duration": 22,
    "start_time": "2021-12-10T09:18:52.786Z"
   },
   {
    "duration": 73,
    "start_time": "2021-12-10T09:18:52.810Z"
   },
   {
    "duration": 45,
    "start_time": "2021-12-10T09:18:52.885Z"
   },
   {
    "duration": 32,
    "start_time": "2021-12-10T09:18:52.931Z"
   },
   {
    "duration": 19,
    "start_time": "2021-12-10T09:18:52.965Z"
   },
   {
    "duration": 8,
    "start_time": "2021-12-10T09:18:52.985Z"
   },
   {
    "duration": 22,
    "start_time": "2021-12-10T09:18:52.995Z"
   },
   {
    "duration": 45,
    "start_time": "2021-12-10T09:18:53.020Z"
   },
   {
    "duration": 8,
    "start_time": "2021-12-10T09:18:53.066Z"
   },
   {
    "duration": 11,
    "start_time": "2021-12-10T09:18:53.075Z"
   },
   {
    "duration": 12,
    "start_time": "2021-12-10T09:18:53.088Z"
   },
   {
    "duration": 12,
    "start_time": "2021-12-10T09:18:53.101Z"
   },
   {
    "duration": 15,
    "start_time": "2021-12-10T09:18:53.115Z"
   },
   {
    "duration": 57,
    "start_time": "2021-12-10T09:18:53.132Z"
   },
   {
    "duration": 11,
    "start_time": "2021-12-10T09:18:53.191Z"
   },
   {
    "duration": 5,
    "start_time": "2021-12-10T09:18:53.203Z"
   },
   {
    "duration": 14,
    "start_time": "2021-12-10T09:18:53.211Z"
   },
   {
    "duration": 6,
    "start_time": "2021-12-10T09:18:53.264Z"
   },
   {
    "duration": 8,
    "start_time": "2021-12-10T09:18:53.273Z"
   },
   {
    "duration": 709,
    "start_time": "2021-12-10T09:18:53.283Z"
   },
   {
    "duration": 3,
    "start_time": "2021-12-10T09:18:53.995Z"
   },
   {
    "duration": 2981,
    "start_time": "2021-12-10T09:18:54.000Z"
   },
   {
    "duration": 8,
    "start_time": "2021-12-10T09:18:56.983Z"
   },
   {
    "duration": 9,
    "start_time": "2021-12-10T09:18:56.993Z"
   },
   {
    "duration": 41,
    "start_time": "2021-12-10T09:18:57.004Z"
   },
   {
    "duration": 37,
    "start_time": "2021-12-10T09:18:57.047Z"
   },
   {
    "duration": 24,
    "start_time": "2021-12-10T09:18:57.085Z"
   },
   {
    "duration": 31,
    "start_time": "2021-12-10T09:18:57.111Z"
   },
   {
    "duration": 18,
    "start_time": "2021-12-10T09:18:57.144Z"
   },
   {
    "duration": 29,
    "start_time": "2021-12-10T09:18:57.163Z"
   },
   {
    "duration": 27,
    "start_time": "2021-12-10T09:18:57.194Z"
   },
   {
    "duration": 10,
    "start_time": "2021-12-10T09:18:57.223Z"
   },
   {
    "duration": 3,
    "start_time": "2021-12-10T09:18:57.235Z"
   },
   {
    "duration": 23,
    "start_time": "2021-12-10T09:18:57.240Z"
   },
   {
    "duration": 12,
    "start_time": "2021-12-10T09:18:57.265Z"
   },
   {
    "duration": 11,
    "start_time": "2021-12-10T09:18:57.279Z"
   },
   {
    "duration": 5,
    "start_time": "2021-12-10T09:18:57.292Z"
   },
   {
    "duration": 78,
    "start_time": "2021-12-10T09:18:57.299Z"
   },
   {
    "duration": 20,
    "start_time": "2021-12-10T09:18:57.380Z"
   },
   {
    "duration": 61,
    "start_time": "2021-12-10T09:18:57.402Z"
   },
   {
    "duration": 331,
    "start_time": "2021-12-10T09:18:57.466Z"
   },
   {
    "duration": -448,
    "start_time": "2021-12-10T09:18:58.247Z"
   },
   {
    "duration": -453,
    "start_time": "2021-12-10T09:18:58.254Z"
   },
   {
    "duration": -456,
    "start_time": "2021-12-10T09:18:58.259Z"
   },
   {
    "duration": -460,
    "start_time": "2021-12-10T09:18:58.264Z"
   },
   {
    "duration": -462,
    "start_time": "2021-12-10T09:18:58.268Z"
   },
   {
    "duration": -466,
    "start_time": "2021-12-10T09:18:58.273Z"
   },
   {
    "duration": 18,
    "start_time": "2021-12-10T09:19:45.299Z"
   },
   {
    "duration": 13,
    "start_time": "2021-12-10T09:19:54.507Z"
   },
   {
    "duration": 14,
    "start_time": "2021-12-10T09:19:59.284Z"
   },
   {
    "duration": 14,
    "start_time": "2021-12-10T09:20:01.611Z"
   },
   {
    "duration": 12,
    "start_time": "2021-12-10T09:20:05.949Z"
   },
   {
    "duration": 217,
    "start_time": "2021-12-10T09:20:10.920Z"
   },
   {
    "duration": 11,
    "start_time": "2021-12-10T09:20:11.139Z"
   },
   {
    "duration": 57,
    "start_time": "2021-12-10T09:20:11.152Z"
   },
   {
    "duration": 26,
    "start_time": "2021-12-10T09:20:11.211Z"
   },
   {
    "duration": 54,
    "start_time": "2021-12-10T09:20:11.239Z"
   },
   {
    "duration": 122,
    "start_time": "2021-12-10T09:20:11.294Z"
   },
   {
    "duration": 40,
    "start_time": "2021-12-10T09:20:11.418Z"
   },
   {
    "duration": 69,
    "start_time": "2021-12-10T09:20:11.461Z"
   },
   {
    "duration": 56,
    "start_time": "2021-12-10T09:20:11.532Z"
   },
   {
    "duration": 10,
    "start_time": "2021-12-10T09:20:11.589Z"
   },
   {
    "duration": 53,
    "start_time": "2021-12-10T09:20:11.601Z"
   },
   {
    "duration": 64,
    "start_time": "2021-12-10T09:20:11.656Z"
   },
   {
    "duration": 44,
    "start_time": "2021-12-10T09:20:11.722Z"
   },
   {
    "duration": 55,
    "start_time": "2021-12-10T09:20:11.768Z"
   },
   {
    "duration": 35,
    "start_time": "2021-12-10T09:20:11.825Z"
   },
   {
    "duration": 22,
    "start_time": "2021-12-10T09:20:11.861Z"
   },
   {
    "duration": 34,
    "start_time": "2021-12-10T09:20:11.885Z"
   },
   {
    "duration": 32,
    "start_time": "2021-12-10T09:20:11.920Z"
   },
   {
    "duration": 31,
    "start_time": "2021-12-10T09:20:11.954Z"
   },
   {
    "duration": 72,
    "start_time": "2021-12-10T09:20:11.987Z"
   },
   {
    "duration": 22,
    "start_time": "2021-12-10T09:20:12.060Z"
   },
   {
    "duration": 37,
    "start_time": "2021-12-10T09:20:12.085Z"
   },
   {
    "duration": 24,
    "start_time": "2021-12-10T09:20:12.127Z"
   },
   {
    "duration": 45,
    "start_time": "2021-12-10T09:20:12.154Z"
   },
   {
    "duration": 48,
    "start_time": "2021-12-10T09:20:12.202Z"
   },
   {
    "duration": 697,
    "start_time": "2021-12-10T09:20:12.252Z"
   },
   {
    "duration": 11,
    "start_time": "2021-12-10T09:20:12.952Z"
   },
   {
    "duration": 2944,
    "start_time": "2021-12-10T09:20:12.965Z"
   },
   {
    "duration": 8,
    "start_time": "2021-12-10T09:20:15.911Z"
   },
   {
    "duration": 22,
    "start_time": "2021-12-10T09:20:15.921Z"
   },
   {
    "duration": 21,
    "start_time": "2021-12-10T09:20:15.945Z"
   },
   {
    "duration": 14,
    "start_time": "2021-12-10T09:20:15.968Z"
   },
   {
    "duration": 9,
    "start_time": "2021-12-10T09:20:15.983Z"
   },
   {
    "duration": 13,
    "start_time": "2021-12-10T09:20:15.993Z"
   },
   {
    "duration": 18,
    "start_time": "2021-12-10T09:20:16.008Z"
   },
   {
    "duration": 35,
    "start_time": "2021-12-10T09:20:16.028Z"
   },
   {
    "duration": 12,
    "start_time": "2021-12-10T09:20:16.065Z"
   },
   {
    "duration": 12,
    "start_time": "2021-12-10T09:20:16.079Z"
   },
   {
    "duration": 3,
    "start_time": "2021-12-10T09:20:16.093Z"
   },
   {
    "duration": 23,
    "start_time": "2021-12-10T09:20:16.097Z"
   },
   {
    "duration": 13,
    "start_time": "2021-12-10T09:20:16.122Z"
   },
   {
    "duration": 10,
    "start_time": "2021-12-10T09:20:16.164Z"
   },
   {
    "duration": 5,
    "start_time": "2021-12-10T09:20:16.175Z"
   },
   {
    "duration": 53,
    "start_time": "2021-12-10T09:20:16.181Z"
   },
   {
    "duration": 37,
    "start_time": "2021-12-10T09:20:16.235Z"
   },
   {
    "duration": 27,
    "start_time": "2021-12-10T09:20:16.273Z"
   },
   {
    "duration": 254,
    "start_time": "2021-12-10T09:20:16.302Z"
   },
   {
    "duration": -460,
    "start_time": "2021-12-10T09:20:17.018Z"
   },
   {
    "duration": -468,
    "start_time": "2021-12-10T09:20:17.027Z"
   },
   {
    "duration": -475,
    "start_time": "2021-12-10T09:20:17.034Z"
   },
   {
    "duration": -480,
    "start_time": "2021-12-10T09:20:17.040Z"
   },
   {
    "duration": -484,
    "start_time": "2021-12-10T09:20:17.045Z"
   },
   {
    "duration": -490,
    "start_time": "2021-12-10T09:20:17.052Z"
   },
   {
    "duration": 243,
    "start_time": "2021-12-10T09:21:21.958Z"
   },
   {
    "duration": 281,
    "start_time": "2021-12-10T09:21:40.659Z"
   },
   {
    "duration": 260,
    "start_time": "2021-12-10T09:22:06.093Z"
   },
   {
    "duration": 6,
    "start_time": "2021-12-10T09:22:17.584Z"
   },
   {
    "duration": 6,
    "start_time": "2021-12-10T09:22:28.937Z"
   },
   {
    "duration": 5,
    "start_time": "2021-12-10T09:22:36.316Z"
   },
   {
    "duration": 6,
    "start_time": "2021-12-10T09:22:46.513Z"
   },
   {
    "duration": 84,
    "start_time": "2021-12-10T09:23:08.486Z"
   },
   {
    "duration": 6,
    "start_time": "2021-12-10T09:23:30.715Z"
   },
   {
    "duration": 4,
    "start_time": "2021-12-10T09:23:44.876Z"
   },
   {
    "duration": 4,
    "start_time": "2021-12-10T09:24:14.758Z"
   },
   {
    "duration": 5,
    "start_time": "2021-12-10T09:24:39.507Z"
   },
   {
    "duration": 4,
    "start_time": "2021-12-10T09:24:46.129Z"
   },
   {
    "duration": 3,
    "start_time": "2021-12-10T09:24:58.141Z"
   },
   {
    "duration": 2924,
    "start_time": "2021-12-10T09:25:03.018Z"
   },
   {
    "duration": 5,
    "start_time": "2021-12-10T09:25:34.783Z"
   },
   {
    "duration": 5,
    "start_time": "2021-12-10T09:26:08.246Z"
   },
   {
    "duration": 4,
    "start_time": "2021-12-10T09:26:11.806Z"
   },
   {
    "duration": 4,
    "start_time": "2021-12-10T09:32:41.763Z"
   },
   {
    "duration": 5,
    "start_time": "2021-12-10T09:32:57.918Z"
   },
   {
    "duration": 4,
    "start_time": "2021-12-10T09:33:09.644Z"
   },
   {
    "duration": 3,
    "start_time": "2021-12-10T09:33:13.614Z"
   },
   {
    "duration": 16,
    "start_time": "2021-12-10T09:33:16.307Z"
   },
   {
    "duration": 12,
    "start_time": "2021-12-10T09:33:21.719Z"
   },
   {
    "duration": 8,
    "start_time": "2021-12-10T09:33:22.899Z"
   },
   {
    "duration": 13,
    "start_time": "2021-12-10T09:34:42.516Z"
   },
   {
    "duration": 12,
    "start_time": "2021-12-10T09:35:08.107Z"
   },
   {
    "duration": 31,
    "start_time": "2021-12-10T10:05:47.357Z"
   },
   {
    "duration": 339,
    "start_time": "2021-12-10T10:05:49.500Z"
   },
   {
    "duration": 6732,
    "start_time": "2021-12-10T10:05:57.855Z"
   },
   {
    "duration": 274,
    "start_time": "2021-12-10T10:06:56.504Z"
   },
   {
    "duration": 27,
    "start_time": "2021-12-10T10:07:06.116Z"
   },
   {
    "duration": 269,
    "start_time": "2021-12-10T10:07:08.550Z"
   },
   {
    "duration": 740,
    "start_time": "2021-12-10T10:07:20.174Z"
   },
   {
    "duration": 13,
    "start_time": "2021-12-10T10:07:20.916Z"
   },
   {
    "duration": 27,
    "start_time": "2021-12-10T10:07:20.931Z"
   },
   {
    "duration": 22,
    "start_time": "2021-12-10T10:07:20.960Z"
   },
   {
    "duration": 28,
    "start_time": "2021-12-10T10:07:20.984Z"
   },
   {
    "duration": 33,
    "start_time": "2021-12-10T10:07:21.014Z"
   },
   {
    "duration": 35,
    "start_time": "2021-12-10T10:07:21.049Z"
   },
   {
    "duration": 62,
    "start_time": "2021-12-10T10:07:21.086Z"
   },
   {
    "duration": 44,
    "start_time": "2021-12-10T10:07:21.152Z"
   },
   {
    "duration": 9,
    "start_time": "2021-12-10T10:07:21.199Z"
   },
   {
    "duration": 43,
    "start_time": "2021-12-10T10:07:21.210Z"
   },
   {
    "duration": 26,
    "start_time": "2021-12-10T10:07:21.256Z"
   },
   {
    "duration": 22,
    "start_time": "2021-12-10T10:07:21.283Z"
   },
   {
    "duration": 47,
    "start_time": "2021-12-10T10:07:21.307Z"
   },
   {
    "duration": 25,
    "start_time": "2021-12-10T10:07:21.356Z"
   },
   {
    "duration": 26,
    "start_time": "2021-12-10T10:07:21.383Z"
   },
   {
    "duration": 29,
    "start_time": "2021-12-10T10:07:21.411Z"
   },
   {
    "duration": 23,
    "start_time": "2021-12-10T10:07:21.442Z"
   },
   {
    "duration": 31,
    "start_time": "2021-12-10T10:07:21.467Z"
   },
   {
    "duration": 39,
    "start_time": "2021-12-10T10:07:21.500Z"
   },
   {
    "duration": 10,
    "start_time": "2021-12-10T10:07:21.541Z"
   },
   {
    "duration": 21,
    "start_time": "2021-12-10T10:07:21.553Z"
   },
   {
    "duration": 28,
    "start_time": "2021-12-10T10:07:21.576Z"
   },
   {
    "duration": 43,
    "start_time": "2021-12-10T10:07:21.606Z"
   },
   {
    "duration": 20,
    "start_time": "2021-12-10T10:07:21.651Z"
   },
   {
    "duration": 714,
    "start_time": "2021-12-10T10:07:21.673Z"
   },
   {
    "duration": 4,
    "start_time": "2021-12-10T10:07:22.392Z"
   },
   {
    "duration": 2924,
    "start_time": "2021-12-10T10:07:22.399Z"
   },
   {
    "duration": 8,
    "start_time": "2021-12-10T10:07:25.325Z"
   },
   {
    "duration": 12,
    "start_time": "2021-12-10T10:07:25.335Z"
   },
   {
    "duration": 37,
    "start_time": "2021-12-10T10:07:25.349Z"
   },
   {
    "duration": 24,
    "start_time": "2021-12-10T10:07:25.388Z"
   },
   {
    "duration": 37,
    "start_time": "2021-12-10T10:07:25.413Z"
   },
   {
    "duration": 32,
    "start_time": "2021-12-10T10:07:25.452Z"
   },
   {
    "duration": 14,
    "start_time": "2021-12-10T10:07:25.486Z"
   },
   {
    "duration": 43,
    "start_time": "2021-12-10T10:07:25.502Z"
   },
   {
    "duration": 34,
    "start_time": "2021-12-10T10:07:25.547Z"
   },
   {
    "duration": 23,
    "start_time": "2021-12-10T10:07:25.582Z"
   },
   {
    "duration": 22,
    "start_time": "2021-12-10T10:07:25.606Z"
   },
   {
    "duration": 30,
    "start_time": "2021-12-10T10:07:25.630Z"
   },
   {
    "duration": 25,
    "start_time": "2021-12-10T10:07:25.661Z"
   },
   {
    "duration": 30,
    "start_time": "2021-12-10T10:07:25.688Z"
   },
   {
    "duration": 13,
    "start_time": "2021-12-10T10:07:25.720Z"
   },
   {
    "duration": 77,
    "start_time": "2021-12-10T10:07:25.735Z"
   },
   {
    "duration": 18,
    "start_time": "2021-12-10T10:07:25.814Z"
   },
   {
    "duration": 37,
    "start_time": "2021-12-10T10:07:25.833Z"
   },
   {
    "duration": 254,
    "start_time": "2021-12-10T10:07:25.872Z"
   },
   {
    "duration": 290,
    "start_time": "2021-12-10T10:08:01.756Z"
   },
   {
    "duration": 27,
    "start_time": "2021-12-10T10:08:04.785Z"
   },
   {
    "duration": 1518,
    "start_time": "2021-12-10T10:08:10.985Z"
   },
   {
    "duration": 11,
    "start_time": "2021-12-10T10:08:12.505Z"
   },
   {
    "duration": 47,
    "start_time": "2021-12-10T10:08:12.518Z"
   },
   {
    "duration": 24,
    "start_time": "2021-12-10T10:08:12.567Z"
   },
   {
    "duration": 22,
    "start_time": "2021-12-10T10:08:12.593Z"
   },
   {
    "duration": 40,
    "start_time": "2021-12-10T10:08:12.617Z"
   },
   {
    "duration": 47,
    "start_time": "2021-12-10T10:08:12.659Z"
   },
   {
    "duration": 76,
    "start_time": "2021-12-10T10:08:12.709Z"
   },
   {
    "duration": 76,
    "start_time": "2021-12-10T10:08:12.787Z"
   },
   {
    "duration": 10,
    "start_time": "2021-12-10T10:08:12.864Z"
   },
   {
    "duration": 40,
    "start_time": "2021-12-10T10:08:12.876Z"
   },
   {
    "duration": 54,
    "start_time": "2021-12-10T10:08:12.918Z"
   },
   {
    "duration": 41,
    "start_time": "2021-12-10T10:08:12.974Z"
   },
   {
    "duration": 34,
    "start_time": "2021-12-10T10:08:13.017Z"
   },
   {
    "duration": 22,
    "start_time": "2021-12-10T10:08:13.053Z"
   },
   {
    "duration": 31,
    "start_time": "2021-12-10T10:08:13.077Z"
   },
   {
    "duration": 20,
    "start_time": "2021-12-10T10:08:13.110Z"
   },
   {
    "duration": 31,
    "start_time": "2021-12-10T10:08:13.132Z"
   },
   {
    "duration": 46,
    "start_time": "2021-12-10T10:08:13.164Z"
   },
   {
    "duration": 28,
    "start_time": "2021-12-10T10:08:13.212Z"
   },
   {
    "duration": 20,
    "start_time": "2021-12-10T10:08:13.242Z"
   },
   {
    "duration": 30,
    "start_time": "2021-12-10T10:08:13.264Z"
   },
   {
    "duration": 66,
    "start_time": "2021-12-10T10:08:13.299Z"
   },
   {
    "duration": 13,
    "start_time": "2021-12-10T10:08:13.368Z"
   },
   {
    "duration": 12,
    "start_time": "2021-12-10T10:08:13.383Z"
   },
   {
    "duration": 714,
    "start_time": "2021-12-10T10:08:13.397Z"
   },
   {
    "duration": 5,
    "start_time": "2021-12-10T10:08:14.113Z"
   },
   {
    "duration": 3043,
    "start_time": "2021-12-10T10:08:14.120Z"
   },
   {
    "duration": 11,
    "start_time": "2021-12-10T10:08:17.165Z"
   },
   {
    "duration": 20,
    "start_time": "2021-12-10T10:08:17.178Z"
   },
   {
    "duration": 40,
    "start_time": "2021-12-10T10:08:17.200Z"
   },
   {
    "duration": 33,
    "start_time": "2021-12-10T10:08:17.242Z"
   },
   {
    "duration": 11,
    "start_time": "2021-12-10T10:08:17.277Z"
   },
   {
    "duration": 13,
    "start_time": "2021-12-10T10:08:17.290Z"
   },
   {
    "duration": 14,
    "start_time": "2021-12-10T10:08:17.305Z"
   },
   {
    "duration": 33,
    "start_time": "2021-12-10T10:08:17.321Z"
   },
   {
    "duration": 25,
    "start_time": "2021-12-10T10:08:17.357Z"
   },
   {
    "duration": 15,
    "start_time": "2021-12-10T10:08:17.384Z"
   },
   {
    "duration": 4,
    "start_time": "2021-12-10T10:08:17.401Z"
   },
   {
    "duration": 20,
    "start_time": "2021-12-10T10:08:17.407Z"
   },
   {
    "duration": 12,
    "start_time": "2021-12-10T10:08:17.430Z"
   },
   {
    "duration": 28,
    "start_time": "2021-12-10T10:08:17.444Z"
   },
   {
    "duration": 5,
    "start_time": "2021-12-10T10:08:17.474Z"
   },
   {
    "duration": 63,
    "start_time": "2021-12-10T10:08:17.481Z"
   },
   {
    "duration": 31,
    "start_time": "2021-12-10T10:08:17.546Z"
   },
   {
    "duration": 29,
    "start_time": "2021-12-10T10:08:19.039Z"
   },
   {
    "duration": 336,
    "start_time": "2021-12-10T10:08:21.287Z"
   },
   {
    "duration": 29,
    "start_time": "2021-12-10T10:08:28.654Z"
   },
   {
    "duration": 152,
    "start_time": "2021-12-10T10:08:31.439Z"
   },
   {
    "duration": 11,
    "start_time": "2021-12-10T10:09:01.184Z"
   },
   {
    "duration": 9,
    "start_time": "2021-12-10T10:09:02.940Z"
   },
   {
    "duration": 4,
    "start_time": "2021-12-10T10:09:06.538Z"
   },
   {
    "duration": 120,
    "start_time": "2021-12-10T10:09:49.600Z"
   },
   {
    "duration": 35,
    "start_time": "2021-12-10T10:13:08.465Z"
   },
   {
    "duration": 168,
    "start_time": "2021-12-10T10:13:11.977Z"
   },
   {
    "duration": 29,
    "start_time": "2021-12-10T10:13:18.576Z"
   },
   {
    "duration": 136,
    "start_time": "2021-12-10T10:13:20.659Z"
   },
   {
    "duration": 5,
    "start_time": "2021-12-10T10:46:53.848Z"
   },
   {
    "duration": 30,
    "start_time": "2021-12-10T10:47:30.448Z"
   },
   {
    "duration": 33,
    "start_time": "2021-12-10T10:47:45.736Z"
   },
   {
    "duration": 324,
    "start_time": "2021-12-10T10:48:40.717Z"
   },
   {
    "duration": 33,
    "start_time": "2021-12-10T10:51:06.839Z"
   },
   {
    "duration": 246,
    "start_time": "2021-12-10T10:51:23.849Z"
   },
   {
    "duration": 5,
    "start_time": "2021-12-10T10:51:30.059Z"
   },
   {
    "duration": 5,
    "start_time": "2021-12-10T10:51:36.393Z"
   },
   {
    "duration": 7,
    "start_time": "2021-12-10T10:53:23.458Z"
   },
   {
    "duration": 14,
    "start_time": "2021-12-10T10:58:50.637Z"
   },
   {
    "duration": 14,
    "start_time": "2021-12-10T10:59:00.588Z"
   },
   {
    "duration": 14,
    "start_time": "2021-12-10T11:00:03.064Z"
   },
   {
    "duration": 12,
    "start_time": "2021-12-10T11:00:18.345Z"
   },
   {
    "duration": 13,
    "start_time": "2021-12-10T11:00:24.512Z"
   },
   {
    "duration": 604,
    "start_time": "2021-12-10T11:00:29.935Z"
   },
   {
    "duration": 13,
    "start_time": "2021-12-10T11:00:30.541Z"
   },
   {
    "duration": 27,
    "start_time": "2021-12-10T11:00:30.556Z"
   },
   {
    "duration": 32,
    "start_time": "2021-12-10T11:00:30.585Z"
   },
   {
    "duration": 32,
    "start_time": "2021-12-10T11:00:30.620Z"
   },
   {
    "duration": 50,
    "start_time": "2021-12-10T11:00:30.654Z"
   },
   {
    "duration": 44,
    "start_time": "2021-12-10T11:00:30.706Z"
   },
   {
    "duration": 76,
    "start_time": "2021-12-10T11:00:30.753Z"
   },
   {
    "duration": 44,
    "start_time": "2021-12-10T11:00:30.832Z"
   },
   {
    "duration": 55,
    "start_time": "2021-12-10T11:00:30.878Z"
   },
   {
    "duration": 58,
    "start_time": "2021-12-10T11:00:30.935Z"
   },
   {
    "duration": 35,
    "start_time": "2021-12-10T11:00:30.995Z"
   },
   {
    "duration": 38,
    "start_time": "2021-12-10T11:00:31.031Z"
   },
   {
    "duration": 36,
    "start_time": "2021-12-10T11:00:31.070Z"
   },
   {
    "duration": 34,
    "start_time": "2021-12-10T11:00:31.107Z"
   },
   {
    "duration": 14,
    "start_time": "2021-12-10T11:00:31.143Z"
   },
   {
    "duration": 14,
    "start_time": "2021-12-10T11:00:31.159Z"
   },
   {
    "duration": 25,
    "start_time": "2021-12-10T11:00:31.175Z"
   },
   {
    "duration": 20,
    "start_time": "2021-12-10T11:00:31.202Z"
   },
   {
    "duration": 32,
    "start_time": "2021-12-10T11:00:31.224Z"
   },
   {
    "duration": 11,
    "start_time": "2021-12-10T11:00:31.258Z"
   },
   {
    "duration": 13,
    "start_time": "2021-12-10T11:00:31.271Z"
   },
   {
    "duration": 42,
    "start_time": "2021-12-10T11:00:31.287Z"
   },
   {
    "duration": 17,
    "start_time": "2021-12-10T11:00:31.331Z"
   },
   {
    "duration": 17,
    "start_time": "2021-12-10T11:00:31.349Z"
   },
   {
    "duration": 709,
    "start_time": "2021-12-10T11:00:31.368Z"
   },
   {
    "duration": 4,
    "start_time": "2021-12-10T11:00:32.079Z"
   },
   {
    "duration": 3107,
    "start_time": "2021-12-10T11:00:32.085Z"
   },
   {
    "duration": 12,
    "start_time": "2021-12-10T11:00:35.195Z"
   },
   {
    "duration": 31,
    "start_time": "2021-12-10T11:00:35.209Z"
   },
   {
    "duration": 39,
    "start_time": "2021-12-10T11:00:35.242Z"
   },
   {
    "duration": 31,
    "start_time": "2021-12-10T11:00:35.284Z"
   },
   {
    "duration": 26,
    "start_time": "2021-12-10T11:00:35.317Z"
   },
   {
    "duration": 33,
    "start_time": "2021-12-10T11:00:35.345Z"
   },
   {
    "duration": 34,
    "start_time": "2021-12-10T11:00:35.381Z"
   },
   {
    "duration": 40,
    "start_time": "2021-12-10T11:00:35.417Z"
   },
   {
    "duration": 40,
    "start_time": "2021-12-10T11:00:35.460Z"
   },
   {
    "duration": 33,
    "start_time": "2021-12-10T11:00:35.502Z"
   },
   {
    "duration": 42,
    "start_time": "2021-12-10T11:00:35.536Z"
   },
   {
    "duration": 35,
    "start_time": "2021-12-10T11:00:35.579Z"
   },
   {
    "duration": 18,
    "start_time": "2021-12-10T11:00:35.616Z"
   },
   {
    "duration": 22,
    "start_time": "2021-12-10T11:00:35.636Z"
   },
   {
    "duration": 10,
    "start_time": "2021-12-10T11:00:35.660Z"
   },
   {
    "duration": 71,
    "start_time": "2021-12-10T11:00:35.672Z"
   },
   {
    "duration": 24,
    "start_time": "2021-12-10T11:00:40.165Z"
   },
   {
    "duration": 28,
    "start_time": "2021-12-10T11:00:56.369Z"
   },
   {
    "duration": 28,
    "start_time": "2021-12-10T11:01:01.812Z"
   },
   {
    "duration": 13,
    "start_time": "2021-12-10T11:01:34.531Z"
   },
   {
    "duration": 255,
    "start_time": "2021-12-10T11:03:49.028Z"
   },
   {
    "duration": 14,
    "start_time": "2021-12-10T11:03:58.668Z"
   },
   {
    "duration": 15,
    "start_time": "2021-12-10T11:04:21.986Z"
   },
   {
    "duration": 34,
    "start_time": "2021-12-10T11:04:33.810Z"
   },
   {
    "duration": 6,
    "start_time": "2021-12-10T11:04:36.126Z"
   },
   {
    "duration": 408,
    "start_time": "2021-12-10T11:05:22.072Z"
   },
   {
    "duration": 34,
    "start_time": "2021-12-10T11:05:41.080Z"
   },
   {
    "duration": 244,
    "start_time": "2021-12-10T11:06:17.515Z"
   },
   {
    "duration": 34,
    "start_time": "2021-12-10T11:06:28.690Z"
   },
   {
    "duration": 89,
    "start_time": "2021-12-10T11:09:08.300Z"
   },
   {
    "duration": 7,
    "start_time": "2021-12-10T11:12:14.403Z"
   },
   {
    "duration": 11,
    "start_time": "2021-12-10T11:12:32.867Z"
   },
   {
    "duration": 13,
    "start_time": "2021-12-10T11:13:45.294Z"
   },
   {
    "duration": 12,
    "start_time": "2021-12-10T11:14:12.802Z"
   },
   {
    "duration": 13,
    "start_time": "2021-12-10T11:14:25.265Z"
   },
   {
    "duration": 14,
    "start_time": "2021-12-10T11:16:56.578Z"
   },
   {
    "duration": 14,
    "start_time": "2021-12-10T11:17:10.309Z"
   },
   {
    "duration": 14,
    "start_time": "2021-12-10T11:18:01.889Z"
   },
   {
    "duration": 12,
    "start_time": "2021-12-10T11:18:41.521Z"
   },
   {
    "duration": 13,
    "start_time": "2021-12-10T11:19:16.901Z"
   },
   {
    "duration": 13,
    "start_time": "2021-12-10T11:22:15.964Z"
   },
   {
    "duration": 172,
    "start_time": "2021-12-10T11:24:03.645Z"
   },
   {
    "duration": 503,
    "start_time": "2021-12-10T11:24:28.050Z"
   },
   {
    "duration": 181,
    "start_time": "2021-12-10T11:24:36.782Z"
   },
   {
    "duration": 89,
    "start_time": "2021-12-10T11:27:26.237Z"
   },
   {
    "duration": 31,
    "start_time": "2021-12-10T11:49:53.232Z"
   },
   {
    "duration": 23,
    "start_time": "2021-12-10T11:49:55.963Z"
   },
   {
    "duration": 125,
    "start_time": "2021-12-10T11:50:00.681Z"
   },
   {
    "duration": 5,
    "start_time": "2021-12-10T11:59:20.673Z"
   },
   {
    "duration": 6,
    "start_time": "2021-12-10T11:59:37.082Z"
   },
   {
    "duration": 6,
    "start_time": "2021-12-10T11:59:43.708Z"
   },
   {
    "duration": 4,
    "start_time": "2021-12-10T11:59:48.518Z"
   },
   {
    "duration": 46,
    "start_time": "2021-12-10T11:59:50.930Z"
   },
   {
    "duration": 17,
    "start_time": "2021-12-10T12:00:14.715Z"
   },
   {
    "duration": 15,
    "start_time": "2021-12-10T12:01:06.521Z"
   },
   {
    "duration": 18,
    "start_time": "2021-12-10T12:01:14.500Z"
   },
   {
    "duration": 217,
    "start_time": "2021-12-10T12:01:28.050Z"
   },
   {
    "duration": 11,
    "start_time": "2021-12-10T12:01:28.269Z"
   },
   {
    "duration": 12,
    "start_time": "2021-12-10T12:01:28.283Z"
   },
   {
    "duration": 10,
    "start_time": "2021-12-10T12:01:28.297Z"
   },
   {
    "duration": 9,
    "start_time": "2021-12-10T12:01:28.309Z"
   },
   {
    "duration": 56,
    "start_time": "2021-12-10T12:01:28.320Z"
   },
   {
    "duration": 19,
    "start_time": "2021-12-10T12:01:28.378Z"
   },
   {
    "duration": 64,
    "start_time": "2021-12-10T12:01:28.399Z"
   },
   {
    "duration": 46,
    "start_time": "2021-12-10T12:01:28.467Z"
   },
   {
    "duration": 10,
    "start_time": "2021-12-10T12:01:28.516Z"
   },
   {
    "duration": 44,
    "start_time": "2021-12-10T12:01:28.528Z"
   },
   {
    "duration": 7,
    "start_time": "2021-12-10T12:01:28.574Z"
   },
   {
    "duration": 11,
    "start_time": "2021-12-10T12:01:28.582Z"
   },
   {
    "duration": 19,
    "start_time": "2021-12-10T12:01:28.594Z"
   },
   {
    "duration": 7,
    "start_time": "2021-12-10T12:01:28.615Z"
   },
   {
    "duration": 41,
    "start_time": "2021-12-10T12:01:28.623Z"
   },
   {
    "duration": 7,
    "start_time": "2021-12-10T12:01:28.666Z"
   },
   {
    "duration": 14,
    "start_time": "2021-12-10T12:01:28.675Z"
   },
   {
    "duration": 16,
    "start_time": "2021-12-10T12:01:28.690Z"
   },
   {
    "duration": 60,
    "start_time": "2021-12-10T12:01:28.708Z"
   },
   {
    "duration": 10,
    "start_time": "2021-12-10T12:01:28.770Z"
   },
   {
    "duration": 6,
    "start_time": "2021-12-10T12:01:28.782Z"
   },
   {
    "duration": 17,
    "start_time": "2021-12-10T12:01:28.791Z"
   },
   {
    "duration": 14,
    "start_time": "2021-12-10T12:01:28.810Z"
   },
   {
    "duration": 8,
    "start_time": "2021-12-10T12:01:28.826Z"
   },
   {
    "duration": 805,
    "start_time": "2021-12-10T12:01:28.836Z"
   },
   {
    "duration": 5,
    "start_time": "2021-12-10T12:01:29.645Z"
   },
   {
    "duration": 3054,
    "start_time": "2021-12-10T12:01:29.664Z"
   },
   {
    "duration": 9,
    "start_time": "2021-12-10T12:01:32.719Z"
   },
   {
    "duration": 7,
    "start_time": "2021-12-10T12:01:32.729Z"
   },
   {
    "duration": 28,
    "start_time": "2021-12-10T12:01:32.737Z"
   },
   {
    "duration": 12,
    "start_time": "2021-12-10T12:01:32.767Z"
   },
   {
    "duration": 10,
    "start_time": "2021-12-10T12:01:32.781Z"
   },
   {
    "duration": 29,
    "start_time": "2021-12-10T12:01:32.793Z"
   },
   {
    "duration": 9,
    "start_time": "2021-12-10T12:01:32.824Z"
   },
   {
    "duration": 28,
    "start_time": "2021-12-10T12:01:32.835Z"
   },
   {
    "duration": 22,
    "start_time": "2021-12-10T12:01:32.865Z"
   },
   {
    "duration": 11,
    "start_time": "2021-12-10T12:01:32.889Z"
   },
   {
    "duration": 4,
    "start_time": "2021-12-10T12:01:32.901Z"
   },
   {
    "duration": 15,
    "start_time": "2021-12-10T12:01:32.906Z"
   },
   {
    "duration": 22,
    "start_time": "2021-12-10T12:01:32.923Z"
   },
   {
    "duration": 18,
    "start_time": "2021-12-10T12:01:32.946Z"
   },
   {
    "duration": 4,
    "start_time": "2021-12-10T12:01:32.966Z"
   },
   {
    "duration": 62,
    "start_time": "2021-12-10T12:01:32.971Z"
   },
   {
    "duration": 18,
    "start_time": "2021-12-10T12:01:33.035Z"
   },
   {
    "duration": 30,
    "start_time": "2021-12-10T12:01:33.055Z"
   },
   {
    "duration": 153,
    "start_time": "2021-12-10T12:01:33.087Z"
   },
   {
    "duration": 34,
    "start_time": "2021-12-10T12:01:33.242Z"
   },
   {
    "duration": 161,
    "start_time": "2021-12-10T12:01:33.277Z"
   },
   {
    "duration": 40,
    "start_time": "2021-12-10T12:01:33.439Z"
   },
   {
    "duration": 171,
    "start_time": "2021-12-10T12:01:33.481Z"
   },
   {
    "duration": 31,
    "start_time": "2021-12-10T12:01:33.654Z"
   },
   {
    "duration": 133,
    "start_time": "2021-12-10T12:01:33.687Z"
   },
   {
    "duration": 42,
    "start_time": "2021-12-10T12:01:33.822Z"
   },
   {
    "duration": 14,
    "start_time": "2021-12-10T12:01:33.866Z"
   },
   {
    "duration": 190,
    "start_time": "2021-12-10T12:01:33.882Z"
   },
   {
    "duration": 5,
    "start_time": "2021-12-10T12:03:42.360Z"
   },
   {
    "duration": 50,
    "start_time": "2021-12-10T12:03:45.580Z"
   },
   {
    "duration": 1094,
    "start_time": "2021-12-10T12:03:50.528Z"
   },
   {
    "duration": 27,
    "start_time": "2021-12-10T12:03:56.817Z"
   },
   {
    "duration": 15,
    "start_time": "2021-12-10T12:04:20.060Z"
   },
   {
    "duration": 15,
    "start_time": "2021-12-10T12:04:47.283Z"
   },
   {
    "duration": 318,
    "start_time": "2021-12-10T12:04:53.903Z"
   },
   {
    "duration": 12,
    "start_time": "2021-12-10T12:04:54.223Z"
   },
   {
    "duration": 13,
    "start_time": "2021-12-10T12:04:54.237Z"
   },
   {
    "duration": 10,
    "start_time": "2021-12-10T12:04:54.252Z"
   },
   {
    "duration": 16,
    "start_time": "2021-12-10T12:04:54.263Z"
   },
   {
    "duration": 19,
    "start_time": "2021-12-10T12:04:54.280Z"
   },
   {
    "duration": 17,
    "start_time": "2021-12-10T12:04:54.301Z"
   },
   {
    "duration": 71,
    "start_time": "2021-12-10T12:04:54.321Z"
   },
   {
    "duration": 43,
    "start_time": "2021-12-10T12:04:54.394Z"
   },
   {
    "duration": 27,
    "start_time": "2021-12-10T12:04:54.439Z"
   },
   {
    "duration": 16,
    "start_time": "2021-12-10T12:04:54.467Z"
   },
   {
    "duration": 15,
    "start_time": "2021-12-10T12:04:54.485Z"
   },
   {
    "duration": 11,
    "start_time": "2021-12-10T12:04:54.502Z"
   },
   {
    "duration": 21,
    "start_time": "2021-12-10T12:04:54.514Z"
   },
   {
    "duration": 31,
    "start_time": "2021-12-10T12:04:54.536Z"
   },
   {
    "duration": 5,
    "start_time": "2021-12-10T12:04:54.569Z"
   },
   {
    "duration": 8,
    "start_time": "2021-12-10T12:04:54.575Z"
   },
   {
    "duration": 15,
    "start_time": "2021-12-10T12:04:54.585Z"
   },
   {
    "duration": 15,
    "start_time": "2021-12-10T12:04:54.602Z"
   },
   {
    "duration": 57,
    "start_time": "2021-12-10T12:04:54.619Z"
   },
   {
    "duration": 11,
    "start_time": "2021-12-10T12:04:54.678Z"
   },
   {
    "duration": 6,
    "start_time": "2021-12-10T12:04:54.690Z"
   },
   {
    "duration": 9,
    "start_time": "2021-12-10T12:04:54.700Z"
   },
   {
    "duration": 18,
    "start_time": "2021-12-10T12:04:54.712Z"
   },
   {
    "duration": 12,
    "start_time": "2021-12-10T12:04:54.731Z"
   },
   {
    "duration": 720,
    "start_time": "2021-12-10T12:04:54.744Z"
   },
   {
    "duration": 5,
    "start_time": "2021-12-10T12:04:55.466Z"
   },
   {
    "duration": 2918,
    "start_time": "2021-12-10T12:04:55.472Z"
   },
   {
    "duration": 11,
    "start_time": "2021-12-10T12:04:58.394Z"
   },
   {
    "duration": 4,
    "start_time": "2021-12-10T12:04:58.407Z"
   },
   {
    "duration": 13,
    "start_time": "2021-12-10T12:04:58.413Z"
   },
   {
    "duration": 11,
    "start_time": "2021-12-10T12:04:58.428Z"
   },
   {
    "duration": 14,
    "start_time": "2021-12-10T12:04:58.464Z"
   },
   {
    "duration": 13,
    "start_time": "2021-12-10T12:04:58.480Z"
   },
   {
    "duration": 10,
    "start_time": "2021-12-10T12:04:58.495Z"
   },
   {
    "duration": 14,
    "start_time": "2021-12-10T12:04:58.507Z"
   },
   {
    "duration": 46,
    "start_time": "2021-12-10T12:04:58.523Z"
   },
   {
    "duration": 13,
    "start_time": "2021-12-10T12:04:58.572Z"
   },
   {
    "duration": 4,
    "start_time": "2021-12-10T12:04:58.587Z"
   },
   {
    "duration": 14,
    "start_time": "2021-12-10T12:04:58.592Z"
   },
   {
    "duration": 12,
    "start_time": "2021-12-10T12:04:58.608Z"
   },
   {
    "duration": 9,
    "start_time": "2021-12-10T12:04:58.622Z"
   },
   {
    "duration": 4,
    "start_time": "2021-12-10T12:04:58.664Z"
   },
   {
    "duration": 54,
    "start_time": "2021-12-10T12:04:58.669Z"
   },
   {
    "duration": 20,
    "start_time": "2021-12-10T12:04:58.725Z"
   },
   {
    "duration": 40,
    "start_time": "2021-12-10T12:04:58.747Z"
   },
   {
    "duration": 138,
    "start_time": "2021-12-10T12:04:58.789Z"
   },
   {
    "duration": 39,
    "start_time": "2021-12-10T12:04:58.929Z"
   },
   {
    "duration": 150,
    "start_time": "2021-12-10T12:04:58.970Z"
   },
   {
    "duration": 43,
    "start_time": "2021-12-10T12:04:59.121Z"
   },
   {
    "duration": 268,
    "start_time": "2021-12-10T12:04:59.166Z"
   },
   {
    "duration": 38,
    "start_time": "2021-12-10T12:04:59.436Z"
   },
   {
    "duration": 131,
    "start_time": "2021-12-10T12:04:59.476Z"
   },
   {
    "duration": 37,
    "start_time": "2021-12-10T12:04:59.609Z"
   },
   {
    "duration": 25,
    "start_time": "2021-12-10T12:04:59.648Z"
   },
   {
    "duration": 192,
    "start_time": "2021-12-10T12:04:59.675Z"
   },
   {
    "duration": 5,
    "start_time": "2021-12-10T12:30:22.845Z"
   },
   {
    "duration": 52,
    "start_time": "2021-12-10T12:30:24.360Z"
   },
   {
    "duration": 18,
    "start_time": "2021-12-10T12:30:35.137Z"
   },
   {
    "duration": 17,
    "start_time": "2021-12-10T12:31:02.125Z"
   },
   {
    "duration": 17,
    "start_time": "2021-12-10T12:31:39.100Z"
   },
   {
    "duration": 17,
    "start_time": "2021-12-10T12:31:59.604Z"
   },
   {
    "duration": 15,
    "start_time": "2021-12-10T12:32:30.163Z"
   },
   {
    "duration": 17,
    "start_time": "2021-12-10T12:32:45.857Z"
   },
   {
    "duration": 292,
    "start_time": "2021-12-10T12:33:01.303Z"
   },
   {
    "duration": 12,
    "start_time": "2021-12-10T12:33:01.597Z"
   },
   {
    "duration": 27,
    "start_time": "2021-12-10T12:33:01.612Z"
   },
   {
    "duration": 39,
    "start_time": "2021-12-10T12:33:01.641Z"
   },
   {
    "duration": 38,
    "start_time": "2021-12-10T12:33:01.682Z"
   },
   {
    "duration": 76,
    "start_time": "2021-12-10T12:33:01.722Z"
   },
   {
    "duration": 49,
    "start_time": "2021-12-10T12:33:01.800Z"
   },
   {
    "duration": 104,
    "start_time": "2021-12-10T12:33:01.852Z"
   },
   {
    "duration": 53,
    "start_time": "2021-12-10T12:33:01.958Z"
   },
   {
    "duration": 9,
    "start_time": "2021-12-10T12:33:02.013Z"
   },
   {
    "duration": 32,
    "start_time": "2021-12-10T12:33:02.024Z"
   },
   {
    "duration": 34,
    "start_time": "2021-12-10T12:33:02.058Z"
   },
   {
    "duration": 38,
    "start_time": "2021-12-10T12:33:02.094Z"
   },
   {
    "duration": 37,
    "start_time": "2021-12-10T12:33:02.134Z"
   },
   {
    "duration": 24,
    "start_time": "2021-12-10T12:33:02.173Z"
   },
   {
    "duration": 27,
    "start_time": "2021-12-10T12:33:02.199Z"
   },
   {
    "duration": 33,
    "start_time": "2021-12-10T12:33:02.228Z"
   },
   {
    "duration": 24,
    "start_time": "2021-12-10T12:33:02.263Z"
   },
   {
    "duration": 46,
    "start_time": "2021-12-10T12:33:02.289Z"
   },
   {
    "duration": 55,
    "start_time": "2021-12-10T12:33:02.337Z"
   },
   {
    "duration": 9,
    "start_time": "2021-12-10T12:33:02.394Z"
   },
   {
    "duration": 14,
    "start_time": "2021-12-10T12:33:02.405Z"
   },
   {
    "duration": 35,
    "start_time": "2021-12-10T12:33:02.423Z"
   },
   {
    "duration": 37,
    "start_time": "2021-12-10T12:33:02.461Z"
   },
   {
    "duration": 35,
    "start_time": "2021-12-10T12:33:02.500Z"
   },
   {
    "duration": 778,
    "start_time": "2021-12-10T12:33:02.537Z"
   },
   {
    "duration": 4,
    "start_time": "2021-12-10T12:33:03.317Z"
   },
   {
    "duration": 3102,
    "start_time": "2021-12-10T12:33:03.323Z"
   },
   {
    "duration": 10,
    "start_time": "2021-12-10T12:33:06.427Z"
   },
   {
    "duration": 10,
    "start_time": "2021-12-10T12:33:06.439Z"
   },
   {
    "duration": 31,
    "start_time": "2021-12-10T12:33:06.451Z"
   },
   {
    "duration": 19,
    "start_time": "2021-12-10T12:33:06.484Z"
   },
   {
    "duration": 19,
    "start_time": "2021-12-10T12:33:06.505Z"
   },
   {
    "duration": 24,
    "start_time": "2021-12-10T12:33:06.525Z"
   },
   {
    "duration": 29,
    "start_time": "2021-12-10T12:33:06.551Z"
   },
   {
    "duration": 25,
    "start_time": "2021-12-10T12:33:06.582Z"
   },
   {
    "duration": 18,
    "start_time": "2021-12-10T12:33:06.609Z"
   },
   {
    "duration": 18,
    "start_time": "2021-12-10T12:33:06.628Z"
   },
   {
    "duration": 10,
    "start_time": "2021-12-10T12:33:06.648Z"
   },
   {
    "duration": 29,
    "start_time": "2021-12-10T12:33:06.660Z"
   },
   {
    "duration": 27,
    "start_time": "2021-12-10T12:33:06.691Z"
   },
   {
    "duration": 15,
    "start_time": "2021-12-10T12:33:06.720Z"
   },
   {
    "duration": 8,
    "start_time": "2021-12-10T12:33:06.737Z"
   },
   {
    "duration": 82,
    "start_time": "2021-12-10T12:33:06.746Z"
   },
   {
    "duration": 20,
    "start_time": "2021-12-10T12:33:06.829Z"
   },
   {
    "duration": 33,
    "start_time": "2021-12-10T12:33:06.850Z"
   },
   {
    "duration": 144,
    "start_time": "2021-12-10T12:33:06.885Z"
   },
   {
    "duration": 47,
    "start_time": "2021-12-10T12:33:07.031Z"
   },
   {
    "duration": 173,
    "start_time": "2021-12-10T12:33:07.081Z"
   },
   {
    "duration": 40,
    "start_time": "2021-12-10T12:33:07.257Z"
   },
   {
    "duration": 218,
    "start_time": "2021-12-10T12:33:07.299Z"
   },
   {
    "duration": 28,
    "start_time": "2021-12-10T12:33:07.520Z"
   },
   {
    "duration": 148,
    "start_time": "2021-12-10T12:33:07.549Z"
   },
   {
    "duration": 36,
    "start_time": "2021-12-10T12:33:07.699Z"
   },
   {
    "duration": 36,
    "start_time": "2021-12-10T12:33:07.737Z"
   },
   {
    "duration": 205,
    "start_time": "2021-12-10T12:33:07.775Z"
   },
   {
    "duration": 13,
    "start_time": "2021-12-10T12:38:44.016Z"
   },
   {
    "duration": 13,
    "start_time": "2021-12-10T12:40:41.468Z"
   },
   {
    "duration": 199,
    "start_time": "2021-12-10T12:40:44.344Z"
   },
   {
    "duration": 30,
    "start_time": "2021-12-10T12:52:35.724Z"
   },
   {
    "duration": 29,
    "start_time": "2021-12-10T12:52:47.473Z"
   },
   {
    "duration": 29,
    "start_time": "2021-12-10T12:53:39.065Z"
   },
   {
    "duration": 28,
    "start_time": "2021-12-10T12:53:56.240Z"
   },
   {
    "duration": 32,
    "start_time": "2021-12-10T12:54:53.741Z"
   },
   {
    "duration": 31,
    "start_time": "2021-12-10T12:55:06.829Z"
   },
   {
    "duration": 31,
    "start_time": "2021-12-10T12:55:16.758Z"
   },
   {
    "duration": 242,
    "start_time": "2021-12-10T12:56:39.666Z"
   },
   {
    "duration": 138,
    "start_time": "2021-12-10T12:57:04.830Z"
   },
   {
    "duration": 81,
    "start_time": "2021-12-10T12:58:06.910Z"
   },
   {
    "duration": 33,
    "start_time": "2021-12-10T12:58:12.906Z"
   },
   {
    "duration": 250,
    "start_time": "2021-12-10T12:58:16.478Z"
   },
   {
    "duration": 207,
    "start_time": "2021-12-10T13:08:51.308Z"
   },
   {
    "duration": 12,
    "start_time": "2021-12-10T13:08:51.517Z"
   },
   {
    "duration": 25,
    "start_time": "2021-12-10T13:08:51.531Z"
   },
   {
    "duration": 10,
    "start_time": "2021-12-10T13:08:51.559Z"
   },
   {
    "duration": 17,
    "start_time": "2021-12-10T13:08:51.570Z"
   },
   {
    "duration": 18,
    "start_time": "2021-12-10T13:08:51.589Z"
   },
   {
    "duration": 18,
    "start_time": "2021-12-10T13:08:51.609Z"
   },
   {
    "duration": 71,
    "start_time": "2021-12-10T13:08:51.630Z"
   },
   {
    "duration": 60,
    "start_time": "2021-12-10T13:08:51.703Z"
   },
   {
    "duration": 10,
    "start_time": "2021-12-10T13:08:51.765Z"
   },
   {
    "duration": 15,
    "start_time": "2021-12-10T13:08:51.777Z"
   },
   {
    "duration": 9,
    "start_time": "2021-12-10T13:08:51.794Z"
   },
   {
    "duration": 9,
    "start_time": "2021-12-10T13:08:51.805Z"
   },
   {
    "duration": 52,
    "start_time": "2021-12-10T13:08:51.816Z"
   },
   {
    "duration": 8,
    "start_time": "2021-12-10T13:08:51.870Z"
   },
   {
    "duration": 7,
    "start_time": "2021-12-10T13:08:51.879Z"
   },
   {
    "duration": 8,
    "start_time": "2021-12-10T13:08:51.887Z"
   },
   {
    "duration": 12,
    "start_time": "2021-12-10T13:08:51.897Z"
   },
   {
    "duration": 15,
    "start_time": "2021-12-10T13:08:51.911Z"
   },
   {
    "duration": 30,
    "start_time": "2021-12-10T13:08:51.963Z"
   },
   {
    "duration": 10,
    "start_time": "2021-12-10T13:08:51.995Z"
   },
   {
    "duration": 5,
    "start_time": "2021-12-10T13:08:52.007Z"
   },
   {
    "duration": 12,
    "start_time": "2021-12-10T13:08:52.016Z"
   },
   {
    "duration": 35,
    "start_time": "2021-12-10T13:08:52.030Z"
   },
   {
    "duration": 7,
    "start_time": "2021-12-10T13:08:52.067Z"
   },
   {
    "duration": 730,
    "start_time": "2021-12-10T13:08:52.076Z"
   },
   {
    "duration": 4,
    "start_time": "2021-12-10T13:08:52.808Z"
   },
   {
    "duration": 2965,
    "start_time": "2021-12-10T13:08:52.814Z"
   },
   {
    "duration": 10,
    "start_time": "2021-12-10T13:08:55.781Z"
   },
   {
    "duration": 10,
    "start_time": "2021-12-10T13:08:55.792Z"
   },
   {
    "duration": 13,
    "start_time": "2021-12-10T13:08:55.804Z"
   },
   {
    "duration": 9,
    "start_time": "2021-12-10T13:08:55.819Z"
   },
   {
    "duration": 33,
    "start_time": "2021-12-10T13:08:55.830Z"
   },
   {
    "duration": 10,
    "start_time": "2021-12-10T13:08:55.865Z"
   },
   {
    "duration": 8,
    "start_time": "2021-12-10T13:08:55.877Z"
   },
   {
    "duration": 13,
    "start_time": "2021-12-10T13:08:55.886Z"
   },
   {
    "duration": 12,
    "start_time": "2021-12-10T13:08:55.901Z"
   },
   {
    "duration": 14,
    "start_time": "2021-12-10T13:08:55.914Z"
   },
   {
    "duration": 4,
    "start_time": "2021-12-10T13:08:55.929Z"
   },
   {
    "duration": 12,
    "start_time": "2021-12-10T13:08:55.964Z"
   },
   {
    "duration": 17,
    "start_time": "2021-12-10T13:08:55.978Z"
   },
   {
    "duration": 10,
    "start_time": "2021-12-10T13:08:55.996Z"
   },
   {
    "duration": 4,
    "start_time": "2021-12-10T13:08:56.007Z"
   },
   {
    "duration": 72,
    "start_time": "2021-12-10T13:08:56.013Z"
   },
   {
    "duration": 19,
    "start_time": "2021-12-10T13:08:56.087Z"
   },
   {
    "duration": 27,
    "start_time": "2021-12-10T13:08:56.108Z"
   },
   {
    "duration": 154,
    "start_time": "2021-12-10T13:08:56.136Z"
   },
   {
    "duration": 28,
    "start_time": "2021-12-10T13:08:56.292Z"
   },
   {
    "duration": 168,
    "start_time": "2021-12-10T13:08:56.322Z"
   },
   {
    "duration": 32,
    "start_time": "2021-12-10T13:08:56.492Z"
   },
   {
    "duration": 300,
    "start_time": "2021-12-10T13:08:56.526Z"
   },
   {
    "duration": 37,
    "start_time": "2021-12-10T13:08:56.828Z"
   },
   {
    "duration": 135,
    "start_time": "2021-12-10T13:08:56.867Z"
   },
   {
    "duration": 34,
    "start_time": "2021-12-10T13:08:57.003Z"
   },
   {
    "duration": 25,
    "start_time": "2021-12-10T13:08:57.039Z"
   },
   {
    "duration": 193,
    "start_time": "2021-12-10T13:08:57.066Z"
   },
   {
    "duration": 34,
    "start_time": "2021-12-10T13:08:57.263Z"
   },
   {
    "duration": 164,
    "start_time": "2021-12-10T13:08:57.299Z"
   },
   {
    "duration": 205,
    "start_time": "2021-12-10T13:49:01.927Z"
   },
   {
    "duration": 12,
    "start_time": "2021-12-10T13:49:02.134Z"
   },
   {
    "duration": 32,
    "start_time": "2021-12-10T13:49:02.148Z"
   },
   {
    "duration": 24,
    "start_time": "2021-12-10T13:49:02.182Z"
   },
   {
    "duration": 21,
    "start_time": "2021-12-10T13:49:02.208Z"
   },
   {
    "duration": 33,
    "start_time": "2021-12-10T13:49:02.231Z"
   },
   {
    "duration": 25,
    "start_time": "2021-12-10T13:49:02.266Z"
   },
   {
    "duration": 52,
    "start_time": "2021-12-10T13:49:02.293Z"
   },
   {
    "duration": 46,
    "start_time": "2021-12-10T13:49:02.348Z"
   },
   {
    "duration": 10,
    "start_time": "2021-12-10T13:49:02.396Z"
   },
   {
    "duration": 41,
    "start_time": "2021-12-10T13:49:02.407Z"
   },
   {
    "duration": 17,
    "start_time": "2021-12-10T13:49:02.450Z"
   },
   {
    "duration": 15,
    "start_time": "2021-12-10T13:49:02.469Z"
   },
   {
    "duration": 24,
    "start_time": "2021-12-10T13:49:02.486Z"
   },
   {
    "duration": 14,
    "start_time": "2021-12-10T13:49:02.512Z"
   },
   {
    "duration": 9,
    "start_time": "2021-12-10T13:49:02.528Z"
   },
   {
    "duration": 21,
    "start_time": "2021-12-10T13:49:02.538Z"
   },
   {
    "duration": 23,
    "start_time": "2021-12-10T13:49:02.560Z"
   },
   {
    "duration": 21,
    "start_time": "2021-12-10T13:49:02.585Z"
   },
   {
    "duration": 30,
    "start_time": "2021-12-10T13:49:02.608Z"
   },
   {
    "duration": 10,
    "start_time": "2021-12-10T13:49:02.639Z"
   },
   {
    "duration": 19,
    "start_time": "2021-12-10T13:49:02.650Z"
   },
   {
    "duration": 16,
    "start_time": "2021-12-10T13:49:02.673Z"
   },
   {
    "duration": 38,
    "start_time": "2021-12-10T13:49:02.691Z"
   },
   {
    "duration": 14,
    "start_time": "2021-12-10T13:49:02.730Z"
   },
   {
    "duration": 703,
    "start_time": "2021-12-10T13:49:02.746Z"
   },
   {
    "duration": 11,
    "start_time": "2021-12-10T13:49:03.452Z"
   },
   {
    "duration": 2987,
    "start_time": "2021-12-10T13:49:03.465Z"
   },
   {
    "duration": 8,
    "start_time": "2021-12-10T13:49:06.463Z"
   },
   {
    "duration": 3,
    "start_time": "2021-12-10T13:49:06.473Z"
   },
   {
    "duration": 12,
    "start_time": "2021-12-10T13:49:06.477Z"
   },
   {
    "duration": 23,
    "start_time": "2021-12-10T13:49:06.491Z"
   },
   {
    "duration": 9,
    "start_time": "2021-12-10T13:49:06.516Z"
   },
   {
    "duration": 8,
    "start_time": "2021-12-10T13:49:06.527Z"
   },
   {
    "duration": 28,
    "start_time": "2021-12-10T13:49:06.537Z"
   },
   {
    "duration": 10,
    "start_time": "2021-12-10T13:49:06.567Z"
   },
   {
    "duration": 11,
    "start_time": "2021-12-10T13:49:06.579Z"
   },
   {
    "duration": 10,
    "start_time": "2021-12-10T13:49:06.591Z"
   },
   {
    "duration": 3,
    "start_time": "2021-12-10T13:49:06.602Z"
   },
   {
    "duration": 17,
    "start_time": "2021-12-10T13:49:06.607Z"
   },
   {
    "duration": 37,
    "start_time": "2021-12-10T13:49:06.626Z"
   },
   {
    "duration": 10,
    "start_time": "2021-12-10T13:49:06.665Z"
   },
   {
    "duration": 4,
    "start_time": "2021-12-10T13:49:06.676Z"
   },
   {
    "duration": 53,
    "start_time": "2021-12-10T13:49:06.682Z"
   },
   {
    "duration": 34,
    "start_time": "2021-12-10T13:49:06.737Z"
   },
   {
    "duration": 27,
    "start_time": "2021-12-10T13:49:06.773Z"
   },
   {
    "duration": 136,
    "start_time": "2021-12-10T13:49:06.802Z"
   },
   {
    "duration": 40,
    "start_time": "2021-12-10T13:49:06.939Z"
   },
   {
    "duration": 150,
    "start_time": "2021-12-10T13:49:06.980Z"
   },
   {
    "duration": 44,
    "start_time": "2021-12-10T13:49:07.132Z"
   },
   {
    "duration": 166,
    "start_time": "2021-12-10T13:49:07.178Z"
   },
   {
    "duration": 36,
    "start_time": "2021-12-10T13:49:07.346Z"
   },
   {
    "duration": 133,
    "start_time": "2021-12-10T13:49:07.384Z"
   },
   {
    "duration": 33,
    "start_time": "2021-12-10T13:49:07.519Z"
   },
   {
    "duration": 23,
    "start_time": "2021-12-10T13:49:07.554Z"
   },
   {
    "duration": 197,
    "start_time": "2021-12-10T13:49:07.579Z"
   },
   {
    "duration": 30,
    "start_time": "2021-12-10T13:49:07.777Z"
   },
   {
    "duration": 153,
    "start_time": "2021-12-10T13:49:07.809Z"
   },
   {
    "duration": 1367,
    "start_time": "2021-12-10T13:49:24.128Z"
   },
   {
    "duration": 14,
    "start_time": "2021-12-10T13:49:25.497Z"
   },
   {
    "duration": 20,
    "start_time": "2021-12-10T13:49:25.512Z"
   },
   {
    "duration": 10,
    "start_time": "2021-12-10T13:49:25.533Z"
   },
   {
    "duration": 24,
    "start_time": "2021-12-10T13:49:25.544Z"
   },
   {
    "duration": 18,
    "start_time": "2021-12-10T13:49:25.570Z"
   },
   {
    "duration": 18,
    "start_time": "2021-12-10T13:49:25.590Z"
   },
   {
    "duration": 71,
    "start_time": "2021-12-10T13:49:25.610Z"
   },
   {
    "duration": 42,
    "start_time": "2021-12-10T13:49:25.683Z"
   },
   {
    "duration": 9,
    "start_time": "2021-12-10T13:49:25.727Z"
   },
   {
    "duration": 34,
    "start_time": "2021-12-10T13:49:25.738Z"
   },
   {
    "duration": 7,
    "start_time": "2021-12-10T13:49:25.774Z"
   },
   {
    "duration": 10,
    "start_time": "2021-12-10T13:49:25.782Z"
   },
   {
    "duration": 16,
    "start_time": "2021-12-10T13:49:25.794Z"
   },
   {
    "duration": 6,
    "start_time": "2021-12-10T13:49:25.811Z"
   },
   {
    "duration": 7,
    "start_time": "2021-12-10T13:49:25.819Z"
   },
   {
    "duration": 40,
    "start_time": "2021-12-10T13:49:25.827Z"
   },
   {
    "duration": 10,
    "start_time": "2021-12-10T13:49:25.869Z"
   },
   {
    "duration": 14,
    "start_time": "2021-12-10T13:49:25.880Z"
   },
   {
    "duration": 26,
    "start_time": "2021-12-10T13:49:25.895Z"
   },
   {
    "duration": 8,
    "start_time": "2021-12-10T13:49:25.923Z"
   },
   {
    "duration": 30,
    "start_time": "2021-12-10T13:49:25.933Z"
   },
   {
    "duration": 13,
    "start_time": "2021-12-10T13:49:25.967Z"
   },
   {
    "duration": 10,
    "start_time": "2021-12-10T13:49:25.982Z"
   },
   {
    "duration": 13,
    "start_time": "2021-12-10T13:49:25.993Z"
   },
   {
    "duration": 679,
    "start_time": "2021-12-10T13:49:26.008Z"
   },
   {
    "duration": 4,
    "start_time": "2021-12-10T13:49:26.689Z"
   },
   {
    "duration": 3036,
    "start_time": "2021-12-10T13:49:26.695Z"
   },
   {
    "duration": 10,
    "start_time": "2021-12-10T13:49:29.732Z"
   },
   {
    "duration": 20,
    "start_time": "2021-12-10T13:49:29.743Z"
   },
   {
    "duration": 12,
    "start_time": "2021-12-10T13:49:29.765Z"
   },
   {
    "duration": 25,
    "start_time": "2021-12-10T13:49:29.779Z"
   },
   {
    "duration": 16,
    "start_time": "2021-12-10T13:49:29.806Z"
   },
   {
    "duration": 9,
    "start_time": "2021-12-10T13:49:29.824Z"
   },
   {
    "duration": 8,
    "start_time": "2021-12-10T13:49:29.835Z"
   },
   {
    "duration": 22,
    "start_time": "2021-12-10T13:49:29.845Z"
   },
   {
    "duration": 14,
    "start_time": "2021-12-10T13:49:29.869Z"
   },
   {
    "duration": 11,
    "start_time": "2021-12-10T13:49:29.885Z"
   },
   {
    "duration": 3,
    "start_time": "2021-12-10T13:49:29.898Z"
   },
   {
    "duration": 16,
    "start_time": "2021-12-10T13:49:29.903Z"
   },
   {
    "duration": 13,
    "start_time": "2021-12-10T13:49:29.921Z"
   },
   {
    "duration": 36,
    "start_time": "2021-12-10T13:49:29.936Z"
   },
   {
    "duration": 4,
    "start_time": "2021-12-10T13:49:29.973Z"
   },
   {
    "duration": 55,
    "start_time": "2021-12-10T13:49:29.978Z"
   },
   {
    "duration": 40,
    "start_time": "2021-12-10T13:49:30.035Z"
   },
   {
    "duration": 29,
    "start_time": "2021-12-10T13:49:30.077Z"
   },
   {
    "duration": 144,
    "start_time": "2021-12-10T13:49:30.108Z"
   },
   {
    "duration": 33,
    "start_time": "2021-12-10T13:49:30.253Z"
   },
   {
    "duration": 168,
    "start_time": "2021-12-10T13:49:30.288Z"
   },
   {
    "duration": 32,
    "start_time": "2021-12-10T13:49:30.458Z"
   },
   {
    "duration": 166,
    "start_time": "2021-12-10T13:49:30.493Z"
   },
   {
    "duration": 25,
    "start_time": "2021-12-10T13:49:30.663Z"
   },
   {
    "duration": 154,
    "start_time": "2021-12-10T13:49:30.690Z"
   },
   {
    "duration": 32,
    "start_time": "2021-12-10T13:49:30.846Z"
   },
   {
    "duration": 17,
    "start_time": "2021-12-10T13:49:30.880Z"
   },
   {
    "duration": 228,
    "start_time": "2021-12-10T13:49:30.899Z"
   },
   {
    "duration": 36,
    "start_time": "2021-12-10T13:49:31.129Z"
   },
   {
    "duration": 151,
    "start_time": "2021-12-10T13:49:31.167Z"
   },
   {
    "duration": 12,
    "start_time": "2021-12-10T14:06:25.832Z"
   },
   {
    "duration": 13,
    "start_time": "2021-12-10T14:06:33.398Z"
   },
   {
    "duration": 1478,
    "start_time": "2021-12-10T14:41:28.117Z"
   },
   {
    "duration": 15,
    "start_time": "2021-12-10T14:41:29.597Z"
   },
   {
    "duration": 14,
    "start_time": "2021-12-10T14:41:29.615Z"
   },
   {
    "duration": 10,
    "start_time": "2021-12-10T14:41:29.631Z"
   },
   {
    "duration": 28,
    "start_time": "2021-12-10T14:41:29.642Z"
   },
   {
    "duration": 17,
    "start_time": "2021-12-10T14:41:29.672Z"
   },
   {
    "duration": 19,
    "start_time": "2021-12-10T14:41:29.691Z"
   },
   {
    "duration": 76,
    "start_time": "2021-12-10T14:41:29.713Z"
   },
   {
    "duration": 43,
    "start_time": "2021-12-10T14:41:29.792Z"
   },
   {
    "duration": 31,
    "start_time": "2021-12-10T14:41:29.836Z"
   },
   {
    "duration": 17,
    "start_time": "2021-12-10T14:41:29.869Z"
   },
   {
    "duration": 6,
    "start_time": "2021-12-10T14:41:29.887Z"
   },
   {
    "duration": 13,
    "start_time": "2021-12-10T14:41:29.894Z"
   },
   {
    "duration": 19,
    "start_time": "2021-12-10T14:41:29.909Z"
   },
   {
    "duration": 8,
    "start_time": "2021-12-10T14:41:29.964Z"
   },
   {
    "duration": 6,
    "start_time": "2021-12-10T14:41:29.974Z"
   },
   {
    "duration": 7,
    "start_time": "2021-12-10T14:41:29.982Z"
   },
   {
    "duration": 11,
    "start_time": "2021-12-10T14:41:29.991Z"
   },
   {
    "duration": 21,
    "start_time": "2021-12-10T14:41:30.003Z"
   },
   {
    "duration": 63,
    "start_time": "2021-12-10T14:41:30.026Z"
   },
   {
    "duration": 11,
    "start_time": "2021-12-10T14:41:30.091Z"
   },
   {
    "duration": 9,
    "start_time": "2021-12-10T14:41:30.104Z"
   },
   {
    "duration": 19,
    "start_time": "2021-12-10T14:41:30.117Z"
   },
   {
    "duration": 34,
    "start_time": "2021-12-10T14:41:30.139Z"
   },
   {
    "duration": 20,
    "start_time": "2021-12-10T14:41:30.176Z"
   },
   {
    "duration": 682,
    "start_time": "2021-12-10T14:41:30.197Z"
   },
   {
    "duration": 4,
    "start_time": "2021-12-10T14:41:30.881Z"
   },
   {
    "duration": 2950,
    "start_time": "2021-12-10T14:41:30.886Z"
   },
   {
    "duration": 10,
    "start_time": "2021-12-10T14:41:33.838Z"
   },
   {
    "duration": 4,
    "start_time": "2021-12-10T14:41:33.864Z"
   },
   {
    "duration": 13,
    "start_time": "2021-12-10T14:41:33.870Z"
   },
   {
    "duration": 14,
    "start_time": "2021-12-10T14:41:33.885Z"
   },
   {
    "duration": 10,
    "start_time": "2021-12-10T14:41:33.901Z"
   },
   {
    "duration": 10,
    "start_time": "2021-12-10T14:41:33.912Z"
   },
   {
    "duration": 8,
    "start_time": "2021-12-10T14:41:33.924Z"
   },
   {
    "duration": 40,
    "start_time": "2021-12-10T14:41:33.934Z"
   },
   {
    "duration": 11,
    "start_time": "2021-12-10T14:41:33.975Z"
   },
   {
    "duration": 12,
    "start_time": "2021-12-10T14:41:33.987Z"
   },
   {
    "duration": 3,
    "start_time": "2021-12-10T14:41:34.001Z"
   },
   {
    "duration": 19,
    "start_time": "2021-12-10T14:41:34.005Z"
   },
   {
    "duration": 13,
    "start_time": "2021-12-10T14:41:34.026Z"
   },
   {
    "duration": 31,
    "start_time": "2021-12-10T14:41:34.040Z"
   },
   {
    "duration": 4,
    "start_time": "2021-12-10T14:41:34.072Z"
   },
   {
    "duration": 62,
    "start_time": "2021-12-10T14:41:34.078Z"
   },
   {
    "duration": 36,
    "start_time": "2021-12-10T14:41:34.142Z"
   },
   {
    "duration": 30,
    "start_time": "2021-12-10T14:41:34.180Z"
   },
   {
    "duration": 153,
    "start_time": "2021-12-10T14:41:34.212Z"
   },
   {
    "duration": 28,
    "start_time": "2021-12-10T14:41:34.366Z"
   },
   {
    "duration": 162,
    "start_time": "2021-12-10T14:41:34.396Z"
   },
   {
    "duration": 31,
    "start_time": "2021-12-10T14:41:34.563Z"
   },
   {
    "duration": 167,
    "start_time": "2021-12-10T14:41:34.595Z"
   },
   {
    "duration": 27,
    "start_time": "2021-12-10T14:41:34.763Z"
   },
   {
    "duration": 138,
    "start_time": "2021-12-10T14:41:34.792Z"
   },
   {
    "duration": 50,
    "start_time": "2021-12-10T14:41:34.932Z"
   },
   {
    "duration": 15,
    "start_time": "2021-12-10T14:41:34.985Z"
   },
   {
    "duration": 325,
    "start_time": "2021-12-10T14:41:35.002Z"
   },
   {
    "duration": 48,
    "start_time": "2021-12-10T14:41:35.329Z"
   },
   {
    "duration": 156,
    "start_time": "2021-12-10T14:41:35.379Z"
   },
   {
    "duration": 1225,
    "start_time": "2021-12-11T08:18:33.823Z"
   },
   {
    "duration": 14,
    "start_time": "2021-12-11T08:18:35.050Z"
   },
   {
    "duration": 13,
    "start_time": "2021-12-11T08:18:35.066Z"
   },
   {
    "duration": 9,
    "start_time": "2021-12-11T08:18:35.081Z"
   },
   {
    "duration": 8,
    "start_time": "2021-12-11T08:18:35.092Z"
   },
   {
    "duration": 15,
    "start_time": "2021-12-11T08:18:35.102Z"
   },
   {
    "duration": 17,
    "start_time": "2021-12-11T08:18:35.118Z"
   },
   {
    "duration": 66,
    "start_time": "2021-12-11T08:18:35.136Z"
   },
   {
    "duration": 39,
    "start_time": "2021-12-11T08:18:35.205Z"
   },
   {
    "duration": 8,
    "start_time": "2021-12-11T08:18:35.245Z"
   },
   {
    "duration": 37,
    "start_time": "2021-12-11T08:18:35.255Z"
   },
   {
    "duration": 4,
    "start_time": "2021-12-11T08:18:35.294Z"
   },
   {
    "duration": 12,
    "start_time": "2021-12-11T08:18:35.299Z"
   },
   {
    "duration": 16,
    "start_time": "2021-12-11T08:18:35.312Z"
   },
   {
    "duration": 6,
    "start_time": "2021-12-11T08:18:35.329Z"
   },
   {
    "duration": 9,
    "start_time": "2021-12-11T08:18:35.336Z"
   },
   {
    "duration": 8,
    "start_time": "2021-12-11T08:18:35.347Z"
   },
   {
    "duration": 37,
    "start_time": "2021-12-11T08:18:35.357Z"
   },
   {
    "duration": 13,
    "start_time": "2021-12-11T08:18:35.396Z"
   },
   {
    "duration": 26,
    "start_time": "2021-12-11T08:18:35.410Z"
   },
   {
    "duration": 9,
    "start_time": "2021-12-11T08:18:35.438Z"
   },
   {
    "duration": 5,
    "start_time": "2021-12-11T08:18:35.448Z"
   },
   {
    "duration": 45,
    "start_time": "2021-12-11T08:18:35.454Z"
   },
   {
    "duration": 5,
    "start_time": "2021-12-11T08:18:35.501Z"
   },
   {
    "duration": 8,
    "start_time": "2021-12-11T08:18:35.507Z"
   },
   {
    "duration": 640,
    "start_time": "2021-12-11T08:18:35.516Z"
   },
   {
    "duration": 3,
    "start_time": "2021-12-11T08:18:36.160Z"
   },
   {
    "duration": 2614,
    "start_time": "2021-12-11T08:18:36.165Z"
   },
   {
    "duration": 16,
    "start_time": "2021-12-11T08:18:38.780Z"
   },
   {
    "duration": 7,
    "start_time": "2021-12-11T08:18:38.797Z"
   },
   {
    "duration": 12,
    "start_time": "2021-12-11T08:18:38.805Z"
   },
   {
    "duration": 14,
    "start_time": "2021-12-11T08:18:38.819Z"
   },
   {
    "duration": 8,
    "start_time": "2021-12-11T08:18:38.835Z"
   },
   {
    "duration": 8,
    "start_time": "2021-12-11T08:18:38.844Z"
   },
   {
    "duration": 38,
    "start_time": "2021-12-11T08:18:38.854Z"
   },
   {
    "duration": 9,
    "start_time": "2021-12-11T08:18:38.894Z"
   },
   {
    "duration": 10,
    "start_time": "2021-12-11T08:18:38.905Z"
   },
   {
    "duration": 9,
    "start_time": "2021-12-11T08:18:38.916Z"
   },
   {
    "duration": 2,
    "start_time": "2021-12-11T08:18:38.927Z"
   },
   {
    "duration": 14,
    "start_time": "2021-12-11T08:18:38.930Z"
   },
   {
    "duration": 11,
    "start_time": "2021-12-11T08:18:38.945Z"
   },
   {
    "duration": 35,
    "start_time": "2021-12-11T08:18:38.957Z"
   },
   {
    "duration": 5,
    "start_time": "2021-12-11T08:18:38.994Z"
   },
   {
    "duration": 56,
    "start_time": "2021-12-11T08:18:39.001Z"
   },
   {
    "duration": 17,
    "start_time": "2021-12-11T08:18:39.059Z"
   },
   {
    "duration": 39,
    "start_time": "2021-12-11T08:18:39.077Z"
   },
   {
    "duration": 130,
    "start_time": "2021-12-11T08:18:39.118Z"
   },
   {
    "duration": 25,
    "start_time": "2021-12-11T08:18:39.249Z"
   },
   {
    "duration": 161,
    "start_time": "2021-12-11T08:18:39.275Z"
   },
   {
    "duration": 29,
    "start_time": "2021-12-11T08:18:39.438Z"
   },
   {
    "duration": 172,
    "start_time": "2021-12-11T08:18:39.469Z"
   },
   {
    "duration": 24,
    "start_time": "2021-12-11T08:18:39.643Z"
   },
   {
    "duration": 138,
    "start_time": "2021-12-11T08:18:39.668Z"
   },
   {
    "duration": 31,
    "start_time": "2021-12-11T08:18:39.807Z"
   },
   {
    "duration": 17,
    "start_time": "2021-12-11T08:18:39.840Z"
   },
   {
    "duration": 218,
    "start_time": "2021-12-11T08:18:39.859Z"
   },
   {
    "duration": 36,
    "start_time": "2021-12-11T08:18:40.079Z"
   },
   {
    "duration": 154,
    "start_time": "2021-12-11T08:18:40.117Z"
   },
   {
    "duration": 493,
    "start_time": "2021-12-11T08:23:13.689Z"
   },
   {
    "duration": 249,
    "start_time": "2021-12-11T09:09:32.249Z"
   },
   {
    "duration": 1378,
    "start_time": "2021-12-11T09:09:48.284Z"
   },
   {
    "duration": 15,
    "start_time": "2021-12-11T09:09:49.664Z"
   },
   {
    "duration": 16,
    "start_time": "2021-12-11T09:09:49.681Z"
   },
   {
    "duration": 21,
    "start_time": "2021-12-11T09:09:49.700Z"
   },
   {
    "duration": 9,
    "start_time": "2021-12-11T09:09:49.723Z"
   },
   {
    "duration": 17,
    "start_time": "2021-12-11T09:09:49.734Z"
   },
   {
    "duration": 17,
    "start_time": "2021-12-11T09:09:49.753Z"
   },
   {
    "duration": 56,
    "start_time": "2021-12-11T09:09:49.772Z"
   },
   {
    "duration": 39,
    "start_time": "2021-12-11T09:09:49.830Z"
   },
   {
    "duration": 33,
    "start_time": "2021-12-11T09:09:49.871Z"
   },
   {
    "duration": 20,
    "start_time": "2021-12-11T09:09:49.907Z"
   },
   {
    "duration": 5,
    "start_time": "2021-12-11T09:09:49.929Z"
   },
   {
    "duration": 65,
    "start_time": "2021-12-11T09:09:49.936Z"
   },
   {
    "duration": 27,
    "start_time": "2021-12-11T09:09:50.004Z"
   },
   {
    "duration": 9,
    "start_time": "2021-12-11T09:09:50.033Z"
   },
   {
    "duration": 53,
    "start_time": "2021-12-11T09:09:50.043Z"
   },
   {
    "duration": 10,
    "start_time": "2021-12-11T09:09:50.098Z"
   },
   {
    "duration": 16,
    "start_time": "2021-12-11T09:09:50.110Z"
   },
   {
    "duration": 74,
    "start_time": "2021-12-11T09:09:50.128Z"
   },
   {
    "duration": 40,
    "start_time": "2021-12-11T09:09:50.204Z"
   },
   {
    "duration": 10,
    "start_time": "2021-12-11T09:09:50.246Z"
   },
   {
    "duration": 4,
    "start_time": "2021-12-11T09:09:50.258Z"
   },
   {
    "duration": 30,
    "start_time": "2021-12-11T09:09:50.264Z"
   },
   {
    "duration": 14,
    "start_time": "2021-12-11T09:09:50.297Z"
   },
   {
    "duration": 13,
    "start_time": "2021-12-11T09:09:50.312Z"
   },
   {
    "duration": 959,
    "start_time": "2021-12-11T09:09:50.327Z"
   },
   {
    "duration": 14,
    "start_time": "2021-12-11T09:09:51.290Z"
   },
   {
    "duration": 3004,
    "start_time": "2021-12-11T09:09:51.307Z"
   },
   {
    "duration": 9,
    "start_time": "2021-12-11T09:09:54.313Z"
   },
   {
    "duration": 3,
    "start_time": "2021-12-11T09:09:54.324Z"
   },
   {
    "duration": 11,
    "start_time": "2021-12-11T09:09:54.329Z"
   },
   {
    "duration": 10,
    "start_time": "2021-12-11T09:09:54.342Z"
   },
   {
    "duration": 9,
    "start_time": "2021-12-11T09:09:54.353Z"
   },
   {
    "duration": 16,
    "start_time": "2021-12-11T09:09:54.391Z"
   },
   {
    "duration": 7,
    "start_time": "2021-12-11T09:09:54.409Z"
   },
   {
    "duration": 8,
    "start_time": "2021-12-11T09:09:54.418Z"
   },
   {
    "duration": 9,
    "start_time": "2021-12-11T09:09:54.428Z"
   },
   {
    "duration": 10,
    "start_time": "2021-12-11T09:09:54.439Z"
   },
   {
    "duration": 3,
    "start_time": "2021-12-11T09:09:54.450Z"
   },
   {
    "duration": 56,
    "start_time": "2021-12-11T09:09:54.454Z"
   },
   {
    "duration": 10,
    "start_time": "2021-12-11T09:09:54.511Z"
   },
   {
    "duration": 9,
    "start_time": "2021-12-11T09:09:54.522Z"
   },
   {
    "duration": 4,
    "start_time": "2021-12-11T09:09:54.532Z"
   },
   {
    "duration": 81,
    "start_time": "2021-12-11T09:09:54.537Z"
   },
   {
    "duration": 18,
    "start_time": "2021-12-11T09:09:54.620Z"
   },
   {
    "duration": 25,
    "start_time": "2021-12-11T09:09:54.639Z"
   },
   {
    "duration": 161,
    "start_time": "2021-12-11T09:09:54.665Z"
   },
   {
    "duration": 24,
    "start_time": "2021-12-11T09:09:54.827Z"
   },
   {
    "duration": 181,
    "start_time": "2021-12-11T09:09:54.852Z"
   },
   {
    "duration": 30,
    "start_time": "2021-12-11T09:09:55.034Z"
   },
   {
    "duration": 190,
    "start_time": "2021-12-11T09:09:55.065Z"
   },
   {
    "duration": 37,
    "start_time": "2021-12-11T09:09:55.257Z"
   },
   {
    "duration": 142,
    "start_time": "2021-12-11T09:09:55.297Z"
   },
   {
    "duration": 32,
    "start_time": "2021-12-11T09:09:55.441Z"
   },
   {
    "duration": 31,
    "start_time": "2021-12-11T09:09:55.475Z"
   },
   {
    "duration": 230,
    "start_time": "2021-12-11T09:09:55.508Z"
   },
   {
    "duration": 31,
    "start_time": "2021-12-11T09:09:55.740Z"
   },
   {
    "duration": 180,
    "start_time": "2021-12-11T09:09:55.773Z"
   },
   {
    "duration": 65,
    "start_time": "2021-12-11T09:17:17.711Z"
   },
   {
    "duration": 3037,
    "start_time": "2021-12-11T09:25:11.968Z"
   },
   {
    "duration": 16,
    "start_time": "2021-12-11T09:25:15.006Z"
   },
   {
    "duration": 16,
    "start_time": "2021-12-11T09:25:15.024Z"
   },
   {
    "duration": 8,
    "start_time": "2021-12-11T09:25:15.042Z"
   },
   {
    "duration": 10,
    "start_time": "2021-12-11T09:25:15.052Z"
   },
   {
    "duration": 38,
    "start_time": "2021-12-11T09:25:15.063Z"
   },
   {
    "duration": 41,
    "start_time": "2021-12-11T09:25:15.103Z"
   },
   {
    "duration": 42,
    "start_time": "2021-12-11T09:25:15.147Z"
   },
   {
    "duration": 38,
    "start_time": "2021-12-11T09:25:15.191Z"
   },
   {
    "duration": 9,
    "start_time": "2021-12-11T09:25:15.231Z"
   },
   {
    "duration": 18,
    "start_time": "2021-12-11T09:25:15.241Z"
   },
   {
    "duration": 12,
    "start_time": "2021-12-11T09:25:15.261Z"
   },
   {
    "duration": 28,
    "start_time": "2021-12-11T09:25:15.275Z"
   },
   {
    "duration": 17,
    "start_time": "2021-12-11T09:25:15.305Z"
   },
   {
    "duration": 15,
    "start_time": "2021-12-11T09:25:15.323Z"
   },
   {
    "duration": 16,
    "start_time": "2021-12-11T09:25:15.339Z"
   },
   {
    "duration": 13,
    "start_time": "2021-12-11T09:25:15.357Z"
   },
   {
    "duration": 20,
    "start_time": "2021-12-11T09:25:15.372Z"
   },
   {
    "duration": 23,
    "start_time": "2021-12-11T09:25:15.394Z"
   },
   {
    "duration": 25,
    "start_time": "2021-12-11T09:25:15.419Z"
   },
   {
    "duration": 9,
    "start_time": "2021-12-11T09:25:15.445Z"
   },
   {
    "duration": 8,
    "start_time": "2021-12-11T09:25:15.456Z"
   },
   {
    "duration": 24,
    "start_time": "2021-12-11T09:25:15.468Z"
   },
   {
    "duration": 28,
    "start_time": "2021-12-11T09:25:15.495Z"
   },
   {
    "duration": 19,
    "start_time": "2021-12-11T09:25:15.525Z"
   },
   {
    "duration": 633,
    "start_time": "2021-12-11T09:25:15.545Z"
   },
   {
    "duration": 12,
    "start_time": "2021-12-11T09:25:16.180Z"
   },
   {
    "duration": 2754,
    "start_time": "2021-12-11T09:25:16.194Z"
   },
   {
    "duration": 8,
    "start_time": "2021-12-11T09:25:18.950Z"
   },
   {
    "duration": 3,
    "start_time": "2021-12-11T09:25:18.960Z"
   },
   {
    "duration": 30,
    "start_time": "2021-12-11T09:25:18.965Z"
   },
   {
    "duration": 10,
    "start_time": "2021-12-11T09:25:18.997Z"
   },
   {
    "duration": 9,
    "start_time": "2021-12-11T09:25:19.008Z"
   },
   {
    "duration": 8,
    "start_time": "2021-12-11T09:25:19.018Z"
   },
   {
    "duration": 8,
    "start_time": "2021-12-11T09:25:19.027Z"
   },
   {
    "duration": 9,
    "start_time": "2021-12-11T09:25:19.036Z"
   },
   {
    "duration": 45,
    "start_time": "2021-12-11T09:25:19.046Z"
   },
   {
    "duration": 12,
    "start_time": "2021-12-11T09:25:19.093Z"
   },
   {
    "duration": 3,
    "start_time": "2021-12-11T09:25:19.107Z"
   },
   {
    "duration": 13,
    "start_time": "2021-12-11T09:25:19.112Z"
   },
   {
    "duration": 10,
    "start_time": "2021-12-11T09:25:19.126Z"
   },
   {
    "duration": 10,
    "start_time": "2021-12-11T09:25:19.138Z"
   },
   {
    "duration": 45,
    "start_time": "2021-12-11T09:25:19.149Z"
   },
   {
    "duration": 47,
    "start_time": "2021-12-11T09:25:19.196Z"
   },
   {
    "duration": 19,
    "start_time": "2021-12-11T09:25:19.245Z"
   },
   {
    "duration": 48,
    "start_time": "2021-12-11T09:25:19.266Z"
   },
   {
    "duration": 141,
    "start_time": "2021-12-11T09:25:19.316Z"
   },
   {
    "duration": 39,
    "start_time": "2021-12-11T09:25:19.459Z"
   },
   {
    "duration": 161,
    "start_time": "2021-12-11T09:25:19.499Z"
   },
   {
    "duration": 43,
    "start_time": "2021-12-11T09:25:19.662Z"
   },
   {
    "duration": 168,
    "start_time": "2021-12-11T09:25:19.707Z"
   },
   {
    "duration": 34,
    "start_time": "2021-12-11T09:25:19.877Z"
   },
   {
    "duration": 139,
    "start_time": "2021-12-11T09:25:19.913Z"
   },
   {
    "duration": 45,
    "start_time": "2021-12-11T09:25:20.055Z"
   },
   {
    "duration": 13,
    "start_time": "2021-12-11T09:25:20.102Z"
   },
   {
    "duration": 221,
    "start_time": "2021-12-11T09:25:20.116Z"
   },
   {
    "duration": 30,
    "start_time": "2021-12-11T09:25:20.340Z"
   },
   {
    "duration": 166,
    "start_time": "2021-12-11T09:25:20.372Z"
   },
   {
    "duration": 710,
    "start_time": "2021-12-11T10:51:39.453Z"
   },
   {
    "duration": 1414,
    "start_time": "2021-12-11T10:51:52.998Z"
   },
   {
    "duration": 15,
    "start_time": "2021-12-11T10:51:54.414Z"
   },
   {
    "duration": 12,
    "start_time": "2021-12-11T10:51:54.431Z"
   },
   {
    "duration": 8,
    "start_time": "2021-12-11T10:51:54.445Z"
   },
   {
    "duration": 9,
    "start_time": "2021-12-11T10:51:54.455Z"
   },
   {
    "duration": 20,
    "start_time": "2021-12-11T10:52:00.472Z"
   },
   {
    "duration": 115,
    "start_time": "2021-12-11T11:52:18.646Z"
   },
   {
    "duration": 175,
    "start_time": "2021-12-11T11:55:05.073Z"
   },
   {
    "duration": 392,
    "start_time": "2021-12-11T12:43:43.347Z"
   },
   {
    "duration": 333,
    "start_time": "2021-12-11T12:43:47.512Z"
   },
   {
    "duration": 337,
    "start_time": "2021-12-11T12:43:55.848Z"
   },
   {
    "duration": 11,
    "start_time": "2021-12-11T12:43:56.186Z"
   },
   {
    "duration": 14,
    "start_time": "2021-12-11T12:43:56.199Z"
   },
   {
    "duration": 12,
    "start_time": "2021-12-11T12:43:56.215Z"
   },
   {
    "duration": 11,
    "start_time": "2021-12-11T12:43:56.228Z"
   },
   {
    "duration": 18,
    "start_time": "2021-12-11T12:43:56.240Z"
   },
   {
    "duration": 54,
    "start_time": "2021-12-11T12:43:56.259Z"
   },
   {
    "duration": 47,
    "start_time": "2021-12-11T12:43:56.316Z"
   },
   {
    "duration": 59,
    "start_time": "2021-12-11T12:43:56.365Z"
   },
   {
    "duration": 9,
    "start_time": "2021-12-11T12:43:56.426Z"
   },
   {
    "duration": 15,
    "start_time": "2021-12-11T12:43:56.437Z"
   },
   {
    "duration": 4,
    "start_time": "2021-12-11T12:43:56.454Z"
   },
   {
    "duration": 9,
    "start_time": "2021-12-11T12:43:56.460Z"
   },
   {
    "duration": 50,
    "start_time": "2021-12-11T12:43:56.471Z"
   },
   {
    "duration": 6,
    "start_time": "2021-12-11T12:43:56.523Z"
   },
   {
    "duration": 6,
    "start_time": "2021-12-11T12:43:56.530Z"
   },
   {
    "duration": 6,
    "start_time": "2021-12-11T12:43:56.537Z"
   },
   {
    "duration": 11,
    "start_time": "2021-12-11T12:43:56.545Z"
   },
   {
    "duration": 51,
    "start_time": "2021-12-11T12:43:56.557Z"
   },
   {
    "duration": 29,
    "start_time": "2021-12-11T12:43:56.609Z"
   },
   {
    "duration": 10,
    "start_time": "2021-12-11T12:43:56.640Z"
   },
   {
    "duration": 17,
    "start_time": "2021-12-11T12:43:56.652Z"
   },
   {
    "duration": 14,
    "start_time": "2021-12-11T12:43:56.672Z"
   },
   {
    "duration": 21,
    "start_time": "2021-12-11T12:43:56.688Z"
   },
   {
    "duration": 8,
    "start_time": "2021-12-11T12:43:56.711Z"
   },
   {
    "duration": 660,
    "start_time": "2021-12-11T12:43:56.720Z"
   },
   {
    "duration": 3,
    "start_time": "2021-12-11T12:43:57.383Z"
   },
   {
    "duration": 3053,
    "start_time": "2021-12-11T12:43:57.388Z"
   },
   {
    "duration": 9,
    "start_time": "2021-12-11T12:44:00.443Z"
   },
   {
    "duration": 9,
    "start_time": "2021-12-11T12:44:00.454Z"
   },
   {
    "duration": 19,
    "start_time": "2021-12-11T12:44:00.465Z"
   },
   {
    "duration": 21,
    "start_time": "2021-12-11T12:44:00.486Z"
   },
   {
    "duration": 14,
    "start_time": "2021-12-11T12:44:00.509Z"
   },
   {
    "duration": 20,
    "start_time": "2021-12-11T12:44:00.525Z"
   },
   {
    "duration": 21,
    "start_time": "2021-12-11T12:44:00.547Z"
   },
   {
    "duration": 25,
    "start_time": "2021-12-11T12:44:00.570Z"
   },
   {
    "duration": 20,
    "start_time": "2021-12-11T12:44:00.596Z"
   },
   {
    "duration": 44,
    "start_time": "2021-12-11T12:44:00.618Z"
   },
   {
    "duration": 40,
    "start_time": "2021-12-11T12:44:00.664Z"
   },
   {
    "duration": 57,
    "start_time": "2021-12-11T12:44:00.706Z"
   },
   {
    "duration": 31,
    "start_time": "2021-12-11T12:44:00.764Z"
   },
   {
    "duration": 11,
    "start_time": "2021-12-11T12:44:00.797Z"
   },
   {
    "duration": 8,
    "start_time": "2021-12-11T12:44:00.809Z"
   },
   {
    "duration": 61,
    "start_time": "2021-12-11T12:44:00.819Z"
   },
   {
    "duration": 25,
    "start_time": "2021-12-11T12:44:00.882Z"
   },
   {
    "duration": 28,
    "start_time": "2021-12-11T12:44:00.909Z"
   },
   {
    "duration": 195,
    "start_time": "2021-12-11T12:44:00.939Z"
   },
   {
    "duration": 27,
    "start_time": "2021-12-11T12:44:01.136Z"
   },
   {
    "duration": 180,
    "start_time": "2021-12-11T12:44:01.165Z"
   },
   {
    "duration": 34,
    "start_time": "2021-12-11T12:44:01.347Z"
   },
   {
    "duration": 198,
    "start_time": "2021-12-11T12:44:01.383Z"
   },
   {
    "duration": 37,
    "start_time": "2021-12-11T12:44:01.583Z"
   },
   {
    "duration": 135,
    "start_time": "2021-12-11T12:44:01.622Z"
   },
   {
    "duration": 33,
    "start_time": "2021-12-11T12:44:01.759Z"
   },
   {
    "duration": 38,
    "start_time": "2021-12-11T12:44:01.806Z"
   },
   {
    "duration": 200,
    "start_time": "2021-12-11T12:44:01.846Z"
   },
   {
    "duration": 32,
    "start_time": "2021-12-11T12:44:02.047Z"
   },
   {
    "duration": 178,
    "start_time": "2021-12-11T12:44:02.081Z"
   },
   {
    "duration": 182,
    "start_time": "2021-12-11T12:56:27.460Z"
   },
   {
    "duration": 116,
    "start_time": "2021-12-11T12:56:34.928Z"
   },
   {
    "duration": 157,
    "start_time": "2021-12-11T12:59:38.651Z"
   },
   {
    "duration": 141,
    "start_time": "2021-12-11T12:59:44.055Z"
   },
   {
    "duration": 127,
    "start_time": "2021-12-11T13:00:05.534Z"
   },
   {
    "duration": 192,
    "start_time": "2021-12-11T13:00:12.430Z"
   },
   {
    "duration": 135,
    "start_time": "2021-12-11T13:00:18.818Z"
   },
   {
    "duration": 154,
    "start_time": "2021-12-11T13:03:15.407Z"
   },
   {
    "duration": 1617,
    "start_time": "2021-12-11T13:03:29.316Z"
   },
   {
    "duration": 188,
    "start_time": "2021-12-11T13:04:30.169Z"
   },
   {
    "duration": 194,
    "start_time": "2021-12-11T13:05:58.202Z"
   },
   {
    "duration": 188,
    "start_time": "2021-12-11T13:06:29.309Z"
   },
   {
    "duration": 186,
    "start_time": "2021-12-11T13:06:47.407Z"
   },
   {
    "duration": 190,
    "start_time": "2021-12-11T13:19:39.877Z"
   },
   {
    "duration": 134,
    "start_time": "2021-12-11T13:19:57.605Z"
   },
   {
    "duration": 269,
    "start_time": "2021-12-11T13:20:02.166Z"
   },
   {
    "duration": 132,
    "start_time": "2021-12-11T13:20:58.516Z"
   },
   {
    "duration": 110,
    "start_time": "2021-12-11T13:32:24.271Z"
   },
   {
    "duration": 126,
    "start_time": "2021-12-11T13:32:34.538Z"
   },
   {
    "duration": 122,
    "start_time": "2021-12-11T13:32:52.472Z"
   },
   {
    "duration": 145,
    "start_time": "2021-12-11T13:33:12.186Z"
   },
   {
    "duration": 150,
    "start_time": "2021-12-11T13:33:28.141Z"
   },
   {
    "duration": 188,
    "start_time": "2021-12-11T13:33:32.773Z"
   },
   {
    "duration": 146,
    "start_time": "2021-12-11T13:33:50.142Z"
   },
   {
    "duration": 28,
    "start_time": "2021-12-11T13:34:42.558Z"
   },
   {
    "duration": 159,
    "start_time": "2021-12-11T13:35:33.996Z"
   },
   {
    "duration": 270,
    "start_time": "2021-12-11T13:36:38.627Z"
   },
   {
    "duration": 153,
    "start_time": "2021-12-11T13:36:43.143Z"
   },
   {
    "duration": 147,
    "start_time": "2021-12-11T13:37:15.067Z"
   },
   {
    "duration": 178,
    "start_time": "2021-12-11T13:38:09.751Z"
   },
   {
    "duration": 158,
    "start_time": "2021-12-11T13:40:24.900Z"
   },
   {
    "duration": 165,
    "start_time": "2021-12-11T13:40:37.172Z"
   },
   {
    "duration": 198,
    "start_time": "2021-12-11T13:40:41.326Z"
   },
   {
    "duration": 132,
    "start_time": "2021-12-11T13:41:03.909Z"
   },
   {
    "duration": 122,
    "start_time": "2021-12-11T13:41:25.322Z"
   },
   {
    "duration": 277,
    "start_time": "2021-12-11T13:43:44.666Z"
   },
   {
    "duration": 12,
    "start_time": "2021-12-11T13:43:44.945Z"
   },
   {
    "duration": 11,
    "start_time": "2021-12-11T13:43:44.960Z"
   },
   {
    "duration": 36,
    "start_time": "2021-12-11T13:43:44.974Z"
   },
   {
    "duration": 12,
    "start_time": "2021-12-11T13:43:45.012Z"
   },
   {
    "duration": 26,
    "start_time": "2021-12-11T13:43:45.025Z"
   },
   {
    "duration": 22,
    "start_time": "2021-12-11T13:43:45.053Z"
   },
   {
    "duration": 68,
    "start_time": "2021-12-11T13:43:45.076Z"
   },
   {
    "duration": 42,
    "start_time": "2021-12-11T13:43:45.147Z"
   },
   {
    "duration": 22,
    "start_time": "2021-12-11T13:43:45.192Z"
   },
   {
    "duration": 16,
    "start_time": "2021-12-11T13:43:45.216Z"
   },
   {
    "duration": 7,
    "start_time": "2021-12-11T13:43:45.234Z"
   },
   {
    "duration": 11,
    "start_time": "2021-12-11T13:43:45.243Z"
   },
   {
    "duration": 63,
    "start_time": "2021-12-11T13:43:45.256Z"
   },
   {
    "duration": 7,
    "start_time": "2021-12-11T13:43:45.321Z"
   },
   {
    "duration": 6,
    "start_time": "2021-12-11T13:43:45.330Z"
   },
   {
    "duration": 6,
    "start_time": "2021-12-11T13:43:45.337Z"
   },
   {
    "duration": 12,
    "start_time": "2021-12-11T13:43:45.345Z"
   },
   {
    "duration": 54,
    "start_time": "2021-12-11T13:43:45.359Z"
   },
   {
    "duration": 28,
    "start_time": "2021-12-11T13:43:45.415Z"
   },
   {
    "duration": 9,
    "start_time": "2021-12-11T13:43:45.445Z"
   },
   {
    "duration": 4,
    "start_time": "2021-12-11T13:43:45.456Z"
   },
   {
    "duration": 11,
    "start_time": "2021-12-11T13:43:45.462Z"
   },
   {
    "duration": 36,
    "start_time": "2021-12-11T13:43:45.474Z"
   },
   {
    "duration": 9,
    "start_time": "2021-12-11T13:43:45.512Z"
   },
   {
    "duration": 736,
    "start_time": "2021-12-11T13:43:45.522Z"
   },
   {
    "duration": 5,
    "start_time": "2021-12-11T13:43:46.262Z"
   },
   {
    "duration": 3238,
    "start_time": "2021-12-11T13:43:46.269Z"
   },
   {
    "duration": 10,
    "start_time": "2021-12-11T13:43:49.509Z"
   },
   {
    "duration": 4,
    "start_time": "2021-12-11T13:43:49.520Z"
   },
   {
    "duration": 12,
    "start_time": "2021-12-11T13:43:49.525Z"
   },
   {
    "duration": 10,
    "start_time": "2021-12-11T13:43:49.539Z"
   },
   {
    "duration": 8,
    "start_time": "2021-12-11T13:43:49.550Z"
   },
   {
    "duration": 8,
    "start_time": "2021-12-11T13:43:49.560Z"
   },
   {
    "duration": 42,
    "start_time": "2021-12-11T13:43:49.570Z"
   },
   {
    "duration": 9,
    "start_time": "2021-12-11T13:43:49.614Z"
   },
   {
    "duration": 10,
    "start_time": "2021-12-11T13:43:49.625Z"
   },
   {
    "duration": 11,
    "start_time": "2021-12-11T13:43:49.636Z"
   },
   {
    "duration": 3,
    "start_time": "2021-12-11T13:43:49.649Z"
   },
   {
    "duration": 14,
    "start_time": "2021-12-11T13:43:49.653Z"
   },
   {
    "duration": 44,
    "start_time": "2021-12-11T13:43:49.669Z"
   },
   {
    "duration": 9,
    "start_time": "2021-12-11T13:43:49.714Z"
   },
   {
    "duration": 4,
    "start_time": "2021-12-11T13:43:49.725Z"
   },
   {
    "duration": 48,
    "start_time": "2021-12-11T13:43:49.730Z"
   },
   {
    "duration": 41,
    "start_time": "2021-12-11T13:43:49.780Z"
   },
   {
    "duration": 26,
    "start_time": "2021-12-11T13:43:49.823Z"
   },
   {
    "duration": 145,
    "start_time": "2021-12-11T13:43:49.851Z"
   },
   {
    "duration": 28,
    "start_time": "2021-12-11T13:43:50.006Z"
   },
   {
    "duration": 172,
    "start_time": "2021-12-11T13:43:50.035Z"
   },
   {
    "duration": 32,
    "start_time": "2021-12-11T13:43:50.208Z"
   },
   {
    "duration": 183,
    "start_time": "2021-12-11T13:43:50.242Z"
   },
   {
    "duration": 28,
    "start_time": "2021-12-11T13:43:50.427Z"
   },
   {
    "duration": 141,
    "start_time": "2021-12-11T13:43:50.456Z"
   },
   {
    "duration": 37,
    "start_time": "2021-12-11T13:43:50.599Z"
   },
   {
    "duration": 11,
    "start_time": "2021-12-11T13:43:50.638Z"
   },
   {
    "duration": 220,
    "start_time": "2021-12-11T13:43:50.651Z"
   },
   {
    "duration": 41,
    "start_time": "2021-12-11T13:43:50.873Z"
   },
   {
    "duration": 159,
    "start_time": "2021-12-11T13:43:50.916Z"
   },
   {
    "duration": 1555,
    "start_time": "2021-12-11T13:48:41.253Z"
   },
   {
    "duration": 15,
    "start_time": "2021-12-11T13:48:42.810Z"
   },
   {
    "duration": 11,
    "start_time": "2021-12-11T13:48:42.829Z"
   },
   {
    "duration": 9,
    "start_time": "2021-12-11T13:48:42.841Z"
   },
   {
    "duration": 9,
    "start_time": "2021-12-11T13:48:42.852Z"
   },
   {
    "duration": 52,
    "start_time": "2021-12-11T13:48:42.863Z"
   },
   {
    "duration": 19,
    "start_time": "2021-12-11T13:48:42.918Z"
   },
   {
    "duration": 46,
    "start_time": "2021-12-11T13:48:42.939Z"
   },
   {
    "duration": 49,
    "start_time": "2021-12-11T13:48:43.006Z"
   },
   {
    "duration": 12,
    "start_time": "2021-12-11T13:48:43.057Z"
   },
   {
    "duration": 40,
    "start_time": "2021-12-11T13:48:43.071Z"
   },
   {
    "duration": 5,
    "start_time": "2021-12-11T13:48:43.112Z"
   },
   {
    "duration": 11,
    "start_time": "2021-12-11T13:48:43.119Z"
   },
   {
    "duration": 18,
    "start_time": "2021-12-11T13:48:43.131Z"
   },
   {
    "duration": 9,
    "start_time": "2021-12-11T13:48:43.151Z"
   },
   {
    "duration": 45,
    "start_time": "2021-12-11T13:48:43.162Z"
   },
   {
    "duration": 7,
    "start_time": "2021-12-11T13:48:43.209Z"
   },
   {
    "duration": 12,
    "start_time": "2021-12-11T13:48:43.218Z"
   },
   {
    "duration": 16,
    "start_time": "2021-12-11T13:48:43.232Z"
   },
   {
    "duration": 67,
    "start_time": "2021-12-11T13:48:43.250Z"
   },
   {
    "duration": 10,
    "start_time": "2021-12-11T13:48:43.319Z"
   },
   {
    "duration": 4,
    "start_time": "2021-12-11T13:48:43.334Z"
   },
   {
    "duration": 12,
    "start_time": "2021-12-11T13:48:43.340Z"
   },
   {
    "duration": 9,
    "start_time": "2021-12-11T13:48:43.353Z"
   },
   {
    "duration": 8,
    "start_time": "2021-12-11T13:48:43.364Z"
   },
   {
    "duration": 710,
    "start_time": "2021-12-11T13:48:43.373Z"
   },
   {
    "duration": 4,
    "start_time": "2021-12-11T13:48:44.085Z"
   },
   {
    "duration": 3138,
    "start_time": "2021-12-11T13:48:44.091Z"
   },
   {
    "duration": 9,
    "start_time": "2021-12-11T13:48:47.231Z"
   },
   {
    "duration": 3,
    "start_time": "2021-12-11T13:48:47.242Z"
   },
   {
    "duration": 13,
    "start_time": "2021-12-11T13:48:47.247Z"
   },
   {
    "duration": 11,
    "start_time": "2021-12-11T13:48:47.262Z"
   },
   {
    "duration": 36,
    "start_time": "2021-12-11T13:48:47.275Z"
   },
   {
    "duration": 11,
    "start_time": "2021-12-11T13:48:47.313Z"
   },
   {
    "duration": 10,
    "start_time": "2021-12-11T13:48:47.326Z"
   },
   {
    "duration": 11,
    "start_time": "2021-12-11T13:48:47.338Z"
   },
   {
    "duration": 12,
    "start_time": "2021-12-11T13:48:47.351Z"
   },
   {
    "duration": 52,
    "start_time": "2021-12-11T13:48:47.365Z"
   },
   {
    "duration": 4,
    "start_time": "2021-12-11T13:48:47.419Z"
   },
   {
    "duration": 13,
    "start_time": "2021-12-11T13:48:47.425Z"
   },
   {
    "duration": 11,
    "start_time": "2021-12-11T13:48:47.440Z"
   },
   {
    "duration": 10,
    "start_time": "2021-12-11T13:48:47.453Z"
   },
   {
    "duration": 41,
    "start_time": "2021-12-11T13:48:47.465Z"
   },
   {
    "duration": 49,
    "start_time": "2021-12-11T13:48:47.508Z"
   },
   {
    "duration": 20,
    "start_time": "2021-12-11T13:48:47.559Z"
   },
   {
    "duration": 51,
    "start_time": "2021-12-11T13:48:47.581Z"
   },
   {
    "duration": 152,
    "start_time": "2021-12-11T13:48:47.634Z"
   },
   {
    "duration": 36,
    "start_time": "2021-12-11T13:48:47.788Z"
   },
   {
    "duration": 164,
    "start_time": "2021-12-11T13:48:47.826Z"
   },
   {
    "duration": 35,
    "start_time": "2021-12-11T13:48:47.992Z"
   },
   {
    "duration": 166,
    "start_time": "2021-12-11T13:48:48.029Z"
   },
   {
    "duration": 35,
    "start_time": "2021-12-11T13:48:48.197Z"
   },
   {
    "duration": 133,
    "start_time": "2021-12-11T13:48:48.234Z"
   },
   {
    "duration": 42,
    "start_time": "2021-12-11T13:48:48.369Z"
   },
   {
    "duration": 12,
    "start_time": "2021-12-11T13:48:48.413Z"
   },
   {
    "duration": 208,
    "start_time": "2021-12-11T13:48:48.427Z"
   },
   {
    "duration": 31,
    "start_time": "2021-12-11T13:48:48.636Z"
   },
   {
    "duration": 160,
    "start_time": "2021-12-11T13:48:48.669Z"
   },
   {
    "duration": 1485,
    "start_time": "2021-12-11T14:19:34.132Z"
   },
   {
    "duration": 15,
    "start_time": "2021-12-11T14:19:35.619Z"
   },
   {
    "duration": 10,
    "start_time": "2021-12-11T14:19:35.638Z"
   },
   {
    "duration": 9,
    "start_time": "2021-12-11T14:19:35.649Z"
   },
   {
    "duration": 9,
    "start_time": "2021-12-11T14:19:35.659Z"
   },
   {
    "duration": 48,
    "start_time": "2021-12-11T14:19:35.669Z"
   },
   {
    "duration": 19,
    "start_time": "2021-12-11T14:19:35.719Z"
   },
   {
    "duration": 67,
    "start_time": "2021-12-11T14:19:35.740Z"
   },
   {
    "duration": 45,
    "start_time": "2021-12-11T14:19:35.810Z"
   },
   {
    "duration": 9,
    "start_time": "2021-12-11T14:19:35.857Z"
   },
   {
    "duration": 41,
    "start_time": "2021-12-11T14:19:35.868Z"
   },
   {
    "duration": 5,
    "start_time": "2021-12-11T14:19:35.911Z"
   },
   {
    "duration": 11,
    "start_time": "2021-12-11T14:19:35.918Z"
   },
   {
    "duration": 20,
    "start_time": "2021-12-11T14:19:35.930Z"
   },
   {
    "duration": 7,
    "start_time": "2021-12-11T14:19:35.951Z"
   },
   {
    "duration": 6,
    "start_time": "2021-12-11T14:19:35.960Z"
   },
   {
    "duration": 7,
    "start_time": "2021-12-11T14:19:36.007Z"
   },
   {
    "duration": 12,
    "start_time": "2021-12-11T14:19:36.015Z"
   },
   {
    "duration": 15,
    "start_time": "2021-12-11T14:19:36.028Z"
   },
   {
    "duration": 29,
    "start_time": "2021-12-11T14:19:36.045Z"
   },
   {
    "duration": 35,
    "start_time": "2021-12-11T14:19:36.076Z"
   },
   {
    "duration": 5,
    "start_time": "2021-12-11T14:19:36.115Z"
   },
   {
    "duration": 12,
    "start_time": "2021-12-11T14:19:36.124Z"
   },
   {
    "duration": 9,
    "start_time": "2021-12-11T14:19:36.138Z"
   },
   {
    "duration": 7,
    "start_time": "2021-12-11T14:19:36.148Z"
   },
   {
    "duration": 706,
    "start_time": "2021-12-11T14:19:36.157Z"
   },
   {
    "duration": 5,
    "start_time": "2021-12-11T14:19:36.866Z"
   },
   {
    "duration": 2858,
    "start_time": "2021-12-11T14:19:36.872Z"
   },
   {
    "duration": 10,
    "start_time": "2021-12-11T14:19:39.732Z"
   },
   {
    "duration": 3,
    "start_time": "2021-12-11T14:19:39.745Z"
   },
   {
    "duration": 12,
    "start_time": "2021-12-11T14:19:39.750Z"
   },
   {
    "duration": 10,
    "start_time": "2021-12-11T14:19:39.763Z"
   },
   {
    "duration": 37,
    "start_time": "2021-12-11T14:19:39.775Z"
   },
   {
    "duration": 10,
    "start_time": "2021-12-11T14:19:39.814Z"
   },
   {
    "duration": 10,
    "start_time": "2021-12-11T14:19:39.826Z"
   },
   {
    "duration": 10,
    "start_time": "2021-12-11T14:19:39.838Z"
   },
   {
    "duration": 18,
    "start_time": "2021-12-11T14:19:39.850Z"
   },
   {
    "duration": 44,
    "start_time": "2021-12-11T14:19:39.870Z"
   },
   {
    "duration": 4,
    "start_time": "2021-12-11T14:19:39.916Z"
   },
   {
    "duration": 13,
    "start_time": "2021-12-11T14:19:39.922Z"
   },
   {
    "duration": 11,
    "start_time": "2021-12-11T14:19:39.936Z"
   },
   {
    "duration": 8,
    "start_time": "2021-12-11T14:19:39.949Z"
   },
   {
    "duration": 4,
    "start_time": "2021-12-11T14:19:39.959Z"
   },
   {
    "duration": 76,
    "start_time": "2021-12-11T14:19:39.964Z"
   },
   {
    "duration": 18,
    "start_time": "2021-12-11T14:19:40.042Z"
   },
   {
    "duration": 27,
    "start_time": "2021-12-11T14:19:40.061Z"
   },
   {
    "duration": 133,
    "start_time": "2021-12-11T14:19:40.106Z"
   },
   {
    "duration": 28,
    "start_time": "2021-12-11T14:19:40.240Z"
   },
   {
    "duration": 167,
    "start_time": "2021-12-11T14:19:40.270Z"
   },
   {
    "duration": 30,
    "start_time": "2021-12-11T14:19:40.439Z"
   },
   {
    "duration": 179,
    "start_time": "2021-12-11T14:19:40.470Z"
   },
   {
    "duration": 27,
    "start_time": "2021-12-11T14:19:40.651Z"
   },
   {
    "duration": 135,
    "start_time": "2021-12-11T14:19:40.679Z"
   },
   {
    "duration": 36,
    "start_time": "2021-12-11T14:19:40.816Z"
   },
   {
    "duration": 12,
    "start_time": "2021-12-11T14:19:40.854Z"
   },
   {
    "duration": 229,
    "start_time": "2021-12-11T14:19:40.868Z"
   },
   {
    "duration": 38,
    "start_time": "2021-12-11T14:19:41.099Z"
   },
   {
    "duration": 162,
    "start_time": "2021-12-11T14:19:41.139Z"
   },
   {
    "duration": 94,
    "start_time": "2021-12-11T16:44:53.554Z"
   },
   {
    "duration": 120,
    "start_time": "2021-12-11T16:48:59.213Z"
   }
  ],
  "colab": {
   "collapsed_sections": [
    "E0vqbgi9ay0H",
    "VUC88oWjTJw2"
   ],
   "name": "yandex_music_project_2021.2.ipynb",
   "provenance": []
  },
  "kernelspec": {
   "display_name": "Python 3 (ipykernel)",
   "language": "python",
   "name": "python3"
  },
  "language_info": {
   "codemirror_mode": {
    "name": "ipython",
    "version": 3
   },
   "file_extension": ".py",
   "mimetype": "text/x-python",
   "name": "python",
   "nbconvert_exporter": "python",
   "pygments_lexer": "ipython3",
   "version": "3.10.4"
  },
  "toc": {
   "base_numbering": 1,
   "nav_menu": {},
   "number_sections": true,
   "sideBar": true,
   "skip_h1_title": true,
   "title_cell": "Table of Contents",
   "title_sidebar": "Contents",
   "toc_cell": false,
   "toc_position": {
    "height": "calc(100% - 180px)",
    "left": "10px",
    "top": "150px",
    "width": "213.785px"
   },
   "toc_section_display": true,
   "toc_window_display": true
  }
 },
 "nbformat": 4,
 "nbformat_minor": 1
}
