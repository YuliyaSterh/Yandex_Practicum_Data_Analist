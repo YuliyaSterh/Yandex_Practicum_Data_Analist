{
 "cells": [
  {
   "cell_type": "markdown",
   "id": "751eaeff",
   "metadata": {
    "toc": true
   },
   "source": [
    "<h1>Table of Contents<span class=\"tocSkip\"></span></h1>\n",
    "<div class=\"toc\"><ul class=\"toc-item\"><li><span><a href=\"#Данные\" data-toc-modified-id=\"Данные-1\"><span class=\"toc-item-num\">1&nbsp;&nbsp;</span>Данные</a></span></li><li><span><a href=\"#Цель\" data-toc-modified-id=\"Цель-2\"><span class=\"toc-item-num\">2&nbsp;&nbsp;</span>Цель</a></span></li><li><span><a href=\"#Задания-Часть-1\" data-toc-modified-id=\"Задания-Часть-1-3\"><span class=\"toc-item-num\">3&nbsp;&nbsp;</span>Задания Часть 1</a></span><ul class=\"toc-item\"><li><span><a href=\"#Задание-1\" data-toc-modified-id=\"Задание-1-3.1\"><span class=\"toc-item-num\">3.1&nbsp;&nbsp;</span>Задание 1</a></span></li><li><span><a href=\"#Задание-2\" data-toc-modified-id=\"Задание-2-3.2\"><span class=\"toc-item-num\">3.2&nbsp;&nbsp;</span>Задание 2</a></span></li><li><span><a href=\"#Задание-3\" data-toc-modified-id=\"Задание-3-3.3\"><span class=\"toc-item-num\">3.3&nbsp;&nbsp;</span>Задание 3</a></span></li><li><span><a href=\"#Задание-4\" data-toc-modified-id=\"Задание-4-3.4\"><span class=\"toc-item-num\">3.4&nbsp;&nbsp;</span>Задание 4</a></span></li><li><span><a href=\"#Задание-5\" data-toc-modified-id=\"Задание-5-3.5\"><span class=\"toc-item-num\">3.5&nbsp;&nbsp;</span>Задание 5</a></span></li><li><span><a href=\"#Задание-6\" data-toc-modified-id=\"Задание-6-3.6\"><span class=\"toc-item-num\">3.6&nbsp;&nbsp;</span>Задание 6</a></span></li><li><span><a href=\"#Задание-7\" data-toc-modified-id=\"Задание-7-3.7\"><span class=\"toc-item-num\">3.7&nbsp;&nbsp;</span>Задание 7</a></span></li><li><span><a href=\"#Задание-8\" data-toc-modified-id=\"Задание-8-3.8\"><span class=\"toc-item-num\">3.8&nbsp;&nbsp;</span>Задание 8</a></span></li><li><span><a href=\"#Задание-9\" data-toc-modified-id=\"Задание-9-3.9\"><span class=\"toc-item-num\">3.9&nbsp;&nbsp;</span>Задание 9</a></span></li><li><span><a href=\"#Задание-10\" data-toc-modified-id=\"Задание-10-3.10\"><span class=\"toc-item-num\">3.10&nbsp;&nbsp;</span>Задание 10</a></span></li><li><span><a href=\"#Задание-11\" data-toc-modified-id=\"Задание-11-3.11\"><span class=\"toc-item-num\">3.11&nbsp;&nbsp;</span>Задание 11</a></span></li><li><span><a href=\"#Задание-12\" data-toc-modified-id=\"Задание-12-3.12\"><span class=\"toc-item-num\">3.12&nbsp;&nbsp;</span>Задание 12</a></span></li><li><span><a href=\"#Задание-13\" data-toc-modified-id=\"Задание-13-3.13\"><span class=\"toc-item-num\">3.13&nbsp;&nbsp;</span>Задание 13</a></span></li></ul></li><li><span><a href=\"#Задания-Часть-2\" data-toc-modified-id=\"Задания-Часть-2-4\"><span class=\"toc-item-num\">4&nbsp;&nbsp;</span>Задания Часть 2</a></span><ul class=\"toc-item\"><li><span><a href=\"#Задание-1\" data-toc-modified-id=\"Задание-1-4.1\"><span class=\"toc-item-num\">4.1&nbsp;&nbsp;</span>Задание 1</a></span></li><li><span><a href=\"#Задание-2\" data-toc-modified-id=\"Задание-2-4.2\"><span class=\"toc-item-num\">4.2&nbsp;&nbsp;</span>Задание 2</a></span></li><li><span><a href=\"#Задание-3\" data-toc-modified-id=\"Задание-3-4.3\"><span class=\"toc-item-num\">4.3&nbsp;&nbsp;</span>Задание 3</a></span></li><li><span><a href=\"#Задание-4\" data-toc-modified-id=\"Задание-4-4.4\"><span class=\"toc-item-num\">4.4&nbsp;&nbsp;</span>Задание 4</a></span></li><li><span><a href=\"#Задание-5\" data-toc-modified-id=\"Задание-5-4.5\"><span class=\"toc-item-num\">4.5&nbsp;&nbsp;</span>Задание 5</a></span></li><li><span><a href=\"#Задание-6\" data-toc-modified-id=\"Задание-6-4.6\"><span class=\"toc-item-num\">4.6&nbsp;&nbsp;</span>Задание 6</a></span></li><li><span><a href=\"#Задание-7\" data-toc-modified-id=\"Задание-7-4.7\"><span class=\"toc-item-num\">4.7&nbsp;&nbsp;</span>Задание 7</a></span></li></ul></li></ul></div>"
   ]
  },
  {
   "cell_type": "markdown",
   "id": "e7dfb797",
   "metadata": {},
   "source": [
    "# Исследование базы данных StackOverflow\n",
    "\n",
    "## Данные\n",
    "\n",
    "Самостоятельная работа основана на базе данных StackOverflow — сервиса вопросов и ответов о программировании. \n",
    "\n",
    "Мы будем работать с версией базы, где хранятся данные о постах за 2008 год, но в таблицах есть  информация и о более поздних оценках, которые эти посты получили.\n",
    "\n",
    "## Цель\n",
    "\n",
    "Проект состоит из двух частей:\n",
    "\n",
    "В первой части несколько задач в SQL-тренажёре, чтобы закрепить пройденный материал.\n",
    "\n",
    "Вторая часть проекта — аналитическая.  \n",
    "\n",
    "\n",
    "## Задания Часть 1\n",
    "\n",
    "\n",
    "### Задание 1\n",
    "Найдите количество вопросов, которые набрали больше 300 очков или как минимум 100 раз были добавлены в «Закладки».\n"
   ]
  },
  {
   "cell_type": "code",
   "execution_count": null,
   "id": "b94affd3",
   "metadata": {},
   "outputs": [],
   "source": [
    "'''\n",
    "   SELECT COUNT(p.id)\n",
    "     FROM stackoverflow.posts AS p \n",
    "LEFT JOIN stackoverflow.post_types AS pt\n",
    "       ON p.post_type_id = pt.id\n",
    "    WHERE pt.type = 'Question' AND (score > 300 OR  favorites_count >= 100);\n",
    "\n",
    "'''"
   ]
  },
  {
   "cell_type": "markdown",
   "id": "a8f6be8b",
   "metadata": {},
   "source": [
    "### Задание 2\n",
    "Сколько в среднем в день задавали вопросов с 1 по 18 ноября 2008 включительно? Результат округлите до целого числа.\n",
    "\n"
   ]
  },
  {
   "cell_type": "code",
   "execution_count": null,
   "id": "702093b1",
   "metadata": {},
   "outputs": [],
   "source": [
    "'''\n",
    "SELECT ROUND(AVG(question_cnt))\n",
    "FROM (\n",
    "   SELECT creation_date :: date AS question_date,\n",
    "          COUNT(p.id) AS question_cnt\n",
    "     FROM stackoverflow.posts AS p \n",
    "LEFT JOIN stackoverflow.post_types AS pt\n",
    "       ON p.post_type_id = pt.id\n",
    "    WHERE pt.type = 'Question' AND creation_date :: date BETWEEN '2008-11-01' AND '2008-11-18'\n",
    " GROUP BY creation_date :: date\n",
    "      ) AS Question\n",
    "    \n",
    "'''"
   ]
  },
  {
   "cell_type": "markdown",
   "id": "81e05df1",
   "metadata": {},
   "source": [
    "### Задание 3\n",
    "Сколько пользователей получили значки сразу в день регистрации? Выведите количество уникальных пользователей.\n"
   ]
  },
  {
   "cell_type": "code",
   "execution_count": null,
   "id": "0f111021",
   "metadata": {},
   "outputs": [],
   "source": [
    "'''\n",
    "SELECT COUNT(DISTINCT u.id) AS user    \n",
    "    FROM stackoverflow.users AS u\n",
    "    JOIN stackoverflow.badges AS b\n",
    "      ON u.id = b.user_id\n",
    "    WHERE u.creation_date :: date = b.creation_date :: date \n",
    "'''"
   ]
  },
  {
   "cell_type": "markdown",
   "id": "cf0bd78d",
   "metadata": {},
   "source": [
    "### Задание 4\n",
    "\n",
    "Сколько уникальных постов пользователя с именем Joel Coehoorn получили хотя бы один голос?\n",
    "\n"
   ]
  },
  {
   "cell_type": "code",
   "execution_count": null,
   "id": "a16e6be9",
   "metadata": {},
   "outputs": [],
   "source": [
    "'''\n",
    "WITH votes_cnts AS (\n",
    "  SELECT p.id AS id_post,\n",
    "         COUNT(v.id) AS votes_cnt\n",
    "    FROM stackoverflow.users AS u\n",
    "    JOIN stackoverflow.posts AS p\n",
    "      ON p.user_id = u.id\n",
    "    JOIN stackoverflow.votes AS v \n",
    "      ON v.post_id = p.id\n",
    "    WHERE display_name = 'Joel Coehoorn'\n",
    "GROUP BY p.id \n",
    "    )\n",
    "SELECT COUNT(id_post)\n",
    "  FROM votes_cnts\n",
    "  WHERE votes_cnt > 0;\n",
    "'''"
   ]
  },
  {
   "cell_type": "markdown",
   "id": "d8b64c72",
   "metadata": {},
   "source": [
    "### Задание 5\n",
    "Выгрузите все поля таблицы vote_types. Добавьте к таблице поле rank, в которое войдут номера записей в обратном порядке. Таблица должна быть отсортирована по полю id."
   ]
  },
  {
   "cell_type": "code",
   "execution_count": null,
   "id": "7d7ab6da",
   "metadata": {},
   "outputs": [],
   "source": [
    "'''\n",
    "  SELECT *,\n",
    "         RANK() OVER (ORDER BY id DESC)\n",
    "    FROM stackoverflow.vote_types \n",
    "ORDER BY id ;\n",
    "'''"
   ]
  },
  {
   "cell_type": "markdown",
   "id": "098bd9bc",
   "metadata": {},
   "source": [
    "### Задание 6\n",
    "Отберите 10 пользователей, которые поставили больше всего голосов типа Close. Отобразите таблицу из двух полей: идентификатором пользователя и количеством голосов. Отсортируйте данные сначала по убыванию количества голосов, потом по убыванию значения идентификатора пользователя."
   ]
  },
  {
   "cell_type": "code",
   "execution_count": null,
   "id": "68cc6d9d",
   "metadata": {},
   "outputs": [],
   "source": [
    "'''\n",
    "  SELECT v.user_id AS user_votes,\n",
    "         COUNT (v.id) AS votes_cnt\n",
    "    FROM stackoverflow.votes AS v\n",
    "    JOIN stackoverflow.vote_types AS vt\n",
    "      ON vt.id = v.vote_type_id\n",
    "   WHERE name = 'Close'  \n",
    "GROUP BY v.user_id\n",
    "ORDER BY votes_cnt DESC,\n",
    "         v.user_id DESC\n",
    "   LIMIT 10;\n",
    "'''"
   ]
  },
  {
   "cell_type": "markdown",
   "id": "2bc03b24",
   "metadata": {},
   "source": [
    "### Задание 7\n",
    "Отберите 10 пользователей по количеству значков, полученных в период с 15 ноября по 15 декабря 2008 года включительно. Отобразите несколько полей:\n",
    "идентификатор пользователя;\n",
    "число значков;\n",
    "место в рейтинге — чем больше значков, тем выше рейтинг.\n",
    "Пользователям, которые набрали одинаковое количество значков, присвойте одно и то же место в рейтинге.\n",
    "Отсортируйте записи по количеству значков по убыванию, а затем по возрастанию значения идентификатора пользователя."
   ]
  },
  {
   "cell_type": "code",
   "execution_count": null,
   "id": "cc9a8a1c",
   "metadata": {},
   "outputs": [],
   "source": [
    "'''\n",
    "  SELECT user_id,\n",
    "         COUNT (id) AS badges_cnt,\n",
    "         DENSE_RANK() OVER (ORDER BY COUNT (id) DESC )\n",
    "    FROM stackoverflow.badges\n",
    "   WHERE creation_date :: date BETWEEN '2008-11-15' AND '2008-12-15'\n",
    "GROUP BY user_id\n",
    "ORDER BY badges_cnt DESC,\n",
    "         user_id\n",
    "   LIMIT 10;      \n",
    "'''"
   ]
  },
  {
   "cell_type": "markdown",
   "id": "3790cb78",
   "metadata": {},
   "source": [
    "### Задание 8\n",
    "Сколько в среднем очков получает пост каждого пользователя?\n",
    "\n",
    "Сформируйте таблицу из следующих полей:\n",
    "\n",
    "- заголовок поста;\n",
    "- идентификатор пользователя;\n",
    "- число очков поста;\n",
    "- среднее число очков пользователя за пост, округлённое до целого числа.\n",
    "\n",
    "Не учитывайте посты без заголовка, а также те, что набрали ноль очков."
   ]
  },
  {
   "cell_type": "code",
   "execution_count": null,
   "id": "2e2cd852",
   "metadata": {},
   "outputs": [],
   "source": [
    "'''\n",
    " SELECT title,\n",
    "       user_id, \n",
    "       score,\n",
    "       ROUND(AVG(score) OVER (PARTITION BY user_id))\n",
    "   FROM stackoverflow.posts\n",
    "   WHERE title IS NOT NULL\n",
    "         AND score != 0;\n",
    "'''"
   ]
  },
  {
   "cell_type": "markdown",
   "id": "b0d85ee6",
   "metadata": {},
   "source": [
    "### Задание 9\n",
    "Отобразите заголовки постов, которые были написаны пользователями, получившими более 1000 значков. Посты без заголовков не должны попасть в список."
   ]
  },
  {
   "cell_type": "code",
   "execution_count": null,
   "id": "51df210a",
   "metadata": {},
   "outputs": [],
   "source": [
    "'''\n",
    "SELECT title\n",
    "FROM stackoverflow.posts\n",
    "WHERE user_id IN (\n",
    "              SELECT user_id \n",
    "              FROM stackoverflow.badges\n",
    "              GROUP BY user_id\n",
    "              HAVING COUNT(id) > 1000)\n",
    "   AND title IS NOT NULL;\n",
    "'''"
   ]
  },
  {
   "cell_type": "markdown",
   "id": "be802a48",
   "metadata": {},
   "source": [
    "### Задание 10\n",
    "Напишите запрос, который выгрузит данные о пользователях из США (англ. United States). Разделите пользователей на три группы в зависимости от количества просмотров их профилей:\n",
    "\n",
    "- пользователям с числом просмотров больше либо равным 350 присвойте группу 1;\n",
    "- пользователям с числом просмотров меньше 350, но больше либо равно 100 — группу 2;\n",
    "- пользователям с числом просмотров меньше 100 — группу 3.\n",
    "\n",
    "Отобразите в итоговой таблице идентификатор пользователя, количество просмотров профиля и группу. Пользователи с нулевым количеством просмотров не должны войти в итоговую таблицу.\n"
   ]
  },
  {
   "cell_type": "code",
   "execution_count": null,
   "id": "f18c3b97",
   "metadata": {},
   "outputs": [],
   "source": [
    "'''\n",
    "SELECT id,\n",
    "       views,\n",
    "       CASE\n",
    "          WHEN views < 100 THEN 3\n",
    "          WHEN views >= 100 AND views < 350  THEN 2\n",
    "          ELSE 1\n",
    "       END AS group\n",
    "FROM stackoverflow.users\n",
    "WHERE location LIKE '%United States%' AND views != 0\n",
    "ORDER BY views DESC;\n",
    "'''"
   ]
  },
  {
   "cell_type": "markdown",
   "id": "b60727c0",
   "metadata": {},
   "source": [
    "### Задание 11\n",
    "Дополните предыдущий запрос. Отобразите лидеров каждой группы — пользователей, которые набрали максимальное число просмотров в своей группе. \n",
    "\n",
    "Выведите поля с идентификатором пользователя, группой и количеством просмотров. \n",
    "\n",
    "Отсортируйте таблицу по убыванию просмотров, а затем по возрастанию значения идентификатора."
   ]
  },
  {
   "cell_type": "code",
   "execution_count": null,
   "id": "ae6ceb83",
   "metadata": {},
   "outputs": [],
   "source": [
    "'''\n",
    "WITH us_users AS (\n",
    "    SELECT id AS user_id,\n",
    "           views AS views_cnt,\n",
    "           CASE\n",
    "              WHEN views < 100 THEN 3\n",
    "              WHEN views >= 100 AND views < 350  THEN 2\n",
    "              ELSE 1\n",
    "           END AS groups\n",
    "      FROM stackoverflow.users\n",
    "     WHERE location LIKE '%United States%' AND views != 0\n",
    "                )\n",
    "\n",
    " SELECT user_id,\n",
    "        groups,\n",
    "        views_cnt\n",
    "   FROM (   \n",
    "          SELECT user_id,\n",
    "                 views_cnt,\n",
    "                 groups,\n",
    "                 MAX(views_cnt) OVER (PARTITION BY groups ORDER BY views_cnt DESC) AS max_views\n",
    "            FROM us_users\n",
    "         ) AS max_us\n",
    "   WHERE views_cnt =  max_views\n",
    "ORDER BY views_cnt DESC, user_id;\n",
    "'''"
   ]
  },
  {
   "cell_type": "markdown",
   "id": "6c35823a",
   "metadata": {},
   "source": [
    "### Задание 12\n",
    "Посчитайте ежедневный прирост новых пользователей в ноябре 2008 года. Сформируйте таблицу с полями:\n",
    "\n",
    "- номер дня;\n",
    "- число пользователей, зарегистрированных в этот день;\n",
    "- сумму пользователей с накоплением."
   ]
  },
  {
   "cell_type": "code",
   "execution_count": null,
   "id": "0393d279",
   "metadata": {},
   "outputs": [],
   "source": [
    "'''\n",
    "SELECT days,\n",
    "       users_cnt,\n",
    "       SUM(users_cnt) OVER (ORDER BY days)\n",
    "  FROM (\n",
    "     SELECT EXTRACT (DAY FROM creation_date) AS days,\n",
    "            COUNT(id) AS users_cnt\n",
    "       FROM stackoverflow.users\n",
    "      WHERE creation_date :: date BETWEEN '2008-11-01' AND '2008-11-30'\n",
    "   GROUP BY EXTRACT (DAY FROM creation_date)\n",
    "        ) AS user_november;\n",
    "'''"
   ]
  },
  {
   "cell_type": "markdown",
   "id": "7f24772a",
   "metadata": {},
   "source": [
    "### Задание 13\n",
    "Для каждого пользователя, который написал хотя бы один пост, найдите интервал между регистрацией и временем создания первого поста.\n",
    "\n",
    "Отобразите:\n",
    "\n",
    "- идентификатор пользователя;\n",
    "- разницу во времени между регистрацией и первым постом."
   ]
  },
  {
   "cell_type": "code",
   "execution_count": null,
   "id": "ffa11404",
   "metadata": {},
   "outputs": [],
   "source": [
    "'''\n",
    "   SELECT DISTINCT p.user_id,\n",
    "          MIN(p.creation_date ) OVER (PARTITION BY p.user_id) - u.creation_date  AS interval\n",
    "     FROM stackoverflow.posts  AS p\n",
    "LEFT JOIN stackoverflow.users AS u\n",
    "       ON p.user_id =  u.id;\n",
    "'''\n",
    "\n"
   ]
  },
  {
   "cell_type": "markdown",
   "id": "4f6b6ae1",
   "metadata": {},
   "source": [
    "## Задания Часть 2 \n",
    "\n",
    "### Задание 1\n",
    "\n",
    "Выведите общую сумму просмотров постов за каждый месяц 2008 года. Если данных за какой-либо месяц в базе нет, такой месяц можно пропустить. \n",
    "\n",
    "Результат отсортируйте по убыванию общего количества просмотров.\n"
   ]
  },
  {
   "cell_type": "code",
   "execution_count": null,
   "id": "28436dac",
   "metadata": {},
   "outputs": [],
   "source": [
    "'''\n",
    "  SELECT CAST(DATE_TRUNC('month', creation_date) AS date) AS month_posts,\n",
    "         SUM(views_count) AS views_count\n",
    "    FROM stackoverflow.posts\n",
    "   WHERE EXTRACT (YEAR FROM creation_date) = '2008'\n",
    "GROUP BY month_posts\n",
    "ORDER BY views_count DESC;\n",
    "'''"
   ]
  },
  {
   "cell_type": "markdown",
   "id": "7e9f5525",
   "metadata": {},
   "source": [
    "### Задание 2\n",
    "\n",
    "Выведите имена самых активных пользователей, которые в первый месяц после регистрации (включая день регистрации) дали больше 100 ответов. \n",
    "\n",
    "Вопросы, которые задавали пользователи, не учитывайте. Для каждого имени пользователя выведите количество уникальных значений user_id. \n",
    "\n",
    "Отсортируйте результат по полю с именами в лексикографическом порядке."
   ]
  },
  {
   "cell_type": "code",
   "execution_count": null,
   "id": "0e9e7d79",
   "metadata": {},
   "outputs": [],
   "source": [
    "'''\n",
    "  SELECT u.display_name,\n",
    "         COUNT(DISTINCT p.user_id)\n",
    "    FROM stackoverflow.users u\n",
    "    JOIN stackoverflow.posts p \n",
    "      ON u.id = p.user_id\n",
    "    JOIN stackoverflow.post_types pt \n",
    "      ON p.post_type_id = pt.id\n",
    "   WHERE p.creation_date::date BETWEEN u.creation_date::date AND u.creation_date::date + INTERVAL '1 month' AND pt.type = 'Answer'\n",
    "GROUP BY u.display_name\n",
    "  HAVING COUNT(DISTINCT p.id) > 100 \n",
    "'''"
   ]
  },
  {
   "cell_type": "markdown",
   "id": "271ce2e8",
   "metadata": {},
   "source": [
    "### Задание 3\n",
    "Выведите количество постов за 2008 год по месяцам. \n",
    "\n",
    "Отберите посты от пользователей, которые зарегистрировались в сентябре 2008 года и сделали хотя бы один пост в декабре того же года.\n",
    "\n",
    "Отсортируйте таблицу по значению месяца по убыванию."
   ]
  },
  {
   "cell_type": "code",
   "execution_count": null,
   "id": "119fd9fc",
   "metadata": {},
   "outputs": [],
   "source": [
    "'''\n",
    "  SELECT CAST(DATE_TRUNC('month', p.creation_date) AS date) AS month_posts,\n",
    "         COUNT (DISTINCT id) AS user_count\n",
    "    FROM stackoverflow.posts AS p \n",
    "   WHERE user_id IN (\n",
    "                  SELECT DISTINCT u.id\n",
    "                    FROM stackoverflow.users AS u\n",
    "                    JOIN stackoverflow.posts AS p\n",
    "                      ON p.user_id = u.id\n",
    "                   WHERE u.creation_date :: date BETWEEN '2008-09-01' AND '2008-09-30'\n",
    "                     AND p.creation_date :: date BETWEEN '2008-12-01' AND '2008-12-31'\n",
    "                    )\n",
    "     AND p.creation_date :: date BETWEEN '2008-01-01' AND '2008-12-31'\n",
    "GROUP BY month_posts\n",
    "ORDER BY month_posts DESC\n",
    "\n",
    "'''"
   ]
  },
  {
   "cell_type": "markdown",
   "id": "27c99c65",
   "metadata": {},
   "source": [
    "### Задание 4\n",
    "Используя данные о постах, выведите несколько полей:\n",
    "\n",
    "- идентификатор пользователя, который написал пост;\n",
    "- дата создания поста;\n",
    "- количество просмотров у текущего поста;\n",
    "- сумму просмотров постов автора с накоплением.\n",
    "\n",
    "Данные в таблице должны быть отсортированы по возрастанию идентификаторов пользователей, а данные об одном и том же пользователе — по возрастанию даты создания поста."
   ]
  },
  {
   "cell_type": "code",
   "execution_count": null,
   "id": "1a105100",
   "metadata": {},
   "outputs": [],
   "source": [
    "'''\n",
    "  SELECT user_id,\n",
    "         creation_date,\n",
    "         views_count,\n",
    "         SUM(views_count) OVER (PARTITION BY user_id ORDER BY creation_date)\n",
    "    FROM stackoverflow.posts \n",
    "ORDER BY user_id, \n",
    "         creation_date;\n",
    "'''"
   ]
  },
  {
   "cell_type": "markdown",
   "id": "2ec8fdb0",
   "metadata": {},
   "source": [
    "### Задание 5\n",
    "Сколько в среднем дней в период с 1 по 7 декабря 2008 года включительно пользователи взаимодействовали с платформой? \n",
    "\n",
    "Для каждого пользователя отберите дни, в которые он или она опубликовали хотя бы один пост. Нужно получить одно целое число — не забудьте округлить результат."
   ]
  },
  {
   "cell_type": "code",
   "execution_count": null,
   "id": "37b0f227",
   "metadata": {},
   "outputs": [],
   "source": [
    "'''\n",
    "SELECT ROUND(AVG (active_days))\n",
    "FROM (\n",
    "      SELECT user_id,\n",
    "             COUNT(DISTINCT creation_date :: date) AS active_days\n",
    "        FROM stackoverflow.posts \n",
    "       WHERE creation_date :: date BETWEEN '2008-12-01' AND '2008-12-07'\n",
    "    GROUP BY user_id \n",
    "    ) AS cnt; \n",
    "\n",
    "'''"
   ]
  },
  {
   "cell_type": "markdown",
   "id": "10163198",
   "metadata": {},
   "source": [
    "### Задание 6\n",
    "На сколько процентов менялось количество постов ежемесячно с 1 сентября по 31 декабря 2008 года? \n",
    "Отобразите таблицу со следующими полями:\n",
    "- номер месяца;\n",
    "- количество постов за месяц;\n",
    "- процент, который показывает, насколько изменилось количество постов в текущем месяце по сравнению с предыдущим.\n",
    "\n",
    "Если постов стало меньше, значение процента должно быть отрицательным, если больше — положительным. Округлите значение процента до двух знаков после запятой.\n",
    "\n",
    "\n",
    "Напомним, что при делении одного целого числа на другое в PostgreSQL в результате получится целое число, округлённое до ближайшего целого вниз. Чтобы этого избежать, переведите делимое в тип numeric.\n"
   ]
  },
  {
   "cell_type": "code",
   "execution_count": null,
   "id": "b8048bc6",
   "metadata": {},
   "outputs": [],
   "source": [
    "'''\n",
    "WITH posts_month AS (\n",
    "      SELECT EXTRACT (MONTH FROM creation_date) AS month_number,\n",
    "             COUNT(id) AS posts_cnt\n",
    "        FROM stackoverflow.posts \n",
    "       WHERE creation_date :: date BETWEEN '2008-09-01' AND '2008-12-31'\n",
    "    GROUP BY EXTRACT (MONTH FROM creation_date) \n",
    "    ORDER BY month_number\n",
    ")\n",
    "                     \n",
    "SELECT *,\n",
    "       ROUND(( posts_cnt -LAG(posts_cnt) OVER () ) * 100 / LAG(posts_cnt) OVER () :: numeric, 2)\n",
    "  FROM posts_month\n",
    "'''"
   ]
  },
  {
   "cell_type": "markdown",
   "id": "8e8f16e5",
   "metadata": {},
   "source": [
    "### Задание 7\n",
    "\n",
    "Выгрузите данные активности пользователя, который опубликовал больше всего постов за всё время. Выведите данные за октябрь 2008 года в таком виде:\n",
    "- номер недели;\n",
    "- дата и время последнего поста, опубликованного на этой неделе."
   ]
  },
  {
   "cell_type": "code",
   "execution_count": null,
   "id": "841d160e",
   "metadata": {},
   "outputs": [],
   "source": [
    "'''\n",
    "WITH week AS (   \n",
    "      SELECT EXTRACT(WEEK FROM creation_date) AS week_number,\n",
    "             MAX(creation_date) OVER (ORDER BY EXTRACT(WEEK FROM creation_date))\n",
    "        FROM stackoverflow.posts \n",
    "       WHERE user_id = (\n",
    "                 SELECT user_id\n",
    "                   FROM stackoverflow.posts \n",
    "               GROUP BY user_id \n",
    "               ORDER BY COUNT(id) DESC\n",
    "                  LIMIT 1\n",
    "                     ) \n",
    "        AND creation_date :: date BETWEEN '2008-10-01' AND '2008-10-31'          \n",
    "   ORDER BY creation_date\n",
    "             )\n",
    "   \n",
    "  SELECT DISTINCT *\n",
    "    FROM week\n",
    "ORDR BY week_number\n",
    "'''   "
   ]
  }
 ],
 "metadata": {
  "kernelspec": {
   "display_name": "Python 3 (ipykernel)",
   "language": "python",
   "name": "python3"
  },
  "language_info": {
   "codemirror_mode": {
    "name": "ipython",
    "version": 3
   },
   "file_extension": ".py",
   "mimetype": "text/x-python",
   "name": "python",
   "nbconvert_exporter": "python",
   "pygments_lexer": "ipython3",
   "version": "3.10.4"
  },
  "toc": {
   "base_numbering": 1,
   "nav_menu": {},
   "number_sections": true,
   "sideBar": true,
   "skip_h1_title": true,
   "title_cell": "Table of Contents",
   "title_sidebar": "Contents",
   "toc_cell": true,
   "toc_position": {},
   "toc_section_display": true,
   "toc_window_display": false
  }
 },
 "nbformat": 4,
 "nbformat_minor": 5
}
