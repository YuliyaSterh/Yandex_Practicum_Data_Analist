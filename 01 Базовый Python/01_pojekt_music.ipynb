{
 "cells": [
  {
   "cell_type": "markdown",
   "metadata": {
    "id": "E0vqbgi9ay0H"
   },
   "source": [
    "# Яндекс.Музыка"
   ]
  },
  {
   "cell_type": "markdown",
   "metadata": {
    "id": "VUC88oWjTJw2"
   },
   "source": [
    "Сравнение Москвы и Петербурга окружено мифами. Например:\n",
    " * Москва — мегаполис, подчинённый жёсткому ритму рабочей недели;\n",
    " * Петербург — культурная столица, со своими вкусами.\n",
    "\n",
    "На данных Яндекс.Музыки вы сравните поведение пользователей двух столиц.\n",
    "\n",
    "**Цель исследования** — проверьте три гипотезы:\n",
    "1. Активность пользователей зависит от дня недели. Причём в Москве и Петербурге это проявляется по-разному.\n",
    "2. В понедельник утром в Москве преобладают одни жанры, а в Петербурге — другие. Так же и вечером пятницы преобладают разные жанры — в зависимости от города. \n",
    "3. Москва и Петербург предпочитают разные жанры музыки. В Москве чаще слушают поп-музыку, в Петербурге — русский рэп.\n",
    "\n",
    "**Ход исследования**\n",
    "\n",
    "Данные о поведении пользователей вы получите из файла `yandex_music_project.csv`. О качестве данных ничего не известно. Поэтому перед проверкой гипотез понадобится обзор данных. \n",
    "\n",
    "Вы проверите данные на ошибки и оцените их влияние на исследование. Затем, на этапе предобработки вы поищете возможность исправить самые критичные ошибки данных.\n",
    " \n",
    "Таким образом, исследование пройдёт в три этапа:\n",
    " 1. Обзор данных.\n",
    " 2. Предобработка данных.\n",
    " 3. Проверка гипотез.\n",
    "\n"
   ]
  },
  {
   "cell_type": "markdown",
   "metadata": {
    "id": "Ml1hmfXC_Zcs"
   },
   "source": [
    "## Обзор данных\n",
    "\n",
    "Составьте первое представление о данных Яндекс.Музыки.\n",
    "\n",
    "\n"
   ]
  },
  {
   "cell_type": "markdown",
   "metadata": {
    "id": "57eAOGIz_Zcs"
   },
   "source": [
    "Основной инструмент аналитика — `pandas`. Импортируйте эту библиотеку."
   ]
  },
  {
   "cell_type": "code",
   "execution_count": 1,
   "metadata": {
    "id": "AXN7PHPN_Zcs"
   },
   "outputs": [],
   "source": [
    "import pandas as pd"
   ]
  },
  {
   "cell_type": "markdown",
   "metadata": {
    "id": "SG23P8tt_Zcs"
   },
   "source": [
    "Прочитайте файл `yandex_music_project.csv` из папки `/datasets` и сохраните его в переменной `df`:"
   ]
  },
  {
   "cell_type": "code",
   "execution_count": 2,
   "metadata": {
    "id": "fFVu7vqh_Zct"
   },
   "outputs": [],
   "source": [
    "try:\n",
    "    df = pd.read_csv('/datasets/yandex_music_project.csv')\n",
    "except:\n",
    "    df = pd.read_csv('yandex_music_project.csv') "
   ]
  },
  {
   "cell_type": "markdown",
   "metadata": {
    "id": "rDoOMd3uTqnZ"
   },
   "source": [
    "Выведите на экран первые десять строк таблицы:"
   ]
  },
  {
   "cell_type": "code",
   "execution_count": 3,
   "metadata": {
    "id": "oWTVX3gW_Zct"
   },
   "outputs": [
    {
     "data": {
      "text/html": [
       "<div>\n",
       "<style scoped>\n",
       "    .dataframe tbody tr th:only-of-type {\n",
       "        vertical-align: middle;\n",
       "    }\n",
       "\n",
       "    .dataframe tbody tr th {\n",
       "        vertical-align: top;\n",
       "    }\n",
       "\n",
       "    .dataframe thead th {\n",
       "        text-align: right;\n",
       "    }\n",
       "</style>\n",
       "<table border=\"1\" class=\"dataframe\">\n",
       "  <thead>\n",
       "    <tr style=\"text-align: right;\">\n",
       "      <th></th>\n",
       "      <th>userID</th>\n",
       "      <th>Track</th>\n",
       "      <th>artist</th>\n",
       "      <th>genre</th>\n",
       "      <th>City</th>\n",
       "      <th>time</th>\n",
       "      <th>Day</th>\n",
       "    </tr>\n",
       "  </thead>\n",
       "  <tbody>\n",
       "    <tr>\n",
       "      <th>0</th>\n",
       "      <td>FFB692EC</td>\n",
       "      <td>Kamigata To Boots</td>\n",
       "      <td>The Mass Missile</td>\n",
       "      <td>rock</td>\n",
       "      <td>Saint-Petersburg</td>\n",
       "      <td>20:28:33</td>\n",
       "      <td>Wednesday</td>\n",
       "    </tr>\n",
       "    <tr>\n",
       "      <th>1</th>\n",
       "      <td>55204538</td>\n",
       "      <td>Delayed Because of Accident</td>\n",
       "      <td>Andreas Rönnberg</td>\n",
       "      <td>rock</td>\n",
       "      <td>Moscow</td>\n",
       "      <td>14:07:09</td>\n",
       "      <td>Friday</td>\n",
       "    </tr>\n",
       "    <tr>\n",
       "      <th>2</th>\n",
       "      <td>20EC38</td>\n",
       "      <td>Funiculì funiculà</td>\n",
       "      <td>Mario Lanza</td>\n",
       "      <td>pop</td>\n",
       "      <td>Saint-Petersburg</td>\n",
       "      <td>20:58:07</td>\n",
       "      <td>Wednesday</td>\n",
       "    </tr>\n",
       "    <tr>\n",
       "      <th>3</th>\n",
       "      <td>A3DD03C9</td>\n",
       "      <td>Dragons in the Sunset</td>\n",
       "      <td>Fire + Ice</td>\n",
       "      <td>folk</td>\n",
       "      <td>Saint-Petersburg</td>\n",
       "      <td>08:37:09</td>\n",
       "      <td>Monday</td>\n",
       "    </tr>\n",
       "    <tr>\n",
       "      <th>4</th>\n",
       "      <td>E2DC1FAE</td>\n",
       "      <td>Soul People</td>\n",
       "      <td>Space Echo</td>\n",
       "      <td>dance</td>\n",
       "      <td>Moscow</td>\n",
       "      <td>08:34:34</td>\n",
       "      <td>Monday</td>\n",
       "    </tr>\n",
       "  </tbody>\n",
       "</table>\n",
       "</div>"
      ],
      "text/plain": [
       "     userID                        Track            artist  genre  \\\n",
       "0  FFB692EC            Kamigata To Boots  The Mass Missile   rock   \n",
       "1  55204538  Delayed Because of Accident  Andreas Rönnberg   rock   \n",
       "2    20EC38            Funiculì funiculà       Mario Lanza    pop   \n",
       "3  A3DD03C9        Dragons in the Sunset        Fire + Ice   folk   \n",
       "4  E2DC1FAE                  Soul People        Space Echo  dance   \n",
       "\n",
       "             City        time        Day  \n",
       "0  Saint-Petersburg  20:28:33  Wednesday  \n",
       "1            Moscow  14:07:09     Friday  \n",
       "2  Saint-Petersburg  20:58:07  Wednesday  \n",
       "3  Saint-Petersburg  08:37:09     Monday  \n",
       "4            Moscow  08:34:34     Monday  "
      ]
     },
     "execution_count": 3,
     "metadata": {},
     "output_type": "execute_result"
    }
   ],
   "source": [
    "df.head()"
   ]
  },
  {
   "cell_type": "markdown",
   "metadata": {
    "id": "EO73Kwic_Zct"
   },
   "source": [
    "Одной командой получить общую информацию о таблице:"
   ]
  },
  {
   "cell_type": "code",
   "execution_count": 4,
   "metadata": {
    "id": "DSf2kIb-_Zct"
   },
   "outputs": [
    {
     "name": "stdout",
     "output_type": "stream",
     "text": [
      "<class 'pandas.core.frame.DataFrame'>\n",
      "RangeIndex: 65079 entries, 0 to 65078\n",
      "Data columns (total 7 columns):\n",
      " #   Column    Non-Null Count  Dtype \n",
      "---  ------    --------------  ----- \n",
      " 0     userID  65079 non-null  object\n",
      " 1   Track     63848 non-null  object\n",
      " 2   artist    57876 non-null  object\n",
      " 3   genre     63881 non-null  object\n",
      " 4     City    65079 non-null  object\n",
      " 5   time      65079 non-null  object\n",
      " 6   Day       65079 non-null  object\n",
      "dtypes: object(7)\n",
      "memory usage: 3.5+ MB\n"
     ]
    }
   ],
   "source": [
    "df.info()"
   ]
  },
  {
   "cell_type": "markdown",
   "metadata": {
    "id": "TaQ2Iwbr_Zct"
   },
   "source": [
    "Итак, в таблице семь столбцов. Тип данных во всех столбцах — `object`.\n",
    "\n",
    "Согласно документации к данным:\n",
    "* `userID` — идентификатор пользователя;\n",
    "* `Track` — название трека;  \n",
    "* `artist` — имя исполнителя;\n",
    "* `genre` — название жанра;\n",
    "* `City` — город пользователя;\n",
    "* `time` — время начала прослушивания;\n",
    "* `Day` — день недели.\n",
    "\n",
    "В названиях колонок видны три нарушения стиля:\n",
    "1. Строчные буквы сочетаются с прописными.\n",
    "2. Встречаются пробелы.\n",
    "3. Не соблюдается snake_case\n",
    "\n",
    "\n",
    "\n",
    "Количество значений в столбцах различается. Значит, в данных есть пропущенные значения.\n"
   ]
  },
  {
   "cell_type": "markdown",
   "metadata": {
    "id": "MCB6-dXG_Zct"
   },
   "source": [
    "**Выводы**\n",
    "\n",
    "В каждой строке таблицы — данные о прослушанном треке. Часть колонок описывает саму композицию: название, исполнителя и жанр. Остальные данные рассказывают о пользователе: из какого он города, когда он слушал музыку. \n",
    "\n",
    "Предварительно можно утверждать, что, данных достаточно для проверки гипотез. Но встречаются пропуски в данных, а в названиях колонок — расхождения с хорошим стилем.\n",
    "\n",
    "Чтобы двигаться дальше, нужно устранить проблемы в данных."
   ]
  },
  {
   "cell_type": "markdown",
   "metadata": {
    "id": "SjYF6Ub9_Zct"
   },
   "source": [
    "## Предобработка данных\n",
    "Исправьте стиль в заголовках столбцов, исключите пропуски. Затем проверьте данные на дубликаты."
   ]
  },
  {
   "cell_type": "markdown",
   "metadata": {
    "id": "dIaKXr29_Zct"
   },
   "source": [
    "### Стиль заголовков\n",
    "Выведите на экран названия столбцов:"
   ]
  },
  {
   "cell_type": "code",
   "execution_count": 5,
   "metadata": {
    "id": "oKOTdF_Q_Zct"
   },
   "outputs": [
    {
     "data": {
      "text/plain": [
       "Index(['  userID', 'Track', 'artist', 'genre', '  City  ', 'time', 'Day'], dtype='object')"
      ]
     },
     "execution_count": 5,
     "metadata": {},
     "output_type": "execute_result"
    }
   ],
   "source": [
    "df.columns"
   ]
  },
  {
   "cell_type": "markdown",
   "metadata": {
    "id": "zj5534cv_Zct"
   },
   "source": [
    "Приведите названия в соответствие с хорошим стилем:\n",
    "* несколько слов в названии запишите в «змеином_регистре»,\n",
    "* все символы сделайте строчными,\n",
    "* устраните пробелы.\n",
    "\n",
    "Для этого переименуйте колонки так:\n",
    "* `'  userID'` → `'user_id'`;\n",
    "* `'Track'` → `'track'`;\n",
    "* `'  City  '` → `'city'`;\n",
    "* `'Day'` → `'day'`."
   ]
  },
  {
   "cell_type": "code",
   "execution_count": 6,
   "metadata": {
    "id": "ISlFqs5y_Zct"
   },
   "outputs": [],
   "source": [
    "df = df.rename(columns={'  userID':'user_id', 'Track':'track', '  City  ':'city', 'Day':'day'})"
   ]
  },
  {
   "cell_type": "markdown",
   "metadata": {
    "id": "1dqbh00J_Zct"
   },
   "source": [
    "Проверьте результат. Для этого ещё раз выведите на экран названия столбцов:"
   ]
  },
  {
   "cell_type": "code",
   "execution_count": 7,
   "metadata": {
    "id": "d4NOAmTW_Zct"
   },
   "outputs": [
    {
     "data": {
      "text/plain": [
       "Index(['user_id', 'track', 'artist', 'genre', 'city', 'time', 'day'], dtype='object')"
      ]
     },
     "execution_count": 7,
     "metadata": {},
     "output_type": "execute_result"
    }
   ],
   "source": [
    "df.columns"
   ]
  },
  {
   "cell_type": "markdown",
   "metadata": {
    "id": "5ISfbcfY_Zct"
   },
   "source": [
    "### Пропуски значений\n",
    "Сначала посчитайте, сколько в таблице пропущенных значений. Для этого достаточно двух методов `pandas`:"
   ]
  },
  {
   "cell_type": "code",
   "execution_count": 8,
   "metadata": {
    "id": "RskX29qr_Zct"
   },
   "outputs": [
    {
     "data": {
      "text/plain": [
       "user_id       0\n",
       "track      1231\n",
       "artist     7203\n",
       "genre      1198\n",
       "city          0\n",
       "time          0\n",
       "day           0\n",
       "dtype: int64"
      ]
     },
     "execution_count": 8,
     "metadata": {},
     "output_type": "execute_result"
    }
   ],
   "source": [
    "df.isna().sum()"
   ]
  },
  {
   "cell_type": "markdown",
   "metadata": {
    "id": "qubhgnlO_Zct"
   },
   "source": [
    "Не все пропущенные значения влияют на исследование. Так в `track` и `artist` пропуски не важны для вашей работы. Достаточно заменить их явными обозначениями.\n",
    "\n",
    "Но пропуски в `genre` могут помешать сравнению музыкальных вкусов в Москве и Санкт-Петербурге. На практике было бы правильно установить причину пропусков и восстановить данные. Такой возможности нет в учебном проекте. Придётся:\n",
    "* заполнить и эти пропуски явными обозначениями,\n",
    "* оценить, насколько они повредят расчётам. "
   ]
  },
  {
   "cell_type": "markdown",
   "metadata": {
    "id": "fSv2laPA_Zct"
   },
   "source": [
    "Замените пропущенные значения в столбцах `track`, `artist` и `genre` на строку `'unknown'`. Для этого создайте список `columns_to_replace`, переберите его элементы циклом `for` и для каждого столбца выполните замену пропущенных значений:"
   ]
  },
  {
   "cell_type": "code",
   "execution_count": 9,
   "metadata": {
    "id": "KplB5qWs_Zct"
   },
   "outputs": [],
   "source": [
    "# перебор названий столбцов в цикле и замена пропущенных значений на 'unknown'\n",
    "\n",
    "columns_to_replace = ['track', 'artist', 'genre']\n",
    "\n",
    "for column in columns_to_replace:\n",
    "    df[column] = df[column].fillna('unknown')\n"
   ]
  },
  {
   "cell_type": "markdown",
   "metadata": {
    "id": "Ilsm-MZo_Zct"
   },
   "source": [
    "Убедитесь, что в таблице не осталось пропусков. Для этого ещё раз посчитайте пропущенные значения."
   ]
  },
  {
   "cell_type": "code",
   "execution_count": 10,
   "metadata": {
    "id": "Tq4nYRX4_Zct"
   },
   "outputs": [
    {
     "data": {
      "text/plain": [
       "user_id    0\n",
       "track      0\n",
       "artist     0\n",
       "genre      0\n",
       "city       0\n",
       "time       0\n",
       "day        0\n",
       "dtype: int64"
      ]
     },
     "execution_count": 10,
     "metadata": {},
     "output_type": "execute_result"
    }
   ],
   "source": [
    "df.isna().sum()\n"
   ]
  },
  {
   "cell_type": "markdown",
   "metadata": {
    "id": "BWKRtBJ3_Zct"
   },
   "source": [
    "### Дубликаты\n",
    "Посчитайте явные дубликаты в таблице одной командой:"
   ]
  },
  {
   "cell_type": "code",
   "execution_count": 11,
   "metadata": {
    "id": "36eES_S0_Zct"
   },
   "outputs": [
    {
     "data": {
      "text/plain": [
       "3826"
      ]
     },
     "execution_count": 11,
     "metadata": {},
     "output_type": "execute_result"
    }
   ],
   "source": [
    "# подсчёт явных дубликатов\n",
    "df.duplicated().sum()"
   ]
  },
  {
   "cell_type": "markdown",
   "metadata": {
    "id": "Ot25h6XR_Zct"
   },
   "source": [
    "Вызовите специальный метод `pandas`, чтобы удалить явные дубликаты:"
   ]
  },
  {
   "cell_type": "code",
   "execution_count": 12,
   "metadata": {
    "id": "exFHq6tt_Zct"
   },
   "outputs": [],
   "source": [
    "# удаление явных дубликатов (с удалением старых индексов и формированием новых)\n",
    "df = df.drop_duplicates().reset_index(drop=True)"
   ]
  },
  {
   "cell_type": "markdown",
   "metadata": {
    "id": "Im2YwBEG_Zct"
   },
   "source": [
    "Ещё раз посчитайте явные дубликаты в таблице — убедитесь, что полностью от них избавились:"
   ]
  },
  {
   "cell_type": "code",
   "execution_count": 13,
   "metadata": {
    "id": "-8PuNWQ0_Zct"
   },
   "outputs": [
    {
     "data": {
      "text/plain": [
       "0"
      ]
     },
     "execution_count": 13,
     "metadata": {},
     "output_type": "execute_result"
    }
   ],
   "source": [
    "# проверка на отсутствие дубликатов\n",
    "df.duplicated().sum()"
   ]
  },
  {
   "cell_type": "markdown",
   "metadata": {
    "id": "QlFBsxAr_Zct"
   },
   "source": [
    "Теперь избавьтесь от неявных дубликатов в колонке `genre`. Например, название одного и того же жанра может быть записано немного по-разному. Такие ошибки тоже повлияют на результат исследования."
   ]
  },
  {
   "cell_type": "markdown",
   "metadata": {
    "id": "eSjWwsOh_Zct"
   },
   "source": [
    "Выведите на экран список уникальных названий жанров, отсортированный в алфавитном порядке. Для этого:\n",
    "* извлеките нужный столбец датафрейма, \n",
    "* примените к нему метод сортировки,\n",
    "* для отсортированного столбца вызовите метод, который вернёт уникальные значения из столбца."
   ]
  },
  {
   "cell_type": "code",
   "execution_count": 14,
   "metadata": {
    "id": "JIUcqzZN_Zct",
    "scrolled": true
   },
   "outputs": [
    {
     "data": {
      "text/plain": [
       "['acid',\n",
       " 'acoustic',\n",
       " 'action',\n",
       " 'adult',\n",
       " 'africa',\n",
       " 'afrikaans',\n",
       " 'alternative',\n",
       " 'alternativepunk',\n",
       " 'ambient',\n",
       " 'americana',\n",
       " 'animated',\n",
       " 'anime',\n",
       " 'arabesk',\n",
       " 'arabic',\n",
       " 'arena',\n",
       " 'argentinetango',\n",
       " 'art',\n",
       " 'audiobook',\n",
       " 'author',\n",
       " 'avantgarde',\n",
       " 'axé',\n",
       " 'baile',\n",
       " 'balkan',\n",
       " 'beats',\n",
       " 'bigroom',\n",
       " 'black',\n",
       " 'bluegrass',\n",
       " 'blues',\n",
       " 'bollywood',\n",
       " 'bossa',\n",
       " 'brazilian',\n",
       " 'breakbeat',\n",
       " 'breaks',\n",
       " 'broadway',\n",
       " 'cantautori',\n",
       " 'cantopop',\n",
       " 'canzone',\n",
       " 'caribbean',\n",
       " 'caucasian',\n",
       " 'celtic',\n",
       " 'chamber',\n",
       " 'chanson',\n",
       " 'children',\n",
       " 'chill',\n",
       " 'chinese',\n",
       " 'choral',\n",
       " 'christian',\n",
       " 'christmas',\n",
       " 'classical',\n",
       " 'classicmetal',\n",
       " 'club',\n",
       " 'colombian',\n",
       " 'comedy',\n",
       " 'conjazz',\n",
       " 'contemporary',\n",
       " 'country',\n",
       " 'cuban',\n",
       " 'dance',\n",
       " 'dancehall',\n",
       " 'dancepop',\n",
       " 'dark',\n",
       " 'death',\n",
       " 'deep',\n",
       " 'deutschrock',\n",
       " 'deutschspr',\n",
       " 'dirty',\n",
       " 'disco',\n",
       " 'dnb',\n",
       " 'documentary',\n",
       " 'downbeat',\n",
       " 'downtempo',\n",
       " 'drum',\n",
       " 'dub',\n",
       " 'dubstep',\n",
       " 'eastern',\n",
       " 'easy',\n",
       " 'electronic',\n",
       " 'electropop',\n",
       " 'emo',\n",
       " 'entehno',\n",
       " 'epicmetal',\n",
       " 'estrada',\n",
       " 'ethnic',\n",
       " 'eurofolk',\n",
       " 'european',\n",
       " 'experimental',\n",
       " 'extrememetal',\n",
       " 'fado',\n",
       " 'fairytail',\n",
       " 'film',\n",
       " 'fitness',\n",
       " 'flamenco',\n",
       " 'folk',\n",
       " 'folklore',\n",
       " 'folkmetal',\n",
       " 'folkrock',\n",
       " 'folktronica',\n",
       " 'forró',\n",
       " 'frankreich',\n",
       " 'französisch',\n",
       " 'french',\n",
       " 'funk',\n",
       " 'future',\n",
       " 'gangsta',\n",
       " 'garage',\n",
       " 'german',\n",
       " 'ghazal',\n",
       " 'gitarre',\n",
       " 'glitch',\n",
       " 'gospel',\n",
       " 'gothic',\n",
       " 'grime',\n",
       " 'grunge',\n",
       " 'gypsy',\n",
       " 'handsup',\n",
       " \"hard'n'heavy\",\n",
       " 'hardcore',\n",
       " 'hardstyle',\n",
       " 'hardtechno',\n",
       " 'hip',\n",
       " 'hip-hop',\n",
       " 'hiphop',\n",
       " 'historisch',\n",
       " 'holiday',\n",
       " 'hop',\n",
       " 'horror',\n",
       " 'house',\n",
       " 'hymn',\n",
       " 'idm',\n",
       " 'independent',\n",
       " 'indian',\n",
       " 'indie',\n",
       " 'indipop',\n",
       " 'industrial',\n",
       " 'inspirational',\n",
       " 'instrumental',\n",
       " 'international',\n",
       " 'irish',\n",
       " 'jam',\n",
       " 'japanese',\n",
       " 'jazz',\n",
       " 'jewish',\n",
       " 'jpop',\n",
       " 'jungle',\n",
       " 'k-pop',\n",
       " 'karadeniz',\n",
       " 'karaoke',\n",
       " 'kayokyoku',\n",
       " 'korean',\n",
       " 'laiko',\n",
       " 'latin',\n",
       " 'latino',\n",
       " 'leftfield',\n",
       " 'local',\n",
       " 'lounge',\n",
       " 'loungeelectronic',\n",
       " 'lovers',\n",
       " 'malaysian',\n",
       " 'mandopop',\n",
       " 'marschmusik',\n",
       " 'meditative',\n",
       " 'mediterranean',\n",
       " 'melodic',\n",
       " 'metal',\n",
       " 'metalcore',\n",
       " 'mexican',\n",
       " 'middle',\n",
       " 'minimal',\n",
       " 'miscellaneous',\n",
       " 'modern',\n",
       " 'mood',\n",
       " 'mpb',\n",
       " 'muslim',\n",
       " 'native',\n",
       " 'neoklassik',\n",
       " 'neue',\n",
       " 'new',\n",
       " 'newage',\n",
       " 'newwave',\n",
       " 'nu',\n",
       " 'nujazz',\n",
       " 'numetal',\n",
       " 'oceania',\n",
       " 'old',\n",
       " 'opera',\n",
       " 'orchestral',\n",
       " 'other',\n",
       " 'piano',\n",
       " 'podcasts',\n",
       " 'pop',\n",
       " 'popdance',\n",
       " 'popelectronic',\n",
       " 'popeurodance',\n",
       " 'poprussian',\n",
       " 'post',\n",
       " 'posthardcore',\n",
       " 'postrock',\n",
       " 'power',\n",
       " 'progmetal',\n",
       " 'progressive',\n",
       " 'psychedelic',\n",
       " 'punjabi',\n",
       " 'punk',\n",
       " 'quebecois',\n",
       " 'ragga',\n",
       " 'ram',\n",
       " 'rancheras',\n",
       " 'rap',\n",
       " 'rave',\n",
       " 'reggae',\n",
       " 'reggaeton',\n",
       " 'regional',\n",
       " 'relax',\n",
       " 'religious',\n",
       " 'retro',\n",
       " 'rhythm',\n",
       " 'rnb',\n",
       " 'rnr',\n",
       " 'rock',\n",
       " 'rockabilly',\n",
       " 'rockalternative',\n",
       " 'rockindie',\n",
       " 'rockother',\n",
       " 'romance',\n",
       " 'roots',\n",
       " 'ruspop',\n",
       " 'rusrap',\n",
       " 'rusrock',\n",
       " 'russian',\n",
       " 'salsa',\n",
       " 'samba',\n",
       " 'scenic',\n",
       " 'schlager',\n",
       " 'self',\n",
       " 'sertanejo',\n",
       " 'shanson',\n",
       " 'shoegazing',\n",
       " 'showtunes',\n",
       " 'singer',\n",
       " 'ska',\n",
       " 'skarock',\n",
       " 'slow',\n",
       " 'smooth',\n",
       " 'soft',\n",
       " 'soul',\n",
       " 'soulful',\n",
       " 'sound',\n",
       " 'soundtrack',\n",
       " 'southern',\n",
       " 'specialty',\n",
       " 'speech',\n",
       " 'spiritual',\n",
       " 'sport',\n",
       " 'stonerrock',\n",
       " 'surf',\n",
       " 'swing',\n",
       " 'synthpop',\n",
       " 'synthrock',\n",
       " 'sängerportrait',\n",
       " 'tango',\n",
       " 'tanzorchester',\n",
       " 'taraftar',\n",
       " 'tatar',\n",
       " 'tech',\n",
       " 'techno',\n",
       " 'teen',\n",
       " 'thrash',\n",
       " 'top',\n",
       " 'traditional',\n",
       " 'tradjazz',\n",
       " 'trance',\n",
       " 'tribal',\n",
       " 'trip',\n",
       " 'triphop',\n",
       " 'tropical',\n",
       " 'türk',\n",
       " 'türkçe',\n",
       " 'ukrrock',\n",
       " 'unknown',\n",
       " 'urban',\n",
       " 'uzbek',\n",
       " 'variété',\n",
       " 'vi',\n",
       " 'videogame',\n",
       " 'vocal',\n",
       " 'western',\n",
       " 'world',\n",
       " 'worldbeat',\n",
       " 'ïîï',\n",
       " 'электроника']"
      ]
     },
     "execution_count": 14,
     "metadata": {},
     "output_type": "execute_result"
    }
   ],
   "source": [
    "# Просмотр уникальных названий жанров\n",
    "sorted(df['genre'].unique())\n"
   ]
  },
  {
   "cell_type": "markdown",
   "metadata": {
    "id": "qej-Qmuo_Zct"
   },
   "source": [
    "Просмотрите список и найдите неявные дубликаты названия `hiphop`. Это могут быть названия с ошибками или альтернативные названия того же жанра.\n",
    "\n",
    "Вы увидите следующие неявные дубликаты:\n",
    "* *hip*,\n",
    "* *hop*,\n",
    "* *hip-hop*.\n",
    "\n",
    "Чтобы очистить от них таблицу, напишите функцию `replace_wrong_genres()` с двумя параметрами: \n",
    "* `wrong_genres` — список дубликатов,\n",
    "* `correct_genre` — строка с правильным значением.\n",
    "\n",
    "Функция должна исправить колонку `genre` в таблице `df`: заменить каждое значение из списка `wrong_genres` на значение из `correct_genre`."
   ]
  },
  {
   "cell_type": "code",
   "execution_count": 15,
   "metadata": {
    "id": "ErNDkmns_Zct"
   },
   "outputs": [],
   "source": [
    "# Функция для замены неявных дубликатов\n",
    "def replace_wrong_genres(wrong_genres, correct_genre):\n",
    "    for wrong_genre in wrong_genres:\n",
    "        df['genre'] = df['genre'].replace(wrong_genres, correct_genre)"
   ]
  },
  {
   "cell_type": "markdown",
   "metadata": {
    "id": "aDoBJxbA_Zct"
   },
   "source": [
    "Вызовите `replace_wrong_genres()` и передайте ей такие аргументы, чтобы она устранила неявные дубликаты: вместо `hip`, `hop` и `hip-hop` в таблице должно быть значение `hiphop`:"
   ]
  },
  {
   "cell_type": "code",
   "execution_count": 16,
   "metadata": {
    "id": "YN5i2hpmSo09"
   },
   "outputs": [],
   "source": [
    "# Устранение неявных дубликатов\n",
    "\n",
    "#создаем словарь с правильными значениями(key) и дубликатами(value)\n",
    "dict_duplicates = {'hiphop':['hip', 'hop', 'hip-hop'],\n",
    "                   'french':['frankreich', 'französisch'],\n",
    "                   'latino': ['latin'],'new':['neue'],\n",
    "                   'türk':['türkçe'],'electronic':['электроника']\n",
    "}\n",
    "\n",
    "#цикл по словарю dict_duplicates для замены дубликатов:\n",
    "for key, value in dict_duplicates.items():\n",
    "    for index in range(len(value)):\n",
    "        replace_wrong_genres(value, key)"
   ]
  },
  {
   "cell_type": "markdown",
   "metadata": {
    "id": "zQKF16_RG15m"
   },
   "source": [
    "Проверьте, что заменили неправильные названия:\n",
    "\n",
    "*   hip\n",
    "*   hop\n",
    "*   hip-hop\n",
    "\n",
    "Выведите отсортированный список уникальных значений столбца `genre`:"
   ]
  },
  {
   "cell_type": "code",
   "execution_count": 17,
   "metadata": {
    "id": "wvixALnFG15m"
   },
   "outputs": [
    {
     "data": {
      "text/plain": [
       "['acid',\n",
       " 'acoustic',\n",
       " 'action',\n",
       " 'adult',\n",
       " 'africa',\n",
       " 'afrikaans',\n",
       " 'alternative',\n",
       " 'alternativepunk',\n",
       " 'ambient',\n",
       " 'americana',\n",
       " 'animated',\n",
       " 'anime',\n",
       " 'arabesk',\n",
       " 'arabic',\n",
       " 'arena',\n",
       " 'argentinetango',\n",
       " 'art',\n",
       " 'audiobook',\n",
       " 'author',\n",
       " 'avantgarde',\n",
       " 'axé',\n",
       " 'baile',\n",
       " 'balkan',\n",
       " 'beats',\n",
       " 'bigroom',\n",
       " 'black',\n",
       " 'bluegrass',\n",
       " 'blues',\n",
       " 'bollywood',\n",
       " 'bossa',\n",
       " 'brazilian',\n",
       " 'breakbeat',\n",
       " 'breaks',\n",
       " 'broadway',\n",
       " 'cantautori',\n",
       " 'cantopop',\n",
       " 'canzone',\n",
       " 'caribbean',\n",
       " 'caucasian',\n",
       " 'celtic',\n",
       " 'chamber',\n",
       " 'chanson',\n",
       " 'children',\n",
       " 'chill',\n",
       " 'chinese',\n",
       " 'choral',\n",
       " 'christian',\n",
       " 'christmas',\n",
       " 'classical',\n",
       " 'classicmetal',\n",
       " 'club',\n",
       " 'colombian',\n",
       " 'comedy',\n",
       " 'conjazz',\n",
       " 'contemporary',\n",
       " 'country',\n",
       " 'cuban',\n",
       " 'dance',\n",
       " 'dancehall',\n",
       " 'dancepop',\n",
       " 'dark',\n",
       " 'death',\n",
       " 'deep',\n",
       " 'deutschrock',\n",
       " 'deutschspr',\n",
       " 'dirty',\n",
       " 'disco',\n",
       " 'dnb',\n",
       " 'documentary',\n",
       " 'downbeat',\n",
       " 'downtempo',\n",
       " 'drum',\n",
       " 'dub',\n",
       " 'dubstep',\n",
       " 'eastern',\n",
       " 'easy',\n",
       " 'electronic',\n",
       " 'electropop',\n",
       " 'emo',\n",
       " 'entehno',\n",
       " 'epicmetal',\n",
       " 'estrada',\n",
       " 'ethnic',\n",
       " 'eurofolk',\n",
       " 'european',\n",
       " 'experimental',\n",
       " 'extrememetal',\n",
       " 'fado',\n",
       " 'fairytail',\n",
       " 'film',\n",
       " 'fitness',\n",
       " 'flamenco',\n",
       " 'folk',\n",
       " 'folklore',\n",
       " 'folkmetal',\n",
       " 'folkrock',\n",
       " 'folktronica',\n",
       " 'forró',\n",
       " 'french',\n",
       " 'funk',\n",
       " 'future',\n",
       " 'gangsta',\n",
       " 'garage',\n",
       " 'german',\n",
       " 'ghazal',\n",
       " 'gitarre',\n",
       " 'glitch',\n",
       " 'gospel',\n",
       " 'gothic',\n",
       " 'grime',\n",
       " 'grunge',\n",
       " 'gypsy',\n",
       " 'handsup',\n",
       " \"hard'n'heavy\",\n",
       " 'hardcore',\n",
       " 'hardstyle',\n",
       " 'hardtechno',\n",
       " 'hiphop',\n",
       " 'historisch',\n",
       " 'holiday',\n",
       " 'horror',\n",
       " 'house',\n",
       " 'hymn',\n",
       " 'idm',\n",
       " 'independent',\n",
       " 'indian',\n",
       " 'indie',\n",
       " 'indipop',\n",
       " 'industrial',\n",
       " 'inspirational',\n",
       " 'instrumental',\n",
       " 'international',\n",
       " 'irish',\n",
       " 'jam',\n",
       " 'japanese',\n",
       " 'jazz',\n",
       " 'jewish',\n",
       " 'jpop',\n",
       " 'jungle',\n",
       " 'k-pop',\n",
       " 'karadeniz',\n",
       " 'karaoke',\n",
       " 'kayokyoku',\n",
       " 'korean',\n",
       " 'laiko',\n",
       " 'latino',\n",
       " 'leftfield',\n",
       " 'local',\n",
       " 'lounge',\n",
       " 'loungeelectronic',\n",
       " 'lovers',\n",
       " 'malaysian',\n",
       " 'mandopop',\n",
       " 'marschmusik',\n",
       " 'meditative',\n",
       " 'mediterranean',\n",
       " 'melodic',\n",
       " 'metal',\n",
       " 'metalcore',\n",
       " 'mexican',\n",
       " 'middle',\n",
       " 'minimal',\n",
       " 'miscellaneous',\n",
       " 'modern',\n",
       " 'mood',\n",
       " 'mpb',\n",
       " 'muslim',\n",
       " 'native',\n",
       " 'neoklassik',\n",
       " 'new',\n",
       " 'newage',\n",
       " 'newwave',\n",
       " 'nu',\n",
       " 'nujazz',\n",
       " 'numetal',\n",
       " 'oceania',\n",
       " 'old',\n",
       " 'opera',\n",
       " 'orchestral',\n",
       " 'other',\n",
       " 'piano',\n",
       " 'podcasts',\n",
       " 'pop',\n",
       " 'popdance',\n",
       " 'popelectronic',\n",
       " 'popeurodance',\n",
       " 'poprussian',\n",
       " 'post',\n",
       " 'posthardcore',\n",
       " 'postrock',\n",
       " 'power',\n",
       " 'progmetal',\n",
       " 'progressive',\n",
       " 'psychedelic',\n",
       " 'punjabi',\n",
       " 'punk',\n",
       " 'quebecois',\n",
       " 'ragga',\n",
       " 'ram',\n",
       " 'rancheras',\n",
       " 'rap',\n",
       " 'rave',\n",
       " 'reggae',\n",
       " 'reggaeton',\n",
       " 'regional',\n",
       " 'relax',\n",
       " 'religious',\n",
       " 'retro',\n",
       " 'rhythm',\n",
       " 'rnb',\n",
       " 'rnr',\n",
       " 'rock',\n",
       " 'rockabilly',\n",
       " 'rockalternative',\n",
       " 'rockindie',\n",
       " 'rockother',\n",
       " 'romance',\n",
       " 'roots',\n",
       " 'ruspop',\n",
       " 'rusrap',\n",
       " 'rusrock',\n",
       " 'russian',\n",
       " 'salsa',\n",
       " 'samba',\n",
       " 'scenic',\n",
       " 'schlager',\n",
       " 'self',\n",
       " 'sertanejo',\n",
       " 'shanson',\n",
       " 'shoegazing',\n",
       " 'showtunes',\n",
       " 'singer',\n",
       " 'ska',\n",
       " 'skarock',\n",
       " 'slow',\n",
       " 'smooth',\n",
       " 'soft',\n",
       " 'soul',\n",
       " 'soulful',\n",
       " 'sound',\n",
       " 'soundtrack',\n",
       " 'southern',\n",
       " 'specialty',\n",
       " 'speech',\n",
       " 'spiritual',\n",
       " 'sport',\n",
       " 'stonerrock',\n",
       " 'surf',\n",
       " 'swing',\n",
       " 'synthpop',\n",
       " 'synthrock',\n",
       " 'sängerportrait',\n",
       " 'tango',\n",
       " 'tanzorchester',\n",
       " 'taraftar',\n",
       " 'tatar',\n",
       " 'tech',\n",
       " 'techno',\n",
       " 'teen',\n",
       " 'thrash',\n",
       " 'top',\n",
       " 'traditional',\n",
       " 'tradjazz',\n",
       " 'trance',\n",
       " 'tribal',\n",
       " 'trip',\n",
       " 'triphop',\n",
       " 'tropical',\n",
       " 'türk',\n",
       " 'ukrrock',\n",
       " 'unknown',\n",
       " 'urban',\n",
       " 'uzbek',\n",
       " 'variété',\n",
       " 'vi',\n",
       " 'videogame',\n",
       " 'vocal',\n",
       " 'western',\n",
       " 'world',\n",
       " 'worldbeat',\n",
       " 'ïîï']"
      ]
     },
     "execution_count": 17,
     "metadata": {},
     "output_type": "execute_result"
    }
   ],
   "source": [
    "# Проверка на неявные дубликаты\n",
    "sorted(df['genre'].unique()) \n"
   ]
  },
  {
   "cell_type": "markdown",
   "metadata": {
    "id": "jz6a9-7HQUDd"
   },
   "source": [
    "**Выводы**\n",
    "\n",
    "Предобработка обнаружила три проблемы в данных:\n",
    "\n",
    "- нарушения в стиле заголовков,\n",
    "- пропущенные значения,\n",
    "- дубликаты — явные и неявные.\n",
    "\n",
    "Вы исправили заголовки, чтобы упростить работу с таблицей. Без дубликатов исследование станет более точным.\n",
    "\n",
    "Пропущенные значения вы заменили на `'unknown'`. Ещё предстоит увидеть, не повредят ли исследованию пропуски в колонке `genre`.\n",
    "\n",
    "Теперь можно перейти к проверке гипотез. "
   ]
  },
  {
   "cell_type": "markdown",
   "metadata": {
    "id": "WttZHXH0SqKk"
   },
   "source": [
    "## Проверка гипотез"
   ]
  },
  {
   "cell_type": "markdown",
   "metadata": {
    "id": "Im936VVi_Zcu"
   },
   "source": [
    "### Сравнение поведения пользователей двух столиц"
   ]
  },
  {
   "cell_type": "markdown",
   "metadata": {
    "id": "nwt_MuaL_Zcu"
   },
   "source": [
    "Первая гипотеза утверждает, что пользователи по-разному слушают музыку в Москве и Санкт-Петербурге. Проверьте это предположение по данным о трёх днях недели — понедельнике, среде и пятнице. Для этого:\n",
    "\n",
    "* Разделите пользователей Москвы и Санкт-Петербурга\n",
    "* Сравните, сколько треков послушала каждая группа пользователей в понедельник, среду и пятницу.\n"
   ]
  },
  {
   "cell_type": "markdown",
   "metadata": {
    "id": "8Dw_YMmT_Zcu"
   },
   "source": [
    "Для тренировки сначала выполните каждый из расчётов по отдельности. \n",
    "\n",
    "Оцените активность пользователей в каждом городе. Сгруппируйте данные по городу и посчитайте прослушивания в каждой группе.\n",
    "\n"
   ]
  },
  {
   "cell_type": "code",
   "execution_count": 18,
   "metadata": {
    "id": "0_Qs96oh_Zcu"
   },
   "outputs": [
    {
     "name": "stdout",
     "output_type": "stream",
     "text": [
      "Количество прослушанных треков в Москве и Санкт-Петербурге:\n",
      "city\n",
      "Moscow              42741\n",
      "Saint-Petersburg    18512\n",
      "Name: genre, dtype: int64\n"
     ]
    }
   ],
   "source": [
    "# Подсчёт прослушиваний в каждом городе\n",
    "\n",
    "print('Количество прослушанных треков в Москве и Санкт-Петербурге:')\n",
    "print(df.groupby('city')['genre'].count())\n"
   ]
  },
  {
   "cell_type": "markdown",
   "metadata": {
    "id": "dzli3w8o_Zcu"
   },
   "source": [
    "В Москве прослушиваний больше, чем в Петербурге. Из этого не следует, что московские пользователи чаще слушают музыку. Просто самих пользователей в Москве больше.\n",
    "\n",
    "Теперь сгруппируйте данные по дню недели и подсчитайте прослушивания в понедельник, среду и пятницу. Учтите, что в данных есть информация только о прослушиваниях только за эти дни.\n"
   ]
  },
  {
   "cell_type": "code",
   "execution_count": 19,
   "metadata": {
    "id": "uZMKjiJz_Zcu"
   },
   "outputs": [
    {
     "name": "stdout",
     "output_type": "stream",
     "text": [
      "Количество прослушанных треков в Москве по дням:\n",
      "day\n",
      "Friday       15945\n",
      "Monday       15740\n",
      "Wednesday    11056\n",
      "Name: genre, dtype: int64\n",
      "\n",
      "Количество прослушанных треков в Санкт-Петербургe по дням:\n",
      "day\n",
      "Friday       5895\n",
      "Monday       5614\n",
      "Wednesday    7003\n",
      "Name: genre, dtype: int64\n"
     ]
    }
   ],
   "source": [
    "# Подсчёт прослушиваний в каждый из трёх дней\n",
    "\n",
    "#выборка пользователей Москвы \n",
    "df_group_Moscow = df[df['city']=='Moscow'] .groupby('day')['genre'].count()\n",
    "print(\"Количество прослушанных треков в Москве по дням:\")\n",
    "print(df_group_Moscow)\n",
    "print()\n",
    "\n",
    "#выборка пользователей Санкт-Петербурга\n",
    "df_city_PSB = df[df['city']=='Saint-Petersburg'] .groupby('day')['genre'].count()\n",
    "print(\"Количество прослушанных треков в Санкт-Петербургe по дням:\")\n",
    "print(df_city_PSB)\n"
   ]
  },
  {
   "cell_type": "markdown",
   "metadata": {
    "id": "cC2tNrlL_Zcu"
   },
   "source": [
    "В среднем пользователи из двух городов менее активны по средам. Но картина может измениться, если рассмотреть каждый город в отдельности."
   ]
  },
  {
   "cell_type": "markdown",
   "metadata": {
    "id": "POzs8bGa_Zcu"
   },
   "source": [
    "Вы видели, как работает группировка по городу и по дням недели. Теперь напишите функцию, которая объединит два эти расчёта.\n",
    "\n",
    "Создайте функцию `number_tracks()`, которая посчитает прослушивания для заданного дня и города. Ей понадобятся два параметра:\n",
    "* день недели,\n",
    "* название города.\n",
    "\n",
    "В функции сохраните в переменную строки исходной таблицы, у которых значение:\n",
    "  * в колонке `day` равно параметру `day`,\n",
    "  * в колонке `city` равно параметру `city`.\n",
    "\n",
    "Для этого примените последовательную фильтрацию с логической индексацией.\n",
    "\n",
    "Затем посчитайте значения в столбце `user_id` получившейся таблицы. Результат сохраните в новую переменную. Верните эту переменную из функции."
   ]
  },
  {
   "cell_type": "code",
   "execution_count": 20,
   "metadata": {
    "id": "Nz3GdQB1_Zcu"
   },
   "outputs": [],
   "source": [
    "# <создание функции number_tracks()>\n",
    "\n",
    "def number_tracks(day, city):\n",
    "    track_list = df[df['day']==day]\n",
    "    track_list = track_list[track_list['city']==city]['track'].count()\n",
    "    return track_list\n",
    "\n",
    "# В переменной track_list сохраняются те строки таблицы df, для которых \n",
    "# значение в столбце 'day' равно параметру day и одновременно значение\n",
    "# в столбце 'city' равно параметру city (используйте последовательную фильтрацию\n",
    "# с помощью логической индексации).\n",
    "    \n",
    "# В переменной track_list_count сохраняется число значений столбца 'user_id',\n",
    "# рассчитанное методом count() для таблицы track_list.\n",
    "# Функция возвращает число - значение track_list_count.\n",
    "\n",
    "# Функция для подсчёта прослушиваний для конкретного города и дня.\n",
    "# С помощью последовательной фильтрации с логической индексацией она \n",
    "# сначала получит из исходной таблицы строки с нужным днём,\n",
    "# затем из результата отфильтрует строки с нужным городом,\n",
    "# методом count() посчитает количество значений в колонке user_id. \n",
    "# Это количество функция вернёт в качестве результата"
   ]
  },
  {
   "cell_type": "markdown",
   "metadata": {
    "id": "ytf7xFrFJQ2r"
   },
   "source": [
    "Вызовите `number_tracks()` шесть раз, меняя значение параметров — так, чтобы получить данные для каждого города в каждый из трёх дней."
   ]
  },
  {
   "cell_type": "code",
   "execution_count": 21,
   "metadata": {
    "id": "rJcRATNQ_Zcu"
   },
   "outputs": [
    {
     "data": {
      "text/plain": [
       "15740"
      ]
     },
     "execution_count": 21,
     "metadata": {},
     "output_type": "execute_result"
    }
   ],
   "source": [
    "# количество прослушиваний в Москве по понедельникам\n",
    "number_tracks('Monday', 'Moscow')"
   ]
  },
  {
   "cell_type": "code",
   "execution_count": 22,
   "metadata": {
    "id": "hq_ncZ5T_Zcu"
   },
   "outputs": [
    {
     "data": {
      "text/plain": [
       "5614"
      ]
     },
     "execution_count": 22,
     "metadata": {},
     "output_type": "execute_result"
    }
   ],
   "source": [
    "# количество прослушиваний в Санкт-Петербурге по понедельникам\n",
    "number_tracks('Monday', 'Saint-Petersburg')"
   ]
  },
  {
   "cell_type": "code",
   "execution_count": 23,
   "metadata": {
    "id": "_NTy2VPU_Zcu"
   },
   "outputs": [
    {
     "data": {
      "text/plain": [
       "11056"
      ]
     },
     "execution_count": 23,
     "metadata": {},
     "output_type": "execute_result"
    }
   ],
   "source": [
    "# количество прослушиваний в Москве по средам\n",
    "number_tracks('Wednesday', 'Moscow')"
   ]
  },
  {
   "cell_type": "code",
   "execution_count": 24,
   "metadata": {
    "id": "j2y3TAwo_Zcu"
   },
   "outputs": [
    {
     "data": {
      "text/plain": [
       "7003"
      ]
     },
     "execution_count": 24,
     "metadata": {},
     "output_type": "execute_result"
    }
   ],
   "source": [
    "# количество прослушиваний в Санкт-Петербурге по средам\n",
    "number_tracks('Wednesday', 'Saint-Petersburg')"
   ]
  },
  {
   "cell_type": "code",
   "execution_count": 25,
   "metadata": {
    "id": "vYDw5u_K_Zcu"
   },
   "outputs": [
    {
     "data": {
      "text/plain": [
       "15945"
      ]
     },
     "execution_count": 25,
     "metadata": {},
     "output_type": "execute_result"
    }
   ],
   "source": [
    "# количество прослушиваний в Москве по пятницам\n",
    "number_tracks('Friday', 'Moscow')"
   ]
  },
  {
   "cell_type": "code",
   "execution_count": 26,
   "metadata": {
    "id": "8_yzFtW3_Zcu"
   },
   "outputs": [
    {
     "data": {
      "text/plain": [
       "5895"
      ]
     },
     "execution_count": 26,
     "metadata": {},
     "output_type": "execute_result"
    }
   ],
   "source": [
    "# количество прослушиваний в Санкт-Петербурге по пятницам\n",
    "number_tracks('Friday', 'Saint-Petersburg')"
   ]
  },
  {
   "cell_type": "markdown",
   "metadata": {
    "id": "7QXffbO-_Zcu"
   },
   "source": [
    "Создайте c помощью конструктора `pd.DataFrame` таблицу, где\n",
    "* названия колонок — `['city', 'monday', 'wednesday', 'friday']`;\n",
    "* данные — результаты, которые вы получили с помощью `number_tracks`."
   ]
  },
  {
   "cell_type": "code",
   "execution_count": 27,
   "metadata": {
    "id": "APAcLpOr_Zcu"
   },
   "outputs": [
    {
     "data": {
      "text/html": [
       "<div>\n",
       "<style scoped>\n",
       "    .dataframe tbody tr th:only-of-type {\n",
       "        vertical-align: middle;\n",
       "    }\n",
       "\n",
       "    .dataframe tbody tr th {\n",
       "        vertical-align: top;\n",
       "    }\n",
       "\n",
       "    .dataframe thead th {\n",
       "        text-align: right;\n",
       "    }\n",
       "</style>\n",
       "<table border=\"1\" class=\"dataframe\">\n",
       "  <thead>\n",
       "    <tr style=\"text-align: right;\">\n",
       "      <th></th>\n",
       "      <th>city</th>\n",
       "      <th>Monday</th>\n",
       "      <th>Wednesday</th>\n",
       "      <th>Friday</th>\n",
       "    </tr>\n",
       "  </thead>\n",
       "  <tbody>\n",
       "    <tr>\n",
       "      <th>0</th>\n",
       "      <td>Moscow</td>\n",
       "      <td>15740</td>\n",
       "      <td>11056</td>\n",
       "      <td>15945</td>\n",
       "    </tr>\n",
       "    <tr>\n",
       "      <th>1</th>\n",
       "      <td>Saint-Petersburg</td>\n",
       "      <td>5614</td>\n",
       "      <td>7003</td>\n",
       "      <td>5895</td>\n",
       "    </tr>\n",
       "  </tbody>\n",
       "</table>\n",
       "</div>"
      ],
      "text/plain": [
       "               city  Monday  Wednesday  Friday\n",
       "0            Moscow   15740      11056   15945\n",
       "1  Saint-Petersburg    5614       7003    5895"
      ]
     },
     "metadata": {},
     "output_type": "display_data"
    }
   ],
   "source": [
    "# Таблица с результатами\n",
    "\n",
    "cities = [['Moscow'], ['Saint-Petersburg']] #список для заполнения данными\n",
    "columns = ['city', 'Monday', 'Wednesday', 'Friday']\n",
    "\n",
    "#заполняем таблицу(основа для df) данными по неделям в разрезе городов\n",
    "for city in cities:\n",
    "    for column in columns[1:]:\n",
    "        city.append(number_tracks(column, city[0]))\n",
    "\n",
    "\n",
    "df_city = pd.DataFrame(data=cities, columns=columns)\n",
    "display(df_city)"
   ]
  },
  {
   "cell_type": "markdown",
   "metadata": {
    "id": "-EgPIHYu_Zcu"
   },
   "source": [
    "**Выводы**\n",
    "\n",
    "Данные показывают разницу поведения пользователей:\n",
    "\n",
    "- В Москве пик прослушиваний приходится на понедельник и пятницу, а в среду заметен спад.\n",
    "- В Петербурге, наоборот, больше слушают музыку по средам. Активность в понедельник и пятницу здесь почти в равной мере уступает среде.\n",
    "\n",
    "Значит, данные говорят в пользу первой гипотезы."
   ]
  },
  {
   "cell_type": "markdown",
   "metadata": {
    "id": "atZAxtq4_Zcu"
   },
   "source": [
    "### Музыка в начале и в конце недели"
   ]
  },
  {
   "cell_type": "markdown",
   "metadata": {
    "id": "eXrQqXFH_Zcu"
   },
   "source": [
    "Согласно второй гипотезе, утром в понедельник в Москве преобладают одни жанры, а в Петербурге — другие. Так же и вечером пятницы преобладают разные жанры — в зависимости от города."
   ]
  },
  {
   "cell_type": "markdown",
   "metadata": {
    "id": "S8UcW6Hw_Zcu"
   },
   "source": [
    "Сохраните таблицы с данными в две переменные:\n",
    "* по Москве — в `moscow_general`;\n",
    "* по Санкт-Петербургу — в `spb_general`."
   ]
  },
  {
   "cell_type": "code",
   "execution_count": 28,
   "metadata": {
    "id": "qeaFfM_P_Zcu"
   },
   "outputs": [],
   "source": [
    "# получение таблицы moscow_general из тех строк таблицы df, \n",
    "# для которых значение в столбце 'city' равно 'Moscow'\n",
    "\n",
    "moscow_general = df[df['city']=='Moscow']\n"
   ]
  },
  {
   "cell_type": "code",
   "execution_count": 29,
   "metadata": {
    "id": "ORaVRKto_Zcu"
   },
   "outputs": [],
   "source": [
    "# получение таблицы spb_general из тех строк таблицы df,\n",
    "# для которых значение в столбце 'city' равно 'Saint-Petersburg'\n",
    "\n",
    "spb_general = df[df['city']=='Saint-Petersburg'] \n"
   ]
  },
  {
   "cell_type": "markdown",
   "metadata": {
    "id": "MEJV-CX2_Zcu"
   },
   "source": [
    "Создайте функцию `genre_weekday()` с четырьмя параметрами:\n",
    "* таблица (датафрейм) с данными,\n",
    "* день недели,\n",
    "* начальная временная метка в формате 'hh:mm', \n",
    "* последняя временная метка в формате 'hh:mm'.\n",
    "\n",
    "Функция должна вернуть информацию о топ-10 жанров тех треков, которые прослушивали в указанный день, в промежутке между двумя отметками времени."
   ]
  },
  {
   "cell_type": "code",
   "execution_count": 30,
   "metadata": {
    "id": "laJT9BYl_Zcu",
    "scrolled": true
   },
   "outputs": [],
   "source": [
    "# Объявление функции genre_weekday() с параметрами table, day, time1, time2,\n",
    "# которая возвращает информацию о самых популярных жанрах в указанный день в\n",
    "# заданное время:\n",
    "# 1) в переменную genre_df сохраняются те строки переданного датафрейма table, для\n",
    "#    которых одновременно:\n",
    "#    - значение в столбце day равно значению аргумента day\n",
    "#    - значение в столбце time больше значения аргумента time1\n",
    "#    - значение в столбце time меньше значения аргумента time2\n",
    "#    Используйте последовательную фильтрацию с помощью логической индексации.\n",
    "# 2) сгруппировать датафрейм genre_df по столбцу genre, взять один из его\n",
    "#    столбцов и посчитать методом count() количество записей для каждого из\n",
    "#    присутствующих жанров, получившийся Series записать в переменную\n",
    "#    genre_df_count\n",
    "# 3) отсортировать genre_df_count по убыванию встречаемости и сохранить\n",
    "#    в переменную genre_df_sorted\n",
    "# 4) вернуть Series из 10 первых значений genre_df_sorted, это будут топ-10\n",
    "#    популярных жанров (в указанный день, в заданное время)\n",
    "\n",
    "def genre_weekday(table, day, time1, time2):\n",
    "    time1 += ':00'\n",
    "    time2 += ':00'\n",
    "    genre_df = table[table['day']==day]\n",
    "    genre_df = genre_df[genre_df['time']>time1]\n",
    "    genre_df = genre_df[genre_df['time']<time2]\n",
    "\n",
    "    genre_df_count = genre_df.groupby('genre')['user_id'].count()\n",
    "    genre_df_sorted = genre_df_count.sort_values(ascending=False)\n",
    "    return genre_df_sorted.head(10)\n",
    "\n",
    "\n"
   ]
  },
  {
   "cell_type": "markdown",
   "metadata": {
    "id": "la2s2_PF_Zcu"
   },
   "source": [
    "Cравните результаты функции `genre_weekday()` для Москвы и Санкт-Петербурга в понедельник утром (с 7:00 до 11:00) и в пятницу вечером (с 17:00 до 23:00):"
   ]
  },
  {
   "cell_type": "code",
   "execution_count": 31,
   "metadata": {
    "id": "yz7itPUQ_Zcu"
   },
   "outputs": [
    {
     "data": {
      "text/plain": [
       "genre\n",
       "pop            781\n",
       "dance          549\n",
       "electronic     480\n",
       "rock           474\n",
       "hiphop         286\n",
       "ruspop         186\n",
       "world          181\n",
       "rusrap         175\n",
       "alternative    164\n",
       "unknown        161\n",
       "Name: user_id, dtype: int64"
      ]
     },
     "execution_count": 31,
     "metadata": {},
     "output_type": "execute_result"
    }
   ],
   "source": [
    "# вызов функции для утра понедельника в Москве (вместо df — таблица moscow_general)\n",
    "# объекты, хранящие время, являются строками и сравниваются как строки\n",
    "genre_weekday(moscow_general, 'Monday', '07:00', '11:00')"
   ]
  },
  {
   "cell_type": "code",
   "execution_count": 32,
   "metadata": {
    "id": "kwUcHPdy_Zcu"
   },
   "outputs": [
    {
     "data": {
      "text/plain": [
       "genre\n",
       "pop            218\n",
       "dance          182\n",
       "rock           162\n",
       "electronic     147\n",
       "hiphop          80\n",
       "ruspop          64\n",
       "alternative     58\n",
       "rusrap          55\n",
       "jazz            44\n",
       "classical       40\n",
       "Name: user_id, dtype: int64"
      ]
     },
     "execution_count": 32,
     "metadata": {},
     "output_type": "execute_result"
    }
   ],
   "source": [
    "# вызов функции для утра понедельника в Петербурге (вместо df — таблица spb_general)\n",
    "genre_weekday(spb_general, 'Monday', '07:00', '11:00')"
   ]
  },
  {
   "cell_type": "code",
   "execution_count": 33,
   "metadata": {
    "id": "EzXVRE1o_Zcu"
   },
   "outputs": [
    {
     "data": {
      "text/plain": [
       "genre\n",
       "pop            713\n",
       "rock           517\n",
       "dance          495\n",
       "electronic     482\n",
       "hiphop         273\n",
       "world          208\n",
       "ruspop         170\n",
       "alternative    163\n",
       "classical      163\n",
       "rusrap         142\n",
       "Name: user_id, dtype: int64"
      ]
     },
     "execution_count": 33,
     "metadata": {},
     "output_type": "execute_result"
    }
   ],
   "source": [
    "# вызов функции для вечера пятницы в Москве\n",
    "genre_weekday(moscow_general, 'Friday', '17:00', '23:00')"
   ]
  },
  {
   "cell_type": "code",
   "execution_count": 34,
   "metadata": {
    "id": "JZaEKu5v_Zcu"
   },
   "outputs": [
    {
     "data": {
      "text/plain": [
       "genre\n",
       "pop            256\n",
       "electronic     216\n",
       "rock           216\n",
       "dance          210\n",
       "hiphop          97\n",
       "alternative     63\n",
       "jazz            61\n",
       "classical       60\n",
       "rusrap          59\n",
       "world           54\n",
       "Name: user_id, dtype: int64"
      ]
     },
     "execution_count": 34,
     "metadata": {},
     "output_type": "execute_result"
    }
   ],
   "source": [
    "# вызов функции для вечера пятницы в Петербурге\n",
    "genre_weekday(spb_general, 'Friday', '17:00', '23:00')"
   ]
  },
  {
   "cell_type": "markdown",
   "metadata": {
    "id": "wrCe4MNX_Zcu"
   },
   "source": [
    "**Выводы**\n",
    "\n",
    "Если сравнить топ-10 жанров в понедельник утром, можно сделать такие выводы:\n",
    "\n",
    "1. В Москве и Петербурге слушают похожую музыку. Единственное отличие — в московский рейтинг вошёл жанр “world”, а в петербургский — джаз и классика.\n",
    "\n",
    "2. В Москве пропущенных значений оказалось так много, что значение `'unknown'` заняло десятое место среди самых популярных жанров. Значит, пропущенные значения занимают существенную долю в данных и угрожают достоверности исследования.\n",
    "\n",
    "Вечер пятницы не меняет эту картину. Некоторые жанры поднимаются немного выше, другие спускаются, но в целом топ-10 остаётся тем же самым.\n",
    "\n",
    "Таким образом, вторая гипотеза подтвердилась лишь частично:\n",
    "* Пользователи слушают похожую музыку в начале недели и в конце.\n",
    "* Разница между Москвой и Петербургом не слишком выражена. В Москве чаще слушают русскую популярную музыку, в Петербурге — джаз.\n",
    "\n",
    "Однако пропуски в данных ставят под сомнение этот результат. В Москве их так много, что рейтинг топ-10 мог бы выглядеть иначе, если бы не утерянные  данные о жанрах."
   ]
  },
  {
   "cell_type": "markdown",
   "metadata": {
    "id": "JolODAqr_Zcu"
   },
   "source": [
    "### Жанровые предпочтения в Москве и Петербурге\n",
    "\n",
    "Гипотеза: Петербург — столица рэпа, музыку этого жанра там слушают чаще, чем в Москве.  А Москва — город контрастов, в котором, тем не менее, преобладает поп-музыка."
   ]
  },
  {
   "cell_type": "markdown",
   "metadata": {
    "id": "DlegSvaT_Zcu"
   },
   "source": [
    "Сгруппируйте таблицу `moscow_general` по жанру и посчитайте прослушивания треков каждого жанра методом `count()`. Затем отсортируйте результат в порядке убывания и сохраните его в таблице `moscow_genres`."
   ]
  },
  {
   "cell_type": "code",
   "execution_count": 35,
   "metadata": {
    "id": "r19lIPke_Zcu"
   },
   "outputs": [],
   "source": [
    "# одной строкой: группировка таблицы moscow_general по столбцу 'genre', \n",
    "# подсчёт числа значений 'genre' в этой группировке методом count(), \n",
    "# сортировка получившегося Series в порядке убывания и сохранение в moscow_genres\n",
    "\n",
    "moscow_genres = moscow_general.groupby('genre')['track'].count().sort_values(ascending=False)"
   ]
  },
  {
   "cell_type": "markdown",
   "metadata": {
    "id": "6kMuomxTiIr8"
   },
   "source": [
    "Выведите на экран первые десять строк `moscow_genres`:"
   ]
  },
  {
   "cell_type": "code",
   "execution_count": 36,
   "metadata": {
    "id": "WhCSooF8_Zcv"
   },
   "outputs": [
    {
     "data": {
      "text/plain": [
       "genre\n",
       "pop            5892\n",
       "dance          4435\n",
       "rock           3965\n",
       "electronic     3786\n",
       "hiphop         2096\n",
       "classical      1616\n",
       "world          1432\n",
       "alternative    1379\n",
       "ruspop         1372\n",
       "rusrap         1161\n",
       "Name: track, dtype: int64"
      ]
     },
     "execution_count": 36,
     "metadata": {},
     "output_type": "execute_result"
    }
   ],
   "source": [
    "# просмотр первых 10 строк moscow_genres\n",
    "moscow_genres.head(10)"
   ]
  },
  {
   "cell_type": "markdown",
   "metadata": {
    "id": "cnPG2vnN_Zcv"
   },
   "source": [
    "Теперь повторите то же и для Петербурга.\n",
    "\n",
    "Сгруппируйте таблицу `spb_general` по жанру. Посчитайте прослушивания треков каждого жанра. Результат отсортируйте в порядке убывания и сохраните в таблице `spb_genres`:\n"
   ]
  },
  {
   "cell_type": "code",
   "execution_count": 37,
   "metadata": {
    "id": "gluLIpE7_Zcv"
   },
   "outputs": [],
   "source": [
    "# одной строкой: группировка таблицы spb_general по столбцу 'genre', \n",
    "# подсчёт числа значений 'genre' в этой группировке методом count(), \n",
    "# сортировка получившегося Series в порядке убывания и сохранение в spb_genres\n",
    "\n",
    "spb_genres = spb_general.groupby('genre')['track'].count().sort_values(ascending=False)"
   ]
  },
  {
   "cell_type": "markdown",
   "metadata": {
    "id": "5Doha_ODgyQ8"
   },
   "source": [
    "Выведите на экран первые десять строк `spb_genres`:"
   ]
  },
  {
   "cell_type": "code",
   "execution_count": 38,
   "metadata": {
    "id": "uaGJHjVU_Zcv"
   },
   "outputs": [
    {
     "data": {
      "text/plain": [
       "genre\n",
       "pop            2431\n",
       "dance          1932\n",
       "rock           1879\n",
       "electronic     1737\n",
       "hiphop          960\n",
       "alternative     649\n",
       "classical       646\n",
       "rusrap          564\n",
       "ruspop          538\n",
       "world           515\n",
       "Name: track, dtype: int64"
      ]
     },
     "execution_count": 38,
     "metadata": {},
     "output_type": "execute_result"
    }
   ],
   "source": [
    "# просмотр первых 10 строк spb_genres\n",
    "spb_genres.head(10)"
   ]
  },
  {
   "cell_type": "markdown",
   "metadata": {
    "id": "RY51YJYu_Zcv"
   },
   "source": [
    "**Выводы**"
   ]
  },
  {
   "cell_type": "markdown",
   "metadata": {
    "id": "nVhnJEm__Zcv"
   },
   "source": [
    "Гипотеза частично подтвердилась:\n",
    "* Поп-музыка — самый популярный жанр в Москве, как и предполагала гипотеза. Более того, в топ-10 жанров встречается близкий жанр — русская популярная музыка.\n",
    "* Вопреки ожиданиям, рэп одинаково популярен в Москве и Петербурге. \n"
   ]
  },
  {
   "cell_type": "markdown",
   "metadata": {
    "id": "ykKQ0N65_Zcv"
   },
   "source": [
    "## Итоги исследования"
   ]
  },
  {
   "cell_type": "markdown",
   "metadata": {
    "id": "tjUwbHb3_Zcv"
   },
   "source": [
    "Мы проверили три гипотезы и установили:\n",
    "\n",
    "1. День недели по-разному влияет на активность пользователей в Москве и Петербурге. \n",
    "\n",
    "Первая гипотеза полностью подтвердилась.\n",
    "\n",
    "2. Музыкальные предпочтения не сильно меняются в течение недели — будь то Москва или Петербург. Небольшие различия заметны в начале недели, по понедельникам:\n",
    "* в Москве слушают музыку жанра “world”,\n",
    "* в Петербурге — джаз и классику.\n",
    "\n",
    "Таким образом, вторая гипотеза подтвердилась лишь отчасти. Этот результат мог оказаться иным, если бы не пропуски в данных.\n",
    "\n",
    "3. Во вкусах пользователей Москвы и Петербурга больше общего чем различий. Вопреки ожиданиям, предпочтения жанров в Петербурге напоминают московские.\n",
    "\n",
    "Третья гипотеза не подтвердилась. Если различия в предпочтениях и существуют, на основной массе пользователей они незаметны.\n"
   ]
  }
 ],
 "metadata": {
  "ExecuteTimeLog": [
   {
    "duration": 453,
    "start_time": "2021-11-22T08:42:29.494Z"
   },
   {
    "duration": 660,
    "start_time": "2021-11-22T08:42:36.785Z"
   },
   {
    "duration": 3,
    "start_time": "2021-11-22T08:42:47.044Z"
   },
   {
    "duration": 3,
    "start_time": "2021-11-22T08:44:19.880Z"
   },
   {
    "duration": 149,
    "start_time": "2021-11-22T08:44:23.060Z"
   },
   {
    "duration": 22,
    "start_time": "2021-11-22T08:44:53.424Z"
   },
   {
    "duration": 25,
    "start_time": "2021-11-22T08:53:16.962Z"
   },
   {
    "duration": 4,
    "start_time": "2021-11-22T09:22:43.270Z"
   },
   {
    "duration": 146,
    "start_time": "2021-11-22T09:33:32.389Z"
   },
   {
    "duration": 21,
    "start_time": "2021-11-22T09:34:28.285Z"
   },
   {
    "duration": 4,
    "start_time": "2021-11-22T09:34:38.614Z"
   },
   {
    "duration": 24,
    "start_time": "2021-11-22T09:36:18.269Z"
   },
   {
    "duration": 9475,
    "start_time": "2021-11-22T09:38:16.529Z"
   },
   {
    "duration": 7,
    "start_time": "2021-11-22T09:40:00.290Z"
   },
   {
    "duration": 363,
    "start_time": "2021-11-22T09:42:13.229Z"
   },
   {
    "duration": 344,
    "start_time": "2021-11-22T09:48:43.641Z"
   },
   {
    "duration": 10129,
    "start_time": "2021-11-22T09:49:55.250Z"
   },
   {
    "duration": 8959,
    "start_time": "2021-11-22T09:50:13.022Z"
   },
   {
    "duration": 18,
    "start_time": "2021-11-22T09:51:27.482Z"
   },
   {
    "duration": 21,
    "start_time": "2021-11-22T09:51:49.001Z"
   },
   {
    "duration": 2,
    "start_time": "2021-11-22T09:52:12.550Z"
   },
   {
    "duration": 16,
    "start_time": "2021-11-22T09:52:46.622Z"
   },
   {
    "duration": 18,
    "start_time": "2021-11-22T09:53:36.910Z"
   },
   {
    "duration": 39,
    "start_time": "2021-11-22T09:54:15.078Z"
   },
   {
    "duration": 37,
    "start_time": "2021-11-22T09:54:22.738Z"
   },
   {
    "duration": 471,
    "start_time": "2021-11-22T13:08:45.868Z"
   },
   {
    "duration": 678,
    "start_time": "2021-11-22T13:09:06.798Z"
   },
   {
    "duration": 134,
    "start_time": "2021-11-22T13:09:07.478Z"
   },
   {
    "duration": 14,
    "start_time": "2021-11-22T13:09:07.614Z"
   },
   {
    "duration": 23,
    "start_time": "2021-11-22T13:09:07.630Z"
   },
   {
    "duration": 3,
    "start_time": "2021-11-22T13:09:07.655Z"
   },
   {
    "duration": 46,
    "start_time": "2021-11-22T13:09:07.660Z"
   },
   {
    "duration": 9,
    "start_time": "2021-11-22T13:09:07.708Z"
   },
   {
    "duration": 34,
    "start_time": "2021-11-22T13:09:07.719Z"
   },
   {
    "duration": 16,
    "start_time": "2021-11-22T13:09:07.756Z"
   },
   {
    "duration": 7,
    "start_time": "2021-11-22T13:09:07.774Z"
   },
   {
    "duration": 13,
    "start_time": "2021-11-22T13:09:07.782Z"
   },
   {
    "duration": 11,
    "start_time": "2021-11-22T13:09:07.796Z"
   },
   {
    "duration": 16,
    "start_time": "2021-11-22T13:09:07.809Z"
   },
   {
    "duration": 13,
    "start_time": "2021-11-22T13:09:07.827Z"
   },
   {
    "duration": 26,
    "start_time": "2021-11-22T13:09:07.841Z"
   },
   {
    "duration": 14,
    "start_time": "2021-11-22T13:09:07.869Z"
   },
   {
    "duration": 15,
    "start_time": "2021-11-22T13:09:07.884Z"
   },
   {
    "duration": 16,
    "start_time": "2021-11-22T13:09:07.900Z"
   },
   {
    "duration": 11,
    "start_time": "2021-11-22T13:09:07.918Z"
   },
   {
    "duration": 14,
    "start_time": "2021-11-22T13:09:07.931Z"
   },
   {
    "duration": 25,
    "start_time": "2021-11-22T13:09:07.946Z"
   },
   {
    "duration": 4,
    "start_time": "2021-11-22T13:09:07.973Z"
   },
   {
    "duration": 9,
    "start_time": "2021-11-22T13:09:07.979Z"
   },
   {
    "duration": 14,
    "start_time": "2021-11-22T13:09:07.989Z"
   },
   {
    "duration": 14,
    "start_time": "2021-11-22T13:09:08.005Z"
   },
   {
    "duration": 21,
    "start_time": "2021-11-22T13:09:08.020Z"
   },
   {
    "duration": 18,
    "start_time": "2021-11-22T13:09:08.044Z"
   },
   {
    "duration": 11,
    "start_time": "2021-11-22T13:09:08.064Z"
   },
   {
    "duration": 6,
    "start_time": "2021-11-22T13:09:08.077Z"
   },
   {
    "duration": 5,
    "start_time": "2021-11-22T13:09:08.084Z"
   },
   {
    "duration": 8,
    "start_time": "2021-11-22T13:09:08.090Z"
   },
   {
    "duration": 6,
    "start_time": "2021-11-22T13:09:08.099Z"
   },
   {
    "duration": 7,
    "start_time": "2021-11-22T13:09:08.107Z"
   },
   {
    "duration": 5,
    "start_time": "2021-11-22T13:09:08.115Z"
   },
   {
    "duration": 8,
    "start_time": "2021-11-22T13:09:08.121Z"
   },
   {
    "duration": 5,
    "start_time": "2021-11-22T13:09:08.130Z"
   },
   {
    "duration": 5,
    "start_time": "2021-11-22T13:09:08.137Z"
   },
   {
    "duration": 5,
    "start_time": "2021-11-22T13:09:08.144Z"
   },
   {
    "duration": 24,
    "start_time": "2021-11-22T13:09:50.780Z"
   },
   {
    "duration": 227,
    "start_time": "2021-11-22T13:10:54.348Z"
   },
   {
    "duration": 264,
    "start_time": "2021-11-22T13:11:16.269Z"
   },
   {
    "duration": 200,
    "start_time": "2021-11-22T13:11:43.228Z"
   },
   {
    "duration": 22,
    "start_time": "2021-11-22T13:11:53.799Z"
   },
   {
    "duration": 19,
    "start_time": "2021-11-22T13:12:08.607Z"
   },
   {
    "duration": 226,
    "start_time": "2021-11-22T13:12:40.447Z"
   },
   {
    "duration": 203,
    "start_time": "2021-11-22T13:13:52.186Z"
   },
   {
    "duration": 28,
    "start_time": "2021-11-22T13:14:31.217Z"
   },
   {
    "duration": 27,
    "start_time": "2021-11-22T13:14:45.646Z"
   },
   {
    "duration": 28,
    "start_time": "2021-11-22T13:15:07.167Z"
   },
   {
    "duration": 191,
    "start_time": "2021-11-22T13:28:33.484Z"
   },
   {
    "duration": 182,
    "start_time": "2021-11-22T13:29:27.515Z"
   },
   {
    "duration": 2,
    "start_time": "2021-11-22T13:29:42.856Z"
   },
   {
    "duration": 151,
    "start_time": "2021-11-22T13:29:42.860Z"
   },
   {
    "duration": 9,
    "start_time": "2021-11-22T13:29:43.013Z"
   },
   {
    "duration": 49,
    "start_time": "2021-11-22T13:29:43.024Z"
   },
   {
    "duration": 30,
    "start_time": "2021-11-22T13:29:43.075Z"
   },
   {
    "duration": 37,
    "start_time": "2021-11-22T13:29:43.107Z"
   },
   {
    "duration": 11,
    "start_time": "2021-11-22T13:29:43.145Z"
   },
   {
    "duration": 33,
    "start_time": "2021-11-22T13:29:43.158Z"
   },
   {
    "duration": 210,
    "start_time": "2021-11-22T13:29:43.194Z"
   },
   {
    "duration": -777,
    "start_time": "2021-11-22T13:29:44.183Z"
   },
   {
    "duration": -782,
    "start_time": "2021-11-22T13:29:44.189Z"
   },
   {
    "duration": -785,
    "start_time": "2021-11-22T13:29:44.193Z"
   },
   {
    "duration": -804,
    "start_time": "2021-11-22T13:29:44.213Z"
   },
   {
    "duration": -828,
    "start_time": "2021-11-22T13:29:44.238Z"
   },
   {
    "duration": -882,
    "start_time": "2021-11-22T13:29:44.293Z"
   },
   {
    "duration": -883,
    "start_time": "2021-11-22T13:29:44.295Z"
   },
   {
    "duration": -886,
    "start_time": "2021-11-22T13:29:44.299Z"
   },
   {
    "duration": -887,
    "start_time": "2021-11-22T13:29:44.301Z"
   },
   {
    "duration": -890,
    "start_time": "2021-11-22T13:29:44.304Z"
   },
   {
    "duration": -902,
    "start_time": "2021-11-22T13:29:44.317Z"
   },
   {
    "duration": -903,
    "start_time": "2021-11-22T13:29:44.319Z"
   },
   {
    "duration": -904,
    "start_time": "2021-11-22T13:29:44.321Z"
   },
   {
    "duration": -906,
    "start_time": "2021-11-22T13:29:44.324Z"
   },
   {
    "duration": -907,
    "start_time": "2021-11-22T13:29:44.326Z"
   },
   {
    "duration": -908,
    "start_time": "2021-11-22T13:29:44.328Z"
   },
   {
    "duration": -909,
    "start_time": "2021-11-22T13:29:44.330Z"
   },
   {
    "duration": -910,
    "start_time": "2021-11-22T13:29:44.332Z"
   },
   {
    "duration": -911,
    "start_time": "2021-11-22T13:29:44.334Z"
   },
   {
    "duration": -922,
    "start_time": "2021-11-22T13:29:44.346Z"
   },
   {
    "duration": -923,
    "start_time": "2021-11-22T13:29:44.348Z"
   },
   {
    "duration": -923,
    "start_time": "2021-11-22T13:29:44.349Z"
   },
   {
    "duration": -925,
    "start_time": "2021-11-22T13:29:44.352Z"
   },
   {
    "duration": -926,
    "start_time": "2021-11-22T13:29:44.354Z"
   },
   {
    "duration": -928,
    "start_time": "2021-11-22T13:29:44.357Z"
   },
   {
    "duration": -929,
    "start_time": "2021-11-22T13:29:44.359Z"
   },
   {
    "duration": -930,
    "start_time": "2021-11-22T13:29:44.361Z"
   },
   {
    "duration": -931,
    "start_time": "2021-11-22T13:29:44.363Z"
   },
   {
    "duration": -932,
    "start_time": "2021-11-22T13:29:44.365Z"
   },
   {
    "duration": 9,
    "start_time": "2021-11-22T13:30:43.983Z"
   },
   {
    "duration": 23,
    "start_time": "2021-11-22T13:30:50.696Z"
   },
   {
    "duration": 18,
    "start_time": "2021-11-22T13:31:23.945Z"
   },
   {
    "duration": 22,
    "start_time": "2021-11-22T13:31:28.463Z"
   },
   {
    "duration": 22,
    "start_time": "2021-11-22T13:33:05.056Z"
   },
   {
    "duration": 23,
    "start_time": "2021-11-22T13:33:09.013Z"
   },
   {
    "duration": 16,
    "start_time": "2021-11-22T13:33:11.383Z"
   },
   {
    "duration": 57,
    "start_time": "2021-11-22T13:36:20.896Z"
   },
   {
    "duration": 54,
    "start_time": "2021-11-22T14:11:54.640Z"
   },
   {
    "duration": 63,
    "start_time": "2021-11-22T14:14:30.569Z"
   },
   {
    "duration": 49,
    "start_time": "2021-11-22T14:14:33.312Z"
   },
   {
    "duration": 204,
    "start_time": "2021-11-22T14:23:08.422Z"
   },
   {
    "duration": 178,
    "start_time": "2021-11-22T14:23:19.133Z"
   },
   {
    "duration": 597,
    "start_time": "2021-11-22T14:23:27.594Z"
   },
   {
    "duration": 141,
    "start_time": "2021-11-22T14:23:28.193Z"
   },
   {
    "duration": 18,
    "start_time": "2021-11-22T14:23:28.336Z"
   },
   {
    "duration": 38,
    "start_time": "2021-11-22T14:23:28.356Z"
   },
   {
    "duration": 4,
    "start_time": "2021-11-22T14:23:28.396Z"
   },
   {
    "duration": 28,
    "start_time": "2021-11-22T14:23:28.402Z"
   },
   {
    "duration": 9,
    "start_time": "2021-11-22T14:23:28.432Z"
   },
   {
    "duration": 32,
    "start_time": "2021-11-22T14:23:28.444Z"
   },
   {
    "duration": 29,
    "start_time": "2021-11-22T14:23:28.478Z"
   },
   {
    "duration": 30,
    "start_time": "2021-11-22T14:23:28.508Z"
   },
   {
    "duration": 66,
    "start_time": "2021-11-22T14:23:28.541Z"
   },
   {
    "duration": 70,
    "start_time": "2021-11-22T14:23:28.609Z"
   },
   {
    "duration": 59,
    "start_time": "2021-11-22T14:23:28.681Z"
   },
   {
    "duration": 8,
    "start_time": "2021-11-22T14:23:28.742Z"
   },
   {
    "duration": 2,
    "start_time": "2021-11-22T14:23:28.752Z"
   },
   {
    "duration": 4,
    "start_time": "2021-11-22T14:23:28.756Z"
   },
   {
    "duration": 29,
    "start_time": "2021-11-22T14:23:28.762Z"
   },
   {
    "duration": 5,
    "start_time": "2021-11-22T14:23:28.793Z"
   },
   {
    "duration": 5,
    "start_time": "2021-11-22T14:23:28.799Z"
   },
   {
    "duration": 5,
    "start_time": "2021-11-22T14:23:28.805Z"
   },
   {
    "duration": 7,
    "start_time": "2021-11-22T14:23:28.811Z"
   },
   {
    "duration": 5,
    "start_time": "2021-11-22T14:23:28.819Z"
   },
   {
    "duration": 3,
    "start_time": "2021-11-22T14:23:28.827Z"
   },
   {
    "duration": 4,
    "start_time": "2021-11-22T14:23:28.832Z"
   },
   {
    "duration": 5,
    "start_time": "2021-11-22T14:23:28.837Z"
   },
   {
    "duration": 7,
    "start_time": "2021-11-22T14:23:28.843Z"
   },
   {
    "duration": 4,
    "start_time": "2021-11-22T14:23:28.851Z"
   },
   {
    "duration": 35,
    "start_time": "2021-11-22T14:23:28.857Z"
   },
   {
    "duration": 5,
    "start_time": "2021-11-22T14:23:28.893Z"
   },
   {
    "duration": 4,
    "start_time": "2021-11-22T14:23:28.900Z"
   },
   {
    "duration": 6,
    "start_time": "2021-11-22T14:23:28.906Z"
   },
   {
    "duration": 4,
    "start_time": "2021-11-22T14:23:28.914Z"
   },
   {
    "duration": 7,
    "start_time": "2021-11-22T14:23:28.920Z"
   },
   {
    "duration": 4,
    "start_time": "2021-11-22T14:23:28.929Z"
   },
   {
    "duration": 5,
    "start_time": "2021-11-22T14:23:28.935Z"
   },
   {
    "duration": 5,
    "start_time": "2021-11-22T14:23:28.941Z"
   },
   {
    "duration": 4,
    "start_time": "2021-11-22T14:23:28.948Z"
   },
   {
    "duration": 4,
    "start_time": "2021-11-22T14:23:28.954Z"
   },
   {
    "duration": 3,
    "start_time": "2021-11-22T15:41:53.655Z"
   },
   {
    "duration": 5418,
    "start_time": "2021-11-22T15:51:13.856Z"
   },
   {
    "duration": 3,
    "start_time": "2021-11-22T15:52:01.956Z"
   },
   {
    "duration": 4938,
    "start_time": "2021-11-22T15:52:05.805Z"
   },
   {
    "duration": 2,
    "start_time": "2021-11-22T15:53:13.547Z"
   },
   {
    "duration": 128,
    "start_time": "2021-11-22T15:53:13.555Z"
   },
   {
    "duration": 13,
    "start_time": "2021-11-22T15:53:13.685Z"
   },
   {
    "duration": 25,
    "start_time": "2021-11-22T15:53:13.701Z"
   },
   {
    "duration": 4,
    "start_time": "2021-11-22T15:53:13.728Z"
   },
   {
    "duration": 15,
    "start_time": "2021-11-22T15:53:13.733Z"
   },
   {
    "duration": 3,
    "start_time": "2021-11-22T15:53:13.750Z"
   },
   {
    "duration": 53,
    "start_time": "2021-11-22T15:53:13.754Z"
   },
   {
    "duration": 17,
    "start_time": "2021-11-22T15:53:13.809Z"
   },
   {
    "duration": 22,
    "start_time": "2021-11-22T15:53:13.829Z"
   },
   {
    "duration": 70,
    "start_time": "2021-11-22T15:53:13.853Z"
   },
   {
    "duration": 66,
    "start_time": "2021-11-22T15:53:13.925Z"
   },
   {
    "duration": 45,
    "start_time": "2021-11-22T15:53:13.993Z"
   },
   {
    "duration": 9,
    "start_time": "2021-11-22T15:53:14.040Z"
   },
   {
    "duration": 4,
    "start_time": "2021-11-22T15:53:14.051Z"
   },
   {
    "duration": 4751,
    "start_time": "2021-11-22T15:53:14.056Z"
   },
   {
    "duration": -743,
    "start_time": "2021-11-22T15:53:19.552Z"
   },
   {
    "duration": -744,
    "start_time": "2021-11-22T15:53:19.554Z"
   },
   {
    "duration": -746,
    "start_time": "2021-11-22T15:53:19.557Z"
   },
   {
    "duration": -747,
    "start_time": "2021-11-22T15:53:19.559Z"
   },
   {
    "duration": -754,
    "start_time": "2021-11-22T15:53:19.567Z"
   },
   {
    "duration": -755,
    "start_time": "2021-11-22T15:53:19.569Z"
   },
   {
    "duration": -756,
    "start_time": "2021-11-22T15:53:19.571Z"
   },
   {
    "duration": -758,
    "start_time": "2021-11-22T15:53:19.573Z"
   },
   {
    "duration": -758,
    "start_time": "2021-11-22T15:53:19.575Z"
   },
   {
    "duration": -759,
    "start_time": "2021-11-22T15:53:19.577Z"
   },
   {
    "duration": -761,
    "start_time": "2021-11-22T15:53:19.580Z"
   },
   {
    "duration": -763,
    "start_time": "2021-11-22T15:53:19.583Z"
   },
   {
    "duration": -764,
    "start_time": "2021-11-22T15:53:19.585Z"
   },
   {
    "duration": -764,
    "start_time": "2021-11-22T15:53:19.586Z"
   },
   {
    "duration": -765,
    "start_time": "2021-11-22T15:53:19.588Z"
   },
   {
    "duration": -766,
    "start_time": "2021-11-22T15:53:19.590Z"
   },
   {
    "duration": -767,
    "start_time": "2021-11-22T15:53:19.592Z"
   },
   {
    "duration": -768,
    "start_time": "2021-11-22T15:53:19.594Z"
   },
   {
    "duration": -769,
    "start_time": "2021-11-22T15:53:19.596Z"
   },
   {
    "duration": -771,
    "start_time": "2021-11-22T15:53:19.599Z"
   },
   {
    "duration": -772,
    "start_time": "2021-11-22T15:53:19.601Z"
   },
   {
    "duration": -773,
    "start_time": "2021-11-22T15:53:19.603Z"
   },
   {
    "duration": 2,
    "start_time": "2021-11-22T15:55:09.356Z"
   },
   {
    "duration": 16,
    "start_time": "2021-11-22T15:55:12.486Z"
   },
   {
    "duration": 10,
    "start_time": "2021-11-22T15:55:16.964Z"
   },
   {
    "duration": 61,
    "start_time": "2021-11-22T16:48:48.115Z"
   },
   {
    "duration": 55,
    "start_time": "2021-11-22T16:49:00.511Z"
   },
   {
    "duration": 10,
    "start_time": "2021-11-22T16:49:06.223Z"
   },
   {
    "duration": 54,
    "start_time": "2021-11-22T16:57:07.315Z"
   },
   {
    "duration": 10,
    "start_time": "2021-11-22T16:57:17.915Z"
   },
   {
    "duration": 195,
    "start_time": "2021-11-22T17:03:54.922Z"
   },
   {
    "duration": 203,
    "start_time": "2021-11-22T17:05:39.582Z"
   },
   {
    "duration": 5,
    "start_time": "2021-11-22T17:05:45.912Z"
   },
   {
    "duration": 6,
    "start_time": "2021-11-22T17:08:43.951Z"
   },
   {
    "duration": 184,
    "start_time": "2021-11-22T17:12:06.720Z"
   },
   {
    "duration": 12,
    "start_time": "2021-11-22T17:12:24.999Z"
   },
   {
    "duration": 19,
    "start_time": "2021-11-22T17:13:27.108Z"
   },
   {
    "duration": 198,
    "start_time": "2021-11-22T17:22:50.087Z"
   },
   {
    "duration": 200,
    "start_time": "2021-11-22T17:23:00.906Z"
   },
   {
    "duration": 196,
    "start_time": "2021-11-22T17:26:58.508Z"
   },
   {
    "duration": 20,
    "start_time": "2021-11-22T17:27:25.097Z"
   },
   {
    "duration": 19,
    "start_time": "2021-11-22T17:27:39.777Z"
   },
   {
    "duration": 19,
    "start_time": "2021-11-22T17:27:44.169Z"
   },
   {
    "duration": 25,
    "start_time": "2021-11-22T17:27:55.007Z"
   },
   {
    "duration": 39,
    "start_time": "2021-11-22T17:29:26.197Z"
   },
   {
    "duration": 35,
    "start_time": "2021-11-22T17:29:43.187Z"
   },
   {
    "duration": 25,
    "start_time": "2021-11-22T18:01:04.179Z"
   },
   {
    "duration": 40,
    "start_time": "2021-11-22T18:07:21.561Z"
   },
   {
    "duration": 40,
    "start_time": "2021-11-22T18:07:39.804Z"
   },
   {
    "duration": 203,
    "start_time": "2021-11-22T18:13:18.352Z"
   },
   {
    "duration": 198,
    "start_time": "2021-11-22T18:13:56.833Z"
   },
   {
    "duration": 24,
    "start_time": "2021-11-22T18:14:09.564Z"
   },
   {
    "duration": 26,
    "start_time": "2021-11-22T18:14:40.723Z"
   },
   {
    "duration": 51,
    "start_time": "2021-11-22T18:16:00.764Z"
   },
   {
    "duration": 204,
    "start_time": "2021-11-22T18:16:45.113Z"
   },
   {
    "duration": 32,
    "start_time": "2021-11-22T18:16:52.094Z"
   },
   {
    "duration": 29,
    "start_time": "2021-11-22T18:22:12.314Z"
   },
   {
    "duration": 268,
    "start_time": "2021-11-22T18:40:31.907Z"
   },
   {
    "duration": 63,
    "start_time": "2021-11-22T18:41:30.146Z"
   },
   {
    "duration": 974,
    "start_time": "2021-11-22T18:41:42.795Z"
   },
   {
    "duration": 52,
    "start_time": "2021-11-22T18:42:04.476Z"
   },
   {
    "duration": 35,
    "start_time": "2021-11-22T18:42:59.516Z"
   },
   {
    "duration": 31,
    "start_time": "2021-11-22T18:57:39.449Z"
   },
   {
    "duration": 32,
    "start_time": "2021-11-22T18:58:42.919Z"
   },
   {
    "duration": 56,
    "start_time": "2021-11-22T19:24:53.600Z"
   },
   {
    "duration": 66,
    "start_time": "2021-11-22T19:25:30.949Z"
   },
   {
    "duration": 81,
    "start_time": "2021-11-22T19:25:59.749Z"
   },
   {
    "duration": 62,
    "start_time": "2021-11-22T19:27:36.790Z"
   },
   {
    "duration": 33,
    "start_time": "2021-11-22T19:29:10.359Z"
   },
   {
    "duration": 39,
    "start_time": "2021-11-22T19:30:04.579Z"
   },
   {
    "duration": 44,
    "start_time": "2021-11-22T19:34:00.679Z"
   },
   {
    "duration": 44,
    "start_time": "2021-11-22T19:34:54.408Z"
   },
   {
    "duration": 40,
    "start_time": "2021-11-22T19:35:45.359Z"
   },
   {
    "duration": 35,
    "start_time": "2021-11-22T19:37:00.718Z"
   },
   {
    "duration": 10,
    "start_time": "2021-11-22T19:38:18.740Z"
   },
   {
    "duration": 27,
    "start_time": "2021-11-22T19:38:21.518Z"
   },
   {
    "duration": 31,
    "start_time": "2021-11-22T19:38:33.758Z"
   },
   {
    "duration": 29,
    "start_time": "2021-11-22T19:38:42.929Z"
   },
   {
    "duration": 27,
    "start_time": "2021-11-22T20:02:10.923Z"
   },
   {
    "duration": 207,
    "start_time": "2021-11-22T20:36:11.206Z"
   },
   {
    "duration": 393,
    "start_time": "2021-11-22T20:36:29.057Z"
   },
   {
    "duration": 3,
    "start_time": "2021-11-22T20:37:22.327Z"
   },
   {
    "duration": 333,
    "start_time": "2021-11-22T20:37:47.746Z"
   },
   {
    "duration": 296,
    "start_time": "2021-11-22T20:43:41.417Z"
   },
   {
    "duration": 20,
    "start_time": "2021-11-22T20:44:06.055Z"
   },
   {
    "duration": 23,
    "start_time": "2021-11-22T20:45:32.574Z"
   },
   {
    "duration": 5371,
    "start_time": "2021-11-22T20:50:11.344Z"
   },
   {
    "duration": 5192,
    "start_time": "2021-11-22T20:50:24.094Z"
   },
   {
    "duration": 21,
    "start_time": "2021-11-22T20:50:41.224Z"
   },
   {
    "duration": 21,
    "start_time": "2021-11-22T20:51:08.743Z"
   },
   {
    "duration": 411,
    "start_time": "2021-11-23T07:38:06.131Z"
   },
   {
    "duration": 794,
    "start_time": "2021-11-23T07:38:14.104Z"
   },
   {
    "duration": 205,
    "start_time": "2021-11-23T07:38:14.900Z"
   },
   {
    "duration": 23,
    "start_time": "2021-11-23T07:38:15.108Z"
   },
   {
    "duration": 39,
    "start_time": "2021-11-23T07:38:15.134Z"
   },
   {
    "duration": 25,
    "start_time": "2021-11-23T07:38:15.175Z"
   },
   {
    "duration": 25,
    "start_time": "2021-11-23T07:38:15.202Z"
   },
   {
    "duration": 7,
    "start_time": "2021-11-23T07:38:15.230Z"
   },
   {
    "duration": 61,
    "start_time": "2021-11-23T07:38:15.239Z"
   },
   {
    "duration": 23,
    "start_time": "2021-11-23T07:38:15.304Z"
   },
   {
    "duration": 30,
    "start_time": "2021-11-23T07:38:15.330Z"
   },
   {
    "duration": 112,
    "start_time": "2021-11-23T07:38:15.363Z"
   },
   {
    "duration": 104,
    "start_time": "2021-11-23T07:38:15.478Z"
   },
   {
    "duration": 92,
    "start_time": "2021-11-23T07:38:15.585Z"
   },
   {
    "duration": 26,
    "start_time": "2021-11-23T07:38:15.680Z"
   },
   {
    "duration": 4,
    "start_time": "2021-11-23T07:38:15.708Z"
   },
   {
    "duration": 110,
    "start_time": "2021-11-23T07:38:15.714Z"
   },
   {
    "duration": 16,
    "start_time": "2021-11-23T07:38:15.827Z"
   },
   {
    "duration": 20,
    "start_time": "2021-11-23T07:38:15.846Z"
   },
   {
    "duration": 66,
    "start_time": "2021-11-23T07:38:15.868Z"
   },
   {
    "duration": 27,
    "start_time": "2021-11-23T07:38:15.937Z"
   },
   {
    "duration": 2,
    "start_time": "2021-11-23T07:38:15.967Z"
   },
   {
    "duration": 29,
    "start_time": "2021-11-23T07:38:15.972Z"
   },
   {
    "duration": 6,
    "start_time": "2021-11-23T07:38:16.004Z"
   },
   {
    "duration": 5,
    "start_time": "2021-11-23T07:38:16.012Z"
   },
   {
    "duration": 10,
    "start_time": "2021-11-23T07:38:16.020Z"
   },
   {
    "duration": 5,
    "start_time": "2021-11-23T07:38:16.032Z"
   },
   {
    "duration": 4,
    "start_time": "2021-11-23T07:38:16.041Z"
   },
   {
    "duration": 65,
    "start_time": "2021-11-23T07:38:16.048Z"
   },
   {
    "duration": 8,
    "start_time": "2021-11-23T07:38:16.116Z"
   },
   {
    "duration": 12,
    "start_time": "2021-11-23T07:38:16.127Z"
   },
   {
    "duration": 11,
    "start_time": "2021-11-23T07:38:16.142Z"
   },
   {
    "duration": 13,
    "start_time": "2021-11-23T07:38:16.155Z"
   },
   {
    "duration": 13,
    "start_time": "2021-11-23T07:38:16.170Z"
   },
   {
    "duration": 10,
    "start_time": "2021-11-23T07:38:16.185Z"
   },
   {
    "duration": 12,
    "start_time": "2021-11-23T07:38:16.198Z"
   },
   {
    "duration": 8,
    "start_time": "2021-11-23T07:38:16.212Z"
   },
   {
    "duration": 7,
    "start_time": "2021-11-23T07:38:16.223Z"
   },
   {
    "duration": 7,
    "start_time": "2021-11-23T07:38:16.232Z"
   },
   {
    "duration": 86,
    "start_time": "2021-11-23T07:38:59.343Z"
   },
   {
    "duration": 15,
    "start_time": "2021-11-23T07:39:07.746Z"
   },
   {
    "duration": 13,
    "start_time": "2021-11-23T07:39:19.336Z"
   },
   {
    "duration": 86,
    "start_time": "2021-11-23T07:40:29.230Z"
   },
   {
    "duration": 13,
    "start_time": "2021-11-23T07:40:34.311Z"
   },
   {
    "duration": 3,
    "start_time": "2021-11-23T07:40:44.615Z"
   },
   {
    "duration": 217,
    "start_time": "2021-11-23T07:40:44.621Z"
   },
   {
    "duration": 13,
    "start_time": "2021-11-23T07:40:44.842Z"
   },
   {
    "duration": 49,
    "start_time": "2021-11-23T07:40:44.858Z"
   },
   {
    "duration": 5,
    "start_time": "2021-11-23T07:40:44.909Z"
   },
   {
    "duration": 19,
    "start_time": "2021-11-23T07:40:44.916Z"
   },
   {
    "duration": 6,
    "start_time": "2021-11-23T07:40:44.937Z"
   },
   {
    "duration": 66,
    "start_time": "2021-11-23T07:40:44.946Z"
   },
   {
    "duration": 48,
    "start_time": "2021-11-23T07:40:45.015Z"
   },
   {
    "duration": 31,
    "start_time": "2021-11-23T07:40:45.065Z"
   },
   {
    "duration": 86,
    "start_time": "2021-11-23T07:40:45.098Z"
   },
   {
    "duration": 103,
    "start_time": "2021-11-23T07:40:45.187Z"
   },
   {
    "duration": 85,
    "start_time": "2021-11-23T07:40:45.292Z"
   },
   {
    "duration": 30,
    "start_time": "2021-11-23T07:40:45.380Z"
   },
   {
    "duration": 5,
    "start_time": "2021-11-23T07:40:45.412Z"
   },
   {
    "duration": 113,
    "start_time": "2021-11-23T07:40:45.419Z"
   },
   {
    "duration": 14,
    "start_time": "2021-11-23T07:40:45.534Z"
   },
   {
    "duration": 14,
    "start_time": "2021-11-23T07:40:45.550Z"
   },
   {
    "duration": 71,
    "start_time": "2021-11-23T07:40:45.566Z"
   },
   {
    "duration": 30,
    "start_time": "2021-11-23T07:40:45.640Z"
   },
   {
    "duration": 27,
    "start_time": "2021-11-23T07:40:45.673Z"
   },
   {
    "duration": 4,
    "start_time": "2021-11-23T07:40:45.704Z"
   },
   {
    "duration": 6,
    "start_time": "2021-11-23T07:40:45.713Z"
   },
   {
    "duration": 6,
    "start_time": "2021-11-23T07:40:45.722Z"
   },
   {
    "duration": 15,
    "start_time": "2021-11-23T07:40:45.731Z"
   },
   {
    "duration": 9,
    "start_time": "2021-11-23T07:40:45.749Z"
   },
   {
    "duration": 8,
    "start_time": "2021-11-23T07:40:45.760Z"
   },
   {
    "duration": 30,
    "start_time": "2021-11-23T07:40:45.771Z"
   },
   {
    "duration": 7,
    "start_time": "2021-11-23T07:40:45.803Z"
   },
   {
    "duration": 8,
    "start_time": "2021-11-23T07:40:45.812Z"
   },
   {
    "duration": 13,
    "start_time": "2021-11-23T07:40:45.823Z"
   },
   {
    "duration": 7,
    "start_time": "2021-11-23T07:40:45.839Z"
   },
   {
    "duration": 12,
    "start_time": "2021-11-23T07:40:45.849Z"
   },
   {
    "duration": 7,
    "start_time": "2021-11-23T07:40:45.864Z"
   },
   {
    "duration": 8,
    "start_time": "2021-11-23T07:40:45.873Z"
   },
   {
    "duration": 4,
    "start_time": "2021-11-23T07:40:45.899Z"
   },
   {
    "duration": 7,
    "start_time": "2021-11-23T07:40:45.906Z"
   },
   {
    "duration": 8,
    "start_time": "2021-11-23T07:40:45.915Z"
   },
   {
    "duration": 15,
    "start_time": "2021-11-23T07:41:32.895Z"
   },
   {
    "duration": 95,
    "start_time": "2021-11-23T07:42:12.391Z"
   },
   {
    "duration": 15,
    "start_time": "2021-11-23T07:42:14.015Z"
   },
   {
    "duration": 4,
    "start_time": "2021-11-23T07:42:24.686Z"
   },
   {
    "duration": 207,
    "start_time": "2021-11-23T07:42:24.693Z"
   },
   {
    "duration": 15,
    "start_time": "2021-11-23T07:42:24.903Z"
   },
   {
    "duration": 53,
    "start_time": "2021-11-23T07:42:24.921Z"
   },
   {
    "duration": 6,
    "start_time": "2021-11-23T07:42:24.977Z"
   },
   {
    "duration": 21,
    "start_time": "2021-11-23T07:42:25.001Z"
   },
   {
    "duration": 7,
    "start_time": "2021-11-23T07:42:25.025Z"
   },
   {
    "duration": 38,
    "start_time": "2021-11-23T07:42:25.034Z"
   },
   {
    "duration": 23,
    "start_time": "2021-11-23T07:42:25.102Z"
   },
   {
    "duration": 30,
    "start_time": "2021-11-23T07:42:25.128Z"
   },
   {
    "duration": 115,
    "start_time": "2021-11-23T07:42:25.161Z"
   },
   {
    "duration": 114,
    "start_time": "2021-11-23T07:42:25.279Z"
   },
   {
    "duration": 79,
    "start_time": "2021-11-23T07:42:25.400Z"
   },
   {
    "duration": 29,
    "start_time": "2021-11-23T07:42:25.482Z"
   },
   {
    "duration": 4,
    "start_time": "2021-11-23T07:42:25.514Z"
   },
   {
    "duration": 104,
    "start_time": "2021-11-23T07:42:25.520Z"
   },
   {
    "duration": 14,
    "start_time": "2021-11-23T07:42:25.626Z"
   },
   {
    "duration": 16,
    "start_time": "2021-11-23T07:42:25.643Z"
   },
   {
    "duration": 71,
    "start_time": "2021-11-23T07:42:25.661Z"
   },
   {
    "duration": 31,
    "start_time": "2021-11-23T07:42:25.734Z"
   },
   {
    "duration": 3,
    "start_time": "2021-11-23T07:42:25.767Z"
   },
   {
    "duration": 3,
    "start_time": "2021-11-23T07:42:25.800Z"
   },
   {
    "duration": 14,
    "start_time": "2021-11-23T07:42:25.806Z"
   },
   {
    "duration": 13,
    "start_time": "2021-11-23T07:42:25.823Z"
   },
   {
    "duration": 25,
    "start_time": "2021-11-23T07:42:25.839Z"
   },
   {
    "duration": 13,
    "start_time": "2021-11-23T07:42:25.867Z"
   },
   {
    "duration": 18,
    "start_time": "2021-11-23T07:42:25.888Z"
   },
   {
    "duration": 16,
    "start_time": "2021-11-23T07:42:25.910Z"
   },
   {
    "duration": 11,
    "start_time": "2021-11-23T07:42:25.930Z"
   },
   {
    "duration": 34,
    "start_time": "2021-11-23T07:42:25.944Z"
   },
   {
    "duration": 19,
    "start_time": "2021-11-23T07:42:25.982Z"
   },
   {
    "duration": 16,
    "start_time": "2021-11-23T07:42:26.004Z"
   },
   {
    "duration": 27,
    "start_time": "2021-11-23T07:42:26.023Z"
   },
   {
    "duration": 9,
    "start_time": "2021-11-23T07:42:26.053Z"
   },
   {
    "duration": 20,
    "start_time": "2021-11-23T07:42:26.065Z"
   },
   {
    "duration": 15,
    "start_time": "2021-11-23T07:42:26.088Z"
   },
   {
    "duration": 11,
    "start_time": "2021-11-23T07:42:26.105Z"
   },
   {
    "duration": 15,
    "start_time": "2021-11-23T07:42:26.118Z"
   },
   {
    "duration": 137,
    "start_time": "2021-11-23T08:06:39.935Z"
   },
   {
    "duration": 14,
    "start_time": "2021-11-23T08:06:50.181Z"
   },
   {
    "duration": 28,
    "start_time": "2021-11-23T08:07:40.522Z"
   },
   {
    "duration": 22,
    "start_time": "2021-11-23T08:08:16.334Z"
   },
   {
    "duration": 5036,
    "start_time": "2021-11-23T08:10:04.794Z"
   },
   {
    "duration": 22,
    "start_time": "2021-11-23T08:10:19.981Z"
   },
   {
    "duration": 29,
    "start_time": "2021-11-23T08:11:06.534Z"
   },
   {
    "duration": 18,
    "start_time": "2021-11-23T08:33:38.372Z"
   },
   {
    "duration": 19,
    "start_time": "2021-11-23T08:34:23.391Z"
   },
   {
    "duration": 19,
    "start_time": "2021-11-23T08:34:46.550Z"
   },
   {
    "duration": 23,
    "start_time": "2021-11-23T08:35:31.390Z"
   },
   {
    "duration": 20,
    "start_time": "2021-11-23T08:35:49.812Z"
   },
   {
    "duration": 6,
    "start_time": "2021-11-23T12:46:26.199Z"
   },
   {
    "duration": 805,
    "start_time": "2021-11-23T13:26:00.179Z"
   },
   {
    "duration": 904,
    "start_time": "2021-11-23T13:26:13.371Z"
   },
   {
    "duration": 205,
    "start_time": "2021-11-23T13:26:14.278Z"
   },
   {
    "duration": 29,
    "start_time": "2021-11-23T13:26:14.486Z"
   },
   {
    "duration": 33,
    "start_time": "2021-11-23T13:26:14.518Z"
   },
   {
    "duration": 5,
    "start_time": "2021-11-23T13:26:14.554Z"
   },
   {
    "duration": 65,
    "start_time": "2021-11-23T13:26:14.562Z"
   },
   {
    "duration": 6,
    "start_time": "2021-11-23T13:26:14.630Z"
   },
   {
    "duration": 34,
    "start_time": "2021-11-23T13:26:14.639Z"
   },
   {
    "duration": 42,
    "start_time": "2021-11-23T13:26:14.676Z"
   },
   {
    "duration": 31,
    "start_time": "2021-11-23T13:26:14.721Z"
   },
   {
    "duration": 114,
    "start_time": "2021-11-23T13:26:14.754Z"
   },
   {
    "duration": 109,
    "start_time": "2021-11-23T13:26:14.870Z"
   },
   {
    "duration": 86,
    "start_time": "2021-11-23T13:26:14.981Z"
   },
   {
    "duration": 33,
    "start_time": "2021-11-23T13:26:15.069Z"
   },
   {
    "duration": 4,
    "start_time": "2021-11-23T13:26:15.104Z"
   },
   {
    "duration": 99,
    "start_time": "2021-11-23T13:26:15.110Z"
   },
   {
    "duration": 14,
    "start_time": "2021-11-23T13:26:15.211Z"
   },
   {
    "duration": 14,
    "start_time": "2021-11-23T13:26:15.227Z"
   },
   {
    "duration": 77,
    "start_time": "2021-11-23T13:26:15.243Z"
   },
   {
    "duration": 4,
    "start_time": "2021-11-23T13:26:15.323Z"
   },
   {
    "duration": 35,
    "start_time": "2021-11-23T13:26:15.329Z"
   },
   {
    "duration": 18,
    "start_time": "2021-11-23T13:26:15.367Z"
   },
   {
    "duration": 20,
    "start_time": "2021-11-23T13:26:15.400Z"
   },
   {
    "duration": 19,
    "start_time": "2021-11-23T13:26:15.423Z"
   },
   {
    "duration": 21,
    "start_time": "2021-11-23T13:26:15.444Z"
   },
   {
    "duration": 20,
    "start_time": "2021-11-23T13:26:15.501Z"
   },
   {
    "duration": 756,
    "start_time": "2021-11-23T13:26:15.524Z"
   },
   {
    "duration": 756,
    "start_time": "2021-11-23T13:28:09.030Z"
   },
   {
    "duration": 694,
    "start_time": "2021-11-23T13:28:23.285Z"
   },
   {
    "duration": 806,
    "start_time": "2021-11-23T13:29:04.399Z"
   },
   {
    "duration": 679,
    "start_time": "2021-11-23T13:29:29.994Z"
   },
   {
    "duration": 121,
    "start_time": "2021-11-23T13:32:14.740Z"
   },
   {
    "duration": 123,
    "start_time": "2021-11-23T13:33:46.431Z"
   },
   {
    "duration": 6,
    "start_time": "2021-11-23T13:33:52.422Z"
   },
   {
    "duration": 764,
    "start_time": "2021-11-23T13:35:38.823Z"
   },
   {
    "duration": 4,
    "start_time": "2021-11-23T13:35:45.123Z"
   },
   {
    "duration": 215,
    "start_time": "2021-11-23T13:35:45.130Z"
   },
   {
    "duration": 16,
    "start_time": "2021-11-23T13:35:45.348Z"
   },
   {
    "duration": 55,
    "start_time": "2021-11-23T13:35:45.367Z"
   },
   {
    "duration": 7,
    "start_time": "2021-11-23T13:35:45.425Z"
   },
   {
    "duration": 17,
    "start_time": "2021-11-23T13:35:45.435Z"
   },
   {
    "duration": 7,
    "start_time": "2021-11-23T13:35:45.454Z"
   },
   {
    "duration": 31,
    "start_time": "2021-11-23T13:35:45.502Z"
   },
   {
    "duration": 23,
    "start_time": "2021-11-23T13:35:45.539Z"
   },
   {
    "duration": 63,
    "start_time": "2021-11-23T13:35:45.566Z"
   },
   {
    "duration": 109,
    "start_time": "2021-11-23T13:35:45.632Z"
   },
   {
    "duration": 102,
    "start_time": "2021-11-23T13:35:45.744Z"
   },
   {
    "duration": 82,
    "start_time": "2021-11-23T13:35:45.849Z"
   },
   {
    "duration": 13,
    "start_time": "2021-11-23T13:35:45.934Z"
   },
   {
    "duration": 4,
    "start_time": "2021-11-23T13:35:45.949Z"
   },
   {
    "duration": 112,
    "start_time": "2021-11-23T13:35:45.955Z"
   },
   {
    "duration": 14,
    "start_time": "2021-11-23T13:35:46.069Z"
   },
   {
    "duration": 15,
    "start_time": "2021-11-23T13:35:46.100Z"
   },
   {
    "duration": 41,
    "start_time": "2021-11-23T13:35:46.117Z"
   },
   {
    "duration": 4,
    "start_time": "2021-11-23T13:35:46.160Z"
   },
   {
    "duration": 48,
    "start_time": "2021-11-23T13:35:46.167Z"
   },
   {
    "duration": 17,
    "start_time": "2021-11-23T13:35:46.218Z"
   },
   {
    "duration": 19,
    "start_time": "2021-11-23T13:35:46.238Z"
   },
   {
    "duration": 55,
    "start_time": "2021-11-23T13:35:46.259Z"
   },
   {
    "duration": 22,
    "start_time": "2021-11-23T13:35:46.316Z"
   },
   {
    "duration": 19,
    "start_time": "2021-11-23T13:35:46.340Z"
   },
   {
    "duration": 750,
    "start_time": "2021-11-23T13:35:46.364Z"
   },
   {
    "duration": 41,
    "start_time": "2021-11-23T13:36:36.467Z"
   },
   {
    "duration": 3,
    "start_time": "2021-11-23T13:37:36.450Z"
   },
   {
    "duration": 205,
    "start_time": "2021-11-23T13:37:36.456Z"
   },
   {
    "duration": 15,
    "start_time": "2021-11-23T13:37:36.664Z"
   },
   {
    "duration": 42,
    "start_time": "2021-11-23T13:37:36.682Z"
   },
   {
    "duration": 5,
    "start_time": "2021-11-23T13:37:36.727Z"
   },
   {
    "duration": 17,
    "start_time": "2021-11-23T13:37:36.734Z"
   },
   {
    "duration": 5,
    "start_time": "2021-11-23T13:37:36.754Z"
   },
   {
    "duration": 66,
    "start_time": "2021-11-23T13:37:36.761Z"
   },
   {
    "duration": 26,
    "start_time": "2021-11-23T13:37:36.831Z"
   },
   {
    "duration": 47,
    "start_time": "2021-11-23T13:37:36.860Z"
   },
   {
    "duration": 104,
    "start_time": "2021-11-23T13:37:36.909Z"
   },
   {
    "duration": 109,
    "start_time": "2021-11-23T13:37:37.016Z"
   },
   {
    "duration": 84,
    "start_time": "2021-11-23T13:37:37.128Z"
   },
   {
    "duration": 14,
    "start_time": "2021-11-23T13:37:37.214Z"
   },
   {
    "duration": 4,
    "start_time": "2021-11-23T13:37:37.230Z"
   },
   {
    "duration": 111,
    "start_time": "2021-11-23T13:37:37.236Z"
   },
   {
    "duration": 14,
    "start_time": "2021-11-23T13:37:37.349Z"
   },
   {
    "duration": 13,
    "start_time": "2021-11-23T13:37:37.365Z"
   },
   {
    "duration": 42,
    "start_time": "2021-11-23T13:37:37.401Z"
   },
   {
    "duration": 5,
    "start_time": "2021-11-23T13:37:37.446Z"
   },
   {
    "duration": 51,
    "start_time": "2021-11-23T13:37:37.453Z"
   },
   {
    "duration": 20,
    "start_time": "2021-11-23T13:37:37.506Z"
   },
   {
    "duration": 18,
    "start_time": "2021-11-23T13:37:37.529Z"
   },
   {
    "duration": 52,
    "start_time": "2021-11-23T13:37:37.550Z"
   },
   {
    "duration": 22,
    "start_time": "2021-11-23T13:37:37.604Z"
   },
   {
    "duration": 19,
    "start_time": "2021-11-23T13:37:37.628Z"
   },
   {
    "duration": 66,
    "start_time": "2021-11-23T13:37:37.651Z"
   },
   {
    "duration": 43,
    "start_time": "2021-11-23T13:39:05.692Z"
   },
   {
    "duration": 23,
    "start_time": "2021-11-23T13:39:16.173Z"
   },
   {
    "duration": 44,
    "start_time": "2021-11-23T13:40:06.605Z"
   },
   {
    "duration": 119,
    "start_time": "2021-11-23T13:40:53.513Z"
   },
   {
    "duration": 113,
    "start_time": "2021-11-23T13:41:15.043Z"
   },
   {
    "duration": 132,
    "start_time": "2021-11-23T13:41:28.540Z"
   },
   {
    "duration": 430,
    "start_time": "2021-11-23T13:42:34.116Z"
   },
   {
    "duration": 45,
    "start_time": "2021-11-23T13:43:16.072Z"
   },
   {
    "duration": 4,
    "start_time": "2021-11-23T13:44:51.521Z"
   },
   {
    "duration": 203,
    "start_time": "2021-11-23T13:44:51.528Z"
   },
   {
    "duration": 16,
    "start_time": "2021-11-23T13:44:51.734Z"
   },
   {
    "duration": 56,
    "start_time": "2021-11-23T13:44:51.753Z"
   },
   {
    "duration": 6,
    "start_time": "2021-11-23T13:44:51.812Z"
   },
   {
    "duration": 27,
    "start_time": "2021-11-23T13:44:51.820Z"
   },
   {
    "duration": 5,
    "start_time": "2021-11-23T13:44:51.850Z"
   },
   {
    "duration": 61,
    "start_time": "2021-11-23T13:44:51.857Z"
   },
   {
    "duration": 23,
    "start_time": "2021-11-23T13:44:51.923Z"
   },
   {
    "duration": 30,
    "start_time": "2021-11-23T13:44:51.949Z"
   },
   {
    "duration": 83,
    "start_time": "2021-11-23T13:44:52.001Z"
   },
   {
    "duration": 107,
    "start_time": "2021-11-23T13:44:52.100Z"
   },
   {
    "duration": 77,
    "start_time": "2021-11-23T13:44:52.209Z"
   },
   {
    "duration": 13,
    "start_time": "2021-11-23T13:44:52.300Z"
   },
   {
    "duration": 8,
    "start_time": "2021-11-23T13:44:52.316Z"
   },
   {
    "duration": 102,
    "start_time": "2021-11-23T13:44:52.326Z"
   },
   {
    "duration": 14,
    "start_time": "2021-11-23T13:44:52.430Z"
   },
   {
    "duration": 17,
    "start_time": "2021-11-23T13:44:52.446Z"
   },
   {
    "duration": 67,
    "start_time": "2021-11-23T13:44:52.466Z"
   },
   {
    "duration": 5,
    "start_time": "2021-11-23T13:44:52.535Z"
   },
   {
    "duration": 27,
    "start_time": "2021-11-23T13:44:52.542Z"
   },
   {
    "duration": 39,
    "start_time": "2021-11-23T13:44:52.571Z"
   },
   {
    "duration": 24,
    "start_time": "2021-11-23T13:44:52.612Z"
   },
   {
    "duration": 18,
    "start_time": "2021-11-23T13:44:52.638Z"
   },
   {
    "duration": 52,
    "start_time": "2021-11-23T13:44:52.658Z"
   },
   {
    "duration": 21,
    "start_time": "2021-11-23T13:44:52.713Z"
   },
   {
    "duration": 109,
    "start_time": "2021-11-23T14:22:26.102Z"
   },
   {
    "duration": 370,
    "start_time": "2021-11-23T14:25:23.701Z"
   },
   {
    "duration": 456,
    "start_time": "2021-11-23T14:26:01.671Z"
   },
   {
    "duration": 390,
    "start_time": "2021-11-23T14:26:30.022Z"
   },
   {
    "duration": 97,
    "start_time": "2021-11-23T14:27:25.980Z"
   },
   {
    "duration": 93,
    "start_time": "2021-11-23T14:28:13.881Z"
   },
   {
    "duration": 93,
    "start_time": "2021-11-23T14:28:35.478Z"
   },
   {
    "duration": 464,
    "start_time": "2021-11-23T15:32:15.575Z"
   },
   {
    "duration": 91,
    "start_time": "2021-11-23T15:32:55.463Z"
   },
   {
    "duration": 1534,
    "start_time": "2021-11-23T15:39:08.194Z"
   },
   {
    "duration": 3,
    "start_time": "2021-11-23T15:39:30.942Z"
   },
   {
    "duration": 223,
    "start_time": "2021-11-23T15:39:30.948Z"
   },
   {
    "duration": 16,
    "start_time": "2021-11-23T15:39:31.174Z"
   },
   {
    "duration": 46,
    "start_time": "2021-11-23T15:39:31.200Z"
   },
   {
    "duration": 34,
    "start_time": "2021-11-23T15:39:31.249Z"
   },
   {
    "duration": 35,
    "start_time": "2021-11-23T15:39:31.285Z"
   },
   {
    "duration": 19,
    "start_time": "2021-11-23T15:39:31.323Z"
   },
   {
    "duration": 38,
    "start_time": "2021-11-23T15:39:31.346Z"
   },
   {
    "duration": 28,
    "start_time": "2021-11-23T15:39:31.387Z"
   },
   {
    "duration": 39,
    "start_time": "2021-11-23T15:39:31.418Z"
   },
   {
    "duration": 102,
    "start_time": "2021-11-23T15:39:31.459Z"
   },
   {
    "duration": 111,
    "start_time": "2021-11-23T15:39:31.563Z"
   },
   {
    "duration": 88,
    "start_time": "2021-11-23T15:39:31.677Z"
   },
   {
    "duration": 15,
    "start_time": "2021-11-23T15:39:31.767Z"
   },
   {
    "duration": 18,
    "start_time": "2021-11-23T15:39:31.784Z"
   },
   {
    "duration": 122,
    "start_time": "2021-11-23T15:39:31.804Z"
   },
   {
    "duration": 14,
    "start_time": "2021-11-23T15:39:31.928Z"
   },
   {
    "duration": 13,
    "start_time": "2021-11-23T15:39:31.945Z"
   },
   {
    "duration": 70,
    "start_time": "2021-11-23T15:39:31.960Z"
   },
   {
    "duration": 4,
    "start_time": "2021-11-23T15:39:32.032Z"
   },
   {
    "duration": 35,
    "start_time": "2021-11-23T15:39:32.039Z"
   },
   {
    "duration": 36,
    "start_time": "2021-11-23T15:39:32.077Z"
   },
   {
    "duration": 19,
    "start_time": "2021-11-23T15:39:32.117Z"
   },
   {
    "duration": 39,
    "start_time": "2021-11-23T15:39:32.139Z"
   },
   {
    "duration": 39,
    "start_time": "2021-11-23T15:39:32.180Z"
   },
   {
    "duration": 33,
    "start_time": "2021-11-23T15:39:32.221Z"
   },
   {
    "duration": 394,
    "start_time": "2021-11-23T15:39:32.256Z"
   },
   {
    "duration": 93,
    "start_time": "2021-11-23T15:40:56.113Z"
   },
   {
    "duration": 94,
    "start_time": "2021-11-23T15:41:02.193Z"
   },
   {
    "duration": 382,
    "start_time": "2021-11-23T15:44:38.098Z"
   },
   {
    "duration": 391,
    "start_time": "2021-11-23T15:45:24.922Z"
   },
   {
    "duration": 120,
    "start_time": "2021-11-23T15:46:31.901Z"
   },
   {
    "duration": 90,
    "start_time": "2021-11-23T15:46:36.942Z"
   },
   {
    "duration": 97,
    "start_time": "2021-11-23T15:47:07.627Z"
   },
   {
    "duration": 99,
    "start_time": "2021-11-23T15:48:17.130Z"
   },
   {
    "duration": 96,
    "start_time": "2021-11-23T15:49:32.232Z"
   },
   {
    "duration": 93,
    "start_time": "2021-11-23T15:50:08.627Z"
   },
   {
    "duration": 89,
    "start_time": "2021-11-23T15:54:28.402Z"
   },
   {
    "duration": 88,
    "start_time": "2021-11-23T15:54:39.090Z"
   },
   {
    "duration": 100,
    "start_time": "2021-11-23T15:56:36.375Z"
   },
   {
    "duration": 10056,
    "start_time": "2021-11-23T15:57:36.135Z"
   },
   {
    "duration": 104,
    "start_time": "2021-11-23T16:01:34.502Z"
   },
   {
    "duration": 9315,
    "start_time": "2021-11-23T16:03:07.259Z"
   },
   {
    "duration": 3,
    "start_time": "2021-11-23T16:03:23.680Z"
   },
   {
    "duration": 202,
    "start_time": "2021-11-23T16:03:23.686Z"
   },
   {
    "duration": 16,
    "start_time": "2021-11-23T16:03:23.891Z"
   },
   {
    "duration": 38,
    "start_time": "2021-11-23T16:03:23.909Z"
   },
   {
    "duration": 6,
    "start_time": "2021-11-23T16:03:23.950Z"
   },
   {
    "duration": 55,
    "start_time": "2021-11-23T16:03:23.959Z"
   },
   {
    "duration": 5,
    "start_time": "2021-11-23T16:03:24.017Z"
   },
   {
    "duration": 38,
    "start_time": "2021-11-23T16:03:24.024Z"
   },
   {
    "duration": 45,
    "start_time": "2021-11-23T16:03:24.066Z"
   },
   {
    "duration": 32,
    "start_time": "2021-11-23T16:03:24.114Z"
   },
   {
    "duration": 109,
    "start_time": "2021-11-23T16:03:24.148Z"
   },
   {
    "duration": 111,
    "start_time": "2021-11-23T16:03:24.259Z"
   },
   {
    "duration": 83,
    "start_time": "2021-11-23T16:03:24.372Z"
   },
   {
    "duration": 14,
    "start_time": "2021-11-23T16:03:24.457Z"
   },
   {
    "duration": 4,
    "start_time": "2021-11-23T16:03:24.473Z"
   },
   {
    "duration": 102,
    "start_time": "2021-11-23T16:03:24.479Z"
   },
   {
    "duration": 26,
    "start_time": "2021-11-23T16:03:24.584Z"
   },
   {
    "duration": 14,
    "start_time": "2021-11-23T16:03:24.613Z"
   },
   {
    "duration": 72,
    "start_time": "2021-11-23T16:03:24.630Z"
   },
   {
    "duration": 4,
    "start_time": "2021-11-23T16:03:24.705Z"
   },
   {
    "duration": 41,
    "start_time": "2021-11-23T16:03:24.712Z"
   },
   {
    "duration": 23,
    "start_time": "2021-11-23T16:03:24.756Z"
   },
   {
    "duration": 23,
    "start_time": "2021-11-23T16:03:24.801Z"
   },
   {
    "duration": 20,
    "start_time": "2021-11-23T16:03:24.827Z"
   },
   {
    "duration": 54,
    "start_time": "2021-11-23T16:03:24.849Z"
   },
   {
    "duration": 21,
    "start_time": "2021-11-23T16:03:24.905Z"
   },
   {
    "duration": 101,
    "start_time": "2021-11-23T16:03:33.069Z"
   },
   {
    "duration": 9770,
    "start_time": "2021-11-23T16:04:25.890Z"
   },
   {
    "duration": 9177,
    "start_time": "2021-11-23T16:04:46.104Z"
   },
   {
    "duration": 4,
    "start_time": "2021-11-23T16:04:57.538Z"
   },
   {
    "duration": 200,
    "start_time": "2021-11-23T16:04:57.544Z"
   },
   {
    "duration": 14,
    "start_time": "2021-11-23T16:04:57.748Z"
   },
   {
    "duration": 49,
    "start_time": "2021-11-23T16:04:57.765Z"
   },
   {
    "duration": 8,
    "start_time": "2021-11-23T16:04:57.816Z"
   },
   {
    "duration": 31,
    "start_time": "2021-11-23T16:04:57.827Z"
   },
   {
    "duration": 5,
    "start_time": "2021-11-23T16:04:57.860Z"
   },
   {
    "duration": 57,
    "start_time": "2021-11-23T16:04:57.867Z"
   },
   {
    "duration": 24,
    "start_time": "2021-11-23T16:04:57.928Z"
   },
   {
    "duration": 47,
    "start_time": "2021-11-23T16:04:57.955Z"
   },
   {
    "duration": 104,
    "start_time": "2021-11-23T16:04:58.004Z"
   },
   {
    "duration": 108,
    "start_time": "2021-11-23T16:04:58.111Z"
   },
   {
    "duration": 94,
    "start_time": "2021-11-23T16:04:58.222Z"
   },
   {
    "duration": 13,
    "start_time": "2021-11-23T16:04:58.318Z"
   },
   {
    "duration": 5,
    "start_time": "2021-11-23T16:04:58.333Z"
   },
   {
    "duration": 114,
    "start_time": "2021-11-23T16:04:58.340Z"
   },
   {
    "duration": 14,
    "start_time": "2021-11-23T16:04:58.456Z"
   },
   {
    "duration": 30,
    "start_time": "2021-11-23T16:04:58.473Z"
   },
   {
    "duration": 44,
    "start_time": "2021-11-23T16:04:58.505Z"
   },
   {
    "duration": 5,
    "start_time": "2021-11-23T16:04:58.551Z"
   },
   {
    "duration": 49,
    "start_time": "2021-11-23T16:04:58.558Z"
   },
   {
    "duration": 19,
    "start_time": "2021-11-23T16:04:58.610Z"
   },
   {
    "duration": 20,
    "start_time": "2021-11-23T16:04:58.631Z"
   },
   {
    "duration": 51,
    "start_time": "2021-11-23T16:04:58.654Z"
   },
   {
    "duration": 22,
    "start_time": "2021-11-23T16:04:58.708Z"
   },
   {
    "duration": 21,
    "start_time": "2021-11-23T16:04:58.732Z"
   },
   {
    "duration": 102,
    "start_time": "2021-11-23T16:05:07.366Z"
   },
   {
    "duration": 127,
    "start_time": "2021-11-23T16:09:58.301Z"
   },
   {
    "duration": 9,
    "start_time": "2021-11-23T16:10:06.619Z"
   },
   {
    "duration": 9,
    "start_time": "2021-11-23T16:10:50.379Z"
   },
   {
    "duration": 8,
    "start_time": "2021-11-23T16:11:15.468Z"
   },
   {
    "duration": 5,
    "start_time": "2021-11-23T16:11:58.532Z"
   },
   {
    "duration": 5,
    "start_time": "2021-11-23T16:12:10.688Z"
   },
   {
    "duration": 9,
    "start_time": "2021-11-23T16:12:23.360Z"
   },
   {
    "duration": 3,
    "start_time": "2021-11-23T16:12:36.075Z"
   },
   {
    "duration": 224,
    "start_time": "2021-11-23T16:12:36.081Z"
   },
   {
    "duration": 14,
    "start_time": "2021-11-23T16:12:36.308Z"
   },
   {
    "duration": 36,
    "start_time": "2021-11-23T16:12:36.325Z"
   },
   {
    "duration": 36,
    "start_time": "2021-11-23T16:12:36.364Z"
   },
   {
    "duration": 27,
    "start_time": "2021-11-23T16:12:36.403Z"
   },
   {
    "duration": 11,
    "start_time": "2021-11-23T16:12:36.433Z"
   },
   {
    "duration": 53,
    "start_time": "2021-11-23T16:12:36.447Z"
   },
   {
    "duration": 24,
    "start_time": "2021-11-23T16:12:36.503Z"
   },
   {
    "duration": 34,
    "start_time": "2021-11-23T16:12:36.529Z"
   },
   {
    "duration": 109,
    "start_time": "2021-11-23T16:12:36.565Z"
   },
   {
    "duration": 103,
    "start_time": "2021-11-23T16:12:36.677Z"
   },
   {
    "duration": 83,
    "start_time": "2021-11-23T16:12:36.783Z"
   },
   {
    "duration": 13,
    "start_time": "2021-11-23T16:12:36.869Z"
   },
   {
    "duration": 17,
    "start_time": "2021-11-23T16:12:36.885Z"
   },
   {
    "duration": 107,
    "start_time": "2021-11-23T16:12:36.905Z"
   },
   {
    "duration": 15,
    "start_time": "2021-11-23T16:12:37.015Z"
   },
   {
    "duration": 13,
    "start_time": "2021-11-23T16:12:37.033Z"
   },
   {
    "duration": 68,
    "start_time": "2021-11-23T16:12:37.049Z"
   },
   {
    "duration": 5,
    "start_time": "2021-11-23T16:12:37.119Z"
   },
   {
    "duration": 33,
    "start_time": "2021-11-23T16:12:37.126Z"
   },
   {
    "duration": 40,
    "start_time": "2021-11-23T16:12:37.162Z"
   },
   {
    "duration": 19,
    "start_time": "2021-11-23T16:12:37.206Z"
   },
   {
    "duration": 19,
    "start_time": "2021-11-23T16:12:37.228Z"
   },
   {
    "duration": 59,
    "start_time": "2021-11-23T16:12:37.250Z"
   },
   {
    "duration": 23,
    "start_time": "2021-11-23T16:12:37.312Z"
   },
   {
    "duration": 129,
    "start_time": "2021-11-23T16:12:37.337Z"
   },
   {
    "duration": 9,
    "start_time": "2021-11-23T16:12:37.469Z"
   },
   {
    "duration": 9865,
    "start_time": "2021-11-23T16:13:49.801Z"
   },
   {
    "duration": 3,
    "start_time": "2021-11-23T16:14:05.611Z"
   },
   {
    "duration": 209,
    "start_time": "2021-11-23T16:14:05.617Z"
   },
   {
    "duration": 16,
    "start_time": "2021-11-23T16:14:05.829Z"
   },
   {
    "duration": 56,
    "start_time": "2021-11-23T16:14:05.848Z"
   },
   {
    "duration": 5,
    "start_time": "2021-11-23T16:14:05.907Z"
   },
   {
    "duration": 30,
    "start_time": "2021-11-23T16:14:05.915Z"
   },
   {
    "duration": 6,
    "start_time": "2021-11-23T16:14:05.948Z"
   },
   {
    "duration": 68,
    "start_time": "2021-11-23T16:14:05.958Z"
   },
   {
    "duration": 23,
    "start_time": "2021-11-23T16:14:06.029Z"
   },
   {
    "duration": 48,
    "start_time": "2021-11-23T16:14:06.054Z"
   },
   {
    "duration": 105,
    "start_time": "2021-11-23T16:14:06.104Z"
   },
   {
    "duration": 111,
    "start_time": "2021-11-23T16:14:06.212Z"
   },
   {
    "duration": 88,
    "start_time": "2021-11-23T16:14:06.325Z"
   },
   {
    "duration": 14,
    "start_time": "2021-11-23T16:14:06.416Z"
   },
   {
    "duration": 4,
    "start_time": "2021-11-23T16:14:06.432Z"
   },
   {
    "duration": 116,
    "start_time": "2021-11-23T16:14:06.439Z"
   },
   {
    "duration": 15,
    "start_time": "2021-11-23T16:14:06.557Z"
   },
   {
    "duration": 26,
    "start_time": "2021-11-23T16:14:06.574Z"
   },
   {
    "duration": 41,
    "start_time": "2021-11-23T16:14:06.603Z"
   },
   {
    "duration": 4,
    "start_time": "2021-11-23T16:14:06.647Z"
   },
   {
    "duration": 56,
    "start_time": "2021-11-23T16:14:06.654Z"
   },
   {
    "duration": 20,
    "start_time": "2021-11-23T16:14:06.713Z"
   },
   {
    "duration": 20,
    "start_time": "2021-11-23T16:14:06.738Z"
   },
   {
    "duration": 52,
    "start_time": "2021-11-23T16:14:06.761Z"
   },
   {
    "duration": 23,
    "start_time": "2021-11-23T16:14:06.816Z"
   },
   {
    "duration": 21,
    "start_time": "2021-11-23T16:14:06.841Z"
   },
   {
    "duration": 96,
    "start_time": "2021-11-23T16:14:49.932Z"
   },
   {
    "duration": 24,
    "start_time": "2021-11-23T16:14:58.655Z"
   },
   {
    "duration": 19,
    "start_time": "2021-11-23T16:15:18.224Z"
   },
   {
    "duration": 12,
    "start_time": "2021-11-23T16:15:39.278Z"
   },
   {
    "duration": 16,
    "start_time": "2021-11-23T16:15:43.693Z"
   },
   {
    "duration": 133,
    "start_time": "2021-11-23T17:19:16.247Z"
   },
   {
    "duration": 4,
    "start_time": "2021-11-23T17:19:25.373Z"
   },
   {
    "duration": 4,
    "start_time": "2021-11-23T17:19:46.879Z"
   },
   {
    "duration": 5,
    "start_time": "2021-11-23T17:19:50.078Z"
   },
   {
    "duration": 5,
    "start_time": "2021-11-23T17:21:34.512Z"
   },
   {
    "duration": 5,
    "start_time": "2021-11-23T17:27:55.683Z"
   },
   {
    "duration": 354,
    "start_time": "2021-11-23T17:30:55.955Z"
   },
   {
    "duration": 9742,
    "start_time": "2021-11-23T17:32:32.436Z"
   },
   {
    "duration": 3,
    "start_time": "2021-11-23T17:32:48.036Z"
   },
   {
    "duration": 209,
    "start_time": "2021-11-23T17:32:48.041Z"
   },
   {
    "duration": 14,
    "start_time": "2021-11-23T17:32:48.253Z"
   },
   {
    "duration": 50,
    "start_time": "2021-11-23T17:32:48.270Z"
   },
   {
    "duration": 6,
    "start_time": "2021-11-23T17:32:48.323Z"
   },
   {
    "duration": 33,
    "start_time": "2021-11-23T17:32:48.332Z"
   },
   {
    "duration": 6,
    "start_time": "2021-11-23T17:32:48.368Z"
   },
   {
    "duration": 53,
    "start_time": "2021-11-23T17:32:48.379Z"
   },
   {
    "duration": 26,
    "start_time": "2021-11-23T17:32:48.435Z"
   },
   {
    "duration": 65,
    "start_time": "2021-11-23T17:32:48.464Z"
   },
   {
    "duration": 114,
    "start_time": "2021-11-23T17:32:48.532Z"
   },
   {
    "duration": 116,
    "start_time": "2021-11-23T17:32:48.649Z"
   },
   {
    "duration": 90,
    "start_time": "2021-11-23T17:32:48.767Z"
   },
   {
    "duration": 15,
    "start_time": "2021-11-23T17:32:48.859Z"
   },
   {
    "duration": 24,
    "start_time": "2021-11-23T17:32:48.876Z"
   },
   {
    "duration": 109,
    "start_time": "2021-11-23T17:32:48.904Z"
   },
   {
    "duration": 17,
    "start_time": "2021-11-23T17:32:49.016Z"
   },
   {
    "duration": 16,
    "start_time": "2021-11-23T17:32:49.036Z"
   },
   {
    "duration": 81,
    "start_time": "2021-11-23T17:32:49.055Z"
   },
   {
    "duration": 5,
    "start_time": "2021-11-23T17:32:49.139Z"
   },
   {
    "duration": 41,
    "start_time": "2021-11-23T17:32:49.147Z"
   },
   {
    "duration": 21,
    "start_time": "2021-11-23T17:32:49.201Z"
   },
   {
    "duration": 21,
    "start_time": "2021-11-23T17:32:49.226Z"
   },
   {
    "duration": 51,
    "start_time": "2021-11-23T17:32:49.251Z"
   },
   {
    "duration": 24,
    "start_time": "2021-11-23T17:32:49.305Z"
   },
   {
    "duration": 19,
    "start_time": "2021-11-23T17:32:49.332Z"
   },
   {
    "duration": 133,
    "start_time": "2021-11-23T17:32:49.354Z"
   },
   {
    "duration": 21,
    "start_time": "2021-11-23T17:32:49.490Z"
   },
   {
    "duration": 13,
    "start_time": "2021-11-23T17:32:49.514Z"
   },
   {
    "duration": 371,
    "start_time": "2021-11-23T17:35:43.357Z"
   },
   {
    "duration": 9611,
    "start_time": "2021-11-23T17:36:24.934Z"
   },
   {
    "duration": 9676,
    "start_time": "2021-11-23T17:37:15.833Z"
   },
   {
    "duration": 9027,
    "start_time": "2021-11-23T17:39:02.172Z"
   },
   {
    "duration": 9482,
    "start_time": "2021-11-23T17:42:06.696Z"
   },
   {
    "duration": 8923,
    "start_time": "2021-11-23T17:43:14.736Z"
   },
   {
    "duration": 3,
    "start_time": "2021-11-23T17:43:36.050Z"
   },
   {
    "duration": 212,
    "start_time": "2021-11-23T17:43:36.056Z"
   },
   {
    "duration": 15,
    "start_time": "2021-11-23T17:43:36.271Z"
   },
   {
    "duration": 43,
    "start_time": "2021-11-23T17:43:36.288Z"
   },
   {
    "duration": 6,
    "start_time": "2021-11-23T17:43:36.333Z"
   },
   {
    "duration": 16,
    "start_time": "2021-11-23T17:43:36.342Z"
   },
   {
    "duration": 40,
    "start_time": "2021-11-23T17:43:36.361Z"
   },
   {
    "duration": 31,
    "start_time": "2021-11-23T17:43:36.403Z"
   },
   {
    "duration": 22,
    "start_time": "2021-11-23T17:43:36.439Z"
   },
   {
    "duration": 60,
    "start_time": "2021-11-23T17:43:36.464Z"
   },
   {
    "duration": 112,
    "start_time": "2021-11-23T17:43:36.527Z"
   },
   {
    "duration": 111,
    "start_time": "2021-11-23T17:43:36.643Z"
   },
   {
    "duration": 91,
    "start_time": "2021-11-23T17:43:36.757Z"
   },
   {
    "duration": 16,
    "start_time": "2021-11-23T17:43:36.851Z"
   },
   {
    "duration": 31,
    "start_time": "2021-11-23T17:43:36.870Z"
   },
   {
    "duration": 97,
    "start_time": "2021-11-23T17:43:36.903Z"
   },
   {
    "duration": 15,
    "start_time": "2021-11-23T17:43:37.003Z"
   },
   {
    "duration": 14,
    "start_time": "2021-11-23T17:43:37.020Z"
   },
   {
    "duration": 68,
    "start_time": "2021-11-23T17:43:37.036Z"
   },
   {
    "duration": 5,
    "start_time": "2021-11-23T17:43:37.107Z"
   },
   {
    "duration": 31,
    "start_time": "2021-11-23T17:43:37.114Z"
   },
   {
    "duration": 20,
    "start_time": "2021-11-23T17:43:37.147Z"
   },
   {
    "duration": 43,
    "start_time": "2021-11-23T17:43:37.170Z"
   },
   {
    "duration": 18,
    "start_time": "2021-11-23T17:43:37.216Z"
   },
   {
    "duration": 22,
    "start_time": "2021-11-23T17:43:37.237Z"
   },
   {
    "duration": 54,
    "start_time": "2021-11-23T17:43:37.261Z"
   },
   {
    "duration": 113,
    "start_time": "2021-11-23T17:43:37.319Z"
   },
   {
    "duration": 17,
    "start_time": "2021-11-23T17:43:37.435Z"
   },
   {
    "duration": 14,
    "start_time": "2021-11-23T17:43:37.454Z"
   },
   {
    "duration": 8867,
    "start_time": "2021-11-23T17:43:37.470Z"
   },
   {
    "duration": 8920,
    "start_time": "2021-11-23T17:43:55.606Z"
   },
   {
    "duration": 12437,
    "start_time": "2021-11-23T17:45:00.600Z"
   },
   {
    "duration": 4,
    "start_time": "2021-11-23T17:45:26.814Z"
   },
   {
    "duration": 211,
    "start_time": "2021-11-23T17:45:26.822Z"
   },
   {
    "duration": 14,
    "start_time": "2021-11-23T17:45:27.036Z"
   },
   {
    "duration": 53,
    "start_time": "2021-11-23T17:45:27.053Z"
   },
   {
    "duration": 5,
    "start_time": "2021-11-23T17:45:27.109Z"
   },
   {
    "duration": 29,
    "start_time": "2021-11-23T17:45:27.116Z"
   },
   {
    "duration": 6,
    "start_time": "2021-11-23T17:45:27.148Z"
   },
   {
    "duration": 71,
    "start_time": "2021-11-23T17:45:27.160Z"
   },
   {
    "duration": 24,
    "start_time": "2021-11-23T17:45:27.235Z"
   },
   {
    "duration": 51,
    "start_time": "2021-11-23T17:45:27.262Z"
   },
   {
    "duration": 103,
    "start_time": "2021-11-23T17:45:27.315Z"
   },
   {
    "duration": 103,
    "start_time": "2021-11-23T17:45:27.421Z"
   },
   {
    "duration": 95,
    "start_time": "2021-11-23T17:45:27.527Z"
   },
   {
    "duration": 14,
    "start_time": "2021-11-23T17:45:27.625Z"
   },
   {
    "duration": 4,
    "start_time": "2021-11-23T17:45:27.641Z"
   },
   {
    "duration": 117,
    "start_time": "2021-11-23T17:45:27.648Z"
   },
   {
    "duration": 15,
    "start_time": "2021-11-23T17:45:27.768Z"
   },
   {
    "duration": 26,
    "start_time": "2021-11-23T17:45:27.786Z"
   },
   {
    "duration": 43,
    "start_time": "2021-11-23T17:45:27.815Z"
   },
   {
    "duration": 5,
    "start_time": "2021-11-23T17:45:27.861Z"
   },
   {
    "duration": 54,
    "start_time": "2021-11-23T17:45:27.869Z"
   },
   {
    "duration": 19,
    "start_time": "2021-11-23T17:45:27.925Z"
   },
   {
    "duration": 21,
    "start_time": "2021-11-23T17:45:27.948Z"
   },
   {
    "duration": 44,
    "start_time": "2021-11-23T17:45:27.971Z"
   },
   {
    "duration": 22,
    "start_time": "2021-11-23T17:45:28.017Z"
   },
   {
    "duration": 19,
    "start_time": "2021-11-23T17:45:28.041Z"
   },
   {
    "duration": 126,
    "start_time": "2021-11-23T17:45:28.063Z"
   },
   {
    "duration": 18,
    "start_time": "2021-11-23T17:45:28.201Z"
   },
   {
    "duration": 13,
    "start_time": "2021-11-23T17:45:28.222Z"
   },
   {
    "duration": 8901,
    "start_time": "2021-11-23T17:45:28.238Z"
   },
   {
    "duration": 3,
    "start_time": "2021-11-23T17:47:29.215Z"
   },
   {
    "duration": 199,
    "start_time": "2021-11-23T17:47:29.221Z"
   },
   {
    "duration": 13,
    "start_time": "2021-11-23T17:47:29.423Z"
   },
   {
    "duration": 39,
    "start_time": "2021-11-23T17:47:29.439Z"
   },
   {
    "duration": 21,
    "start_time": "2021-11-23T17:47:29.481Z"
   },
   {
    "duration": 31,
    "start_time": "2021-11-23T17:47:29.504Z"
   },
   {
    "duration": 6,
    "start_time": "2021-11-23T17:47:29.537Z"
   },
   {
    "duration": 59,
    "start_time": "2021-11-23T17:47:29.546Z"
   },
   {
    "duration": 31,
    "start_time": "2021-11-23T17:47:29.609Z"
   },
   {
    "duration": 30,
    "start_time": "2021-11-23T17:47:29.643Z"
   },
   {
    "duration": 108,
    "start_time": "2021-11-23T17:47:29.675Z"
   },
   {
    "duration": 108,
    "start_time": "2021-11-23T17:47:29.785Z"
   },
   {
    "duration": 76,
    "start_time": "2021-11-23T17:47:29.901Z"
   },
   {
    "duration": 26,
    "start_time": "2021-11-23T17:47:29.980Z"
   },
   {
    "duration": 8,
    "start_time": "2021-11-23T17:47:30.009Z"
   },
   {
    "duration": 105,
    "start_time": "2021-11-23T17:47:30.019Z"
   },
   {
    "duration": 14,
    "start_time": "2021-11-23T17:47:30.126Z"
   },
   {
    "duration": 19,
    "start_time": "2021-11-23T17:47:30.142Z"
   },
   {
    "duration": 70,
    "start_time": "2021-11-23T17:47:30.163Z"
   },
   {
    "duration": 4,
    "start_time": "2021-11-23T17:47:30.236Z"
   },
   {
    "duration": 74,
    "start_time": "2021-11-23T17:47:30.242Z"
   },
   {
    "duration": 40,
    "start_time": "2021-11-23T17:47:30.319Z"
   },
   {
    "duration": 33,
    "start_time": "2021-11-23T17:47:30.362Z"
   },
   {
    "duration": 37,
    "start_time": "2021-11-23T17:47:30.398Z"
   },
   {
    "duration": 59,
    "start_time": "2021-11-23T17:47:30.437Z"
   },
   {
    "duration": 23,
    "start_time": "2021-11-23T17:47:30.499Z"
   },
   {
    "duration": 132,
    "start_time": "2021-11-23T17:47:30.527Z"
   },
   {
    "duration": 19,
    "start_time": "2021-11-23T17:47:30.662Z"
   },
   {
    "duration": 30,
    "start_time": "2021-11-23T17:47:30.684Z"
   },
   {
    "duration": 9586,
    "start_time": "2021-11-23T17:47:36.806Z"
   },
   {
    "duration": 15,
    "start_time": "2021-11-23T17:49:28.310Z"
   },
   {
    "duration": 24,
    "start_time": "2021-11-23T17:49:45.758Z"
   },
   {
    "duration": 8995,
    "start_time": "2021-11-23T17:50:19.451Z"
   },
   {
    "duration": 9311,
    "start_time": "2021-11-23T17:50:28.625Z"
   },
   {
    "duration": 17,
    "start_time": "2021-11-23T17:50:56.162Z"
   },
   {
    "duration": 23,
    "start_time": "2021-11-23T17:52:06.190Z"
   },
   {
    "duration": 21,
    "start_time": "2021-11-23T17:52:23.967Z"
   },
   {
    "duration": 24,
    "start_time": "2021-11-23T17:53:01.750Z"
   },
   {
    "duration": 25,
    "start_time": "2021-11-23T18:04:05.843Z"
   },
   {
    "duration": 24,
    "start_time": "2021-11-23T18:04:19.237Z"
   },
   {
    "duration": 21,
    "start_time": "2021-11-23T18:08:10.909Z"
   },
   {
    "duration": 411,
    "start_time": "2021-11-23T18:09:50.376Z"
   },
   {
    "duration": 28,
    "start_time": "2021-11-23T18:10:02.415Z"
   },
   {
    "duration": 40,
    "start_time": "2021-11-23T18:12:12.159Z"
   },
   {
    "duration": 30,
    "start_time": "2021-11-23T18:13:48.839Z"
   },
   {
    "duration": 34,
    "start_time": "2021-11-23T18:19:25.931Z"
   },
   {
    "duration": 438,
    "start_time": "2021-11-23T18:22:36.864Z"
   },
   {
    "duration": 415,
    "start_time": "2021-11-23T18:24:10.518Z"
   },
   {
    "duration": 3,
    "start_time": "2021-11-23T18:25:05.426Z"
   },
   {
    "duration": 200,
    "start_time": "2021-11-23T18:25:05.432Z"
   },
   {
    "duration": 14,
    "start_time": "2021-11-23T18:25:05.635Z"
   },
   {
    "duration": 52,
    "start_time": "2021-11-23T18:25:05.652Z"
   },
   {
    "duration": 6,
    "start_time": "2021-11-23T18:25:05.706Z"
   },
   {
    "duration": 24,
    "start_time": "2021-11-23T18:25:05.714Z"
   },
   {
    "duration": 7,
    "start_time": "2021-11-23T18:25:05.750Z"
   },
   {
    "duration": 60,
    "start_time": "2021-11-23T18:25:05.760Z"
   },
   {
    "duration": 22,
    "start_time": "2021-11-23T18:25:05.826Z"
   },
   {
    "duration": 51,
    "start_time": "2021-11-23T18:25:05.851Z"
   },
   {
    "duration": 103,
    "start_time": "2021-11-23T18:25:05.905Z"
   },
   {
    "duration": 109,
    "start_time": "2021-11-23T18:25:06.011Z"
   },
   {
    "duration": 97,
    "start_time": "2021-11-23T18:25:06.122Z"
   },
   {
    "duration": 17,
    "start_time": "2021-11-23T18:25:06.222Z"
   },
   {
    "duration": 5,
    "start_time": "2021-11-23T18:25:06.242Z"
   },
   {
    "duration": 117,
    "start_time": "2021-11-23T18:25:06.250Z"
   },
   {
    "duration": 13,
    "start_time": "2021-11-23T18:25:06.370Z"
   },
   {
    "duration": 15,
    "start_time": "2021-11-23T18:25:06.401Z"
   },
   {
    "duration": 47,
    "start_time": "2021-11-23T18:25:06.418Z"
   },
   {
    "duration": 35,
    "start_time": "2021-11-23T18:25:06.468Z"
   },
   {
    "duration": 45,
    "start_time": "2021-11-23T18:25:06.505Z"
   },
   {
    "duration": 20,
    "start_time": "2021-11-23T18:25:06.553Z"
   },
   {
    "duration": 33,
    "start_time": "2021-11-23T18:25:06.576Z"
   },
   {
    "duration": 19,
    "start_time": "2021-11-23T18:25:06.612Z"
   },
   {
    "duration": 22,
    "start_time": "2021-11-23T18:25:06.633Z"
   },
   {
    "duration": 55,
    "start_time": "2021-11-23T18:25:06.657Z"
   },
   {
    "duration": 118,
    "start_time": "2021-11-23T18:25:06.717Z"
   },
   {
    "duration": 21,
    "start_time": "2021-11-23T18:25:06.838Z"
   },
   {
    "duration": 39,
    "start_time": "2021-11-23T18:25:06.861Z"
   },
   {
    "duration": 34,
    "start_time": "2021-11-23T18:26:31.234Z"
   },
   {
    "duration": 35,
    "start_time": "2021-11-23T18:27:42.003Z"
   },
   {
    "duration": 416,
    "start_time": "2021-11-23T18:29:17.744Z"
   },
   {
    "duration": 453,
    "start_time": "2021-11-23T18:29:51.650Z"
   },
   {
    "duration": 396,
    "start_time": "2021-11-23T18:39:35.137Z"
   },
   {
    "duration": 388,
    "start_time": "2021-11-23T18:42:16.354Z"
   },
   {
    "duration": 428,
    "start_time": "2021-11-23T18:49:12.609Z"
   },
   {
    "duration": 37,
    "start_time": "2021-11-23T18:50:05.022Z"
   },
   {
    "duration": 94,
    "start_time": "2021-11-23T20:35:41.117Z"
   },
   {
    "duration": 6,
    "start_time": "2021-11-23T20:35:57.494Z"
   },
   {
    "duration": 281,
    "start_time": "2021-11-23T20:37:14.338Z"
   },
   {
    "duration": 780,
    "start_time": "2021-11-23T20:37:24.848Z"
   },
   {
    "duration": 212,
    "start_time": "2021-11-23T20:37:25.631Z"
   },
   {
    "duration": 33,
    "start_time": "2021-11-23T20:37:25.847Z"
   },
   {
    "duration": 33,
    "start_time": "2021-11-23T20:37:25.882Z"
   },
   {
    "duration": 8,
    "start_time": "2021-11-23T20:37:25.917Z"
   },
   {
    "duration": 57,
    "start_time": "2021-11-23T20:37:25.928Z"
   },
   {
    "duration": 9,
    "start_time": "2021-11-23T20:37:25.987Z"
   },
   {
    "duration": 31,
    "start_time": "2021-11-23T20:37:25.998Z"
   },
   {
    "duration": 48,
    "start_time": "2021-11-23T20:37:26.033Z"
   },
   {
    "duration": 32,
    "start_time": "2021-11-23T20:37:26.085Z"
   },
   {
    "duration": 110,
    "start_time": "2021-11-23T20:37:26.120Z"
   },
   {
    "duration": 114,
    "start_time": "2021-11-23T20:37:26.232Z"
   },
   {
    "duration": 86,
    "start_time": "2021-11-23T20:37:26.349Z"
   },
   {
    "duration": 14,
    "start_time": "2021-11-23T20:37:26.438Z"
   },
   {
    "duration": 4,
    "start_time": "2021-11-23T20:37:26.468Z"
   },
   {
    "duration": 102,
    "start_time": "2021-11-23T20:37:26.475Z"
   },
   {
    "duration": 14,
    "start_time": "2021-11-23T20:37:26.580Z"
   },
   {
    "duration": 15,
    "start_time": "2021-11-23T20:37:26.596Z"
   },
   {
    "duration": 70,
    "start_time": "2021-11-23T20:37:26.614Z"
   },
   {
    "duration": 5,
    "start_time": "2021-11-23T20:37:26.687Z"
   },
   {
    "duration": 29,
    "start_time": "2021-11-23T20:37:26.694Z"
   },
   {
    "duration": 45,
    "start_time": "2021-11-23T20:37:26.726Z"
   },
   {
    "duration": 21,
    "start_time": "2021-11-23T20:37:26.774Z"
   },
   {
    "duration": 20,
    "start_time": "2021-11-23T20:37:26.797Z"
   },
   {
    "duration": 52,
    "start_time": "2021-11-23T20:37:26.819Z"
   },
   {
    "duration": 20,
    "start_time": "2021-11-23T20:37:26.873Z"
   },
   {
    "duration": 127,
    "start_time": "2021-11-23T20:37:26.898Z"
   },
   {
    "duration": 16,
    "start_time": "2021-11-23T20:37:27.027Z"
   },
   {
    "duration": 28,
    "start_time": "2021-11-23T20:37:27.045Z"
   },
   {
    "duration": 6,
    "start_time": "2021-11-23T20:37:27.075Z"
   },
   {
    "duration": 23,
    "start_time": "2021-11-23T20:38:15.500Z"
   },
   {
    "duration": 23,
    "start_time": "2021-11-23T20:40:14.305Z"
   },
   {
    "duration": 21,
    "start_time": "2021-11-23T20:43:47.549Z"
   },
   {
    "duration": 27,
    "start_time": "2021-11-23T20:44:54.187Z"
   },
   {
    "duration": 18,
    "start_time": "2021-11-23T20:45:27.704Z"
   },
   {
    "duration": 26,
    "start_time": "2021-11-23T20:46:21.499Z"
   },
   {
    "duration": 25,
    "start_time": "2021-11-23T20:48:02.159Z"
   },
   {
    "duration": 5,
    "start_time": "2021-11-23T20:48:08.404Z"
   },
   {
    "duration": 202,
    "start_time": "2021-11-23T20:48:08.412Z"
   },
   {
    "duration": 15,
    "start_time": "2021-11-23T20:48:08.617Z"
   },
   {
    "duration": 51,
    "start_time": "2021-11-23T20:48:08.636Z"
   },
   {
    "duration": 8,
    "start_time": "2021-11-23T20:48:08.690Z"
   },
   {
    "duration": 35,
    "start_time": "2021-11-23T20:48:08.700Z"
   },
   {
    "duration": 29,
    "start_time": "2021-11-23T20:48:08.738Z"
   },
   {
    "duration": 34,
    "start_time": "2021-11-23T20:48:08.769Z"
   },
   {
    "duration": 23,
    "start_time": "2021-11-23T20:48:08.807Z"
   },
   {
    "duration": 60,
    "start_time": "2021-11-23T20:48:08.834Z"
   },
   {
    "duration": 103,
    "start_time": "2021-11-23T20:48:08.896Z"
   },
   {
    "duration": 114,
    "start_time": "2021-11-23T20:48:09.002Z"
   },
   {
    "duration": 87,
    "start_time": "2021-11-23T20:48:09.118Z"
   },
   {
    "duration": 15,
    "start_time": "2021-11-23T20:48:09.207Z"
   },
   {
    "duration": 4,
    "start_time": "2021-11-23T20:48:09.224Z"
   },
   {
    "duration": 110,
    "start_time": "2021-11-23T20:48:09.231Z"
   },
   {
    "duration": 26,
    "start_time": "2021-11-23T20:48:09.343Z"
   },
   {
    "duration": 13,
    "start_time": "2021-11-23T20:48:09.372Z"
   },
   {
    "duration": 44,
    "start_time": "2021-11-23T20:48:09.387Z"
   },
   {
    "duration": 5,
    "start_time": "2021-11-23T20:48:09.433Z"
   },
   {
    "duration": 22,
    "start_time": "2021-11-23T20:48:09.468Z"
   },
   {
    "duration": 20,
    "start_time": "2021-11-23T20:48:09.493Z"
   },
   {
    "duration": 62,
    "start_time": "2021-11-23T20:48:09.515Z"
   },
   {
    "duration": 18,
    "start_time": "2021-11-23T20:48:09.580Z"
   },
   {
    "duration": 21,
    "start_time": "2021-11-23T20:48:09.601Z"
   },
   {
    "duration": 52,
    "start_time": "2021-11-23T20:48:09.625Z"
   },
   {
    "duration": 109,
    "start_time": "2021-11-23T20:48:09.682Z"
   },
   {
    "duration": 17,
    "start_time": "2021-11-23T20:48:09.793Z"
   },
   {
    "duration": 13,
    "start_time": "2021-11-23T20:48:09.813Z"
   },
   {
    "duration": 6,
    "start_time": "2021-11-23T20:48:09.828Z"
   },
   {
    "duration": 53,
    "start_time": "2021-11-23T20:48:09.837Z"
   },
   {
    "duration": 4,
    "start_time": "2021-11-23T20:48:09.893Z"
   },
   {
    "duration": 9,
    "start_time": "2021-11-23T20:48:09.900Z"
   },
   {
    "duration": 5,
    "start_time": "2021-11-23T20:48:09.912Z"
   },
   {
    "duration": 8,
    "start_time": "2021-11-23T20:48:09.919Z"
   },
   {
    "duration": 8,
    "start_time": "2021-11-23T20:48:09.929Z"
   },
   {
    "duration": 6,
    "start_time": "2021-11-23T20:48:09.968Z"
   },
   {
    "duration": 6,
    "start_time": "2021-11-23T20:48:09.976Z"
   },
   {
    "duration": 4,
    "start_time": "2021-11-23T20:49:32.284Z"
   },
   {
    "duration": 276,
    "start_time": "2021-11-23T20:49:32.291Z"
   },
   {
    "duration": 19,
    "start_time": "2021-11-23T20:49:32.571Z"
   },
   {
    "duration": 74,
    "start_time": "2021-11-23T20:49:32.593Z"
   },
   {
    "duration": 6,
    "start_time": "2021-11-23T20:49:32.670Z"
   },
   {
    "duration": 27,
    "start_time": "2021-11-23T20:49:32.679Z"
   },
   {
    "duration": 7,
    "start_time": "2021-11-23T20:49:32.709Z"
   },
   {
    "duration": 65,
    "start_time": "2021-11-23T20:49:32.718Z"
   },
   {
    "duration": 24,
    "start_time": "2021-11-23T20:49:32.789Z"
   },
   {
    "duration": 53,
    "start_time": "2021-11-23T20:49:32.816Z"
   },
   {
    "duration": 105,
    "start_time": "2021-11-23T20:49:32.872Z"
   },
   {
    "duration": 111,
    "start_time": "2021-11-23T20:49:32.979Z"
   },
   {
    "duration": 102,
    "start_time": "2021-11-23T20:49:33.093Z"
   },
   {
    "duration": 14,
    "start_time": "2021-11-23T20:49:33.198Z"
   },
   {
    "duration": 4,
    "start_time": "2021-11-23T20:49:33.214Z"
   },
   {
    "duration": 117,
    "start_time": "2021-11-23T20:49:33.220Z"
   },
   {
    "duration": 13,
    "start_time": "2021-11-23T20:49:33.340Z"
   },
   {
    "duration": 13,
    "start_time": "2021-11-23T20:49:33.367Z"
   },
   {
    "duration": 65,
    "start_time": "2021-11-23T20:49:33.383Z"
   },
   {
    "duration": 20,
    "start_time": "2021-11-23T20:49:33.452Z"
   },
   {
    "duration": 41,
    "start_time": "2021-11-23T20:49:33.475Z"
   },
   {
    "duration": 51,
    "start_time": "2021-11-23T20:49:33.518Z"
   },
   {
    "duration": 23,
    "start_time": "2021-11-23T20:49:33.572Z"
   },
   {
    "duration": 19,
    "start_time": "2021-11-23T20:49:33.597Z"
   },
   {
    "duration": 57,
    "start_time": "2021-11-23T20:49:33.618Z"
   },
   {
    "duration": 20,
    "start_time": "2021-11-23T20:49:33.677Z"
   },
   {
    "duration": 122,
    "start_time": "2021-11-23T20:49:33.702Z"
   },
   {
    "duration": 17,
    "start_time": "2021-11-23T20:49:33.827Z"
   },
   {
    "duration": 30,
    "start_time": "2021-11-23T20:49:33.846Z"
   },
   {
    "duration": 6,
    "start_time": "2021-11-23T20:49:33.879Z"
   },
   {
    "duration": 30,
    "start_time": "2021-11-23T20:49:33.887Z"
   },
   {
    "duration": 3,
    "start_time": "2021-11-23T20:49:33.920Z"
   },
   {
    "duration": 8,
    "start_time": "2021-11-23T20:49:33.925Z"
   },
   {
    "duration": 32,
    "start_time": "2021-11-23T20:49:33.935Z"
   },
   {
    "duration": 4,
    "start_time": "2021-11-23T20:49:33.970Z"
   },
   {
    "duration": 6,
    "start_time": "2021-11-23T20:49:33.976Z"
   },
   {
    "duration": 7,
    "start_time": "2021-11-23T20:49:33.984Z"
   },
   {
    "duration": 10,
    "start_time": "2021-11-23T20:49:33.994Z"
   },
   {
    "duration": 617,
    "start_time": "2021-11-24T08:15:26.419Z"
   },
   {
    "duration": 168,
    "start_time": "2021-11-24T08:15:27.038Z"
   },
   {
    "duration": 18,
    "start_time": "2021-11-24T08:15:27.208Z"
   },
   {
    "duration": 37,
    "start_time": "2021-11-24T08:15:27.228Z"
   },
   {
    "duration": 4,
    "start_time": "2021-11-24T08:15:27.267Z"
   },
   {
    "duration": 26,
    "start_time": "2021-11-24T08:15:27.272Z"
   },
   {
    "duration": 4,
    "start_time": "2021-11-24T08:15:27.301Z"
   },
   {
    "duration": 29,
    "start_time": "2021-11-24T08:15:27.307Z"
   },
   {
    "duration": 42,
    "start_time": "2021-11-24T08:15:27.338Z"
   },
   {
    "duration": 26,
    "start_time": "2021-11-24T08:15:27.383Z"
   },
   {
    "duration": 90,
    "start_time": "2021-11-24T08:15:27.410Z"
   },
   {
    "duration": 84,
    "start_time": "2021-11-24T08:15:27.501Z"
   },
   {
    "duration": 56,
    "start_time": "2021-11-24T08:15:27.587Z"
   },
   {
    "duration": 22,
    "start_time": "2021-11-24T08:15:27.645Z"
   },
   {
    "duration": 3,
    "start_time": "2021-11-24T08:15:27.669Z"
   },
   {
    "duration": 61,
    "start_time": "2021-11-24T08:15:27.673Z"
   },
   {
    "duration": 29,
    "start_time": "2021-11-24T08:15:27.735Z"
   },
   {
    "duration": 11,
    "start_time": "2021-11-24T08:15:27.766Z"
   },
   {
    "duration": 38,
    "start_time": "2021-11-24T08:15:27.779Z"
   },
   {
    "duration": 3,
    "start_time": "2021-11-24T08:15:27.819Z"
   },
   {
    "duration": 48,
    "start_time": "2021-11-24T08:15:27.824Z"
   },
   {
    "duration": 18,
    "start_time": "2021-11-24T08:15:27.874Z"
   },
   {
    "duration": 19,
    "start_time": "2021-11-24T08:15:27.894Z"
   },
   {
    "duration": 17,
    "start_time": "2021-11-24T08:15:27.914Z"
   },
   {
    "duration": 55,
    "start_time": "2021-11-24T08:15:27.933Z"
   },
   {
    "duration": 18,
    "start_time": "2021-11-24T08:15:27.990Z"
   },
   {
    "duration": 146,
    "start_time": "2021-11-24T08:15:28.011Z"
   },
   {
    "duration": 18,
    "start_time": "2021-11-24T08:15:28.159Z"
   },
   {
    "duration": 21,
    "start_time": "2021-11-24T08:15:28.179Z"
   },
   {
    "duration": 5,
    "start_time": "2021-11-24T08:15:28.202Z"
   },
   {
    "duration": 31,
    "start_time": "2021-11-24T08:15:28.208Z"
   },
   {
    "duration": 32,
    "start_time": "2021-11-24T08:15:28.241Z"
   },
   {
    "duration": 19,
    "start_time": "2021-11-24T08:15:28.275Z"
   },
   {
    "duration": 15,
    "start_time": "2021-11-24T08:15:36.369Z"
   },
   {
    "duration": 13,
    "start_time": "2021-11-24T08:45:13.241Z"
   },
   {
    "duration": 9,
    "start_time": "2021-11-24T08:45:24.933Z"
   },
   {
    "duration": 40,
    "start_time": "2021-11-24T08:46:52.430Z"
   },
   {
    "duration": 23,
    "start_time": "2021-11-24T08:47:02.109Z"
   },
   {
    "duration": 26,
    "start_time": "2021-11-24T08:49:40.363Z"
   },
   {
    "duration": 9,
    "start_time": "2021-11-24T08:49:50.756Z"
   },
   {
    "duration": 29,
    "start_time": "2021-11-24T08:51:23.790Z"
   },
   {
    "duration": 19,
    "start_time": "2021-11-24T08:51:50.565Z"
   },
   {
    "duration": 15,
    "start_time": "2021-11-24T08:53:54.892Z"
   },
   {
    "duration": 13,
    "start_time": "2021-11-24T08:53:57.959Z"
   },
   {
    "duration": 5,
    "start_time": "2021-11-24T08:54:27.409Z"
   },
   {
    "duration": 23,
    "start_time": "2021-11-24T08:54:33.377Z"
   },
   {
    "duration": 3,
    "start_time": "2021-11-24T08:54:52.739Z"
   },
   {
    "duration": 173,
    "start_time": "2021-11-24T08:54:52.744Z"
   },
   {
    "duration": 9,
    "start_time": "2021-11-24T08:54:52.920Z"
   },
   {
    "duration": 33,
    "start_time": "2021-11-24T08:54:52.930Z"
   },
   {
    "duration": 4,
    "start_time": "2021-11-24T08:54:52.965Z"
   },
   {
    "duration": 23,
    "start_time": "2021-11-24T08:54:52.971Z"
   },
   {
    "duration": 4,
    "start_time": "2021-11-24T08:54:52.995Z"
   },
   {
    "duration": 26,
    "start_time": "2021-11-24T08:54:53.001Z"
   },
   {
    "duration": 42,
    "start_time": "2021-11-24T08:54:53.029Z"
   },
   {
    "duration": 22,
    "start_time": "2021-11-24T08:54:53.074Z"
   },
   {
    "duration": 68,
    "start_time": "2021-11-24T08:54:53.097Z"
   },
   {
    "duration": 63,
    "start_time": "2021-11-24T08:54:53.166Z"
   },
   {
    "duration": 70,
    "start_time": "2021-11-24T08:54:53.231Z"
   },
   {
    "duration": 9,
    "start_time": "2021-11-24T08:54:53.302Z"
   },
   {
    "duration": 2,
    "start_time": "2021-11-24T08:54:53.313Z"
   },
   {
    "duration": 69,
    "start_time": "2021-11-24T08:54:53.317Z"
   },
   {
    "duration": 9,
    "start_time": "2021-11-24T08:54:53.388Z"
   },
   {
    "duration": 9,
    "start_time": "2021-11-24T08:54:53.399Z"
   },
   {
    "duration": 28,
    "start_time": "2021-11-24T08:54:53.410Z"
   },
   {
    "duration": 4,
    "start_time": "2021-11-24T08:54:53.463Z"
   },
   {
    "duration": 25,
    "start_time": "2021-11-24T08:54:53.468Z"
   },
   {
    "duration": 17,
    "start_time": "2021-11-24T08:54:53.495Z"
   },
   {
    "duration": 16,
    "start_time": "2021-11-24T08:54:53.514Z"
   },
   {
    "duration": 41,
    "start_time": "2021-11-24T08:54:53.532Z"
   },
   {
    "duration": 17,
    "start_time": "2021-11-24T08:54:53.575Z"
   },
   {
    "duration": 16,
    "start_time": "2021-11-24T08:54:53.594Z"
   },
   {
    "duration": 98,
    "start_time": "2021-11-24T08:54:53.614Z"
   },
   {
    "duration": 14,
    "start_time": "2021-11-24T08:54:53.714Z"
   },
   {
    "duration": 12,
    "start_time": "2021-11-24T08:54:53.729Z"
   },
   {
    "duration": 22,
    "start_time": "2021-11-24T08:54:53.743Z"
   },
   {
    "duration": 29,
    "start_time": "2021-11-24T08:54:53.767Z"
   },
   {
    "duration": 14,
    "start_time": "2021-11-24T08:54:53.798Z"
   },
   {
    "duration": 18,
    "start_time": "2021-11-24T08:54:53.814Z"
   },
   {
    "duration": 6,
    "start_time": "2021-11-24T09:30:22.449Z"
   },
   {
    "duration": 4,
    "start_time": "2021-11-24T09:31:24.137Z"
   },
   {
    "duration": 32,
    "start_time": "2021-11-24T09:31:35.311Z"
   },
   {
    "duration": 325,
    "start_time": "2021-11-24T09:32:08.492Z"
   },
   {
    "duration": 13,
    "start_time": "2021-11-24T09:32:15.129Z"
   },
   {
    "duration": 10,
    "start_time": "2021-11-24T09:33:16.664Z"
   },
   {
    "duration": 5,
    "start_time": "2021-11-24T09:33:34.864Z"
   },
   {
    "duration": 8,
    "start_time": "2021-11-24T09:34:45.431Z"
   },
   {
    "duration": 5,
    "start_time": "2021-11-24T09:35:01.323Z"
   },
   {
    "duration": 3,
    "start_time": "2021-11-24T09:36:01.831Z"
   },
   {
    "duration": 171,
    "start_time": "2021-11-24T09:36:01.836Z"
   },
   {
    "duration": 10,
    "start_time": "2021-11-24T09:36:02.009Z"
   },
   {
    "duration": 64,
    "start_time": "2021-11-24T09:36:02.021Z"
   },
   {
    "duration": 35,
    "start_time": "2021-11-24T09:36:02.086Z"
   },
   {
    "duration": 35,
    "start_time": "2021-11-24T09:36:02.123Z"
   },
   {
    "duration": 51,
    "start_time": "2021-11-24T09:36:02.160Z"
   },
   {
    "duration": 39,
    "start_time": "2021-11-24T09:36:02.212Z"
   },
   {
    "duration": 35,
    "start_time": "2021-11-24T09:36:02.253Z"
   },
   {
    "duration": 41,
    "start_time": "2021-11-24T09:36:02.290Z"
   },
   {
    "duration": 68,
    "start_time": "2021-11-24T09:36:02.333Z"
   },
   {
    "duration": 70,
    "start_time": "2021-11-24T09:36:02.403Z"
   },
   {
    "duration": 50,
    "start_time": "2021-11-24T09:36:02.475Z"
   },
   {
    "duration": 18,
    "start_time": "2021-11-24T09:36:02.527Z"
   },
   {
    "duration": 62,
    "start_time": "2021-11-24T09:36:02.547Z"
   },
   {
    "duration": 94,
    "start_time": "2021-11-24T09:36:02.610Z"
   },
   {
    "duration": 9,
    "start_time": "2021-11-24T09:36:02.706Z"
   },
   {
    "duration": 25,
    "start_time": "2021-11-24T09:36:02.717Z"
   },
   {
    "duration": 47,
    "start_time": "2021-11-24T09:36:02.744Z"
   },
   {
    "duration": 4,
    "start_time": "2021-11-24T09:36:02.793Z"
   },
   {
    "duration": 53,
    "start_time": "2021-11-24T09:36:02.798Z"
   },
   {
    "duration": 16,
    "start_time": "2021-11-24T09:36:02.852Z"
   },
   {
    "duration": 15,
    "start_time": "2021-11-24T09:36:02.870Z"
   },
   {
    "duration": 33,
    "start_time": "2021-11-24T09:36:02.886Z"
   },
   {
    "duration": 37,
    "start_time": "2021-11-24T09:36:02.921Z"
   },
   {
    "duration": 24,
    "start_time": "2021-11-24T09:36:02.960Z"
   },
   {
    "duration": 112,
    "start_time": "2021-11-24T09:36:02.987Z"
   },
   {
    "duration": 11,
    "start_time": "2021-11-24T09:36:03.101Z"
   },
   {
    "duration": 25,
    "start_time": "2021-11-24T09:36:03.114Z"
   },
   {
    "duration": 54,
    "start_time": "2021-11-24T09:36:03.141Z"
   },
   {
    "duration": 110,
    "start_time": "2021-11-24T09:36:03.197Z"
   },
   {
    "duration": 58,
    "start_time": "2021-11-24T09:36:03.310Z"
   },
   {
    "duration": 96,
    "start_time": "2021-11-24T09:36:03.370Z"
   },
   {
    "duration": 99,
    "start_time": "2021-11-24T09:36:03.468Z"
   },
   {
    "duration": 15,
    "start_time": "2021-11-24T09:36:03.569Z"
   },
   {
    "duration": 12,
    "start_time": "2021-11-24T09:36:03.586Z"
   },
   {
    "duration": 18,
    "start_time": "2021-11-24T09:36:03.600Z"
   },
   {
    "duration": 19,
    "start_time": "2021-11-24T09:36:03.620Z"
   },
   {
    "duration": 5,
    "start_time": "2021-11-24T09:36:26.765Z"
   },
   {
    "duration": 6,
    "start_time": "2021-11-24T09:36:35.345Z"
   },
   {
    "duration": 7,
    "start_time": "2021-11-24T09:36:41.887Z"
   },
   {
    "duration": 638,
    "start_time": "2021-11-24T14:49:22.397Z"
   },
   {
    "duration": 143,
    "start_time": "2021-11-24T14:49:23.036Z"
   },
   {
    "duration": 16,
    "start_time": "2021-11-24T14:49:23.181Z"
   },
   {
    "duration": 26,
    "start_time": "2021-11-24T14:49:23.200Z"
   },
   {
    "duration": 5,
    "start_time": "2021-11-24T14:49:23.245Z"
   },
   {
    "duration": 21,
    "start_time": "2021-11-24T14:49:23.252Z"
   },
   {
    "duration": 6,
    "start_time": "2021-11-24T14:49:23.275Z"
   },
   {
    "duration": 25,
    "start_time": "2021-11-24T14:49:23.283Z"
   },
   {
    "duration": 20,
    "start_time": "2021-11-24T14:49:23.345Z"
   },
   {
    "duration": 25,
    "start_time": "2021-11-24T14:49:23.368Z"
   },
   {
    "duration": 86,
    "start_time": "2021-11-24T14:49:23.395Z"
   },
   {
    "duration": 82,
    "start_time": "2021-11-24T14:49:23.484Z"
   },
   {
    "duration": 53,
    "start_time": "2021-11-24T14:49:23.568Z"
   },
   {
    "duration": 26,
    "start_time": "2021-11-24T14:49:23.624Z"
   },
   {
    "duration": 28,
    "start_time": "2021-11-24T14:49:23.652Z"
   },
   {
    "duration": 75,
    "start_time": "2021-11-24T14:49:23.684Z"
   },
   {
    "duration": 9,
    "start_time": "2021-11-24T14:49:23.761Z"
   },
   {
    "duration": 32,
    "start_time": "2021-11-24T14:49:23.772Z"
   },
   {
    "duration": 68,
    "start_time": "2021-11-24T14:49:23.805Z"
   },
   {
    "duration": 16,
    "start_time": "2021-11-24T14:49:23.875Z"
   },
   {
    "duration": 48,
    "start_time": "2021-11-24T14:49:23.893Z"
   },
   {
    "duration": 43,
    "start_time": "2021-11-24T14:49:23.943Z"
   },
   {
    "duration": 33,
    "start_time": "2021-11-24T14:49:23.989Z"
   },
   {
    "duration": 48,
    "start_time": "2021-11-24T14:49:24.025Z"
   },
   {
    "duration": 24,
    "start_time": "2021-11-24T14:49:24.074Z"
   },
   {
    "duration": 31,
    "start_time": "2021-11-24T14:49:24.100Z"
   },
   {
    "duration": 95,
    "start_time": "2021-11-24T14:49:24.134Z"
   },
   {
    "duration": 10,
    "start_time": "2021-11-24T14:49:24.231Z"
   },
   {
    "duration": 28,
    "start_time": "2021-11-24T14:49:24.243Z"
   },
   {
    "duration": 9,
    "start_time": "2021-11-24T14:49:24.273Z"
   },
   {
    "duration": 61,
    "start_time": "2021-11-24T14:49:24.284Z"
   },
   {
    "duration": 13,
    "start_time": "2021-11-24T14:49:24.347Z"
   },
   {
    "duration": 17,
    "start_time": "2021-11-24T14:49:24.361Z"
   },
   {
    "duration": 11,
    "start_time": "2021-11-24T14:49:24.379Z"
   },
   {
    "duration": 13,
    "start_time": "2021-11-24T14:49:24.392Z"
   },
   {
    "duration": 5,
    "start_time": "2021-11-24T14:49:24.406Z"
   },
   {
    "duration": 39,
    "start_time": "2021-11-24T14:49:24.413Z"
   },
   {
    "duration": 6,
    "start_time": "2021-11-24T14:49:24.454Z"
   },
   {
    "duration": 3493,
    "start_time": "2021-11-27T17:26:20.453Z"
   },
   {
    "duration": 1146,
    "start_time": "2021-11-27T17:27:17.096Z"
   }
  ],
  "colab": {
   "collapsed_sections": [
    "E0vqbgi9ay0H",
    "VUC88oWjTJw2"
   ],
   "name": "yandex_music_project_2021.2.ipynb",
   "provenance": []
  },
  "kernelspec": {
   "display_name": "Python 3 (ipykernel)",
   "language": "python",
   "name": "python3"
  },
  "language_info": {
   "codemirror_mode": {
    "name": "ipython",
    "version": 3
   },
   "file_extension": ".py",
   "mimetype": "text/x-python",
   "name": "python",
   "nbconvert_exporter": "python",
   "pygments_lexer": "ipython3",
   "version": "3.10.4"
  },
  "toc": {
   "base_numbering": 1,
   "nav_menu": {},
   "number_sections": true,
   "sideBar": true,
   "skip_h1_title": true,
   "title_cell": "Table of Contents",
   "title_sidebar": "Contents",
   "toc_cell": false,
   "toc_position": {},
   "toc_section_display": true,
   "toc_window_display": true
  }
 },
 "nbformat": 4,
 "nbformat_minor": 1
}
