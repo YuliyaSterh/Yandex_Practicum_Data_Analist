{
 "cells": [
  {
   "cell_type": "markdown",
   "metadata": {
    "toc": true
   },
   "source": [
    "<h1>Содержание<span class=\"tocSkip\"></span></h1>\n",
    "<div class=\"toc\"><ul class=\"toc-item\"><li><span><a href=\"#Изучение-данных-из-файла\" data-toc-modified-id=\"Изучение-данных-из-файла-1\"><span class=\"toc-item-num\">1&nbsp;&nbsp;</span>Изучение данных из файла</a></span></li><li><span><a href=\"#Предобработка-данных\" data-toc-modified-id=\"Предобработка-данных-2\"><span class=\"toc-item-num\">2&nbsp;&nbsp;</span>Предобработка данных</a></span><ul class=\"toc-item\"><li><span><a href=\"#Пропуски-значений-и-ошибки-данных\" data-toc-modified-id=\"Пропуски-значений-и-ошибки-данных-2.1\"><span class=\"toc-item-num\">2.1&nbsp;&nbsp;</span>Пропуски значений и ошибки данных</a></span><ul class=\"toc-item\"><li><span><a href=\"#Приведение-названия-столбцов-'parks_around3000,-'ponds_around3000',-'cityCenters_nearest'-к-общему-стилю:\" data-toc-modified-id=\"Приведение-названия-столбцов-'parks_around3000,-'ponds_around3000',-'cityCenters_nearest'-к-общему-стилю:-2.1.1\"><span class=\"toc-item-num\">2.1.1&nbsp;&nbsp;</span>Приведение названия столбцов 'parks_around3000, 'ponds_around3000', 'cityCenters_nearest' к общему стилю:</a></span></li><li><span><a href=\"#Функции-для-использования-в-анализе\" data-toc-modified-id=\"Функции-для-использования-в-анализе-2.1.2\"><span class=\"toc-item-num\">2.1.2&nbsp;&nbsp;</span>Функции для использования в анализе</a></span></li><li><span><a href=\"#Столбец--'last_price'\" data-toc-modified-id=\"Столбец--'last_price'-2.1.3\"><span class=\"toc-item-num\">2.1.3&nbsp;&nbsp;</span>Столбец  'last_price'</a></span></li><li><span><a href=\"#Столбец-'total_area'\" data-toc-modified-id=\"Столбец-'total_area'-2.1.4\"><span class=\"toc-item-num\">2.1.4&nbsp;&nbsp;</span>Столбец 'total_area'</a></span></li><li><span><a href=\"#Столбец-'first_day_exposition'\" data-toc-modified-id=\"Столбец-'first_day_exposition'-2.1.5\"><span class=\"toc-item-num\">2.1.5&nbsp;&nbsp;</span>Столбец 'first_day_exposition'</a></span></li><li><span><a href=\"#Столбец-'studio'\" data-toc-modified-id=\"Столбец-'studio'-2.1.6\"><span class=\"toc-item-num\">2.1.6&nbsp;&nbsp;</span>Столбец 'studio'</a></span></li><li><span><a href=\"#Столбец-'rooms'\" data-toc-modified-id=\"Столбец-'rooms'-2.1.7\"><span class=\"toc-item-num\">2.1.7&nbsp;&nbsp;</span>Столбец 'rooms'</a></span></li><li><span><a href=\"#Проверка-значений-столбца-'ceiling_height'\" data-toc-modified-id=\"Проверка-значений-столбца-'ceiling_height'-2.1.8\"><span class=\"toc-item-num\">2.1.8&nbsp;&nbsp;</span>Проверка значений столбца 'ceiling_height'</a></span></li><li><span><a href=\"#Столбец-'floors_total'\" data-toc-modified-id=\"Столбец-'floors_total'-2.1.9\"><span class=\"toc-item-num\">2.1.9&nbsp;&nbsp;</span>Столбец 'floors_total'</a></span></li><li><span><a href=\"#Столбец-'living_area'\" data-toc-modified-id=\"Столбец-'living_area'-2.1.10\"><span class=\"toc-item-num\">2.1.10&nbsp;&nbsp;</span>Столбец 'living_area'</a></span></li><li><span><a href=\"#Столбец-'is_apartment'\" data-toc-modified-id=\"Столбец-'is_apartment'-2.1.11\"><span class=\"toc-item-num\">2.1.11&nbsp;&nbsp;</span>Столбец 'is_apartment'</a></span></li><li><span><a href=\"#Столбец-'open_plan'\" data-toc-modified-id=\"Столбец-'open_plan'-2.1.12\"><span class=\"toc-item-num\">2.1.12&nbsp;&nbsp;</span>Столбец 'open_plan'</a></span></li><li><span><a href=\"#Столбец-'kitchen_area-'\" data-toc-modified-id=\"Столбец-'kitchen_area-'-2.1.13\"><span class=\"toc-item-num\">2.1.13&nbsp;&nbsp;</span>Столбец 'kitchen_area '</a></span></li><li><span><a href=\"#Столбец-'balcony'\" data-toc-modified-id=\"Столбец-'balcony'-2.1.14\"><span class=\"toc-item-num\">2.1.14&nbsp;&nbsp;</span>Столбец 'balcony'</a></span></li><li><span><a href=\"#Столбец-'locality_name'\" data-toc-modified-id=\"Столбец-'locality_name'-2.1.15\"><span class=\"toc-item-num\">2.1.15&nbsp;&nbsp;</span>Столбец 'locality_name'</a></span></li><li><span><a href=\"#Столбец-'airports_nearest-'\" data-toc-modified-id=\"Столбец-'airports_nearest-'-2.1.16\"><span class=\"toc-item-num\">2.1.16&nbsp;&nbsp;</span>Столбец 'airports_nearest '</a></span></li><li><span><a href=\"#Столбец-'city_сenters_nearest'\" data-toc-modified-id=\"Столбец-'city_сenters_nearest'-2.1.17\"><span class=\"toc-item-num\">2.1.17&nbsp;&nbsp;</span>Столбец 'city_сenters_nearest'</a></span></li><li><span><a href=\"#Столбец-'parks_around_3000'\" data-toc-modified-id=\"Столбец-'parks_around_3000'-2.1.18\"><span class=\"toc-item-num\">2.1.18&nbsp;&nbsp;</span>Столбец 'parks_around_3000'</a></span></li><li><span><a href=\"#Столбец-'parks_nearest'\" data-toc-modified-id=\"Столбец-'parks_nearest'-2.1.19\"><span class=\"toc-item-num\">2.1.19&nbsp;&nbsp;</span>Столбец 'parks_nearest'</a></span></li><li><span><a href=\"#Столбец-'ponds_around_3000'\" data-toc-modified-id=\"Столбец-'ponds_around_3000'-2.1.20\"><span class=\"toc-item-num\">2.1.20&nbsp;&nbsp;</span>Столбец 'ponds_around_3000'</a></span></li><li><span><a href=\"#Столбец-'ponds_nearest'\" data-toc-modified-id=\"Столбец-'ponds_nearest'-2.1.21\"><span class=\"toc-item-num\">2.1.21&nbsp;&nbsp;</span>Столбец 'ponds_nearest'</a></span></li><li><span><a href=\"#Столбец-'days_exposition'\" data-toc-modified-id=\"Столбец-'days_exposition'-2.1.22\"><span class=\"toc-item-num\">2.1.22&nbsp;&nbsp;</span>Столбец 'days_exposition'</a></span></li></ul></li><li><span><a href=\"#Замена-типа-данных\" data-toc-modified-id=\"Замена-типа-данных-2.2\"><span class=\"toc-item-num\">2.2&nbsp;&nbsp;</span>Замена типа данных</a></span></li><li><span><a href=\"#Проверка-данных-на-дубликаты:\" data-toc-modified-id=\"Проверка-данных-на-дубликаты:-2.3\"><span class=\"toc-item-num\">2.3&nbsp;&nbsp;</span>Проверка данных на дубликаты:</a></span></li></ul></li><li><span><a href=\"#Расчеты-и-добавление-данных-в-таблицу\" data-toc-modified-id=\"Расчеты-и-добавление-данных-в-таблицу-3\"><span class=\"toc-item-num\">3&nbsp;&nbsp;</span>Расчеты и добавление данных в таблицу</a></span><ul class=\"toc-item\"><li><span><a href=\"#Добавление-цены-квадратного-метра\" data-toc-modified-id=\"Добавление-цены-квадратного-метра-3.1\"><span class=\"toc-item-num\">3.1&nbsp;&nbsp;</span>Добавление цены квадратного метра</a></span></li><li><span><a href=\"#Добавление--дня-недели,-месяца-и-года-публикации-объявления\" data-toc-modified-id=\"Добавление--дня-недели,-месяца-и-года-публикации-объявления-3.2\"><span class=\"toc-item-num\">3.2&nbsp;&nbsp;</span>Добавление  дня недели, месяца и года публикации объявления</a></span></li><li><span><a href=\"#Добавление-этажа-квартиры-(первый,-последний-и-другой)\" data-toc-modified-id=\"Добавление-этажа-квартиры-(первый,-последний-и-другой)-3.3\"><span class=\"toc-item-num\">3.3&nbsp;&nbsp;</span>Добавление этажа квартиры (первый, последний и другой)</a></span></li><li><span><a href=\"#Добавление-соотношения-жилой-и-общей-площади,-а-также-площади-кухни-к-общей-площади\" data-toc-modified-id=\"Добавление-соотношения-жилой-и-общей-площади,-а-также-площади-кухни-к-общей-площади-3.4\"><span class=\"toc-item-num\">3.4&nbsp;&nbsp;</span>Добавление соотношения жилой и общей площади, а также площади кухни к общей площади</a></span></li></ul></li><li><span><a href=\"#Исследовательский-анализ-данных\" data-toc-modified-id=\"Исследовательский-анализ-данных-4\"><span class=\"toc-item-num\">4&nbsp;&nbsp;</span>Исследовательский анализ данных</a></span><ul class=\"toc-item\"><li><span><a href=\"#Функции-для-использования-в-анализе\" data-toc-modified-id=\"Функции-для-использования-в-анализе-4.1\"><span class=\"toc-item-num\">4.1&nbsp;&nbsp;</span>Функции для использования в анализе</a></span></li><li><span><a href=\"#Исследование-площади,-цены,-числа-комнат,-высоты-потолков\" data-toc-modified-id=\"Исследование-площади,-цены,-числа-комнат,-высоты-потолков-4.2\"><span class=\"toc-item-num\">4.2&nbsp;&nbsp;</span>Исследование площади, цены, числа комнат, высоты потолков</a></span><ul class=\"toc-item\"><li><span><a href=\"#Предложения-на-рынке-жилья-в-разрезе-площади-квартир\" data-toc-modified-id=\"Предложения-на-рынке-жилья-в-разрезе-площади-квартир-4.2.1\"><span class=\"toc-item-num\">4.2.1&nbsp;&nbsp;</span>Предложения на рынке жилья в разрезе площади квартир</a></span></li><li><span><a href=\"#Предложения-на-рынке-жилья-:-цены\" data-toc-modified-id=\"Предложения-на-рынке-жилья-:-цены-4.2.2\"><span class=\"toc-item-num\">4.2.2&nbsp;&nbsp;</span>Предложения на рынке жилья : цены</a></span></li><li><span><a href=\"#Предложения-на-рынке-жилья-в-разрезе-количества-комнат\" data-toc-modified-id=\"Предложения-на-рынке-жилья-в-разрезе-количества-комнат-4.2.3\"><span class=\"toc-item-num\">4.2.3&nbsp;&nbsp;</span>Предложения на рынке жилья в разрезе количества комнат</a></span></li><li><span><a href=\"#Предложения-на-рынке-жилья-в-разрезе-высоты-потолков\" data-toc-modified-id=\"Предложения-на-рынке-жилья-в-разрезе-высоты-потолков-4.2.4\"><span class=\"toc-item-num\">4.2.4&nbsp;&nbsp;</span>Предложения на рынке жилья в разрезе высоты потолков</a></span></li><li><span><a href=\"#Исследование-времени-продажи-квартиры\" data-toc-modified-id=\"Исследование-времени-продажи-квартиры-4.2.5\"><span class=\"toc-item-num\">4.2.5&nbsp;&nbsp;</span>Исследование времени продажи квартиры</a></span></li></ul></li><li><span><a href=\"#Факторы,-влияющие-на-стоимость-квартиры\" data-toc-modified-id=\"Факторы,-влияющие-на-стоимость-квартиры-4.3\"><span class=\"toc-item-num\">4.3&nbsp;&nbsp;</span>Факторы, влияющие на стоимость квартиры</a></span><ul class=\"toc-item\"><li><span><a href=\"#Зависимость-цены-от-площади-квартиры.\" data-toc-modified-id=\"Зависимость-цены-от-площади-квартиры.-4.3.1\"><span class=\"toc-item-num\">4.3.1&nbsp;&nbsp;</span>Зависимость цены от площади квартиры.</a></span></li><li><span><a href=\"#Зависимость-цены-от-удаленности-от-центра\" data-toc-modified-id=\"Зависимость-цены-от-удаленности-от-центра-4.3.2\"><span class=\"toc-item-num\">4.3.2&nbsp;&nbsp;</span>Зависимость цены от удаленности от центра</a></span></li><li><span><a href=\"#Зависимость-цены-от-количества-комнат:\" data-toc-modified-id=\"Зависимость-цены-от-количества-комнат:-4.3.3\"><span class=\"toc-item-num\">4.3.3&nbsp;&nbsp;</span>Зависимость цены от количества комнат:</a></span></li><li><span><a href=\"#Зависимость-цены-от-этажа-квартиры\" data-toc-modified-id=\"Зависимость-цены-от-этажа-квартиры-4.3.4\"><span class=\"toc-item-num\">4.3.4&nbsp;&nbsp;</span>Зависимость цены от этажа квартиры</a></span></li><li><span><a href=\"#Зависимость-цены-даты-размещения-объявления-(дня-недели,-месяца-и-года)\" data-toc-modified-id=\"Зависимость-цены-даты-размещения-объявления-(дня-недели,-месяца-и-года)-4.3.5\"><span class=\"toc-item-num\">4.3.5&nbsp;&nbsp;</span>Зависимость цены даты размещения объявления (дня недели, месяца и года)</a></span></li></ul></li><li><span><a href=\"#Выборка-10-населённых-пунктов-с-наибольшим-числом-объявлений\" data-toc-modified-id=\"Выборка-10-населённых-пунктов-с-наибольшим-числом-объявлений-4.4\"><span class=\"toc-item-num\">4.4&nbsp;&nbsp;</span>Выборка 10 населённых пунктов с наибольшим числом объявлений</a></span></li><li><span><a href=\"#Влияние-местонахождения-квартиры-на-цену\" data-toc-modified-id=\"Влияние-местонахождения-квартиры-на-цену-4.5\"><span class=\"toc-item-num\">4.5&nbsp;&nbsp;</span>Влияние местонахождения квартиры на цену</a></span></li><li><span><a href=\"#Анализ-квартир-в-центре\" data-toc-modified-id=\"Анализ-квартир-в-центре-4.6\"><span class=\"toc-item-num\">4.6&nbsp;&nbsp;</span>Анализ квартир в центре</a></span><ul class=\"toc-item\"><li><span><a href=\"#Исследование-площади,-цены,-числа-комнат,-высоты-потолков\" data-toc-modified-id=\"Исследование-площади,-цены,-числа-комнат,-высоты-потолков-4.6.1\"><span class=\"toc-item-num\">4.6.1&nbsp;&nbsp;</span>Исследование площади, цены, числа комнат, высоты потолков</a></span><ul class=\"toc-item\"><li><span><a href=\"#Предложения-на-рынке-жилья-в-разрезе-площади-квартир\" data-toc-modified-id=\"Предложения-на-рынке-жилья-в-разрезе-площади-квартир-4.6.1.1\"><span class=\"toc-item-num\">4.6.1.1&nbsp;&nbsp;</span>Предложения на рынке жилья в разрезе площади квартир</a></span></li><li><span><a href=\"#Предложения-на-рынке-жилья-:-цены\" data-toc-modified-id=\"Предложения-на-рынке-жилья-:-цены-4.6.1.2\"><span class=\"toc-item-num\">4.6.1.2&nbsp;&nbsp;</span>Предложения на рынке жилья : цены</a></span></li><li><span><a href=\"#Предложения-на-рынке-жилья-в-разрезе-количества-комнат\" data-toc-modified-id=\"Предложения-на-рынке-жилья-в-разрезе-количества-комнат-4.6.1.3\"><span class=\"toc-item-num\">4.6.1.3&nbsp;&nbsp;</span>Предложения на рынке жилья в разрезе количества комнат</a></span></li><li><span><a href=\"#Предложения-на-рынке-жилья-в-разрезе-высоты-потолков\" data-toc-modified-id=\"Предложения-на-рынке-жилья-в-разрезе-высоты-потолков-4.6.1.4\"><span class=\"toc-item-num\">4.6.1.4&nbsp;&nbsp;</span>Предложения на рынке жилья в разрезе высоты потолков</a></span></li></ul></li><li><span><a href=\"#Факторы,-влияющие-на-цену-квартиры\" data-toc-modified-id=\"Факторы,-влияющие-на-цену-квартиры-4.6.2\"><span class=\"toc-item-num\">4.6.2&nbsp;&nbsp;</span>Факторы, влияющие на цену квартиры</a></span><ul class=\"toc-item\"><li><span><a href=\"#Зависимость-цены-от-числа-комнат\" data-toc-modified-id=\"Зависимость-цены-от-числа-комнат-4.6.2.1\"><span class=\"toc-item-num\">4.6.2.1&nbsp;&nbsp;</span>Зависимость цены от числа комнат</a></span></li><li><span><a href=\"#Зависимость-цены-от-этажа\" data-toc-modified-id=\"Зависимость-цены-от-этажа-4.6.2.2\"><span class=\"toc-item-num\">4.6.2.2&nbsp;&nbsp;</span>Зависимость цены от этажа</a></span></li><li><span><a href=\"#Зависимость-цены-от-удаленности-от-центра\" data-toc-modified-id=\"Зависимость-цены-от-удаленности-от-центра-4.6.2.3\"><span class=\"toc-item-num\">4.6.2.3&nbsp;&nbsp;</span>Зависимость цены от удаленности от центра</a></span></li><li><span><a href=\"#Зависимость-даты-от-даты-размещения-объявления\" data-toc-modified-id=\"Зависимость-даты-от-даты-размещения-объявления-4.6.2.4\"><span class=\"toc-item-num\">4.6.2.4&nbsp;&nbsp;</span>Зависимость даты от даты размещения объявления</a></span></li></ul></li></ul></li></ul></li><li><span><a href=\"#Общий-вывод\" data-toc-modified-id=\"Общий-вывод-5\"><span class=\"toc-item-num\">5&nbsp;&nbsp;</span>Общий вывод</a></span></li><li><span><a href=\"#Чек-лист-готовности-проекта\" data-toc-modified-id=\"Чек-лист-готовности-проекта-6\"><span class=\"toc-item-num\">6&nbsp;&nbsp;</span>Чек-лист готовности проекта</a></span></li></ul></div>"
   ]
  },
  {
   "cell_type": "markdown",
   "metadata": {},
   "source": [
    "# Исследование объявлений о продаже квартир\n",
    "\n"
   ]
  },
  {
   "cell_type": "markdown",
   "metadata": {},
   "source": [
    "# Описание проекта.\n",
    "\n",
    "В нашем распоряжении данные сервиса Яндекс.Недвижимость — архив объявлений о продаже квартир в Санкт-Петербурге и соседних населённых пунктах за несколько лет. Нужно научиться определять рыночную стоимость объектов недвижимости. Наша задача — установить параметры. Это позволит построить автоматизированную систему: она отследит аномалии и мошенническую деятельность. \n",
    "\n",
    "По каждой квартире на продажу доступны два вида данных. Первые вписаны пользователем, вторые получены автоматически на основе картографических данных. Например, расстояние до центра, аэропорта, ближайшего парка и водоёма. \n",
    "\n",
    "###### Цель исследования — выяснить:\n",
    "•\tКакие факторы больше всего влияют на стоимость квартиры\n",
    "\n",
    "###### Ход исследования\n",
    "\n",
    "Данные о поведении пользователей (статистика о платёжеспособности клиентов)- в файле /datasets/real_estate_data.csv. О качестве данных ничего не известно. Поэтому перед проверкой гипотез понадобится обзор данных.\n",
    "\n",
    "Проверим данные на ошибки и оценим их влияние на исследование. Затем, на этапе предобработки поищем возможность исправить самые критичные ошибки данных.\n",
    "\n",
    "Таким образом, исследование пройдёт в три этапа:\n",
    "\n",
    "1. Обзор данных.\n",
    "\n",
    "2. Предобработка данных.\n",
    "\n",
    "3. Расчет дополнительных параметров, необходимых для исследования\n",
    "\n",
    "    •\tцены квадратного метра;\n",
    "\n",
    "    •\tдень недели, месяц и год публикации объявления;\n",
    "\n",
    "    •\tэтаж квартиры: варианты — первый, последний, другой;\n",
    "\n",
    "    •\tсоотношение жилой и общей площади, а также отношение площади кухни к общей.\n",
    "    \n",
    "\n",
    "4. Исследовательский анализ данных. Зависимость цены квартиры :\n",
    "     \n",
    "    •\tот площади, числа комнат, удалённости от центра\n",
    "     \n",
    "    •\tот того, каком этаже расположена квартира: первом, последнем или другом. \n",
    "     \n",
    "    •\tот даты размещения: дня недели, месяца и года."
   ]
  },
  {
   "cell_type": "markdown",
   "metadata": {},
   "source": [
    "## Изучение данных из файла"
   ]
  },
  {
   "cell_type": "markdown",
   "metadata": {},
   "source": [
    "Импортируем библиотеки, необходимые для исследования (Pandas), cоставляем первое представление о данных: читаем файл и сохраняем его в переменной df:"
   ]
  },
  {
   "cell_type": "code",
   "execution_count": 1,
   "metadata": {},
   "outputs": [],
   "source": [
    "#импорт библиотек\n",
    "import pandas as pd\n",
    "import matplotlib.pyplot as plt\n",
    "%matplotlib inline\n",
    "import warnings\n",
    "warnings.filterwarnings('ignore')\n",
    "\n",
    "#открываем и сохраняем как датафрейм файл с данными:\n",
    "try:\n",
    "    df = pd.read_csv('real_estate_data.csv', sep='\\t')\n",
    "except:    \n",
    "    df = pd.read_csv('/datasets/real_estate_data.csv', sep='\\t')\n"
   ]
  },
  {
   "cell_type": "markdown",
   "metadata": {},
   "source": [
    "Выведем для наглядности на экран первые пять строк таблицы:"
   ]
  },
  {
   "cell_type": "code",
   "execution_count": 2,
   "metadata": {},
   "outputs": [
    {
     "data": {
      "text/html": [
       "<div>\n",
       "<style scoped>\n",
       "    .dataframe tbody tr th:only-of-type {\n",
       "        vertical-align: middle;\n",
       "    }\n",
       "\n",
       "    .dataframe tbody tr th {\n",
       "        vertical-align: top;\n",
       "    }\n",
       "\n",
       "    .dataframe thead th {\n",
       "        text-align: right;\n",
       "    }\n",
       "</style>\n",
       "<table border=\"1\" class=\"dataframe\">\n",
       "  <thead>\n",
       "    <tr style=\"text-align: right;\">\n",
       "      <th></th>\n",
       "      <th>total_images</th>\n",
       "      <th>last_price</th>\n",
       "      <th>total_area</th>\n",
       "      <th>first_day_exposition</th>\n",
       "      <th>rooms</th>\n",
       "      <th>ceiling_height</th>\n",
       "      <th>floors_total</th>\n",
       "      <th>living_area</th>\n",
       "      <th>floor</th>\n",
       "      <th>is_apartment</th>\n",
       "      <th>...</th>\n",
       "      <th>kitchen_area</th>\n",
       "      <th>balcony</th>\n",
       "      <th>locality_name</th>\n",
       "      <th>airports_nearest</th>\n",
       "      <th>cityCenters_nearest</th>\n",
       "      <th>parks_around3000</th>\n",
       "      <th>parks_nearest</th>\n",
       "      <th>ponds_around3000</th>\n",
       "      <th>ponds_nearest</th>\n",
       "      <th>days_exposition</th>\n",
       "    </tr>\n",
       "  </thead>\n",
       "  <tbody>\n",
       "    <tr>\n",
       "      <th>0</th>\n",
       "      <td>20</td>\n",
       "      <td>13000000.0</td>\n",
       "      <td>108.0</td>\n",
       "      <td>2019-03-07T00:00:00</td>\n",
       "      <td>3</td>\n",
       "      <td>2.70</td>\n",
       "      <td>16.0</td>\n",
       "      <td>51.0</td>\n",
       "      <td>8</td>\n",
       "      <td>NaN</td>\n",
       "      <td>...</td>\n",
       "      <td>25.0</td>\n",
       "      <td>NaN</td>\n",
       "      <td>Санкт-Петербург</td>\n",
       "      <td>18863.0</td>\n",
       "      <td>16028.0</td>\n",
       "      <td>1.0</td>\n",
       "      <td>482.0</td>\n",
       "      <td>2.0</td>\n",
       "      <td>755.0</td>\n",
       "      <td>NaN</td>\n",
       "    </tr>\n",
       "    <tr>\n",
       "      <th>1</th>\n",
       "      <td>7</td>\n",
       "      <td>3350000.0</td>\n",
       "      <td>40.4</td>\n",
       "      <td>2018-12-04T00:00:00</td>\n",
       "      <td>1</td>\n",
       "      <td>NaN</td>\n",
       "      <td>11.0</td>\n",
       "      <td>18.6</td>\n",
       "      <td>1</td>\n",
       "      <td>NaN</td>\n",
       "      <td>...</td>\n",
       "      <td>11.0</td>\n",
       "      <td>2.0</td>\n",
       "      <td>посёлок Шушары</td>\n",
       "      <td>12817.0</td>\n",
       "      <td>18603.0</td>\n",
       "      <td>0.0</td>\n",
       "      <td>NaN</td>\n",
       "      <td>0.0</td>\n",
       "      <td>NaN</td>\n",
       "      <td>81.0</td>\n",
       "    </tr>\n",
       "    <tr>\n",
       "      <th>2</th>\n",
       "      <td>10</td>\n",
       "      <td>5196000.0</td>\n",
       "      <td>56.0</td>\n",
       "      <td>2015-08-20T00:00:00</td>\n",
       "      <td>2</td>\n",
       "      <td>NaN</td>\n",
       "      <td>5.0</td>\n",
       "      <td>34.3</td>\n",
       "      <td>4</td>\n",
       "      <td>NaN</td>\n",
       "      <td>...</td>\n",
       "      <td>8.3</td>\n",
       "      <td>0.0</td>\n",
       "      <td>Санкт-Петербург</td>\n",
       "      <td>21741.0</td>\n",
       "      <td>13933.0</td>\n",
       "      <td>1.0</td>\n",
       "      <td>90.0</td>\n",
       "      <td>2.0</td>\n",
       "      <td>574.0</td>\n",
       "      <td>558.0</td>\n",
       "    </tr>\n",
       "    <tr>\n",
       "      <th>3</th>\n",
       "      <td>0</td>\n",
       "      <td>64900000.0</td>\n",
       "      <td>159.0</td>\n",
       "      <td>2015-07-24T00:00:00</td>\n",
       "      <td>3</td>\n",
       "      <td>NaN</td>\n",
       "      <td>14.0</td>\n",
       "      <td>NaN</td>\n",
       "      <td>9</td>\n",
       "      <td>NaN</td>\n",
       "      <td>...</td>\n",
       "      <td>NaN</td>\n",
       "      <td>0.0</td>\n",
       "      <td>Санкт-Петербург</td>\n",
       "      <td>28098.0</td>\n",
       "      <td>6800.0</td>\n",
       "      <td>2.0</td>\n",
       "      <td>84.0</td>\n",
       "      <td>3.0</td>\n",
       "      <td>234.0</td>\n",
       "      <td>424.0</td>\n",
       "    </tr>\n",
       "    <tr>\n",
       "      <th>4</th>\n",
       "      <td>2</td>\n",
       "      <td>10000000.0</td>\n",
       "      <td>100.0</td>\n",
       "      <td>2018-06-19T00:00:00</td>\n",
       "      <td>2</td>\n",
       "      <td>3.03</td>\n",
       "      <td>14.0</td>\n",
       "      <td>32.0</td>\n",
       "      <td>13</td>\n",
       "      <td>NaN</td>\n",
       "      <td>...</td>\n",
       "      <td>41.0</td>\n",
       "      <td>NaN</td>\n",
       "      <td>Санкт-Петербург</td>\n",
       "      <td>31856.0</td>\n",
       "      <td>8098.0</td>\n",
       "      <td>2.0</td>\n",
       "      <td>112.0</td>\n",
       "      <td>1.0</td>\n",
       "      <td>48.0</td>\n",
       "      <td>121.0</td>\n",
       "    </tr>\n",
       "  </tbody>\n",
       "</table>\n",
       "<p>5 rows × 22 columns</p>\n",
       "</div>"
      ],
      "text/plain": [
       "   total_images  last_price  total_area first_day_exposition  rooms  \\\n",
       "0            20  13000000.0       108.0  2019-03-07T00:00:00      3   \n",
       "1             7   3350000.0        40.4  2018-12-04T00:00:00      1   \n",
       "2            10   5196000.0        56.0  2015-08-20T00:00:00      2   \n",
       "3             0  64900000.0       159.0  2015-07-24T00:00:00      3   \n",
       "4             2  10000000.0       100.0  2018-06-19T00:00:00      2   \n",
       "\n",
       "   ceiling_height  floors_total  living_area  floor is_apartment  ...  \\\n",
       "0            2.70          16.0         51.0      8          NaN  ...   \n",
       "1             NaN          11.0         18.6      1          NaN  ...   \n",
       "2             NaN           5.0         34.3      4          NaN  ...   \n",
       "3             NaN          14.0          NaN      9          NaN  ...   \n",
       "4            3.03          14.0         32.0     13          NaN  ...   \n",
       "\n",
       "   kitchen_area  balcony    locality_name  airports_nearest  \\\n",
       "0          25.0      NaN  Санкт-Петербург           18863.0   \n",
       "1          11.0      2.0   посёлок Шушары           12817.0   \n",
       "2           8.3      0.0  Санкт-Петербург           21741.0   \n",
       "3           NaN      0.0  Санкт-Петербург           28098.0   \n",
       "4          41.0      NaN  Санкт-Петербург           31856.0   \n",
       "\n",
       "  cityCenters_nearest  parks_around3000  parks_nearest  ponds_around3000  \\\n",
       "0             16028.0               1.0          482.0               2.0   \n",
       "1             18603.0               0.0            NaN               0.0   \n",
       "2             13933.0               1.0           90.0               2.0   \n",
       "3              6800.0               2.0           84.0               3.0   \n",
       "4              8098.0               2.0          112.0               1.0   \n",
       "\n",
       "   ponds_nearest  days_exposition  \n",
       "0          755.0              NaN  \n",
       "1            NaN             81.0  \n",
       "2          574.0            558.0  \n",
       "3          234.0            424.0  \n",
       "4           48.0            121.0  \n",
       "\n",
       "[5 rows x 22 columns]"
      ]
     },
     "execution_count": 2,
     "metadata": {},
     "output_type": "execute_result"
    }
   ],
   "source": [
    "df.head()"
   ]
  },
  {
   "cell_type": "markdown",
   "metadata": {},
   "source": [
    "Получим общую информацию о таблице:"
   ]
  },
  {
   "cell_type": "code",
   "execution_count": 3,
   "metadata": {},
   "outputs": [
    {
     "name": "stdout",
     "output_type": "stream",
     "text": [
      "<class 'pandas.core.frame.DataFrame'>\n",
      "RangeIndex: 23699 entries, 0 to 23698\n",
      "Data columns (total 22 columns):\n",
      " #   Column                Non-Null Count  Dtype  \n",
      "---  ------                --------------  -----  \n",
      " 0   total_images          23699 non-null  int64  \n",
      " 1   last_price            23699 non-null  float64\n",
      " 2   total_area            23699 non-null  float64\n",
      " 3   first_day_exposition  23699 non-null  object \n",
      " 4   rooms                 23699 non-null  int64  \n",
      " 5   ceiling_height        14504 non-null  float64\n",
      " 6   floors_total          23613 non-null  float64\n",
      " 7   living_area           21796 non-null  float64\n",
      " 8   floor                 23699 non-null  int64  \n",
      " 9   is_apartment          2775 non-null   object \n",
      " 10  studio                23699 non-null  bool   \n",
      " 11  open_plan             23699 non-null  bool   \n",
      " 12  kitchen_area          21421 non-null  float64\n",
      " 13  balcony               12180 non-null  float64\n",
      " 14  locality_name         23650 non-null  object \n",
      " 15  airports_nearest      18157 non-null  float64\n",
      " 16  cityCenters_nearest   18180 non-null  float64\n",
      " 17  parks_around3000      18181 non-null  float64\n",
      " 18  parks_nearest         8079 non-null   float64\n",
      " 19  ponds_around3000      18181 non-null  float64\n",
      " 20  ponds_nearest         9110 non-null   float64\n",
      " 21  days_exposition       20518 non-null  float64\n",
      "dtypes: bool(2), float64(14), int64(3), object(3)\n",
      "memory usage: 3.7+ MB\n"
     ]
    }
   ],
   "source": [
    "df.info()"
   ]
  },
  {
   "cell_type": "markdown",
   "metadata": {},
   "source": [
    "Просмотрим набор данных детальнее. Для удобства в дальнейшей работе создадим словарь с наименованием и описанием столбцов датафрейма:"
   ]
  },
  {
   "cell_type": "markdown",
   "metadata": {},
   "source": [
    "###### Описание данных:\n",
    "\n",
    "В таблице 22 столбцa. Тип данных в столбцах —`bool`, `object`, `int64` и `float64`.\n",
    "\n",
    "- `airports_nearest` — расстояние до ближайшего аэропорта в метрах (м)\n",
    "- `balcony` — число балконов\n",
    "- `ceiling_height` — высота потолков (м)\n",
    "- `cityCenters_nearest` — расстояние до центра города (м)\n",
    "- `days_exposition` — сколько дней было размещено объявление (от публикации до снятия)\n",
    "- `first_day_exposition` — дата публикации\n",
    "- `floor` — этаж\n",
    "- `floors_total` — всего этажей в доме\n",
    "- `is_apartment` — апартаменты (булев тип)\n",
    "- `kitchen_area` — площадь кухни в квадратных метрах (м²)\n",
    "- `last_price` — цена на момент снятия с публикации\n",
    "- `living_area` — жилая площадь в квадратных метрах (м²)\n",
    "- `locality_name` — название населённого пункта\n",
    "- `open_plan` — свободная планировка (булев тип)\n",
    "- `parks_around3000` — число парков в радиусе 3 км\n",
    "- `parks_nearest` — расстояние до ближайшего парка (м)\n",
    "- `ponds_around3000` — число водоёмов в радиусе 3 км\n",
    "- `ponds_nearest` — расстояние до ближайшего водоёма (м)\n",
    "- `rooms` — число комнат\n",
    "- `studio` — квартира-студия (булев тип)\n",
    "- `total_area` — площадь квартиры в квадратных метрах (м²)\n",
    "- `total_images` — число фотографий квартиры в объявлении\n"
   ]
  },
  {
   "cell_type": "code",
   "execution_count": 4,
   "metadata": {},
   "outputs": [
    {
     "data": {
      "text/html": [
       "<div>\n",
       "<style scoped>\n",
       "    .dataframe tbody tr th:only-of-type {\n",
       "        vertical-align: middle;\n",
       "    }\n",
       "\n",
       "    .dataframe tbody tr th {\n",
       "        vertical-align: top;\n",
       "    }\n",
       "\n",
       "    .dataframe thead th {\n",
       "        text-align: right;\n",
       "    }\n",
       "</style>\n",
       "<table border=\"1\" class=\"dataframe\">\n",
       "  <thead>\n",
       "    <tr style=\"text-align: right;\">\n",
       "      <th></th>\n",
       "      <th>Значения</th>\n",
       "      <th>тип данных</th>\n",
       "      <th>Кол-во уникальных значений</th>\n",
       "    </tr>\n",
       "  </thead>\n",
       "  <tbody>\n",
       "    <tr>\n",
       "      <th>studio</th>\n",
       "      <td>[False, True]</td>\n",
       "      <td>bool</td>\n",
       "      <td>2</td>\n",
       "    </tr>\n",
       "    <tr>\n",
       "      <th>open_plan</th>\n",
       "      <td>[False, True]</td>\n",
       "      <td>bool</td>\n",
       "      <td>2</td>\n",
       "    </tr>\n",
       "    <tr>\n",
       "      <th>floor</th>\n",
       "      <td>[8, 1, 4, 9, 13, 5, 6, 22, 26, 7, 3, 2, 11, 15...</td>\n",
       "      <td>int64</td>\n",
       "      <td>33</td>\n",
       "    </tr>\n",
       "    <tr>\n",
       "      <th>rooms</th>\n",
       "      <td>[3, 1, 2, 4, 5, 6, 0, 7, 11, 8, 14, 10, 15, 9,...</td>\n",
       "      <td>int64</td>\n",
       "      <td>17</td>\n",
       "    </tr>\n",
       "    <tr>\n",
       "      <th>total_images</th>\n",
       "      <td>[20, 7, 10, 0, 2, 6, 5, 18, 9, 1, 16, 11, 8, 1...</td>\n",
       "      <td>int64</td>\n",
       "      <td>38</td>\n",
       "    </tr>\n",
       "    <tr>\n",
       "      <th>ceiling_height</th>\n",
       "      <td>[2.7, nan, 3.03, 2.5, 2.67, 2.56, 3.05, 2.75, ...</td>\n",
       "      <td>float64</td>\n",
       "      <td>183</td>\n",
       "    </tr>\n",
       "    <tr>\n",
       "      <th>ponds_around3000</th>\n",
       "      <td>[2.0, 0.0, 3.0, 1.0, nan]</td>\n",
       "      <td>float64</td>\n",
       "      <td>4</td>\n",
       "    </tr>\n",
       "    <tr>\n",
       "      <th>parks_nearest</th>\n",
       "      <td>[482.0, nan, 90.0, 84.0, 112.0, 310.0, 294.0, ...</td>\n",
       "      <td>float64</td>\n",
       "      <td>995</td>\n",
       "    </tr>\n",
       "    <tr>\n",
       "      <th>parks_around3000</th>\n",
       "      <td>[1.0, 0.0, 2.0, nan, 3.0]</td>\n",
       "      <td>float64</td>\n",
       "      <td>4</td>\n",
       "    </tr>\n",
       "    <tr>\n",
       "      <th>cityCenters_nearest</th>\n",
       "      <td>[16028.0, 18603.0, 13933.0, 6800.0, 8098.0, na...</td>\n",
       "      <td>float64</td>\n",
       "      <td>7642</td>\n",
       "    </tr>\n",
       "    <tr>\n",
       "      <th>airports_nearest</th>\n",
       "      <td>[18863.0, 12817.0, 21741.0, 28098.0, 31856.0, ...</td>\n",
       "      <td>float64</td>\n",
       "      <td>8275</td>\n",
       "    </tr>\n",
       "    <tr>\n",
       "      <th>kitchen_area</th>\n",
       "      <td>[25.0, 11.0, 8.3, nan, 41.0, 9.1, 14.4, 18.9, ...</td>\n",
       "      <td>float64</td>\n",
       "      <td>971</td>\n",
       "    </tr>\n",
       "    <tr>\n",
       "      <th>balcony</th>\n",
       "      <td>[nan, 2.0, 0.0, 1.0, 5.0, 4.0, 3.0]</td>\n",
       "      <td>float64</td>\n",
       "      <td>6</td>\n",
       "    </tr>\n",
       "    <tr>\n",
       "      <th>ponds_nearest</th>\n",
       "      <td>[755.0, nan, 574.0, 234.0, 48.0, 553.0, 298.0,...</td>\n",
       "      <td>float64</td>\n",
       "      <td>1096</td>\n",
       "    </tr>\n",
       "    <tr>\n",
       "      <th>total_area</th>\n",
       "      <td>[108.0, 40.4, 56.0, 159.0, 100.0, 30.4, 37.3, ...</td>\n",
       "      <td>float64</td>\n",
       "      <td>2182</td>\n",
       "    </tr>\n",
       "    <tr>\n",
       "      <th>living_area</th>\n",
       "      <td>[51.0, 18.6, 34.3, nan, 32.0, 14.4, 10.6, 15.4...</td>\n",
       "      <td>float64</td>\n",
       "      <td>1782</td>\n",
       "    </tr>\n",
       "    <tr>\n",
       "      <th>floors_total</th>\n",
       "      <td>[16.0, 11.0, 5.0, 14.0, 12.0, 26.0, 24.0, 27.0...</td>\n",
       "      <td>float64</td>\n",
       "      <td>36</td>\n",
       "    </tr>\n",
       "    <tr>\n",
       "      <th>last_price</th>\n",
       "      <td>[13000000.0, 3350000.0, 5196000.0, 64900000.0,...</td>\n",
       "      <td>float64</td>\n",
       "      <td>2978</td>\n",
       "    </tr>\n",
       "    <tr>\n",
       "      <th>days_exposition</th>\n",
       "      <td>[nan, 81.0, 558.0, 424.0, 121.0, 55.0, 155.0, ...</td>\n",
       "      <td>float64</td>\n",
       "      <td>1141</td>\n",
       "    </tr>\n",
       "    <tr>\n",
       "      <th>first_day_exposition</th>\n",
       "      <td>[2019-03-07T00:00:00, 2018-12-04T00:00:00, 201...</td>\n",
       "      <td>object</td>\n",
       "      <td>1491</td>\n",
       "    </tr>\n",
       "    <tr>\n",
       "      <th>locality_name</th>\n",
       "      <td>[Санкт-Петербург, посёлок Шушары, городской по...</td>\n",
       "      <td>object</td>\n",
       "      <td>364</td>\n",
       "    </tr>\n",
       "    <tr>\n",
       "      <th>is_apartment</th>\n",
       "      <td>[nan, False, True]</td>\n",
       "      <td>object</td>\n",
       "      <td>2</td>\n",
       "    </tr>\n",
       "  </tbody>\n",
       "</table>\n",
       "</div>"
      ],
      "text/plain": [
       "                                                               Значения  \\\n",
       "studio                                                    [False, True]   \n",
       "open_plan                                                 [False, True]   \n",
       "floor                 [8, 1, 4, 9, 13, 5, 6, 22, 26, 7, 3, 2, 11, 15...   \n",
       "rooms                 [3, 1, 2, 4, 5, 6, 0, 7, 11, 8, 14, 10, 15, 9,...   \n",
       "total_images          [20, 7, 10, 0, 2, 6, 5, 18, 9, 1, 16, 11, 8, 1...   \n",
       "ceiling_height        [2.7, nan, 3.03, 2.5, 2.67, 2.56, 3.05, 2.75, ...   \n",
       "ponds_around3000                              [2.0, 0.0, 3.0, 1.0, nan]   \n",
       "parks_nearest         [482.0, nan, 90.0, 84.0, 112.0, 310.0, 294.0, ...   \n",
       "parks_around3000                              [1.0, 0.0, 2.0, nan, 3.0]   \n",
       "cityCenters_nearest   [16028.0, 18603.0, 13933.0, 6800.0, 8098.0, na...   \n",
       "airports_nearest      [18863.0, 12817.0, 21741.0, 28098.0, 31856.0, ...   \n",
       "kitchen_area          [25.0, 11.0, 8.3, nan, 41.0, 9.1, 14.4, 18.9, ...   \n",
       "balcony                             [nan, 2.0, 0.0, 1.0, 5.0, 4.0, 3.0]   \n",
       "ponds_nearest         [755.0, nan, 574.0, 234.0, 48.0, 553.0, 298.0,...   \n",
       "total_area            [108.0, 40.4, 56.0, 159.0, 100.0, 30.4, 37.3, ...   \n",
       "living_area           [51.0, 18.6, 34.3, nan, 32.0, 14.4, 10.6, 15.4...   \n",
       "floors_total          [16.0, 11.0, 5.0, 14.0, 12.0, 26.0, 24.0, 27.0...   \n",
       "last_price            [13000000.0, 3350000.0, 5196000.0, 64900000.0,...   \n",
       "days_exposition       [nan, 81.0, 558.0, 424.0, 121.0, 55.0, 155.0, ...   \n",
       "first_day_exposition  [2019-03-07T00:00:00, 2018-12-04T00:00:00, 201...   \n",
       "locality_name         [Санкт-Петербург, посёлок Шушары, городской по...   \n",
       "is_apartment                                         [nan, False, True]   \n",
       "\n",
       "                     тип данных Кол-во уникальных значений  \n",
       "studio                     bool                          2  \n",
       "open_plan                  bool                          2  \n",
       "floor                     int64                         33  \n",
       "rooms                     int64                         17  \n",
       "total_images              int64                         38  \n",
       "ceiling_height          float64                        183  \n",
       "ponds_around3000        float64                          4  \n",
       "parks_nearest           float64                        995  \n",
       "parks_around3000        float64                          4  \n",
       "cityCenters_nearest     float64                       7642  \n",
       "airports_nearest        float64                       8275  \n",
       "kitchen_area            float64                        971  \n",
       "balcony                 float64                          6  \n",
       "ponds_nearest           float64                       1096  \n",
       "total_area              float64                       2182  \n",
       "living_area             float64                       1782  \n",
       "floors_total            float64                         36  \n",
       "last_price              float64                       2978  \n",
       "days_exposition         float64                       1141  \n",
       "first_day_exposition     object                       1491  \n",
       "locality_name            object                        364  \n",
       "is_apartment             object                          2  "
      ]
     },
     "execution_count": 4,
     "metadata": {},
     "output_type": "execute_result"
    }
   ],
   "source": [
    "#состав столбцов\n",
    "def describe_cols(df):\n",
    "    \n",
    "    values = pd.DataFrame()\n",
    "    \n",
    "    for col in df.columns:\n",
    "        values[col] = [df[col].unique(), df[col].dtypes, df[col].nunique()]\n",
    "        \n",
    "    return values.transpose().sort_values(by=1, ascending=True).rename(\n",
    "        {0: 'Значения', 1: 'тип данных', 2: 'Кол-во уникальных значений'}, axis=1)\n",
    "\n",
    "describe_cols(df)"
   ]
  },
  {
   "cell_type": "code",
   "execution_count": 5,
   "metadata": {},
   "outputs": [
    {
     "data": {
      "text/html": [
       "<div>\n",
       "<style scoped>\n",
       "    .dataframe tbody tr th:only-of-type {\n",
       "        vertical-align: middle;\n",
       "    }\n",
       "\n",
       "    .dataframe tbody tr th {\n",
       "        vertical-align: top;\n",
       "    }\n",
       "\n",
       "    .dataframe thead th {\n",
       "        text-align: right;\n",
       "    }\n",
       "</style>\n",
       "<table border=\"1\" class=\"dataframe\">\n",
       "  <thead>\n",
       "    <tr style=\"text-align: right;\">\n",
       "      <th></th>\n",
       "      <th>column_name</th>\n",
       "      <th>num_missing</th>\n",
       "      <th>percent_missing</th>\n",
       "    </tr>\n",
       "  </thead>\n",
       "  <tbody>\n",
       "    <tr>\n",
       "      <th>total_images</th>\n",
       "      <td>total_images</td>\n",
       "      <td>0</td>\n",
       "      <td>0.00</td>\n",
       "    </tr>\n",
       "    <tr>\n",
       "      <th>last_price</th>\n",
       "      <td>last_price</td>\n",
       "      <td>0</td>\n",
       "      <td>0.00</td>\n",
       "    </tr>\n",
       "    <tr>\n",
       "      <th>total_area</th>\n",
       "      <td>total_area</td>\n",
       "      <td>0</td>\n",
       "      <td>0.00</td>\n",
       "    </tr>\n",
       "    <tr>\n",
       "      <th>first_day_exposition</th>\n",
       "      <td>first_day_exposition</td>\n",
       "      <td>0</td>\n",
       "      <td>0.00</td>\n",
       "    </tr>\n",
       "    <tr>\n",
       "      <th>rooms</th>\n",
       "      <td>rooms</td>\n",
       "      <td>0</td>\n",
       "      <td>0.00</td>\n",
       "    </tr>\n",
       "    <tr>\n",
       "      <th>ceiling_height</th>\n",
       "      <td>ceiling_height</td>\n",
       "      <td>9195</td>\n",
       "      <td>38.80</td>\n",
       "    </tr>\n",
       "    <tr>\n",
       "      <th>floors_total</th>\n",
       "      <td>floors_total</td>\n",
       "      <td>86</td>\n",
       "      <td>0.36</td>\n",
       "    </tr>\n",
       "    <tr>\n",
       "      <th>living_area</th>\n",
       "      <td>living_area</td>\n",
       "      <td>1903</td>\n",
       "      <td>8.03</td>\n",
       "    </tr>\n",
       "    <tr>\n",
       "      <th>floor</th>\n",
       "      <td>floor</td>\n",
       "      <td>0</td>\n",
       "      <td>0.00</td>\n",
       "    </tr>\n",
       "    <tr>\n",
       "      <th>is_apartment</th>\n",
       "      <td>is_apartment</td>\n",
       "      <td>20924</td>\n",
       "      <td>88.29</td>\n",
       "    </tr>\n",
       "    <tr>\n",
       "      <th>studio</th>\n",
       "      <td>studio</td>\n",
       "      <td>0</td>\n",
       "      <td>0.00</td>\n",
       "    </tr>\n",
       "    <tr>\n",
       "      <th>open_plan</th>\n",
       "      <td>open_plan</td>\n",
       "      <td>0</td>\n",
       "      <td>0.00</td>\n",
       "    </tr>\n",
       "    <tr>\n",
       "      <th>kitchen_area</th>\n",
       "      <td>kitchen_area</td>\n",
       "      <td>2278</td>\n",
       "      <td>9.61</td>\n",
       "    </tr>\n",
       "    <tr>\n",
       "      <th>balcony</th>\n",
       "      <td>balcony</td>\n",
       "      <td>11519</td>\n",
       "      <td>48.61</td>\n",
       "    </tr>\n",
       "    <tr>\n",
       "      <th>locality_name</th>\n",
       "      <td>locality_name</td>\n",
       "      <td>49</td>\n",
       "      <td>0.21</td>\n",
       "    </tr>\n",
       "    <tr>\n",
       "      <th>airports_nearest</th>\n",
       "      <td>airports_nearest</td>\n",
       "      <td>5542</td>\n",
       "      <td>23.38</td>\n",
       "    </tr>\n",
       "    <tr>\n",
       "      <th>cityCenters_nearest</th>\n",
       "      <td>cityCenters_nearest</td>\n",
       "      <td>5519</td>\n",
       "      <td>23.29</td>\n",
       "    </tr>\n",
       "    <tr>\n",
       "      <th>parks_around3000</th>\n",
       "      <td>parks_around3000</td>\n",
       "      <td>5518</td>\n",
       "      <td>23.28</td>\n",
       "    </tr>\n",
       "    <tr>\n",
       "      <th>parks_nearest</th>\n",
       "      <td>parks_nearest</td>\n",
       "      <td>15620</td>\n",
       "      <td>65.91</td>\n",
       "    </tr>\n",
       "    <tr>\n",
       "      <th>ponds_around3000</th>\n",
       "      <td>ponds_around3000</td>\n",
       "      <td>5518</td>\n",
       "      <td>23.28</td>\n",
       "    </tr>\n",
       "    <tr>\n",
       "      <th>ponds_nearest</th>\n",
       "      <td>ponds_nearest</td>\n",
       "      <td>14589</td>\n",
       "      <td>61.56</td>\n",
       "    </tr>\n",
       "    <tr>\n",
       "      <th>days_exposition</th>\n",
       "      <td>days_exposition</td>\n",
       "      <td>3181</td>\n",
       "      <td>13.42</td>\n",
       "    </tr>\n",
       "  </tbody>\n",
       "</table>\n",
       "</div>"
      ],
      "text/plain": [
       "                               column_name  num_missing  percent_missing\n",
       "total_images                  total_images            0             0.00\n",
       "last_price                      last_price            0             0.00\n",
       "total_area                      total_area            0             0.00\n",
       "first_day_exposition  first_day_exposition            0             0.00\n",
       "rooms                                rooms            0             0.00\n",
       "ceiling_height              ceiling_height         9195            38.80\n",
       "floors_total                  floors_total           86             0.36\n",
       "living_area                    living_area         1903             8.03\n",
       "floor                                floor            0             0.00\n",
       "is_apartment                  is_apartment        20924            88.29\n",
       "studio                              studio            0             0.00\n",
       "open_plan                        open_plan            0             0.00\n",
       "kitchen_area                  kitchen_area         2278             9.61\n",
       "balcony                            balcony        11519            48.61\n",
       "locality_name                locality_name           49             0.21\n",
       "airports_nearest          airports_nearest         5542            23.38\n",
       "cityCenters_nearest    cityCenters_nearest         5519            23.29\n",
       "parks_around3000          parks_around3000         5518            23.28\n",
       "parks_nearest                parks_nearest        15620            65.91\n",
       "ponds_around3000          ponds_around3000         5518            23.28\n",
       "ponds_nearest                ponds_nearest        14589            61.56\n",
       "days_exposition            days_exposition         3181            13.42"
      ]
     },
     "execution_count": 5,
     "metadata": {},
     "output_type": "execute_result"
    }
   ],
   "source": [
    "#вывод пустых значений и их доли в столбцах датафрейма\n",
    "def nan_values(df):\n",
    "    count_missing = df.isna().sum()\n",
    "    percent_missing = round(df.isna().sum() * 100 / len(df), 2)\n",
    "    \n",
    "    missing_value_df = pd.DataFrame({'column_name': df.columns,\n",
    "                                     'num_missing': count_missing,\n",
    "                                     'percent_missing': percent_missing})\n",
    "    \n",
    "    return missing_value_df\n",
    "nan_values(df)"
   ]
  },
  {
   "cell_type": "markdown",
   "metadata": {},
   "source": [
    "Предварительная оценка качества данных:\n",
    "\n",
    "Описание конкретных признаков и найденных неточностей в данных по результатам info: После вызова метода видно явное несоотвествие типов и наличие пропусков в конкретных признаках, а именно: \n",
    "\n",
    "    \n",
    "- количество значений в столбцах различается, есть пропущенные значения в 14 столбцах:\n",
    "    \n",
    "    - ceiling_height (высота потолков)\n",
    "    - floors_total (всего этажей в доме)\n",
    "    - living_area (жилая площадь в кв м)\n",
    "    - is_apartment(аппартаменты (bool)\n",
    "    - kitchen_area (площадь кухни в кв м)\n",
    "    - balcony (число балконов)\n",
    "    - locality_name (назв населенного пункта)\n",
    "    - airports_nearest (расстояние до ближайшего аэропорта в метрах)\n",
    "    - cityCenters_nearest  (расстояние до центра города (м))\n",
    "    - parks_around3000 (число парков в радиусе 3 км)\n",
    "    - parks_nearest ((расстояние до ближайшего парка (м))\n",
    "    - ponds_around3000 (число водоёмов в радиусе 3 км)\n",
    "    - ponds_nearest (расстояние до ближайшего водоёма (м))\n",
    "    - days_exposition (сколько дней было размещено объявление (от публикации до снятия)\n",
    " \n",
    " Возможно это технические ошибки при выгрузке, либо выгрузка из нескольких источников, котоыре были заполнены по-разному, либо просто бессистемное заполнение данных исполнителем.\n",
    "    \n",
    "    \n",
    "- видно явное несоотвествие типов, необходимо перевести данные:\n",
    "  - в формат int из формата float:\n",
    "    \n",
    "    - last_price \n",
    "    - floors_total \n",
    "    - balcony\n",
    "    - parks_around3000  \n",
    "    - parks_nearest\n",
    "    - ponds_around3000  \n",
    "    - ponds_nearest\n",
    "    - airports_nearest\n",
    "    - cityCenters_nearest\n",
    "    - days_exposition\n",
    "  - в формат bool из формата object:\n",
    "    - is_apartment \n",
    "  - в формат даты  \n",
    "      - first_day_exposition object\n",
    "    \n",
    "\n",
    " - в названии колонок 'parks_around3000, 'ponds_around3000', 'cityCenters_nearest' присутствует нарушение стиля: \n",
    "    - не соблюден snake case,\n",
    "    - присутствуют прописные буквы.\n"
   ]
  },
  {
   "cell_type": "markdown",
   "metadata": {},
   "source": [
    "**Вывод**"
   ]
  },
  {
   "cell_type": "markdown",
   "metadata": {},
   "source": [
    "В каждой строке таблицы — данные о конкретной квартире, выставленной на продажу. По каждой квартире доступны два вида данных. Первые вписаны пользователем, вторые — получены автоматически на основе картографических данных. Например, расстояние до центра, аэропорта, ближайшего парка и водоёма.\n",
    "\n",
    "Предварительно можно утверждать, что, данных достаточно для проверки гипотез. Но данные, скорее всего, взяты из разных источников, что является результатом пропусков значений в некоторых столбцах, а также предположительны ошибки при выгрузке и из-за некорректного заполнения первоисточников исполнителем.\n",
    "\n",
    "Для корректного анализа попытаемся устранить выявленные ошибки, для чего проведем более подробную проверку каждого столбца в следующем разделе."
   ]
  },
  {
   "cell_type": "markdown",
   "metadata": {},
   "source": [
    "## Предобработка данных"
   ]
  },
  {
   "cell_type": "markdown",
   "metadata": {},
   "source": [
    "### Пропуски значений и ошибки данных"
   ]
  },
  {
   "cell_type": "markdown",
   "metadata": {},
   "source": [
    "#### Приведение названия столбцов 'parks_around3000, 'ponds_around3000', 'cityCenters_nearest' к общему стилю: "
   ]
  },
  {
   "cell_type": "code",
   "execution_count": 6,
   "metadata": {},
   "outputs": [
    {
     "data": {
      "text/plain": [
       "Index(['total_images', 'last_price', 'total_area', 'first_day_exposition',\n",
       "       'rooms', 'ceiling_height', 'floors_total', 'living_area', 'floor',\n",
       "       'is_apartment', 'studio', 'open_plan', 'kitchen_area', 'balcony',\n",
       "       'locality_name', 'airports_nearest', 'cityCenters_nearest',\n",
       "       'parks_around3000', 'parks_nearest', 'ponds_around3000',\n",
       "       'ponds_nearest', 'days_exposition'],\n",
       "      dtype='object')"
      ]
     },
     "execution_count": 6,
     "metadata": {},
     "output_type": "execute_result"
    }
   ],
   "source": [
    "df.columns"
   ]
  },
  {
   "cell_type": "code",
   "execution_count": 7,
   "metadata": {},
   "outputs": [
    {
     "data": {
      "text/plain": [
       "Index(['total_images', 'last_price', 'total_area', 'first_day_exposition',\n",
       "       'rooms', 'ceiling_height', 'floors_total', 'living_area', 'floor',\n",
       "       'is_apartment', 'studio', 'open_plan', 'kitchen_area', 'balcony',\n",
       "       'locality_name', 'airports_nearest', 'city_centers_nearest',\n",
       "       'parks_around_3000', 'parks_nearest', 'ponds_around_3000',\n",
       "       'ponds_nearest', 'days_exposition'],\n",
       "      dtype='object')"
      ]
     },
     "execution_count": 7,
     "metadata": {},
     "output_type": "execute_result"
    }
   ],
   "source": [
    "#переименование колонок (исправление стиля)\n",
    "df = df.rename(\n",
    "    columns={'parks_around3000':'parks_around_3000', \n",
    "             'ponds_around3000':'ponds_around_3000', \n",
    "             'cityCenters_nearest':'city_centers_nearest'}\n",
    ")\n",
    "\n",
    "#проверяем внесение изменений:\n",
    "df.columns"
   ]
  },
  {
   "cell_type": "markdown",
   "metadata": {},
   "source": [
    "#### Функции для использования в анализе"
   ]
  },
  {
   "cell_type": "markdown",
   "metadata": {},
   "source": [
    "Для наглядности создадим словарь с наименованием и описанием столбцов датафрейма и функцию с вызовом основных характеристик столбца:"
   ]
  },
  {
   "cell_type": "code",
   "execution_count": 8,
   "metadata": {},
   "outputs": [],
   "source": [
    "# словарь с описанием столбцов\n",
    "dict_df ={\n",
    "    'airports_nearest':'расстояние до ближайшего аэропорта в метрах (м)',\n",
    "    'balcony': 'число балконов',\n",
    "    'ceiling_height': 'высота потолков (м)',\n",
    "    'city_centers_nearest': 'расстояние до центра города (м)',\n",
    "    'days_exposition': 'сколько дней было размещено объявление (от публикации до снятия)',\n",
    "    'first_day_exposition': 'дата публикации',\n",
    "    'floor': 'этаж',\n",
    "    'floors_total': 'всего этажей в доме',\n",
    "    'is_apartment': 'апартаменты (булев тип)',\n",
    "    'kitchen_area': 'площадь кухни в квадратных метрах (м²)',\n",
    "    'last_price': 'цена на момент снятия с публикации',\n",
    "    'living_area': 'жилая площадь в квадратных метрах (м²)',\n",
    "    'locality_name': 'название населённого пункта',\n",
    "    'open_plan': 'свободная планировка (булев тип)',\n",
    "    'parks_around_3000':'число парков в радиусе 3 км',\n",
    "    'parks_nearest': 'расстояние до ближайшего парка (м)',\n",
    "    'ponds_around_3000': 'число водоёмов в радиусе 3 км',\n",
    "    'ponds_nearest': 'расстояние до ближайшего водоёма (м)',\n",
    "    'rooms': 'число комнат',\n",
    "    'studio': 'квартира-студия (булев тип)',\n",
    "    'total_area': 'площадь квартиры в квадратных метрах (м²)',\n",
    "    'total_images': 'число фотографий квартиры в объявлении'\n",
    "}\n",
    "\n",
    "#словарь со значениями \n",
    "dict_name = pd.Series(dict_df)"
   ]
  },
  {
   "cell_type": "code",
   "execution_count": 9,
   "metadata": {},
   "outputs": [],
   "source": [
    "#просмотр данных столбца: уникальные значения, тип данных, кол-во пропусков\n",
    "def preprocessing(column):\n",
    "    print(column, '-', dict_name[column])\n",
    "    print('тип данных', df[column].dtypes)\n",
    "    print('количество пропусков',df[column].isna().sum())\n",
    "    if df[column].dtypes != 'object':\n",
    "        print('минимальное значение:',df[column].min(), 'максимальное значение:', df[column].max() )\n",
    "    print('уникальные значения:', '\\n', df[column].value_counts())\n",
    "    "
   ]
  },
  {
   "cell_type": "markdown",
   "metadata": {},
   "source": [
    "Для удобства дальнейшей работы напишем функции для заполнения столбца датафрейма: \n",
    "\n",
    "-  медианой, сгруппированной по другому столбцу \n",
    "-  общей медианой по столбцу\n"
   ]
  },
  {
   "cell_type": "code",
   "execution_count": 10,
   "metadata": {},
   "outputs": [],
   "source": [
    "#Функция для заполнения пропусков столбца датафрейма медианой, сгруппированной по столбцу: \n",
    "#col_na -столбец с пропусками, col_group - столбец для группировки. Наименование столбцов- в кавычки.\n",
    "#deff\n",
    "def filling_median_group (col_na, col_group):\n",
    "    print('1.пропуски до изменений: ', df[col_na].isna().sum())\n",
    "    for value in df[col_group].unique():\n",
    "        median_col_group = df.loc[df[col_group]==value, col_na].median()\n",
    "        df.loc[(df[col_na].isna()) & (df[col_group]==value), col_na] = median_col_group\n",
    "    print('1.пропуски после изменений: ', df[col_na].isna().sum())\n"
   ]
  },
  {
   "cell_type": "code",
   "execution_count": 11,
   "metadata": {},
   "outputs": [],
   "source": [
    "#Функция для заполнения пропусков столбца датафрейма общей медианой по столбцу\n",
    "#col_na -столбец с пропусками. Наименование столбцов- в кавычки.\n",
    "\n",
    "def filling_median (col_na):\n",
    "    print('1.пропуски до изменений: ', df[col_na].isna().sum())\n",
    "    df.loc[df[col_na].isna() ,col_na] = df.loc[df[col_na] ,col_na].median()\n",
    "    print('1.пропуски после изменений: ', df[col_na].isna().sum())\n"
   ]
  },
  {
   "cell_type": "markdown",
   "metadata": {},
   "source": [
    "#### Столбец  'last_price' \n",
    "\n",
    "Посмотрим основные характеристики столбца"
   ]
  },
  {
   "cell_type": "code",
   "execution_count": 12,
   "metadata": {},
   "outputs": [
    {
     "name": "stdout",
     "output_type": "stream",
     "text": [
      "last_price - цена на момент снятия с публикации\n",
      "тип данных float64\n",
      "количество пропусков 0\n",
      "минимальное значение: 12190.0 максимальное значение: 763000000.0\n",
      "уникальные значения: \n",
      " 4500000.0     342\n",
      "3500000.0     291\n",
      "4300000.0     260\n",
      "4000000.0     260\n",
      "4200000.0     259\n",
      "             ... \n",
      "12890000.0      1\n",
      "29375000.0      1\n",
      "7545600.0       1\n",
      "5205000.0       1\n",
      "11475000.0      1\n",
      "Name: last_price, Length: 2978, dtype: int64\n"
     ]
    },
    {
     "data": {
      "text/html": [
       "<div>\n",
       "<style scoped>\n",
       "    .dataframe tbody tr th:only-of-type {\n",
       "        vertical-align: middle;\n",
       "    }\n",
       "\n",
       "    .dataframe tbody tr th {\n",
       "        vertical-align: top;\n",
       "    }\n",
       "\n",
       "    .dataframe thead th {\n",
       "        text-align: right;\n",
       "    }\n",
       "</style>\n",
       "<table border=\"1\" class=\"dataframe\">\n",
       "  <thead>\n",
       "    <tr style=\"text-align: right;\">\n",
       "      <th></th>\n",
       "      <th>total_images</th>\n",
       "      <th>last_price</th>\n",
       "      <th>total_area</th>\n",
       "      <th>first_day_exposition</th>\n",
       "      <th>rooms</th>\n",
       "      <th>ceiling_height</th>\n",
       "      <th>floors_total</th>\n",
       "      <th>living_area</th>\n",
       "      <th>floor</th>\n",
       "      <th>is_apartment</th>\n",
       "      <th>...</th>\n",
       "      <th>kitchen_area</th>\n",
       "      <th>balcony</th>\n",
       "      <th>locality_name</th>\n",
       "      <th>airports_nearest</th>\n",
       "      <th>city_centers_nearest</th>\n",
       "      <th>parks_around_3000</th>\n",
       "      <th>parks_nearest</th>\n",
       "      <th>ponds_around_3000</th>\n",
       "      <th>ponds_nearest</th>\n",
       "      <th>days_exposition</th>\n",
       "    </tr>\n",
       "  </thead>\n",
       "  <tbody>\n",
       "    <tr>\n",
       "      <th>8793</th>\n",
       "      <td>7</td>\n",
       "      <td>12190.0</td>\n",
       "      <td>109.0</td>\n",
       "      <td>2019-03-20T00:00:00</td>\n",
       "      <td>2</td>\n",
       "      <td>2.75</td>\n",
       "      <td>25.0</td>\n",
       "      <td>32.0</td>\n",
       "      <td>25</td>\n",
       "      <td>NaN</td>\n",
       "      <td>...</td>\n",
       "      <td>40.5</td>\n",
       "      <td>NaN</td>\n",
       "      <td>Санкт-Петербург</td>\n",
       "      <td>36421.0</td>\n",
       "      <td>9176.0</td>\n",
       "      <td>1.0</td>\n",
       "      <td>805.0</td>\n",
       "      <td>0.0</td>\n",
       "      <td>NaN</td>\n",
       "      <td>8.0</td>\n",
       "    </tr>\n",
       "  </tbody>\n",
       "</table>\n",
       "<p>1 rows × 22 columns</p>\n",
       "</div>"
      ],
      "text/plain": [
       "      total_images  last_price  total_area first_day_exposition  rooms  \\\n",
       "8793             7     12190.0       109.0  2019-03-20T00:00:00      2   \n",
       "\n",
       "      ceiling_height  floors_total  living_area  floor is_apartment  ...  \\\n",
       "8793            2.75          25.0         32.0     25          NaN  ...   \n",
       "\n",
       "      kitchen_area  balcony    locality_name  airports_nearest  \\\n",
       "8793          40.5      NaN  Санкт-Петербург           36421.0   \n",
       "\n",
       "     city_centers_nearest  parks_around_3000  parks_nearest  \\\n",
       "8793               9176.0                1.0          805.0   \n",
       "\n",
       "      ponds_around_3000  ponds_nearest  days_exposition  \n",
       "8793                0.0            NaN              8.0  \n",
       "\n",
       "[1 rows x 22 columns]"
      ]
     },
     "metadata": {},
     "output_type": "display_data"
    }
   ],
   "source": [
    "preprocessing('last_price') \n",
    "\n",
    "#проверка цены на \"здравый смысл\":\n",
    "display(df.loc[(df['last_price']<1000000)& (df['locality_name']=='Санкт-Петербург' )])\n"
   ]
  },
  {
   "cell_type": "markdown",
   "metadata": {},
   "source": [
    "Выявлена одна квартира стоимостью 12 190 руб. Вероятно стоимость проставлена в тыс.руб.,- заменим их вручную:"
   ]
  },
  {
   "cell_type": "code",
   "execution_count": 13,
   "metadata": {},
   "outputs": [
    {
     "data": {
      "text/html": [
       "<div>\n",
       "<style scoped>\n",
       "    .dataframe tbody tr th:only-of-type {\n",
       "        vertical-align: middle;\n",
       "    }\n",
       "\n",
       "    .dataframe tbody tr th {\n",
       "        vertical-align: top;\n",
       "    }\n",
       "\n",
       "    .dataframe thead th {\n",
       "        text-align: right;\n",
       "    }\n",
       "</style>\n",
       "<table border=\"1\" class=\"dataframe\">\n",
       "  <thead>\n",
       "    <tr style=\"text-align: right;\">\n",
       "      <th></th>\n",
       "      <th>total_images</th>\n",
       "      <th>last_price</th>\n",
       "      <th>total_area</th>\n",
       "      <th>first_day_exposition</th>\n",
       "      <th>rooms</th>\n",
       "      <th>ceiling_height</th>\n",
       "      <th>floors_total</th>\n",
       "      <th>living_area</th>\n",
       "      <th>floor</th>\n",
       "      <th>is_apartment</th>\n",
       "      <th>...</th>\n",
       "      <th>kitchen_area</th>\n",
       "      <th>balcony</th>\n",
       "      <th>locality_name</th>\n",
       "      <th>airports_nearest</th>\n",
       "      <th>city_centers_nearest</th>\n",
       "      <th>parks_around_3000</th>\n",
       "      <th>parks_nearest</th>\n",
       "      <th>ponds_around_3000</th>\n",
       "      <th>ponds_nearest</th>\n",
       "      <th>days_exposition</th>\n",
       "    </tr>\n",
       "  </thead>\n",
       "  <tbody>\n",
       "  </tbody>\n",
       "</table>\n",
       "<p>0 rows × 22 columns</p>\n",
       "</div>"
      ],
      "text/plain": [
       "Empty DataFrame\n",
       "Columns: [total_images, last_price, total_area, first_day_exposition, rooms, ceiling_height, floors_total, living_area, floor, is_apartment, studio, open_plan, kitchen_area, balcony, locality_name, airports_nearest, city_centers_nearest, parks_around_3000, parks_nearest, ponds_around_3000, ponds_nearest, days_exposition]\n",
       "Index: []\n",
       "\n",
       "[0 rows x 22 columns]"
      ]
     },
     "metadata": {},
     "output_type": "display_data"
    }
   ],
   "source": [
    "df.loc[8793, 'last_price'] = 12190000\n",
    "display(df.loc[(df['last_price']<1000000)& (df['locality_name']=='Санкт-Петербург' )])"
   ]
  },
  {
   "cell_type": "markdown",
   "metadata": {},
   "source": [
    "**Вывод**\n",
    "\n",
    "Выявлено одно некорректно заполненное значение (вероятно было заполнено в тыс.руб.), скорректировано в расчете на рубли."
   ]
  },
  {
   "cell_type": "markdown",
   "metadata": {},
   "source": [
    "#### Столбец 'total_area'\n",
    "\n",
    "Посмотрим основные характеристики столбца:"
   ]
  },
  {
   "cell_type": "code",
   "execution_count": 14,
   "metadata": {},
   "outputs": [
    {
     "name": "stdout",
     "output_type": "stream",
     "text": [
      "total_area - площадь квартиры в квадратных метрах (м²)\n",
      "тип данных float64\n",
      "количество пропусков 0\n",
      "минимальное значение: 12.0 максимальное значение: 900.0\n",
      "уникальные значения: \n",
      " 45.00     419\n",
      "42.00     383\n",
      "60.00     347\n",
      "31.00     346\n",
      "44.00     345\n",
      "         ... \n",
      "184.40      1\n",
      "55.64       1\n",
      "56.16       1\n",
      "109.10      1\n",
      "76.75       1\n",
      "Name: total_area, Length: 2182, dtype: int64\n"
     ]
    },
    {
     "data": {
      "text/plain": [
       "count    23699.000000\n",
       "mean        60.348651\n",
       "std         35.654083\n",
       "min         12.000000\n",
       "25%         40.000000\n",
       "50%         52.000000\n",
       "75%         69.900000\n",
       "max        900.000000\n",
       "Name: total_area, dtype: float64"
      ]
     },
     "execution_count": 14,
     "metadata": {},
     "output_type": "execute_result"
    }
   ],
   "source": [
    "preprocessing('total_area') \n",
    "(df['total_area']).describe()\n"
   ]
  },
  {
   "cell_type": "markdown",
   "metadata": {},
   "source": [
    "**Вывод**\n",
    "\n",
    "Не выявлено проблем, связанных со значениями столбца"
   ]
  },
  {
   "cell_type": "markdown",
   "metadata": {},
   "source": [
    "#### Столбец 'first_day_exposition'  \n",
    "\n",
    "Посмотрим основные характеристики столбца:"
   ]
  },
  {
   "cell_type": "code",
   "execution_count": 15,
   "metadata": {},
   "outputs": [
    {
     "name": "stdout",
     "output_type": "stream",
     "text": [
      "first_day_exposition - дата публикации\n",
      "тип данных object\n",
      "количество пропусков 0\n",
      "уникальные значения: \n",
      " 2018-02-01T00:00:00    368\n",
      "2017-11-10T00:00:00    240\n",
      "2017-10-13T00:00:00    124\n",
      "2017-09-27T00:00:00    111\n",
      "2018-03-26T00:00:00     97\n",
      "                      ... \n",
      "2018-05-20T00:00:00      1\n",
      "2015-05-15T00:00:00      1\n",
      "2015-01-12T00:00:00      1\n",
      "2015-12-19T00:00:00      1\n",
      "2015-07-19T00:00:00      1\n",
      "Name: first_day_exposition, Length: 1491, dtype: int64\n"
     ]
    }
   ],
   "source": [
    "preprocessing('first_day_exposition') "
   ]
  },
  {
   "cell_type": "markdown",
   "metadata": {},
   "source": [
    "Для дальнейшего анализа переведем значения столбца в формат datetime:"
   ]
  },
  {
   "cell_type": "code",
   "execution_count": 16,
   "metadata": {},
   "outputs": [
    {
     "data": {
      "text/plain": [
       "total_images                     int64\n",
       "last_price                     float64\n",
       "total_area                     float64\n",
       "first_day_exposition    datetime64[ns]\n",
       "rooms                            int64\n",
       "ceiling_height                 float64\n",
       "floors_total                   float64\n",
       "living_area                    float64\n",
       "floor                            int64\n",
       "is_apartment                    object\n",
       "studio                            bool\n",
       "open_plan                         bool\n",
       "kitchen_area                   float64\n",
       "balcony                        float64\n",
       "locality_name                   object\n",
       "airports_nearest               float64\n",
       "city_centers_nearest           float64\n",
       "parks_around_3000              float64\n",
       "parks_nearest                  float64\n",
       "ponds_around_3000              float64\n",
       "ponds_nearest                  float64\n",
       "days_exposition                float64\n",
       "dtype: object"
      ]
     },
     "execution_count": 16,
     "metadata": {},
     "output_type": "execute_result"
    }
   ],
   "source": [
    "# перевод данных в формат даты:\n",
    "df['first_day_exposition'] = pd.to_datetime(df['first_day_exposition'], format='%Y-%m-%dT%H:%M:%S')\n",
    "\n",
    "#проверяем внесение изменений в тип данных\n",
    "df.dtypes\n"
   ]
  },
  {
   "cell_type": "markdown",
   "metadata": {},
   "source": [
    "**Вывод**\n",
    "\n",
    "Для дальнейшего анализа данные переведены в формат datetime64"
   ]
  },
  {
   "cell_type": "markdown",
   "metadata": {},
   "source": [
    "#### Столбец 'studio' \n",
    "Основные характеристики столбца: "
   ]
  },
  {
   "cell_type": "code",
   "execution_count": 17,
   "metadata": {},
   "outputs": [
    {
     "name": "stdout",
     "output_type": "stream",
     "text": [
      "studio - квартира-студия (булев тип)\n",
      "тип данных bool\n",
      "количество пропусков 0\n",
      "минимальное значение: False максимальное значение: True\n",
      "уникальные значения: \n",
      " False    23550\n",
      "True       149\n",
      "Name: studio, dtype: int64\n"
     ]
    },
    {
     "data": {
      "text/plain": [
       "count     23699\n",
       "unique        2\n",
       "top       False\n",
       "freq      23550\n",
       "Name: studio, dtype: object"
      ]
     },
     "execution_count": 17,
     "metadata": {},
     "output_type": "execute_result"
    }
   ],
   "source": [
    "preprocessing('studio') \n",
    "(df['studio']).describe()"
   ]
  },
  {
   "cell_type": "markdown",
   "metadata": {},
   "source": [
    "**Вывод**\n",
    "\n",
    "Не выявлено проблем, связанных со значениями столбца"
   ]
  },
  {
   "cell_type": "markdown",
   "metadata": {},
   "source": [
    "#### Столбец 'rooms'\n",
    "\n",
    "Основные характеристики столбца:"
   ]
  },
  {
   "cell_type": "code",
   "execution_count": 18,
   "metadata": {},
   "outputs": [
    {
     "name": "stdout",
     "output_type": "stream",
     "text": [
      "rooms - число комнат\n",
      "тип данных int64\n",
      "количество пропусков 0\n",
      "минимальное значение: 0 максимальное значение: 19\n",
      "уникальные значения: \n",
      " 1     8047\n",
      "2     7940\n",
      "3     5814\n",
      "4     1180\n",
      "5      326\n",
      "0      197\n",
      "6      105\n",
      "7       59\n",
      "8       12\n",
      "9        8\n",
      "10       3\n",
      "11       2\n",
      "14       2\n",
      "15       1\n",
      "19       1\n",
      "16       1\n",
      "12       1\n",
      "Name: rooms, dtype: int64\n"
     ]
    }
   ],
   "source": [
    "preprocessing('rooms') "
   ]
  },
  {
   "cell_type": "markdown",
   "metadata": {},
   "source": [
    "Проверим данные по недвижимости с нулевым количеством комнат:"
   ]
  },
  {
   "cell_type": "code",
   "execution_count": 19,
   "metadata": {},
   "outputs": [
    {
     "data": {
      "text/html": [
       "<div>\n",
       "<style scoped>\n",
       "    .dataframe tbody tr th:only-of-type {\n",
       "        vertical-align: middle;\n",
       "    }\n",
       "\n",
       "    .dataframe tbody tr th {\n",
       "        vertical-align: top;\n",
       "    }\n",
       "\n",
       "    .dataframe thead th {\n",
       "        text-align: right;\n",
       "    }\n",
       "</style>\n",
       "<table border=\"1\" class=\"dataframe\">\n",
       "  <thead>\n",
       "    <tr style=\"text-align: right;\">\n",
       "      <th></th>\n",
       "      <th>total_images</th>\n",
       "      <th>last_price</th>\n",
       "      <th>total_area</th>\n",
       "      <th>first_day_exposition</th>\n",
       "      <th>rooms</th>\n",
       "      <th>ceiling_height</th>\n",
       "      <th>floors_total</th>\n",
       "      <th>living_area</th>\n",
       "      <th>floor</th>\n",
       "      <th>is_apartment</th>\n",
       "      <th>...</th>\n",
       "      <th>kitchen_area</th>\n",
       "      <th>balcony</th>\n",
       "      <th>locality_name</th>\n",
       "      <th>airports_nearest</th>\n",
       "      <th>city_centers_nearest</th>\n",
       "      <th>parks_around_3000</th>\n",
       "      <th>parks_nearest</th>\n",
       "      <th>ponds_around_3000</th>\n",
       "      <th>ponds_nearest</th>\n",
       "      <th>days_exposition</th>\n",
       "    </tr>\n",
       "  </thead>\n",
       "  <tbody>\n",
       "    <tr>\n",
       "      <th>144</th>\n",
       "      <td>1</td>\n",
       "      <td>2450000.0</td>\n",
       "      <td>27.00</td>\n",
       "      <td>2017-03-30</td>\n",
       "      <td>0</td>\n",
       "      <td>NaN</td>\n",
       "      <td>24.0</td>\n",
       "      <td>15.50</td>\n",
       "      <td>2</td>\n",
       "      <td>NaN</td>\n",
       "      <td>...</td>\n",
       "      <td>NaN</td>\n",
       "      <td>2.0</td>\n",
       "      <td>посёлок Мурино</td>\n",
       "      <td>NaN</td>\n",
       "      <td>NaN</td>\n",
       "      <td>NaN</td>\n",
       "      <td>NaN</td>\n",
       "      <td>NaN</td>\n",
       "      <td>NaN</td>\n",
       "      <td>181.0</td>\n",
       "    </tr>\n",
       "    <tr>\n",
       "      <th>349</th>\n",
       "      <td>4</td>\n",
       "      <td>2320000.0</td>\n",
       "      <td>25.00</td>\n",
       "      <td>2017-09-27</td>\n",
       "      <td>0</td>\n",
       "      <td>NaN</td>\n",
       "      <td>14.0</td>\n",
       "      <td>17.00</td>\n",
       "      <td>1</td>\n",
       "      <td>NaN</td>\n",
       "      <td>...</td>\n",
       "      <td>NaN</td>\n",
       "      <td>0.0</td>\n",
       "      <td>деревня Кудрово</td>\n",
       "      <td>NaN</td>\n",
       "      <td>NaN</td>\n",
       "      <td>NaN</td>\n",
       "      <td>NaN</td>\n",
       "      <td>NaN</td>\n",
       "      <td>NaN</td>\n",
       "      <td>45.0</td>\n",
       "    </tr>\n",
       "    <tr>\n",
       "      <th>440</th>\n",
       "      <td>8</td>\n",
       "      <td>2480000.0</td>\n",
       "      <td>27.11</td>\n",
       "      <td>2018-03-12</td>\n",
       "      <td>0</td>\n",
       "      <td>NaN</td>\n",
       "      <td>17.0</td>\n",
       "      <td>24.75</td>\n",
       "      <td>4</td>\n",
       "      <td>NaN</td>\n",
       "      <td>...</td>\n",
       "      <td>NaN</td>\n",
       "      <td>2.0</td>\n",
       "      <td>Санкт-Петербург</td>\n",
       "      <td>38171.0</td>\n",
       "      <td>15015.0</td>\n",
       "      <td>0.0</td>\n",
       "      <td>NaN</td>\n",
       "      <td>2.0</td>\n",
       "      <td>982.0</td>\n",
       "      <td>64.0</td>\n",
       "    </tr>\n",
       "    <tr>\n",
       "      <th>508</th>\n",
       "      <td>0</td>\n",
       "      <td>3375000.0</td>\n",
       "      <td>34.40</td>\n",
       "      <td>2017-03-28</td>\n",
       "      <td>0</td>\n",
       "      <td>NaN</td>\n",
       "      <td>26.0</td>\n",
       "      <td>24.30</td>\n",
       "      <td>19</td>\n",
       "      <td>NaN</td>\n",
       "      <td>...</td>\n",
       "      <td>NaN</td>\n",
       "      <td>1.0</td>\n",
       "      <td>посёлок Парголово</td>\n",
       "      <td>53115.0</td>\n",
       "      <td>19292.0</td>\n",
       "      <td>0.0</td>\n",
       "      <td>NaN</td>\n",
       "      <td>1.0</td>\n",
       "      <td>593.0</td>\n",
       "      <td>430.0</td>\n",
       "    </tr>\n",
       "    <tr>\n",
       "      <th>608</th>\n",
       "      <td>2</td>\n",
       "      <td>1850000.0</td>\n",
       "      <td>25.00</td>\n",
       "      <td>2019-02-20</td>\n",
       "      <td>0</td>\n",
       "      <td>NaN</td>\n",
       "      <td>10.0</td>\n",
       "      <td>NaN</td>\n",
       "      <td>7</td>\n",
       "      <td>NaN</td>\n",
       "      <td>...</td>\n",
       "      <td>NaN</td>\n",
       "      <td>NaN</td>\n",
       "      <td>посёлок Шушары</td>\n",
       "      <td>NaN</td>\n",
       "      <td>NaN</td>\n",
       "      <td>NaN</td>\n",
       "      <td>NaN</td>\n",
       "      <td>NaN</td>\n",
       "      <td>NaN</td>\n",
       "      <td>29.0</td>\n",
       "    </tr>\n",
       "    <tr>\n",
       "      <th>...</th>\n",
       "      <td>...</td>\n",
       "      <td>...</td>\n",
       "      <td>...</td>\n",
       "      <td>...</td>\n",
       "      <td>...</td>\n",
       "      <td>...</td>\n",
       "      <td>...</td>\n",
       "      <td>...</td>\n",
       "      <td>...</td>\n",
       "      <td>...</td>\n",
       "      <td>...</td>\n",
       "      <td>...</td>\n",
       "      <td>...</td>\n",
       "      <td>...</td>\n",
       "      <td>...</td>\n",
       "      <td>...</td>\n",
       "      <td>...</td>\n",
       "      <td>...</td>\n",
       "      <td>...</td>\n",
       "      <td>...</td>\n",
       "      <td>...</td>\n",
       "    </tr>\n",
       "    <tr>\n",
       "      <th>23210</th>\n",
       "      <td>7</td>\n",
       "      <td>3200000.0</td>\n",
       "      <td>26.00</td>\n",
       "      <td>2017-09-01</td>\n",
       "      <td>0</td>\n",
       "      <td>NaN</td>\n",
       "      <td>25.0</td>\n",
       "      <td>18.00</td>\n",
       "      <td>16</td>\n",
       "      <td>NaN</td>\n",
       "      <td>...</td>\n",
       "      <td>NaN</td>\n",
       "      <td>0.0</td>\n",
       "      <td>Санкт-Петербург</td>\n",
       "      <td>11405.0</td>\n",
       "      <td>13222.0</td>\n",
       "      <td>0.0</td>\n",
       "      <td>NaN</td>\n",
       "      <td>1.0</td>\n",
       "      <td>623.0</td>\n",
       "      <td>14.0</td>\n",
       "    </tr>\n",
       "    <tr>\n",
       "      <th>23442</th>\n",
       "      <td>0</td>\n",
       "      <td>2500000.0</td>\n",
       "      <td>27.70</td>\n",
       "      <td>2017-09-28</td>\n",
       "      <td>0</td>\n",
       "      <td>NaN</td>\n",
       "      <td>24.0</td>\n",
       "      <td>18.00</td>\n",
       "      <td>4</td>\n",
       "      <td>NaN</td>\n",
       "      <td>...</td>\n",
       "      <td>NaN</td>\n",
       "      <td>2.0</td>\n",
       "      <td>посёлок Мурино</td>\n",
       "      <td>NaN</td>\n",
       "      <td>NaN</td>\n",
       "      <td>NaN</td>\n",
       "      <td>NaN</td>\n",
       "      <td>NaN</td>\n",
       "      <td>NaN</td>\n",
       "      <td>4.0</td>\n",
       "    </tr>\n",
       "    <tr>\n",
       "      <th>23554</th>\n",
       "      <td>15</td>\n",
       "      <td>3350000.0</td>\n",
       "      <td>26.00</td>\n",
       "      <td>2018-09-07</td>\n",
       "      <td>0</td>\n",
       "      <td>NaN</td>\n",
       "      <td>19.0</td>\n",
       "      <td>NaN</td>\n",
       "      <td>8</td>\n",
       "      <td>NaN</td>\n",
       "      <td>...</td>\n",
       "      <td>NaN</td>\n",
       "      <td>NaN</td>\n",
       "      <td>Санкт-Петербург</td>\n",
       "      <td>18090.0</td>\n",
       "      <td>17092.0</td>\n",
       "      <td>0.0</td>\n",
       "      <td>NaN</td>\n",
       "      <td>2.0</td>\n",
       "      <td>112.0</td>\n",
       "      <td>31.0</td>\n",
       "    </tr>\n",
       "    <tr>\n",
       "      <th>23592</th>\n",
       "      <td>10</td>\n",
       "      <td>1450000.0</td>\n",
       "      <td>29.00</td>\n",
       "      <td>2017-11-11</td>\n",
       "      <td>0</td>\n",
       "      <td>NaN</td>\n",
       "      <td>9.0</td>\n",
       "      <td>18.00</td>\n",
       "      <td>8</td>\n",
       "      <td>NaN</td>\n",
       "      <td>...</td>\n",
       "      <td>NaN</td>\n",
       "      <td>2.0</td>\n",
       "      <td>Никольское</td>\n",
       "      <td>NaN</td>\n",
       "      <td>NaN</td>\n",
       "      <td>NaN</td>\n",
       "      <td>NaN</td>\n",
       "      <td>NaN</td>\n",
       "      <td>NaN</td>\n",
       "      <td>82.0</td>\n",
       "    </tr>\n",
       "    <tr>\n",
       "      <th>23637</th>\n",
       "      <td>8</td>\n",
       "      <td>2350000.0</td>\n",
       "      <td>26.00</td>\n",
       "      <td>2018-06-26</td>\n",
       "      <td>0</td>\n",
       "      <td>NaN</td>\n",
       "      <td>25.0</td>\n",
       "      <td>17.00</td>\n",
       "      <td>4</td>\n",
       "      <td>NaN</td>\n",
       "      <td>...</td>\n",
       "      <td>NaN</td>\n",
       "      <td>2.0</td>\n",
       "      <td>посёлок Бугры</td>\n",
       "      <td>NaN</td>\n",
       "      <td>NaN</td>\n",
       "      <td>NaN</td>\n",
       "      <td>NaN</td>\n",
       "      <td>NaN</td>\n",
       "      <td>NaN</td>\n",
       "      <td>207.0</td>\n",
       "    </tr>\n",
       "  </tbody>\n",
       "</table>\n",
       "<p>197 rows × 22 columns</p>\n",
       "</div>"
      ],
      "text/plain": [
       "       total_images  last_price  total_area first_day_exposition  rooms  \\\n",
       "144               1   2450000.0       27.00           2017-03-30      0   \n",
       "349               4   2320000.0       25.00           2017-09-27      0   \n",
       "440               8   2480000.0       27.11           2018-03-12      0   \n",
       "508               0   3375000.0       34.40           2017-03-28      0   \n",
       "608               2   1850000.0       25.00           2019-02-20      0   \n",
       "...             ...         ...         ...                  ...    ...   \n",
       "23210             7   3200000.0       26.00           2017-09-01      0   \n",
       "23442             0   2500000.0       27.70           2017-09-28      0   \n",
       "23554            15   3350000.0       26.00           2018-09-07      0   \n",
       "23592            10   1450000.0       29.00           2017-11-11      0   \n",
       "23637             8   2350000.0       26.00           2018-06-26      0   \n",
       "\n",
       "       ceiling_height  floors_total  living_area  floor is_apartment  ...  \\\n",
       "144               NaN          24.0        15.50      2          NaN  ...   \n",
       "349               NaN          14.0        17.00      1          NaN  ...   \n",
       "440               NaN          17.0        24.75      4          NaN  ...   \n",
       "508               NaN          26.0        24.30     19          NaN  ...   \n",
       "608               NaN          10.0          NaN      7          NaN  ...   \n",
       "...               ...           ...          ...    ...          ...  ...   \n",
       "23210             NaN          25.0        18.00     16          NaN  ...   \n",
       "23442             NaN          24.0        18.00      4          NaN  ...   \n",
       "23554             NaN          19.0          NaN      8          NaN  ...   \n",
       "23592             NaN           9.0        18.00      8          NaN  ...   \n",
       "23637             NaN          25.0        17.00      4          NaN  ...   \n",
       "\n",
       "       kitchen_area  balcony      locality_name  airports_nearest  \\\n",
       "144             NaN      2.0     посёлок Мурино               NaN   \n",
       "349             NaN      0.0    деревня Кудрово               NaN   \n",
       "440             NaN      2.0    Санкт-Петербург           38171.0   \n",
       "508             NaN      1.0  посёлок Парголово           53115.0   \n",
       "608             NaN      NaN     посёлок Шушары               NaN   \n",
       "...             ...      ...                ...               ...   \n",
       "23210           NaN      0.0    Санкт-Петербург           11405.0   \n",
       "23442           NaN      2.0     посёлок Мурино               NaN   \n",
       "23554           NaN      NaN    Санкт-Петербург           18090.0   \n",
       "23592           NaN      2.0         Никольское               NaN   \n",
       "23637           NaN      2.0      посёлок Бугры               NaN   \n",
       "\n",
       "      city_centers_nearest  parks_around_3000  parks_nearest  \\\n",
       "144                    NaN                NaN            NaN   \n",
       "349                    NaN                NaN            NaN   \n",
       "440                15015.0                0.0            NaN   \n",
       "508                19292.0                0.0            NaN   \n",
       "608                    NaN                NaN            NaN   \n",
       "...                    ...                ...            ...   \n",
       "23210              13222.0                0.0            NaN   \n",
       "23442                  NaN                NaN            NaN   \n",
       "23554              17092.0                0.0            NaN   \n",
       "23592                  NaN                NaN            NaN   \n",
       "23637                  NaN                NaN            NaN   \n",
       "\n",
       "       ponds_around_3000  ponds_nearest  days_exposition  \n",
       "144                  NaN            NaN            181.0  \n",
       "349                  NaN            NaN             45.0  \n",
       "440                  2.0          982.0             64.0  \n",
       "508                  1.0          593.0            430.0  \n",
       "608                  NaN            NaN             29.0  \n",
       "...                  ...            ...              ...  \n",
       "23210                1.0          623.0             14.0  \n",
       "23442                NaN            NaN              4.0  \n",
       "23554                2.0          112.0             31.0  \n",
       "23592                NaN            NaN             82.0  \n",
       "23637                NaN            NaN            207.0  \n",
       "\n",
       "[197 rows x 22 columns]"
      ]
     },
     "execution_count": 19,
     "metadata": {},
     "output_type": "execute_result"
    }
   ],
   "source": [
    "df.query('rooms == 0 and (open_plan == True or studio == True) ')\n"
   ]
  },
  {
   "cell_type": "markdown",
   "metadata": {},
   "source": [
    "Как видим, все они- либо с признаком квартиры-студии, либо со свободной планировкой. Будем считать, что это реальная особенность определенного типа жилья.\n",
    "\n",
    "Тем не менее,  для единообразия проверим количество комнат во всех студиях:"
   ]
  },
  {
   "cell_type": "code",
   "execution_count": 20,
   "metadata": {},
   "outputs": [
    {
     "name": "stdout",
     "output_type": "stream",
     "text": [
      "149\n"
     ]
    },
    {
     "data": {
      "text/plain": [
       "0    138\n",
       "1     11\n",
       "Name: rooms, dtype: int64"
      ]
     },
     "execution_count": 20,
     "metadata": {},
     "output_type": "execute_result"
    }
   ],
   "source": [
    "#выборка объектов с признаком \"студия\"\n",
    "#их количество:\n",
    "print(len(df.query('studio == True')))\n",
    "\n",
    "#уникальные значения кол-ва комнат:\n",
    "df.query('studio == True')['rooms'] .value_counts()"
   ]
  },
  {
   "cell_type": "markdown",
   "metadata": {},
   "source": [
    "Как видим, в основном в студиях указано количество комнат, равное 0 (138 значений). Поскольку студия предполагает одно свободное пространство, совмещающее комнату и кухню и не делится на комнаты, для единообразия заменим 1 (11 значений) на 0:"
   ]
  },
  {
   "cell_type": "code",
   "execution_count": 21,
   "metadata": {},
   "outputs": [
    {
     "data": {
      "text/plain": [
       "0    149\n",
       "Name: rooms, dtype: int64"
      ]
     },
     "execution_count": 21,
     "metadata": {},
     "output_type": "execute_result"
    }
   ],
   "source": [
    "#присваиваем значение '0' в ячейках со значением '1':\n",
    "df.loc[(df['rooms'] == 1) & (df['studio']==True),'rooms'] = 0\n",
    "\n",
    "#проверим внесение изменений\n",
    "df.query('studio == True')['rooms'] .value_counts()"
   ]
  },
  {
   "cell_type": "markdown",
   "metadata": {},
   "source": [
    "**Вывод**\n",
    "\n",
    "В целом не выявлено проблем, связанных со значениями столбца, но для единообразия значения комнат, равные \"1\" , в студиях заменены на \"0\""
   ]
  },
  {
   "cell_type": "markdown",
   "metadata": {},
   "source": [
    "#### Проверка значений столбца 'ceiling_height'\n",
    "Основные характеристики столбца:"
   ]
  },
  {
   "cell_type": "code",
   "execution_count": 22,
   "metadata": {
    "scrolled": true
   },
   "outputs": [
    {
     "name": "stdout",
     "output_type": "stream",
     "text": [
      "ceiling_height - высота потолков (м)\n",
      "тип данных float64\n",
      "количество пропусков 9195\n",
      "минимальное значение: 1.0 максимальное значение: 100.0\n",
      "уникальные значения: \n",
      " 2.50    3515\n",
      "2.60    1646\n",
      "2.70    1574\n",
      "3.00    1112\n",
      "2.80     993\n",
      "        ... \n",
      "5.00       1\n",
      "2.20       1\n",
      "2.34       1\n",
      "3.93       1\n",
      "3.59       1\n",
      "Name: ceiling_height, Length: 183, dtype: int64\n"
     ]
    },
    {
     "data": {
      "text/plain": [
       "count    14504.000000\n",
       "mean         2.771499\n",
       "std          1.261056\n",
       "min          1.000000\n",
       "25%          2.520000\n",
       "50%          2.650000\n",
       "75%          2.800000\n",
       "max        100.000000\n",
       "Name: ceiling_height, dtype: float64"
      ]
     },
     "execution_count": 22,
     "metadata": {},
     "output_type": "execute_result"
    }
   ],
   "source": [
    "preprocessing('ceiling_height') #  заполнить пустые поля, изменить высоту потолка здесь\n",
    "(df['ceiling_height']).describe()\n"
   ]
  },
  {
   "cell_type": "markdown",
   "metadata": {},
   "source": [
    "Заполним пропуски медианой, сгруппированной по количеству комнат:"
   ]
  },
  {
   "cell_type": "code",
   "execution_count": 23,
   "metadata": {},
   "outputs": [
    {
     "name": "stdout",
     "output_type": "stream",
     "text": [
      "1.пропуски до изменений:  9195\n",
      "1.пропуски после изменений:  1\n"
     ]
    }
   ],
   "source": [
    "#заполняем значения ceiling_height , равные Nan,\n",
    "#на медиану, рассчитанную по каждой группировке rooms\n",
    "\n",
    "filling_median_group('ceiling_height', 'rooms')"
   ]
  },
  {
   "cell_type": "markdown",
   "metadata": {},
   "source": [
    "После заполнения значений одно осталось незаполненным:"
   ]
  },
  {
   "cell_type": "code",
   "execution_count": 24,
   "metadata": {},
   "outputs": [
    {
     "data": {
      "text/html": [
       "<div>\n",
       "<style scoped>\n",
       "    .dataframe tbody tr th:only-of-type {\n",
       "        vertical-align: middle;\n",
       "    }\n",
       "\n",
       "    .dataframe tbody tr th {\n",
       "        vertical-align: top;\n",
       "    }\n",
       "\n",
       "    .dataframe thead th {\n",
       "        text-align: right;\n",
       "    }\n",
       "</style>\n",
       "<table border=\"1\" class=\"dataframe\">\n",
       "  <thead>\n",
       "    <tr style=\"text-align: right;\">\n",
       "      <th></th>\n",
       "      <th>total_images</th>\n",
       "      <th>last_price</th>\n",
       "      <th>total_area</th>\n",
       "      <th>first_day_exposition</th>\n",
       "      <th>rooms</th>\n",
       "      <th>ceiling_height</th>\n",
       "      <th>floors_total</th>\n",
       "      <th>living_area</th>\n",
       "      <th>floor</th>\n",
       "      <th>is_apartment</th>\n",
       "      <th>...</th>\n",
       "      <th>kitchen_area</th>\n",
       "      <th>balcony</th>\n",
       "      <th>locality_name</th>\n",
       "      <th>airports_nearest</th>\n",
       "      <th>city_centers_nearest</th>\n",
       "      <th>parks_around_3000</th>\n",
       "      <th>parks_nearest</th>\n",
       "      <th>ponds_around_3000</th>\n",
       "      <th>ponds_nearest</th>\n",
       "      <th>days_exposition</th>\n",
       "    </tr>\n",
       "  </thead>\n",
       "  <tbody>\n",
       "    <tr>\n",
       "      <th>14498</th>\n",
       "      <td>6</td>\n",
       "      <td>32250000.0</td>\n",
       "      <td>374.6</td>\n",
       "      <td>2018-06-09</td>\n",
       "      <td>19</td>\n",
       "      <td>NaN</td>\n",
       "      <td>5.0</td>\n",
       "      <td>264.5</td>\n",
       "      <td>2</td>\n",
       "      <td>NaN</td>\n",
       "      <td>...</td>\n",
       "      <td>27.6</td>\n",
       "      <td>NaN</td>\n",
       "      <td>Санкт-Петербург</td>\n",
       "      <td>19497.0</td>\n",
       "      <td>3574.0</td>\n",
       "      <td>0.0</td>\n",
       "      <td>NaN</td>\n",
       "      <td>2.0</td>\n",
       "      <td>548.0</td>\n",
       "      <td>114.0</td>\n",
       "    </tr>\n",
       "  </tbody>\n",
       "</table>\n",
       "<p>1 rows × 22 columns</p>\n",
       "</div>"
      ],
      "text/plain": [
       "       total_images  last_price  total_area first_day_exposition  rooms  \\\n",
       "14498             6  32250000.0       374.6           2018-06-09     19   \n",
       "\n",
       "       ceiling_height  floors_total  living_area  floor is_apartment  ...  \\\n",
       "14498             NaN           5.0        264.5      2          NaN  ...   \n",
       "\n",
       "       kitchen_area  balcony    locality_name  airports_nearest  \\\n",
       "14498          27.6      NaN  Санкт-Петербург           19497.0   \n",
       "\n",
       "      city_centers_nearest  parks_around_3000  parks_nearest  \\\n",
       "14498               3574.0                0.0            NaN   \n",
       "\n",
       "       ponds_around_3000  ponds_nearest  days_exposition  \n",
       "14498                2.0          548.0            114.0  \n",
       "\n",
       "[1 rows x 22 columns]"
      ]
     },
     "execution_count": 24,
     "metadata": {},
     "output_type": "execute_result"
    }
   ],
   "source": [
    "df.query('ceiling_height.isna()')"
   ]
  },
  {
   "cell_type": "markdown",
   "metadata": {},
   "source": [
    "Т.к. значения заполнялись медианами, сгруппированными по кол-ву комнат, а объект с 19 комнатами -единственный, то медианное значение не рассчитано. Заполним его ручным способом, медианным значением высоты потолка объекта с 16 комнатами."
   ]
  },
  {
   "cell_type": "code",
   "execution_count": 25,
   "metadata": {},
   "outputs": [
    {
     "name": "stdout",
     "output_type": "stream",
     "text": [
      "Пропуски после внесения изменений: 0\n"
     ]
    }
   ],
   "source": [
    "#заполнение значения высоты потолка строки 14498 медианой:\n",
    "df.loc[14498, 'ceiling_height'] = df.loc[df['rooms']==16, 'ceiling_height'].median()\n",
    "print('Пропуски после внесения изменений:', df['ceiling_height'].isna().sum())"
   ]
  },
  {
   "cell_type": "markdown",
   "metadata": {},
   "source": [
    "**Вывод**\n",
    "\n",
    "Пропуски в столбце ceiling_height заполнены пустые значения из расчета медиан в каждой группе объектов, поделенных на число комнат. Причина пропусков- скорее всего незаполнение полей пользователями."
   ]
  },
  {
   "cell_type": "markdown",
   "metadata": {},
   "source": [
    "#### Столбец 'floors_total' \n",
    "\n",
    "Основные характеристики столбца:"
   ]
  },
  {
   "cell_type": "code",
   "execution_count": 26,
   "metadata": {},
   "outputs": [
    {
     "name": "stdout",
     "output_type": "stream",
     "text": [
      "floors_total - всего этажей в доме\n",
      "тип данных float64\n",
      "количество пропусков 86\n",
      "минимальное значение: 1.0 максимальное значение: 60.0\n",
      "уникальные значения: \n",
      " 5.0     5788\n",
      "9.0     3761\n",
      "16.0    1376\n",
      "12.0    1362\n",
      "4.0     1200\n",
      "10.0    1174\n",
      "25.0    1075\n",
      "6.0      914\n",
      "17.0     833\n",
      "3.0      668\n",
      "7.0      592\n",
      "14.0     553\n",
      "18.0     505\n",
      "24.0     469\n",
      "8.0      390\n",
      "2.0      383\n",
      "15.0     365\n",
      "23.0     352\n",
      "19.0     339\n",
      "22.0     286\n",
      "20.0     271\n",
      "13.0     229\n",
      "11.0     203\n",
      "27.0     164\n",
      "21.0     158\n",
      "26.0     124\n",
      "1.0       25\n",
      "35.0      24\n",
      "28.0      21\n",
      "36.0       3\n",
      "34.0       1\n",
      "60.0       1\n",
      "29.0       1\n",
      "33.0       1\n",
      "52.0       1\n",
      "37.0       1\n",
      "Name: floors_total, dtype: int64\n"
     ]
    }
   ],
   "source": [
    "preprocessing('floors_total') "
   ]
  },
  {
   "cell_type": "markdown",
   "metadata": {},
   "source": [
    "Поскольку выяснить количество этажей в доме не представляется возможным, а количество пропусков невелико, удалим пропуски данных этого столбца:"
   ]
  },
  {
   "cell_type": "code",
   "execution_count": 27,
   "metadata": {},
   "outputs": [
    {
     "name": "stdout",
     "output_type": "stream",
     "text": [
      "Пропуски до внеcения изменений: 86\n",
      "Пропуски после внесения изменений: 0\n"
     ]
    }
   ],
   "source": [
    "print('Пропуски до внеcения изменений:', df['floors_total'].isna().sum() )\n",
    "df = df.dropna( subset=['floors_total'])\n",
    "print('Пропуски после внесения изменений:', df['floors_total'].isna().sum() )"
   ]
  },
  {
   "cell_type": "markdown",
   "metadata": {},
   "source": [
    "**Вывод**\n",
    "\n",
    "Ввиду того, что выяснить количество этажей в доме невозможно, строки с пропусками значений в столбце floors_total удалены."
   ]
  },
  {
   "cell_type": "markdown",
   "metadata": {},
   "source": [
    "#### Столбец 'living_area' \n",
    "\n",
    "Основные характеристики столбца:\n",
    "    "
   ]
  },
  {
   "cell_type": "code",
   "execution_count": 28,
   "metadata": {},
   "outputs": [
    {
     "name": "stdout",
     "output_type": "stream",
     "text": [
      "living_area - жилая площадь в квадратных метрах (м²)\n",
      "тип данных float64\n",
      "количество пропусков 1870\n",
      "минимальное значение: 2.0 максимальное значение: 409.7\n",
      "уникальные значения: \n",
      " 18.00     882\n",
      "17.00     674\n",
      "30.00     598\n",
      "16.00     484\n",
      "20.00     481\n",
      "         ... \n",
      "92.10       1\n",
      "94.54       1\n",
      "77.80       1\n",
      "129.00      1\n",
      "42.55       1\n",
      "Name: living_area, Length: 1769, dtype: int64\n"
     ]
    },
    {
     "data": {
      "text/plain": [
       "count    21743.000000\n",
       "mean        34.462781\n",
       "std         22.037433\n",
       "min          2.000000\n",
       "25%         18.600000\n",
       "50%         30.000000\n",
       "75%         42.300000\n",
       "max        409.700000\n",
       "Name: living_area, dtype: float64"
      ]
     },
     "execution_count": 28,
     "metadata": {},
     "output_type": "execute_result"
    }
   ],
   "source": [
    "preprocessing('living_area') \n",
    "(df['living_area']).describe()\n"
   ]
  },
  {
   "cell_type": "markdown",
   "metadata": {},
   "source": [
    "Необходимо заполнить пропуски значений. Используем для заполнения столбец rooms, по группировке уникальных значений которого рассчитаем медиану  living_area. \n"
   ]
  },
  {
   "cell_type": "code",
   "execution_count": 29,
   "metadata": {},
   "outputs": [
    {
     "name": "stdout",
     "output_type": "stream",
     "text": [
      "1.пропуски до изменений:  1870\n",
      "1.пропуски после изменений:  0\n"
     ]
    }
   ],
   "source": [
    "#заполняем значения living_area , равные Nan,\n",
    "#на медиану, рассчитанную по каждой группировке rooms\n",
    "filling_median_group('living_area', 'rooms')"
   ]
  },
  {
   "cell_type": "markdown",
   "metadata": {},
   "source": [
    "Т.к.значения заполнялись медианами и возможны ошибки заполнения, проведем логическую проверку и сравним жилую и общую площадь."
   ]
  },
  {
   "cell_type": "code",
   "execution_count": 30,
   "metadata": {},
   "outputs": [
    {
     "name": "stdout",
     "output_type": "stream",
     "text": [
      "количество логических ошибок: 29\n"
     ]
    }
   ],
   "source": [
    "#логическая проверка : жилая площадь не может быть больше общей.\n",
    "print('количество логических ошибок:', df.query('living_area > total_area')['living_area'].count())"
   ]
  },
  {
   "cell_type": "markdown",
   "metadata": {},
   "source": [
    "Заменим в выявленных столбцах значение жилой площади на значение общей:"
   ]
  },
  {
   "cell_type": "code",
   "execution_count": 31,
   "metadata": {},
   "outputs": [
    {
     "name": "stdout",
     "output_type": "stream",
     "text": [
      "количество логических ошибок после внесения изменений: 0\n"
     ]
    }
   ],
   "source": [
    "#замена значений living_area на total_area методом loc\n",
    "df.loc[df['living_area'] > df['total_area'], 'living_area'] = df.loc[df['living_area'] > \n",
    "                                                              df['total_area'], 'total_area']\n",
    "\n",
    "#проверка внесения изменений:\n",
    "print('количество логических ошибок после внесения изменений:', df.query('living_area > total_area')['living_area'].count())"
   ]
  },
  {
   "cell_type": "markdown",
   "metadata": {},
   "source": [
    "**Вывод**\n",
    "\n",
    "Пропуски столбца living_area заполнены медианными значениями, сгруппированными по количеству комнат (столбец rooms)"
   ]
  },
  {
   "cell_type": "markdown",
   "metadata": {},
   "source": [
    "#### Столбец 'is_apartment' \n",
    "\n",
    "Основные характеристики столбца:"
   ]
  },
  {
   "cell_type": "code",
   "execution_count": 32,
   "metadata": {},
   "outputs": [
    {
     "name": "stdout",
     "output_type": "stream",
     "text": [
      "is_apartment - апартаменты (булев тип)\n",
      "тип данных object\n",
      "количество пропусков 20838\n",
      "уникальные значения: \n",
      " False    2725\n",
      "True       50\n",
      "Name: is_apartment, dtype: int64\n"
     ]
    },
    {
     "data": {
      "text/plain": [
       "count      2775\n",
       "unique        2\n",
       "top       False\n",
       "freq       2725\n",
       "Name: is_apartment, dtype: object"
      ]
     },
     "execution_count": 32,
     "metadata": {},
     "output_type": "execute_result"
    }
   ],
   "source": [
    "preprocessing('is_apartment') \n",
    "(df['is_apartment']).describe()"
   ]
  },
  {
   "cell_type": "markdown",
   "metadata": {},
   "source": [
    "Поскольку в случае, если недвижимость является апартаментами, об этом явно сообщается клиентом, заполним пустые поля значением False:"
   ]
  },
  {
   "cell_type": "code",
   "execution_count": 33,
   "metadata": {},
   "outputs": [
    {
     "name": "stdout",
     "output_type": "stream",
     "text": [
      "Пропусков до замены 20838\n",
      "Пропусков после замены 0\n"
     ]
    }
   ],
   "source": [
    "print('Пропусков до замены', df['is_apartment'].isna().sum())\n",
    "df['is_apartment'] = df['is_apartment'].fillna('False')\n",
    "print('Пропусков после замены', df['is_apartment'].isna().sum())"
   ]
  },
  {
   "cell_type": "markdown",
   "metadata": {},
   "source": [
    "**Вывод**\n",
    "\n",
    "Пустые значения столбца 'is_apartment' заполнены значением 'False'"
   ]
  },
  {
   "cell_type": "markdown",
   "metadata": {},
   "source": [
    "#### Столбец 'open_plan'\n",
    "\n",
    "Основные характеристики столбца: "
   ]
  },
  {
   "cell_type": "code",
   "execution_count": 34,
   "metadata": {},
   "outputs": [
    {
     "name": "stdout",
     "output_type": "stream",
     "text": [
      "open_plan - свободная планировка (булев тип)\n",
      "тип данных bool\n",
      "количество пропусков 0\n",
      "минимальное значение: False максимальное значение: True\n",
      "уникальные значения: \n",
      " False    23546\n",
      "True        67\n",
      "Name: open_plan, dtype: int64\n"
     ]
    },
    {
     "data": {
      "text/plain": [
       "count     23613\n",
       "unique        2\n",
       "top       False\n",
       "freq      23546\n",
       "Name: open_plan, dtype: object"
      ]
     },
     "execution_count": 34,
     "metadata": {},
     "output_type": "execute_result"
    }
   ],
   "source": [
    "preprocessing('open_plan') # все ок\n",
    "(df['open_plan']).describe()"
   ]
  },
  {
   "cell_type": "markdown",
   "metadata": {},
   "source": [
    "**Вывод**\n",
    "\n",
    "\n",
    "Ошибки и пропуски в значениях столбца 'open_plan' не выявлены."
   ]
  },
  {
   "cell_type": "markdown",
   "metadata": {},
   "source": [
    "#### Столбец 'kitchen_area ' \n",
    "\n",
    "Основные характеристики столбца: "
   ]
  },
  {
   "cell_type": "code",
   "execution_count": 35,
   "metadata": {},
   "outputs": [
    {
     "name": "stdout",
     "output_type": "stream",
     "text": [
      "kitchen_area - площадь кухни в квадратных метрах (м²)\n",
      "тип данных float64\n",
      "количество пропусков 2231\n",
      "минимальное значение: 1.3 максимальное значение: 112.0\n",
      "уникальные значения: \n",
      " 6.00     1300\n",
      "10.00    1262\n",
      "8.00     1110\n",
      "9.00     1100\n",
      "7.00     1062\n",
      "         ... \n",
      "20.56       1\n",
      "53.10       1\n",
      "12.56       1\n",
      "11.84       1\n",
      "13.83       1\n",
      "Name: kitchen_area, Length: 966, dtype: int64\n"
     ]
    },
    {
     "data": {
      "text/plain": [
       "count    21382.000000\n",
       "mean        10.564128\n",
       "std          5.904316\n",
       "min          1.300000\n",
       "25%          7.000000\n",
       "50%          9.100000\n",
       "75%         12.000000\n",
       "max        112.000000\n",
       "Name: kitchen_area, dtype: float64"
      ]
     },
     "execution_count": 35,
     "metadata": {},
     "output_type": "execute_result"
    }
   ],
   "source": [
    "preprocessing('kitchen_area') \n",
    "(df['kitchen_area']).describe()"
   ]
  },
  {
   "cell_type": "markdown",
   "metadata": {},
   "source": [
    "Необходимо заполнить пропуски значений. Т.к. в столбце living_area также содержатся пропуски, будем использовать для заполнения столбец rooms, по группировке уникальных значений которого рассчитаем медиану  kitchen_area. \n"
   ]
  },
  {
   "cell_type": "code",
   "execution_count": 36,
   "metadata": {
    "scrolled": true
   },
   "outputs": [
    {
     "name": "stdout",
     "output_type": "stream",
     "text": [
      "1.пропуски до изменений:  2231\n",
      "1.пропуски после изменений:  205\n"
     ]
    }
   ],
   "source": [
    "#заполняем значения ceiling_height , равные Nan,\n",
    "#на медиану, рассчитанную по каждой группировке rooms\n",
    "\n",
    "filling_median_group('kitchen_area', 'rooms')"
   ]
  },
  {
   "cell_type": "markdown",
   "metadata": {},
   "source": [
    "В наборе незаполненных данных- студии и квартиры со свободной планировкой, в которых данных по кухням отсутствует, а кол-во комнат =0. "
   ]
  },
  {
   "cell_type": "code",
   "execution_count": 37,
   "metadata": {},
   "outputs": [
    {
     "name": "stdout",
     "output_type": "stream",
     "text": [
      "свободная планировка False    146\n",
      "True      59\n",
      "Name: open_plan, dtype: int64\n",
      "студия True     146\n",
      "False     59\n",
      "Name: studio, dtype: int64\n"
     ]
    }
   ],
   "source": [
    "print('свободная планировка',df.query('kitchen_area.isna()')['open_plan'].value_counts())\n",
    "print('студия',df.query('kitchen_area.isna()')['studio'].value_counts())\n"
   ]
  },
  {
   "cell_type": "markdown",
   "metadata": {},
   "source": [
    "Заполним пропуски значений общей медианой по всему набору данных:"
   ]
  },
  {
   "cell_type": "code",
   "execution_count": 38,
   "metadata": {},
   "outputs": [
    {
     "name": "stdout",
     "output_type": "stream",
     "text": [
      "1.пропуски до изменений:  205\n"
     ]
    },
    {
     "ename": "KeyError",
     "evalue": "'[8.3, 9.5, 9.1, 14.4, 18.9, 8.81, 6.5, 8.5, 5.2, 7.6, 5.6, 5.7, 6.1, 19.6, 9.2, 11.7, 13.4, 6.3, 8.7, 11.6, 8.8, 17.6, 7.5, 15.5, 10.7, 11.1, 11.9, 5.3, 11.5, 7.2, 6.2, 10.4, 7.1, 4.9, 7.3, 11.95, 10.2, 6.4, 5.5, 8.4, 23.6, 10.8, 18.3, 8.2, 23.8, 6.6, 26.85, 15.4, nan, 7.8, 33.8, 5.4, 12.72, 12.2, 11.05, 12.4, 7.9, 10.3, 9.8, 17.5, 14.7, 20.91, 21.3, 10.6, 10.9, 9.7, 7.7, 12.5, 11.4, 8.6, 11.24, 14.1, 15.7, 13.29, 12.9, 12.7, 16.5, 9.36, 21.5, 10.5, 19.3, 21.4, 49.2, 11.52, 8.9, 9.6, 14.2, 8.1, 10.44, 4.5, 16.3, 11.2, 18.4, 7.4, 11.3, 9.4, 13.1, 10.19, 7.06, 5.1, 18.7, 9.9, 14.3, 19.4, 11.8, 13.3, 17.7, 23.1, 21.1, 11.33, 13.5, 19.5, 13.2, 17.2, 13.8, 12.3, 9.3, 5.8, 26.1, 12.88, 9.28, 16.1, 14.5, 5.9, 10.1, 23.4, 16.2, 19.2, 28.6, 15.1, 26.4, 8.98, 10.59, 17.9, 11.27, 16.74, 9.57, 23.43, 15.2, 8.07, 12.24, 13.39, 36.6, 10.84, 15.3, 18.5, 23.9, 19.7, 19.9, 22.1, 10.35, 10.69, 16.9, 5.49, 31.2, 6.8, 8.29, 6.7, 13.6, 16.6, 10.75, 18.8, 17.8, 6.77, 11.06, 12.6, 7.71, 11.35, 13.31, 20.6, 11.78, 20.5, 13.79, 20.52, 5.75, 18.78, 23.5, 24.3, 6.9, 14.8, 8.87, 14.9, 8.71, 9.95, 17.53, 42.6, 25.2, 8.31, 9.67, 16.7, 14.61, 22.4, 16.4, 6.36, 17.1, 13.14, 18.2, 9.18, 13.7, 15.61, 22.31, 9.45, 14.49, 5.35, 29.9, 25.1, 8.08, 13.11, 6.25, 35.35, 12.8, 30.2, 10.09, 32.1, 11.29, 14.56, 11.11, 11.49, 13.67, 16.72, 24.5, 11.14, 20.9, 14.84, 8.21, 12.18, 25.34, 9.25, 8.65, 13.9, 13.53, 15.09, 9.39, 18.6, 15.9, 24.7, 12.35, 20.8, 27.4, 7.17, 8.23, 24.03, 9.17, 10.45, 11.39, 19.92, 20.2, 10.72, 20.07, 11.81, 18.45, 10.51, 10.91, 6.73, 11.85, 37.8, 4.8, 100.7, 21.6, 5.78, 12.1, 11.28, 9.97, 10.68, 21.2, 10.56, 9.68, 8.25, 4.7, 17.4, 19.75, 10.02, 40.2, 11.62, 14.6, 11.71, 13.69, 18.1, 22.22, 17.3, 6.35, 23.3, 10.88, 6.76, 16.8, 10.29, 11.63, 25.6, 19.1, 15.6, 21.87, 3.2, 12.27, 10.39, 10.89, 11.53, 5.68, 10.55, 3.8, 36.2, 9.22, 5.62, 21.9, 12.17, 19.8, 4.2, 21.7, 12.38, 11.46, 7.89, 31.7, 24.4, 14.57, 30.9, 10.15, 12.05, 9.27, 15.33, 6.58, 9.93, 35.05, 25.3, 28.8, 13.05, 29.4, 36.5, 7.92, 15.8, 15.69, 7.85, 13.16, 12.86, 30.5, 29.3, 9.32, 5.74, 11.26, 13.38, 14.31, 26.6, 6.55, 10.52, 6.72, 13.02, 11.17, 56.2, 12.52, 28.2, 12.29, 11.59, 8.38, 5.47, 10.18, 10.64, 18.88, 9.89, 36.3, 12.92, 23.53, 37.7, 10.36, 14.05, 9.04, 10.78, 14.24, 13.42, 32.8, 20.16, 10.12, 7.12, 17.64, 23.25, 11.41, 11.42, 40.4, 31.47, 13.55, 13.28, 14.55, 9.38, 8.32, 11.55, 13.81, 24.1, 11.51, 7.65, 9.91, 16.83, 11.34, 11.16, 18.34, 34.19, 6.02, 18.07, 20.1, 12.08, 7.18, 8.11, 8.05, 8.06, 12.96, 42.4, 8.93, 44.9, 10.62, 9.72, 22.5, 11.18, 10.22, 21.8, 10.94, 13.49, 31.73, 25.7, 5.86, 7.63, 11.47, 13.25, 22.2, 19.35, 17.28, 14.04, 39.9, 21.76, 4.3, 10.06, 8.19, 28.4, 22.7, 14.74, 11.12, 25.11, 14.02, 13.06, 8.01, 20.38, 5.53, 46.8, 11.31, 17.85, 20.7, 34.78, 9.46, 6.31, 42.5, 9.48, 43.4, 11.57, 12.44, 14.46, 12.58, 12.47, 7.95, 16.32, 15.26, 12.23, 11.37, 27.9, 8.58, 19.51, 12.39, 9.65, 9.05, 6.84, 20.3, 26.5, 63.4, 41.9, 6.82, 11.36, 10.08, 10.54, 9.16, 14.95, 12.84, 22.9, 8.76, 10.03, 9.35, 7.87, 2.89, 45.5, 7.36, 24.9, 9.59, 7.97, 9.85, 33.9, 42.8, 7.86, 5.25, 10.26, 5.33, 12.85, 9.51, 58.4, 10.34, 23.71, 19.42, 6.83, 11.92, 13.17, 11.84, 12.56, 53.1, 20.56, 41.3, 9.01, 8.73, 5.82, 3.7, 2.4, 31.8, 42.7, 40.5, 12.02, 8.57, 12.76, 8.66, 11.04, 40.3, 15.83, 18.59, 9.37, 23.38, 10.42, 13.93, 7.54, 23.42, 13.64, 5.61, 19.45, 17.59, 29.1, 5.65, 15.42, 11.09, 11.73, 15.72, 25.4, 10.25, 10.38, 13.41, 5.23, 9.09, 11.45, 11.74, 14.64, 12.14, 8.84, 16.66, 10.27, 12.55, 32.55, 16.26, 6.62, 10.33, 13.26, 32.3, 23.2, 14.14, 9.62, 10.92, 10.58, 22.8, 15.85, 7.78, 8.94, 9.82, 34.7, 8.45, 15.62, 22.3, 14.17, 15.39, 8.43, 87.2, 12.66, 8.35, 8.47, 22.72, 9.52, 28.1, 14.97, 4.6, 5.29, 10.49, 15.07, 20.31, 23.28, 8.54, 30.59, 27.57, 9.71, 28.63, 9.98, 37.9, 6.91, 25.9, 51.8, 14.27, 40.7, 19.61, 9.44, 27.76, 25.86, 36.4, 15.78, 10.05, 26.2, 10.32, 19.39, 9.77, 29.5, 13.73, 10.71, 10.73, 3.5, 13.84, 6.19, 28.5, 16.25, 13.47, 4.4, 43.2, 27.5, 11.67, 44.7, 12.57, 16.27, 6.28, 12.01, 37.6, 13.35, 3.4, 8.61, 8.96, 34.8, 27.3, 10.24, 8.15, 35.5, 4.1, 10.43, 16.46, 7.19, 34.3, 48.5, 30.6, 17.55, 10.74, 13.24, 5.91, 9.43, 20.92, 8.13, 33.1, 10.37, 16.77, 6.27, 26.8, 12.37, 22.6, 33.6, 16.92, 15.54, 6.23, 15.35, 37.5, 21.82, 7.94, 34.1, 9.76, 6.03, 15.55, 8.44, 43.8, 29.09, 18.93, 12.75, 6.33, 24.8, 5.64, 22.43, 39.1, 27.6, 7.48, 32.7, 5.44, 6.22, 7.41, 27.1, 17.06, 34.51, 6.26, 35.6, 9.83, 54.3, 28.7, 3.3, 13.63, 62.5, 10.47, 11.87, 28.3, 11.25, 5.42, 18.25, 8.82, 9.58, 5.04, 13.52, 11.44, 8.48, 13.21, 8.03, 16.89, 26.9, 35.4, 13.95, 14.72, 9.34, 37.78, 23.7, 29.8, 6.95, 16.05, 11.65, 38.1, 10.99, 10.86, 8.85, 14.65, 9.24, 16.45, 7.84, 93.2, 9.79, 7.03, 17.12, 5.28, 12.53, 14.51, 9.31, 31.6, 6.86, 11.07, 14.06, 6.93, 15.15, 32.9, 8.34, 55.7, 24.89, 35.9, 22.78, 16.47, 38.86, 18.16, 8.69, 25.5, 22.46, 13.74, 54.2, 19.21, 31.5, 12.11, 11.98, 10.17, 10.63, 35.7, 12.71, 2.3, 16.07, 9.42, 20.77, 28.64, 13.86, 10.01, 24.2, 12.45, 12.87, 14.33, 12.15, 39.7, 5.06, 14.29, 14.43, 25.02, 8.52, 11.56, 12.89, 8.63, 13.32, 16.42, 5.31, 27.2, 9.26, 14.93, 31.4, 9.06, 6.61, 20.4, 6.65, 19.19, 20.24, 13.77, 6.37, 14.58, 9.19, 8.67, 21.22, 13.58, 12.03, 10.87, 19.28, 16.48, 32.6, 9.08, 12.69, 8.09, 5.21, 12.83, 11.64, 1.3, 55.5, 48.3, 9.11, 21.53, 29.86, 28.52, 15.43, 15.57, 13.43, 19.94, 8.77, 50.2, 15.03, 16.38, 13.33, 12.43, 17.61, 9.66, 12.32, 24.6, 6.47, 41.1, 8.12, 21.25, 41.6, 49.4, 12.25, 28.56, 11.69, 14.85, 15.18, 8.02, 11.22, 8.95, 34.6, 29.2, 9.73, 10.46, 26.7, 29.7, 32.4, 12.93, 12.63, 15.24, 8.18, 22.15, 11.43, 7.02, 11.93, 7.09, 6.16, 7.15, 13.65, 10.79, 14.98, 34.4, 5.14, 9.75, 5.59, 35.1, 13.04, 10.95, 16.03, 9.13, 17.44, 40.1, 5.85, 6.24, 21.74, 31.3, 30.8, 16.88, 21.55, 18.55, 17.87, 13.83] not in index'",
     "output_type": "error",
     "traceback": [
      "\u001b[1;31m---------------------------------------------------------------------------\u001b[0m",
      "\u001b[1;31mKeyError\u001b[0m                                  Traceback (most recent call last)",
      "Input \u001b[1;32mIn [38]\u001b[0m, in \u001b[0;36m<cell line: 4>\u001b[1;34m()\u001b[0m\n\u001b[0;32m      1\u001b[0m \u001b[38;5;66;03m#заполняем значения kitchen_area , равные Nan,\u001b[39;00m\n\u001b[0;32m      2\u001b[0m \u001b[38;5;66;03m#на медиану по всему набору данных\u001b[39;00m\n\u001b[1;32m----> 4\u001b[0m \u001b[43mfilling_median\u001b[49m\u001b[43m(\u001b[49m\u001b[38;5;124;43m'\u001b[39;49m\u001b[38;5;124;43mkitchen_area\u001b[39;49m\u001b[38;5;124;43m'\u001b[39;49m\u001b[43m)\u001b[49m\n",
      "Input \u001b[1;32mIn [11]\u001b[0m, in \u001b[0;36mfilling_median\u001b[1;34m(col_na)\u001b[0m\n\u001b[0;32m      4\u001b[0m \u001b[38;5;28;01mdef\u001b[39;00m \u001b[38;5;21mfilling_median\u001b[39m (col_na):\n\u001b[0;32m      5\u001b[0m     \u001b[38;5;28mprint\u001b[39m(\u001b[38;5;124m'\u001b[39m\u001b[38;5;124m1.пропуски до изменений: \u001b[39m\u001b[38;5;124m'\u001b[39m, df[col_na]\u001b[38;5;241m.\u001b[39misna()\u001b[38;5;241m.\u001b[39msum())\n\u001b[1;32m----> 6\u001b[0m     df\u001b[38;5;241m.\u001b[39mloc[df[col_na]\u001b[38;5;241m.\u001b[39misna() ,col_na] \u001b[38;5;241m=\u001b[39m \u001b[43mdf\u001b[49m\u001b[38;5;241;43m.\u001b[39;49m\u001b[43mloc\u001b[49m\u001b[43m[\u001b[49m\u001b[43mdf\u001b[49m\u001b[43m[\u001b[49m\u001b[43mcol_na\u001b[49m\u001b[43m]\u001b[49m\u001b[43m \u001b[49m\u001b[43m,\u001b[49m\u001b[43mcol_na\u001b[49m\u001b[43m]\u001b[49m\u001b[38;5;241m.\u001b[39mmedian()\n\u001b[0;32m      7\u001b[0m     \u001b[38;5;28mprint\u001b[39m(\u001b[38;5;124m'\u001b[39m\u001b[38;5;124m1.пропуски после изменений: \u001b[39m\u001b[38;5;124m'\u001b[39m, df[col_na]\u001b[38;5;241m.\u001b[39misna()\u001b[38;5;241m.\u001b[39msum())\n",
      "File \u001b[1;32mC:\\python\\lib\\site-packages\\pandas\\core\\indexing.py:961\u001b[0m, in \u001b[0;36m_LocationIndexer.__getitem__\u001b[1;34m(self, key)\u001b[0m\n\u001b[0;32m    959\u001b[0m     \u001b[38;5;28;01mif\u001b[39;00m \u001b[38;5;28mself\u001b[39m\u001b[38;5;241m.\u001b[39m_is_scalar_access(key):\n\u001b[0;32m    960\u001b[0m         \u001b[38;5;28;01mreturn\u001b[39;00m \u001b[38;5;28mself\u001b[39m\u001b[38;5;241m.\u001b[39mobj\u001b[38;5;241m.\u001b[39m_get_value(\u001b[38;5;241m*\u001b[39mkey, takeable\u001b[38;5;241m=\u001b[39m\u001b[38;5;28mself\u001b[39m\u001b[38;5;241m.\u001b[39m_takeable)\n\u001b[1;32m--> 961\u001b[0m     \u001b[38;5;28;01mreturn\u001b[39;00m \u001b[38;5;28;43mself\u001b[39;49m\u001b[38;5;241;43m.\u001b[39;49m\u001b[43m_getitem_tuple\u001b[49m\u001b[43m(\u001b[49m\u001b[43mkey\u001b[49m\u001b[43m)\u001b[49m\n\u001b[0;32m    962\u001b[0m \u001b[38;5;28;01melse\u001b[39;00m:\n\u001b[0;32m    963\u001b[0m     \u001b[38;5;66;03m# we by definition only have the 0th axis\u001b[39;00m\n\u001b[0;32m    964\u001b[0m     axis \u001b[38;5;241m=\u001b[39m \u001b[38;5;28mself\u001b[39m\u001b[38;5;241m.\u001b[39maxis \u001b[38;5;129;01mor\u001b[39;00m \u001b[38;5;241m0\u001b[39m\n",
      "File \u001b[1;32mC:\\python\\lib\\site-packages\\pandas\\core\\indexing.py:1140\u001b[0m, in \u001b[0;36m_LocIndexer._getitem_tuple\u001b[1;34m(self, tup)\u001b[0m\n\u001b[0;32m   1138\u001b[0m \u001b[38;5;28;01mwith\u001b[39;00m suppress(IndexingError):\n\u001b[0;32m   1139\u001b[0m     tup \u001b[38;5;241m=\u001b[39m \u001b[38;5;28mself\u001b[39m\u001b[38;5;241m.\u001b[39m_expand_ellipsis(tup)\n\u001b[1;32m-> 1140\u001b[0m     \u001b[38;5;28;01mreturn\u001b[39;00m \u001b[38;5;28;43mself\u001b[39;49m\u001b[38;5;241;43m.\u001b[39;49m\u001b[43m_getitem_lowerdim\u001b[49m\u001b[43m(\u001b[49m\u001b[43mtup\u001b[49m\u001b[43m)\u001b[49m\n\u001b[0;32m   1142\u001b[0m \u001b[38;5;66;03m# no multi-index, so validate all of the indexers\u001b[39;00m\n\u001b[0;32m   1143\u001b[0m tup \u001b[38;5;241m=\u001b[39m \u001b[38;5;28mself\u001b[39m\u001b[38;5;241m.\u001b[39m_validate_tuple_indexer(tup)\n",
      "File \u001b[1;32mC:\\python\\lib\\site-packages\\pandas\\core\\indexing.py:891\u001b[0m, in \u001b[0;36m_LocationIndexer._getitem_lowerdim\u001b[1;34m(self, tup)\u001b[0m\n\u001b[0;32m    889\u001b[0m             \u001b[38;5;28;01mreturn\u001b[39;00m section\n\u001b[0;32m    890\u001b[0m         \u001b[38;5;66;03m# This is an elided recursive call to iloc/loc\u001b[39;00m\n\u001b[1;32m--> 891\u001b[0m         \u001b[38;5;28;01mreturn\u001b[39;00m \u001b[38;5;28;43mgetattr\u001b[39;49m\u001b[43m(\u001b[49m\u001b[43msection\u001b[49m\u001b[43m,\u001b[49m\u001b[43m \u001b[49m\u001b[38;5;28;43mself\u001b[39;49m\u001b[38;5;241;43m.\u001b[39;49m\u001b[43mname\u001b[49m\u001b[43m)\u001b[49m\u001b[43m[\u001b[49m\u001b[43mnew_key\u001b[49m\u001b[43m]\u001b[49m\n\u001b[0;32m    893\u001b[0m \u001b[38;5;28;01mraise\u001b[39;00m IndexingError(\u001b[38;5;124m\"\u001b[39m\u001b[38;5;124mnot applicable\u001b[39m\u001b[38;5;124m\"\u001b[39m)\n",
      "File \u001b[1;32mC:\\python\\lib\\site-packages\\pandas\\core\\indexing.py:967\u001b[0m, in \u001b[0;36m_LocationIndexer.__getitem__\u001b[1;34m(self, key)\u001b[0m\n\u001b[0;32m    964\u001b[0m axis \u001b[38;5;241m=\u001b[39m \u001b[38;5;28mself\u001b[39m\u001b[38;5;241m.\u001b[39maxis \u001b[38;5;129;01mor\u001b[39;00m \u001b[38;5;241m0\u001b[39m\n\u001b[0;32m    966\u001b[0m maybe_callable \u001b[38;5;241m=\u001b[39m com\u001b[38;5;241m.\u001b[39mapply_if_callable(key, \u001b[38;5;28mself\u001b[39m\u001b[38;5;241m.\u001b[39mobj)\n\u001b[1;32m--> 967\u001b[0m \u001b[38;5;28;01mreturn\u001b[39;00m \u001b[38;5;28;43mself\u001b[39;49m\u001b[38;5;241;43m.\u001b[39;49m\u001b[43m_getitem_axis\u001b[49m\u001b[43m(\u001b[49m\u001b[43mmaybe_callable\u001b[49m\u001b[43m,\u001b[49m\u001b[43m \u001b[49m\u001b[43maxis\u001b[49m\u001b[38;5;241;43m=\u001b[39;49m\u001b[43maxis\u001b[49m\u001b[43m)\u001b[49m\n",
      "File \u001b[1;32mC:\\python\\lib\\site-packages\\pandas\\core\\indexing.py:1191\u001b[0m, in \u001b[0;36m_LocIndexer._getitem_axis\u001b[1;34m(self, key, axis)\u001b[0m\n\u001b[0;32m   1188\u001b[0m     \u001b[38;5;28;01mif\u001b[39;00m \u001b[38;5;28mhasattr\u001b[39m(key, \u001b[38;5;124m\"\u001b[39m\u001b[38;5;124mndim\u001b[39m\u001b[38;5;124m\"\u001b[39m) \u001b[38;5;129;01mand\u001b[39;00m key\u001b[38;5;241m.\u001b[39mndim \u001b[38;5;241m>\u001b[39m \u001b[38;5;241m1\u001b[39m:\n\u001b[0;32m   1189\u001b[0m         \u001b[38;5;28;01mraise\u001b[39;00m \u001b[38;5;167;01mValueError\u001b[39;00m(\u001b[38;5;124m\"\u001b[39m\u001b[38;5;124mCannot index with multidimensional key\u001b[39m\u001b[38;5;124m\"\u001b[39m)\n\u001b[1;32m-> 1191\u001b[0m     \u001b[38;5;28;01mreturn\u001b[39;00m \u001b[38;5;28;43mself\u001b[39;49m\u001b[38;5;241;43m.\u001b[39;49m\u001b[43m_getitem_iterable\u001b[49m\u001b[43m(\u001b[49m\u001b[43mkey\u001b[49m\u001b[43m,\u001b[49m\u001b[43m \u001b[49m\u001b[43maxis\u001b[49m\u001b[38;5;241;43m=\u001b[39;49m\u001b[43maxis\u001b[49m\u001b[43m)\u001b[49m\n\u001b[0;32m   1193\u001b[0m \u001b[38;5;66;03m# nested tuple slicing\u001b[39;00m\n\u001b[0;32m   1194\u001b[0m \u001b[38;5;28;01mif\u001b[39;00m is_nested_tuple(key, labels):\n",
      "File \u001b[1;32mC:\\python\\lib\\site-packages\\pandas\\core\\indexing.py:1132\u001b[0m, in \u001b[0;36m_LocIndexer._getitem_iterable\u001b[1;34m(self, key, axis)\u001b[0m\n\u001b[0;32m   1129\u001b[0m \u001b[38;5;28mself\u001b[39m\u001b[38;5;241m.\u001b[39m_validate_key(key, axis)\n\u001b[0;32m   1131\u001b[0m \u001b[38;5;66;03m# A collection of keys\u001b[39;00m\n\u001b[1;32m-> 1132\u001b[0m keyarr, indexer \u001b[38;5;241m=\u001b[39m \u001b[38;5;28;43mself\u001b[39;49m\u001b[38;5;241;43m.\u001b[39;49m\u001b[43m_get_listlike_indexer\u001b[49m\u001b[43m(\u001b[49m\u001b[43mkey\u001b[49m\u001b[43m,\u001b[49m\u001b[43m \u001b[49m\u001b[43maxis\u001b[49m\u001b[43m)\u001b[49m\n\u001b[0;32m   1133\u001b[0m \u001b[38;5;28;01mreturn\u001b[39;00m \u001b[38;5;28mself\u001b[39m\u001b[38;5;241m.\u001b[39mobj\u001b[38;5;241m.\u001b[39m_reindex_with_indexers(\n\u001b[0;32m   1134\u001b[0m     {axis: [keyarr, indexer]}, copy\u001b[38;5;241m=\u001b[39m\u001b[38;5;28;01mTrue\u001b[39;00m, allow_dups\u001b[38;5;241m=\u001b[39m\u001b[38;5;28;01mTrue\u001b[39;00m\n\u001b[0;32m   1135\u001b[0m )\n",
      "File \u001b[1;32mC:\\python\\lib\\site-packages\\pandas\\core\\indexing.py:1327\u001b[0m, in \u001b[0;36m_LocIndexer._get_listlike_indexer\u001b[1;34m(self, key, axis)\u001b[0m\n\u001b[0;32m   1324\u001b[0m ax \u001b[38;5;241m=\u001b[39m \u001b[38;5;28mself\u001b[39m\u001b[38;5;241m.\u001b[39mobj\u001b[38;5;241m.\u001b[39m_get_axis(axis)\n\u001b[0;32m   1325\u001b[0m axis_name \u001b[38;5;241m=\u001b[39m \u001b[38;5;28mself\u001b[39m\u001b[38;5;241m.\u001b[39mobj\u001b[38;5;241m.\u001b[39m_get_axis_name(axis)\n\u001b[1;32m-> 1327\u001b[0m keyarr, indexer \u001b[38;5;241m=\u001b[39m \u001b[43max\u001b[49m\u001b[38;5;241;43m.\u001b[39;49m\u001b[43m_get_indexer_strict\u001b[49m\u001b[43m(\u001b[49m\u001b[43mkey\u001b[49m\u001b[43m,\u001b[49m\u001b[43m \u001b[49m\u001b[43maxis_name\u001b[49m\u001b[43m)\u001b[49m\n\u001b[0;32m   1329\u001b[0m \u001b[38;5;28;01mreturn\u001b[39;00m keyarr, indexer\n",
      "File \u001b[1;32mC:\\python\\lib\\site-packages\\pandas\\core\\indexes\\base.py:5782\u001b[0m, in \u001b[0;36mIndex._get_indexer_strict\u001b[1;34m(self, key, axis_name)\u001b[0m\n\u001b[0;32m   5779\u001b[0m \u001b[38;5;28;01melse\u001b[39;00m:\n\u001b[0;32m   5780\u001b[0m     keyarr, indexer, new_indexer \u001b[38;5;241m=\u001b[39m \u001b[38;5;28mself\u001b[39m\u001b[38;5;241m.\u001b[39m_reindex_non_unique(keyarr)\n\u001b[1;32m-> 5782\u001b[0m \u001b[38;5;28;43mself\u001b[39;49m\u001b[38;5;241;43m.\u001b[39;49m\u001b[43m_raise_if_missing\u001b[49m\u001b[43m(\u001b[49m\u001b[43mkeyarr\u001b[49m\u001b[43m,\u001b[49m\u001b[43m \u001b[49m\u001b[43mindexer\u001b[49m\u001b[43m,\u001b[49m\u001b[43m \u001b[49m\u001b[43maxis_name\u001b[49m\u001b[43m)\u001b[49m\n\u001b[0;32m   5784\u001b[0m keyarr \u001b[38;5;241m=\u001b[39m \u001b[38;5;28mself\u001b[39m\u001b[38;5;241m.\u001b[39mtake(indexer)\n\u001b[0;32m   5785\u001b[0m \u001b[38;5;28;01mif\u001b[39;00m \u001b[38;5;28misinstance\u001b[39m(key, Index):\n\u001b[0;32m   5786\u001b[0m     \u001b[38;5;66;03m# GH 42790 - Preserve name from an Index\u001b[39;00m\n",
      "File \u001b[1;32mC:\\python\\lib\\site-packages\\pandas\\core\\indexes\\base.py:5845\u001b[0m, in \u001b[0;36mIndex._raise_if_missing\u001b[1;34m(self, key, indexer, axis_name)\u001b[0m\n\u001b[0;32m   5842\u001b[0m     \u001b[38;5;28;01mraise\u001b[39;00m \u001b[38;5;167;01mKeyError\u001b[39;00m(\u001b[38;5;124mf\u001b[39m\u001b[38;5;124m\"\u001b[39m\u001b[38;5;124mNone of [\u001b[39m\u001b[38;5;132;01m{\u001b[39;00mkey\u001b[38;5;132;01m}\u001b[39;00m\u001b[38;5;124m] are in the [\u001b[39m\u001b[38;5;132;01m{\u001b[39;00maxis_name\u001b[38;5;132;01m}\u001b[39;00m\u001b[38;5;124m]\u001b[39m\u001b[38;5;124m\"\u001b[39m)\n\u001b[0;32m   5844\u001b[0m not_found \u001b[38;5;241m=\u001b[39m \u001b[38;5;28mlist\u001b[39m(ensure_index(key)[missing_mask\u001b[38;5;241m.\u001b[39mnonzero()[\u001b[38;5;241m0\u001b[39m]]\u001b[38;5;241m.\u001b[39munique())\n\u001b[1;32m-> 5845\u001b[0m \u001b[38;5;28;01mraise\u001b[39;00m \u001b[38;5;167;01mKeyError\u001b[39;00m(\u001b[38;5;124mf\u001b[39m\u001b[38;5;124m\"\u001b[39m\u001b[38;5;132;01m{\u001b[39;00mnot_found\u001b[38;5;132;01m}\u001b[39;00m\u001b[38;5;124m not in index\u001b[39m\u001b[38;5;124m\"\u001b[39m)\n",
      "\u001b[1;31mKeyError\u001b[0m: '[8.3, 9.5, 9.1, 14.4, 18.9, 8.81, 6.5, 8.5, 5.2, 7.6, 5.6, 5.7, 6.1, 19.6, 9.2, 11.7, 13.4, 6.3, 8.7, 11.6, 8.8, 17.6, 7.5, 15.5, 10.7, 11.1, 11.9, 5.3, 11.5, 7.2, 6.2, 10.4, 7.1, 4.9, 7.3, 11.95, 10.2, 6.4, 5.5, 8.4, 23.6, 10.8, 18.3, 8.2, 23.8, 6.6, 26.85, 15.4, nan, 7.8, 33.8, 5.4, 12.72, 12.2, 11.05, 12.4, 7.9, 10.3, 9.8, 17.5, 14.7, 20.91, 21.3, 10.6, 10.9, 9.7, 7.7, 12.5, 11.4, 8.6, 11.24, 14.1, 15.7, 13.29, 12.9, 12.7, 16.5, 9.36, 21.5, 10.5, 19.3, 21.4, 49.2, 11.52, 8.9, 9.6, 14.2, 8.1, 10.44, 4.5, 16.3, 11.2, 18.4, 7.4, 11.3, 9.4, 13.1, 10.19, 7.06, 5.1, 18.7, 9.9, 14.3, 19.4, 11.8, 13.3, 17.7, 23.1, 21.1, 11.33, 13.5, 19.5, 13.2, 17.2, 13.8, 12.3, 9.3, 5.8, 26.1, 12.88, 9.28, 16.1, 14.5, 5.9, 10.1, 23.4, 16.2, 19.2, 28.6, 15.1, 26.4, 8.98, 10.59, 17.9, 11.27, 16.74, 9.57, 23.43, 15.2, 8.07, 12.24, 13.39, 36.6, 10.84, 15.3, 18.5, 23.9, 19.7, 19.9, 22.1, 10.35, 10.69, 16.9, 5.49, 31.2, 6.8, 8.29, 6.7, 13.6, 16.6, 10.75, 18.8, 17.8, 6.77, 11.06, 12.6, 7.71, 11.35, 13.31, 20.6, 11.78, 20.5, 13.79, 20.52, 5.75, 18.78, 23.5, 24.3, 6.9, 14.8, 8.87, 14.9, 8.71, 9.95, 17.53, 42.6, 25.2, 8.31, 9.67, 16.7, 14.61, 22.4, 16.4, 6.36, 17.1, 13.14, 18.2, 9.18, 13.7, 15.61, 22.31, 9.45, 14.49, 5.35, 29.9, 25.1, 8.08, 13.11, 6.25, 35.35, 12.8, 30.2, 10.09, 32.1, 11.29, 14.56, 11.11, 11.49, 13.67, 16.72, 24.5, 11.14, 20.9, 14.84, 8.21, 12.18, 25.34, 9.25, 8.65, 13.9, 13.53, 15.09, 9.39, 18.6, 15.9, 24.7, 12.35, 20.8, 27.4, 7.17, 8.23, 24.03, 9.17, 10.45, 11.39, 19.92, 20.2, 10.72, 20.07, 11.81, 18.45, 10.51, 10.91, 6.73, 11.85, 37.8, 4.8, 100.7, 21.6, 5.78, 12.1, 11.28, 9.97, 10.68, 21.2, 10.56, 9.68, 8.25, 4.7, 17.4, 19.75, 10.02, 40.2, 11.62, 14.6, 11.71, 13.69, 18.1, 22.22, 17.3, 6.35, 23.3, 10.88, 6.76, 16.8, 10.29, 11.63, 25.6, 19.1, 15.6, 21.87, 3.2, 12.27, 10.39, 10.89, 11.53, 5.68, 10.55, 3.8, 36.2, 9.22, 5.62, 21.9, 12.17, 19.8, 4.2, 21.7, 12.38, 11.46, 7.89, 31.7, 24.4, 14.57, 30.9, 10.15, 12.05, 9.27, 15.33, 6.58, 9.93, 35.05, 25.3, 28.8, 13.05, 29.4, 36.5, 7.92, 15.8, 15.69, 7.85, 13.16, 12.86, 30.5, 29.3, 9.32, 5.74, 11.26, 13.38, 14.31, 26.6, 6.55, 10.52, 6.72, 13.02, 11.17, 56.2, 12.52, 28.2, 12.29, 11.59, 8.38, 5.47, 10.18, 10.64, 18.88, 9.89, 36.3, 12.92, 23.53, 37.7, 10.36, 14.05, 9.04, 10.78, 14.24, 13.42, 32.8, 20.16, 10.12, 7.12, 17.64, 23.25, 11.41, 11.42, 40.4, 31.47, 13.55, 13.28, 14.55, 9.38, 8.32, 11.55, 13.81, 24.1, 11.51, 7.65, 9.91, 16.83, 11.34, 11.16, 18.34, 34.19, 6.02, 18.07, 20.1, 12.08, 7.18, 8.11, 8.05, 8.06, 12.96, 42.4, 8.93, 44.9, 10.62, 9.72, 22.5, 11.18, 10.22, 21.8, 10.94, 13.49, 31.73, 25.7, 5.86, 7.63, 11.47, 13.25, 22.2, 19.35, 17.28, 14.04, 39.9, 21.76, 4.3, 10.06, 8.19, 28.4, 22.7, 14.74, 11.12, 25.11, 14.02, 13.06, 8.01, 20.38, 5.53, 46.8, 11.31, 17.85, 20.7, 34.78, 9.46, 6.31, 42.5, 9.48, 43.4, 11.57, 12.44, 14.46, 12.58, 12.47, 7.95, 16.32, 15.26, 12.23, 11.37, 27.9, 8.58, 19.51, 12.39, 9.65, 9.05, 6.84, 20.3, 26.5, 63.4, 41.9, 6.82, 11.36, 10.08, 10.54, 9.16, 14.95, 12.84, 22.9, 8.76, 10.03, 9.35, 7.87, 2.89, 45.5, 7.36, 24.9, 9.59, 7.97, 9.85, 33.9, 42.8, 7.86, 5.25, 10.26, 5.33, 12.85, 9.51, 58.4, 10.34, 23.71, 19.42, 6.83, 11.92, 13.17, 11.84, 12.56, 53.1, 20.56, 41.3, 9.01, 8.73, 5.82, 3.7, 2.4, 31.8, 42.7, 40.5, 12.02, 8.57, 12.76, 8.66, 11.04, 40.3, 15.83, 18.59, 9.37, 23.38, 10.42, 13.93, 7.54, 23.42, 13.64, 5.61, 19.45, 17.59, 29.1, 5.65, 15.42, 11.09, 11.73, 15.72, 25.4, 10.25, 10.38, 13.41, 5.23, 9.09, 11.45, 11.74, 14.64, 12.14, 8.84, 16.66, 10.27, 12.55, 32.55, 16.26, 6.62, 10.33, 13.26, 32.3, 23.2, 14.14, 9.62, 10.92, 10.58, 22.8, 15.85, 7.78, 8.94, 9.82, 34.7, 8.45, 15.62, 22.3, 14.17, 15.39, 8.43, 87.2, 12.66, 8.35, 8.47, 22.72, 9.52, 28.1, 14.97, 4.6, 5.29, 10.49, 15.07, 20.31, 23.28, 8.54, 30.59, 27.57, 9.71, 28.63, 9.98, 37.9, 6.91, 25.9, 51.8, 14.27, 40.7, 19.61, 9.44, 27.76, 25.86, 36.4, 15.78, 10.05, 26.2, 10.32, 19.39, 9.77, 29.5, 13.73, 10.71, 10.73, 3.5, 13.84, 6.19, 28.5, 16.25, 13.47, 4.4, 43.2, 27.5, 11.67, 44.7, 12.57, 16.27, 6.28, 12.01, 37.6, 13.35, 3.4, 8.61, 8.96, 34.8, 27.3, 10.24, 8.15, 35.5, 4.1, 10.43, 16.46, 7.19, 34.3, 48.5, 30.6, 17.55, 10.74, 13.24, 5.91, 9.43, 20.92, 8.13, 33.1, 10.37, 16.77, 6.27, 26.8, 12.37, 22.6, 33.6, 16.92, 15.54, 6.23, 15.35, 37.5, 21.82, 7.94, 34.1, 9.76, 6.03, 15.55, 8.44, 43.8, 29.09, 18.93, 12.75, 6.33, 24.8, 5.64, 22.43, 39.1, 27.6, 7.48, 32.7, 5.44, 6.22, 7.41, 27.1, 17.06, 34.51, 6.26, 35.6, 9.83, 54.3, 28.7, 3.3, 13.63, 62.5, 10.47, 11.87, 28.3, 11.25, 5.42, 18.25, 8.82, 9.58, 5.04, 13.52, 11.44, 8.48, 13.21, 8.03, 16.89, 26.9, 35.4, 13.95, 14.72, 9.34, 37.78, 23.7, 29.8, 6.95, 16.05, 11.65, 38.1, 10.99, 10.86, 8.85, 14.65, 9.24, 16.45, 7.84, 93.2, 9.79, 7.03, 17.12, 5.28, 12.53, 14.51, 9.31, 31.6, 6.86, 11.07, 14.06, 6.93, 15.15, 32.9, 8.34, 55.7, 24.89, 35.9, 22.78, 16.47, 38.86, 18.16, 8.69, 25.5, 22.46, 13.74, 54.2, 19.21, 31.5, 12.11, 11.98, 10.17, 10.63, 35.7, 12.71, 2.3, 16.07, 9.42, 20.77, 28.64, 13.86, 10.01, 24.2, 12.45, 12.87, 14.33, 12.15, 39.7, 5.06, 14.29, 14.43, 25.02, 8.52, 11.56, 12.89, 8.63, 13.32, 16.42, 5.31, 27.2, 9.26, 14.93, 31.4, 9.06, 6.61, 20.4, 6.65, 19.19, 20.24, 13.77, 6.37, 14.58, 9.19, 8.67, 21.22, 13.58, 12.03, 10.87, 19.28, 16.48, 32.6, 9.08, 12.69, 8.09, 5.21, 12.83, 11.64, 1.3, 55.5, 48.3, 9.11, 21.53, 29.86, 28.52, 15.43, 15.57, 13.43, 19.94, 8.77, 50.2, 15.03, 16.38, 13.33, 12.43, 17.61, 9.66, 12.32, 24.6, 6.47, 41.1, 8.12, 21.25, 41.6, 49.4, 12.25, 28.56, 11.69, 14.85, 15.18, 8.02, 11.22, 8.95, 34.6, 29.2, 9.73, 10.46, 26.7, 29.7, 32.4, 12.93, 12.63, 15.24, 8.18, 22.15, 11.43, 7.02, 11.93, 7.09, 6.16, 7.15, 13.65, 10.79, 14.98, 34.4, 5.14, 9.75, 5.59, 35.1, 13.04, 10.95, 16.03, 9.13, 17.44, 40.1, 5.85, 6.24, 21.74, 31.3, 30.8, 16.88, 21.55, 18.55, 17.87, 13.83] not in index'"
     ]
    }
   ],
   "source": [
    "#заполняем значения kitchen_area , равные Nan,\n",
    "#на медиану по всему набору данных\n",
    "\n",
    "filling_median('kitchen_area')"
   ]
  },
  {
   "cell_type": "markdown",
   "metadata": {},
   "source": [
    "**Вывод**\n",
    "\n",
    "Пропуски столбца kitchen_area заполнены медианными значениями, сгруппированными по количеству комнат (столбец rooms)"
   ]
  },
  {
   "cell_type": "markdown",
   "metadata": {},
   "source": [
    "#### Столбец 'balcony'\n",
    "\n",
    "Основные характеристики столбца: "
   ]
  },
  {
   "cell_type": "code",
   "execution_count": null,
   "metadata": {},
   "outputs": [],
   "source": [
    "preprocessing('balcony') \n",
    "(df['balcony']).describe()"
   ]
  },
  {
   "cell_type": "markdown",
   "metadata": {},
   "source": [
    "Поскольку в случае, если балкон в наличии, об этом явно сообщается клиентом, заполним пустые поля значением 0:"
   ]
  },
  {
   "cell_type": "code",
   "execution_count": null,
   "metadata": {},
   "outputs": [],
   "source": [
    "print('Пропусков до замены', df['balcony'].isna().sum())\n",
    "df['balcony'] = df['balcony'].fillna(0)\n",
    "print('Пропусков после замены', df['balcony'].isna().sum())"
   ]
  },
  {
   "cell_type": "markdown",
   "metadata": {},
   "source": [
    "**Вывод**\n",
    "\n",
    "Пустые значения столбца 'balcony' заполнены значением '0'"
   ]
  },
  {
   "cell_type": "markdown",
   "metadata": {},
   "source": [
    "#### Столбец 'locality_name'\n",
    "\n",
    "Основные характеристики столбца: "
   ]
  },
  {
   "cell_type": "code",
   "execution_count": null,
   "metadata": {},
   "outputs": [],
   "source": [
    "preprocessing('locality_name') \n",
    "df['locality_name'].describe()"
   ]
  },
  {
   "cell_type": "markdown",
   "metadata": {},
   "source": [
    "В значениях столбца - 48 пропусков. Т.к.определить местоположение квартиры невозможно, удалим строки с пропусками:"
   ]
  },
  {
   "cell_type": "code",
   "execution_count": null,
   "metadata": {},
   "outputs": [],
   "source": [
    "print('Пропусков до замены', df['locality_name'].isna().sum())\n",
    "df = df.dropna(subset=['locality_name'])\n",
    "print('Пропусков после замены', df['locality_name'].isna().sum())\n"
   ]
  },
  {
   "cell_type": "markdown",
   "metadata": {},
   "source": [
    "При просмотре уникальных значений выявлены неявные дубликаты: различный стиль написания одного населенного пункта затрудняет сортировку и дальнейшую работу с данными (поселок, посёлок, а также наименование без указания типа населенного пункта и тп). Удалим название типа населенного пункта, оставив только его наименование:"
   ]
  },
  {
   "cell_type": "code",
   "execution_count": null,
   "metadata": {},
   "outputs": [],
   "source": [
    "#поиск в строковых переменных текстового фрагмента и его замена!!!!!!!!!!!!!!!!!!!!!!!!!\n",
    "#df['locality_name'].str.contains('Лесная Поляна')]\n",
    "print('количество уникальных значений до категоризации:', len(df['locality_name'].unique()))\n",
    "\n",
    "#словарь для удаления значений\n",
    "replace_dict = ['поселок ', 'городского типа ', 'городской ',  'деревня ', \n",
    "                'коттеджный ', 'село ', 'посёлок ', 'при железнодорожной станции ',\n",
    "                'станции ', 'садоводческое некоммерческое товарищество ', 'садовое товарищество ']\n",
    "\n",
    "#функция , удаляющая значения из replace_dict в столбце locality_name:\n",
    "for value in replace_dict:\n",
    "    df['locality_name'] = df['locality_name'].str.replace(value, '')\n"
   ]
  },
  {
   "cell_type": "code",
   "execution_count": null,
   "metadata": {},
   "outputs": [],
   "source": [
    "#результат категоризации населенных пунктов:\n",
    "sorted(df['locality_name'].unique())\n",
    "\n",
    "print('количество уникальных значений после категоризации:', len(df['locality_name'].unique()))"
   ]
  },
  {
   "cell_type": "markdown",
   "metadata": {},
   "source": [
    "**Вывод**\n",
    "\n",
    "В столбце locality_name выявлены строки, в которых не был указан населенный пункт (удалены), а также неявные дубликаты: в наименованиях населенных пунктов использовался разный стиль написания, что затруднило бы дальнейший анализ данных. \n",
    "\n",
    "Причина пропусков и различного стиля написания населенных пунктов - либо в разных источниках данных, либо субъективный человеческий фактор при заполнении таблицы. Значения столбца locality_name категоризированы по наименованиям населенных пунктов, количество уникальных значений составило 305 шт. "
   ]
  },
  {
   "cell_type": "markdown",
   "metadata": {},
   "source": [
    "#### Столбец 'airports_nearest ' \n",
    "\n",
    "Основные характеристики столбца: "
   ]
  },
  {
   "cell_type": "code",
   "execution_count": null,
   "metadata": {},
   "outputs": [],
   "source": [
    "preprocessing('airports_nearest') \n",
    "(df['airports_nearest']).describe()"
   ]
  },
  {
   "cell_type": "markdown",
   "metadata": {},
   "source": [
    "Т.к. в объявлениях многих населенных пунктов не указано расстояние до аэропорта и медиану в разрезе каждого населенного пункта посчитать не удастся, заполним пропуски медианой по всем значениям:"
   ]
  },
  {
   "cell_type": "code",
   "execution_count": null,
   "metadata": {},
   "outputs": [],
   "source": [
    "filling_median('airports_nearest')"
   ]
  },
  {
   "cell_type": "markdown",
   "metadata": {},
   "source": [
    "**Вывод**\n",
    "\n",
    "Пропуски столбца airports_nearest заполнены значениями по медиане, рассчитанной по всем значениям столбца airports_nearest. \n",
    "\n",
    "Т.к. данное значение заполнялось автоматически, то его пропуски свидетельствуют о техническом сбое при заполнении или выгрузке данных."
   ]
  },
  {
   "cell_type": "markdown",
   "metadata": {},
   "source": [
    "#### Столбец 'city_сenters_nearest'\n",
    "\n",
    "Основные характеристики столбца: "
   ]
  },
  {
   "cell_type": "code",
   "execution_count": null,
   "metadata": {},
   "outputs": [],
   "source": [
    "preprocessing('city_centers_nearest') # заполнить пропуски 0 , int!\n",
    "(df['city_centers_nearest']).describe()"
   ]
  },
  {
   "cell_type": "markdown",
   "metadata": {},
   "source": [
    "Заполним пропуски значений медианой, рассчитанной по каждой группе locality_name:"
   ]
  },
  {
   "cell_type": "code",
   "execution_count": null,
   "metadata": {},
   "outputs": [],
   "source": [
    "#заполняем значения city_centers_nearest  , равные Nan,\n",
    "#на медиану, рассчитанную по каждой группировке locality_name\n",
    "\n",
    "filling_median_group('city_centers_nearest', 'locality_name')"
   ]
  },
  {
   "cell_type": "markdown",
   "metadata": {},
   "source": [
    "Поскольку не во всех населенных пунктах есть сведения о расстоянии до центра, заполним оставшиеся пропуски медианой по всем значениям:"
   ]
  },
  {
   "cell_type": "code",
   "execution_count": null,
   "metadata": {},
   "outputs": [],
   "source": [
    "filling_median('city_centers_nearest')"
   ]
  },
  {
   "cell_type": "markdown",
   "metadata": {},
   "source": [
    "**Вывод**\n",
    "\n",
    "Пропуски столбца city_centers_nearest частично заполнены медианными значениями, сгруппированными по столбцу locality_name, частично -по медиане, рассчитанной по всем значениям столбца city_centers_nearest\n",
    "Пропуски столбца airports_nearest заполнены значениями по медиане, рассчитанной по всем значениям столбца airports_nearest. \n",
    "\n",
    "Т.к. данное значение заполнялось автоматически, то его пропуски свидетельствуют о техническом сбое при заполнении или выгрузке данных."
   ]
  },
  {
   "cell_type": "markdown",
   "metadata": {},
   "source": [
    "#### Столбец 'parks_around_3000'\n",
    "\n",
    "Основные характеристики столбца: "
   ]
  },
  {
   "cell_type": "code",
   "execution_count": null,
   "metadata": {},
   "outputs": [],
   "source": [
    "preprocessing('parks_around_3000') \n",
    "(df['parks_around_3000']).describe()"
   ]
  },
  {
   "cell_type": "markdown",
   "metadata": {},
   "source": [
    "Заполним пропуски значений столбца, согласно следующей логике: при заполнении объявления клиент отмечает преимущества жилья, выставленного на продажу. Следовательно, если о наличии парка не заявлено- он отсутствует. Кроме того, при заполнении медианным значением по всему полю в данном случае, по данным df['parks_around_3000').describe()  медиана =0.\n",
    "\n",
    "Таким образом, заполним пустые значения нулями:"
   ]
  },
  {
   "cell_type": "code",
   "execution_count": null,
   "metadata": {},
   "outputs": [],
   "source": [
    "print('1.пропуски до изменений: ', df['parks_around_3000'].isna().sum())\n",
    "\n",
    "df.loc[df['parks_around_3000'].isna(), 'parks_around_3000'] = 0\n",
    "\n",
    "print('2.пропуски после изменений: ', df['parks_around_3000'].isna().sum())    \n"
   ]
  },
  {
   "cell_type": "markdown",
   "metadata": {},
   "source": [
    "**Вывод**\n",
    "\n",
    "Пропуски значений столбца parks_around_3000 заполнены значением \"0\". Причина пропусков- скорее всего незаполнение поля клиентом ввиду отсутствия парков рядом с объектом недвижимости."
   ]
  },
  {
   "cell_type": "markdown",
   "metadata": {},
   "source": [
    "#### Столбец 'parks_nearest' \n",
    "\n",
    "Основные характеристики столбца: "
   ]
  },
  {
   "cell_type": "code",
   "execution_count": null,
   "metadata": {},
   "outputs": [],
   "source": [
    "preprocessing('parks_nearest') \n",
    "(df['parks_nearest']).describe()"
   ]
  },
  {
   "cell_type": "code",
   "execution_count": null,
   "metadata": {},
   "outputs": [],
   "source": [
    "#заполняем значения parks_nearest  , равные Nan,\n",
    "#на медиану, рассчитанную по каждой группировке parks_around_3000\n",
    "filling_median_group('parks_nearest', 'parks_around_3000')"
   ]
  },
  {
   "cell_type": "markdown",
   "metadata": {},
   "source": [
    "**Вывод**\n",
    "\n",
    "Пропуски значений столбца parks_nearest заполнены медианой по группам значений столбца parks_around_3000. Причина пропусков- т.к. данный столбец заполняется автоматически, то отсутствие значения в столбце parks_around_3000 влечет за собой пропуски и здесь."
   ]
  },
  {
   "cell_type": "markdown",
   "metadata": {},
   "source": [
    "#### Столбец 'ponds_around_3000'\n",
    "\n",
    "Основные характеристики столбца: "
   ]
  },
  {
   "cell_type": "code",
   "execution_count": null,
   "metadata": {},
   "outputs": [],
   "source": [
    "preprocessing('ponds_around_3000') \n",
    "(df['ponds_around_3000']).describe()"
   ]
  },
  {
   "cell_type": "markdown",
   "metadata": {},
   "source": [
    "Заполним пропуски значений столбца по тому же принципу, что и parks_around_3000: при заполнении объявления клиент отмечает преимущества жилья, выставленного на продажу. Следовательно, если о наличии парка не заявлено- он отсутствует. \n",
    "\n",
    "Таким образом, заполним пустые значения нулями:"
   ]
  },
  {
   "cell_type": "code",
   "execution_count": null,
   "metadata": {},
   "outputs": [],
   "source": [
    "print('1.пропуски до изменений: ', df['ponds_around_3000'].isna().sum())\n",
    "\n",
    "df.loc[df['ponds_around_3000'].isna(), 'ponds_around_3000'] = 0\n",
    "\n",
    "print('2.пропуски после изменений: ', df['ponds_around_3000'].isna().sum())    "
   ]
  },
  {
   "cell_type": "markdown",
   "metadata": {},
   "source": [
    "**Вывод**\n",
    "\n",
    "Пропуски значений столбца ponds_around_3000 заполнены значением \"0\". Причина пропусков- скорее всего незаполнение поля клиентом ввиду отсутствия парков рядом с объектом недвижимости."
   ]
  },
  {
   "cell_type": "markdown",
   "metadata": {},
   "source": [
    "#### Столбец 'ponds_nearest'\n",
    "\n",
    "Основные характеристики столбца: "
   ]
  },
  {
   "cell_type": "code",
   "execution_count": null,
   "metadata": {},
   "outputs": [],
   "source": [
    "preprocessing('ponds_nearest') \n",
    "(df['ponds_nearest']).describe()\n",
    "\n",
    "#df.query('ponds_around3000 == 0').head()"
   ]
  },
  {
   "cell_type": "code",
   "execution_count": null,
   "metadata": {},
   "outputs": [],
   "source": [
    "filling_median_group('ponds_nearest', 'parks_around_3000') "
   ]
  },
  {
   "cell_type": "markdown",
   "metadata": {},
   "source": [
    "**Вывод**\n",
    "\n",
    "Пропуски значений столбца ponds_nearest заполнены медианой по группам значений столбца parks_around_3000. Причина пропусков- т.к. данный столбец заполняется автоматически, то отсутствие значения в столбце parks_around_3000 влечет за собой пропуски и здесь."
   ]
  },
  {
   "cell_type": "markdown",
   "metadata": {},
   "source": [
    "#### Столбец 'days_exposition'\n",
    "\n",
    "Основные характеристики столбца: "
   ]
  },
  {
   "cell_type": "code",
   "execution_count": null,
   "metadata": {},
   "outputs": [],
   "source": [
    "preprocessing('days_exposition') \n",
    "(df['days_exposition']).describe()"
   ]
  },
  {
   "cell_type": "markdown",
   "metadata": {},
   "source": [
    "Выберем строки, в которых отсутствует значение days_exposition и построим гистограмму, распределяющую количество объявлений по дате размещения:"
   ]
  },
  {
   "cell_type": "code",
   "execution_count": null,
   "metadata": {},
   "outputs": [],
   "source": [
    "#выборка объявлений с пропусками в days_exposition:\n",
    "day_na = df.query('days_exposition.isna()')\n",
    "\n",
    "#гистограмма по дате размещения объявлений:\n",
    "day_na['first_day_exposition'].hist(bins=30).set(xlabel='дата размещения объявления',\n",
    "                              ylabel=' количество объявлений', \n",
    "                             title='Распределение количества объявлений с пропусками в days_exposition по датам размещения');"
   ]
  },
  {
   "cell_type": "markdown",
   "metadata": {},
   "source": [
    "Из гистограммы видно, что чем больше дата, тем больше в базе данных объявлений с пропусками в days_exposition. Можно предположить, что эти объявления не были закрыты (квартиры не проданы либо не сняты с продажи). Заполним их из расчета, что они \"дожили\" хотя бы до самой поздней даты размещения объявления (пусть эта дата и будет датой выгрузки базы данных из системы). В таком случае количеством дней days_exposition будет разница first_day_exposition и максимальной датой в днях:"
   ]
  },
  {
   "cell_type": "code",
   "execution_count": null,
   "metadata": {},
   "outputs": [],
   "source": [
    "print('1.пропуски до изменений: ', df['days_exposition'].isna().sum())\n",
    "\n",
    "#максимальная дата\n",
    "max_dt = df['first_day_exposition'].max()\n",
    "\n",
    "#заполняем пропуски разностью first_day_exposition и max_dt:\n",
    "df.loc[df['days_exposition'].isna(),\n",
    "       'days_exposition'] = (max_dt - df.loc[df['days_exposition'].isna(),\n",
    "       'first_day_exposition']).dt.days\n",
    "\n",
    "\n",
    "print('2.пропуски после изменений: ', df['days_exposition'].isna().sum())    "
   ]
  },
  {
   "cell_type": "markdown",
   "metadata": {},
   "source": [
    "**Вывод**\n",
    "\n",
    "Пропуски значений столбца days_exposition заполнены разностью между значением first_day_exposition и максимальной датой в днях поля first_day_exposition. \n",
    "\n",
    "Причина пропусков- объявление не закрыто."
   ]
  },
  {
   "cell_type": "markdown",
   "metadata": {},
   "source": [
    "### Замена типа данных"
   ]
  },
  {
   "cell_type": "markdown",
   "metadata": {},
   "source": [
    "Заменим тип данных столбцов:\n",
    "- из формата float в формат int:\n",
    "    \n",
    "    - last_price \n",
    "    - floors_total \n",
    "    - balcony\n",
    "    - parks_around3000  \n",
    "    - parks_nearest\n",
    "    - ponds_around3000  \n",
    "    - ponds_nearest\n",
    "    - airports_nearest\n",
    "    - city_centers_nearest\n",
    "    - days_exposition\n",
    "    \n",
    "- данные столбца is_apartament из формата object в bool"
   ]
  },
  {
   "cell_type": "code",
   "execution_count": null,
   "metadata": {},
   "outputs": [],
   "source": [
    "#список наименований столбцов, в которых нужно изменить формат\n",
    "df_format = ['last_price', 'floors_total', 'balcony', \n",
    "             'parks_around_3000', 'parks_nearest', 'ponds_around_3000', \n",
    "            'ponds_nearest', 'airports_nearest', 'city_centers_nearest', 'days_exposition']\n",
    "\n",
    "#применяем метод astype() для изменения формата столбцов из df_format\n",
    "df[df_format] = df[df_format].astype('int')"
   ]
  },
  {
   "cell_type": "code",
   "execution_count": null,
   "metadata": {},
   "outputs": [],
   "source": [
    "# меняем формат из object в bool\n",
    "df['is_apartment'] = df['is_apartment'].astype('bool')"
   ]
  },
  {
   "cell_type": "code",
   "execution_count": null,
   "metadata": {},
   "outputs": [],
   "source": [
    "#проверка внесения изменений \n",
    "df.info()"
   ]
  },
  {
   "cell_type": "markdown",
   "metadata": {},
   "source": [
    "**Вывод**\n",
    "\n",
    "Изменен формат некоторых столбцов с типа float на тип int, object на bool"
   ]
  },
  {
   "cell_type": "markdown",
   "metadata": {},
   "source": [
    "### Проверка данных на дубликаты:"
   ]
  },
  {
   "cell_type": "code",
   "execution_count": null,
   "metadata": {},
   "outputs": [],
   "source": [
    "df.duplicated().sum()"
   ]
  },
  {
   "cell_type": "markdown",
   "metadata": {},
   "source": [
    "**Вывод**\n",
    "\n",
    "Явные дубликаты в данных отсутствуют. Неявные дубликаты выявлены в столбце 'locality_name', исправлены ранее."
   ]
  },
  {
   "cell_type": "markdown",
   "metadata": {},
   "source": [
    "***Выводы по разделу 2***"
   ]
  },
  {
   "cell_type": "markdown",
   "metadata": {},
   "source": [
    "В процессе предобработки данных пропуски значений были заполнены в зависимости от ситуации:\n",
    "- медианой по группам значений либо общей медианой по всем значениям, \n",
    "- там, где логически это возможно – конкретными значениями ( например False, 0)\n",
    "- пропуски значений столбца days_exposition заполнены разностью между значением first_day_exposition и максимальной датой в днях поля first_day_exposition (скорее всего объявления с пропусками имеют статус незакрытых)\n",
    "\n",
    "\n",
    "В случаях , когда заполнение невозможно, строки были удалены (отсутствие наименования населенного пункта в locality_name, количество этажей в доме , floors_total)\n",
    "\n",
    "\n",
    "Значения столбца locality_name категоризированы по наименованиям населенных пунктов (различные стили написания систематизированы и приведены в единообразию)\n",
    "\n",
    "\n",
    "Причины пропусков:\n",
    "- незаполнение поля клиентом  в случае отсутствия информации \n",
    "- сбор данных из разных источников с изначально отличающейся структурой данных\n",
    "- сбой при выгрузке данных. \n"
   ]
  },
  {
   "cell_type": "markdown",
   "metadata": {},
   "source": [
    "## Расчеты и добавление данных в таблицу"
   ]
  },
  {
   "cell_type": "markdown",
   "metadata": {},
   "source": [
    "### Добавление цены квадратного метра"
   ]
  },
  {
   "cell_type": "code",
   "execution_count": null,
   "metadata": {},
   "outputs": [],
   "source": [
    "#добавляем столбец price_sq_meter с расчетом 1 кв м\n",
    "df['price_sq_meter'] =df['last_price'] / df['total_area']"
   ]
  },
  {
   "cell_type": "markdown",
   "metadata": {},
   "source": [
    "### Добавление  дня недели, месяца и года публикации объявления"
   ]
  },
  {
   "cell_type": "code",
   "execution_count": null,
   "metadata": {},
   "outputs": [],
   "source": [
    "#добавление столбца с днем недели публикации объявления\n",
    "df['weekday_exposition'] = df['first_day_exposition'].dt.weekday\n",
    "\n",
    "#добавление столбца с месяцем публикации объявления\n",
    "df['monht_exposition'] = df['first_day_exposition'].dt.month\n",
    "\n",
    "#добавление столбца с годом публикации\n",
    "df['year_exposition'] = df['first_day_exposition'].dt.year"
   ]
  },
  {
   "cell_type": "markdown",
   "metadata": {},
   "source": [
    "### Добавление этажа квартиры (первый, последний и другой)"
   ]
  },
  {
   "cell_type": "code",
   "execution_count": null,
   "metadata": {},
   "outputs": [],
   "source": [
    "#функция, определяющая категорию этажа:\n",
    "def floors_category(row):\n",
    "    if row['floor'] == 1:\n",
    "        return 'первый'\n",
    "    elif row['floor'] == row['floors_total']:\n",
    "        return 'последний'\n",
    "    else:\n",
    "        return 'другой'\n",
    "\n",
    "#применяем метод apply и функцию floors_category к созданному столбцу floor_group:\n",
    "df['floor_group'] = df.apply(floors_category, axis=1)  "
   ]
  },
  {
   "cell_type": "markdown",
   "metadata": {},
   "source": [
    "### Добавление соотношения жилой и общей площади, а также площади кухни к общей площади"
   ]
  },
  {
   "cell_type": "code",
   "execution_count": null,
   "metadata": {},
   "outputs": [],
   "source": [
    "#создаем столбец living_area_ratio и заполняем его соотношением жилой и общей площади:\n",
    "\n",
    "df['living_area_ratio'] = df['living_area'] / df['total_area']\n",
    "\n",
    "#создаем столбец kitchen_area_ratio и заполняем его соотношением площади кухни и общей площади:\n",
    "df['kitchen_area_ratio'] = df['kitchen_area'] / df['total_area']"
   ]
  },
  {
   "cell_type": "markdown",
   "metadata": {},
   "source": [
    "Проверим добавление столбцов, для чего выведем первые 5 строк датафрейма:"
   ]
  },
  {
   "cell_type": "code",
   "execution_count": null,
   "metadata": {},
   "outputs": [],
   "source": [
    "df.head()"
   ]
  },
  {
   "cell_type": "markdown",
   "metadata": {},
   "source": [
    "***Выводы по разделу 3***\n",
    "\n",
    "Для дальнейшего анализа рассчитаны и добавлены отдельными столбцами значения цены 1 кв.м., дня недели, месяца и года объявления, категории этажа, соотношения жилой площади и площади кухни к общей."
   ]
  },
  {
   "cell_type": "markdown",
   "metadata": {},
   "source": [
    "## Исследовательский анализ данных"
   ]
  },
  {
   "cell_type": "markdown",
   "metadata": {},
   "source": [
    "### Функции для использования в анализе"
   ]
  },
  {
   "cell_type": "markdown",
   "metadata": {},
   "source": [
    "Создадим функции для определения выбросов значений столбцов датафрейма и отсечения их из данных для последующего анализа. Поскольку распределение данных несимметрично, будем использовать не метод расчета межквартильного размаха, а расчет 1 и 99 персентилей:"
   ]
  },
  {
   "cell_type": "code",
   "execution_count": null,
   "metadata": {},
   "outputs": [],
   "source": [
    "# Функция для визуализации выбросов значений столбца. \n",
    "# dataframe_name- имя датафрейма, в котором фильтруются данные по column\n",
    "# column -столбец, в котором рассчитываются выбросы\n",
    "\n",
    "def blowouts_info (dataframe_name, column):\n",
    "    df = dataframe_name\n",
    "    #считаем 1% и 99% процентили как границы межквартильного размаха:\n",
    "    blowouts_min = round(df[column].quantile(0.1),2) \n",
    "    blowouts_max = round(df[column].quantile(0.99),2)\n",
    "    # выбросы столбца по значениям blowouts_min blowouts_max:\n",
    "    print(column, 'нижняя граница выбросов', blowouts_min)\n",
    "    print(column, 'верхняя граница выбросов', blowouts_max)\n"
   ]
  },
  {
   "cell_type": "code",
   "execution_count": null,
   "metadata": {},
   "outputs": [],
   "source": [
    "# Функция для отсечения выбросов значений столбца основного 'неочищенного' датафрейма (df)\n",
    "#  в датафрейме dataframe_new\n",
    "#dataframe_new- имя датафрейма, в котором фильтруются данные \n",
    "#column -столбец df, в котором рассчитываются выбросы\n",
    "\n",
    "def blowouts (dataframe_new, column):\n",
    "    df_new = dataframe_new\n",
    "    #считаем 1% и 99% процентили как границы межквартильного размаха в первоначальном датафрейме:\n",
    "    blowouts_min = round(df[column].quantile(0.1),2) \n",
    "    blowouts_max = round(df[column].quantile(0.99),2)\n",
    "    #отсекаем выбросы столбца по значениям blowouts_min blowouts_max:\n",
    "    print(column, 'нижняя граница выбросов', blowouts_min)\n",
    "    print(column, 'верхняя граница выбросов', blowouts_max)\n",
    "    print('число строк нового датафрейма', len(df_new.loc[(df_new[column] >= blowouts_min) & (df_new[column] <= blowouts_max)]))\n",
    "    return df_new.loc[(df_new[column] >= blowouts_min) & (df_new[column] <= blowouts_max)]\n"
   ]
  },
  {
   "cell_type": "markdown",
   "metadata": {},
   "source": [
    "### Исследование площади, цены, числа комнат, высоты потолков"
   ]
  },
  {
   "cell_type": "markdown",
   "metadata": {},
   "source": [
    "#### Предложения на рынке жилья в разрезе площади квартир"
   ]
  },
  {
   "cell_type": "markdown",
   "metadata": {},
   "source": [
    "Рассмотрим общие тенденции предложений на рынке жилья в разрезе площади квартир. Для этого построим соответствующие гистограммы общей, жилой площади и их соотношения."
   ]
  },
  {
   "cell_type": "code",
   "execution_count": null,
   "metadata": {},
   "outputs": [],
   "source": [
    "#основные данные \n",
    "df[['total_area', 'living_area', 'living_area_ratio','kitchen_area','kitchen_area_ratio']].describe()"
   ]
  },
  {
   "cell_type": "markdown",
   "metadata": {},
   "source": [
    "Построим гистограммы общей и жилой площадей квартир: "
   ]
  },
  {
   "cell_type": "code",
   "execution_count": null,
   "metadata": {},
   "outputs": [],
   "source": [
    "#общая и жилая площадь по всем данным\n",
    "living_area_hist = df['living_area'].plot(kind='hist', y='total_area', \n",
    "                histtype='step',bins=30,grid=True, legend=True,alpha=1,\n",
    "                linewidth=5                         \n",
    "                )\n",
    "total_area_hist = df['total_area'].plot(kind='hist', y='total_area', \n",
    "                histtype='step',bins=30,grid=True, legend=True,alpha=0.7,\n",
    "                title='Общая и жилая площадь квартир, кв.м.',linewidth=5, ax=living_area_hist\n",
    "                 ).set(xlabel='площадь в кв.м.', ylabel='количество объектов')\n",
    "plt.show()\n",
    "#то же детальнее на отрезке до 200 кв.м.\n",
    "living_area_hist = df['living_area'].plot(kind='hist', y='total_area', \n",
    "                histtype='step',bins=30,grid=True, legend=True,alpha=1,\n",
    "                linewidth=5, range= (0, 200)                         \n",
    "                )\n",
    "total_area_hist = df['total_area'].plot(kind='hist', y='total_area', \n",
    "                histtype='step',bins=50,grid=True, legend=True,alpha=0.7,\n",
    "                title='Общая и жилая площадь квартир до 200 кв.м.',linewidth=5,\n",
    "                ax=living_area_hist, range= (0, 200)).set(xlabel='площадь в кв.м.',\n",
    "                ylabel='количество объектов')"
   ]
  },
  {
   "cell_type": "markdown",
   "metadata": {},
   "source": [
    "На продажу выставлены квартиры общей площадью от 12 до 900 кв.м. В основном это жилье общей площадью от 30 до 100 кв.м. с пиком в сегменте 30-50 кв.м. и несколько меньшим по количеству объявлений сегменте 50-75 кв.м.\n",
    "\n",
    "В жилой площади квартиры преобладает диапазон 15-50 кв.м. с пиком 20-30 кв.м. "
   ]
  },
  {
   "cell_type": "markdown",
   "metadata": {},
   "source": [
    "В целом соотношение жилой и общей площади выглядит следующим образом:"
   ]
  },
  {
   "cell_type": "code",
   "execution_count": null,
   "metadata": {},
   "outputs": [],
   "source": [
    "# гистограмма соотношения жилой площади к общей\n",
    "df['living_area_ratio'].hist(bins=20).set(title='Соотношение жилой и общей площади квартиры', \n",
    "    xlabel='коэффициент соотношения', ylabel='количество объектов');"
   ]
  },
  {
   "cell_type": "markdown",
   "metadata": {},
   "source": [
    "На гистограмме- нормальное распределение с пиком в соотношении 50-60%, что также характерно для небольших по площади квартир эконом-класса, когда  нежилое пространство занимает подавляющую площадь квартиры и имеет тенденцию к уменьшению с увеличением общей площади. "
   ]
  },
  {
   "cell_type": "markdown",
   "metadata": {},
   "source": [
    "Посмотрим границы выбросов общей и жилой площади квартир:"
   ]
  },
  {
   "cell_type": "code",
   "execution_count": null,
   "metadata": {},
   "outputs": [],
   "source": [
    "# выбросы total_area :\n",
    "blowouts_info(df,'total_area')\n",
    "blowouts_info(df,'living_area')"
   ]
  },
  {
   "cell_type": "markdown",
   "metadata": {},
   "source": [
    "В разряд выбросов попали квартиры площадью свыше 197 кв.м. с максимумом 900 кв.м. и соответственно с жилой площадью от 118 кв.м.с максимумом 409 кв.м."
   ]
  },
  {
   "cell_type": "markdown",
   "metadata": {},
   "source": [
    "Рассмотрим размеры площади кухни:"
   ]
  },
  {
   "cell_type": "code",
   "execution_count": null,
   "metadata": {},
   "outputs": [],
   "source": [
    "# гистограмма по площади кухни (все объявления)\n",
    "df['kitchen_area'].hist(bins=20).set(title='Площадь кухни (все объявления)', \n",
    "    xlabel='площадь в кв.м.', ylabel='количество объектов');\n",
    "plt.show()\n",
    "\n",
    "#гистограмма выборки (площадь кухни до 35 кв.м.)\n",
    "df['kitchen_area'].hist(bins=30,  range=(0, 35) ).set(title='Площадь кухни (до 35 кв.м.)',\n",
    "                 xlabel='площадь в кв.м.', ylabel='количество объектов');"
   ]
  },
  {
   "cell_type": "code",
   "execution_count": null,
   "metadata": {},
   "outputs": [],
   "source": [
    "# гистограмма соотношения площади кухни к общей\n",
    "df['kitchen_area_ratio'].hist(bins=30).set(title='Соотношение площади кухни и общей площади квартиры', \n",
    "    xlabel='коэффициент соотношения', ylabel='количество объектов');"
   ]
  },
  {
   "cell_type": "markdown",
   "metadata": {},
   "source": [
    "На гистограммах мы можем увидеть, что диапазон площади кухни-в основном от 5 до 15 кв.м., с пиком  9 кв.м. Это стандартные небольшие квартиры, которые распространены в наших городах и являются типичными для среднестатистической квартиры эконом-класса. \n",
    "\n",
    "Соотношение площади кухни к общей площади квартиры -на уровне 10-40% с пиком на 10-20%. Это средняя квартира с соотношением кухня/площадь (5-9 кв.м.) к (30-45 кв.м.), либо более современные варианты жилья с общей площадью выше среднего (чем сильнее растет общая площаль- тем меньше соотношение)."
   ]
  },
  {
   "cell_type": "code",
   "execution_count": null,
   "metadata": {},
   "outputs": [],
   "source": [
    "# выбросы kitchen_area:\n",
    "blowouts_info(df,'kitchen_area')"
   ]
  },
  {
   "cell_type": "markdown",
   "metadata": {},
   "source": [
    "В выбросы попали квартиры с площадью кухни менее 6 кв.м. и от 35 до 112 кв.м. "
   ]
  },
  {
   "cell_type": "markdown",
   "metadata": {},
   "source": [
    "Cформируем датафрейм для дальнейшего анализа : сделаем срез с удалением выбросов total_area и сохраним его в переменную df_normal"
   ]
  },
  {
   "cell_type": "code",
   "execution_count": null,
   "metadata": {
    "scrolled": true
   },
   "outputs": [],
   "source": [
    "#задаем датафрейм для последующих фильтраций:\n",
    "df_normal = df\n",
    "\n",
    "#отсекаем выбросы total_area и сохраняем срез в переменную df_normal:\n",
    "df_normal = blowouts(df_normal,'total_area')\n"
   ]
  },
  {
   "cell_type": "markdown",
   "metadata": {},
   "source": [
    "**Вывод**\n",
    "\n",
    "На продажу выставлены квартиры общей площадью от 12 до 900 кв.м. В основном это жилье общей площадью от 30 до 100 кв.м. с пиком в сегменте 30-50 кв.м. и несколько меньшему по количеству объявлений сегменту 50-75 кв.м.\n",
    "\n",
    "В жилой площади квартиры преобладает диапазон 15-35 кв.м., и с несколько меньшим пиком в диапазоне 40-50 кв.м.\n",
    "\n",
    "Диапазон площади кухни-в основном от 5 до 15 кв.м., с пиком  9 кв.м. Это стандартные небольшие квартиры, которые очень распространены в наших городах и являются типичными для среднестатистической квартиры эконом-класса. \n",
    "\n",
    "Соотношение площади кухни к общей площади квартиры -на уровне 10-40% с пиком на 10-20%. Это средняя квартира с соотношением кухня/площадь (5-9 кв.м.)/(30-45 кв.м.), либо более современные варианты жилья с общей площадью выше среднего (чем сильнее растет общая площаль- тем меньше соотношение).\n",
    "\n",
    "В целях дальнейшего анализа из выборки \"нормальных\" исключены квартиры общей площадью менее 33 и более 197 кв.м.\n"
   ]
  },
  {
   "cell_type": "markdown",
   "metadata": {},
   "source": [
    "#### Предложения на рынке жилья : цены"
   ]
  },
  {
   "cell_type": "code",
   "execution_count": null,
   "metadata": {},
   "outputs": [],
   "source": [
    "#основные данные в тыс.руб.\n",
    "(df['last_price']/1000).describe()"
   ]
  },
  {
   "cell_type": "code",
   "execution_count": null,
   "metadata": {},
   "outputs": [],
   "source": [
    "# общая гистограмма цен по всем объявлениям в тыс.руб.\n",
    "(df['last_price']/1000).hist(bins=50).set(title='Цены на жилье (все объявления)', \n",
    "    xlabel='цена в тыс.руб.', ylabel='количество объектов');\n",
    "plt.show()\n",
    "\n",
    "#гистограмма выборки (в диапазоне до 25 млн.руб. )\n",
    "(df['last_price']/1000).hist(bins=30,  range=(0, 25000) ).set(title='Цены на жилье (до 25 млн.руб.)', \n",
    "    xlabel='цена в тыс.руб.', ylabel='количество объектов');\n"
   ]
  },
  {
   "cell_type": "markdown",
   "metadata": {},
   "source": [
    "Цены на квартиры в основном находятся в диапазоне 2.5-15 млн.руб. с пиком в области 3-5 млн.руб.(небольшие квартиры эконом-класса). Посмотрим диапазон выбросов:"
   ]
  },
  {
   "cell_type": "code",
   "execution_count": null,
   "metadata": {},
   "outputs": [],
   "source": [
    "#диапазон выбросов в last_price:\n",
    "blowouts_info(df,'last_price')"
   ]
  },
  {
   "cell_type": "markdown",
   "metadata": {},
   "source": [
    "В категорию выбросов попали минимальные значения стоимости жилья до 2,5 млн. и максимальные от 36 до 763 млн.руб., которые являются скорее исключением, чем правилом и имеют разовый характер."
   ]
  },
  {
   "cell_type": "markdown",
   "metadata": {},
   "source": [
    "Посмотрим стоимость 1 кв.м. и ее распределение на гистограмме:"
   ]
  },
  {
   "cell_type": "code",
   "execution_count": null,
   "metadata": {},
   "outputs": [],
   "source": [
    "(df['price_sq_meter']/1000).describe()"
   ]
  },
  {
   "cell_type": "code",
   "execution_count": null,
   "metadata": {},
   "outputs": [],
   "source": [
    "# гистограмма цены 1 кв.м.в тыс.руб.\n",
    "(df['price_sq_meter']/1000).hist(bins=30).set(title='Цена 1 кв.м. жилья (все объекты) ', \n",
    "                            xlabel='цена в тыс.руб.', ylabel='количество объектов');\n",
    "\n",
    "plt.show()\n",
    "\n",
    "# гистограмма цены 1 кв.м.в тыс.руб.(до 250 тыс.руб.)\n",
    "(df['price_sq_meter']/1000).hist(bins=30, range=(0, 250)).set(\n",
    "                            title='Цена 1 кв.м. жилья (до 250 тыс.руб.за кв.м.)',\n",
    "                            xlabel='цена в тыс.руб.', ylabel='количество объектов');"
   ]
  },
  {
   "cell_type": "markdown",
   "metadata": {},
   "source": [
    "Стоимость квадратного метра недвижимости имеет выраженный диапазон с размере 50-130 тыс.руб. и пик в области 90-100 тыс.руб.\n",
    "\n",
    "Просмотрим выбросы:"
   ]
  },
  {
   "cell_type": "code",
   "execution_count": null,
   "metadata": {
    "scrolled": true
   },
   "outputs": [],
   "source": [
    "#выбросы price_sq_meter:\n",
    "blowouts_info(df,'price_sq_meter')"
   ]
  },
  {
   "cell_type": "code",
   "execution_count": null,
   "metadata": {},
   "outputs": [],
   "source": [
    "#отсекаем выбросы last_price и price_sq_meter и сохраняем срез в переменную df_normal:\n",
    "\n",
    "df_normal = blowouts(df_normal,'last_price')\n",
    "df_normal = blowouts(df_normal,'price_sq_meter')"
   ]
  },
  {
   "cell_type": "markdown",
   "metadata": {},
   "source": [
    "**Выводы**\n",
    "\n",
    "Цены на квартиры в основном находятся в диапазоне 2.5-15 млн.руб. с пиком в области 3-5 млн.руб.(небольшие квартиры эконом-класса)\n",
    "Стоимость квадратного метра недвижимости варьируется от 50 до 130 тыс.руб. с пиком в области 90-100 тыс.руб.\n",
    "Тем не менее существуют объявления о продаже недвижимости с ценой 420 тыс.руб и 763 млн.руб., которые являются нестандартными и имеют разовый характер. "
   ]
  },
  {
   "cell_type": "markdown",
   "metadata": {},
   "source": [
    "#### Предложения на рынке жилья в разрезе количества комнат"
   ]
  },
  {
   "cell_type": "code",
   "execution_count": null,
   "metadata": {},
   "outputs": [],
   "source": [
    "#основные данные по столбцу rooms:\n",
    "df['rooms'].describe()"
   ]
  },
  {
   "cell_type": "code",
   "execution_count": null,
   "metadata": {
    "scrolled": false
   },
   "outputs": [],
   "source": [
    "# общая гистограмма по количеству комнат в квартире:\n",
    "df['rooms'].hist(bins=20).set(title='Количество комнат (все объекты)', \n",
    "    xlabel='количество комнат в квартире', ylabel='количество объектов');\n",
    "plt.show()\n",
    "\n",
    "#гистограмма выборки (в диапазоне до 6 комнат )\n",
    "df['rooms'].hist(bins=20, range=(0, 5)).set(title='Количество комнат (в диапазоне до 5 комнат)', \n",
    "    xlabel='количество комнат в квартире', ylabel='количество объектов');"
   ]
  },
  {
   "cell_type": "markdown",
   "metadata": {},
   "source": [
    "Как видно из гистограммы, большинство квартир, предлагаемых на продажу, имеет от 1 до 3 комнат.\n",
    "\n",
    "Отсечем выбросы:"
   ]
  },
  {
   "cell_type": "code",
   "execution_count": null,
   "metadata": {},
   "outputs": [],
   "source": [
    "#отсекаем выбросы rooms и сохраняем срез в переменной:\n",
    "\n",
    "#отсекаем выбросы total_area и сохраняем срез в переменную df_normal:\n",
    "df_normal = blowouts(df_normal,'rooms')"
   ]
  },
  {
   "cell_type": "markdown",
   "metadata": {},
   "source": [
    "**Вывод**\n",
    "\n",
    "Квартиры, предлагаемые на продажу, имеют от 0 (студии) до 19 комнат. При этом подавляющее большинство из них- это 1-3 комнатные квартиры. "
   ]
  },
  {
   "cell_type": "markdown",
   "metadata": {},
   "source": [
    "#### Предложения на рынке жилья в разрезе высоты потолков"
   ]
  },
  {
   "cell_type": "code",
   "execution_count": null,
   "metadata": {
    "scrolled": true
   },
   "outputs": [],
   "source": [
    "#основные данные по столбцу ceiling_height:\n",
    "df['ceiling_height'].describe()"
   ]
  },
  {
   "cell_type": "code",
   "execution_count": null,
   "metadata": {},
   "outputs": [],
   "source": [
    "# общая гистограмма по высоте потолков:\n",
    "df['ceiling_height'].hist(bins=20).set(title='Высота потолков (все объекты)', \n",
    "    xlabel='высота потолка в м.', ylabel='количество объектов');\n",
    "plt.show()\n",
    "\n",
    "#гистограмма выборки (в диапазоне от 2 до 4 м )\n",
    "df['ceiling_height'].hist(bins=20, range=(2, 4)).set(title='Высота потолков (от 2 до 4м.)', \n",
    "    xlabel='высота потолка в м.', ylabel='количество объектов');"
   ]
  },
  {
   "cell_type": "markdown",
   "metadata": {},
   "source": [
    "Высота потолка в предлагаемом на продажу жилье в основном принимает значения от 2.5 до 3.5м с существенным пиком в высоте 2.6-2.7 м.\n",
    "\n",
    "Отсечем выбросы:"
   ]
  },
  {
   "cell_type": "code",
   "execution_count": null,
   "metadata": {},
   "outputs": [],
   "source": [
    "#отсекаем выбросы ceiling_height и сохраняем срез в переменной:\n",
    "df_normal = blowouts(df_normal,'ceiling_height')"
   ]
  },
  {
   "cell_type": "markdown",
   "metadata": {},
   "source": [
    "Мы убрали редкие значения высоты потолка выше 3.6 м до 10 м (очень редкие квартиры свободной планировки, предполагающие двухуровневое жилье), а также аномальные значения от 20 до 100 м, которые,скорее всего, являются ошибкой пользователя при заполнении полей объявления (пользователь не поставил запятую при разделении целой и дробной части числа)"
   ]
  },
  {
   "cell_type": "markdown",
   "metadata": {},
   "source": [
    "**Вывод**\n",
    "\n",
    "Высота потолка в пердлагаемом на продажу жилье в основном принимает значения от 2.5 до 3.5м с существенным пиком в высоте 2.6-2.7 м.\n",
    "\n",
    "Из среза \"нормальных\" квартир мы убрали редкие значения высоты потолка выше 3.6 м до 10 м (10 м- очень редкие квартиры свободной планировки, предполагающие двухуровневое жилье, пентхаусы), а также аномальные значения от 20 до 100 м, которые,скорее всего, являются ошибкой пользователя при заполнении полей объявления (пользователь не поставил запятую при разделении целой и дробной части числа)\n"
   ]
  },
  {
   "cell_type": "markdown",
   "metadata": {},
   "source": [
    "#### Исследование времени продажи квартиры"
   ]
  },
  {
   "cell_type": "code",
   "execution_count": null,
   "metadata": {},
   "outputs": [],
   "source": [
    "df['days_exposition'].describe()"
   ]
  },
  {
   "cell_type": "markdown",
   "metadata": {},
   "source": [
    "Медиана времени продажи находится на уровне 94 дней,  а среднее значение -185 дней."
   ]
  },
  {
   "cell_type": "code",
   "execution_count": null,
   "metadata": {},
   "outputs": [],
   "source": [
    "#общая гистограмма времени продажи:\n",
    "df['days_exposition'].hist(bins=30).set(title='Время продажи квартиры (весь период)', \n",
    "    xlabel='кол-во дней продажи', ylabel='количество объектов');\n",
    "plt.show()\n",
    "\n",
    "# общая гистограмма по срезу времени продажи до 400 дней:\n",
    "df['days_exposition'].hist(bins=30, range=(0, 400)).set(\n",
    "    title='Время продажи квартиры (до 400 дней)', \n",
    "    xlabel='кол-во дней продажи', ylabel='количество объектов');"
   ]
  },
  {
   "cell_type": "markdown",
   "metadata": {},
   "source": [
    "Общее время продажи-до 1618 дней. При этом можно увидеть, что большинство квартир продается в первые 60-90 дней с момента публикации. Рассмотрим эту часть гистограммы подробнее:"
   ]
  },
  {
   "cell_type": "code",
   "execution_count": null,
   "metadata": {},
   "outputs": [],
   "source": [
    "# общая гистограмма по срезу времени продажи до 60 дней:\n",
    "df['days_exposition'].hist(bins=30, range=(0, 60)).set(\n",
    "    title='Время продажи квартиры (до 60 дней)', \n",
    "    xlabel='кол-во дней продажи', ylabel='количество объектов');"
   ]
  },
  {
   "cell_type": "markdown",
   "metadata": {},
   "source": [
    "Видим два пика -примерно на 45 и 60 день. \n",
    "\n",
    "Сделаем срез и отсечем выбросы:"
   ]
  },
  {
   "cell_type": "code",
   "execution_count": null,
   "metadata": {},
   "outputs": [],
   "source": [
    "#отсекаем выбросы days_exposition и сохраняем срез в переменной:\n",
    "df_normal = blowouts(df_normal,'days_exposition')\n",
    "df_normal.head()"
   ]
  },
  {
   "cell_type": "markdown",
   "metadata": {},
   "source": [
    "**Вывод**\n",
    "\n",
    "Общее время продажи жилой недвижимости-до 1618 дней. Медиана времени продажи находится на уровне 94 дней,  а среднее значение -185 дней. При этом можно увидеть, что большинство квартир продается в первые 60 дней с момента публикации. \n",
    "Исходя из расчета выбросов можно сказать, что продажи прошли очень быстро, если сделки были оформлены в период до 16 дней и слишком долго, если до оформления сделки свыше 1134 дней.\n",
    "\n"
   ]
  },
  {
   "cell_type": "markdown",
   "metadata": {},
   "source": [
    "**Выводы по разделу 4.2**\n",
    "\n",
    "Рынок жилья представлен объектами общей площадью от 12 до 900 кв.м. В основном это жилье общей площадью от 30 до 100 кв.м. с пиком в сегменте 30-75 кв.м.\n",
    "В жилой площади квартиры преобладает диапазон 15-35 кв.м., и с несколько меньшим, но ожидаемым ожидаемым пиком в диапазоне 40-50 кв.м.\n",
    "Размер площади кухни-в основном от 5 до 15 кв.м., с пиком 9 кв.м. Это стандартные небольшие квартиры, которые очень распространены в наших городах и являются типичными для среднестатистической квартиры эконом-класса.\n",
    "Подавляющее большинство квартир- 1-3 комнатные, с высотой потолка 2,6-2,7 м., но встречаются редкие варианты до 19 комнат и высотой потолка до 20 кв.м. (либо ошибка, либо свободная планировка с возможностью многоуровневости).\n",
    "\n",
    "\n",
    "Цены на квартиры в основном находятся в диапазоне 2.5-15 млн.руб. с пиком в области 3-5 млн.руб.(небольшие квартиры эконом-класса), но есть и уникальные объекты стоимостью до 763 млн.руб.\n",
    "Стоимость квадратного метра недвижимости варьируется от 50 до 140 тыс.руб. с пиком в области 90-100 тыс.руб.Наряду с типовыми предложениями на продажу выставлено жилье со стоимостью 1 кв.м. до 1.9 млн.руб.\n",
    "\n",
    "\n",
    "Общее время продажи жилой недвижимости-до 1618 дней. Половина квартир продается за период до 94 дней,  а среднее значение по всему массиву данных -185 дней. При этом можно увидеть, что пик продаж приходится на 60 день с момента публикации. \n",
    "Исходя из расчета выбросов можно сказать, что продажи прошли аномально быстро, если сделки были оформлены в период до 16 дней и слишком долго, если до оформления сделки свыше 1134 дней. \n"
   ]
  },
  {
   "cell_type": "markdown",
   "metadata": {},
   "source": [
    "### Факторы, влияющие на стоимость квартиры"
   ]
  },
  {
   "cell_type": "markdown",
   "metadata": {},
   "source": [
    "Чтобы получить данные, приближенные к среднестатистическим, данное исследование мы проведем на основе очищенных от выбросов данных, которые сохранены в датафрейме df_normal"
   ]
  },
  {
   "cell_type": "markdown",
   "metadata": {},
   "source": [
    "Выясним, есть ли зависимость цены 1 кв.м. от площади, количества комнат и удаленности от центра. Для этого посчитаем коэффициент корреляции и построим диаграммы рассеяния:"
   ]
  },
  {
   "cell_type": "code",
   "execution_count": null,
   "metadata": {},
   "outputs": [],
   "source": [
    "df_normal[['price_sq_meter', 'total_area', 'rooms', 'city_centers_nearest']].corr()"
   ]
  },
  {
   "cell_type": "markdown",
   "metadata": {},
   "source": [
    "Из таблицы видно, что коэффициенты корреляции данных параметров с ценой достаточно низкие. Для подробного анализа воспользуемся средствами визуализации."
   ]
  },
  {
   "cell_type": "markdown",
   "metadata": {},
   "source": [
    "#### Зависимость цены от площади квартиры.\n",
    "\n",
    "Проанализируем цену за 1 кв.м. и общую площадь квартир:"
   ]
  },
  {
   "cell_type": "code",
   "execution_count": null,
   "metadata": {},
   "outputs": [],
   "source": [
    "#диаграмма рессеяния (цена 1 кв.м. и общая площадь квартиры)\n",
    "df_normal.plot(x='total_area', y='price_sq_meter', kind='scatter', alpha=0.1,\n",
    "                       title='Зависимость цены 1 кв.м. от площади квартиры').set(\n",
    "                       xlabel='общая площадь', ylabel='цена 1 кв.м.');"
   ]
  },
  {
   "cell_type": "markdown",
   "metadata": {},
   "source": [
    "**Вывод**\n",
    "\n",
    "Уровень корреляции, рассчитанный по всему массиву стоимости квадратного метра и площади квартиры составил 17 %, т.е. очень низок.\n",
    "Как видно из диаграммы, зависимость цены от площади квартиры примерно до 130 кв.м. практически отсутствует, но на отрезке  от 130 кв.м. можно наблюдать небольшое уменьшение верхней границы стоимости 1 кв.м. \n",
    "\n"
   ]
  },
  {
   "cell_type": "markdown",
   "metadata": {},
   "source": [
    "#### Зависимость цены от удаленности от центра\n",
    "\n",
    "Рассмотрим цену за 1 кв.м. и расстояние до центра:"
   ]
  },
  {
   "cell_type": "code",
   "execution_count": null,
   "metadata": {},
   "outputs": [],
   "source": [
    "#диаграмма рассеяния (цена и удаленность от центра)\n",
    "df_normal.plot(x='city_centers_nearest', y='price_sq_meter', kind='scatter', alpha=0.1,\n",
    "                       title='Зависимость цены 1 кв.м. от удаленности от центра').set(\n",
    "                       xlabel='удаленность, м', ylabel='цена 1 кв.м.');"
   ]
  },
  {
   "cell_type": "markdown",
   "metadata": {},
   "source": [
    "**Вывод**\n",
    "\n",
    "Уровень корреляции, рассчитанный по всему массиву стоимости квадратного метра и площади квартиры составил -35%, т.е. некоторая общая обратная зависимость прослеживается. Как видно из диаграммы, у квартир, находящихся в радиусе до 25 км.от центра, верхняя граница стоимости кв.метра обратно пропорциональна удалению от центра, далее у верхней границы цены также можно проследить падение после второго незначительного пика в районе 25-35 км, и на расстоянии более 60 км стоимость кв.м. уже значительно падает. "
   ]
  },
  {
   "cell_type": "markdown",
   "metadata": {},
   "source": [
    "#### Зависимость цены от количества комнат:"
   ]
  },
  {
   "cell_type": "markdown",
   "metadata": {},
   "source": [
    "Сгруппируем датафрейм по количеству комнат и посмотрим медианное значение 1 кв.м. и построим диаграмму:"
   ]
  },
  {
   "cell_type": "code",
   "execution_count": null,
   "metadata": {
    "scrolled": true
   },
   "outputs": [],
   "source": [
    "#группировка по количеству комнат и цене кв.м.\n",
    "df_normal.pivot_table(index='rooms', values='price_sq_meter', aggfunc='median').reset_index().plot(\n",
    "                      x='rooms', y='price_sq_meter', grid=True, style='o-').set(\n",
    "                      title='Зависимость цены 1 кв.м. от количества комнат', \n",
    "                      xlabel='количество комнат', ylabel='цена за 1 кв.м.');"
   ]
  },
  {
   "cell_type": "markdown",
   "metadata": {},
   "source": [
    "**Вывод**\n",
    "\n",
    "В 1-комнатных квартирах цена 1 кв.м. максимальна и падает с увеличением количеством комнат от 1 к 3. С увеличением количества комнат (от 3 и более) цена уже не коррелирует так явно."
   ]
  },
  {
   "cell_type": "markdown",
   "metadata": {},
   "source": [
    "#### Зависимость цены от этажа квартиры"
   ]
  },
  {
   "cell_type": "code",
   "execution_count": null,
   "metadata": {},
   "outputs": [],
   "source": [
    "df_normal[['price_sq_meter','floor', 'floor_group']].corr()"
   ]
  },
  {
   "cell_type": "markdown",
   "metadata": {},
   "source": [
    "Судя по коэффициенту корреляции явной зависимости цены и этажа нет. Рассмотрим детализацию, для чего сгруппируем данные по этажу и медианной стоимости 1 кв.м."
   ]
  },
  {
   "cell_type": "code",
   "execution_count": null,
   "metadata": {},
   "outputs": [],
   "source": [
    "#группировка по этажу и цене кв.м.\n",
    "df_normal.pivot_table(index='floor', values='price_sq_meter', aggfunc='median').reset_index().plot(\n",
    "                      x='floor', y='price_sq_meter', grid=True, style='o-').set(\n",
    "                      title='Зависимость цены 1 кв.м. от этажа', \n",
    "                      xlabel='этаж', ylabel='цена за 1 кв.м.');\n"
   ]
  },
  {
   "cell_type": "markdown",
   "metadata": {},
   "source": [
    "На \"поэтажном\" графике можно заметить \"дуги\" от 1 этажа к 5, от 5 к 9, от 9 к 12 тд. Скорее всего такая форма графика связана со стандартной этажностью домов, и на 5-й, 9-й, 12  и т.д. этажи приходится последний, поэтому медианная цена немного проседает. В целом можно утверждать однозначно только то, что цена 1-го этажа ниже всех последующих, и предположительно также ниже будет цена последнего этажа.\n",
    "\n",
    "Заметные всплески значений в районе 30 этажа возможно связаны с новостройками с хорошим видом из окна и категорией премиум-класса."
   ]
  },
  {
   "cell_type": "markdown",
   "metadata": {},
   "source": [
    "Аналогично посмотрим распределение по группировкам этажей (первый, последний, другой):"
   ]
  },
  {
   "cell_type": "code",
   "execution_count": null,
   "metadata": {},
   "outputs": [],
   "source": [
    "#группировка по категории этажа и цене кв.м.\n",
    "df_normal.pivot_table(index='floor_group', values='price_sq_meter', aggfunc='median').reset_index().plot(\n",
    "                      x='floor_group', y='price_sq_meter', grid=True, style='o-').set(\n",
    "                      title='Зависимость цены 1 кв.м. от этажа', \n",
    "                      xlabel='этаж', ylabel='цена за 1 кв.м.');"
   ]
  },
  {
   "cell_type": "markdown",
   "metadata": {},
   "source": [
    "Из диаграммы можно сделать вывод, что самая низкая цена 1 кв.м.- у квартир на 1 этаже, последний этаж также \"проседает\" в стоимости. Это может оказаться довольно существенным различием в цене- до 14 тыс. за кв.м. "
   ]
  },
  {
   "cell_type": "markdown",
   "metadata": {},
   "source": [
    "**Вывод**\n",
    "\n",
    "Самая низкая цена 1 кв.м.- у квартир на 1 этаже, последний этаж также \"проседает\" в стоимости. Цена остальных квартир также может зависеть от этажа, но на этот фактор будут наслаиваться еще и другие условия (вид из окна, качество жилья, район и тд)"
   ]
  },
  {
   "cell_type": "markdown",
   "metadata": {},
   "source": [
    "#### Зависимость цены даты размещения объявления (дня недели, месяца и года)"
   ]
  },
  {
   "cell_type": "code",
   "execution_count": null,
   "metadata": {},
   "outputs": [],
   "source": [
    "df_normal[['price_sq_meter', 'first_day_exposition', 'year_exposition', 'monht_exposition', 'weekday_exposition', ]].corr()"
   ]
  },
  {
   "cell_type": "markdown",
   "metadata": {},
   "source": [
    "Рассмотрим как менялась цена за 1 кв.м. в течение нескольких лет:"
   ]
  },
  {
   "cell_type": "code",
   "execution_count": null,
   "metadata": {},
   "outputs": [],
   "source": [
    "df_normal.boxplot(column='price_sq_meter', by='year_exposition').set(\n",
    "    title='Зависимость цены 1 кв.м. от года размещения объявления', \n",
    "    xlabel='год размещения', ylabel='цена 1 кв.м.');"
   ]
  },
  {
   "cell_type": "markdown",
   "metadata": {},
   "source": [
    "То же для нагрядности посмотрим на диаграмме медианных значений:"
   ]
  },
  {
   "cell_type": "code",
   "execution_count": null,
   "metadata": {},
   "outputs": [],
   "source": [
    "#группировка по году размещения объявления и медиане цены кв.м.\n",
    "df_normal.pivot_table(index='year_exposition', values='price_sq_meter', aggfunc='median').reset_index().plot(\n",
    "                      x='year_exposition', y='price_sq_meter', grid=True, style='o-').set(\n",
    "                      title='Зависимость медианы цены 1 кв.м. от года размещения объявления', \n",
    "                      xlabel='год размещения', ylabel='цена за 1 кв.м.');"
   ]
  },
  {
   "cell_type": "markdown",
   "metadata": {},
   "source": [
    "На диаграмме наглядно виден кризис рынка недвижимости 2015-2016 года, когда цена на жилье упала ниже 95 тыс.руб. Начиная с 2017 года можно увидеть новый рост стоимости жилья и количества предложений. 2019 год не показателен, т.к. данные представлены только за период с января по май."
   ]
  },
  {
   "cell_type": "markdown",
   "metadata": {},
   "source": [
    "Рассмотрим есть ли зависимость цены от месяца размещения объявления:"
   ]
  },
  {
   "cell_type": "code",
   "execution_count": null,
   "metadata": {},
   "outputs": [],
   "source": [
    "df_normal.boxplot(column='price_sq_meter', by='monht_exposition').set(\n",
    "    title='Зависимость цены 1 кв.м. от месяца размещения объявления', \n",
    "    xlabel='месяц размещения', ylabel='цена 1 кв.м.');\n"
   ]
  },
  {
   "cell_type": "code",
   "execution_count": null,
   "metadata": {},
   "outputs": [],
   "source": [
    "#группировка по месяцу размещения объявления и медиане цены кв.м.\n",
    "df_normal.pivot_table(index='monht_exposition', values='price_sq_meter', aggfunc='median').reset_index().plot(\n",
    "                      x='monht_exposition', y='price_sq_meter', grid=True, style='o-').set(\n",
    "                      title='Зависимость медианы цены 1 кв.м. от месяца размещения объявления', \n",
    "                      xlabel='месяц', ylabel='цена за 1 кв.м.');"
   ]
  },
  {
   "cell_type": "markdown",
   "metadata": {},
   "source": [
    "На диаграммах прослеживается сезонность продаж: пик спроса и рост цены приходится на апрель и август.Вероятнее всего влияние оказывает рост спроса на недвижимость после завершения года и после отпусков. В мае -июне спрос на жилье падает, возможно из-за массовых отпусков."
   ]
  },
  {
   "cell_type": "code",
   "execution_count": null,
   "metadata": {},
   "outputs": [],
   "source": [
    "#диаграмма разброса по дням недели \n",
    "df_normal.boxplot(column='price_sq_meter', by='weekday_exposition').set(\n",
    "    title='Зависимость цены 1 кв.м. от дня недели размещения объявления', \n",
    "    xlabel='день недели', ylabel='цена 1 кв.м.');\n"
   ]
  },
  {
   "cell_type": "code",
   "execution_count": null,
   "metadata": {},
   "outputs": [],
   "source": [
    "#группировка по дню недели размещения объявления и медиане цены кв.м.\n",
    "df_normal.pivot_table(index='weekday_exposition', values='price_sq_meter', aggfunc='median').reset_index().plot(\n",
    "                      x='weekday_exposition', y='price_sq_meter', grid=True, style='o-').set(\n",
    "                      title='Зависимость медианы цены 1 кв.м. от дня недели размещения объявления', \n",
    "                      xlabel='день недели', ylabel='цена за 1 кв.м.');"
   ]
  },
  {
   "cell_type": "markdown",
   "metadata": {},
   "source": [
    "Максимум цены за 1 кв.м. приходится на среду, минимум- на пятницу и субботу. "
   ]
  },
  {
   "cell_type": "markdown",
   "metadata": {},
   "source": [
    "**Вывод**\n",
    "\n",
    "Цена 1 кв.м. меняется в течение лет. Так, в представленных данных наглядно видно как повлиял кризис рынка недвижимости на стоимость жилья. Таким образом, нельзя без дополнительной информации о ситуации в макроэкономике судить о тенденциях роста либо снижения цены.\n",
    "\n",
    "Тем не менее, можно отметить сезонность продаж: пик спроса и рост цены кв.метра приходится на апрель и август. Вероятнее всего влияние оказывает рост спроса на недвижимость после завершения года и после отпусков. В мае -июне спрос на жилье падает, возможно из-за массовых отпусков. Разница между максимальным и минимальным значением составляет менее 4 тыс.руб. (0,04%) и незначительна.\n",
    "Также максимум цены за 1 кв.м. приходится на среду, минимум- на пятницу и субботу.составляет менее 2 тыс.руб. (0,02%) и также незначительна.\n"
   ]
  },
  {
   "cell_type": "markdown",
   "metadata": {},
   "source": [
    "**Выводы по разделу 4.3**\n",
    "\n",
    "Влияние на цену 1 кв.м. жилья выглядит следующим образом:\n",
    "\n",
    "- Зависимость цены от общей площади площади квартиры:\n",
    "На отрезке от 130 кв.м. можно наблюдать небольшое уменьшение верхней границы стоимости 1 кв.м.\n",
    "\n",
    "- Зависимость цены от расстояния до центра:\n",
    "У квартир, находящихся в радиусе до 25 км от центра, верхняя граница стоимости кв.метра обратно пропорциональна удалению от центра,  далее  можно проследить падение верхней границы цены после незначительного пика в районе 25-35 км, и на расстоянии более 60 км стоимость падает значительно.\n",
    "\n",
    "- Зависимость цены от количества комнат:\n",
    "В 1-комнатных квартирах цена 1 кв.м. максимальна и падает с увеличением количеством комнат от 1 к 3. С увеличением количества комнат (от 3 и более) цена уже не коррелирует с ценой так явно.\n",
    "\n",
    "- Зависимость цены от этажа:\n",
    "Самая низкая цена 1 кв.м.- у квартир на 1 этаже, последний этаж также \"проседает\" в стоимости. Цена остальных квартир также может зависеть от этажа, но на этот фактор будут наслаиваться еще и другие условия (вид из окна, качество жилья, район и тд)\n",
    "\n",
    "- Зависимость цены от года, месяца и дня недели размещения объявления:\n",
    "Цена 1 кв.м. меняется в течение лет, но зависит не от года продажи, а от состояния макроэкономики. Таким образом, нельзя без дополнительной информации судить о тенденциях роста либо снижения цены.\n",
    "Тем не менее, можно отметить сезонность продаж: пик спроса и рост цены кв.метра приходится на апрель и август. Вероятнее всего влияние оказывает рост спроса на недвижимость после завершения года и после отпусков. В мае -июне спрос на жилье падает, возможно из-за массовых отпусков. Также максимум цены за 1 кв.м. приходится на среду, минимум- на пятницу и субботу. Разница в цене в результате колебаний составляет 0,02-0,04% и незначительна.\n"
   ]
  },
  {
   "cell_type": "markdown",
   "metadata": {},
   "source": [
    "### Выборка 10 населённых пунктов с наибольшим числом объявлений"
   ]
  },
  {
   "cell_type": "markdown",
   "metadata": {},
   "source": [
    "•\tВыберите 10 населённых пунктов с наибольшим числом объявлений. Посчитайте среднюю цену квадратного метра в этих населённых пунктах. Выделите населённые пункты с самой высокой и низкой стоимостью жилья. Эти данные можно найти по имени в столбце locality_name."
   ]
  },
  {
   "cell_type": "markdown",
   "metadata": {},
   "source": [
    "Сделаем выборку из 10 населённых пунктов с наибольшим числом объявлений и сохраним ее в переменной top_10:"
   ]
  },
  {
   "cell_type": "code",
   "execution_count": null,
   "metadata": {},
   "outputs": [],
   "source": [
    "#выборка из датафрейма df_normal с \"нормальзованными\" значениями:\n",
    "top_10 = df_normal['locality_name'].value_counts().head(10)\n",
    "\n",
    "#сбросим индекс, оставив его столбцом, переименуем столбцы (заранее обозначим столбец, где будет среднее значение 1 кв.м.)\n",
    "top_10 = top_10.reset_index().rename(columns = {'locality_name':'mean','index':'locality_name'})\n",
    "top_10"
   ]
  },
  {
   "cell_type": "markdown",
   "metadata": {},
   "source": [
    "Рассчитаем среднюю цену 1 кв.м. в городах из списка-топ:"
   ]
  },
  {
   "cell_type": "code",
   "execution_count": null,
   "metadata": {},
   "outputs": [],
   "source": [
    "#список для сохранения значений средней стоимости 1 кв.м.\n",
    "top_mean = []  \n",
    "\n",
    "#цикл для расчета средних значений стоимости 1 кв.м. городов-топ и добавления \n",
    "#значений в список top_mean :\n",
    "for name in top_10['locality_name']:\n",
    "    top_mean.append(round(df_normal.query('locality_name == @name')['price_sq_meter'].mean()))\n",
    "    \n",
    "#значения списка top_mean внесем в столбец mean датафрейма top_10\n",
    "top_10['mean'] = top_mean\n",
    "display(top_10)"
   ]
  },
  {
   "cell_type": "markdown",
   "metadata": {},
   "source": [
    "Найдем города с максимальной и минимальной стоимостью кв.м.:"
   ]
  },
  {
   "cell_type": "code",
   "execution_count": null,
   "metadata": {},
   "outputs": [],
   "source": [
    "top_10.query('mean == mean.min() or mean == mean.max()')"
   ]
  },
  {
   "cell_type": "markdown",
   "metadata": {},
   "source": [
    "**Вывод по разделу 4.4**\n",
    "\n",
    "Город с максимальной средней стоимостью квадратного метра жилья - Санкт-Петербург (109 тыс.за кв.м.), с минимальной- Всеволжск (70 тыс.за кв.м.)"
   ]
  },
  {
   "cell_type": "markdown",
   "metadata": {},
   "source": [
    "### Влияние местонахождения квартиры на цену"
   ]
  },
  {
   "cell_type": "markdown",
   "metadata": {},
   "source": [
    "Выделим в отдельную переменную locality_SPB квартиры в Санкт-Петербурге, преобразуем значения столбца city_centers_nearest из метров в км: "
   ]
  },
  {
   "cell_type": "code",
   "execution_count": null,
   "metadata": {},
   "outputs": [],
   "source": [
    "#выборка недвижимости в Санкт-Петербурге\n",
    "locality_SPB = df_normal.query('locality_name == \"Санкт-Петербург\"')\n",
    "\n",
    "#создадим столбец city_centers_nearest_km в км и преобразуем в тип int:\n",
    "locality_SPB['city_centers_nearest_km'] = (locality_SPB['city_centers_nearest']/1000).astype('int')\n"
   ]
  },
  {
   "cell_type": "markdown",
   "metadata": {},
   "source": [
    "Чтобы выяснить, какая область входит в центр, посчитаем среднюю стоимость 1 кв.м. в расчете на каждый км от центра и построим столбчатую диаграмму:"
   ]
  },
  {
   "cell_type": "code",
   "execution_count": null,
   "metadata": {
    "scrolled": true
   },
   "outputs": [],
   "source": [
    "# сводная таблица по удаленности от центра и значением средней стоимости кв.м.\n",
    "locality_SPB_pivot = locality_SPB.pivot_table(index='city_centers_nearest_km', \n",
    "                                              values='price_sq_meter', aggfunc='mean').reset_index()\n",
    "\n",
    "locality_SPB_pivot"
   ]
  },
  {
   "cell_type": "code",
   "execution_count": null,
   "metadata": {},
   "outputs": [],
   "source": [
    "# строим столбчатую диаграмму по значениям locality_SPB_pivot:\n",
    "locality_SPB_pivot.plot(x='city_centers_nearest_km', y='price_sq_meter', kind= 'bar', \n",
    "                        grid=True,\n",
    "                      title='Зависимость цены 1 кв.м. от удаленности от центра').set(\n",
    "                      xlabel='км', ylabel='цена 1 кв.м.');"
   ]
  },
  {
   "cell_type": "markdown",
   "metadata": {},
   "source": [
    "В нашем распоряжении -радиус в 29 км относительно центра и средняя цена за кв.м. По диаграмме видно, что ближе к центру средняя цена кв.м. составляет от 131 до 123 тыс.руб. и начинает меняться в сторону уменьшения с 9 км. Таким образом,можно сказать, что  центральная зона находится в радиусе до 8 км от центра.\n",
    "\n",
    "Также на диаграмме виден выброс средней цены в районе 27 км, связанный с тем, что в этой позиции-единственный (и дорогой) объект недвижимости."
   ]
  },
  {
   "cell_type": "markdown",
   "metadata": {},
   "source": [
    "**Вывод**\n",
    "\n",
    "Центральная зона Санкт-Петербурга находится в радиусе 8 км от центра. Средняя цена за 1 кв.м. зависит от удаленности от центра Санкт-Петербурга. В центре ее размер составляет 131-123 тыс.руб., и далее уменьшается до 75 тыс.руб."
   ]
  },
  {
   "cell_type": "markdown",
   "metadata": {},
   "source": [
    "### Анализ квартир в центре"
   ]
  },
  {
   "cell_type": "markdown",
   "metadata": {},
   "source": [
    "Выделим сегмент квартир в центре (объявления с локацией от 0 до 8 км от центра,-city_centers_nearest)"
   ]
  },
  {
   "cell_type": "code",
   "execution_count": null,
   "metadata": {},
   "outputs": [],
   "source": [
    "spb_center = locality_SPB.query('city_centers_nearest_km < 9')\n",
    "spb_center.head()"
   ]
  },
  {
   "cell_type": "markdown",
   "metadata": {},
   "source": [
    "#### Исследование площади, цены, числа комнат, высоты потолков"
   ]
  },
  {
   "cell_type": "markdown",
   "metadata": {},
   "source": [
    "##### Предложения на рынке жилья в разрезе площади квартир"
   ]
  },
  {
   "cell_type": "code",
   "execution_count": null,
   "metadata": {},
   "outputs": [],
   "source": [
    "#основные данные \n",
    "spb_center[['total_area', 'living_area', 'living_area_ratio','kitchen_area','kitchen_area_ratio']].describe()"
   ]
  },
  {
   "cell_type": "code",
   "execution_count": null,
   "metadata": {},
   "outputs": [],
   "source": [
    "#общая и жилая площадь по всем данным\n",
    "living_area_hist_SPB = spb_center['living_area'].plot(kind='hist', y='total_area', \n",
    "                histtype='step',bins=30,grid=True, legend=True,alpha=1,\n",
    "                linewidth=5                         \n",
    "                )\n",
    "total_area_hist_SPB = spb_center['total_area'].plot(kind='hist', y='total_area', \n",
    "                histtype='step',bins=30,grid=True, legend=True,alpha=0.7,\n",
    "                title='Общая и жилая площадь квартир в центре СПб, кв.м.',linewidth=5, ax=living_area_hist_SPB\n",
    "                 ).set(xlabel='площадь в кв.м.', ylabel='количество объектов')\n",
    "plt.show()\n",
    "#то же детальнее на отрезке до 125 кв.м.\n",
    "living_area_hist_SPB = spb_center['living_area'].plot(kind='hist', y='total_area', \n",
    "                histtype='step',bins=30,grid=True, legend=True,alpha=1,\n",
    "                linewidth=5, range= (0, 125)                         \n",
    "                )\n",
    "total_area_hist_SPB = spb_center['total_area'].plot(kind='hist', y='total_area', \n",
    "                histtype='step',bins=50,grid=True, legend=True,alpha=0.7,\n",
    "                title='Общая и жилая площадь квартир в центре СПб до 125 кв.м.',linewidth=5,\n",
    "                ax=living_area_hist_SPB, range= (0, 125)).set(xlabel='площадь в кв.м.',\n",
    "                ylabel='количество объектов')"
   ]
  },
  {
   "cell_type": "markdown",
   "metadata": {},
   "source": [
    "На продажу выставлены квартиры общей площадью от 33 до 197 кв.м. В основном это жилье общей площадью от 30 до 150 кв.м. с пиком в сегменте 45-80 кв.м.\n",
    "\n",
    "В жилой площади квартиры преобладает диаазон 15-75 кв.м.\n",
    "\n",
    "По сравнению с массой объектов всего датафрейма квартиры в центре больше по площади- как общей, так и жилой."
   ]
  },
  {
   "cell_type": "markdown",
   "metadata": {},
   "source": [
    "СТАРОЕ На продажу выставлены квартиры общей площадью от 12 до 900 кв.м. В основном это жилье общей площадью от 30 до 100 кв.м. с пиком в сегменте 30-50 кв.м. и несколько меньшему по количеству объявлений сегменту 50-75 кв.м.\n",
    "\n",
    "В жилой площади квартиры преобладает диаазон 15-35 кв.м., и с несколько меньшим пиком в диапазоне 40-50 кв.м. "
   ]
  },
  {
   "cell_type": "code",
   "execution_count": null,
   "metadata": {},
   "outputs": [],
   "source": [
    "# гистограмма соотношения жилой площади к общей\n",
    "spb_center['living_area_ratio'].hist(bins=20).set(title='Соотношение жилой и общей площади квартир в центре СПб', \n",
    "    xlabel='коэффициент соотношения', ylabel='количество объектов');"
   ]
  },
  {
   "cell_type": "markdown",
   "metadata": {},
   "source": [
    "На гистограмме- распределение с пиком в соотношении в 60-70%, что отличается от большинства среднестатистических квартир: в центре СПб большое количество домов старой застройки, в которой пространство \"сдвинуто\" в пользу жилой площади.  "
   ]
  },
  {
   "cell_type": "code",
   "execution_count": null,
   "metadata": {},
   "outputs": [],
   "source": [
    "# гистограмма площади кухни \n",
    "spb_center['kitchen_area'].hist(bins=30).set(title='Площадь кухни в центре СПб', \n",
    "    xlabel='площадь, кв.м.', ylabel='количество объектов');"
   ]
  },
  {
   "cell_type": "code",
   "execution_count": null,
   "metadata": {},
   "outputs": [],
   "source": [
    "# гистограмма соотношения площади кухни к общей\n",
    "spb_center['kitchen_area_ratio'].hist(bins=30).set(title='Соотношение площади кухни и общей площади квартир в центре СПб', \n",
    "    xlabel='коэффициент соотношения', ylabel='количество объектов');"
   ]
  },
  {
   "cell_type": "markdown",
   "metadata": {},
   "source": [
    "На гистограммах мы можем увидеть, что диапазон площади кухни-в основном от 5 до 15 кв.м., с пиком 9 кв.м. \n",
    "\n",
    "Соотношение площади кухни к общей площади квартиры -на уровне 10-40% с пиком на 13-15%. \n"
   ]
  },
  {
   "cell_type": "markdown",
   "metadata": {},
   "source": [
    "**Вывод**\n",
    "\n",
    "На продажу выставлены квартиры общей площадью от 33 до 197 кв.м. По сравнению с массой объектов всего датафрейма квартиры в центре больше по площади- как общей, так и жилой. Основная масса- это жилье от 30 до 150 кв.м. с пиком в сегменте 45-80 кв.м. При этом жилая площадь занимает большую долю, чем среднестатистическая квартира: в центре СПб большое количество домов старой застройки, в которой пространство \"сдвинуто\" в пользу жилой площади.\n",
    "\n",
    "В жилой площади квартиры преобладает диапазон 15-75 кв.м., площадь кухни варьируется от 5 до 15 кв.м., с пиком 9 кв.м. "
   ]
  },
  {
   "cell_type": "markdown",
   "metadata": {},
   "source": [
    "##### Предложения на рынке жилья : цены"
   ]
  },
  {
   "cell_type": "code",
   "execution_count": null,
   "metadata": {},
   "outputs": [],
   "source": [
    "#основные данные в тыс.руб.\n",
    "(spb_center['last_price']/1000).describe()"
   ]
  },
  {
   "cell_type": "code",
   "execution_count": null,
   "metadata": {},
   "outputs": [],
   "source": [
    "# общая гистограмма цен по всем объявлениям в тыс.руб.\n",
    "(spb_center['last_price']/1000).hist(bins=50).set(\n",
    "    title='Цены на жилье в центре СПб (все объявления)', \n",
    "    xlabel='цена в тыс.руб.', ylabel='количество объектов')\n",
    "plt.show()\n",
    "\n",
    "#гистограмма выборки (в диапазоне до 15 млн.руб. )\n",
    "(spb_center['last_price']/1000).hist(bins=30,  range=(0, 15000) ).set(\n",
    "    title='Цены на жилье  в центре СПб (до 15 млн.руб.)', \n",
    "    xlabel='цена в тыс.руб.', ylabel='количество объектов')\n",
    "plt.show()\n"
   ]
  },
  {
   "cell_type": "markdown",
   "metadata": {},
   "source": [
    "Цены на квартиры в основном находятся в диапазоне 5-15 млн.руб. с пиком в области 5-8 млн.руб.(небольшие квартиры эконом-класса)."
   ]
  },
  {
   "cell_type": "markdown",
   "metadata": {},
   "source": [
    "Посмотрим стоимость 1 кв.м. и ее распределение на гистограмме:"
   ]
  },
  {
   "cell_type": "code",
   "execution_count": null,
   "metadata": {},
   "outputs": [],
   "source": [
    "(spb_center['price_sq_meter']/1000).describe()"
   ]
  },
  {
   "cell_type": "code",
   "execution_count": null,
   "metadata": {},
   "outputs": [],
   "source": [
    "# гистограмма цены 1 кв.м.в тыс.руб.\n",
    "(spb_center['price_sq_meter']/1000).hist(bins=30).set(title='Цена 1 кв.м. жилья  в центре СПб (все объекты) ', \n",
    "                            xlabel='цена в тыс.руб.', ylabel='количество объектов');\n",
    "plt.show()\n",
    "\n",
    "# гистограмма цены 1 кв.м.в тыс.руб.(до 150 тыс.руб.)\n",
    "(spb_center['price_sq_meter']/1000).hist(bins=30, range=(50, 150)).set(\n",
    "                            title='Цена 1 кв.м. жилья в центре СПб (до 150 тыс.руб.за кв.м.)',\n",
    "                            xlabel='цена в тыс.руб.', ylabel='количество объектов');"
   ]
  },
  {
   "cell_type": "markdown",
   "metadata": {},
   "source": [
    "Стоимость квадратного метра недвижимости имеет выраженный диапазон с размере 70-150 тыс.руб. и пик в области 100 тыс.руб."
   ]
  },
  {
   "cell_type": "markdown",
   "metadata": {},
   "source": [
    "**Выводы**\n",
    "\n",
    "Цены на квартиры в основном находятся в диапазоне 5-15 млн.руб. с пиком в области 5-8 млн.руб.\n",
    "Стоимость квадратного метра недвижимости в наиболее крупном сегменте варьируется от 70 до 150 тыс.руб. и пиком в области 100 тыс.руб.\n",
    "Тем не менее существуют объявления о продаже недвижимости с ценой до 35 млн.руб., но их меньше, чем жилья эконом-класса.\n",
    "В целом цены жилья центра города выше по цене, чем аналогичное в других районах."
   ]
  },
  {
   "cell_type": "markdown",
   "metadata": {},
   "source": [
    "##### Предложения на рынке жилья в разрезе количества комнат"
   ]
  },
  {
   "cell_type": "code",
   "execution_count": null,
   "metadata": {},
   "outputs": [],
   "source": [
    "#основные данные по столбцу rooms:\n",
    "spb_center['rooms'].describe()"
   ]
  },
  {
   "cell_type": "code",
   "execution_count": null,
   "metadata": {},
   "outputs": [],
   "source": [
    "# общая гистограмма по количеству комнат в квартире:\n",
    "spb_center['rooms'].hist(bins=9).set(title='Количество комнат в центре СПб (все объекты)', \n",
    "    xlabel='количество комнат в квартире', ylabel='количество объектов');\n"
   ]
  },
  {
   "cell_type": "markdown",
   "metadata": {},
   "source": [
    "Как видно из гистограммы, 2-3-комнатных квартир, предлагаемых на продажу, в 2 раза больше чем аналогичных 1 и 4-комнатных. "
   ]
  },
  {
   "cell_type": "markdown",
   "metadata": {},
   "source": [
    "**Вывод**\n",
    "\n",
    "Большинство квартир, предлагаемых на продажу, 2-3 комнатные, однокомнатных и 4-комнатных в 2 раза меньше. Если говорить об отличиях рынка жилья в центре города - следует отметить, что здесь в общей массе очень низкая доля 1-комнатного жилья и выше доля 4-комнатных квартир. "
   ]
  },
  {
   "cell_type": "markdown",
   "metadata": {},
   "source": [
    "##### Предложения на рынке жилья в разрезе высоты потолков"
   ]
  },
  {
   "cell_type": "code",
   "execution_count": null,
   "metadata": {},
   "outputs": [],
   "source": [
    "#основные данные по столбцу ceiling_height:\n",
    "spb_center['ceiling_height'].describe()"
   ]
  },
  {
   "cell_type": "code",
   "execution_count": null,
   "metadata": {},
   "outputs": [],
   "source": [
    "# общая гистограмма по высоте потолков:\n",
    "spb_center['ceiling_height'].hist(bins=20).set(title='Высота потолков в центре СПб (все объекты)', \n",
    "    xlabel='высота потолка в м.', ylabel='количество объектов');\n",
    "plt.show()\n",
    "\n",
    "#гистограмма выборки (в диапазоне от 2.25 до 4 м )\n",
    "spb_center['ceiling_height'].hist(bins=20, range=(2.25, 4)).set(title='Высота потолков в центре СПб (от 2.25 до 4м.)', \n",
    "    xlabel='высота потолка в м.', ylabel='количество объектов');"
   ]
  },
  {
   "cell_type": "markdown",
   "metadata": {},
   "source": [
    "Высота потолка в предлагаемом на продажу жилье в основном принимает значения от 2.6 до 3.2 м с существенным пиком в высоте 2.7 м и вторым пиком в 3 м.\n"
   ]
  },
  {
   "cell_type": "markdown",
   "metadata": {},
   "source": [
    "**Вывод**\n",
    "\n",
    "Высота потолка в предлагаемом на продажу жилье в основном принимает значения от 2.6 до 3.2 м с существенным пиком в высоте 2.7 м и вторым пиком в 3 м.\n",
    "\n",
    "Это немного больше, чем в жилье за пределами центра."
   ]
  },
  {
   "cell_type": "markdown",
   "metadata": {},
   "source": [
    "**Выводы к разделу 4.6.1**\n",
    "\n",
    "\n",
    "На продажу выставлены квартиры общей площадью от 33 до 197 кв.м. По сравнению с районам за пределами центра квартиры в центре больше по площади- как общей, так и жилой. Основная масса- это жилье от 30 до 150 кв.м. с пиком в сегменте 45-80 кв.м. При этом жилая площадь занимает большую долю, чем среднестатистическая квартира: в центре СПб большое количество домов старой застройки, в которой пространство \"сдвинуто\" в пользу жилой площади. Размер площади кухни-в основном от 5 до 15 кв.м., с пиком 9 кв.м. \n",
    "\n",
    "Большинство квартир, предлагаемых на продажу, 2-3 комнатные, однокомнатных и 4-комнатных в 2 раза меньше. Если говорить об отличиях рынка жилья в центре города - следует отметить, что здесь в общей массе достаточно низкая доля 1-комнатного жилья и выше доля 4-комнатных квартир. \n",
    "\n",
    "Цены на квартиры в абсолютном выражении (цена за объект) в основном находятся в диапазоне 2.7-15 млн.руб. с пиком в области 3-5 млн.руб.(маленькие квартиры эконом-класса), но есть и уникальные объекты стоимостью до 35 млн.руб. Стоимость квадратного метра недвижимости в основном варьируется от 50-140 тыс.руб. с пиком в 90-100 тыс.руб. Наряду с типовыми предложениями на продажу выставлено жилье со стоимостью 1 кв.м. до 266 тыс.руб за кв.м. \n",
    "В целом цены жилья центра города выше по цене, чем аналогичное в других районах.\n"
   ]
  },
  {
   "cell_type": "markdown",
   "metadata": {},
   "source": [
    "#### Факторы, влияющие на цену квартиры"
   ]
  },
  {
   "cell_type": "markdown",
   "metadata": {},
   "source": [
    "Выясним, есть ли зависимость цены 1 кв.м. от площади, количества комнат и удаленности от центра. Для этого посчитаем коэффициент корреляции и построим диаграммы рассеяния:"
   ]
  },
  {
   "cell_type": "code",
   "execution_count": null,
   "metadata": {},
   "outputs": [],
   "source": [
    "spb_center[['price_sq_meter', 'total_area', 'rooms', 'city_centers_nearest']].corr()"
   ]
  },
  {
   "cell_type": "markdown",
   "metadata": {},
   "source": [
    "##### Зависимость цены от числа комнат"
   ]
  },
  {
   "cell_type": "markdown",
   "metadata": {},
   "source": [
    "Сгруппируем датафрейм по количеству комнат и посмотрим медианное значение 1 кв.м. и построим диаграмму:"
   ]
  },
  {
   "cell_type": "code",
   "execution_count": null,
   "metadata": {},
   "outputs": [],
   "source": [
    "#группировка по количеству комнат и цене кв.м.\n",
    "spb_center.pivot_table(index='rooms', values='price_sq_meter', aggfunc='median').reset_index().plot(\n",
    "                 x='rooms', y='price_sq_meter', grid=True, style='o-').set(\n",
    "                 title='Зависимость медианы цены 1 кв.м. в центре СПб от количества комнат', \n",
    "                 xlabel='количество комнат', ylabel='цена за 1 кв.м.');\n"
   ]
  },
  {
   "cell_type": "markdown",
   "metadata": {},
   "source": [
    "**Вывод**\n",
    "\n",
    "\n",
    "В 1-комнатных квартирах цена 1 кв.м. максимальна и падает с увеличением количеством комнат.\n",
    "За пределами центра с увеличением количества комнат, начиная с 3 и более, цена уже не коррелирует так явно."
   ]
  },
  {
   "cell_type": "markdown",
   "metadata": {},
   "source": [
    "##### Зависимость цены от этажа"
   ]
  },
  {
   "cell_type": "code",
   "execution_count": null,
   "metadata": {},
   "outputs": [],
   "source": [
    "spb_center[['price_sq_meter','floor', 'floor_group']].corr()"
   ]
  },
  {
   "cell_type": "markdown",
   "metadata": {},
   "source": [
    "Судя по коэффициенту корреляции явной зависимости цены и этажа нет. Рассмотрим детализацию, для чего сгруппируем данные по этажу и медианной стоимости 1 кв.м."
   ]
  },
  {
   "cell_type": "code",
   "execution_count": null,
   "metadata": {},
   "outputs": [],
   "source": [
    "#группировка по этажу и цене кв.м.\n",
    "spb_center.pivot_table(index='floor', values='price_sq_meter', aggfunc='median').reset_index().plot(\n",
    "                 x='floor', y='price_sq_meter', grid=True, style='o-').set(\n",
    "                 title='Зависимость цены 1 кв.м. от этажа', \n",
    "                 xlabel='этаж', ylabel='цена за 1 кв.м.');"
   ]
  },
  {
   "cell_type": "markdown",
   "metadata": {},
   "source": [
    "На \"поэтажном\" графике уже нет ярко выраженных спадов значений кв.метра на \"последних\" этажах типовых планировок, но явно прослеживается спад цены на 1 этаже, а последующие 2-5 находятся практически на одном уровне. Возможно это малоэтажная застройка. В целом можно утверждать однозначно только то, что цена 1-го этажа ниже всех последующих, и предположительно также ниже будет цена последнего этажа.\n",
    "\n",
    "Заметные всплески значений цены в районе 21 этажа возможно связаны с новостройками с хорошим видом из окна и категорией премиум-класса."
   ]
  },
  {
   "cell_type": "markdown",
   "metadata": {},
   "source": [
    "Аналогично посмотрим распределение по группировкам этажей (первый, последний, другой):"
   ]
  },
  {
   "cell_type": "code",
   "execution_count": null,
   "metadata": {},
   "outputs": [],
   "source": [
    "#группировка по категории этажа и цене кв.м.\n",
    "spb_center.pivot_table(index='floor_group', values='price_sq_meter', aggfunc='median').reset_index().plot(\n",
    "                 x='floor_group', y='price_sq_meter', grid=True, style='o-').set(\n",
    "                 title='Зависимость цены 1 кв.м. в центре СПб от этажа', \n",
    "                 xlabel='этаж', ylabel='цена за 1 кв.м.');"
   ]
  },
  {
   "cell_type": "markdown",
   "metadata": {},
   "source": [
    "Из диаграммы можно сделать вывод, что самая низкая цена 1 кв.м.- у квартир на 1 этаже, последний этаж также \"проседает\" в стоимости. "
   ]
  },
  {
   "cell_type": "markdown",
   "metadata": {},
   "source": [
    "**Вывод**\n",
    "\n",
    "Самая низкая цена 1 кв.м.- у квартир на 1 этаже, последний этаж также \"проседает\" в стоимости. Цена остальных квартир также может зависеть от этажа, но на этот фактор будут наслаиваться еще и другие условия (вид из окна, качество жилья, район и тд)"
   ]
  },
  {
   "cell_type": "markdown",
   "metadata": {},
   "source": [
    "##### Зависимость цены от удаленности от центра"
   ]
  },
  {
   "cell_type": "markdown",
   "metadata": {},
   "source": [
    "Рассмотрим цену за 1 кв.м. и расстояние до центра:"
   ]
  },
  {
   "cell_type": "code",
   "execution_count": null,
   "metadata": {},
   "outputs": [],
   "source": [
    "#диаграмма рассеяния (цена и удаленность от центра)\n",
    "spb_center.plot(x='city_centers_nearest', y='price_sq_meter', kind='scatter', alpha=0.8,\n",
    "                       title='Зависимость цены 1 кв.м. от удаленности от центра').set(\n",
    "                       xlabel='удаленность, м', ylabel='цена 1 кв.м.');"
   ]
  },
  {
   "cell_type": "markdown",
   "metadata": {},
   "source": [
    "**Вывод**\n",
    "\n",
    "Уровень корреляции, рассчитанный по всему массиву стоимости квадратного метра и удаленности от центра составил менее 1%: линейная зависимость отсутствует. Как видно из диаграммы, нелинейная зависимость также отсутствует."
   ]
  },
  {
   "cell_type": "markdown",
   "metadata": {},
   "source": [
    "##### Зависимость даты от даты размещения объявления"
   ]
  },
  {
   "cell_type": "code",
   "execution_count": null,
   "metadata": {},
   "outputs": [],
   "source": [
    "spb_center[['price_sq_meter', 'first_day_exposition', 'year_exposition',\n",
    "            'monht_exposition', 'weekday_exposition', ]].corr()"
   ]
  },
  {
   "cell_type": "markdown",
   "metadata": {},
   "source": [
    "Значение коэффициента корреляции по всем параметрам стремится к нулю и, соответственно отсутствует. Применим средства визуализации, чтобы выявить зависимости.\n",
    "\n",
    "Рассмотрим как менялась цена за 1 кв.м. в течение нескольких лет:"
   ]
  },
  {
   "cell_type": "code",
   "execution_count": null,
   "metadata": {},
   "outputs": [],
   "source": [
    "spb_center.boxplot(column='price_sq_meter', by='year_exposition').set(\n",
    "    title='Зависимость цены 1 кв.м. в центре СПб от года размещения объявления', \n",
    "    xlabel='год размещения', ylabel='цена 1 кв.м.');\n"
   ]
  },
  {
   "cell_type": "markdown",
   "metadata": {},
   "source": [
    "То же для нагрядности посмотрим на диаграмме медианных значений:"
   ]
  },
  {
   "cell_type": "code",
   "execution_count": null,
   "metadata": {},
   "outputs": [],
   "source": [
    "#группировка по году размещения объявления и медиане цены кв.м.\n",
    "spb_center.pivot_table(index='year_exposition', values='price_sq_meter', aggfunc='median').reset_index().plot(\n",
    "                      x='year_exposition', y='price_sq_meter', grid=True, style='o-').set(\n",
    "                      title='Зависимость медианы цены 1 кв.м. в центре СПб от года размещения объявления', \n",
    "                      xlabel='год размещения', ylabel='цена за 1 кв.м.');"
   ]
  },
  {
   "cell_type": "markdown",
   "metadata": {},
   "source": [
    "На диаграмме наглядно виден кризис рынка недвижимости 2015-2016 года. Цена на жилье в центре упала ниже 112 тыс.руб. (против 95 тыс.руб.за его пределами). Начиная с 2017 года можно увидеть новый рост стоимости жилья и количества предложений. 2019 год не показателен, т.к. данные представлены только за период с января по май."
   ]
  },
  {
   "cell_type": "markdown",
   "metadata": {},
   "source": [
    "Рассмотрим есть ли зависимость цены от месяца размещения объявления:"
   ]
  },
  {
   "cell_type": "code",
   "execution_count": null,
   "metadata": {},
   "outputs": [],
   "source": [
    "spb_center.boxplot(column='price_sq_meter', by='monht_exposition').set(\n",
    "    title='Зависимость цены 1 кв.м. в центре СПб от месяца размещения объявления', \n",
    "    xlabel='месяц размещения', ylabel='цена 1 кв.м.');\n"
   ]
  },
  {
   "cell_type": "code",
   "execution_count": null,
   "metadata": {},
   "outputs": [],
   "source": [
    "#группировка по месяцу размещения объявления и медиане цены кв.м.\n",
    "spb_center.pivot_table(index='monht_exposition', values='price_sq_meter', aggfunc='median').reset_index().plot(\n",
    "                      x='monht_exposition', y='price_sq_meter', grid=True, style='o-').set(\n",
    "                      title='Зависимость медианы цены 1 кв.м.в центре СПб от месяца размещения объявления', \n",
    "                      xlabel='месяц', ylabel='цена за 1 кв.м.');"
   ]
  },
  {
   "cell_type": "markdown",
   "metadata": {},
   "source": [
    "Диаграмма центра города отличается от аналогичной по районам за пределами центра. Так, в части сезонности продаж: пик спроса и рост цены приходится не на апрель и август, а на март, май и август. Вероятнее всего влияние оказывает рост спроса на недвижимость после завершения года и после отпусков. Спрос на жилье падает не в мае -июне,  а в апреле и июне.  "
   ]
  },
  {
   "cell_type": "code",
   "execution_count": null,
   "metadata": {},
   "outputs": [],
   "source": [
    "#диаграмма разброса по дням недели \n",
    "spb_center.boxplot(column='price_sq_meter', by='weekday_exposition').set(\n",
    "    title='Зависимость цены 1 кв.м. в центре СПб от дня недели размещения объявления', \n",
    "    xlabel='день недели', ylabel='цена 1 кв.м.');\n"
   ]
  },
  {
   "cell_type": "code",
   "execution_count": null,
   "metadata": {},
   "outputs": [],
   "source": [
    "#группировка по дню недели размещения объявления и медиане цены кв.м.\n",
    "spb_center.pivot_table(index='weekday_exposition', values='price_sq_meter', aggfunc='median').reset_index().plot(\n",
    "                      x='weekday_exposition', y='price_sq_meter', grid=True, style='o-').set(\n",
    "                      title='Зависимость медианы цены 1 кв.м. в центре СПб от дня недели размещения объявления', \n",
    "                      xlabel='день недели', ylabel='цена за 1 кв.м.');"
   ]
  },
  {
   "cell_type": "markdown",
   "metadata": {},
   "source": [
    "Максимум цены за 1 кв.м. приходится на среду, субботу и воскресенье, минимум- на вторник и пятницу. "
   ]
  },
  {
   "cell_type": "markdown",
   "metadata": {},
   "source": [
    "**Вывод**\n",
    "\n",
    "Цена 1 кв.м. меняется в течение лет. Так, в представленных данных наглядно видно как повлиял кризис рынка недвижимости на стоимость жилья. Таким образом, нельзя без дополнительной информации о ситуации в макроэкономике судить о тенденциях роста либо снижения цены.\n",
    "Тем не менее, можно отметить сезонность продаж. Диаграмма центра города отличается от аналогичной по районам за пределами центра пик спроса и рост цены приходится не на апрель и август, а на март, май и август. Вероятнее всего влияние оказывает рост спроса на недвижимость после завершения года и после отпусков. Спрос на жилье падает не в мае -июне,  а в апреле и июне.  \n",
    "Поскольку разница между минимальной и максимальной ценой кв.метра-10 тыс.руб.(0,8%) и незначительна.\n",
    "Также максимум цены за 1 кв.м. приходится на среду, минимум- на пятницу и субботу. Но разница между минимальной и максимальной ценой составляет всего 7 тыс.руб.(менее 0,5%) и также незначительна.\n"
   ]
  },
  {
   "cell_type": "markdown",
   "metadata": {},
   "source": [
    "**Вывод по разделу 4.6.2**\n",
    "\n",
    "Влияние на цену 1 кв.м. жилья в центре Санкт-Петербурга выглядит следующим образом:\n",
    "\n",
    "- Зависимость цены от расстояния до центра:\n",
    "Зависимость между расстоянием от центра и ценой в этом диапазоне отсутствует.\n",
    "\n",
    "- Зависимость цены от этажа:\n",
    "Самая низкая цена 1 кв.м.- у квартир на 1 этаже, последний этаж также \"проседает\" в стоимости. Цена остальных квартир также может зависеть от этажа, но на этот фактор будут наслаиваться еще и другие условия (вид из окна, качество жилья, район и тд). \n",
    "\n",
    "\n",
    "- Зависимость цены от количества комнат:\n",
    "В 1-комнатных квартирах цена 1 кв.м. максимальна и падает с увеличением количеством комнат. За пределами центра с увеличением количества комнат, начиная с 3 и более, цена уже не коррелирует так явно\n",
    "\n",
    "- Зависимость цены от года, месяца и дня недели размещения объявления:\n",
    "Цена 1 кв.м. меняется в течение лет. Так, в представленных данных наглядно видно как повлиял кризис рынка недвижимости на стоимость жилья. Таким образом, нельзя без дополнительной информации о ситуации в макроэкономике судить о тенденциях роста либо снижения цены. Тем не менее, можно отметить сезонность продаж. Диаграмма центра города отличается от аналогичной по районам за пределами центра пик спроса и рост цены приходится не на апрель и август, а на март, май и август. Вероятнее всего влияние оказывает рост спроса на недвижимость после завершения года и после отпусков. Спрос на жилье падает не в мае -июне, а в апреле и июне.\n",
    "Поскольку разница между минимальной и максимальной ценой кв.метра-10 тыс.руб.(0,8%) и незначительна. Также максимум цены за 1 кв.м. приходится на среду, минимум- на пятницу и субботу. Но разница между минимальной и максимальной ценой составляет всего 7 тыс.руб.(менее 0,5%) и также незначительна."
   ]
  },
  {
   "cell_type": "markdown",
   "metadata": {},
   "source": [
    "**Выводы по разделу 4**\n",
    "\n",
    "Рынок жилья представлен объектами общей площадью от 12 до 900 кв.м. В основном это жилье от 30 до 100 кв.м. с пиком в сегменте 30-75 кв.м. В жилой площади квартиры преобладает диапазон 15-50 кв.м. Размер площади кухни-от 5 до 15 кв.м., с пиком 9 кв.м. Это стандартные небольшие квартиры эконом-класса. Подавляющее большинство квартир- 1-3 комнатные, с высотой потолка 2,6-2,7 м., но встречаются редкие варианты до 19 комнат и высотой потолка до 20 кв.м. (либо ошибка, либо свободная планировка с возможностью многоуровневости).\n",
    "\n",
    "\n",
    "Цены на квартиры в основном находятся в диапазоне 2.5-15 млн.руб. с пиком в области 3-5 млн.руб.(небольшие квартиры эконом-класса), но есть и уникальные объекты стоимостью до 763 млн.руб. Стоимость квадратного метра недвижимости варьируется от 50-130 тыс.руб. с пиком в 90-100 тыс.руб. Наряду с типовыми предложениями на продажу выставлено жилье премиум-класса со стоимостью 1 кв.м. до 1.9 млн.руб.\n",
    "\n",
    "\n",
    "Общее время продажи жилой недвижимости-до 1618 дней. Половина квартир продается за период до 94 дней, а среднее значение по всему массиву данных -185 дней. При этом можно увидеть, что пик продаж приходится на 45-60 день с момента публикации. Исходя из расчета выбросов можно сказать, что продажи прошли аномально быстро, если сделки были оформлены в период до 16 дней и слишком долго, если до оформления сделки свыше 1134 дней.\n",
    "\n",
    "\n",
    "На цену жилья оказывает влияние  расстояние до центра: у находящихся в радиусе до 25 км от центра верхняя граница стоимости кв.метра обратно пропорциональна удалению от центра, на расстоянии более 60 км стоимость падает значительно.\n",
    "\n",
    "Самая низкая цена 1 кв.м.- у квартир на 1 этаже, последний этаж также \"проседает\" в стоимости. В 1-комнатных квартирах цена 1 кв.м. максимальна и падает с увеличением количеством комнат от 1 к 3. Также можно наблюдать незначительное снижение верхней границы диапазона стоимости у квартир площадью выше 130 кв.м. \n",
    "Также можно отметить сезонность продаж: пик спроса и рост цены кв.метра приходится на апрель и август. Вероятнее всего влияние оказывает рост спроса на недвижимость после завершения года и после отпусков. В мае -июне цена на жилье падает, возможно из-за массовых отпусков и, соответственно, низкого уровня спроса. \n",
    "\t\n",
    "В целом можно отметить тенденцию к росту стоимости жилья в течение нескольких лет. В основном она связана с инфляцией и падением курса рубля и в целом зависит от общего состояния макроэкономики.\n",
    "\n",
    "Город с максимальной средней стоимостью квадратного метра жилья - Санкт-Петербург (109 тыс.за кв.м.), с минимальной- Всеволжск (70 тыс.за кв.м.)\n",
    "\n",
    "Центральная зона Санкт-Петербурга находится в радиусе 8 км от центра. Средняя цена за 1 кв.м. зависит от удаленности от центра города. В центре ее размер составляет 131-123 тыс.руб., и далее уменьшается до 75 тыс.руб.\n",
    "\n",
    "\n",
    "Рынок  недвижимости центральной части города представлен несколько более широким по площади диапазоном : основная масса- это жилье от 30 до 150 кв.м с пиком в сегменте 45-80 кв.м. При этом жилая площадь занимает большую долю, чем среднестатистическая квартира: в центре СПб большое количество домов старой застройки, в которой пространство \"сдвинуто\" в пользу жилой площади. \n",
    "Особенностью этой части города является то, что большинство квартир, предлагаемых на продажу,- 2-3 комнатные: здесь в общей массе достаточно низкая доля 1-комнатного жилья и выше доля 4-комнатных квартир.\n",
    "Наибольшее количество предложений в абсолютном выражении (цена за объект) приходится на диапазон 5-15 млн.руб. с пиком 5-8 млн.руб.(маленькие квартиры эконом-класса), но есть и уникальные объекты стоимостью до 35 млн.руб. Стоимость квадратного метра недвижимости в основном варьируется от 70 до 150 тыс.руб. с пиком в 100 тыс.руб. Наряду с типовыми предложениями на продажу выставлено жилье со стоимостью 1 кв.м. до 266 тыс.руб за кв.м. В целом цены жилья центра города выше по цене, чем аналогичное в других районах.\n",
    "\n",
    "Тем не менее существуют объявления о продаже недвижимости с ценой до 35 млн.руб., но их меньше, чем жилья эконом-класса.\n",
    "В целом цены жилья центра города выше по цене, чем аналогичное в других районах.\n",
    "\n",
    "\n",
    "На цену 1 кв.м. жилья в центре Санкт-Петербурга не влияет расстояние до центра, как в других районах. Самая низкая цена 1 кв.м.- также у квартир на 1 и последнем этаже. В 1-комнатных квартирах цена максимальна и падает с увеличением количеством комнат. За пределами центра с увеличением количества комнат, начиная с 3 и более, цена уже не коррелирует так явно. Если говорить о сезонности продаж, то можно отметить, что по сравнению с остальной частью рынка недвижимости пик спроса и рост цены приходится не на апрель и август, а на март, май и август и падает не в мае -июне, а в апреле и июне. Возможно разница связана с особенностями рынка, находящегося за пределами Санкт-Петербурга.\n",
    "\n",
    "\n",
    "\n",
    "\n",
    "\n"
   ]
  },
  {
   "cell_type": "markdown",
   "metadata": {},
   "source": [
    "## Общий вывод\n",
    "\n",
    "\n",
    "Представленные для анализа данные содержали информацию о данные о конкретной квартире, выставленной на продажу. По каждой квартире доступны два вида данных. Первые вписаны пользователем, вторые — получены автоматически на основе картографических данных. Например, расстояние до центра, аэропорта, ближайшего парка и водоёма.\n",
    "\n",
    "\n",
    "В процессе предварительной обработки данных были выявлены явные и неявные пропуски, ошибки представления значений (значения, не соответствующие действительности). Скорее всего, данные взяты из разных источников, что является результатом пропусков значений в некоторых столбцах, а также предположительны ошибки при выгрузке и из-за некорректного заполнения первоисточников клиентом. Указанные проблемы были устранены.  \n",
    "\n",
    "Для дальнейшего анализа рассчитаны и добавлены отдельными столбцами значения цены 1 кв.м., дня недели, месяца и года объявления, категории этажа, соотношения жилой площади и площади кухни к общей.\n",
    "\n",
    "Исследование показало, что на рынке недвижимости представлено жилье эконом и премиум класса с большим разбросом площади и цены. Основной видимый сегмент предложений находится в диапазоне эконом-класса: спросом пользуются 1-3 комнатные квартиры небольшой площади 30-75 кв.м. с ценой 50-130 тыс.руб.\n",
    "Цена 1 кв.м. зависит от удаленности от центра, этажа (1-й и последний дешевле) и количества комнат (1-комнатные дороже). Прослеживается и сезонность цен: в целом после окончания года к марту цена начинает расти, а летом падает. Это связано с экономикой: спад, как правило прослеживается в феврале и летом.\n",
    "\n",
    "Максимальная стоимость жилья - в Санкт-Петербурге, минимальная -во Всеволжске.\n",
    "Предложения рынка недвижимости в центре Санкт-Петербурга характеризуется несколько большей площадью и ценой, чем прочие районы, но в целом предложений по квартирам с минимальной площадью также достаточно.\n",
    "\n"
   ]
  },
  {
   "cell_type": "markdown",
   "metadata": {},
   "source": [
    "## Чек-лист готовности проекта\n",
    "\n",
    "Поставьте 'x' в выполненных пунктах. Далее нажмите Shift+Enter."
   ]
  },
  {
   "cell_type": "markdown",
   "metadata": {},
   "source": [
    "- [x]  открыт файл\n",
    "- [x]  файлы изучены (выведены первые строки, метод info())\n",
    "- [x]  определены пропущенные значения\n",
    "- [x]  заполнены пропущенные значения\n",
    "- [x]  есть пояснение, какие пропущенные значения обнаружены\n",
    "- [x]  изменены типы данных\n",
    "- [x]  есть пояснение, в каких столбцах изменены типы и почему\n",
    "- [x]  посчитано и добавлено в таблицу: цена квадратного метра\n",
    "- [x]  посчитано и добавлено в таблицу: день недели, месяц и год публикации объявления\n",
    "- [x]  посчитано и добавлено в таблицу: этаж квартиры; варианты — первый, последний, другой\n",
    "- [x]  посчитано и добавлено в таблицу: соотношение жилой и общей площади, а также отношение площади кухни к общей\n",
    "- [x]  изучены следующие параметры: площадь, цена, число комнат, высота потолков\n",
    "- [x]  построены гистограммы для каждого параметра\n",
    "- [x]  выполнено задание: \"Изучите время продажи квартиры. Постройте гистограмму. Посчитайте среднее и медиану. Опишите, сколько обычно занимает продажа. Когда можно считать, что продажи прошли очень быстро, а когда необычно долго?\"\n",
    "- [x]  выполнено задание: \"Уберите редкие и выбивающиеся значения. Опишите, какие особенности обнаружили.\"\n",
    "- [x]  выполнено задание: \"Какие факторы больше всего влияют на стоимость квартиры? Изучите, зависит ли цена от квадратного метра, числа комнат, этажа (первого или последнего), удалённости от центра. Также изучите зависимость от даты размещения: дня недели, месяца и года. \"Выберите 10 населённых пунктов с наибольшим числом объявлений. Посчитайте среднюю цену квадратного метра в этих населённых пунктах. Выделите населённые пункты с самой высокой и низкой стоимостью жилья. Эти данные можно найти по имени в столбце '*locality_name'*. \"\n",
    "- [x]  выполнено задание: \"Изучите предложения квартир: для каждой квартиры есть информация о расстоянии до центра. Выделите квартиры в Санкт-Петербурге (*'locality_name'*). Ваша задача — выяснить, какая область входит в центр. Создайте столбец с расстоянием до центра в километрах: округлите до целых значений. После этого посчитайте среднюю цену для каждого километра. Постройте график: он должен показывать, как цена зависит от удалённости от центра. Определите границу, где график сильно меняется — это и будет центральная зона. \"\n",
    "- [x]  выполнено задание: \"Выделите сегмент квартир в центре. Проанализируйте эту территорию и изучите следующие параметры: площадь, цена, число комнат, высота потолков. Также выделите факторы, которые влияют на стоимость квартиры (число комнат, этаж, удалённость от центра, дата размещения объявления). Сделайте выводы. Отличаются ли они от общих выводов по всему городу?\"\n",
    "- [x]  в каждом этапе есть выводы\n",
    "- [x]  есть общий вывод"
   ]
  }
 ],
 "metadata": {
  "kernelspec": {
   "display_name": "Python 3 (ipykernel)",
   "language": "python",
   "name": "python3"
  },
  "language_info": {
   "codemirror_mode": {
    "name": "ipython",
    "version": 3
   },
   "file_extension": ".py",
   "mimetype": "text/x-python",
   "name": "python",
   "nbconvert_exporter": "python",
   "pygments_lexer": "ipython3",
   "version": "3.10.4"
  },
  "toc": {
   "base_numbering": 1,
   "nav_menu": {},
   "number_sections": true,
   "sideBar": true,
   "skip_h1_title": true,
   "title_cell": "Содержание",
   "title_sidebar": "Contents",
   "toc_cell": true,
   "toc_position": {
    "height": "calc(100% - 180px)",
    "left": "10px",
    "top": "150px",
    "width": "388.969px"
   },
   "toc_section_display": true,
   "toc_window_display": false
  }
 },
 "nbformat": 4,
 "nbformat_minor": 2
}
