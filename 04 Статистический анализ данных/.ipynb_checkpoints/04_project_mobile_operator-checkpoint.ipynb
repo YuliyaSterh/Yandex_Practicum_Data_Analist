{
 "cells": [
  {
   "cell_type": "markdown",
   "id": "0f2e7222",
   "metadata": {},
   "source": [
    "# Исследование тарифных планов федерального оператора сотовой связи. <a class=\"tocSkip\"> \n",
    "\n",
    " Клиентам сотовой связи предлагается два тарифных плана: «Смарт» и «Ультра». Чтобы скорректировать рекламный бюджет, необходимо выяснить, какой тариф приносит больше денег.\n",
    "\n",
    "## Описание проекта. <a class=\"tocSkip\"> \n",
    "\n",
    "По представленным данным необходимо провести предварительный анализ тарифов на небольшой выборке клиентов. В нашем распоряжении данные 500 пользователей «Мегалайна»: кто они, откуда, каким тарифом пользуются, сколько звонков и сообщений каждый отправил за 2018 год. \n",
    "\n",
    "\n",
    "###### Описание тарифов:\n",
    "\n",
    "\n",
    "**- Тариф «Смарт»**\n",
    "\n",
    "\n",
    "1.\tЕжемесячная плата: 550 рублей\n",
    "2.\tВключено 500 минут разговора, 50 сообщений и 15 Гб интернет-трафика\n",
    "3.\tСтоимость услуг сверх тарифного пакета: 1. минута разговора: 3 рубля («Мегалайн» всегда округляет вверх значения минут и мегабайтов. Если пользователь проговорил всего 1 секунду, в тарифе засчитывается целая минута); 2. сообщение: 3 рубля; 3. 1 Гб интернет-трафика: 200 рублей.\n",
    "\n",
    "\n",
    "**- Тариф «Ультра»**\n",
    "\n",
    "1.\tЕжемесячная плата: 1950 рублей\n",
    "2.\tВключено 3000 минут разговора, 1000 сообщений и 30 Гб интернет-трафика\n",
    "3.\tСтоимость услуг сверх тарифного пакета: 1. минута разговора: 1 рубль; 2. сообщение: 1 рубль; 3. 1 Гб интернет-трафика: 150 рублей.\n",
    "\n",
    "\n",
    "Примечание:\n",
    "«Мегалайн» всегда округляет секунды до минут, а мегабайты — до гигабайт. Каждый звонок округляется отдельно: даже если он длился всего 1 секунду, будет засчитан как 1 минута.\n",
    "Для веб-трафика отдельные сессии не считаются. Вместо этого общая сумма за месяц округляется в бо́льшую сторону. Если абонент использует 1025 мегабайт в этом месяце, с него возьмут плату за 2 гигабайта.\n",
    "\n",
    "###### Цель исследования :\n",
    "Проанализировать поведение клиентов и сделать вывод — какой тариф лучше.\n",
    "\n",
    "###### Ход исследования\n",
    "\n",
    "Данные о поведении пользователей (статистика о платёжеспособности клиентов)- в файлах: \n",
    "\n",
    "    •\t/datasets/calls.csv \n",
    "    •\t/datasets/internet.csv\n",
    "    •\t/datasets/messages.csv\n",
    "    •\t/datasets/tariffs.csv\n",
    "    •\t/datasets/users.csv\n",
    "\n",
    "О качестве данных ничего не известно. Поэтому перед проверкой гипотез понадобится обзор данных.\n",
    "\n",
    "Проверим данные на ошибки и оценим их влияние на исследование. Затем, на этапе предобработки поищем возможность исправить самые критичные ошибки данных.\n",
    "\n",
    "Таким образом, исследование пройдёт в три этапа:\n",
    "\n",
    "1. Обзор данных.\n",
    "\n",
    "\n",
    "2. Предобработка данных.\n",
    "\n",
    "\n",
    "3. Расчет дополнительных параметров, необходимых для исследования:\n",
    "\n",
    "\n",
    "      •\tколичество сделанных звонков и израсходованных минут разговора по месяцам;\n",
    "      •\tколичество отправленных сообщений по месяцам;\n",
    "      •\tобъем израсходованного интернет-трафика по месяцам;\n",
    "      •\tпомесячную выручку с каждого пользователя (вычтете бесплатный лимит из суммарного количества звонков, сообщений и интернет-трафика; остаток умножьте на значение из тарифного плана; прибавьте абонентскую плату, соответствующую тарифному плану).\n",
    "\n",
    "\n",
    "4. Исследовательский анализ данных. \n",
    "     \n",
    "    •\tОписание поведения клиентов оператора, исходя из выборки.       \n",
    "        \n",
    "    •\tПроверка гипотез: \n",
    "    \n",
    "         - средняя выручка пользователей тарифов «Ультра» и «Смарт» различаются;\n",
    "         - средняя выручка пользователей из Москвы отличается от выручки пользователей из других регионов.\n",
    "\n",
    "  "
   ]
  },
  {
   "cell_type": "markdown",
   "id": "c55b2184",
   "metadata": {},
   "source": [
    "# Обзор данных."
   ]
  },
  {
   "cell_type": "code",
   "execution_count": 1,
   "id": "a42ad5f8",
   "metadata": {},
   "outputs": [],
   "source": [
    "#импорт библиотек\n",
    "import pandas as pd\n",
    "import matplotlib.pyplot as plt\n",
    "%matplotlib inline\n",
    "import warnings\n",
    "import numpy as np\n",
    "from scipy import stats as st\n",
    "\n",
    "warnings.filterwarnings('ignore')\n",
    "\n",
    "#открываем и сохраняем как датафреймы файлы с данными:\n",
    "try:\n",
    "    # personal path\n",
    "    calls = pd.read_csv('calls.csv') \n",
    "    internet = pd.read_csv('internet.csv') \n",
    "    messages = pd.read_csv('messages.csv') \n",
    "    tariffs = pd.read_csv('tariffs.csv') \n",
    "    users = pd.read_csv('users.csv') \n",
    "    \n",
    "except:\n",
    "    # Yandex path\n",
    "    calls = pd.read_csv('/datasets/calls.csv') \n",
    "    internet = pd.read_csv('/datasets/internet.csv') \n",
    "    messages = pd.read_csv('/datasets/messages.csv') \n",
    "    tariffs = pd.read_csv('/datasets/tariffs.csv') \n",
    "    users = pd.read_csv('/datasets/users.csv')\n",
    "    "
   ]
  },
  {
   "cell_type": "markdown",
   "id": "ef630e00",
   "metadata": {},
   "source": [
    "Для удобства зададим несколько функций:"
   ]
  },
  {
   "cell_type": "code",
   "execution_count": 2,
   "id": "ffed8fcf",
   "metadata": {},
   "outputs": [],
   "source": [
    "#функция для вывода состава столбцов\n",
    "def describe_cols(df_data):\n",
    "    df = df_data\n",
    "    values = pd.DataFrame()\n",
    "    \n",
    "    for col in df.columns:\n",
    "        values[col] = [df[col].unique(), df[col].dtypes, df[col].nunique()]\n",
    "        \n",
    "    return values.transpose().sort_values(by=1, ascending=True).rename(\n",
    "        {0: 'Значения', 1: 'тип данных', 2: 'Кол-во уникальных значений'}, axis=1)\n",
    "\n",
    "\n",
    "#функция для вывода пустых значений и их доли в столбцах датафрейма\n",
    "def nan_values(df_data):\n",
    "    df = df_data\n",
    "    count_missing = df.isna().sum()\n",
    "    percent_missing = round(df.isna().sum() * 100 / len(df), 2)\n",
    "    \n",
    "    missing_value_df = pd.DataFrame({'column_name': df.columns,\n",
    "                                     'num_missing': count_missing,\n",
    "                                     'percent_missing': percent_missing})\n",
    "    \n",
    "    return missing_value_df\n",
    "\n",
    "\n",
    "#функция для вывода информации о файле\n",
    "def df_info (df_data):\n",
    "    print('Количество строк файла:', len(df_data))\n",
    "    print()\n",
    "    print('Информация о содержимом файла:')\n",
    "    display(describe_cols(df_data))\n",
    "    print()\n",
    "    print('Информация о пропусках данных:')\n",
    "    display(nan_values(df_data))\n",
    "    print()\n",
    "    print('Первые пять строк таблицы:')\n",
    "    display(df_data.head())\n"
   ]
  },
  {
   "cell_type": "markdown",
   "id": "0b114622",
   "metadata": {},
   "source": [
    "Рассмотрим подробнее содержимое файлов:"
   ]
  },
  {
   "cell_type": "markdown",
   "id": "ab65235d",
   "metadata": {},
   "source": [
    "## Файл `calls`:"
   ]
  },
  {
   "cell_type": "code",
   "execution_count": 3,
   "id": "4e911a18",
   "metadata": {},
   "outputs": [
    {
     "name": "stdout",
     "output_type": "stream",
     "text": [
      "Количество строк файла: 202607\n",
      "\n",
      "Информация о содержимом файла:\n"
     ]
    },
    {
     "data": {
      "text/html": [
       "<div>\n",
       "<style scoped>\n",
       "    .dataframe tbody tr th:only-of-type {\n",
       "        vertical-align: middle;\n",
       "    }\n",
       "\n",
       "    .dataframe tbody tr th {\n",
       "        vertical-align: top;\n",
       "    }\n",
       "\n",
       "    .dataframe thead th {\n",
       "        text-align: right;\n",
       "    }\n",
       "</style>\n",
       "<table border=\"1\" class=\"dataframe\">\n",
       "  <thead>\n",
       "    <tr style=\"text-align: right;\">\n",
       "      <th></th>\n",
       "      <th>Значения</th>\n",
       "      <th>тип данных</th>\n",
       "      <th>Кол-во уникальных значений</th>\n",
       "    </tr>\n",
       "  </thead>\n",
       "  <tbody>\n",
       "    <tr>\n",
       "      <th>user_id</th>\n",
       "      <td>[1000, 1001, 1002, 1003, 1004, 1005, 1006, 100...</td>\n",
       "      <td>int64</td>\n",
       "      <td>492</td>\n",
       "    </tr>\n",
       "    <tr>\n",
       "      <th>duration</th>\n",
       "      <td>[0.0, 2.85, 13.8, 5.18, 18.31, 18.44, 5.03, 18...</td>\n",
       "      <td>float64</td>\n",
       "      <td>2871</td>\n",
       "    </tr>\n",
       "    <tr>\n",
       "      <th>id</th>\n",
       "      <td>[1000_0, 1000_1, 1000_2, 1000_3, 1000_4, 1000_...</td>\n",
       "      <td>object</td>\n",
       "      <td>202607</td>\n",
       "    </tr>\n",
       "    <tr>\n",
       "      <th>call_date</th>\n",
       "      <td>[2018-07-25, 2018-08-17, 2018-06-11, 2018-09-2...</td>\n",
       "      <td>object</td>\n",
       "      <td>365</td>\n",
       "    </tr>\n",
       "  </tbody>\n",
       "</table>\n",
       "</div>"
      ],
      "text/plain": [
       "                                                    Значения тип данных  \\\n",
       "user_id    [1000, 1001, 1002, 1003, 1004, 1005, 1006, 100...      int64   \n",
       "duration   [0.0, 2.85, 13.8, 5.18, 18.31, 18.44, 5.03, 18...    float64   \n",
       "id         [1000_0, 1000_1, 1000_2, 1000_3, 1000_4, 1000_...     object   \n",
       "call_date  [2018-07-25, 2018-08-17, 2018-06-11, 2018-09-2...     object   \n",
       "\n",
       "          Кол-во уникальных значений  \n",
       "user_id                          492  \n",
       "duration                        2871  \n",
       "id                            202607  \n",
       "call_date                        365  "
      ]
     },
     "metadata": {},
     "output_type": "display_data"
    },
    {
     "name": "stdout",
     "output_type": "stream",
     "text": [
      "\n",
      "Информация о пропусках данных:\n"
     ]
    },
    {
     "data": {
      "text/html": [
       "<div>\n",
       "<style scoped>\n",
       "    .dataframe tbody tr th:only-of-type {\n",
       "        vertical-align: middle;\n",
       "    }\n",
       "\n",
       "    .dataframe tbody tr th {\n",
       "        vertical-align: top;\n",
       "    }\n",
       "\n",
       "    .dataframe thead th {\n",
       "        text-align: right;\n",
       "    }\n",
       "</style>\n",
       "<table border=\"1\" class=\"dataframe\">\n",
       "  <thead>\n",
       "    <tr style=\"text-align: right;\">\n",
       "      <th></th>\n",
       "      <th>column_name</th>\n",
       "      <th>num_missing</th>\n",
       "      <th>percent_missing</th>\n",
       "    </tr>\n",
       "  </thead>\n",
       "  <tbody>\n",
       "    <tr>\n",
       "      <th>id</th>\n",
       "      <td>id</td>\n",
       "      <td>0</td>\n",
       "      <td>0.0</td>\n",
       "    </tr>\n",
       "    <tr>\n",
       "      <th>call_date</th>\n",
       "      <td>call_date</td>\n",
       "      <td>0</td>\n",
       "      <td>0.0</td>\n",
       "    </tr>\n",
       "    <tr>\n",
       "      <th>duration</th>\n",
       "      <td>duration</td>\n",
       "      <td>0</td>\n",
       "      <td>0.0</td>\n",
       "    </tr>\n",
       "    <tr>\n",
       "      <th>user_id</th>\n",
       "      <td>user_id</td>\n",
       "      <td>0</td>\n",
       "      <td>0.0</td>\n",
       "    </tr>\n",
       "  </tbody>\n",
       "</table>\n",
       "</div>"
      ],
      "text/plain": [
       "          column_name  num_missing  percent_missing\n",
       "id                 id            0              0.0\n",
       "call_date   call_date            0              0.0\n",
       "duration     duration            0              0.0\n",
       "user_id       user_id            0              0.0"
      ]
     },
     "metadata": {},
     "output_type": "display_data"
    },
    {
     "name": "stdout",
     "output_type": "stream",
     "text": [
      "\n",
      "Первые пять строк таблицы:\n"
     ]
    },
    {
     "data": {
      "text/html": [
       "<div>\n",
       "<style scoped>\n",
       "    .dataframe tbody tr th:only-of-type {\n",
       "        vertical-align: middle;\n",
       "    }\n",
       "\n",
       "    .dataframe tbody tr th {\n",
       "        vertical-align: top;\n",
       "    }\n",
       "\n",
       "    .dataframe thead th {\n",
       "        text-align: right;\n",
       "    }\n",
       "</style>\n",
       "<table border=\"1\" class=\"dataframe\">\n",
       "  <thead>\n",
       "    <tr style=\"text-align: right;\">\n",
       "      <th></th>\n",
       "      <th>id</th>\n",
       "      <th>call_date</th>\n",
       "      <th>duration</th>\n",
       "      <th>user_id</th>\n",
       "    </tr>\n",
       "  </thead>\n",
       "  <tbody>\n",
       "    <tr>\n",
       "      <th>0</th>\n",
       "      <td>1000_0</td>\n",
       "      <td>2018-07-25</td>\n",
       "      <td>0.00</td>\n",
       "      <td>1000</td>\n",
       "    </tr>\n",
       "    <tr>\n",
       "      <th>1</th>\n",
       "      <td>1000_1</td>\n",
       "      <td>2018-08-17</td>\n",
       "      <td>0.00</td>\n",
       "      <td>1000</td>\n",
       "    </tr>\n",
       "    <tr>\n",
       "      <th>2</th>\n",
       "      <td>1000_2</td>\n",
       "      <td>2018-06-11</td>\n",
       "      <td>2.85</td>\n",
       "      <td>1000</td>\n",
       "    </tr>\n",
       "    <tr>\n",
       "      <th>3</th>\n",
       "      <td>1000_3</td>\n",
       "      <td>2018-09-21</td>\n",
       "      <td>13.80</td>\n",
       "      <td>1000</td>\n",
       "    </tr>\n",
       "    <tr>\n",
       "      <th>4</th>\n",
       "      <td>1000_4</td>\n",
       "      <td>2018-12-15</td>\n",
       "      <td>5.18</td>\n",
       "      <td>1000</td>\n",
       "    </tr>\n",
       "  </tbody>\n",
       "</table>\n",
       "</div>"
      ],
      "text/plain": [
       "       id   call_date  duration  user_id\n",
       "0  1000_0  2018-07-25      0.00     1000\n",
       "1  1000_1  2018-08-17      0.00     1000\n",
       "2  1000_2  2018-06-11      2.85     1000\n",
       "3  1000_3  2018-09-21     13.80     1000\n",
       "4  1000_4  2018-12-15      5.18     1000"
      ]
     },
     "metadata": {},
     "output_type": "display_data"
    }
   ],
   "source": [
    "#информация о содержимом \n",
    "df_info(calls)    "
   ]
  },
  {
   "cell_type": "code",
   "execution_count": 4,
   "id": "e3a8e44c",
   "metadata": {},
   "outputs": [
    {
     "data": {
      "text/html": [
       "<div>\n",
       "<style scoped>\n",
       "    .dataframe tbody tr th:only-of-type {\n",
       "        vertical-align: middle;\n",
       "    }\n",
       "\n",
       "    .dataframe tbody tr th {\n",
       "        vertical-align: top;\n",
       "    }\n",
       "\n",
       "    .dataframe thead th {\n",
       "        text-align: right;\n",
       "    }\n",
       "</style>\n",
       "<table border=\"1\" class=\"dataframe\">\n",
       "  <thead>\n",
       "    <tr style=\"text-align: right;\">\n",
       "      <th></th>\n",
       "      <th>duration</th>\n",
       "      <th>user_id</th>\n",
       "    </tr>\n",
       "  </thead>\n",
       "  <tbody>\n",
       "    <tr>\n",
       "      <th>count</th>\n",
       "      <td>202607.000000</td>\n",
       "      <td>202607.000000</td>\n",
       "    </tr>\n",
       "    <tr>\n",
       "      <th>mean</th>\n",
       "      <td>6.755887</td>\n",
       "      <td>1253.940619</td>\n",
       "    </tr>\n",
       "    <tr>\n",
       "      <th>std</th>\n",
       "      <td>5.843365</td>\n",
       "      <td>144.722751</td>\n",
       "    </tr>\n",
       "    <tr>\n",
       "      <th>min</th>\n",
       "      <td>0.000000</td>\n",
       "      <td>1000.000000</td>\n",
       "    </tr>\n",
       "    <tr>\n",
       "      <th>25%</th>\n",
       "      <td>1.300000</td>\n",
       "      <td>1126.000000</td>\n",
       "    </tr>\n",
       "    <tr>\n",
       "      <th>50%</th>\n",
       "      <td>6.000000</td>\n",
       "      <td>1260.000000</td>\n",
       "    </tr>\n",
       "    <tr>\n",
       "      <th>75%</th>\n",
       "      <td>10.700000</td>\n",
       "      <td>1379.000000</td>\n",
       "    </tr>\n",
       "    <tr>\n",
       "      <th>max</th>\n",
       "      <td>38.000000</td>\n",
       "      <td>1499.000000</td>\n",
       "    </tr>\n",
       "  </tbody>\n",
       "</table>\n",
       "</div>"
      ],
      "text/plain": [
       "            duration        user_id\n",
       "count  202607.000000  202607.000000\n",
       "mean        6.755887    1253.940619\n",
       "std         5.843365     144.722751\n",
       "min         0.000000    1000.000000\n",
       "25%         1.300000    1126.000000\n",
       "50%         6.000000    1260.000000\n",
       "75%        10.700000    1379.000000\n",
       "max        38.000000    1499.000000"
      ]
     },
     "execution_count": 4,
     "metadata": {},
     "output_type": "execute_result"
    }
   ],
   "source": [
    "# проверим данные на логические ошибки (\"здравый смысл\"):\n",
    "calls.describe()"
   ]
  },
  {
   "cell_type": "markdown",
   "id": "6f4d951d",
   "metadata": {},
   "source": [
    "**Вывод**\n",
    "\n",
    "В файле `calls` - данные о звонках клиентов.\n",
    "\n",
    "\n",
    "Содержание данных:\n",
    "\n",
    "- `user_id`\t- id пользователя \n",
    " - `id` - id звонка пользователя\n",
    " - `call_date` - дата звонка\n",
    " - `duration` - продолжительность звонка \n",
    " \n",
    "Файл содержит 202607 строк, пропуски отсутствуют. \n",
    "\n",
    "\n",
    "**Необходимые изменения:**\n",
    "\n",
    "- необходимо заменить формат столбца `call_date` с object на datetime "
   ]
  },
  {
   "cell_type": "markdown",
   "id": "9ceb010f",
   "metadata": {},
   "source": [
    "## Файл `internet`:"
   ]
  },
  {
   "cell_type": "code",
   "execution_count": 5,
   "id": "f8df9ada",
   "metadata": {},
   "outputs": [
    {
     "name": "stdout",
     "output_type": "stream",
     "text": [
      "Количество строк файла: 149396\n",
      "\n",
      "Информация о содержимом файла:\n"
     ]
    },
    {
     "data": {
      "text/html": [
       "<div>\n",
       "<style scoped>\n",
       "    .dataframe tbody tr th:only-of-type {\n",
       "        vertical-align: middle;\n",
       "    }\n",
       "\n",
       "    .dataframe tbody tr th {\n",
       "        vertical-align: top;\n",
       "    }\n",
       "\n",
       "    .dataframe thead th {\n",
       "        text-align: right;\n",
       "    }\n",
       "</style>\n",
       "<table border=\"1\" class=\"dataframe\">\n",
       "  <thead>\n",
       "    <tr style=\"text-align: right;\">\n",
       "      <th></th>\n",
       "      <th>Значения</th>\n",
       "      <th>тип данных</th>\n",
       "      <th>Кол-во уникальных значений</th>\n",
       "    </tr>\n",
       "  </thead>\n",
       "  <tbody>\n",
       "    <tr>\n",
       "      <th>Unnamed: 0</th>\n",
       "      <td>[0, 1, 2, 3, 4, 5, 6, 7, 8, 9, 10, 11, 12, 13,...</td>\n",
       "      <td>int64</td>\n",
       "      <td>149396</td>\n",
       "    </tr>\n",
       "    <tr>\n",
       "      <th>user_id</th>\n",
       "      <td>[1000, 1001, 1002, 1003, 1004, 1005, 1006, 100...</td>\n",
       "      <td>int64</td>\n",
       "      <td>497</td>\n",
       "    </tr>\n",
       "    <tr>\n",
       "      <th>mb_used</th>\n",
       "      <td>[112.95, 1052.81, 1197.26, 550.27, 302.56, 399...</td>\n",
       "      <td>float64</td>\n",
       "      <td>70003</td>\n",
       "    </tr>\n",
       "    <tr>\n",
       "      <th>id</th>\n",
       "      <td>[1000_0, 1000_1, 1000_2, 1000_3, 1000_4, 1000_...</td>\n",
       "      <td>object</td>\n",
       "      <td>149396</td>\n",
       "    </tr>\n",
       "    <tr>\n",
       "      <th>session_date</th>\n",
       "      <td>[2018-11-25, 2018-09-07, 2018-06-25, 2018-08-2...</td>\n",
       "      <td>object</td>\n",
       "      <td>365</td>\n",
       "    </tr>\n",
       "  </tbody>\n",
       "</table>\n",
       "</div>"
      ],
      "text/plain": [
       "                                                       Значения тип данных  \\\n",
       "Unnamed: 0    [0, 1, 2, 3, 4, 5, 6, 7, 8, 9, 10, 11, 12, 13,...      int64   \n",
       "user_id       [1000, 1001, 1002, 1003, 1004, 1005, 1006, 100...      int64   \n",
       "mb_used       [112.95, 1052.81, 1197.26, 550.27, 302.56, 399...    float64   \n",
       "id            [1000_0, 1000_1, 1000_2, 1000_3, 1000_4, 1000_...     object   \n",
       "session_date  [2018-11-25, 2018-09-07, 2018-06-25, 2018-08-2...     object   \n",
       "\n",
       "             Кол-во уникальных значений  \n",
       "Unnamed: 0                       149396  \n",
       "user_id                             497  \n",
       "mb_used                           70003  \n",
       "id                               149396  \n",
       "session_date                        365  "
      ]
     },
     "metadata": {},
     "output_type": "display_data"
    },
    {
     "name": "stdout",
     "output_type": "stream",
     "text": [
      "\n",
      "Информация о пропусках данных:\n"
     ]
    },
    {
     "data": {
      "text/html": [
       "<div>\n",
       "<style scoped>\n",
       "    .dataframe tbody tr th:only-of-type {\n",
       "        vertical-align: middle;\n",
       "    }\n",
       "\n",
       "    .dataframe tbody tr th {\n",
       "        vertical-align: top;\n",
       "    }\n",
       "\n",
       "    .dataframe thead th {\n",
       "        text-align: right;\n",
       "    }\n",
       "</style>\n",
       "<table border=\"1\" class=\"dataframe\">\n",
       "  <thead>\n",
       "    <tr style=\"text-align: right;\">\n",
       "      <th></th>\n",
       "      <th>column_name</th>\n",
       "      <th>num_missing</th>\n",
       "      <th>percent_missing</th>\n",
       "    </tr>\n",
       "  </thead>\n",
       "  <tbody>\n",
       "    <tr>\n",
       "      <th>Unnamed: 0</th>\n",
       "      <td>Unnamed: 0</td>\n",
       "      <td>0</td>\n",
       "      <td>0.0</td>\n",
       "    </tr>\n",
       "    <tr>\n",
       "      <th>id</th>\n",
       "      <td>id</td>\n",
       "      <td>0</td>\n",
       "      <td>0.0</td>\n",
       "    </tr>\n",
       "    <tr>\n",
       "      <th>mb_used</th>\n",
       "      <td>mb_used</td>\n",
       "      <td>0</td>\n",
       "      <td>0.0</td>\n",
       "    </tr>\n",
       "    <tr>\n",
       "      <th>session_date</th>\n",
       "      <td>session_date</td>\n",
       "      <td>0</td>\n",
       "      <td>0.0</td>\n",
       "    </tr>\n",
       "    <tr>\n",
       "      <th>user_id</th>\n",
       "      <td>user_id</td>\n",
       "      <td>0</td>\n",
       "      <td>0.0</td>\n",
       "    </tr>\n",
       "  </tbody>\n",
       "</table>\n",
       "</div>"
      ],
      "text/plain": [
       "               column_name  num_missing  percent_missing\n",
       "Unnamed: 0      Unnamed: 0            0              0.0\n",
       "id                      id            0              0.0\n",
       "mb_used            mb_used            0              0.0\n",
       "session_date  session_date            0              0.0\n",
       "user_id            user_id            0              0.0"
      ]
     },
     "metadata": {},
     "output_type": "display_data"
    },
    {
     "name": "stdout",
     "output_type": "stream",
     "text": [
      "\n",
      "Первые пять строк таблицы:\n"
     ]
    },
    {
     "data": {
      "text/html": [
       "<div>\n",
       "<style scoped>\n",
       "    .dataframe tbody tr th:only-of-type {\n",
       "        vertical-align: middle;\n",
       "    }\n",
       "\n",
       "    .dataframe tbody tr th {\n",
       "        vertical-align: top;\n",
       "    }\n",
       "\n",
       "    .dataframe thead th {\n",
       "        text-align: right;\n",
       "    }\n",
       "</style>\n",
       "<table border=\"1\" class=\"dataframe\">\n",
       "  <thead>\n",
       "    <tr style=\"text-align: right;\">\n",
       "      <th></th>\n",
       "      <th>Unnamed: 0</th>\n",
       "      <th>id</th>\n",
       "      <th>mb_used</th>\n",
       "      <th>session_date</th>\n",
       "      <th>user_id</th>\n",
       "    </tr>\n",
       "  </thead>\n",
       "  <tbody>\n",
       "    <tr>\n",
       "      <th>0</th>\n",
       "      <td>0</td>\n",
       "      <td>1000_0</td>\n",
       "      <td>112.95</td>\n",
       "      <td>2018-11-25</td>\n",
       "      <td>1000</td>\n",
       "    </tr>\n",
       "    <tr>\n",
       "      <th>1</th>\n",
       "      <td>1</td>\n",
       "      <td>1000_1</td>\n",
       "      <td>1052.81</td>\n",
       "      <td>2018-09-07</td>\n",
       "      <td>1000</td>\n",
       "    </tr>\n",
       "    <tr>\n",
       "      <th>2</th>\n",
       "      <td>2</td>\n",
       "      <td>1000_2</td>\n",
       "      <td>1197.26</td>\n",
       "      <td>2018-06-25</td>\n",
       "      <td>1000</td>\n",
       "    </tr>\n",
       "    <tr>\n",
       "      <th>3</th>\n",
       "      <td>3</td>\n",
       "      <td>1000_3</td>\n",
       "      <td>550.27</td>\n",
       "      <td>2018-08-22</td>\n",
       "      <td>1000</td>\n",
       "    </tr>\n",
       "    <tr>\n",
       "      <th>4</th>\n",
       "      <td>4</td>\n",
       "      <td>1000_4</td>\n",
       "      <td>302.56</td>\n",
       "      <td>2018-09-24</td>\n",
       "      <td>1000</td>\n",
       "    </tr>\n",
       "  </tbody>\n",
       "</table>\n",
       "</div>"
      ],
      "text/plain": [
       "   Unnamed: 0      id  mb_used session_date  user_id\n",
       "0           0  1000_0   112.95   2018-11-25     1000\n",
       "1           1  1000_1  1052.81   2018-09-07     1000\n",
       "2           2  1000_2  1197.26   2018-06-25     1000\n",
       "3           3  1000_3   550.27   2018-08-22     1000\n",
       "4           4  1000_4   302.56   2018-09-24     1000"
      ]
     },
     "metadata": {},
     "output_type": "display_data"
    }
   ],
   "source": [
    "#информация о содержимом \n",
    "df_info(internet)    "
   ]
  },
  {
   "cell_type": "code",
   "execution_count": 6,
   "id": "8d5b75b8",
   "metadata": {},
   "outputs": [
    {
     "data": {
      "text/html": [
       "<div>\n",
       "<style scoped>\n",
       "    .dataframe tbody tr th:only-of-type {\n",
       "        vertical-align: middle;\n",
       "    }\n",
       "\n",
       "    .dataframe tbody tr th {\n",
       "        vertical-align: top;\n",
       "    }\n",
       "\n",
       "    .dataframe thead th {\n",
       "        text-align: right;\n",
       "    }\n",
       "</style>\n",
       "<table border=\"1\" class=\"dataframe\">\n",
       "  <thead>\n",
       "    <tr style=\"text-align: right;\">\n",
       "      <th></th>\n",
       "      <th>Unnamed: 0</th>\n",
       "      <th>mb_used</th>\n",
       "      <th>user_id</th>\n",
       "    </tr>\n",
       "  </thead>\n",
       "  <tbody>\n",
       "    <tr>\n",
       "      <th>count</th>\n",
       "      <td>149396.000000</td>\n",
       "      <td>149396.000000</td>\n",
       "      <td>149396.000000</td>\n",
       "    </tr>\n",
       "    <tr>\n",
       "      <th>mean</th>\n",
       "      <td>74697.500000</td>\n",
       "      <td>370.192426</td>\n",
       "      <td>1252.099842</td>\n",
       "    </tr>\n",
       "    <tr>\n",
       "      <th>std</th>\n",
       "      <td>43127.054745</td>\n",
       "      <td>278.300951</td>\n",
       "      <td>144.050823</td>\n",
       "    </tr>\n",
       "    <tr>\n",
       "      <th>min</th>\n",
       "      <td>0.000000</td>\n",
       "      <td>0.000000</td>\n",
       "      <td>1000.000000</td>\n",
       "    </tr>\n",
       "    <tr>\n",
       "      <th>25%</th>\n",
       "      <td>37348.750000</td>\n",
       "      <td>138.187500</td>\n",
       "      <td>1130.000000</td>\n",
       "    </tr>\n",
       "    <tr>\n",
       "      <th>50%</th>\n",
       "      <td>74697.500000</td>\n",
       "      <td>348.015000</td>\n",
       "      <td>1251.000000</td>\n",
       "    </tr>\n",
       "    <tr>\n",
       "      <th>75%</th>\n",
       "      <td>112046.250000</td>\n",
       "      <td>559.552500</td>\n",
       "      <td>1380.000000</td>\n",
       "    </tr>\n",
       "    <tr>\n",
       "      <th>max</th>\n",
       "      <td>149395.000000</td>\n",
       "      <td>1724.830000</td>\n",
       "      <td>1499.000000</td>\n",
       "    </tr>\n",
       "  </tbody>\n",
       "</table>\n",
       "</div>"
      ],
      "text/plain": [
       "          Unnamed: 0        mb_used        user_id\n",
       "count  149396.000000  149396.000000  149396.000000\n",
       "mean    74697.500000     370.192426    1252.099842\n",
       "std     43127.054745     278.300951     144.050823\n",
       "min         0.000000       0.000000    1000.000000\n",
       "25%     37348.750000     138.187500    1130.000000\n",
       "50%     74697.500000     348.015000    1251.000000\n",
       "75%    112046.250000     559.552500    1380.000000\n",
       "max    149395.000000    1724.830000    1499.000000"
      ]
     },
     "execution_count": 6,
     "metadata": {},
     "output_type": "execute_result"
    }
   ],
   "source": [
    "# проверим данные на логические ошибки (\"здравый смысл\"):\n",
    "internet.describe()"
   ]
  },
  {
   "cell_type": "markdown",
   "id": "44c7162a",
   "metadata": {},
   "source": [
    "**Вывод**\n",
    "\n",
    "В файле `internet` - данные об интернет-трафике клиентов.\n",
    "\n",
    "\n",
    "Таблица содержит 149396 строк, пропуски отсутствуют.\n",
    "\n",
    "Содержание данных:\n",
    "\n",
    "- `user_id` - id пользователя\n",
    "- `id` - id интернет-сессии пользователя \n",
    "- `session_date` - дата интернет-сессии\n",
    "- `mb_used` - данные об использованном во время сессии трафике в Мб\n",
    "- `Unnamed` - порядковый номер записи, повторяющий индекс датафрейма\n",
    "\n",
    "**Необходимые изменения:**\n",
    "\n",
    "- необходимо заменить формат столбца `session_date` с object на datetime \n"
   ]
  },
  {
   "cell_type": "markdown",
   "id": "09d9b6e0",
   "metadata": {},
   "source": [
    "## Файл `messages`:"
   ]
  },
  {
   "cell_type": "code",
   "execution_count": 7,
   "id": "a72fdc6c",
   "metadata": {},
   "outputs": [
    {
     "name": "stdout",
     "output_type": "stream",
     "text": [
      "Количество строк файла: 123036\n",
      "\n",
      "Информация о содержимом файла:\n"
     ]
    },
    {
     "data": {
      "text/html": [
       "<div>\n",
       "<style scoped>\n",
       "    .dataframe tbody tr th:only-of-type {\n",
       "        vertical-align: middle;\n",
       "    }\n",
       "\n",
       "    .dataframe tbody tr th {\n",
       "        vertical-align: top;\n",
       "    }\n",
       "\n",
       "    .dataframe thead th {\n",
       "        text-align: right;\n",
       "    }\n",
       "</style>\n",
       "<table border=\"1\" class=\"dataframe\">\n",
       "  <thead>\n",
       "    <tr style=\"text-align: right;\">\n",
       "      <th></th>\n",
       "      <th>Значения</th>\n",
       "      <th>тип данных</th>\n",
       "      <th>Кол-во уникальных значений</th>\n",
       "    </tr>\n",
       "  </thead>\n",
       "  <tbody>\n",
       "    <tr>\n",
       "      <th>user_id</th>\n",
       "      <td>[1000, 1002, 1003, 1004, 1005, 1007, 1008, 100...</td>\n",
       "      <td>int64</td>\n",
       "      <td>426</td>\n",
       "    </tr>\n",
       "    <tr>\n",
       "      <th>id</th>\n",
       "      <td>[1000_0, 1000_1, 1000_2, 1000_3, 1000_4, 1000_...</td>\n",
       "      <td>object</td>\n",
       "      <td>123036</td>\n",
       "    </tr>\n",
       "    <tr>\n",
       "      <th>message_date</th>\n",
       "      <td>[2018-06-27, 2018-10-08, 2018-08-04, 2018-06-1...</td>\n",
       "      <td>object</td>\n",
       "      <td>364</td>\n",
       "    </tr>\n",
       "  </tbody>\n",
       "</table>\n",
       "</div>"
      ],
      "text/plain": [
       "                                                       Значения тип данных  \\\n",
       "user_id       [1000, 1002, 1003, 1004, 1005, 1007, 1008, 100...      int64   \n",
       "id            [1000_0, 1000_1, 1000_2, 1000_3, 1000_4, 1000_...     object   \n",
       "message_date  [2018-06-27, 2018-10-08, 2018-08-04, 2018-06-1...     object   \n",
       "\n",
       "             Кол-во уникальных значений  \n",
       "user_id                             426  \n",
       "id                               123036  \n",
       "message_date                        364  "
      ]
     },
     "metadata": {},
     "output_type": "display_data"
    },
    {
     "name": "stdout",
     "output_type": "stream",
     "text": [
      "\n",
      "Информация о пропусках данных:\n"
     ]
    },
    {
     "data": {
      "text/html": [
       "<div>\n",
       "<style scoped>\n",
       "    .dataframe tbody tr th:only-of-type {\n",
       "        vertical-align: middle;\n",
       "    }\n",
       "\n",
       "    .dataframe tbody tr th {\n",
       "        vertical-align: top;\n",
       "    }\n",
       "\n",
       "    .dataframe thead th {\n",
       "        text-align: right;\n",
       "    }\n",
       "</style>\n",
       "<table border=\"1\" class=\"dataframe\">\n",
       "  <thead>\n",
       "    <tr style=\"text-align: right;\">\n",
       "      <th></th>\n",
       "      <th>column_name</th>\n",
       "      <th>num_missing</th>\n",
       "      <th>percent_missing</th>\n",
       "    </tr>\n",
       "  </thead>\n",
       "  <tbody>\n",
       "    <tr>\n",
       "      <th>id</th>\n",
       "      <td>id</td>\n",
       "      <td>0</td>\n",
       "      <td>0.0</td>\n",
       "    </tr>\n",
       "    <tr>\n",
       "      <th>message_date</th>\n",
       "      <td>message_date</td>\n",
       "      <td>0</td>\n",
       "      <td>0.0</td>\n",
       "    </tr>\n",
       "    <tr>\n",
       "      <th>user_id</th>\n",
       "      <td>user_id</td>\n",
       "      <td>0</td>\n",
       "      <td>0.0</td>\n",
       "    </tr>\n",
       "  </tbody>\n",
       "</table>\n",
       "</div>"
      ],
      "text/plain": [
       "               column_name  num_missing  percent_missing\n",
       "id                      id            0              0.0\n",
       "message_date  message_date            0              0.0\n",
       "user_id            user_id            0              0.0"
      ]
     },
     "metadata": {},
     "output_type": "display_data"
    },
    {
     "name": "stdout",
     "output_type": "stream",
     "text": [
      "\n",
      "Первые пять строк таблицы:\n"
     ]
    },
    {
     "data": {
      "text/html": [
       "<div>\n",
       "<style scoped>\n",
       "    .dataframe tbody tr th:only-of-type {\n",
       "        vertical-align: middle;\n",
       "    }\n",
       "\n",
       "    .dataframe tbody tr th {\n",
       "        vertical-align: top;\n",
       "    }\n",
       "\n",
       "    .dataframe thead th {\n",
       "        text-align: right;\n",
       "    }\n",
       "</style>\n",
       "<table border=\"1\" class=\"dataframe\">\n",
       "  <thead>\n",
       "    <tr style=\"text-align: right;\">\n",
       "      <th></th>\n",
       "      <th>id</th>\n",
       "      <th>message_date</th>\n",
       "      <th>user_id</th>\n",
       "    </tr>\n",
       "  </thead>\n",
       "  <tbody>\n",
       "    <tr>\n",
       "      <th>0</th>\n",
       "      <td>1000_0</td>\n",
       "      <td>2018-06-27</td>\n",
       "      <td>1000</td>\n",
       "    </tr>\n",
       "    <tr>\n",
       "      <th>1</th>\n",
       "      <td>1000_1</td>\n",
       "      <td>2018-10-08</td>\n",
       "      <td>1000</td>\n",
       "    </tr>\n",
       "    <tr>\n",
       "      <th>2</th>\n",
       "      <td>1000_2</td>\n",
       "      <td>2018-08-04</td>\n",
       "      <td>1000</td>\n",
       "    </tr>\n",
       "    <tr>\n",
       "      <th>3</th>\n",
       "      <td>1000_3</td>\n",
       "      <td>2018-06-16</td>\n",
       "      <td>1000</td>\n",
       "    </tr>\n",
       "    <tr>\n",
       "      <th>4</th>\n",
       "      <td>1000_4</td>\n",
       "      <td>2018-12-05</td>\n",
       "      <td>1000</td>\n",
       "    </tr>\n",
       "  </tbody>\n",
       "</table>\n",
       "</div>"
      ],
      "text/plain": [
       "       id message_date  user_id\n",
       "0  1000_0   2018-06-27     1000\n",
       "1  1000_1   2018-10-08     1000\n",
       "2  1000_2   2018-08-04     1000\n",
       "3  1000_3   2018-06-16     1000\n",
       "4  1000_4   2018-12-05     1000"
      ]
     },
     "metadata": {},
     "output_type": "display_data"
    }
   ],
   "source": [
    "#информация о содержимом \n",
    "df_info(messages)    "
   ]
  },
  {
   "cell_type": "markdown",
   "id": "19415fdf",
   "metadata": {},
   "source": [
    "**Вывод**\n",
    "\n",
    "В файле `messages` - данные о звонках клиентов.\n",
    "Таблица содержит 123036 строк, пропуски отсутствуют.\n",
    "\n",
    "Содержание данных:\n",
    "\n",
    "- `user_id` - id пользователя\n",
    "- `id` - id смс-сообщения\n",
    "- `message_date` - дата смс-сообщения\n",
    "\n",
    "**Необходимые изменения:**\n",
    "\n",
    "- необходимо заменить формат столбца `message_date` с object на datetime \n"
   ]
  },
  {
   "cell_type": "markdown",
   "id": "51fef3ee",
   "metadata": {},
   "source": [
    "## Файл `tariffs`:"
   ]
  },
  {
   "cell_type": "code",
   "execution_count": 8,
   "id": "61f5bdb4",
   "metadata": {},
   "outputs": [
    {
     "name": "stdout",
     "output_type": "stream",
     "text": [
      "Количество строк файла: 2\n",
      "\n",
      "Информация о содержимом файла:\n"
     ]
    },
    {
     "data": {
      "text/html": [
       "<div>\n",
       "<style scoped>\n",
       "    .dataframe tbody tr th:only-of-type {\n",
       "        vertical-align: middle;\n",
       "    }\n",
       "\n",
       "    .dataframe tbody tr th {\n",
       "        vertical-align: top;\n",
       "    }\n",
       "\n",
       "    .dataframe thead th {\n",
       "        text-align: right;\n",
       "    }\n",
       "</style>\n",
       "<table border=\"1\" class=\"dataframe\">\n",
       "  <thead>\n",
       "    <tr style=\"text-align: right;\">\n",
       "      <th></th>\n",
       "      <th>Значения</th>\n",
       "      <th>тип данных</th>\n",
       "      <th>Кол-во уникальных значений</th>\n",
       "    </tr>\n",
       "  </thead>\n",
       "  <tbody>\n",
       "    <tr>\n",
       "      <th>messages_included</th>\n",
       "      <td>[50, 1000]</td>\n",
       "      <td>int64</td>\n",
       "      <td>2</td>\n",
       "    </tr>\n",
       "    <tr>\n",
       "      <th>mb_per_month_included</th>\n",
       "      <td>[15360, 30720]</td>\n",
       "      <td>int64</td>\n",
       "      <td>2</td>\n",
       "    </tr>\n",
       "    <tr>\n",
       "      <th>minutes_included</th>\n",
       "      <td>[500, 3000]</td>\n",
       "      <td>int64</td>\n",
       "      <td>2</td>\n",
       "    </tr>\n",
       "    <tr>\n",
       "      <th>rub_monthly_fee</th>\n",
       "      <td>[550, 1950]</td>\n",
       "      <td>int64</td>\n",
       "      <td>2</td>\n",
       "    </tr>\n",
       "    <tr>\n",
       "      <th>rub_per_gb</th>\n",
       "      <td>[200, 150]</td>\n",
       "      <td>int64</td>\n",
       "      <td>2</td>\n",
       "    </tr>\n",
       "    <tr>\n",
       "      <th>rub_per_message</th>\n",
       "      <td>[3, 1]</td>\n",
       "      <td>int64</td>\n",
       "      <td>2</td>\n",
       "    </tr>\n",
       "    <tr>\n",
       "      <th>rub_per_minute</th>\n",
       "      <td>[3, 1]</td>\n",
       "      <td>int64</td>\n",
       "      <td>2</td>\n",
       "    </tr>\n",
       "    <tr>\n",
       "      <th>tariff_name</th>\n",
       "      <td>[smart, ultra]</td>\n",
       "      <td>object</td>\n",
       "      <td>2</td>\n",
       "    </tr>\n",
       "  </tbody>\n",
       "</table>\n",
       "</div>"
      ],
      "text/plain": [
       "                             Значения тип данных Кол-во уникальных значений\n",
       "messages_included          [50, 1000]      int64                          2\n",
       "mb_per_month_included  [15360, 30720]      int64                          2\n",
       "minutes_included          [500, 3000]      int64                          2\n",
       "rub_monthly_fee           [550, 1950]      int64                          2\n",
       "rub_per_gb                 [200, 150]      int64                          2\n",
       "rub_per_message                [3, 1]      int64                          2\n",
       "rub_per_minute                 [3, 1]      int64                          2\n",
       "tariff_name            [smart, ultra]     object                          2"
      ]
     },
     "metadata": {},
     "output_type": "display_data"
    },
    {
     "name": "stdout",
     "output_type": "stream",
     "text": [
      "\n",
      "Информация о пропусках данных:\n"
     ]
    },
    {
     "data": {
      "text/html": [
       "<div>\n",
       "<style scoped>\n",
       "    .dataframe tbody tr th:only-of-type {\n",
       "        vertical-align: middle;\n",
       "    }\n",
       "\n",
       "    .dataframe tbody tr th {\n",
       "        vertical-align: top;\n",
       "    }\n",
       "\n",
       "    .dataframe thead th {\n",
       "        text-align: right;\n",
       "    }\n",
       "</style>\n",
       "<table border=\"1\" class=\"dataframe\">\n",
       "  <thead>\n",
       "    <tr style=\"text-align: right;\">\n",
       "      <th></th>\n",
       "      <th>column_name</th>\n",
       "      <th>num_missing</th>\n",
       "      <th>percent_missing</th>\n",
       "    </tr>\n",
       "  </thead>\n",
       "  <tbody>\n",
       "    <tr>\n",
       "      <th>messages_included</th>\n",
       "      <td>messages_included</td>\n",
       "      <td>0</td>\n",
       "      <td>0.0</td>\n",
       "    </tr>\n",
       "    <tr>\n",
       "      <th>mb_per_month_included</th>\n",
       "      <td>mb_per_month_included</td>\n",
       "      <td>0</td>\n",
       "      <td>0.0</td>\n",
       "    </tr>\n",
       "    <tr>\n",
       "      <th>minutes_included</th>\n",
       "      <td>minutes_included</td>\n",
       "      <td>0</td>\n",
       "      <td>0.0</td>\n",
       "    </tr>\n",
       "    <tr>\n",
       "      <th>rub_monthly_fee</th>\n",
       "      <td>rub_monthly_fee</td>\n",
       "      <td>0</td>\n",
       "      <td>0.0</td>\n",
       "    </tr>\n",
       "    <tr>\n",
       "      <th>rub_per_gb</th>\n",
       "      <td>rub_per_gb</td>\n",
       "      <td>0</td>\n",
       "      <td>0.0</td>\n",
       "    </tr>\n",
       "    <tr>\n",
       "      <th>rub_per_message</th>\n",
       "      <td>rub_per_message</td>\n",
       "      <td>0</td>\n",
       "      <td>0.0</td>\n",
       "    </tr>\n",
       "    <tr>\n",
       "      <th>rub_per_minute</th>\n",
       "      <td>rub_per_minute</td>\n",
       "      <td>0</td>\n",
       "      <td>0.0</td>\n",
       "    </tr>\n",
       "    <tr>\n",
       "      <th>tariff_name</th>\n",
       "      <td>tariff_name</td>\n",
       "      <td>0</td>\n",
       "      <td>0.0</td>\n",
       "    </tr>\n",
       "  </tbody>\n",
       "</table>\n",
       "</div>"
      ],
      "text/plain": [
       "                                 column_name  num_missing  percent_missing\n",
       "messages_included          messages_included            0              0.0\n",
       "mb_per_month_included  mb_per_month_included            0              0.0\n",
       "minutes_included            minutes_included            0              0.0\n",
       "rub_monthly_fee              rub_monthly_fee            0              0.0\n",
       "rub_per_gb                        rub_per_gb            0              0.0\n",
       "rub_per_message              rub_per_message            0              0.0\n",
       "rub_per_minute                rub_per_minute            0              0.0\n",
       "tariff_name                      tariff_name            0              0.0"
      ]
     },
     "metadata": {},
     "output_type": "display_data"
    },
    {
     "name": "stdout",
     "output_type": "stream",
     "text": [
      "\n",
      "Первые пять строк таблицы:\n"
     ]
    },
    {
     "data": {
      "text/html": [
       "<div>\n",
       "<style scoped>\n",
       "    .dataframe tbody tr th:only-of-type {\n",
       "        vertical-align: middle;\n",
       "    }\n",
       "\n",
       "    .dataframe tbody tr th {\n",
       "        vertical-align: top;\n",
       "    }\n",
       "\n",
       "    .dataframe thead th {\n",
       "        text-align: right;\n",
       "    }\n",
       "</style>\n",
       "<table border=\"1\" class=\"dataframe\">\n",
       "  <thead>\n",
       "    <tr style=\"text-align: right;\">\n",
       "      <th></th>\n",
       "      <th>messages_included</th>\n",
       "      <th>mb_per_month_included</th>\n",
       "      <th>minutes_included</th>\n",
       "      <th>rub_monthly_fee</th>\n",
       "      <th>rub_per_gb</th>\n",
       "      <th>rub_per_message</th>\n",
       "      <th>rub_per_minute</th>\n",
       "      <th>tariff_name</th>\n",
       "    </tr>\n",
       "  </thead>\n",
       "  <tbody>\n",
       "    <tr>\n",
       "      <th>0</th>\n",
       "      <td>50</td>\n",
       "      <td>15360</td>\n",
       "      <td>500</td>\n",
       "      <td>550</td>\n",
       "      <td>200</td>\n",
       "      <td>3</td>\n",
       "      <td>3</td>\n",
       "      <td>smart</td>\n",
       "    </tr>\n",
       "    <tr>\n",
       "      <th>1</th>\n",
       "      <td>1000</td>\n",
       "      <td>30720</td>\n",
       "      <td>3000</td>\n",
       "      <td>1950</td>\n",
       "      <td>150</td>\n",
       "      <td>1</td>\n",
       "      <td>1</td>\n",
       "      <td>ultra</td>\n",
       "    </tr>\n",
       "  </tbody>\n",
       "</table>\n",
       "</div>"
      ],
      "text/plain": [
       "   messages_included  mb_per_month_included  minutes_included  \\\n",
       "0                 50                  15360               500   \n",
       "1               1000                  30720              3000   \n",
       "\n",
       "   rub_monthly_fee  rub_per_gb  rub_per_message  rub_per_minute tariff_name  \n",
       "0              550         200                3               3       smart  \n",
       "1             1950         150                1               1       ultra  "
      ]
     },
     "metadata": {},
     "output_type": "display_data"
    }
   ],
   "source": [
    "#информация о содержимом \n",
    "df_info(tariffs)    "
   ]
  },
  {
   "cell_type": "markdown",
   "id": "3581e64a",
   "metadata": {},
   "source": [
    "**Вывод**\n",
    "\n",
    "В файле `tariffs` представлена информация о тарифах:\n",
    "\n",
    "Таблица содержит 2  строки (2 тарифа), пропуски отсутствуют.\n",
    "\n",
    "Содержание данных:\n",
    "\n",
    "- `messages_included` - количество включенных в тариф СМС\n",
    "- `mb_per_month_included` - количество включенных в тариф Мб\n",
    "- `minutes_included` - количество включенных в тариф минут\n",
    "- `rub_monthly_fee` - ежемесячная плата в руб.\n",
    "- `rub_per_gb` - плата за 1 Gb в рублях\n",
    "- `rub_per_message` - плата за сообщение в рублях\n",
    "- `rub_per_minute` - плата за минуту в рублях\n",
    "- `tariff_name` - наименование тарифа\n",
    "\n",
    "Внесение изменений в данные не требуется."
   ]
  },
  {
   "cell_type": "markdown",
   "id": "731de470",
   "metadata": {},
   "source": [
    "## Файл `users`:"
   ]
  },
  {
   "cell_type": "code",
   "execution_count": 9,
   "id": "fec72793",
   "metadata": {},
   "outputs": [
    {
     "data": {
      "text/html": [
       "<div>\n",
       "<style scoped>\n",
       "    .dataframe tbody tr th:only-of-type {\n",
       "        vertical-align: middle;\n",
       "    }\n",
       "\n",
       "    .dataframe tbody tr th {\n",
       "        vertical-align: top;\n",
       "    }\n",
       "\n",
       "    .dataframe thead th {\n",
       "        text-align: right;\n",
       "    }\n",
       "</style>\n",
       "<table border=\"1\" class=\"dataframe\">\n",
       "  <thead>\n",
       "    <tr style=\"text-align: right;\">\n",
       "      <th></th>\n",
       "      <th>user_id</th>\n",
       "      <th>age</th>\n",
       "      <th>churn_date</th>\n",
       "      <th>city</th>\n",
       "      <th>first_name</th>\n",
       "      <th>last_name</th>\n",
       "      <th>reg_date</th>\n",
       "      <th>tariff</th>\n",
       "    </tr>\n",
       "  </thead>\n",
       "  <tbody>\n",
       "    <tr>\n",
       "      <th>0</th>\n",
       "      <td>1000</td>\n",
       "      <td>52</td>\n",
       "      <td>NaN</td>\n",
       "      <td>Краснодар</td>\n",
       "      <td>Рафаил</td>\n",
       "      <td>Верещагин</td>\n",
       "      <td>2018-05-25</td>\n",
       "      <td>ultra</td>\n",
       "    </tr>\n",
       "    <tr>\n",
       "      <th>1</th>\n",
       "      <td>1001</td>\n",
       "      <td>41</td>\n",
       "      <td>NaN</td>\n",
       "      <td>Москва</td>\n",
       "      <td>Иван</td>\n",
       "      <td>Ежов</td>\n",
       "      <td>2018-11-01</td>\n",
       "      <td>smart</td>\n",
       "    </tr>\n",
       "    <tr>\n",
       "      <th>2</th>\n",
       "      <td>1002</td>\n",
       "      <td>59</td>\n",
       "      <td>NaN</td>\n",
       "      <td>Стерлитамак</td>\n",
       "      <td>Евгений</td>\n",
       "      <td>Абрамович</td>\n",
       "      <td>2018-06-17</td>\n",
       "      <td>smart</td>\n",
       "    </tr>\n",
       "    <tr>\n",
       "      <th>3</th>\n",
       "      <td>1003</td>\n",
       "      <td>23</td>\n",
       "      <td>NaN</td>\n",
       "      <td>Москва</td>\n",
       "      <td>Белла</td>\n",
       "      <td>Белякова</td>\n",
       "      <td>2018-08-17</td>\n",
       "      <td>ultra</td>\n",
       "    </tr>\n",
       "    <tr>\n",
       "      <th>4</th>\n",
       "      <td>1004</td>\n",
       "      <td>68</td>\n",
       "      <td>NaN</td>\n",
       "      <td>Новокузнецк</td>\n",
       "      <td>Татьяна</td>\n",
       "      <td>Авдеенко</td>\n",
       "      <td>2018-05-14</td>\n",
       "      <td>ultra</td>\n",
       "    </tr>\n",
       "    <tr>\n",
       "      <th>...</th>\n",
       "      <td>...</td>\n",
       "      <td>...</td>\n",
       "      <td>...</td>\n",
       "      <td>...</td>\n",
       "      <td>...</td>\n",
       "      <td>...</td>\n",
       "      <td>...</td>\n",
       "      <td>...</td>\n",
       "    </tr>\n",
       "    <tr>\n",
       "      <th>495</th>\n",
       "      <td>1495</td>\n",
       "      <td>65</td>\n",
       "      <td>NaN</td>\n",
       "      <td>Иркутск</td>\n",
       "      <td>Авксентий</td>\n",
       "      <td>Фокин</td>\n",
       "      <td>2018-08-28</td>\n",
       "      <td>ultra</td>\n",
       "    </tr>\n",
       "    <tr>\n",
       "      <th>496</th>\n",
       "      <td>1496</td>\n",
       "      <td>36</td>\n",
       "      <td>NaN</td>\n",
       "      <td>Вологда</td>\n",
       "      <td>Трифон</td>\n",
       "      <td>Блохин</td>\n",
       "      <td>2018-01-27</td>\n",
       "      <td>smart</td>\n",
       "    </tr>\n",
       "    <tr>\n",
       "      <th>497</th>\n",
       "      <td>1497</td>\n",
       "      <td>32</td>\n",
       "      <td>NaN</td>\n",
       "      <td>Челябинск</td>\n",
       "      <td>Каролина</td>\n",
       "      <td>Агеева</td>\n",
       "      <td>2018-10-09</td>\n",
       "      <td>smart</td>\n",
       "    </tr>\n",
       "    <tr>\n",
       "      <th>498</th>\n",
       "      <td>1498</td>\n",
       "      <td>68</td>\n",
       "      <td>2018-10-25</td>\n",
       "      <td>Владикавказ</td>\n",
       "      <td>Всеволод</td>\n",
       "      <td>Акимчин</td>\n",
       "      <td>2018-07-19</td>\n",
       "      <td>smart</td>\n",
       "    </tr>\n",
       "    <tr>\n",
       "      <th>499</th>\n",
       "      <td>1499</td>\n",
       "      <td>35</td>\n",
       "      <td>NaN</td>\n",
       "      <td>Пермь</td>\n",
       "      <td>Гектор</td>\n",
       "      <td>Корнилов</td>\n",
       "      <td>2018-09-27</td>\n",
       "      <td>smart</td>\n",
       "    </tr>\n",
       "  </tbody>\n",
       "</table>\n",
       "<p>500 rows × 8 columns</p>\n",
       "</div>"
      ],
      "text/plain": [
       "     user_id  age  churn_date         city first_name  last_name    reg_date  \\\n",
       "0       1000   52         NaN    Краснодар     Рафаил  Верещагин  2018-05-25   \n",
       "1       1001   41         NaN       Москва       Иван       Ежов  2018-11-01   \n",
       "2       1002   59         NaN  Стерлитамак    Евгений  Абрамович  2018-06-17   \n",
       "3       1003   23         NaN       Москва      Белла   Белякова  2018-08-17   \n",
       "4       1004   68         NaN  Новокузнецк    Татьяна   Авдеенко  2018-05-14   \n",
       "..       ...  ...         ...          ...        ...        ...         ...   \n",
       "495     1495   65         NaN      Иркутск  Авксентий      Фокин  2018-08-28   \n",
       "496     1496   36         NaN      Вологда     Трифон     Блохин  2018-01-27   \n",
       "497     1497   32         NaN    Челябинск   Каролина     Агеева  2018-10-09   \n",
       "498     1498   68  2018-10-25  Владикавказ   Всеволод    Акимчин  2018-07-19   \n",
       "499     1499   35         NaN        Пермь     Гектор   Корнилов  2018-09-27   \n",
       "\n",
       "    tariff  \n",
       "0    ultra  \n",
       "1    smart  \n",
       "2    smart  \n",
       "3    ultra  \n",
       "4    ultra  \n",
       "..     ...  \n",
       "495  ultra  \n",
       "496  smart  \n",
       "497  smart  \n",
       "498  smart  \n",
       "499  smart  \n",
       "\n",
       "[500 rows x 8 columns]"
      ]
     },
     "execution_count": 9,
     "metadata": {},
     "output_type": "execute_result"
    }
   ],
   "source": [
    "users\n",
    "#информация о содержимом \n",
    "#df_info(users)"
   ]
  },
  {
   "cell_type": "code",
   "execution_count": 10,
   "id": "e9fb3320",
   "metadata": {
    "scrolled": true
   },
   "outputs": [
    {
     "data": {
      "text/plain": [
       "['Архангельск',\n",
       " 'Астрахань',\n",
       " 'Балашиха',\n",
       " 'Барнаул',\n",
       " 'Белгород',\n",
       " 'Брянск',\n",
       " 'Владивосток',\n",
       " 'Владикавказ',\n",
       " 'Владимир',\n",
       " 'Волгоград',\n",
       " 'Волжский',\n",
       " 'Вологда',\n",
       " 'Воронеж',\n",
       " 'Грозный',\n",
       " 'Екатеринбург',\n",
       " 'Иваново',\n",
       " 'Ижевск',\n",
       " 'Иркутск',\n",
       " 'Казань',\n",
       " 'Калининград',\n",
       " 'Калуга',\n",
       " 'Кемерово',\n",
       " 'Киров',\n",
       " 'Кострома',\n",
       " 'Краснодар',\n",
       " 'Красноярск',\n",
       " 'Курган',\n",
       " 'Курск',\n",
       " 'Липецк',\n",
       " 'Магнитогорск',\n",
       " 'Махачкала',\n",
       " 'Москва',\n",
       " 'Мурманск',\n",
       " 'Набережные Челны',\n",
       " 'Нижневартовск',\n",
       " 'Нижний Новгород',\n",
       " 'Нижний Тагил',\n",
       " 'Новокузнецк',\n",
       " 'Новороссийск',\n",
       " 'Новосибирск',\n",
       " 'Омск',\n",
       " 'Оренбург',\n",
       " 'Орёл',\n",
       " 'Пенза',\n",
       " 'Пермь',\n",
       " 'Петрозаводск',\n",
       " 'Подольск',\n",
       " 'Ростов-на-Дону',\n",
       " 'Рязань',\n",
       " 'Самара',\n",
       " 'Санкт-Петербург',\n",
       " 'Саранск',\n",
       " 'Саратов',\n",
       " 'Севастополь',\n",
       " 'Смоленск',\n",
       " 'Сочи',\n",
       " 'Ставрополь',\n",
       " 'Стерлитамак',\n",
       " 'Сургут',\n",
       " 'Тамбов',\n",
       " 'Тверь',\n",
       " 'Тольятти',\n",
       " 'Томск',\n",
       " 'Тула',\n",
       " 'Тюмень',\n",
       " 'Улан-Удэ',\n",
       " 'Ульяновск',\n",
       " 'Уфа',\n",
       " 'Хабаровск',\n",
       " 'Химки',\n",
       " 'Чебоксары',\n",
       " 'Челябинск',\n",
       " 'Череповец',\n",
       " 'Чита',\n",
       " 'Якутск',\n",
       " 'Ярославль']"
      ]
     },
     "execution_count": 10,
     "metadata": {},
     "output_type": "execute_result"
    }
   ],
   "source": [
    "#проверим данные на уникальность наименования и скрытые дубликаты\n",
    "sorted(users['city'].unique())"
   ]
  },
  {
   "cell_type": "code",
   "execution_count": 11,
   "id": "fe6e40a2",
   "metadata": {
    "scrolled": true
   },
   "outputs": [
    {
     "data": {
      "text/html": [
       "<div>\n",
       "<style scoped>\n",
       "    .dataframe tbody tr th:only-of-type {\n",
       "        vertical-align: middle;\n",
       "    }\n",
       "\n",
       "    .dataframe tbody tr th {\n",
       "        vertical-align: top;\n",
       "    }\n",
       "\n",
       "    .dataframe thead th {\n",
       "        text-align: right;\n",
       "    }\n",
       "</style>\n",
       "<table border=\"1\" class=\"dataframe\">\n",
       "  <thead>\n",
       "    <tr style=\"text-align: right;\">\n",
       "      <th></th>\n",
       "      <th>user_id</th>\n",
       "      <th>age</th>\n",
       "    </tr>\n",
       "  </thead>\n",
       "  <tbody>\n",
       "    <tr>\n",
       "      <th>count</th>\n",
       "      <td>500.000000</td>\n",
       "      <td>500.00000</td>\n",
       "    </tr>\n",
       "    <tr>\n",
       "      <th>mean</th>\n",
       "      <td>1249.500000</td>\n",
       "      <td>46.58800</td>\n",
       "    </tr>\n",
       "    <tr>\n",
       "      <th>std</th>\n",
       "      <td>144.481833</td>\n",
       "      <td>16.66763</td>\n",
       "    </tr>\n",
       "    <tr>\n",
       "      <th>min</th>\n",
       "      <td>1000.000000</td>\n",
       "      <td>18.00000</td>\n",
       "    </tr>\n",
       "    <tr>\n",
       "      <th>25%</th>\n",
       "      <td>1124.750000</td>\n",
       "      <td>32.00000</td>\n",
       "    </tr>\n",
       "    <tr>\n",
       "      <th>50%</th>\n",
       "      <td>1249.500000</td>\n",
       "      <td>46.00000</td>\n",
       "    </tr>\n",
       "    <tr>\n",
       "      <th>75%</th>\n",
       "      <td>1374.250000</td>\n",
       "      <td>62.00000</td>\n",
       "    </tr>\n",
       "    <tr>\n",
       "      <th>max</th>\n",
       "      <td>1499.000000</td>\n",
       "      <td>75.00000</td>\n",
       "    </tr>\n",
       "  </tbody>\n",
       "</table>\n",
       "</div>"
      ],
      "text/plain": [
       "           user_id        age\n",
       "count   500.000000  500.00000\n",
       "mean   1249.500000   46.58800\n",
       "std     144.481833   16.66763\n",
       "min    1000.000000   18.00000\n",
       "25%    1124.750000   32.00000\n",
       "50%    1249.500000   46.00000\n",
       "75%    1374.250000   62.00000\n",
       "max    1499.000000   75.00000"
      ]
     },
     "execution_count": 11,
     "metadata": {},
     "output_type": "execute_result"
    }
   ],
   "source": [
    "# проверим данные на логические ошибки (\"здравый смысл\"):\n",
    "users.describe()\n"
   ]
  },
  {
   "cell_type": "markdown",
   "id": "0493f635",
   "metadata": {},
   "source": [
    "**Вывод**\n",
    "\n",
    "В файле `users` - данные об интернет-трафике клиентов.\n",
    "\n",
    "\n",
    "Таблица содержит 500 строк, пропуски отсутствуют.\n",
    "\n",
    "Содержание данных:\n",
    "\n",
    "- `user_id` - id пользователя\n",
    "- `age` - возраст пользователя в годах\n",
    "- `city` - город проживания\n",
    "- `first_name` - имя\n",
    "- `last_name` - фамилия\n",
    "- `reg_date` - дата заключения договора\n",
    "- `churn_date` - дата расторжения договора\n",
    "- `tariff` - наименование тарифа\n",
    "\n",
    "\n",
    "Выявленные проблемы:\n",
    "- необходимо заменить формат столбцов `reg_date` и `churn_date`с object на datetime \n",
    "\n",
    "\n",
    "Пропуски данных в столбце `churn_date` означают, что договор действующий. "
   ]
  },
  {
   "cell_type": "markdown",
   "id": "b64c5202",
   "metadata": {},
   "source": [
    "## Вывод по разделу 1\n",
    "\n",
    "Предварительная оценка качества данных показала:\n",
    "    \n",
    "Пропуски отмечены только в столбце  `churn_date` файла `users`.\n",
    "\n",
    "Выявлено несоотвествие типа данных в столбцах, в которых обозначена дата: они имеют тип object,- их необходимо перевести в формат datetime: \n",
    "\n",
    "- `call_date` в файле `cells`\n",
    "- `session_date`в файле `internet` \n",
    "- `message_date` в файле `messages`\n",
    "- `reg_date` и `churn_date` в файле `users`\n"
   ]
  },
  {
   "cell_type": "markdown",
   "id": "0c06d873",
   "metadata": {},
   "source": [
    "# Предобработка данных."
   ]
  },
  {
   "cell_type": "markdown",
   "id": "f97e1e96",
   "metadata": {},
   "source": [
    "## Пропуски значений и ошибки данных"
   ]
  },
  {
   "cell_type": "markdown",
   "id": "e0e7ca56",
   "metadata": {},
   "source": [
    "Пропуски данных в столбце churn_date файла users связаны с отсутствием даты расторжения договора, т.е. пропуск означает, что клиент- действующий. Таким образом, заполнение пропусков не требуется."
   ]
  },
  {
   "cell_type": "markdown",
   "id": "ab4f9baf",
   "metadata": {},
   "source": [
    "**Вывод**\n",
    "\n",
    "Заполнение пропусков не требуется."
   ]
  },
  {
   "cell_type": "markdown",
   "id": "e847c403",
   "metadata": {},
   "source": [
    "## Замена типа данных"
   ]
  },
  {
   "cell_type": "markdown",
   "id": "fd5f1fb9",
   "metadata": {},
   "source": [
    "Заменим тип данных столбцов:\n",
    "Выявлено несоотвествие типа данных в столбцах, в которых обозначена дата: они имеют тип object,- их необходимо перевести в формат datetime: \n",
    "\n",
    "- `call_date` в файле `calls`\n",
    "- `session_date`в файле `internet` \n",
    "- `message_date` в файле `messages`\n",
    "- `reg_date` и `churn_date` в файле `users`"
   ]
  },
  {
   "cell_type": "code",
   "execution_count": 12,
   "id": "7e08edba",
   "metadata": {
    "scrolled": false
   },
   "outputs": [
    {
     "name": "stdout",
     "output_type": "stream",
     "text": [
      "формат столбца call_date до: object\n",
      "формат столбца call_date до: datetime64[ns]\n",
      "\n",
      "\n",
      "формат столбца session_date до: object\n",
      "формат столбца session_date до: datetime64[ns]\n",
      "\n",
      "\n",
      "формат столбца message_date до: object\n",
      "формат столбца message_date до: datetime64[ns]\n",
      "\n",
      "\n",
      "формат столбца reg_date до: object\n",
      "формат столбца reg_date до: datetime64[ns]\n",
      "\n",
      "\n",
      "формат столбца churn_date до: object\n",
      "формат столбца churn_date до: datetime64[ns]\n",
      "\n",
      "\n"
     ]
    }
   ],
   "source": [
    "#словарь с наименованием столбцов, содержащих дату и датафреймов, в которых они находится:\n",
    "dict_column_date = {'call_date': calls, 'session_date': internet, \n",
    "                    'message_date': messages, 'reg_date': users, 'churn_date': users}\n",
    "\n",
    "#функция перевода формата в datetime\n",
    "def to_date(df, column):\n",
    "    print(f'формат столбца {column} до: {df[column].dtypes}')\n",
    "    df[column] = pd.to_datetime(df[column], format='%Y-%m-%d')\n",
    "    print(f'формат столбца {column} до: {df[column].dtypes}')\n",
    "    print()\n",
    "\n",
    "#применим к словарю dict_column_date функцию to_date:  \n",
    "for key in dict_column_date:\n",
    "    to_date(dict_column_date[key], key)\n",
    "    print()\n"
   ]
  },
  {
   "cell_type": "markdown",
   "id": "1cda5c67",
   "metadata": {},
   "source": [
    "**Вывод**\n",
    "\n",
    "Проведена замена формата столбцов, содержащих дату, с object на datetime64."
   ]
  },
  {
   "cell_type": "markdown",
   "id": "22068b2e",
   "metadata": {},
   "source": [
    "## Проверка данных на дубликаты:"
   ]
  },
  {
   "cell_type": "code",
   "execution_count": 13,
   "id": "5bcbced4",
   "metadata": {},
   "outputs": [
    {
     "name": "stdout",
     "output_type": "stream",
     "text": [
      "Количество дубликатов: 0 штук\n",
      "Количество дубликатов: 0 штук\n",
      "Количество дубликатов: 0 штук\n",
      "Количество дубликатов: 0 штук\n",
      "Количество дубликатов: 0 штук\n"
     ]
    }
   ],
   "source": [
    "#проверка файлов на дубликаты:\n",
    "\n",
    "#список файлов для проверки:\n",
    "files = [calls, internet, messages, tariffs, users]\n",
    "\n",
    "#цикл для проверки наличия дубликатов по списку files:\n",
    "for name in files:\n",
    "    print(f'Количество дубликатов: {name.duplicated().sum()} штук')\n",
    "        "
   ]
  },
  {
   "cell_type": "markdown",
   "id": "e3b987ae",
   "metadata": {},
   "source": [
    "**Вывод**\n",
    "\n",
    "Дубликаты данных отсутствуют."
   ]
  },
  {
   "cell_type": "markdown",
   "id": "a015b1c4",
   "metadata": {},
   "source": [
    "## Вывод по разделу 2\n",
    "\n",
    "\n",
    "Пропуски данных в столбце churn_date файла users связаны с отсутствием даты расторжения договора, т.е. пропуск означает, что клиент- действующий. Таким образом, заполнения пропусков не требуется. \n",
    "\n",
    "Дубликаты данных отсутствуют.\n",
    "\n",
    "Проведена замена формата столбцов, содержащих дату, с object на datetime64.\n",
    "\n",
    "Данные готовы для анализа."
   ]
  },
  {
   "cell_type": "markdown",
   "id": "b835eead",
   "metadata": {},
   "source": [
    "# Расчеты и добавление данных "
   ]
  },
  {
   "cell_type": "markdown",
   "id": "46eab76d",
   "metadata": {},
   "source": [
    "***Правила расчета:***\n",
    "\n",
    "«Мегалайн» всегда округляет секунды до минут, а мегабайты — до гигабайт. Каждый звонок округляется отдельно: даже если он длился всего 1 секунду, будет засчитан как 1 минута.\n",
    "Для веб-трафика отдельные сессии не считаются. Вместо этого общая сумма за месяц округляется в бо́льшую сторону. Если абонент использует 1025 мегабайт в этом месяце, с него возьмут плату за 2 гигабайта.\n",
    "\n",
    "\n",
    "***Предварительное создание столбцов:***\n",
    "\n",
    "Поскольку нам придется группировать данные помесячно, добавим в датафреймы с необходимыми нам параметрами дополнительные колонки с месяцем операции (совершения звонка, сообщений, интернет-трафика):\n"
   ]
  },
  {
   "cell_type": "markdown",
   "id": "6089c184",
   "metadata": {},
   "source": [
    "Все операции, представленные в таблице, ограничены 2018 годом. Применим к словарю `dict_month_date` с наименованием столбцов, содержащих даты, функцию для создания нового столбца с преобразованием даты в номер месяца:"
   ]
  },
  {
   "cell_type": "code",
   "execution_count": 14,
   "id": "50befa38",
   "metadata": {
    "scrolled": false
   },
   "outputs": [
    {
     "name": "stdout",
     "output_type": "stream",
     "text": [
      "   call_date  call_date_month\n",
      "0 2018-07-25                7\n",
      "1 2018-08-17                8\n",
      "2 2018-06-11                6\n",
      "3 2018-09-21                9\n",
      "4 2018-12-15               12\n",
      "\n",
      "  session_date  session_date_month\n",
      "0   2018-11-25                  11\n",
      "1   2018-09-07                   9\n",
      "2   2018-06-25                   6\n",
      "3   2018-08-22                   8\n",
      "4   2018-09-24                   9\n",
      "\n",
      "  message_date  message_date_month\n",
      "0   2018-06-27                   6\n",
      "1   2018-10-08                  10\n",
      "2   2018-08-04                   8\n",
      "3   2018-06-16                   6\n",
      "4   2018-12-05                  12\n",
      "\n"
     ]
    }
   ],
   "source": [
    "#функция создания столбца с номером месяца\n",
    "def to_month(df, column):\n",
    "    new_column = str(column) + '_month'\n",
    "    df[new_column] = df[column].dt.month\n",
    "    #проверяем создание столбца\n",
    "    print(df[[column, new_column]].head())\n",
    "    print()\n",
    "\n",
    "#столбцы в формате datetime\n",
    "dict_mont_date = {'call_date': calls, 'session_date': internet, \n",
    "                    'message_date': messages}\n",
    "\n",
    "#применим к словарю dict_mont_date функцию to_month:  \n",
    "for key in dict_mont_date:\n",
    "    to_month(dict_mont_date[key], key)"
   ]
  },
  {
   "cell_type": "markdown",
   "id": "11a57a6f",
   "metadata": {},
   "source": [
    "## Количество сделанных звонков и израсходованных минут разговора по месяцам"
   ]
  },
  {
   "cell_type": "markdown",
   "id": "bfc885ec",
   "metadata": {},
   "source": [
    "Сохраним непропущенные звонки в переменную calls_no_null и добавим в полученную таблицу столбец duration_ceil с данными о времени звонков, округленных до минуты вверх:"
   ]
  },
  {
   "cell_type": "code",
   "execution_count": 15,
   "id": "1df76d83",
   "metadata": {
    "scrolled": false
   },
   "outputs": [
    {
     "data": {
      "text/html": [
       "<div>\n",
       "<style scoped>\n",
       "    .dataframe tbody tr th:only-of-type {\n",
       "        vertical-align: middle;\n",
       "    }\n",
       "\n",
       "    .dataframe tbody tr th {\n",
       "        vertical-align: top;\n",
       "    }\n",
       "\n",
       "    .dataframe thead th {\n",
       "        text-align: right;\n",
       "    }\n",
       "</style>\n",
       "<table border=\"1\" class=\"dataframe\">\n",
       "  <thead>\n",
       "    <tr style=\"text-align: right;\">\n",
       "      <th></th>\n",
       "      <th>id</th>\n",
       "      <th>call_date</th>\n",
       "      <th>duration</th>\n",
       "      <th>user_id</th>\n",
       "      <th>call_date_month</th>\n",
       "      <th>duration_ceil</th>\n",
       "    </tr>\n",
       "  </thead>\n",
       "  <tbody>\n",
       "    <tr>\n",
       "      <th>2</th>\n",
       "      <td>1000_2</td>\n",
       "      <td>2018-06-11</td>\n",
       "      <td>2.85</td>\n",
       "      <td>1000</td>\n",
       "      <td>6</td>\n",
       "      <td>3</td>\n",
       "    </tr>\n",
       "    <tr>\n",
       "      <th>3</th>\n",
       "      <td>1000_3</td>\n",
       "      <td>2018-09-21</td>\n",
       "      <td>13.80</td>\n",
       "      <td>1000</td>\n",
       "      <td>9</td>\n",
       "      <td>14</td>\n",
       "    </tr>\n",
       "    <tr>\n",
       "      <th>4</th>\n",
       "      <td>1000_4</td>\n",
       "      <td>2018-12-15</td>\n",
       "      <td>5.18</td>\n",
       "      <td>1000</td>\n",
       "      <td>12</td>\n",
       "      <td>6</td>\n",
       "    </tr>\n",
       "    <tr>\n",
       "      <th>7</th>\n",
       "      <td>1000_7</td>\n",
       "      <td>2018-08-22</td>\n",
       "      <td>18.31</td>\n",
       "      <td>1000</td>\n",
       "      <td>8</td>\n",
       "      <td>19</td>\n",
       "    </tr>\n",
       "    <tr>\n",
       "      <th>8</th>\n",
       "      <td>1000_8</td>\n",
       "      <td>2018-09-15</td>\n",
       "      <td>18.44</td>\n",
       "      <td>1000</td>\n",
       "      <td>9</td>\n",
       "      <td>19</td>\n",
       "    </tr>\n",
       "  </tbody>\n",
       "</table>\n",
       "</div>"
      ],
      "text/plain": [
       "       id  call_date  duration  user_id  call_date_month  duration_ceil\n",
       "2  1000_2 2018-06-11      2.85     1000                6              3\n",
       "3  1000_3 2018-09-21     13.80     1000                9             14\n",
       "4  1000_4 2018-12-15      5.18     1000               12              6\n",
       "7  1000_7 2018-08-22     18.31     1000                8             19\n",
       "8  1000_8 2018-09-15     18.44     1000                9             19"
      ]
     },
     "execution_count": 15,
     "metadata": {},
     "output_type": "execute_result"
    }
   ],
   "source": [
    "#данные по непропущенным звонкам\n",
    "calls_no_null = calls.query('duration != 0')\n",
    "calls_no_null['duration_ceil'] = np.ceil(calls_no_null['duration']).astype('int')\n",
    "calls_no_null.head()"
   ]
  },
  {
   "cell_type": "markdown",
   "id": "67fe735f",
   "metadata": {},
   "source": [
    "Сгруппируем звонки по пользователям в разрезе месяцев и посчитаем помесячно их количество и сумму минут. Сохраним результат в переменной calls_users:"
   ]
  },
  {
   "cell_type": "code",
   "execution_count": 16,
   "id": "4dab231f",
   "metadata": {
    "scrolled": true
   },
   "outputs": [
    {
     "data": {
      "text/html": [
       "<div>\n",
       "<style scoped>\n",
       "    .dataframe tbody tr th:only-of-type {\n",
       "        vertical-align: middle;\n",
       "    }\n",
       "\n",
       "    .dataframe tbody tr th {\n",
       "        vertical-align: top;\n",
       "    }\n",
       "\n",
       "    .dataframe thead th {\n",
       "        text-align: right;\n",
       "    }\n",
       "</style>\n",
       "<table border=\"1\" class=\"dataframe\">\n",
       "  <thead>\n",
       "    <tr style=\"text-align: right;\">\n",
       "      <th></th>\n",
       "      <th>user_id</th>\n",
       "      <th>month</th>\n",
       "      <th>call_count</th>\n",
       "      <th>call_sum_min</th>\n",
       "    </tr>\n",
       "  </thead>\n",
       "  <tbody>\n",
       "    <tr>\n",
       "      <th>0</th>\n",
       "      <td>1000</td>\n",
       "      <td>5</td>\n",
       "      <td>17</td>\n",
       "      <td>159</td>\n",
       "    </tr>\n",
       "    <tr>\n",
       "      <th>1</th>\n",
       "      <td>1000</td>\n",
       "      <td>6</td>\n",
       "      <td>28</td>\n",
       "      <td>172</td>\n",
       "    </tr>\n",
       "    <tr>\n",
       "      <th>2</th>\n",
       "      <td>1000</td>\n",
       "      <td>7</td>\n",
       "      <td>41</td>\n",
       "      <td>340</td>\n",
       "    </tr>\n",
       "    <tr>\n",
       "      <th>3</th>\n",
       "      <td>1000</td>\n",
       "      <td>8</td>\n",
       "      <td>42</td>\n",
       "      <td>408</td>\n",
       "    </tr>\n",
       "    <tr>\n",
       "      <th>4</th>\n",
       "      <td>1000</td>\n",
       "      <td>9</td>\n",
       "      <td>46</td>\n",
       "      <td>466</td>\n",
       "    </tr>\n",
       "  </tbody>\n",
       "</table>\n",
       "</div>"
      ],
      "text/plain": [
       "   user_id  month  call_count  call_sum_min\n",
       "0     1000      5          17           159\n",
       "1     1000      6          28           172\n",
       "2     1000      7          41           340\n",
       "3     1000      8          42           408\n",
       "4     1000      9          46           466"
      ]
     },
     "execution_count": 16,
     "metadata": {},
     "output_type": "execute_result"
    }
   ],
   "source": [
    "#группируем данные по пользователю и месяцу использования, сохраняем в переменную calls_users:\n",
    "calls_users = calls_no_null.groupby(['user_id', 'call_date_month']\n",
    "                                   )['duration_ceil'].agg(['count', 'sum']).reset_index()\n",
    "calls_users.columns = ['user_id', 'month', 'call_count', 'call_sum_min']\n",
    "calls_users.head()"
   ]
  },
  {
   "cell_type": "markdown",
   "id": "6a625539",
   "metadata": {},
   "source": [
    "## Количество отправленных сообщений по месяцам"
   ]
  },
  {
   "cell_type": "markdown",
   "id": "a61a5809",
   "metadata": {},
   "source": [
    "Сохраним СМС, сгруппированные по пользователям в разрезе месяцев использования, в переменную messages_users:"
   ]
  },
  {
   "cell_type": "code",
   "execution_count": 17,
   "id": "a675c976",
   "metadata": {
    "scrolled": true
   },
   "outputs": [
    {
     "data": {
      "text/html": [
       "<div>\n",
       "<style scoped>\n",
       "    .dataframe tbody tr th:only-of-type {\n",
       "        vertical-align: middle;\n",
       "    }\n",
       "\n",
       "    .dataframe tbody tr th {\n",
       "        vertical-align: top;\n",
       "    }\n",
       "\n",
       "    .dataframe thead th {\n",
       "        text-align: right;\n",
       "    }\n",
       "</style>\n",
       "<table border=\"1\" class=\"dataframe\">\n",
       "  <thead>\n",
       "    <tr style=\"text-align: right;\">\n",
       "      <th></th>\n",
       "      <th>user_id</th>\n",
       "      <th>month</th>\n",
       "      <th>message_count</th>\n",
       "    </tr>\n",
       "  </thead>\n",
       "  <tbody>\n",
       "    <tr>\n",
       "      <th>0</th>\n",
       "      <td>1000</td>\n",
       "      <td>5</td>\n",
       "      <td>22</td>\n",
       "    </tr>\n",
       "    <tr>\n",
       "      <th>1</th>\n",
       "      <td>1000</td>\n",
       "      <td>6</td>\n",
       "      <td>60</td>\n",
       "    </tr>\n",
       "    <tr>\n",
       "      <th>2</th>\n",
       "      <td>1000</td>\n",
       "      <td>7</td>\n",
       "      <td>75</td>\n",
       "    </tr>\n",
       "    <tr>\n",
       "      <th>3</th>\n",
       "      <td>1000</td>\n",
       "      <td>8</td>\n",
       "      <td>81</td>\n",
       "    </tr>\n",
       "    <tr>\n",
       "      <th>4</th>\n",
       "      <td>1000</td>\n",
       "      <td>9</td>\n",
       "      <td>57</td>\n",
       "    </tr>\n",
       "  </tbody>\n",
       "</table>\n",
       "</div>"
      ],
      "text/plain": [
       "   user_id  month  message_count\n",
       "0     1000      5             22\n",
       "1     1000      6             60\n",
       "2     1000      7             75\n",
       "3     1000      8             81\n",
       "4     1000      9             57"
      ]
     },
     "execution_count": 17,
     "metadata": {},
     "output_type": "execute_result"
    }
   ],
   "source": [
    "#группируем кол-во СМС по пользователям и месяцу использования:\n",
    "messages_users = messages.groupby(['user_id', 'message_date_month'])['id'].count().reset_index()\n",
    "messages_users.columns = ['user_id', 'month', 'message_count']\n",
    "messages_users.head()"
   ]
  },
  {
   "cell_type": "markdown",
   "id": "c19cec88",
   "metadata": {},
   "source": [
    "## Объем израсходованного интернет-трафика по месяцам"
   ]
  },
  {
   "cell_type": "markdown",
   "id": "bd920177",
   "metadata": {},
   "source": [
    "Подсчитаем израсходованный интернет-трафик помесячно: сгруппируем данные по пользователям и месяцу предоставления услуги, сохраним результат в переменную internet_users. Данные трафика пока оставим в Мб:"
   ]
  },
  {
   "cell_type": "code",
   "execution_count": 18,
   "id": "a48103da",
   "metadata": {
    "scrolled": true
   },
   "outputs": [
    {
     "data": {
      "text/html": [
       "<div>\n",
       "<style scoped>\n",
       "    .dataframe tbody tr th:only-of-type {\n",
       "        vertical-align: middle;\n",
       "    }\n",
       "\n",
       "    .dataframe tbody tr th {\n",
       "        vertical-align: top;\n",
       "    }\n",
       "\n",
       "    .dataframe thead th {\n",
       "        text-align: right;\n",
       "    }\n",
       "</style>\n",
       "<table border=\"1\" class=\"dataframe\">\n",
       "  <thead>\n",
       "    <tr style=\"text-align: right;\">\n",
       "      <th></th>\n",
       "      <th>user_id</th>\n",
       "      <th>month</th>\n",
       "      <th>mb_used</th>\n",
       "    </tr>\n",
       "  </thead>\n",
       "  <tbody>\n",
       "    <tr>\n",
       "      <th>0</th>\n",
       "      <td>1000</td>\n",
       "      <td>5</td>\n",
       "      <td>2253.49</td>\n",
       "    </tr>\n",
       "    <tr>\n",
       "      <th>1</th>\n",
       "      <td>1000</td>\n",
       "      <td>6</td>\n",
       "      <td>23233.77</td>\n",
       "    </tr>\n",
       "    <tr>\n",
       "      <th>2</th>\n",
       "      <td>1000</td>\n",
       "      <td>7</td>\n",
       "      <td>14003.64</td>\n",
       "    </tr>\n",
       "    <tr>\n",
       "      <th>3</th>\n",
       "      <td>1000</td>\n",
       "      <td>8</td>\n",
       "      <td>14055.93</td>\n",
       "    </tr>\n",
       "    <tr>\n",
       "      <th>4</th>\n",
       "      <td>1000</td>\n",
       "      <td>9</td>\n",
       "      <td>14568.91</td>\n",
       "    </tr>\n",
       "  </tbody>\n",
       "</table>\n",
       "</div>"
      ],
      "text/plain": [
       "   user_id  month   mb_used\n",
       "0     1000      5   2253.49\n",
       "1     1000      6  23233.77\n",
       "2     1000      7  14003.64\n",
       "3     1000      8  14055.93\n",
       "4     1000      9  14568.91"
      ]
     },
     "execution_count": 18,
     "metadata": {},
     "output_type": "execute_result"
    }
   ],
   "source": [
    "#группируем интернет-трафик по пользователям и месяцу использования:\n",
    "internet_users = internet.groupby(['user_id', 'session_date_month'])['mb_used'].sum().reset_index()\n",
    "internet_users.columns = ['user_id', 'month', 'mb_used']\n",
    "\n",
    "internet_users.head()"
   ]
  },
  {
   "cell_type": "markdown",
   "id": "22160e5b",
   "metadata": {},
   "source": [
    "## Помесячная выручка с каждого пользователя\n"
   ]
  },
  {
   "cell_type": "markdown",
   "id": "8b6e1f67",
   "metadata": {},
   "source": [
    "Объединим в одну таблицу полученные сводные данные calls_users, internet_users, messages_users и сохраним в переменной total:"
   ]
  },
  {
   "cell_type": "code",
   "execution_count": 19,
   "id": "790b2114",
   "metadata": {
    "scrolled": false
   },
   "outputs": [
    {
     "data": {
      "text/html": [
       "<div>\n",
       "<style scoped>\n",
       "    .dataframe tbody tr th:only-of-type {\n",
       "        vertical-align: middle;\n",
       "    }\n",
       "\n",
       "    .dataframe tbody tr th {\n",
       "        vertical-align: top;\n",
       "    }\n",
       "\n",
       "    .dataframe thead th {\n",
       "        text-align: right;\n",
       "    }\n",
       "</style>\n",
       "<table border=\"1\" class=\"dataframe\">\n",
       "  <thead>\n",
       "    <tr style=\"text-align: right;\">\n",
       "      <th></th>\n",
       "      <th>user_id</th>\n",
       "      <th>month</th>\n",
       "      <th>call_count</th>\n",
       "      <th>call_sum_min</th>\n",
       "      <th>message_count</th>\n",
       "      <th>mb_used</th>\n",
       "      <th>tariff</th>\n",
       "    </tr>\n",
       "  </thead>\n",
       "  <tbody>\n",
       "    <tr>\n",
       "      <th>0</th>\n",
       "      <td>1000</td>\n",
       "      <td>5</td>\n",
       "      <td>17</td>\n",
       "      <td>159</td>\n",
       "      <td>22</td>\n",
       "      <td>2253.49</td>\n",
       "      <td>ultra</td>\n",
       "    </tr>\n",
       "    <tr>\n",
       "      <th>1</th>\n",
       "      <td>1000</td>\n",
       "      <td>6</td>\n",
       "      <td>28</td>\n",
       "      <td>172</td>\n",
       "      <td>60</td>\n",
       "      <td>23233.77</td>\n",
       "      <td>ultra</td>\n",
       "    </tr>\n",
       "    <tr>\n",
       "      <th>2</th>\n",
       "      <td>1000</td>\n",
       "      <td>7</td>\n",
       "      <td>41</td>\n",
       "      <td>340</td>\n",
       "      <td>75</td>\n",
       "      <td>14003.64</td>\n",
       "      <td>ultra</td>\n",
       "    </tr>\n",
       "    <tr>\n",
       "      <th>3</th>\n",
       "      <td>1000</td>\n",
       "      <td>8</td>\n",
       "      <td>42</td>\n",
       "      <td>408</td>\n",
       "      <td>81</td>\n",
       "      <td>14055.93</td>\n",
       "      <td>ultra</td>\n",
       "    </tr>\n",
       "    <tr>\n",
       "      <th>4</th>\n",
       "      <td>1000</td>\n",
       "      <td>9</td>\n",
       "      <td>46</td>\n",
       "      <td>466</td>\n",
       "      <td>57</td>\n",
       "      <td>14568.91</td>\n",
       "      <td>ultra</td>\n",
       "    </tr>\n",
       "  </tbody>\n",
       "</table>\n",
       "</div>"
      ],
      "text/plain": [
       "   user_id  month  call_count  call_sum_min  message_count   mb_used tariff\n",
       "0     1000      5          17           159             22   2253.49  ultra\n",
       "1     1000      6          28           172             60  23233.77  ultra\n",
       "2     1000      7          41           340             75  14003.64  ultra\n",
       "3     1000      8          42           408             81  14055.93  ultra\n",
       "4     1000      9          46           466             57  14568.91  ultra"
      ]
     },
     "execution_count": 19,
     "metadata": {},
     "output_type": "execute_result"
    }
   ],
   "source": [
    "#используем метод merge для объединения датафреймов по пользователям и месяцу расчета:\n",
    "total = calls_users.merge(messages_users, on=['user_id', 'month'], how = 'outer')\n",
    "total = total.merge(internet_users, on=['user_id', 'month'], how = 'outer')\n",
    "\n",
    "#добавим наименование тарифа:\n",
    "total = total.merge(users[['user_id', 'tariff']], on='user_id', how = 'outer')\n",
    "\n",
    "#заменим пропуски значений, которые образовались после объединения, нулями\n",
    "total = total.fillna(0)\n",
    "\n",
    "#заменим формат float на int в перечисленных ниже колонках:\n",
    "total[['month', 'call_count', 'call_sum_min', 'message_count']\n",
    "     ] = total[['month', 'call_count', 'call_sum_min', 'message_count']].astype('int')\n",
    "\n",
    "total.head()"
   ]
  },
  {
   "cell_type": "markdown",
   "id": "9f23f49f",
   "metadata": {},
   "source": [
    "В нашем датафрейме есть данные по клиентам, которые не совершили ни одного действия:"
   ]
  },
  {
   "cell_type": "code",
   "execution_count": 20,
   "id": "9ba031f5",
   "metadata": {},
   "outputs": [
    {
     "data": {
      "text/html": [
       "<div>\n",
       "<style scoped>\n",
       "    .dataframe tbody tr th:only-of-type {\n",
       "        vertical-align: middle;\n",
       "    }\n",
       "\n",
       "    .dataframe tbody tr th {\n",
       "        vertical-align: top;\n",
       "    }\n",
       "\n",
       "    .dataframe thead th {\n",
       "        text-align: right;\n",
       "    }\n",
       "</style>\n",
       "<table border=\"1\" class=\"dataframe\">\n",
       "  <thead>\n",
       "    <tr style=\"text-align: right;\">\n",
       "      <th></th>\n",
       "      <th>user_id</th>\n",
       "      <th>month</th>\n",
       "      <th>call_count</th>\n",
       "      <th>call_sum_min</th>\n",
       "      <th>message_count</th>\n",
       "      <th>mb_used</th>\n",
       "      <th>tariff</th>\n",
       "    </tr>\n",
       "  </thead>\n",
       "  <tbody>\n",
       "    <tr>\n",
       "      <th>3214</th>\n",
       "      <td>1128</td>\n",
       "      <td>0</td>\n",
       "      <td>0</td>\n",
       "      <td>0</td>\n",
       "      <td>0</td>\n",
       "      <td>0.0</td>\n",
       "      <td>ultra</td>\n",
       "    </tr>\n",
       "    <tr>\n",
       "      <th>3215</th>\n",
       "      <td>1371</td>\n",
       "      <td>0</td>\n",
       "      <td>0</td>\n",
       "      <td>0</td>\n",
       "      <td>0</td>\n",
       "      <td>0.0</td>\n",
       "      <td>smart</td>\n",
       "    </tr>\n",
       "  </tbody>\n",
       "</table>\n",
       "</div>"
      ],
      "text/plain": [
       "      user_id  month  call_count  call_sum_min  message_count  mb_used tariff\n",
       "3214     1128      0           0             0              0      0.0  ultra\n",
       "3215     1371      0           0             0              0      0.0  smart"
      ]
     },
     "metadata": {},
     "output_type": "display_data"
    },
    {
     "data": {
      "text/html": [
       "<div>\n",
       "<style scoped>\n",
       "    .dataframe tbody tr th:only-of-type {\n",
       "        vertical-align: middle;\n",
       "    }\n",
       "\n",
       "    .dataframe tbody tr th {\n",
       "        vertical-align: top;\n",
       "    }\n",
       "\n",
       "    .dataframe thead th {\n",
       "        text-align: right;\n",
       "    }\n",
       "</style>\n",
       "<table border=\"1\" class=\"dataframe\">\n",
       "  <thead>\n",
       "    <tr style=\"text-align: right;\">\n",
       "      <th></th>\n",
       "      <th>user_id</th>\n",
       "      <th>age</th>\n",
       "      <th>churn_date</th>\n",
       "      <th>city</th>\n",
       "      <th>first_name</th>\n",
       "      <th>last_name</th>\n",
       "      <th>reg_date</th>\n",
       "      <th>tariff</th>\n",
       "    </tr>\n",
       "  </thead>\n",
       "  <tbody>\n",
       "    <tr>\n",
       "      <th>128</th>\n",
       "      <td>1128</td>\n",
       "      <td>51</td>\n",
       "      <td>2018-12-23</td>\n",
       "      <td>Волжский</td>\n",
       "      <td>Ксения</td>\n",
       "      <td>Агаева</td>\n",
       "      <td>2018-12-15</td>\n",
       "      <td>ultra</td>\n",
       "    </tr>\n",
       "    <tr>\n",
       "      <th>371</th>\n",
       "      <td>1371</td>\n",
       "      <td>50</td>\n",
       "      <td>2018-12-30</td>\n",
       "      <td>Омск</td>\n",
       "      <td>Ириней</td>\n",
       "      <td>Трофимов</td>\n",
       "      <td>2018-12-25</td>\n",
       "      <td>smart</td>\n",
       "    </tr>\n",
       "  </tbody>\n",
       "</table>\n",
       "</div>"
      ],
      "text/plain": [
       "     user_id  age churn_date      city first_name last_name   reg_date tariff\n",
       "128     1128   51 2018-12-23  Волжский     Ксения    Агаева 2018-12-15  ultra\n",
       "371     1371   50 2018-12-30      Омск     Ириней  Трофимов 2018-12-25  smart"
      ]
     },
     "metadata": {},
     "output_type": "display_data"
    }
   ],
   "source": [
    "display(total.query('month == 0'))\n",
    "display(users.query('user_id.isin([1128, 1371])'))"
   ]
  },
  {
   "cell_type": "markdown",
   "id": "51bd549d",
   "metadata": {},
   "source": [
    "Как видно из регистрационных данных, данные абоненты заключили договоры на оказание услуг сотовой связи в последние числа декабря и еще не успели воспользоваться услугами. Нам неизвестно в какой момент сотовый оператор взимает плату за свои услуги. Предположим, что абонентская плата взимается вперед. Исходя из этого предположения заполним колонку monts в строках с индексами 3214 и 3215 числом 12:"
   ]
  },
  {
   "cell_type": "code",
   "execution_count": 21,
   "id": "fe81ff07",
   "metadata": {},
   "outputs": [
    {
     "data": {
      "text/html": [
       "<div>\n",
       "<style scoped>\n",
       "    .dataframe tbody tr th:only-of-type {\n",
       "        vertical-align: middle;\n",
       "    }\n",
       "\n",
       "    .dataframe tbody tr th {\n",
       "        vertical-align: top;\n",
       "    }\n",
       "\n",
       "    .dataframe thead th {\n",
       "        text-align: right;\n",
       "    }\n",
       "</style>\n",
       "<table border=\"1\" class=\"dataframe\">\n",
       "  <thead>\n",
       "    <tr style=\"text-align: right;\">\n",
       "      <th></th>\n",
       "      <th>user_id</th>\n",
       "      <th>month</th>\n",
       "      <th>call_count</th>\n",
       "      <th>call_sum_min</th>\n",
       "      <th>message_count</th>\n",
       "      <th>mb_used</th>\n",
       "      <th>tariff</th>\n",
       "    </tr>\n",
       "  </thead>\n",
       "  <tbody>\n",
       "    <tr>\n",
       "      <th>3214</th>\n",
       "      <td>1128</td>\n",
       "      <td>12</td>\n",
       "      <td>0</td>\n",
       "      <td>0</td>\n",
       "      <td>0</td>\n",
       "      <td>0.0</td>\n",
       "      <td>ultra</td>\n",
       "    </tr>\n",
       "    <tr>\n",
       "      <th>3215</th>\n",
       "      <td>1371</td>\n",
       "      <td>12</td>\n",
       "      <td>0</td>\n",
       "      <td>0</td>\n",
       "      <td>0</td>\n",
       "      <td>0.0</td>\n",
       "      <td>smart</td>\n",
       "    </tr>\n",
       "  </tbody>\n",
       "</table>\n",
       "</div>"
      ],
      "text/plain": [
       "      user_id  month  call_count  call_sum_min  message_count  mb_used tariff\n",
       "3214     1128     12           0             0              0      0.0  ultra\n",
       "3215     1371     12           0             0              0      0.0  smart"
      ]
     },
     "execution_count": 21,
     "metadata": {},
     "output_type": "execute_result"
    }
   ],
   "source": [
    "total.loc[3214, 'month'] = 12\n",
    "total.loc[3215, 'month'] = 12\n",
    "\n",
    "total.query('user_id.isin([1128, 1371])')"
   ]
  },
  {
   "cell_type": "markdown",
   "id": "2ba877cc",
   "metadata": {},
   "source": [
    "Поделим датафрейм total, в котором мы объединили сводные таблицы по звонкам, смс и интернет-трафику, на два в зависимости от тарифа:"
   ]
  },
  {
   "cell_type": "code",
   "execution_count": 22,
   "id": "37714a99",
   "metadata": {},
   "outputs": [
    {
     "name": "stdout",
     "output_type": "stream",
     "text": [
      "<class 'pandas.core.frame.DataFrame'>\n",
      "Int64Index: 2230 entries, 8 to 3215\n",
      "Data columns (total 7 columns):\n",
      " #   Column         Non-Null Count  Dtype  \n",
      "---  ------         --------------  -----  \n",
      " 0   user_id        2230 non-null   int64  \n",
      " 1   month          2230 non-null   int32  \n",
      " 2   call_count     2230 non-null   int32  \n",
      " 3   call_sum_min   2230 non-null   int32  \n",
      " 4   message_count  2230 non-null   int32  \n",
      " 5   mb_used        2230 non-null   float64\n",
      " 6   tariff         2230 non-null   object \n",
      "dtypes: float64(1), int32(4), int64(1), object(1)\n",
      "memory usage: 104.5+ KB\n",
      "\n",
      "<class 'pandas.core.frame.DataFrame'>\n",
      "Int64Index: 986 entries, 0 to 3214\n",
      "Data columns (total 7 columns):\n",
      " #   Column         Non-Null Count  Dtype  \n",
      "---  ------         --------------  -----  \n",
      " 0   user_id        986 non-null    int64  \n",
      " 1   month          986 non-null    int32  \n",
      " 2   call_count     986 non-null    int32  \n",
      " 3   call_sum_min   986 non-null    int32  \n",
      " 4   message_count  986 non-null    int32  \n",
      " 5   mb_used        986 non-null    float64\n",
      " 6   tariff         986 non-null    object \n",
      "dtypes: float64(1), int32(4), int64(1), object(1)\n",
      "memory usage: 46.2+ KB\n"
     ]
    }
   ],
   "source": [
    "total_smart = total.query('tariff == \"smart\"')\n",
    "total_ultra = total.query('tariff == \"ultra\"')\n",
    "total_smart.info()\n",
    "print()\n",
    "total_ultra.info()"
   ]
  },
  {
   "cell_type": "markdown",
   "id": "b81333e4",
   "metadata": {},
   "source": [
    "Рассчитаем сумму выручки по каждому из тарифов:\n",
    "\n",
    "- вычтем бесплатный лимит из суммарного количества звонков, сообщений и интернет-трафика;\n",
    "- остаток умножим на значение из тарифного плана; \n",
    "- прибавим абонентскую плату, соответствующую тарифному плану.\n",
    "\n",
    "Поскольку расчеты идентичны, для того, чтобы добавить столбцы с необходимыми расчетами в оба датафрейма (total_smart и total_ultra), напишем функцию table_tariff:"
   ]
  },
  {
   "cell_type": "code",
   "execution_count": 23,
   "id": "117e7121",
   "metadata": {
    "scrolled": false
   },
   "outputs": [],
   "source": [
    "def table_tariff (table_tariff, tariff):\n",
    "    #выбор тарифа\n",
    "    if tariff == 'smart':\n",
    "        index = 0\n",
    "    elif tariff == 'ultra':\n",
    "        index = 1\n",
    "    else:\n",
    "        print('Тариф неизвестен')\n",
    "        \n",
    "    #создаем колонку сверхлимитных минут\n",
    "    table_tariff['call_over_limit'] =  (table_tariff['call_sum_min'] - tariffs.loc[index, 'minutes_included'])\n",
    "    table_tariff.loc[table_tariff['call_over_limit'] <0, 'call_over_limit'] = 0\n",
    "    \n",
    "    #создаем колонку цены сверхлимитных минут\n",
    "    table_tariff['call_over_limit_rub'] = table_tariff['call_over_limit'] * tariffs.loc[index, 'rub_per_minute']\n",
    "    \n",
    "    #создаем колонку сверхлимитных СМС\n",
    "    table_tariff['messagе_over_limit'] = table_tariff['message_count'] - tariffs.loc[index, 'messages_included']\n",
    "                                           \n",
    "    table_tariff.loc[table_tariff['messagе_over_limit'] <0, 'messagе_over_limit'] = 0\n",
    "                                           \n",
    "    #создаем колонку цены сверхлимитных СМС\n",
    "    table_tariff['messagе_over_limit_rub'] = table_tariff['messagе_over_limit'] * tariffs.loc[index, 'rub_per_message']\n",
    "   \n",
    "    #создаем колонку сверхлимитного трафика и округляем ее \"вверх\" до Гб\n",
    "    table_tariff['Gb_over_limit'] =  table_tariff['mb_used'] - tariffs.loc[index, 'mb_per_month_included']\n",
    "    table_tariff.loc[table_tariff['Gb_over_limit'] <0, 'Gb_over_limit'] = 0\n",
    "                                      \n",
    "    table_tariff['Gb_over_limit'] = (table_tariff['Gb_over_limit'] / 1024).apply(np.ceil).astype(int)\n",
    "   \n",
    "    #создаем колонку цены сверхлимитого трафика\n",
    "    table_tariff['Gb_over_limit_rub'] = table_tariff['Gb_over_limit'] * tariffs.loc[index, 'rub_per_gb']\n",
    "    \n",
    "    #итого выручка\n",
    "    table_tariff['total_income'] =  (table_tariff['call_over_limit_rub'] +\n",
    "                                     table_tariff['messagе_over_limit_rub'] +\n",
    "                                     table_tariff['Gb_over_limit_rub'] +\n",
    "                                     tariffs.loc[index, 'rub_monthly_fee'])\n",
    "    "
   ]
  },
  {
   "cell_type": "markdown",
   "id": "9b6eadf7",
   "metadata": {},
   "source": [
    "Применим функцию table_tariff для заполнения датафреймов total_smart и total_ultra:"
   ]
  },
  {
   "cell_type": "code",
   "execution_count": 24,
   "id": "13ce0336",
   "metadata": {
    "scrolled": true
   },
   "outputs": [
    {
     "data": {
      "text/html": [
       "<div>\n",
       "<style scoped>\n",
       "    .dataframe tbody tr th:only-of-type {\n",
       "        vertical-align: middle;\n",
       "    }\n",
       "\n",
       "    .dataframe tbody tr th {\n",
       "        vertical-align: top;\n",
       "    }\n",
       "\n",
       "    .dataframe thead th {\n",
       "        text-align: right;\n",
       "    }\n",
       "</style>\n",
       "<table border=\"1\" class=\"dataframe\">\n",
       "  <thead>\n",
       "    <tr style=\"text-align: right;\">\n",
       "      <th></th>\n",
       "      <th>user_id</th>\n",
       "      <th>month</th>\n",
       "      <th>call_count</th>\n",
       "      <th>call_sum_min</th>\n",
       "      <th>message_count</th>\n",
       "      <th>mb_used</th>\n",
       "      <th>tariff</th>\n",
       "      <th>call_over_limit</th>\n",
       "      <th>call_over_limit_rub</th>\n",
       "      <th>messagе_over_limit</th>\n",
       "      <th>messagе_over_limit_rub</th>\n",
       "      <th>Gb_over_limit</th>\n",
       "      <th>Gb_over_limit_rub</th>\n",
       "      <th>total_income</th>\n",
       "    </tr>\n",
       "  </thead>\n",
       "  <tbody>\n",
       "    <tr>\n",
       "      <th>3210</th>\n",
       "      <td>1489</td>\n",
       "      <td>9</td>\n",
       "      <td>0</td>\n",
       "      <td>0</td>\n",
       "      <td>32</td>\n",
       "      <td>17206.30</td>\n",
       "      <td>smart</td>\n",
       "      <td>0</td>\n",
       "      <td>0</td>\n",
       "      <td>0</td>\n",
       "      <td>0</td>\n",
       "      <td>2</td>\n",
       "      <td>400</td>\n",
       "      <td>950</td>\n",
       "    </tr>\n",
       "    <tr>\n",
       "      <th>3211</th>\n",
       "      <td>1489</td>\n",
       "      <td>10</td>\n",
       "      <td>0</td>\n",
       "      <td>0</td>\n",
       "      <td>21</td>\n",
       "      <td>19559.44</td>\n",
       "      <td>smart</td>\n",
       "      <td>0</td>\n",
       "      <td>0</td>\n",
       "      <td>0</td>\n",
       "      <td>0</td>\n",
       "      <td>5</td>\n",
       "      <td>1000</td>\n",
       "      <td>1550</td>\n",
       "    </tr>\n",
       "    <tr>\n",
       "      <th>3212</th>\n",
       "      <td>1489</td>\n",
       "      <td>11</td>\n",
       "      <td>0</td>\n",
       "      <td>0</td>\n",
       "      <td>20</td>\n",
       "      <td>17491.56</td>\n",
       "      <td>smart</td>\n",
       "      <td>0</td>\n",
       "      <td>0</td>\n",
       "      <td>0</td>\n",
       "      <td>0</td>\n",
       "      <td>3</td>\n",
       "      <td>600</td>\n",
       "      <td>1150</td>\n",
       "    </tr>\n",
       "    <tr>\n",
       "      <th>3213</th>\n",
       "      <td>1489</td>\n",
       "      <td>12</td>\n",
       "      <td>0</td>\n",
       "      <td>0</td>\n",
       "      <td>35</td>\n",
       "      <td>17322.51</td>\n",
       "      <td>smart</td>\n",
       "      <td>0</td>\n",
       "      <td>0</td>\n",
       "      <td>0</td>\n",
       "      <td>0</td>\n",
       "      <td>2</td>\n",
       "      <td>400</td>\n",
       "      <td>950</td>\n",
       "    </tr>\n",
       "    <tr>\n",
       "      <th>3215</th>\n",
       "      <td>1371</td>\n",
       "      <td>12</td>\n",
       "      <td>0</td>\n",
       "      <td>0</td>\n",
       "      <td>0</td>\n",
       "      <td>0.00</td>\n",
       "      <td>smart</td>\n",
       "      <td>0</td>\n",
       "      <td>0</td>\n",
       "      <td>0</td>\n",
       "      <td>0</td>\n",
       "      <td>0</td>\n",
       "      <td>0</td>\n",
       "      <td>550</td>\n",
       "    </tr>\n",
       "  </tbody>\n",
       "</table>\n",
       "</div>"
      ],
      "text/plain": [
       "      user_id  month  call_count  call_sum_min  message_count   mb_used  \\\n",
       "3210     1489      9           0             0             32  17206.30   \n",
       "3211     1489     10           0             0             21  19559.44   \n",
       "3212     1489     11           0             0             20  17491.56   \n",
       "3213     1489     12           0             0             35  17322.51   \n",
       "3215     1371     12           0             0              0      0.00   \n",
       "\n",
       "     tariff  call_over_limit  call_over_limit_rub  messagе_over_limit  \\\n",
       "3210  smart                0                    0                   0   \n",
       "3211  smart                0                    0                   0   \n",
       "3212  smart                0                    0                   0   \n",
       "3213  smart                0                    0                   0   \n",
       "3215  smart                0                    0                   0   \n",
       "\n",
       "      messagе_over_limit_rub  Gb_over_limit  Gb_over_limit_rub  total_income  \n",
       "3210                       0              2                400           950  \n",
       "3211                       0              5               1000          1550  \n",
       "3212                       0              3                600          1150  \n",
       "3213                       0              2                400           950  \n",
       "3215                       0              0                  0           550  "
      ]
     },
     "execution_count": 24,
     "metadata": {},
     "output_type": "execute_result"
    }
   ],
   "source": [
    "#заполняем total_smart с помощью функции table_tariff\n",
    "table_tariff(total_smart, 'smart') \n",
    "total_smart.tail()"
   ]
  },
  {
   "cell_type": "code",
   "execution_count": 25,
   "id": "dbf59f4b",
   "metadata": {
    "scrolled": true
   },
   "outputs": [
    {
     "data": {
      "text/html": [
       "<div>\n",
       "<style scoped>\n",
       "    .dataframe tbody tr th:only-of-type {\n",
       "        vertical-align: middle;\n",
       "    }\n",
       "\n",
       "    .dataframe tbody tr th {\n",
       "        vertical-align: top;\n",
       "    }\n",
       "\n",
       "    .dataframe thead th {\n",
       "        text-align: right;\n",
       "    }\n",
       "</style>\n",
       "<table border=\"1\" class=\"dataframe\">\n",
       "  <thead>\n",
       "    <tr style=\"text-align: right;\">\n",
       "      <th></th>\n",
       "      <th>user_id</th>\n",
       "      <th>month</th>\n",
       "      <th>call_count</th>\n",
       "      <th>call_sum_min</th>\n",
       "      <th>message_count</th>\n",
       "      <th>mb_used</th>\n",
       "      <th>tariff</th>\n",
       "      <th>call_over_limit</th>\n",
       "      <th>call_over_limit_rub</th>\n",
       "      <th>messagе_over_limit</th>\n",
       "      <th>messagе_over_limit_rub</th>\n",
       "      <th>Gb_over_limit</th>\n",
       "      <th>Gb_over_limit_rub</th>\n",
       "      <th>total_income</th>\n",
       "    </tr>\n",
       "  </thead>\n",
       "  <tbody>\n",
       "    <tr>\n",
       "      <th>3205</th>\n",
       "      <td>1473</td>\n",
       "      <td>9</td>\n",
       "      <td>0</td>\n",
       "      <td>0</td>\n",
       "      <td>19</td>\n",
       "      <td>17289.85</td>\n",
       "      <td>ultra</td>\n",
       "      <td>0</td>\n",
       "      <td>0</td>\n",
       "      <td>0</td>\n",
       "      <td>0</td>\n",
       "      <td>0</td>\n",
       "      <td>0</td>\n",
       "      <td>1950</td>\n",
       "    </tr>\n",
       "    <tr>\n",
       "      <th>3206</th>\n",
       "      <td>1473</td>\n",
       "      <td>10</td>\n",
       "      <td>0</td>\n",
       "      <td>0</td>\n",
       "      <td>20</td>\n",
       "      <td>13688.65</td>\n",
       "      <td>ultra</td>\n",
       "      <td>0</td>\n",
       "      <td>0</td>\n",
       "      <td>0</td>\n",
       "      <td>0</td>\n",
       "      <td>0</td>\n",
       "      <td>0</td>\n",
       "      <td>1950</td>\n",
       "    </tr>\n",
       "    <tr>\n",
       "      <th>3207</th>\n",
       "      <td>1473</td>\n",
       "      <td>11</td>\n",
       "      <td>0</td>\n",
       "      <td>0</td>\n",
       "      <td>14</td>\n",
       "      <td>21673.80</td>\n",
       "      <td>ultra</td>\n",
       "      <td>0</td>\n",
       "      <td>0</td>\n",
       "      <td>0</td>\n",
       "      <td>0</td>\n",
       "      <td>0</td>\n",
       "      <td>0</td>\n",
       "      <td>1950</td>\n",
       "    </tr>\n",
       "    <tr>\n",
       "      <th>3208</th>\n",
       "      <td>1473</td>\n",
       "      <td>12</td>\n",
       "      <td>0</td>\n",
       "      <td>0</td>\n",
       "      <td>20</td>\n",
       "      <td>18418.26</td>\n",
       "      <td>ultra</td>\n",
       "      <td>0</td>\n",
       "      <td>0</td>\n",
       "      <td>0</td>\n",
       "      <td>0</td>\n",
       "      <td>0</td>\n",
       "      <td>0</td>\n",
       "      <td>1950</td>\n",
       "    </tr>\n",
       "    <tr>\n",
       "      <th>3214</th>\n",
       "      <td>1128</td>\n",
       "      <td>12</td>\n",
       "      <td>0</td>\n",
       "      <td>0</td>\n",
       "      <td>0</td>\n",
       "      <td>0.00</td>\n",
       "      <td>ultra</td>\n",
       "      <td>0</td>\n",
       "      <td>0</td>\n",
       "      <td>0</td>\n",
       "      <td>0</td>\n",
       "      <td>0</td>\n",
       "      <td>0</td>\n",
       "      <td>1950</td>\n",
       "    </tr>\n",
       "  </tbody>\n",
       "</table>\n",
       "</div>"
      ],
      "text/plain": [
       "      user_id  month  call_count  call_sum_min  message_count   mb_used  \\\n",
       "3205     1473      9           0             0             19  17289.85   \n",
       "3206     1473     10           0             0             20  13688.65   \n",
       "3207     1473     11           0             0             14  21673.80   \n",
       "3208     1473     12           0             0             20  18418.26   \n",
       "3214     1128     12           0             0              0      0.00   \n",
       "\n",
       "     tariff  call_over_limit  call_over_limit_rub  messagе_over_limit  \\\n",
       "3205  ultra                0                    0                   0   \n",
       "3206  ultra                0                    0                   0   \n",
       "3207  ultra                0                    0                   0   \n",
       "3208  ultra                0                    0                   0   \n",
       "3214  ultra                0                    0                   0   \n",
       "\n",
       "      messagе_over_limit_rub  Gb_over_limit  Gb_over_limit_rub  total_income  \n",
       "3205                       0              0                  0          1950  \n",
       "3206                       0              0                  0          1950  \n",
       "3207                       0              0                  0          1950  \n",
       "3208                       0              0                  0          1950  \n",
       "3214                       0              0                  0          1950  "
      ]
     },
     "execution_count": 25,
     "metadata": {},
     "output_type": "execute_result"
    }
   ],
   "source": [
    "#заполняем total_ultra с помощью функции table_tariff    \n",
    "table_tariff(total_ultra, 'ultra') \n",
    "total_ultra.tail()"
   ]
  },
  {
   "cell_type": "markdown",
   "id": "92798b90",
   "metadata": {},
   "source": [
    "## Вывод по разделу 3"
   ]
  },
  {
   "cell_type": "markdown",
   "id": "89c55eab",
   "metadata": {},
   "source": [
    "Произведены расчеты для каждого пользователя:\n",
    "\n",
    "\n",
    "•\tколичество сделанных звонков и израсходованных минут разговора по месяцам;\n",
    "•\tколичество отправленных сообщений по месяцам;\n",
    "•\tобъем израсходованного интернет-трафика по месяцам;\n",
    "•\tпомесячная выручка с каждого пользователя \n",
    "\n",
    "Для удобства дальнейшего анализа данные поделены на 2 части согласно выбранному тарифу : на total_smart и  total_ultra\n"
   ]
  },
  {
   "cell_type": "markdown",
   "id": "8d0f8756",
   "metadata": {},
   "source": [
    "# Исследовательский анализ данных"
   ]
  },
  {
   "cell_type": "markdown",
   "id": "2425d16a",
   "metadata": {},
   "source": [
    "## Описание поведения клиентов оператора исходя из выборки"
   ]
  },
  {
   "cell_type": "code",
   "execution_count": 26,
   "id": "3d3f0a3e",
   "metadata": {},
   "outputs": [
    {
     "name": "stdout",
     "output_type": "stream",
     "text": [
      "tariff\n",
      "smart    351\n",
      "ultra    149\n",
      "Name: user_id, dtype: int64\n"
     ]
    }
   ],
   "source": [
    "#Количество абонентов \n",
    "\n",
    "print(users.groupby('tariff')['user_id'].count())"
   ]
  },
  {
   "cell_type": "markdown",
   "id": "0bae78b4",
   "metadata": {},
   "source": [
    "### Тариф 'smart'"
   ]
  },
  {
   "cell_type": "markdown",
   "id": "879d2aca",
   "metadata": {},
   "source": [
    "В нашей выборке total_smart 351 абонент тарифа SMART. Рассчитаем среднее количество минут разговора, сообщений и объем интернет-трафика для каждого пользователя тарифа, для чего построим сводную таблицу:"
   ]
  },
  {
   "cell_type": "markdown",
   "id": "bb820f84",
   "metadata": {},
   "source": [
    "**Звонки**\n",
    "\n",
    "Рассчитаем среднее количество минут, который пользователь тарифа тратит в месяц:"
   ]
  },
  {
   "cell_type": "code",
   "execution_count": 27,
   "id": "7e7e35cc",
   "metadata": {},
   "outputs": [
    {
     "data": {
      "text/html": [
       "<div>\n",
       "<style scoped>\n",
       "    .dataframe tbody tr th:only-of-type {\n",
       "        vertical-align: middle;\n",
       "    }\n",
       "\n",
       "    .dataframe tbody tr th {\n",
       "        vertical-align: top;\n",
       "    }\n",
       "\n",
       "    .dataframe thead th {\n",
       "        text-align: right;\n",
       "    }\n",
       "</style>\n",
       "<table border=\"1\" class=\"dataframe\">\n",
       "  <thead>\n",
       "    <tr style=\"text-align: right;\">\n",
       "      <th></th>\n",
       "      <th>call_sum_min</th>\n",
       "      <th>call_over_limit</th>\n",
       "    </tr>\n",
       "    <tr>\n",
       "      <th>user_id</th>\n",
       "      <th></th>\n",
       "      <th></th>\n",
       "    </tr>\n",
       "  </thead>\n",
       "  <tbody>\n",
       "    <tr>\n",
       "      <th>1001</th>\n",
       "      <td>422.000000</td>\n",
       "      <td>0.000000</td>\n",
       "    </tr>\n",
       "    <tr>\n",
       "      <th>1002</th>\n",
       "      <td>216.714286</td>\n",
       "      <td>0.000000</td>\n",
       "    </tr>\n",
       "    <tr>\n",
       "      <th>1005</th>\n",
       "      <td>550.416667</td>\n",
       "      <td>89.583333</td>\n",
       "    </tr>\n",
       "    <tr>\n",
       "      <th>1006</th>\n",
       "      <td>318.272727</td>\n",
       "      <td>0.000000</td>\n",
       "    </tr>\n",
       "    <tr>\n",
       "      <th>1007</th>\n",
       "      <td>486.555556</td>\n",
       "      <td>39.666667</td>\n",
       "    </tr>\n",
       "  </tbody>\n",
       "</table>\n",
       "</div>"
      ],
      "text/plain": [
       "         call_sum_min  call_over_limit\n",
       "user_id                               \n",
       "1001       422.000000         0.000000\n",
       "1002       216.714286         0.000000\n",
       "1005       550.416667        89.583333\n",
       "1006       318.272727         0.000000\n",
       "1007       486.555556        39.666667"
      ]
     },
     "execution_count": 27,
     "metadata": {},
     "output_type": "execute_result"
    }
   ],
   "source": [
    "smart_call = total_smart.groupby(['user_id'])['call_sum_min',\n",
    "                                              'call_over_limit',\n",
    "                                              ].mean()\n",
    "smart_call.head()"
   ]
  },
  {
   "cell_type": "code",
   "execution_count": 28,
   "id": "ee970673",
   "metadata": {},
   "outputs": [
    {
     "data": {
      "text/html": [
       "<div>\n",
       "<style scoped>\n",
       "    .dataframe tbody tr th:only-of-type {\n",
       "        vertical-align: middle;\n",
       "    }\n",
       "\n",
       "    .dataframe tbody tr th {\n",
       "        vertical-align: top;\n",
       "    }\n",
       "\n",
       "    .dataframe thead th {\n",
       "        text-align: right;\n",
       "    }\n",
       "</style>\n",
       "<table border=\"1\" class=\"dataframe\">\n",
       "  <thead>\n",
       "    <tr style=\"text-align: right;\">\n",
       "      <th></th>\n",
       "      <th>call_sum_min</th>\n",
       "      <th>call_over_limit</th>\n",
       "    </tr>\n",
       "  </thead>\n",
       "  <tbody>\n",
       "    <tr>\n",
       "      <th>count</th>\n",
       "      <td>351.000000</td>\n",
       "      <td>351.000000</td>\n",
       "    </tr>\n",
       "    <tr>\n",
       "      <th>mean</th>\n",
       "      <td>418.439262</td>\n",
       "      <td>45.610244</td>\n",
       "    </tr>\n",
       "    <tr>\n",
       "      <th>std</th>\n",
       "      <td>146.546039</td>\n",
       "      <td>70.064398</td>\n",
       "    </tr>\n",
       "    <tr>\n",
       "      <th>min</th>\n",
       "      <td>0.000000</td>\n",
       "      <td>0.000000</td>\n",
       "    </tr>\n",
       "    <tr>\n",
       "      <th>25%</th>\n",
       "      <td>315.958333</td>\n",
       "      <td>0.000000</td>\n",
       "    </tr>\n",
       "    <tr>\n",
       "      <th>50%</th>\n",
       "      <td>424.875000</td>\n",
       "      <td>12.000000</td>\n",
       "    </tr>\n",
       "    <tr>\n",
       "      <th>75%</th>\n",
       "      <td>518.616667</td>\n",
       "      <td>66.300000</td>\n",
       "    </tr>\n",
       "    <tr>\n",
       "      <th>max</th>\n",
       "      <td>891.500000</td>\n",
       "      <td>467.500000</td>\n",
       "    </tr>\n",
       "  </tbody>\n",
       "</table>\n",
       "</div>"
      ],
      "text/plain": [
       "       call_sum_min  call_over_limit\n",
       "count    351.000000       351.000000\n",
       "mean     418.439262        45.610244\n",
       "std      146.546039        70.064398\n",
       "min        0.000000         0.000000\n",
       "25%      315.958333         0.000000\n",
       "50%      424.875000        12.000000\n",
       "75%      518.616667        66.300000\n",
       "max      891.500000       467.500000"
      ]
     },
     "execution_count": 28,
     "metadata": {},
     "output_type": "execute_result"
    }
   ],
   "source": [
    "smart_call.describe()"
   ]
  },
  {
   "cell_type": "markdown",
   "id": "c6f74c65",
   "metadata": {},
   "source": [
    "Построим гистограмму по количеству звонков абонента в месяц :"
   ]
  },
  {
   "cell_type": "code",
   "execution_count": 29,
   "id": "167eed0d",
   "metadata": {},
   "outputs": [
    {
     "data": {
      "image/png": "[encoded data removed]",
      "text/plain": [
       "<Figure size 432x288 with 1 Axes>"
      ]
     },
     "metadata": {
      "needs_background": "light"
     },
     "output_type": "display_data"
    }
   ],
   "source": [
    "smart_call['call_sum_min'].hist(bins=20).set(title=\n",
    "                            'Среднемесячное количество минут разговора абонента тарифа SMART', \n",
    "                             xlabel='количество минут', ylabel='количество абонентов');"
   ]
  },
  {
   "cell_type": "code",
   "execution_count": 30,
   "id": "937b23d0",
   "metadata": {},
   "outputs": [
    {
     "data": {
      "image/png": "[encoded data removed]",
      "text/plain": [
       "<Figure size 432x288 with 1 Axes>"
      ]
     },
     "metadata": {
      "needs_background": "light"
     },
     "output_type": "display_data"
    }
   ],
   "source": [
    "smart_call['call_over_limit'].hist(bins=30).set(title=\n",
    "                            'Среднемесячное количество минут разговора абонента тарифа SMART сверх лимита', \n",
    "                             xlabel='количество минут', ylabel='количество абонентов');"
   ]
  },
  {
   "cell_type": "markdown",
   "id": "cfbbb613",
   "metadata": {},
   "source": [
    "В оплаченный пакет тарифа SMART включено 500 минут разговора, фактически значительная часть абонентов тратит в месяц  на разговоры 300-600 минут с пиком в области 420 минут +/- стандартное отклонение в 146 минут. И медиана, и среднее лежат на уровне ниже 500 пакетных минут. То есть сверхлимитного времени не так уж много, большинство стараются укладываться в \"пакетное\"  и доплачивают за сверхлимитные разговоры по минимуму: на гистограмме сверхлимитного времени мы видим пик около нулевой отметки."
   ]
  },
  {
   "cell_type": "markdown",
   "id": "19587688",
   "metadata": {},
   "source": [
    "**СМС**\n",
    "\n",
    "Рассчитаем среднее количество смс, который пользователь тарифа тратит в месяц:"
   ]
  },
  {
   "cell_type": "code",
   "execution_count": 31,
   "id": "9bbd0cdd",
   "metadata": {},
   "outputs": [
    {
     "data": {
      "text/html": [
       "<div>\n",
       "<style scoped>\n",
       "    .dataframe tbody tr th:only-of-type {\n",
       "        vertical-align: middle;\n",
       "    }\n",
       "\n",
       "    .dataframe tbody tr th {\n",
       "        vertical-align: top;\n",
       "    }\n",
       "\n",
       "    .dataframe thead th {\n",
       "        text-align: right;\n",
       "    }\n",
       "</style>\n",
       "<table border=\"1\" class=\"dataframe\">\n",
       "  <thead>\n",
       "    <tr style=\"text-align: right;\">\n",
       "      <th></th>\n",
       "      <th>message_count</th>\n",
       "      <th>messagе_over_limit</th>\n",
       "    </tr>\n",
       "    <tr>\n",
       "      <th>user_id</th>\n",
       "      <th></th>\n",
       "      <th></th>\n",
       "    </tr>\n",
       "  </thead>\n",
       "  <tbody>\n",
       "    <tr>\n",
       "      <th>1001</th>\n",
       "      <td>0.0</td>\n",
       "      <td>0.00</td>\n",
       "    </tr>\n",
       "    <tr>\n",
       "      <th>1002</th>\n",
       "      <td>10.0</td>\n",
       "      <td>0.00</td>\n",
       "    </tr>\n",
       "    <tr>\n",
       "      <th>1005</th>\n",
       "      <td>46.0</td>\n",
       "      <td>2.75</td>\n",
       "    </tr>\n",
       "    <tr>\n",
       "      <th>1006</th>\n",
       "      <td>0.0</td>\n",
       "      <td>0.00</td>\n",
       "    </tr>\n",
       "    <tr>\n",
       "      <th>1007</th>\n",
       "      <td>25.0</td>\n",
       "      <td>0.00</td>\n",
       "    </tr>\n",
       "  </tbody>\n",
       "</table>\n",
       "</div>"
      ],
      "text/plain": [
       "         message_count  messagе_over_limit\n",
       "user_id                                   \n",
       "1001               0.0                0.00\n",
       "1002              10.0                0.00\n",
       "1005              46.0                2.75\n",
       "1006               0.0                0.00\n",
       "1007              25.0                0.00"
      ]
     },
     "execution_count": 31,
     "metadata": {},
     "output_type": "execute_result"
    }
   ],
   "source": [
    "smart_message = total_smart.groupby(['user_id'])['message_count',\n",
    "                                                 'messagе_over_limit',\n",
    "                                                 ].mean()\n",
    "smart_message.head()"
   ]
  },
  {
   "cell_type": "code",
   "execution_count": 32,
   "id": "0fb03613",
   "metadata": {},
   "outputs": [
    {
     "data": {
      "text/html": [
       "<div>\n",
       "<style scoped>\n",
       "    .dataframe tbody tr th:only-of-type {\n",
       "        vertical-align: middle;\n",
       "    }\n",
       "\n",
       "    .dataframe tbody tr th {\n",
       "        vertical-align: top;\n",
       "    }\n",
       "\n",
       "    .dataframe thead th {\n",
       "        text-align: right;\n",
       "    }\n",
       "</style>\n",
       "<table border=\"1\" class=\"dataframe\">\n",
       "  <thead>\n",
       "    <tr style=\"text-align: right;\">\n",
       "      <th></th>\n",
       "      <th>message_count</th>\n",
       "      <th>messagе_over_limit</th>\n",
       "    </tr>\n",
       "  </thead>\n",
       "  <tbody>\n",
       "    <tr>\n",
       "      <th>count</th>\n",
       "      <td>351.000000</td>\n",
       "      <td>351.000000</td>\n",
       "    </tr>\n",
       "    <tr>\n",
       "      <th>mean</th>\n",
       "      <td>32.259907</td>\n",
       "      <td>5.862868</td>\n",
       "    </tr>\n",
       "    <tr>\n",
       "      <th>std</th>\n",
       "      <td>26.530803</td>\n",
       "      <td>12.310840</td>\n",
       "    </tr>\n",
       "    <tr>\n",
       "      <th>min</th>\n",
       "      <td>0.000000</td>\n",
       "      <td>0.000000</td>\n",
       "    </tr>\n",
       "    <tr>\n",
       "      <th>25%</th>\n",
       "      <td>11.000000</td>\n",
       "      <td>0.000000</td>\n",
       "    </tr>\n",
       "    <tr>\n",
       "      <th>50%</th>\n",
       "      <td>27.500000</td>\n",
       "      <td>0.000000</td>\n",
       "    </tr>\n",
       "    <tr>\n",
       "      <th>75%</th>\n",
       "      <td>48.000000</td>\n",
       "      <td>4.166667</td>\n",
       "    </tr>\n",
       "    <tr>\n",
       "      <th>max</th>\n",
       "      <td>118.000000</td>\n",
       "      <td>72.375000</td>\n",
       "    </tr>\n",
       "  </tbody>\n",
       "</table>\n",
       "</div>"
      ],
      "text/plain": [
       "       message_count  messagе_over_limit\n",
       "count     351.000000          351.000000\n",
       "mean       32.259907            5.862868\n",
       "std        26.530803           12.310840\n",
       "min         0.000000            0.000000\n",
       "25%        11.000000            0.000000\n",
       "50%        27.500000            0.000000\n",
       "75%        48.000000            4.166667\n",
       "max       118.000000           72.375000"
      ]
     },
     "execution_count": 32,
     "metadata": {},
     "output_type": "execute_result"
    }
   ],
   "source": [
    "smart_message.describe()"
   ]
  },
  {
   "cell_type": "markdown",
   "id": "d8cbe5c4",
   "metadata": {},
   "source": [
    "Построим гистограмму среднемесячного количества СМС абонентов:"
   ]
  },
  {
   "cell_type": "code",
   "execution_count": 33,
   "id": "312344d7",
   "metadata": {},
   "outputs": [
    {
     "data": {
      "image/png": "[encoded data removed]",
      "text/plain": [
       "<Figure size 432x288 with 1 Axes>"
      ]
     },
     "metadata": {
      "needs_background": "light"
     },
     "output_type": "display_data"
    }
   ],
   "source": [
    "smart_message['message_count'].hist(bins=10).set(title=\n",
    "                            'Среднемесячное количество СМС абонента тарифа SMART', \n",
    "                             xlabel='количество СМС', ylabel='количество абонентов');"
   ]
  },
  {
   "cell_type": "code",
   "execution_count": 34,
   "id": "b0c8ebd0",
   "metadata": {
    "scrolled": true
   },
   "outputs": [
    {
     "data": {
      "image/png": "[encoded data removed]",
      "text/plain": [
       "<Figure size 432x288 with 1 Axes>"
      ]
     },
     "metadata": {
      "needs_background": "light"
     },
     "output_type": "display_data"
    }
   ],
   "source": [
    "smart_message['messagе_over_limit'].hist(bins=10, range = (1, 120)).set(title=\n",
    "                            'Среднемесячное количество СМС сверх лимита абонента тарифа SMART', \n",
    "                             xlabel='количество СМС', ylabel='количество абонентов');"
   ]
  },
  {
   "cell_type": "markdown",
   "id": "11b9ceb6",
   "metadata": {},
   "source": [
    "Часть абонентов не пользуется СМС-сервисом, большинство не использует свой лимит в 50 сообщений полностью. Лишь у четверти абонентов есть дополнительные СМС-сообщения, при среднем перелимите в 12 сообщений стандартное отклонение составляет 12 - разброс большой и это скорее исключение, чем правило."
   ]
  },
  {
   "cell_type": "markdown",
   "id": "32c45af9",
   "metadata": {},
   "source": [
    "**Интернет-трафик**\n",
    "\n",
    "Рассчитаем средний объем интернет-трафика, который пользователь тарифа тратит в месяц:"
   ]
  },
  {
   "cell_type": "code",
   "execution_count": 35,
   "id": "6def563d",
   "metadata": {},
   "outputs": [
    {
     "data": {
      "text/html": [
       "<div>\n",
       "<style scoped>\n",
       "    .dataframe tbody tr th:only-of-type {\n",
       "        vertical-align: middle;\n",
       "    }\n",
       "\n",
       "    .dataframe tbody tr th {\n",
       "        vertical-align: top;\n",
       "    }\n",
       "\n",
       "    .dataframe thead th {\n",
       "        text-align: right;\n",
       "    }\n",
       "</style>\n",
       "<table border=\"1\" class=\"dataframe\">\n",
       "  <thead>\n",
       "    <tr style=\"text-align: right;\">\n",
       "      <th></th>\n",
       "      <th>mb_used</th>\n",
       "      <th>Gb_over_limit</th>\n",
       "    </tr>\n",
       "    <tr>\n",
       "      <th>user_id</th>\n",
       "      <th></th>\n",
       "      <th></th>\n",
       "    </tr>\n",
       "  </thead>\n",
       "  <tbody>\n",
       "    <tr>\n",
       "      <th>1001</th>\n",
       "      <td>16233.000000</td>\n",
       "      <td>1.500000</td>\n",
       "    </tr>\n",
       "    <tr>\n",
       "      <th>1002</th>\n",
       "      <td>16576.645714</td>\n",
       "      <td>2.428571</td>\n",
       "    </tr>\n",
       "    <tr>\n",
       "      <th>1005</th>\n",
       "      <td>8307.275833</td>\n",
       "      <td>0.000000</td>\n",
       "    </tr>\n",
       "    <tr>\n",
       "      <th>1006</th>\n",
       "      <td>14926.255455</td>\n",
       "      <td>1.909091</td>\n",
       "    </tr>\n",
       "    <tr>\n",
       "      <th>1007</th>\n",
       "      <td>14625.074444</td>\n",
       "      <td>1.222222</td>\n",
       "    </tr>\n",
       "  </tbody>\n",
       "</table>\n",
       "</div>"
      ],
      "text/plain": [
       "              mb_used  Gb_over_limit\n",
       "user_id                             \n",
       "1001     16233.000000       1.500000\n",
       "1002     16576.645714       2.428571\n",
       "1005      8307.275833       0.000000\n",
       "1006     14926.255455       1.909091\n",
       "1007     14625.074444       1.222222"
      ]
     },
     "execution_count": 35,
     "metadata": {},
     "output_type": "execute_result"
    }
   ],
   "source": [
    "smart_traffic = total_smart.groupby(['user_id'])['mb_used',\n",
    "                                                 'Gb_over_limit',\n",
    "                                                 ].mean()\n",
    "smart_traffic.head()"
   ]
  },
  {
   "cell_type": "code",
   "execution_count": 36,
   "id": "c0fc9c97",
   "metadata": {},
   "outputs": [
    {
     "data": {
      "text/html": [
       "<div>\n",
       "<style scoped>\n",
       "    .dataframe tbody tr th:only-of-type {\n",
       "        vertical-align: middle;\n",
       "    }\n",
       "\n",
       "    .dataframe tbody tr th {\n",
       "        vertical-align: top;\n",
       "    }\n",
       "\n",
       "    .dataframe thead th {\n",
       "        text-align: right;\n",
       "    }\n",
       "</style>\n",
       "<table border=\"1\" class=\"dataframe\">\n",
       "  <thead>\n",
       "    <tr style=\"text-align: right;\">\n",
       "      <th></th>\n",
       "      <th>mb_used</th>\n",
       "      <th>Gb_over_limit</th>\n",
       "    </tr>\n",
       "  </thead>\n",
       "  <tbody>\n",
       "    <tr>\n",
       "      <th>count</th>\n",
       "      <td>351.000000</td>\n",
       "      <td>351.000000</td>\n",
       "    </tr>\n",
       "    <tr>\n",
       "      <th>mean</th>\n",
       "      <td>16134.515353</td>\n",
       "      <td>3.088877</td>\n",
       "    </tr>\n",
       "    <tr>\n",
       "      <th>std</th>\n",
       "      <td>3676.972553</td>\n",
       "      <td>2.679981</td>\n",
       "    </tr>\n",
       "    <tr>\n",
       "      <th>min</th>\n",
       "      <td>0.000000</td>\n",
       "      <td>0.000000</td>\n",
       "    </tr>\n",
       "    <tr>\n",
       "      <th>25%</th>\n",
       "      <td>13864.998016</td>\n",
       "      <td>0.944444</td>\n",
       "    </tr>\n",
       "    <tr>\n",
       "      <th>50%</th>\n",
       "      <td>16246.751429</td>\n",
       "      <td>2.500000</td>\n",
       "    </tr>\n",
       "    <tr>\n",
       "      <th>75%</th>\n",
       "      <td>18585.116944</td>\n",
       "      <td>4.732143</td>\n",
       "    </tr>\n",
       "    <tr>\n",
       "      <th>max</th>\n",
       "      <td>27286.960000</td>\n",
       "      <td>14.666667</td>\n",
       "    </tr>\n",
       "  </tbody>\n",
       "</table>\n",
       "</div>"
      ],
      "text/plain": [
       "            mb_used  Gb_over_limit\n",
       "count    351.000000     351.000000\n",
       "mean   16134.515353       3.088877\n",
       "std     3676.972553       2.679981\n",
       "min        0.000000       0.000000\n",
       "25%    13864.998016       0.944444\n",
       "50%    16246.751429       2.500000\n",
       "75%    18585.116944       4.732143\n",
       "max    27286.960000      14.666667"
      ]
     },
     "execution_count": 36,
     "metadata": {},
     "output_type": "execute_result"
    }
   ],
   "source": [
    "smart_traffic.describe()"
   ]
  },
  {
   "cell_type": "code",
   "execution_count": 37,
   "id": "5515692b",
   "metadata": {},
   "outputs": [
    {
     "data": {
      "image/png": "[encoded data removed]",
      "text/plain": [
       "<Figure size 432x288 with 1 Axes>"
      ]
     },
     "metadata": {
      "needs_background": "light"
     },
     "output_type": "display_data"
    }
   ],
   "source": [
    "smart_traffic['mb_used'].hist(bins=20).set(title=\n",
    "                            'Среднемесячный объем интернет-трафика абонента тарифа SMART', \n",
    "                             xlabel='количество Мб', ylabel='количество абонентов');"
   ]
  },
  {
   "cell_type": "code",
   "execution_count": 38,
   "id": "37455799",
   "metadata": {},
   "outputs": [
    {
     "data": {
      "image/png": "[encoded data removed]",
      "text/plain": [
       "<Figure size 432x288 with 1 Axes>"
      ]
     },
     "metadata": {
      "needs_background": "light"
     },
     "output_type": "display_data"
    }
   ],
   "source": [
    "smart_traffic['Gb_over_limit'].hist(bins=20, range=(1,15)).set(title=\n",
    "                            'Среднемесячный объем интернет-трафика сверх лимита абонента тарифа SMART', \n",
    "                             xlabel='количество Гб', ylabel='количество абонентов');"
   ]
  },
  {
   "cell_type": "markdown",
   "id": "1297218d",
   "metadata": {},
   "source": [
    "Предоплаченный трафик составляет 15 Гб, но средняя и медиана находятся на одном уровне,- чуть выше лимита и составляет около 16 Гб. То есть большинству трафика все-таки не хватает и перелимит у большей части составляет 1-3 Гб."
   ]
  },
  {
   "cell_type": "markdown",
   "id": "c1987ef1",
   "metadata": {},
   "source": [
    "**Выручка**\n",
    "\n",
    "\n",
    "Рассчитаем среднемесячную выручку, полученную с каждого абонента тарифа SMART и построим гистограмму:"
   ]
  },
  {
   "cell_type": "code",
   "execution_count": 39,
   "id": "a3f6e815",
   "metadata": {},
   "outputs": [
    {
     "data": {
      "text/html": [
       "<div>\n",
       "<style scoped>\n",
       "    .dataframe tbody tr th:only-of-type {\n",
       "        vertical-align: middle;\n",
       "    }\n",
       "\n",
       "    .dataframe tbody tr th {\n",
       "        vertical-align: top;\n",
       "    }\n",
       "\n",
       "    .dataframe thead th {\n",
       "        text-align: right;\n",
       "    }\n",
       "</style>\n",
       "<table border=\"1\" class=\"dataframe\">\n",
       "  <thead>\n",
       "    <tr style=\"text-align: right;\">\n",
       "      <th></th>\n",
       "      <th>total_income</th>\n",
       "    </tr>\n",
       "    <tr>\n",
       "      <th>user_id</th>\n",
       "      <th></th>\n",
       "    </tr>\n",
       "  </thead>\n",
       "  <tbody>\n",
       "    <tr>\n",
       "      <th>1001</th>\n",
       "      <td>850.000000</td>\n",
       "    </tr>\n",
       "    <tr>\n",
       "      <th>1002</th>\n",
       "      <td>1035.714286</td>\n",
       "    </tr>\n",
       "    <tr>\n",
       "      <th>1005</th>\n",
       "      <td>827.000000</td>\n",
       "    </tr>\n",
       "    <tr>\n",
       "      <th>1006</th>\n",
       "      <td>931.818182</td>\n",
       "    </tr>\n",
       "    <tr>\n",
       "      <th>1007</th>\n",
       "      <td>913.444444</td>\n",
       "    </tr>\n",
       "  </tbody>\n",
       "</table>\n",
       "</div>"
      ],
      "text/plain": [
       "         total_income\n",
       "user_id              \n",
       "1001       850.000000\n",
       "1002      1035.714286\n",
       "1005       827.000000\n",
       "1006       931.818182\n",
       "1007       913.444444"
      ]
     },
     "execution_count": 39,
     "metadata": {},
     "output_type": "execute_result"
    }
   ],
   "source": [
    "smart_income = total_smart.groupby(['user_id'])['total_income'].mean().to_frame()\n",
    "smart_income.head()\n"
   ]
  },
  {
   "cell_type": "code",
   "execution_count": 40,
   "id": "c8496d03",
   "metadata": {},
   "outputs": [
    {
     "data": {
      "text/plain": [
       "count     351.000000\n",
       "mean     1322.194749\n",
       "std       606.584126\n",
       "min       550.000000\n",
       "25%       865.476190\n",
       "50%      1176.400000\n",
       "75%      1667.166667\n",
       "max      4333.333333\n",
       "Name: total_income, dtype: float64"
      ]
     },
     "execution_count": 40,
     "metadata": {},
     "output_type": "execute_result"
    }
   ],
   "source": [
    "smart_income['total_income'].describe()"
   ]
  },
  {
   "cell_type": "code",
   "execution_count": 41,
   "id": "872cf0e5",
   "metadata": {},
   "outputs": [
    {
     "data": {
      "image/png": "[encoded data removed]",
      "text/plain": [
       "<Figure size 432x288 with 1 Axes>"
      ]
     },
     "metadata": {
      "needs_background": "light"
     },
     "output_type": "display_data"
    }
   ],
   "source": [
    "smart_income['total_income'].hist(bins=20).set(title=\n",
    "                            'Среднемесячная выручка, получаемая с одного абонента тарифа SMART', \n",
    "                             xlabel='рублей', ylabel='количество абонентов');\n"
   ]
  },
  {
   "cell_type": "code",
   "execution_count": 42,
   "id": "f625f34c",
   "metadata": {},
   "outputs": [
    {
     "data": {
      "image/png": "[encoded data removed]",
      "text/plain": [
       "<Figure size 432x288 with 1 Axes>"
      ]
     },
     "metadata": {
      "needs_background": "light"
     },
     "output_type": "display_data"
    }
   ],
   "source": [
    "#ограничим диапазон ежемесячного платежа суммой до 2 тыс руб.\n",
    "smart_income['total_income'].hist(bins=20, range= (500, 2000)).set(title=\n",
    "                            'Среднемесячная выручка, получаемая с одного абонента тарифа SMART',\n",
    "                             xlabel='рублей', ylabel='количество абонентов');\n"
   ]
  },
  {
   "cell_type": "markdown",
   "id": "ed992921",
   "metadata": {},
   "source": [
    "На гистограмме видно, что в целом выручка от абонентов тарифа больше абонентской платы в 550 руб., большая часть все-таки доплачивает,- в основном за сверхлимитные разговоры и интернет-трафик,  в среднем выручка составляет 1322 руб. со стандартным отклонением 606 руб.\n",
    "При этом большинство платят от 800 руб. до 1,2 тыс.руб."
   ]
  },
  {
   "cell_type": "markdown",
   "id": "108959fa",
   "metadata": {},
   "source": [
    "Рассмотрим структуру выручки от тарифа SMART. Для этого соберем выручку от отдельных позиций в единый датафрейм и построим для наглядности круговую диаграмму:"
   ]
  },
  {
   "cell_type": "code",
   "execution_count": 43,
   "id": "a17335c6",
   "metadata": {},
   "outputs": [
    {
     "data": {
      "text/html": [
       "<div>\n",
       "<style scoped>\n",
       "    .dataframe tbody tr th:only-of-type {\n",
       "        vertical-align: middle;\n",
       "    }\n",
       "\n",
       "    .dataframe tbody tr th {\n",
       "        vertical-align: top;\n",
       "    }\n",
       "\n",
       "    .dataframe thead th {\n",
       "        text-align: right;\n",
       "    }\n",
       "</style>\n",
       "<table border=\"1\" class=\"dataframe\">\n",
       "  <thead>\n",
       "    <tr style=\"text-align: right;\">\n",
       "      <th></th>\n",
       "      <th>smart</th>\n",
       "    </tr>\n",
       "    <tr>\n",
       "      <th>income</th>\n",
       "      <th></th>\n",
       "    </tr>\n",
       "  </thead>\n",
       "  <tbody>\n",
       "    <tr>\n",
       "      <th>calls</th>\n",
       "      <td>278217</td>\n",
       "    </tr>\n",
       "    <tr>\n",
       "      <th>message</th>\n",
       "      <td>38784</td>\n",
       "    </tr>\n",
       "    <tr>\n",
       "      <th>internet</th>\n",
       "      <td>1332400</td>\n",
       "    </tr>\n",
       "    <tr>\n",
       "      <th>package</th>\n",
       "      <td>1226500</td>\n",
       "    </tr>\n",
       "  </tbody>\n",
       "</table>\n",
       "</div>"
      ],
      "text/plain": [
       "            smart\n",
       "income           \n",
       "calls      278217\n",
       "message     38784\n",
       "internet  1332400\n",
       "package   1226500"
      ]
     },
     "execution_count": 43,
     "metadata": {},
     "output_type": "execute_result"
    }
   ],
   "source": [
    "package_smart = len(total_smart) * 550\n",
    "\n",
    "income_total_smart = pd.DataFrame([['calls', total_smart['call_over_limit_rub'].sum()], \n",
    "          ['message', total_smart['messagе_over_limit_rub'].sum()],\n",
    "          ['internet',total_smart['Gb_over_limit_rub'].sum()],\n",
    "          ['package', package_smart]])\n",
    "income_total_smart.columns = ['income', 'smart']\n",
    "income_total_smart = income_total_smart.set_index('income')\n",
    "income_total_smart\n"
   ]
  },
  {
   "cell_type": "code",
   "execution_count": 44,
   "id": "5123dcfc",
   "metadata": {},
   "outputs": [
    {
     "data": {
      "text/plain": [
       "smart    2875901\n",
       "dtype: int64"
      ]
     },
     "execution_count": 44,
     "metadata": {},
     "output_type": "execute_result"
    }
   ],
   "source": [
    "#общая сумма выручки\n",
    "income_total_smart.sum()"
   ]
  },
  {
   "cell_type": "code",
   "execution_count": 45,
   "id": "4228add7",
   "metadata": {},
   "outputs": [
    {
     "data": {
      "image/png": "[encoded data removed]",
      "text/plain": [
       "<Figure size 504x504 with 1 Axes>"
      ]
     },
     "metadata": {},
     "output_type": "display_data"
    }
   ],
   "source": [
    "income_total_smart.plot(kind = 'pie', y ='smart', autopct='%1.1f%%', figsize= (7,7),\n",
    "                         title = 'Структура выручки от тарифа SMART ', \n",
    "                         labels = ['звонки', 'СМС', 'интернет', 'ежемесячная плата за тариф']);"
   ]
  },
  {
   "cell_type": "markdown",
   "id": "8ebf908c",
   "metadata": {},
   "source": [
    "Таким образом, выручка от тарифа  SMART - это абонентская плата (42%), плата за сверхнормативный интернет (46%) и сверхнормативные звонки (почти 10%)."
   ]
  },
  {
   "cell_type": "markdown",
   "id": "b8235305",
   "metadata": {},
   "source": [
    "**Вывод**\n",
    "\n",
    "\n",
    "В оплаченный пакет тарифа SMART включено 500 минут разговора, фактически значительная часть абонентов тратит в месяц на разговоры 300-600 минут с пиком в области 420 минут +/- стандартное отклонение в 146 мин. То есть сверхлимитного времени не так уж много, большинство стараются укладываться в \"пакетное\" и доплачивают за сверхлимитные разговоры по минимуму.\n",
    "\n",
    "Часть абонентов не пользуется СМС-сервисом, большинство не использует свой лимит в 50 сообщений полностью. Лишь у четверти абонентов есть дополнительные СМС-сообщения и их немного.\n",
    "\n",
    "\n",
    "Предоплаченный интернет-трафик составляет 15 Гб, но средняя и медиана находятся на одном уровне,- чуть выше лимита и составляет около 16 Гб. То есть большинству трафика все-таки не хватает и перелимит у большей части составляет 1-3 Гб.\n",
    "\n",
    "Выручка от применения тарифа SMART больше абонентской платы в 550 руб., большая часть все-таки доплачивает,- в основном за сверхлимитные разговоры и интернет-трафик, и в среднем она составляет 1322 руб. со стандартным отклонением 606 руб. При этом большинство платят от 800 руб. до 1,2 тыс.руб.\n",
    "\n",
    "В целом выручка от тарифа SMART - это абонентская плата (42%), плата за сверхнормативный интернет (46%) и сверхнормативные звонки (почти 10%)."
   ]
  },
  {
   "cell_type": "markdown",
   "id": "3714b442",
   "metadata": {},
   "source": [
    "### Тариф 'ultra'"
   ]
  },
  {
   "cell_type": "markdown",
   "id": "04cb594c",
   "metadata": {},
   "source": [
    "В нашей выборке total_ultra 149 абонентов тарифа SMART. Рассчитаем среднее количество минут разговора, сообщений и объем интернет-трафика для каждого пользователя тарифа, для чего построим сводную таблицу:"
   ]
  },
  {
   "cell_type": "markdown",
   "id": "56637483",
   "metadata": {},
   "source": [
    "**Звонки**\n",
    "\n",
    "Рассчитаем среднее количество минут, который пользователь тарифа тратит в месяц:"
   ]
  },
  {
   "cell_type": "code",
   "execution_count": 46,
   "id": "0b84d48a",
   "metadata": {},
   "outputs": [
    {
     "data": {
      "text/html": [
       "<div>\n",
       "<style scoped>\n",
       "    .dataframe tbody tr th:only-of-type {\n",
       "        vertical-align: middle;\n",
       "    }\n",
       "\n",
       "    .dataframe tbody tr th {\n",
       "        vertical-align: top;\n",
       "    }\n",
       "\n",
       "    .dataframe thead th {\n",
       "        text-align: right;\n",
       "    }\n",
       "</style>\n",
       "<table border=\"1\" class=\"dataframe\">\n",
       "  <thead>\n",
       "    <tr style=\"text-align: right;\">\n",
       "      <th></th>\n",
       "      <th>call_sum_min</th>\n",
       "      <th>call_over_limit</th>\n",
       "    </tr>\n",
       "    <tr>\n",
       "      <th>user_id</th>\n",
       "      <th></th>\n",
       "      <th></th>\n",
       "    </tr>\n",
       "  </thead>\n",
       "  <tbody>\n",
       "    <tr>\n",
       "      <th>1000</th>\n",
       "      <td>320.750</td>\n",
       "      <td>0.0</td>\n",
       "    </tr>\n",
       "    <tr>\n",
       "      <th>1003</th>\n",
       "      <td>764.400</td>\n",
       "      <td>0.0</td>\n",
       "    </tr>\n",
       "    <tr>\n",
       "      <th>1004</th>\n",
       "      <td>123.375</td>\n",
       "      <td>0.0</td>\n",
       "    </tr>\n",
       "    <tr>\n",
       "      <th>1013</th>\n",
       "      <td>468.000</td>\n",
       "      <td>0.0</td>\n",
       "    </tr>\n",
       "    <tr>\n",
       "      <th>1016</th>\n",
       "      <td>61.000</td>\n",
       "      <td>0.0</td>\n",
       "    </tr>\n",
       "  </tbody>\n",
       "</table>\n",
       "</div>"
      ],
      "text/plain": [
       "         call_sum_min  call_over_limit\n",
       "user_id                               \n",
       "1000          320.750              0.0\n",
       "1003          764.400              0.0\n",
       "1004          123.375              0.0\n",
       "1013          468.000              0.0\n",
       "1016           61.000              0.0"
      ]
     },
     "execution_count": 46,
     "metadata": {},
     "output_type": "execute_result"
    }
   ],
   "source": [
    "ultra_call = total_ultra.groupby(['user_id'])['call_sum_min',\n",
    "                                              'call_over_limit',\n",
    "                                              ].mean()\n",
    "ultra_call.head()"
   ]
  },
  {
   "cell_type": "code",
   "execution_count": 47,
   "id": "186db681",
   "metadata": {},
   "outputs": [
    {
     "data": {
      "text/html": [
       "<div>\n",
       "<style scoped>\n",
       "    .dataframe tbody tr th:only-of-type {\n",
       "        vertical-align: middle;\n",
       "    }\n",
       "\n",
       "    .dataframe tbody tr th {\n",
       "        vertical-align: top;\n",
       "    }\n",
       "\n",
       "    .dataframe thead th {\n",
       "        text-align: right;\n",
       "    }\n",
       "</style>\n",
       "<table border=\"1\" class=\"dataframe\">\n",
       "  <thead>\n",
       "    <tr style=\"text-align: right;\">\n",
       "      <th></th>\n",
       "      <th>call_sum_min</th>\n",
       "      <th>call_over_limit</th>\n",
       "    </tr>\n",
       "  </thead>\n",
       "  <tbody>\n",
       "    <tr>\n",
       "      <th>count</th>\n",
       "      <td>149.000000</td>\n",
       "      <td>149.0</td>\n",
       "    </tr>\n",
       "    <tr>\n",
       "      <th>mean</th>\n",
       "      <td>524.279391</td>\n",
       "      <td>0.0</td>\n",
       "    </tr>\n",
       "    <tr>\n",
       "      <th>std</th>\n",
       "      <td>284.142240</td>\n",
       "      <td>0.0</td>\n",
       "    </tr>\n",
       "    <tr>\n",
       "      <th>min</th>\n",
       "      <td>0.000000</td>\n",
       "      <td>0.0</td>\n",
       "    </tr>\n",
       "    <tr>\n",
       "      <th>25%</th>\n",
       "      <td>320.750000</td>\n",
       "      <td>0.0</td>\n",
       "    </tr>\n",
       "    <tr>\n",
       "      <th>50%</th>\n",
       "      <td>513.333333</td>\n",
       "      <td>0.0</td>\n",
       "    </tr>\n",
       "    <tr>\n",
       "      <th>75%</th>\n",
       "      <td>746.333333</td>\n",
       "      <td>0.0</td>\n",
       "    </tr>\n",
       "    <tr>\n",
       "      <th>max</th>\n",
       "      <td>1179.363636</td>\n",
       "      <td>0.0</td>\n",
       "    </tr>\n",
       "  </tbody>\n",
       "</table>\n",
       "</div>"
      ],
      "text/plain": [
       "       call_sum_min  call_over_limit\n",
       "count    149.000000            149.0\n",
       "mean     524.279391              0.0\n",
       "std      284.142240              0.0\n",
       "min        0.000000              0.0\n",
       "25%      320.750000              0.0\n",
       "50%      513.333333              0.0\n",
       "75%      746.333333              0.0\n",
       "max     1179.363636              0.0"
      ]
     },
     "execution_count": 47,
     "metadata": {},
     "output_type": "execute_result"
    }
   ],
   "source": [
    "ultra_call.describe()"
   ]
  },
  {
   "cell_type": "markdown",
   "id": "29ac755a",
   "metadata": {},
   "source": [
    "Построим гистограмму по средней продолжительности звонков:"
   ]
  },
  {
   "cell_type": "code",
   "execution_count": 48,
   "id": "7e382471",
   "metadata": {
    "scrolled": true
   },
   "outputs": [
    {
     "data": {
      "image/png": "[encoded data removed]",
      "text/plain": [
       "<Figure size 432x288 with 1 Axes>"
      ]
     },
     "metadata": {
      "needs_background": "light"
     },
     "output_type": "display_data"
    }
   ],
   "source": [
    "ultra_call['call_sum_min'].hist(bins=20).set(title=\n",
    "                            'Среднемесячное количество минут разговоров абонента тарифа ULTRA', \n",
    "                             xlabel='количество минут', ylabel='количество абонентов');"
   ]
  },
  {
   "cell_type": "markdown",
   "id": "be57d243",
   "metadata": {},
   "source": [
    "В оплаченный пакет тарифа ultra включено 3000 минут разговора, но ни один из абонентов не потратил свой лимит полностью: значительная часть абонентов тратит в месяц на разговоры 300-800 минут с пиком в области 520 минут +/- стандартное отклонение в 284 мин. Это немного больше , чем в smart- и общей продолжительностью, и разбросом значений, но с таким предоплаченным количеством минут можно себе это позволить, т.к. неиспользованное время все-равно остается.\n",
    "\n",
    "Медиана практически на одном уровне со средним и можно говорить о нормальном распределении."
   ]
  },
  {
   "cell_type": "markdown",
   "id": "b74ab154",
   "metadata": {},
   "source": [
    "**СМС**\n",
    "\n",
    "Рассчитаем среднее количество смс, который пользователь тарифа тратит в месяц:"
   ]
  },
  {
   "cell_type": "code",
   "execution_count": 49,
   "id": "2fff20b3",
   "metadata": {},
   "outputs": [
    {
     "data": {
      "text/html": [
       "<div>\n",
       "<style scoped>\n",
       "    .dataframe tbody tr th:only-of-type {\n",
       "        vertical-align: middle;\n",
       "    }\n",
       "\n",
       "    .dataframe tbody tr th {\n",
       "        vertical-align: top;\n",
       "    }\n",
       "\n",
       "    .dataframe thead th {\n",
       "        text-align: right;\n",
       "    }\n",
       "</style>\n",
       "<table border=\"1\" class=\"dataframe\">\n",
       "  <thead>\n",
       "    <tr style=\"text-align: right;\">\n",
       "      <th></th>\n",
       "      <th>message_count</th>\n",
       "      <th>messagе_over_limit</th>\n",
       "    </tr>\n",
       "    <tr>\n",
       "      <th>user_id</th>\n",
       "      <th></th>\n",
       "      <th></th>\n",
       "    </tr>\n",
       "  </thead>\n",
       "  <tbody>\n",
       "    <tr>\n",
       "      <th>1000</th>\n",
       "      <td>62.0</td>\n",
       "      <td>0.0</td>\n",
       "    </tr>\n",
       "    <tr>\n",
       "      <th>1003</th>\n",
       "      <td>76.0</td>\n",
       "      <td>0.0</td>\n",
       "    </tr>\n",
       "    <tr>\n",
       "      <th>1004</th>\n",
       "      <td>149.0</td>\n",
       "      <td>0.0</td>\n",
       "    </tr>\n",
       "    <tr>\n",
       "      <th>1013</th>\n",
       "      <td>21.0</td>\n",
       "      <td>0.0</td>\n",
       "    </tr>\n",
       "    <tr>\n",
       "      <th>1016</th>\n",
       "      <td>71.0</td>\n",
       "      <td>0.0</td>\n",
       "    </tr>\n",
       "  </tbody>\n",
       "</table>\n",
       "</div>"
      ],
      "text/plain": [
       "         message_count  messagе_over_limit\n",
       "user_id                                   \n",
       "1000              62.0                 0.0\n",
       "1003              76.0                 0.0\n",
       "1004             149.0                 0.0\n",
       "1013              21.0                 0.0\n",
       "1016              71.0                 0.0"
      ]
     },
     "execution_count": 49,
     "metadata": {},
     "output_type": "execute_result"
    }
   ],
   "source": [
    "ultra_message = total_ultra.groupby(['user_id'])['message_count',\n",
    "                                                 'messagе_over_limit',\n",
    "                                                 ].mean()\n",
    "ultra_message.head()"
   ]
  },
  {
   "cell_type": "code",
   "execution_count": 50,
   "id": "94bae87f",
   "metadata": {},
   "outputs": [
    {
     "data": {
      "text/html": [
       "<div>\n",
       "<style scoped>\n",
       "    .dataframe tbody tr th:only-of-type {\n",
       "        vertical-align: middle;\n",
       "    }\n",
       "\n",
       "    .dataframe tbody tr th {\n",
       "        vertical-align: top;\n",
       "    }\n",
       "\n",
       "    .dataframe thead th {\n",
       "        text-align: right;\n",
       "    }\n",
       "</style>\n",
       "<table border=\"1\" class=\"dataframe\">\n",
       "  <thead>\n",
       "    <tr style=\"text-align: right;\">\n",
       "      <th></th>\n",
       "      <th>message_count</th>\n",
       "      <th>messagе_over_limit</th>\n",
       "    </tr>\n",
       "  </thead>\n",
       "  <tbody>\n",
       "    <tr>\n",
       "      <th>count</th>\n",
       "      <td>149.000000</td>\n",
       "      <td>149.0</td>\n",
       "    </tr>\n",
       "    <tr>\n",
       "      <th>mean</th>\n",
       "      <td>53.668121</td>\n",
       "      <td>0.0</td>\n",
       "    </tr>\n",
       "    <tr>\n",
       "      <th>std</th>\n",
       "      <td>46.420854</td>\n",
       "      <td>0.0</td>\n",
       "    </tr>\n",
       "    <tr>\n",
       "      <th>min</th>\n",
       "      <td>0.000000</td>\n",
       "      <td>0.0</td>\n",
       "    </tr>\n",
       "    <tr>\n",
       "      <th>25%</th>\n",
       "      <td>14.000000</td>\n",
       "      <td>0.0</td>\n",
       "    </tr>\n",
       "    <tr>\n",
       "      <th>50%</th>\n",
       "      <td>45.000000</td>\n",
       "      <td>0.0</td>\n",
       "    </tr>\n",
       "    <tr>\n",
       "      <th>75%</th>\n",
       "      <td>84.000000</td>\n",
       "      <td>0.0</td>\n",
       "    </tr>\n",
       "    <tr>\n",
       "      <th>max</th>\n",
       "      <td>192.000000</td>\n",
       "      <td>0.0</td>\n",
       "    </tr>\n",
       "  </tbody>\n",
       "</table>\n",
       "</div>"
      ],
      "text/plain": [
       "       message_count  messagе_over_limit\n",
       "count     149.000000               149.0\n",
       "mean       53.668121                 0.0\n",
       "std        46.420854                 0.0\n",
       "min         0.000000                 0.0\n",
       "25%        14.000000                 0.0\n",
       "50%        45.000000                 0.0\n",
       "75%        84.000000                 0.0\n",
       "max       192.000000                 0.0"
      ]
     },
     "execution_count": 50,
     "metadata": {},
     "output_type": "execute_result"
    }
   ],
   "source": [
    "ultra_message.describe()"
   ]
  },
  {
   "cell_type": "markdown",
   "id": "124d6c7d",
   "metadata": {},
   "source": [
    "Построим гистограмму среднемесячного количества СМС абонентов:"
   ]
  },
  {
   "cell_type": "code",
   "execution_count": 51,
   "id": "f183c181",
   "metadata": {
    "scrolled": true
   },
   "outputs": [
    {
     "data": {
      "image/png": "[encoded data removed]",
      "text/plain": [
       "<Figure size 432x288 with 1 Axes>"
      ]
     },
     "metadata": {
      "needs_background": "light"
     },
     "output_type": "display_data"
    }
   ],
   "source": [
    "ultra_message['message_count'].hist(bins=20).set(title=\n",
    "                            'Среднемесячное количество СМС абонента тарифа ULTRA', \n",
    "                             xlabel='количество СМС', ylabel='количество абонентов');"
   ]
  },
  {
   "cell_type": "markdown",
   "id": "5d12daac",
   "metadata": {},
   "source": [
    "Как видим, включенные в пакет 1000 СМС-сообщений никто не использует полностью, максимум- это 192 сообщения, многие не используют СМС-сервис либо используют его по минимуму. В среднем -53 СМСки, при медиане в 45, то есть можно говорить о нормальном распределении с чуть растянутым хвостом вправо."
   ]
  },
  {
   "cell_type": "markdown",
   "id": "1139a086",
   "metadata": {},
   "source": [
    "**Интернет-трафик**\n",
    "\n",
    "Рассчитаем средний объем интернет-трафика, который пользователь тарифа тратит в месяц:"
   ]
  },
  {
   "cell_type": "code",
   "execution_count": 52,
   "id": "c6d216b1",
   "metadata": {},
   "outputs": [
    {
     "data": {
      "text/html": [
       "<div>\n",
       "<style scoped>\n",
       "    .dataframe tbody tr th:only-of-type {\n",
       "        vertical-align: middle;\n",
       "    }\n",
       "\n",
       "    .dataframe tbody tr th {\n",
       "        vertical-align: top;\n",
       "    }\n",
       "\n",
       "    .dataframe thead th {\n",
       "        text-align: right;\n",
       "    }\n",
       "</style>\n",
       "<table border=\"1\" class=\"dataframe\">\n",
       "  <thead>\n",
       "    <tr style=\"text-align: right;\">\n",
       "      <th></th>\n",
       "      <th>mb_used</th>\n",
       "      <th>Gb_over_limit</th>\n",
       "    </tr>\n",
       "    <tr>\n",
       "      <th>user_id</th>\n",
       "      <th></th>\n",
       "      <th></th>\n",
       "    </tr>\n",
       "  </thead>\n",
       "  <tbody>\n",
       "    <tr>\n",
       "      <th>1000</th>\n",
       "      <td>13424.03875</td>\n",
       "      <td>0.0</td>\n",
       "    </tr>\n",
       "    <tr>\n",
       "      <th>1003</th>\n",
       "      <td>11456.12800</td>\n",
       "      <td>0.0</td>\n",
       "    </tr>\n",
       "    <tr>\n",
       "      <th>1004</th>\n",
       "      <td>18629.93500</td>\n",
       "      <td>0.0</td>\n",
       "    </tr>\n",
       "    <tr>\n",
       "      <th>1013</th>\n",
       "      <td>15258.58000</td>\n",
       "      <td>0.0</td>\n",
       "    </tr>\n",
       "    <tr>\n",
       "      <th>1016</th>\n",
       "      <td>13405.22000</td>\n",
       "      <td>0.0</td>\n",
       "    </tr>\n",
       "  </tbody>\n",
       "</table>\n",
       "</div>"
      ],
      "text/plain": [
       "             mb_used  Gb_over_limit\n",
       "user_id                            \n",
       "1000     13424.03875            0.0\n",
       "1003     11456.12800            0.0\n",
       "1004     18629.93500            0.0\n",
       "1013     15258.58000            0.0\n",
       "1016     13405.22000            0.0"
      ]
     },
     "execution_count": 52,
     "metadata": {},
     "output_type": "execute_result"
    }
   ],
   "source": [
    "ultra_traffic = total_ultra.groupby(['user_id'])['mb_used',\n",
    "                                                 'Gb_over_limit',\n",
    "                                                 ].mean()\n",
    "ultra_traffic.head()"
   ]
  },
  {
   "cell_type": "code",
   "execution_count": 53,
   "id": "89858244",
   "metadata": {},
   "outputs": [
    {
     "data": {
      "text/html": [
       "<div>\n",
       "<style scoped>\n",
       "    .dataframe tbody tr th:only-of-type {\n",
       "        vertical-align: middle;\n",
       "    }\n",
       "\n",
       "    .dataframe tbody tr th {\n",
       "        vertical-align: top;\n",
       "    }\n",
       "\n",
       "    .dataframe thead th {\n",
       "        text-align: right;\n",
       "    }\n",
       "</style>\n",
       "<table border=\"1\" class=\"dataframe\">\n",
       "  <thead>\n",
       "    <tr style=\"text-align: right;\">\n",
       "      <th></th>\n",
       "      <th>mb_used</th>\n",
       "      <th>Gb_over_limit</th>\n",
       "    </tr>\n",
       "  </thead>\n",
       "  <tbody>\n",
       "    <tr>\n",
       "      <th>count</th>\n",
       "      <td>149.000000</td>\n",
       "      <td>149.000000</td>\n",
       "    </tr>\n",
       "    <tr>\n",
       "      <th>mean</th>\n",
       "      <td>19443.271135</td>\n",
       "      <td>0.903659</td>\n",
       "    </tr>\n",
       "    <tr>\n",
       "      <th>std</th>\n",
       "      <td>8436.860129</td>\n",
       "      <td>1.984883</td>\n",
       "    </tr>\n",
       "    <tr>\n",
       "      <th>min</th>\n",
       "      <td>0.000000</td>\n",
       "      <td>0.000000</td>\n",
       "    </tr>\n",
       "    <tr>\n",
       "      <th>25%</th>\n",
       "      <td>13550.778182</td>\n",
       "      <td>0.000000</td>\n",
       "    </tr>\n",
       "    <tr>\n",
       "      <th>50%</th>\n",
       "      <td>18685.458000</td>\n",
       "      <td>0.000000</td>\n",
       "    </tr>\n",
       "    <tr>\n",
       "      <th>75%</th>\n",
       "      <td>25801.390000</td>\n",
       "      <td>0.250000</td>\n",
       "    </tr>\n",
       "    <tr>\n",
       "      <th>max</th>\n",
       "      <td>38463.570000</td>\n",
       "      <td>8.500000</td>\n",
       "    </tr>\n",
       "  </tbody>\n",
       "</table>\n",
       "</div>"
      ],
      "text/plain": [
       "            mb_used  Gb_over_limit\n",
       "count    149.000000     149.000000\n",
       "mean   19443.271135       0.903659\n",
       "std     8436.860129       1.984883\n",
       "min        0.000000       0.000000\n",
       "25%    13550.778182       0.000000\n",
       "50%    18685.458000       0.000000\n",
       "75%    25801.390000       0.250000\n",
       "max    38463.570000       8.500000"
      ]
     },
     "execution_count": 53,
     "metadata": {},
     "output_type": "execute_result"
    }
   ],
   "source": [
    "ultra_traffic.describe()"
   ]
  },
  {
   "cell_type": "code",
   "execution_count": 54,
   "id": "458ff934",
   "metadata": {},
   "outputs": [
    {
     "data": {
      "image/png": "[encoded data removed]",
      "text/plain": [
       "<Figure size 432x288 with 1 Axes>"
      ]
     },
     "metadata": {
      "needs_background": "light"
     },
     "output_type": "display_data"
    }
   ],
   "source": [
    "ultra_traffic['mb_used'].hist(bins=20).set(title=\n",
    "                            'Среднемесячный объем интернет-трафика абонента тарифа ULTRA', \n",
    "                             xlabel='количество Мб', ylabel='количество абонентов');"
   ]
  },
  {
   "cell_type": "code",
   "execution_count": 55,
   "id": "32a5f608",
   "metadata": {},
   "outputs": [
    {
     "data": {
      "image/png": "[encoded data removed]",
      "text/plain": [
       "<Figure size 432x288 with 1 Axes>"
      ]
     },
     "metadata": {
      "needs_background": "light"
     },
     "output_type": "display_data"
    }
   ],
   "source": [
    "ultra_traffic['Gb_over_limit'].hist(bins=10, range = (1,9)).set(title=\n",
    "                            'Среднемесячный объем интернет-трафика сверх лимита абонента тарифа ULTRA', \n",
    "                             xlabel='количество Гб', ylabel='количество абонентов');"
   ]
  },
  {
   "cell_type": "markdown",
   "id": "d9253768",
   "metadata": {},
   "source": [
    "Пользователи тарифа, имея 30 Гб пакетного интернет-трафика, в основном его и тратят. Не выходит за его пределы более 3/4 пользователей, среднее и медиана находятся практически в одном диапазоне -16-19 Гб, при этом стандартное отклонение достаточно большое (8 Гб).При этом кто-то совсем не пользуется пакетным интернетом, а кто-то использует 38 Гб, и это максимум."
   ]
  },
  {
   "cell_type": "markdown",
   "id": "13fab2f1",
   "metadata": {},
   "source": [
    "**Выручка**\n",
    "\n",
    "Посчитаем среднюю выручку абонентов тарифа ULTRA:"
   ]
  },
  {
   "cell_type": "code",
   "execution_count": 56,
   "id": "6d06d418",
   "metadata": {},
   "outputs": [
    {
     "data": {
      "text/html": [
       "<div>\n",
       "<style scoped>\n",
       "    .dataframe tbody tr th:only-of-type {\n",
       "        vertical-align: middle;\n",
       "    }\n",
       "\n",
       "    .dataframe tbody tr th {\n",
       "        vertical-align: top;\n",
       "    }\n",
       "\n",
       "    .dataframe thead th {\n",
       "        text-align: right;\n",
       "    }\n",
       "</style>\n",
       "<table border=\"1\" class=\"dataframe\">\n",
       "  <thead>\n",
       "    <tr style=\"text-align: right;\">\n",
       "      <th></th>\n",
       "      <th>total_income</th>\n",
       "    </tr>\n",
       "    <tr>\n",
       "      <th>user_id</th>\n",
       "      <th></th>\n",
       "    </tr>\n",
       "  </thead>\n",
       "  <tbody>\n",
       "    <tr>\n",
       "      <th>1000</th>\n",
       "      <td>1950.0</td>\n",
       "    </tr>\n",
       "    <tr>\n",
       "      <th>1003</th>\n",
       "      <td>1950.0</td>\n",
       "    </tr>\n",
       "    <tr>\n",
       "      <th>1004</th>\n",
       "      <td>1950.0</td>\n",
       "    </tr>\n",
       "    <tr>\n",
       "      <th>1013</th>\n",
       "      <td>1950.0</td>\n",
       "    </tr>\n",
       "    <tr>\n",
       "      <th>1016</th>\n",
       "      <td>1950.0</td>\n",
       "    </tr>\n",
       "  </tbody>\n",
       "</table>\n",
       "</div>"
      ],
      "text/plain": [
       "         total_income\n",
       "user_id              \n",
       "1000           1950.0\n",
       "1003           1950.0\n",
       "1004           1950.0\n",
       "1013           1950.0\n",
       "1016           1950.0"
      ]
     },
     "execution_count": 56,
     "metadata": {},
     "output_type": "execute_result"
    }
   ],
   "source": [
    "ultra_income = total_ultra.groupby(['user_id'])['total_income'].mean().to_frame()\n",
    "ultra_income.head()\n"
   ]
  },
  {
   "cell_type": "code",
   "execution_count": 57,
   "id": "da47f0e2",
   "metadata": {},
   "outputs": [
    {
     "data": {
      "text/html": [
       "<div>\n",
       "<style scoped>\n",
       "    .dataframe tbody tr th:only-of-type {\n",
       "        vertical-align: middle;\n",
       "    }\n",
       "\n",
       "    .dataframe tbody tr th {\n",
       "        vertical-align: top;\n",
       "    }\n",
       "\n",
       "    .dataframe thead th {\n",
       "        text-align: right;\n",
       "    }\n",
       "</style>\n",
       "<table border=\"1\" class=\"dataframe\">\n",
       "  <thead>\n",
       "    <tr style=\"text-align: right;\">\n",
       "      <th></th>\n",
       "      <th>total_income</th>\n",
       "    </tr>\n",
       "  </thead>\n",
       "  <tbody>\n",
       "    <tr>\n",
       "      <th>count</th>\n",
       "      <td>149.000000</td>\n",
       "    </tr>\n",
       "    <tr>\n",
       "      <th>mean</th>\n",
       "      <td>2085.548788</td>\n",
       "    </tr>\n",
       "    <tr>\n",
       "      <th>std</th>\n",
       "      <td>297.732421</td>\n",
       "    </tr>\n",
       "    <tr>\n",
       "      <th>min</th>\n",
       "      <td>1950.000000</td>\n",
       "    </tr>\n",
       "    <tr>\n",
       "      <th>25%</th>\n",
       "      <td>1950.000000</td>\n",
       "    </tr>\n",
       "    <tr>\n",
       "      <th>50%</th>\n",
       "      <td>1950.000000</td>\n",
       "    </tr>\n",
       "    <tr>\n",
       "      <th>75%</th>\n",
       "      <td>1987.500000</td>\n",
       "    </tr>\n",
       "    <tr>\n",
       "      <th>max</th>\n",
       "      <td>3225.000000</td>\n",
       "    </tr>\n",
       "  </tbody>\n",
       "</table>\n",
       "</div>"
      ],
      "text/plain": [
       "       total_income\n",
       "count    149.000000\n",
       "mean    2085.548788\n",
       "std      297.732421\n",
       "min     1950.000000\n",
       "25%     1950.000000\n",
       "50%     1950.000000\n",
       "75%     1987.500000\n",
       "max     3225.000000"
      ]
     },
     "execution_count": 57,
     "metadata": {},
     "output_type": "execute_result"
    }
   ],
   "source": [
    "ultra_income.describe()"
   ]
  },
  {
   "cell_type": "code",
   "execution_count": 58,
   "id": "8cfed99b",
   "metadata": {},
   "outputs": [
    {
     "data": {
      "image/png": "[encoded data removed]",
      "text/plain": [
       "<Figure size 432x288 with 1 Axes>"
      ]
     },
     "metadata": {
      "needs_background": "light"
     },
     "output_type": "display_data"
    }
   ],
   "source": [
    "ultra_income['total_income'].hist(bins=20).set(title=\n",
    "                            'Среднемесячная выручка, получаемая с одного абонента тарифа ULTRA', \n",
    "                             xlabel='рублей', ylabel='количество абонентов');\n"
   ]
  },
  {
   "cell_type": "markdown",
   "id": "d55100fa",
   "metadata": {},
   "source": [
    "В подавляющем большинстве случаев выручка от использования тарифа (3/4 от количества абонентов) - это абонентская плата. Стандартное отклонение это также может подтвердить - оно составляет всего 297 руб. Доплаты делают только те клиенты, которым не хватает интернет-трафика, максимально это 3225 руб."
   ]
  },
  {
   "cell_type": "markdown",
   "id": "5e1a09a8",
   "metadata": {},
   "source": [
    "Рассмотрим структуру выручки от тарифа SMART. Для этого соберем выручку от отдельных позиций в единый датафрейм и построим для наглядности круговую диаграмму:"
   ]
  },
  {
   "cell_type": "code",
   "execution_count": 59,
   "id": "7741a165",
   "metadata": {},
   "outputs": [
    {
     "data": {
      "text/html": [
       "<div>\n",
       "<style scoped>\n",
       "    .dataframe tbody tr th:only-of-type {\n",
       "        vertical-align: middle;\n",
       "    }\n",
       "\n",
       "    .dataframe tbody tr th {\n",
       "        vertical-align: top;\n",
       "    }\n",
       "\n",
       "    .dataframe thead th {\n",
       "        text-align: right;\n",
       "    }\n",
       "</style>\n",
       "<table border=\"1\" class=\"dataframe\">\n",
       "  <thead>\n",
       "    <tr style=\"text-align: right;\">\n",
       "      <th></th>\n",
       "      <th>ultra</th>\n",
       "    </tr>\n",
       "    <tr>\n",
       "      <th>income</th>\n",
       "      <th></th>\n",
       "    </tr>\n",
       "  </thead>\n",
       "  <tbody>\n",
       "    <tr>\n",
       "      <th>calls</th>\n",
       "      <td>0</td>\n",
       "    </tr>\n",
       "    <tr>\n",
       "      <th>message</th>\n",
       "      <td>0</td>\n",
       "    </tr>\n",
       "    <tr>\n",
       "      <th>internet</th>\n",
       "      <td>118350</td>\n",
       "    </tr>\n",
       "    <tr>\n",
       "      <th>package</th>\n",
       "      <td>1922700</td>\n",
       "    </tr>\n",
       "  </tbody>\n",
       "</table>\n",
       "</div>"
      ],
      "text/plain": [
       "            ultra\n",
       "income           \n",
       "calls           0\n",
       "message         0\n",
       "internet   118350\n",
       "package   1922700"
      ]
     },
     "execution_count": 59,
     "metadata": {},
     "output_type": "execute_result"
    }
   ],
   "source": [
    "package_cost_ultra = len(total_ultra) * 1950\n",
    "\n",
    "income_total_ultra = pd.DataFrame([['calls', total_ultra['call_over_limit_rub'].sum()], \n",
    "          ['message', total_ultra['messagе_over_limit_rub'].sum()],\n",
    "          ['internet',total_ultra['Gb_over_limit_rub'].sum()],\n",
    "          ['package', package_cost_ultra]])\n",
    "income_total_ultra.columns = ['income', 'ultra']\n",
    "income_total_ultra = income_total_ultra.set_index('income')\n",
    "income_total_ultra"
   ]
  },
  {
   "cell_type": "code",
   "execution_count": 60,
   "id": "8762b793",
   "metadata": {},
   "outputs": [
    {
     "data": {
      "text/plain": [
       "ultra    2041050\n",
       "dtype: int64"
      ]
     },
     "execution_count": 60,
     "metadata": {},
     "output_type": "execute_result"
    }
   ],
   "source": [
    "#Общая сумма дохода, полученная от использования тарифа ULTRA \n",
    "income_total_ultra.sum()"
   ]
  },
  {
   "cell_type": "code",
   "execution_count": 61,
   "id": "960c07ad",
   "metadata": {
    "scrolled": false
   },
   "outputs": [
    {
     "data": {
      "image/png": "[encoded data removed]",
      "text/plain": [
       "<Figure size 504x504 with 1 Axes>"
      ]
     },
     "metadata": {},
     "output_type": "display_data"
    }
   ],
   "source": [
    "income_total_ultra.plot(kind = 'pie', y ='ultra', autopct='%1.1f%%', figsize= (7,7),\n",
    "                         title = 'Структура выручки от тарифа ULTRA ',\n",
    "                         labels = ['звонки', 'СМС', 'интернет', 'ежемесячная плата за тариф']);\n",
    "plt.show()\n"
   ]
  },
  {
   "cell_type": "markdown",
   "id": "cbf46f26",
   "metadata": {},
   "source": [
    "Таким образом, тариф ULTRA , в основном , это фиксированная сумма платежа, известная заранее, (94%)  плюс плата за сверхлимитный интернет (5,8%). Такой тариф более предсказуем в части финансового планирования и единственное, что может изменить запланированную сумму выручки- это отток клиентов. "
   ]
  },
  {
   "cell_type": "markdown",
   "id": "43155864",
   "metadata": {},
   "source": [
    "**Вывод**\n",
    "\n",
    "\n",
    "В оплаченный пакет тарифа ultra включено 3000 минут разговора, но ни один из абонентов не потратил свой лимит полностью: значительная часть абонентов тратит в месяц на разговоры 300-800 минут с пиком в области 520 минут +/- стандартное отклонение в 284 мин. Это немного больше , чем в smart- и общей продолжительностью, и разбросом значений, но с таким предоплаченным количеством минут можно себе это позволить, т.к. неиспользованное время все-равно остается.\n",
    "\n",
    "\n",
    "Включенные в пакет 1000 СМС-сообщений никто не использует полностью, максимум- это 192 сообщения, многие не используют СМС-сервис либо используют его по минимуму. \n",
    "\n",
    "\n",
    "Пользователи тарифа, имея 30 Гб пакетного интернет-трафика, в основном его и тратят. Не выходит за его пределы более 3/4 пользователей. При этом кто-то совсем не пользуется пакетным интернетом, а кто-то использует 38 Гб, и это максимум.\n",
    "\n",
    "\n",
    "В подавляющем большинстве случаев выручка от использования тарифа (3/4 от количества абонентов) - это абонентская плата. Доплаты делают только те клиенты, которым не хватает интернет-трафика, максимально это 3225 руб.\n",
    "\n",
    "Таким образом, тариф ULTRA , в основном,- это фиксированная сумма платежа, известная заранее, (94%) плюс плата за сверхлимитный интернет (5,8%). \n"
   ]
  },
  {
   "cell_type": "markdown",
   "id": "bcca16ce",
   "metadata": {},
   "source": [
    "### Вывод по разделу 4.1.\n",
    "\n",
    "\n",
    "Абоненты тарифа smart используют в среднем 420 минут разговора (+/- 146) при включенных в пакет 500 минутах, а доплата за сверхнормативное время в целом небольшая. В то же время абоненты тарифа ultra, при пакете размером 3000 минут, в среднем разговаривают 520 (+/- 284) минуты, то есть всего на 100 минут больше , чем абоненты smart, и такой объем несопоставим с их предоплаченными минутами.\n",
    "\n",
    "СМС-сервисом не пользуются активно в обоих тарифах : это в среднем 30 СМС у smart и 53 у ultra. И снова отметим большой предоплаченный пакет ultra, - 1000 СМС-сообщений.\n",
    "\n",
    "Среднемесячный интернет-трафик у абонентов smart составляет в среднем 16 Gb, и перелимит (сверх пакетных 15 Gb) у большей части составляет 1-3 Gb. При этом пользователи ultra, имея 30 Гб пакетного интернет-трафика, в основном его и тратят, не выходя за пределы пакетных 30 Gb. При этом кто-то совсем не пользуется пакетным интернетом, а кто-то использует 38 Гб, и это максимум.\n",
    "\n",
    "\n",
    "Выручка от использования тарифа SMART больше абонентской платы в 550 руб., т.е. большая часть абонентов все-таки доплачивает,- в основном за сверхлимитные разговоры и интернет-трафик, и в среднем она составляет 1322 руб. со стандартным отклонением 606 руб. При этом большинство платит от 800 руб. до 1,2 тыс.руб.\n",
    "А вот выручка от использования тарифа ULTRA в подавляющем большинстве случаев- это абонентская плата, доплаты делают только те клиенты, которым не хватает интернет-трафика. В среднем абонент ULTRA платит около 2 тыс.руб. в месяц. \n",
    "\n",
    "\n"
   ]
  },
  {
   "cell_type": "markdown",
   "id": "c10bd274",
   "metadata": {},
   "source": [
    "## Проверка гипотез"
   ]
  },
  {
   "cell_type": "markdown",
   "id": "fc5dbd7a",
   "metadata": {},
   "source": [
    "Для проверки гипотез сравним данные двух выборок со среднемесячной выручкой абонентов, которые сохранены в переменных smart_income и ultra_income.\n",
    "\n",
    "Для анализа будем использовать t-критерий Стьюдента, поскольку сравниваемые выборки независимы между собой.\n"
   ]
  },
  {
   "cell_type": "markdown",
   "id": "e2f13464",
   "metadata": {},
   "source": [
    "###  - Средняя выручка пользователей тарифов «Ультра» и «Смарт» различаются\n",
    "         "
   ]
  },
  {
   "cell_type": "markdown",
   "id": "83237836",
   "metadata": {},
   "source": [
    "**Сформулируем гипотезы:**\n",
    "\n",
    "* Н0: выручка пользователей тарифов smart и ultra не различается \n",
    "* Н1: выручка пользователей тарифов smart и ultra различается\n"
   ]
  },
  {
   "cell_type": "markdown",
   "id": "15bbbc03",
   "metadata": {},
   "source": [
    "Перед проведением теста проведем подготовку данных, а именно -удалим выбросы данных межквартильным методом (IQR-методом):"
   ]
  },
  {
   "cell_type": "code",
   "execution_count": 62,
   "id": "8e1ec014",
   "metadata": {},
   "outputs": [
    {
     "data": {
      "text/html": [
       "<div>\n",
       "<style scoped>\n",
       "    .dataframe tbody tr th:only-of-type {\n",
       "        vertical-align: middle;\n",
       "    }\n",
       "\n",
       "    .dataframe tbody tr th {\n",
       "        vertical-align: top;\n",
       "    }\n",
       "\n",
       "    .dataframe thead th {\n",
       "        text-align: right;\n",
       "    }\n",
       "</style>\n",
       "<table border=\"1\" class=\"dataframe\">\n",
       "  <thead>\n",
       "    <tr style=\"text-align: right;\">\n",
       "      <th></th>\n",
       "      <th>month</th>\n",
       "      <th>call_count</th>\n",
       "      <th>call_sum_min</th>\n",
       "      <th>message_count</th>\n",
       "      <th>mb_used</th>\n",
       "      <th>tariff</th>\n",
       "      <th>call_over_limit</th>\n",
       "      <th>call_over_limit_rub</th>\n",
       "      <th>messagе_over_limit</th>\n",
       "      <th>messagе_over_limit_rub</th>\n",
       "      <th>Gb_over_limit</th>\n",
       "      <th>Gb_over_limit_rub</th>\n",
       "      <th>total_income</th>\n",
       "    </tr>\n",
       "    <tr>\n",
       "      <th>user_id</th>\n",
       "      <th></th>\n",
       "      <th></th>\n",
       "      <th></th>\n",
       "      <th></th>\n",
       "      <th></th>\n",
       "      <th></th>\n",
       "      <th></th>\n",
       "      <th></th>\n",
       "      <th></th>\n",
       "      <th></th>\n",
       "      <th></th>\n",
       "      <th></th>\n",
       "      <th></th>\n",
       "    </tr>\n",
       "  </thead>\n",
       "  <tbody>\n",
       "    <tr>\n",
       "      <th>1001</th>\n",
       "      <td>11</td>\n",
       "      <td>45</td>\n",
       "      <td>430</td>\n",
       "      <td>0</td>\n",
       "      <td>18429.34</td>\n",
       "      <td>smart</td>\n",
       "      <td>0</td>\n",
       "      <td>0</td>\n",
       "      <td>0</td>\n",
       "      <td>0</td>\n",
       "      <td>3</td>\n",
       "      <td>600</td>\n",
       "      <td>1150</td>\n",
       "    </tr>\n",
       "    <tr>\n",
       "      <th>1001</th>\n",
       "      <td>12</td>\n",
       "      <td>47</td>\n",
       "      <td>414</td>\n",
       "      <td>0</td>\n",
       "      <td>14036.66</td>\n",
       "      <td>smart</td>\n",
       "      <td>0</td>\n",
       "      <td>0</td>\n",
       "      <td>0</td>\n",
       "      <td>0</td>\n",
       "      <td>0</td>\n",
       "      <td>0</td>\n",
       "      <td>550</td>\n",
       "    </tr>\n",
       "    <tr>\n",
       "      <th>1002</th>\n",
       "      <td>6</td>\n",
       "      <td>14</td>\n",
       "      <td>117</td>\n",
       "      <td>4</td>\n",
       "      <td>10856.82</td>\n",
       "      <td>smart</td>\n",
       "      <td>0</td>\n",
       "      <td>0</td>\n",
       "      <td>0</td>\n",
       "      <td>0</td>\n",
       "      <td>0</td>\n",
       "      <td>0</td>\n",
       "      <td>550</td>\n",
       "    </tr>\n",
       "    <tr>\n",
       "      <th>1002</th>\n",
       "      <td>7</td>\n",
       "      <td>21</td>\n",
       "      <td>214</td>\n",
       "      <td>11</td>\n",
       "      <td>17580.10</td>\n",
       "      <td>smart</td>\n",
       "      <td>0</td>\n",
       "      <td>0</td>\n",
       "      <td>0</td>\n",
       "      <td>0</td>\n",
       "      <td>3</td>\n",
       "      <td>600</td>\n",
       "      <td>1150</td>\n",
       "    </tr>\n",
       "    <tr>\n",
       "      <th>1002</th>\n",
       "      <td>8</td>\n",
       "      <td>37</td>\n",
       "      <td>289</td>\n",
       "      <td>13</td>\n",
       "      <td>20319.26</td>\n",
       "      <td>smart</td>\n",
       "      <td>0</td>\n",
       "      <td>0</td>\n",
       "      <td>0</td>\n",
       "      <td>0</td>\n",
       "      <td>5</td>\n",
       "      <td>1000</td>\n",
       "      <td>1550</td>\n",
       "    </tr>\n",
       "    <tr>\n",
       "      <th>...</th>\n",
       "      <td>...</td>\n",
       "      <td>...</td>\n",
       "      <td>...</td>\n",
       "      <td>...</td>\n",
       "      <td>...</td>\n",
       "      <td>...</td>\n",
       "      <td>...</td>\n",
       "      <td>...</td>\n",
       "      <td>...</td>\n",
       "      <td>...</td>\n",
       "      <td>...</td>\n",
       "      <td>...</td>\n",
       "      <td>...</td>\n",
       "    </tr>\n",
       "    <tr>\n",
       "      <th>1489</th>\n",
       "      <td>9</td>\n",
       "      <td>0</td>\n",
       "      <td>0</td>\n",
       "      <td>32</td>\n",
       "      <td>17206.30</td>\n",
       "      <td>smart</td>\n",
       "      <td>0</td>\n",
       "      <td>0</td>\n",
       "      <td>0</td>\n",
       "      <td>0</td>\n",
       "      <td>2</td>\n",
       "      <td>400</td>\n",
       "      <td>950</td>\n",
       "    </tr>\n",
       "    <tr>\n",
       "      <th>1489</th>\n",
       "      <td>10</td>\n",
       "      <td>0</td>\n",
       "      <td>0</td>\n",
       "      <td>21</td>\n",
       "      <td>19559.44</td>\n",
       "      <td>smart</td>\n",
       "      <td>0</td>\n",
       "      <td>0</td>\n",
       "      <td>0</td>\n",
       "      <td>0</td>\n",
       "      <td>5</td>\n",
       "      <td>1000</td>\n",
       "      <td>1550</td>\n",
       "    </tr>\n",
       "    <tr>\n",
       "      <th>1489</th>\n",
       "      <td>11</td>\n",
       "      <td>0</td>\n",
       "      <td>0</td>\n",
       "      <td>20</td>\n",
       "      <td>17491.56</td>\n",
       "      <td>smart</td>\n",
       "      <td>0</td>\n",
       "      <td>0</td>\n",
       "      <td>0</td>\n",
       "      <td>0</td>\n",
       "      <td>3</td>\n",
       "      <td>600</td>\n",
       "      <td>1150</td>\n",
       "    </tr>\n",
       "    <tr>\n",
       "      <th>1489</th>\n",
       "      <td>12</td>\n",
       "      <td>0</td>\n",
       "      <td>0</td>\n",
       "      <td>35</td>\n",
       "      <td>17322.51</td>\n",
       "      <td>smart</td>\n",
       "      <td>0</td>\n",
       "      <td>0</td>\n",
       "      <td>0</td>\n",
       "      <td>0</td>\n",
       "      <td>2</td>\n",
       "      <td>400</td>\n",
       "      <td>950</td>\n",
       "    </tr>\n",
       "    <tr>\n",
       "      <th>1371</th>\n",
       "      <td>12</td>\n",
       "      <td>0</td>\n",
       "      <td>0</td>\n",
       "      <td>0</td>\n",
       "      <td>0.00</td>\n",
       "      <td>smart</td>\n",
       "      <td>0</td>\n",
       "      <td>0</td>\n",
       "      <td>0</td>\n",
       "      <td>0</td>\n",
       "      <td>0</td>\n",
       "      <td>0</td>\n",
       "      <td>550</td>\n",
       "    </tr>\n",
       "  </tbody>\n",
       "</table>\n",
       "<p>2230 rows × 13 columns</p>\n",
       "</div>"
      ],
      "text/plain": [
       "         month  call_count  call_sum_min  message_count   mb_used tariff  \\\n",
       "user_id                                                                    \n",
       "1001        11          45           430              0  18429.34  smart   \n",
       "1001        12          47           414              0  14036.66  smart   \n",
       "1002         6          14           117              4  10856.82  smart   \n",
       "1002         7          21           214             11  17580.10  smart   \n",
       "1002         8          37           289             13  20319.26  smart   \n",
       "...        ...         ...           ...            ...       ...    ...   \n",
       "1489         9           0             0             32  17206.30  smart   \n",
       "1489        10           0             0             21  19559.44  smart   \n",
       "1489        11           0             0             20  17491.56  smart   \n",
       "1489        12           0             0             35  17322.51  smart   \n",
       "1371        12           0             0              0      0.00  smart   \n",
       "\n",
       "         call_over_limit  call_over_limit_rub  messagе_over_limit  \\\n",
       "user_id                                                             \n",
       "1001                   0                    0                   0   \n",
       "1001                   0                    0                   0   \n",
       "1002                   0                    0                   0   \n",
       "1002                   0                    0                   0   \n",
       "1002                   0                    0                   0   \n",
       "...                  ...                  ...                 ...   \n",
       "1489                   0                    0                   0   \n",
       "1489                   0                    0                   0   \n",
       "1489                   0                    0                   0   \n",
       "1489                   0                    0                   0   \n",
       "1371                   0                    0                   0   \n",
       "\n",
       "         messagе_over_limit_rub  Gb_over_limit  Gb_over_limit_rub  \\\n",
       "user_id                                                             \n",
       "1001                          0              3                600   \n",
       "1001                          0              0                  0   \n",
       "1002                          0              0                  0   \n",
       "1002                          0              3                600   \n",
       "1002                          0              5               1000   \n",
       "...                         ...            ...                ...   \n",
       "1489                          0              2                400   \n",
       "1489                          0              5               1000   \n",
       "1489                          0              3                600   \n",
       "1489                          0              2                400   \n",
       "1371                          0              0                  0   \n",
       "\n",
       "         total_income  \n",
       "user_id                \n",
       "1001             1150  \n",
       "1001              550  \n",
       "1002              550  \n",
       "1002             1150  \n",
       "1002             1550  \n",
       "...               ...  \n",
       "1489              950  \n",
       "1489             1550  \n",
       "1489             1150  \n",
       "1489              950  \n",
       "1371              550  \n",
       "\n",
       "[2230 rows x 13 columns]"
      ]
     },
     "execution_count": 62,
     "metadata": {},
     "output_type": "execute_result"
    }
   ],
   "source": [
    "total_smart = total_smart.set_index('user_id')\n",
    "total_ultra = total_ultra.set_index('user_id')\n",
    "total_smart"
   ]
  },
  {
   "cell_type": "code",
   "execution_count": 63,
   "id": "9feb6ece",
   "metadata": {},
   "outputs": [],
   "source": [
    "def delete_blowouts(df, column):\n",
    "    q1 = df[column].quantile(0.25) \n",
    "    q3 = df[column].quantile(0.75)\n",
    "    iqr = q3 - q1\n",
    "    print('выбросы до:', q1 - 1.5 * iqr, 'от:', q3 + 1.5 * iqr)\n",
    "    iqr_test = (df[column] >= (q1 - 1.5 * iqr)) & (df[column] <= (q3 + 1.5 * iqr))\n",
    "    return df.loc[iqr_test]"
   ]
  },
  {
   "cell_type": "code",
   "execution_count": 64,
   "id": "c600c979",
   "metadata": {},
   "outputs": [
    {
     "name": "stdout",
     "output_type": "stream",
     "text": [
      "количество значений до удаления выбросов: 2230\n",
      "выбросы до: -1250.0 от: 3550.0\n",
      "количество значений после удаления выбросов: 2199\n"
     ]
    }
   ],
   "source": [
    "print('количество значений до удаления выбросов:', total_smart['total_income'].count())\n",
    "\n",
    "#применяем функцию delete_blowouts для удаления выбросов \n",
    "smart_test = delete_blowouts(total_smart, 'total_income')\n",
    "\n",
    "print('количество значений после удаления выбросов:', smart_test['total_income'].count())\n"
   ]
  },
  {
   "cell_type": "code",
   "execution_count": 65,
   "id": "ac5b2db7",
   "metadata": {},
   "outputs": [
    {
     "name": "stdout",
     "output_type": "stream",
     "text": [
      "количество значений до удаления выбросов: 986\n",
      "выбросы до: 1950.0 от: 1950.0\n",
      "количество значений после удаления выбросов: 852\n"
     ]
    }
   ],
   "source": [
    "print('количество значений до удаления выбросов:', total_ultra['total_income'].count())\n",
    "\n",
    "#применяем функцию delete_blowouts для удаления выбросов['total_income']\n",
    "ultra_test = delete_blowouts(total_ultra, 'total_income')\n",
    "\n",
    "print('количество значений после удаления выбросов:', ultra_test['total_income'].count())\n"
   ]
  },
  {
   "cell_type": "markdown",
   "id": "42500f77",
   "metadata": {},
   "source": [
    "Как можно заметить, в данных тарифов как выбросы были удалены только \"правые\" хвосты- со значениями значительно больше, чем основная часть выборки. Рассчитанные значения \"слева\" оказались меньше, чем минимальные значения выручки.\n",
    "\n",
    "**Проведем t-test по очищенным от выбросов выборок:**"
   ]
  },
  {
   "cell_type": "code",
   "execution_count": 66,
   "id": "18fdf952",
   "metadata": {},
   "outputs": [
    {
     "name": "stdout",
     "output_type": "stream",
     "text": [
      "p-значение: 3.1080242236586082e-155\n",
      "Отвергаем нулевую гипотезу\n"
     ]
    }
   ],
   "source": [
    "alpha = 0.05\n",
    "results = st.ttest_ind(ultra_test['total_income'], smart_test['total_income'])\n",
    "\n",
    "print('p-значение:', results.pvalue)\n",
    "\n",
    "if (results.pvalue < alpha):\n",
    "    print(\"Отвергаем нулевую гипотезу\")\n",
    "else:\n",
    "    print(\"Не получилось отвергнуть нулевую гипотезу\")"
   ]
  },
  {
   "cell_type": "markdown",
   "id": "3774f31b",
   "metadata": {},
   "source": [
    "Разница не случайна, есть значимые различия между выборками, следовательно средняя выручка тарифов отличается.\n",
    "\n",
    "Посмотрим на отличия:"
   ]
  },
  {
   "cell_type": "markdown",
   "id": "17db752d",
   "metadata": {},
   "source": [
    "Общая сумма выручки от применения тарифов smart и ultra в рублях за весь период (2018 год): "
   ]
  },
  {
   "cell_type": "code",
   "execution_count": 67,
   "id": "baf6fd32",
   "metadata": {},
   "outputs": [
    {
     "data": {
      "text/html": [
       "<div>\n",
       "<style scoped>\n",
       "    .dataframe tbody tr th:only-of-type {\n",
       "        vertical-align: middle;\n",
       "    }\n",
       "\n",
       "    .dataframe tbody tr th {\n",
       "        vertical-align: top;\n",
       "    }\n",
       "\n",
       "    .dataframe thead th {\n",
       "        text-align: right;\n",
       "    }\n",
       "</style>\n",
       "<table border=\"1\" class=\"dataframe\">\n",
       "  <thead>\n",
       "    <tr style=\"text-align: right;\">\n",
       "      <th></th>\n",
       "      <th>smart</th>\n",
       "      <th>ultra</th>\n",
       "    </tr>\n",
       "    <tr>\n",
       "      <th>income</th>\n",
       "      <th></th>\n",
       "      <th></th>\n",
       "    </tr>\n",
       "  </thead>\n",
       "  <tbody>\n",
       "    <tr>\n",
       "      <th>calls</th>\n",
       "      <td>278217</td>\n",
       "      <td>0</td>\n",
       "    </tr>\n",
       "    <tr>\n",
       "      <th>message</th>\n",
       "      <td>38784</td>\n",
       "      <td>0</td>\n",
       "    </tr>\n",
       "    <tr>\n",
       "      <th>internet</th>\n",
       "      <td>1332400</td>\n",
       "      <td>118350</td>\n",
       "    </tr>\n",
       "    <tr>\n",
       "      <th>package</th>\n",
       "      <td>1226500</td>\n",
       "      <td>1922700</td>\n",
       "    </tr>\n",
       "  </tbody>\n",
       "</table>\n",
       "</div>"
      ],
      "text/plain": [
       "            smart    ultra\n",
       "income                    \n",
       "calls      278217        0\n",
       "message     38784        0\n",
       "internet  1332400   118350\n",
       "package   1226500  1922700"
      ]
     },
     "execution_count": 67,
     "metadata": {},
     "output_type": "execute_result"
    }
   ],
   "source": [
    "income_total = income_total_smart.join(income_total_ultra)\n",
    "income_total"
   ]
  },
  {
   "cell_type": "code",
   "execution_count": 68,
   "id": "f96cde26",
   "metadata": {},
   "outputs": [
    {
     "name": "stdout",
     "output_type": "stream",
     "text": [
      "['звонки', 'сообщения', 'интернет', 'пакет']\n"
     ]
    },
    {
     "data": {
      "image/png": "[encoded data removed]",
      "text/plain": [
       "<Figure size 432x288 with 1 Axes>"
      ]
     },
     "metadata": {
      "needs_background": "light"
     },
     "output_type": "display_data"
    }
   ],
   "source": [
    "cat_par = ['звонки', 'сообщения', 'интернет', 'пакет']\n",
    "\n",
    "print(cat_par)\n",
    "g1 = income_total['smart']\n",
    "g2 = income_total['ultra']\n",
    "width = 0.3\n",
    "x = np.arange(len(cat_par))\n",
    "fig, ax = plt.subplots();\n",
    "rects1 = ax.bar(x - width/2, g1, width, label='smart')\n",
    "rects2 = ax.bar(x + width/2, g2, width, label='ultra')\n",
    "ax.set_title('Сравнительный состав выручки тарифных планов SMART и ULTRA')\n",
    "ax.set_xticks(x)\n",
    "ax.set_xticklabels(cat_par)\n",
    "ax.legend()\n",
    "plt.show()"
   ]
  },
  {
   "cell_type": "markdown",
   "id": "9f61f1f6",
   "metadata": {},
   "source": [
    "Для наглядности:"
   ]
  },
  {
   "cell_type": "code",
   "execution_count": 69,
   "id": "68766a43",
   "metadata": {},
   "outputs": [
    {
     "name": "stdout",
     "output_type": "stream",
     "text": [
      "smart    2875901\n",
      "ultra    2041050\n",
      "dtype: int64\n"
     ]
    },
    {
     "data": {
      "image/png": "[encoded data removed]",
      "text/plain": [
       "<Figure size 432x288 with 1 Axes>"
      ]
     },
     "metadata": {},
     "output_type": "display_data"
    },
    {
     "data": {
      "image/png": "[encoded data removed]",
      "text/plain": [
       "<Figure size 432x288 with 1 Axes>"
      ]
     },
     "metadata": {},
     "output_type": "display_data"
    }
   ],
   "source": [
    "#общая сумма выручки\n",
    "print(income_total.sum(axis=0))\n",
    "income_total.sum(axis=0).plot(kind = 'pie', y ='income', autopct='%1.1f%%', \n",
    "                         title = 'Общая сумма выручки',\n",
    "                         labels = ['SMART', 'ULTRA']);\n",
    "plt.show()\n",
    "\n",
    "#общее количество абонентов\n",
    "\n",
    "users_count = users.groupby('tariff')['user_id'].count()\n",
    "users_count.plot(kind = 'pie', y ='sum', autopct='%1.1f%%', \n",
    "                         title = 'Общее количество абонентов',\n",
    "                         labels = ['SMART', 'ULTRA']);\n"
   ]
  },
  {
   "cell_type": "markdown",
   "id": "54ad0e17",
   "metadata": {},
   "source": [
    "Мы подтвердили нашу гипотезу и сделанные ранее выводы , что в целом у тарифа smart меньшая плата за предоплаченный пакет, но она компенсируется доплатами за сверхлимитный интернет-трафик звонки, в отличие от ultra, основную часть выручки которого составляет абонентская плата и незначительная по сравнению  с ней выручка от оплаты сверхнормативного интернет-трафика. В ultra большинство не используют значительную часть предоставленных минут разговора и интернет-трафика, то есть для клиента он не так выгоден и не так популярен, как smart, что может стать причиной оттока абонентов ultra.\n",
    "\n",
    "Посмотрим на динамику заключения/расторжения договоров абонентов:"
   ]
  },
  {
   "cell_type": "code",
   "execution_count": 70,
   "id": "524cf3b9",
   "metadata": {},
   "outputs": [
    {
     "data": {
      "text/html": [
       "<div>\n",
       "<style scoped>\n",
       "    .dataframe tbody tr th:only-of-type {\n",
       "        vertical-align: middle;\n",
       "    }\n",
       "\n",
       "    .dataframe tbody tr th {\n",
       "        vertical-align: top;\n",
       "    }\n",
       "\n",
       "    .dataframe thead th {\n",
       "        text-align: right;\n",
       "    }\n",
       "</style>\n",
       "<table border=\"1\" class=\"dataframe\">\n",
       "  <thead>\n",
       "    <tr style=\"text-align: right;\">\n",
       "      <th></th>\n",
       "      <th>reg_date</th>\n",
       "      <th>churn_date</th>\n",
       "      <th>churn_%</th>\n",
       "    </tr>\n",
       "    <tr>\n",
       "      <th>tariff</th>\n",
       "      <th></th>\n",
       "      <th></th>\n",
       "      <th></th>\n",
       "    </tr>\n",
       "  </thead>\n",
       "  <tbody>\n",
       "    <tr>\n",
       "      <th>smart</th>\n",
       "      <td>351</td>\n",
       "      <td>23</td>\n",
       "      <td>0.065527</td>\n",
       "    </tr>\n",
       "    <tr>\n",
       "      <th>ultra</th>\n",
       "      <td>149</td>\n",
       "      <td>15</td>\n",
       "      <td>0.100671</td>\n",
       "    </tr>\n",
       "  </tbody>\n",
       "</table>\n",
       "</div>"
      ],
      "text/plain": [
       "        reg_date  churn_date   churn_%\n",
       "tariff                                \n",
       "smart        351          23  0.065527\n",
       "ultra        149          15  0.100671"
      ]
     },
     "execution_count": 70,
     "metadata": {},
     "output_type": "execute_result"
    }
   ],
   "source": [
    "# выборка количества зарегистрированных и расторгнутых договоров\n",
    "users_count = users.groupby('tariff')['reg_date','churn_date'].count()\n",
    "users_count['churn_%'] = users_count['churn_date']/users_count['reg_date']\n",
    "users_count"
   ]
  },
  {
   "cell_type": "markdown",
   "id": "696fc560",
   "metadata": {},
   "source": [
    "Как видим, у тарифа ultra количество заключивших договор в течение года в 2 раза меньше, но расторгнувших его в последствии -10%, тогда как пользователей тарифа smart ,соответственно, в 2 раза больше, но отток при этом меньше, всего 6%."
   ]
  },
  {
   "cell_type": "markdown",
   "id": "6a9993c3",
   "metadata": {},
   "source": [
    "**Вывод**\n",
    "\n",
    "\n",
    "Гипотеза,  что средняя выручка пользователей тарифов «Ультра» и «Смарт» различаются, не опровергнута. \n",
    "\n",
    "В целом у тарифа smart меньшая плата за предоплаченный пакет, но она компенсируется доплатами за сверхлимитный интернет-трафик звонки, в отличие от ultra, основную часть выручки которого составляет абонентская плата и незначительная по сравнению с ней выручка от оплаты сверхнормативного интернет-трафика. В ultra большинство не используют значительную часть предоставленных минут разговора и интернет-трафика, то есть для клиента он не так выгоден и не так популярен, как smart, что может стать причиной оттока абонентов ultra (отток в представленной выборке составляет 10% против 6% у абонентов smart)"
   ]
  },
  {
   "cell_type": "markdown",
   "id": "34a1ccb1",
   "metadata": {},
   "source": [
    "### Средняя выручка пользователи из Москвы отличается от выручки пользователей из других регионов.\n"
   ]
  },
  {
   "cell_type": "markdown",
   "id": "50e49151",
   "metadata": {},
   "source": [
    "Проверим гипотезу, что средняя выручка пользователи из Москвы отличается от выручки пользователей из других регионов. Для анализа также будем использовать t-критерий Стьюдента, поскольку сравниваемые выборки- те же.\n",
    "\n",
    "**Сформулируем гипотезы:**\n",
    "\n",
    "- Н0: средняя выручка пользователи из Москвы не отличается от выручки пользователей из других регионов\n",
    "- Н1: средняя выручка пользователи из Москвы отличается от выручки пользователей из других регионов\n",
    "\n",
    "\n",
    "Данные по размеру среднемесячной выручки, полученной от каждого клиента тарифа, возьмем из очищенных выше от выбросов выборок  smart_test и ultra_test.\n",
    "\n",
    "Для начала поделим выборки по признаку \"Москва\" - \"не Москва\":"
   ]
  },
  {
   "cell_type": "code",
   "execution_count": 71,
   "id": "239d5a7b",
   "metadata": {},
   "outputs": [],
   "source": [
    "#добавим колонку с городом\n",
    "smart_test = (smart_test.reset_index()).merge(users[['user_id', 'city']], on='user_id', how = 'inner')\n",
    "\n",
    "ultra_test = (ultra_test.reset_index()).merge(users[['user_id', 'city']], on='user_id', how = 'inner')\n"
   ]
  },
  {
   "cell_type": "code",
   "execution_count": 72,
   "id": "2e377a05",
   "metadata": {},
   "outputs": [
    {
     "data": {
      "text/html": [
       "<div>\n",
       "<style scoped>\n",
       "    .dataframe tbody tr th:only-of-type {\n",
       "        vertical-align: middle;\n",
       "    }\n",
       "\n",
       "    .dataframe tbody tr th {\n",
       "        vertical-align: top;\n",
       "    }\n",
       "\n",
       "    .dataframe thead th {\n",
       "        text-align: right;\n",
       "    }\n",
       "</style>\n",
       "<table border=\"1\" class=\"dataframe\">\n",
       "  <thead>\n",
       "    <tr style=\"text-align: right;\">\n",
       "      <th></th>\n",
       "      <th>user_id</th>\n",
       "      <th>month</th>\n",
       "      <th>call_count</th>\n",
       "      <th>call_sum_min</th>\n",
       "      <th>message_count</th>\n",
       "      <th>mb_used</th>\n",
       "      <th>tariff</th>\n",
       "      <th>call_over_limit</th>\n",
       "      <th>call_over_limit_rub</th>\n",
       "      <th>messagе_over_limit</th>\n",
       "      <th>messagе_over_limit_rub</th>\n",
       "      <th>Gb_over_limit</th>\n",
       "      <th>Gb_over_limit_rub</th>\n",
       "      <th>total_income</th>\n",
       "      <th>city</th>\n",
       "    </tr>\n",
       "  </thead>\n",
       "  <tbody>\n",
       "    <tr>\n",
       "      <th>0</th>\n",
       "      <td>1001</td>\n",
       "      <td>11</td>\n",
       "      <td>45</td>\n",
       "      <td>430</td>\n",
       "      <td>0</td>\n",
       "      <td>18429.34</td>\n",
       "      <td>smart</td>\n",
       "      <td>0</td>\n",
       "      <td>0</td>\n",
       "      <td>0</td>\n",
       "      <td>0</td>\n",
       "      <td>3</td>\n",
       "      <td>600</td>\n",
       "      <td>1150</td>\n",
       "      <td>Москва</td>\n",
       "    </tr>\n",
       "    <tr>\n",
       "      <th>1</th>\n",
       "      <td>1001</td>\n",
       "      <td>12</td>\n",
       "      <td>47</td>\n",
       "      <td>414</td>\n",
       "      <td>0</td>\n",
       "      <td>14036.66</td>\n",
       "      <td>smart</td>\n",
       "      <td>0</td>\n",
       "      <td>0</td>\n",
       "      <td>0</td>\n",
       "      <td>0</td>\n",
       "      <td>0</td>\n",
       "      <td>0</td>\n",
       "      <td>550</td>\n",
       "      <td>Москва</td>\n",
       "    </tr>\n",
       "    <tr>\n",
       "      <th>32</th>\n",
       "      <td>1007</td>\n",
       "      <td>4</td>\n",
       "      <td>21</td>\n",
       "      <td>198</td>\n",
       "      <td>11</td>\n",
       "      <td>8022.76</td>\n",
       "      <td>smart</td>\n",
       "      <td>0</td>\n",
       "      <td>0</td>\n",
       "      <td>0</td>\n",
       "      <td>0</td>\n",
       "      <td>0</td>\n",
       "      <td>0</td>\n",
       "      <td>550</td>\n",
       "      <td>Москва</td>\n",
       "    </tr>\n",
       "    <tr>\n",
       "      <th>33</th>\n",
       "      <td>1007</td>\n",
       "      <td>5</td>\n",
       "      <td>57</td>\n",
       "      <td>480</td>\n",
       "      <td>39</td>\n",
       "      <td>17687.27</td>\n",
       "      <td>smart</td>\n",
       "      <td>0</td>\n",
       "      <td>0</td>\n",
       "      <td>0</td>\n",
       "      <td>0</td>\n",
       "      <td>3</td>\n",
       "      <td>600</td>\n",
       "      <td>1150</td>\n",
       "      <td>Москва</td>\n",
       "    </tr>\n",
       "    <tr>\n",
       "      <th>34</th>\n",
       "      <td>1007</td>\n",
       "      <td>6</td>\n",
       "      <td>55</td>\n",
       "      <td>545</td>\n",
       "      <td>26</td>\n",
       "      <td>13654.52</td>\n",
       "      <td>smart</td>\n",
       "      <td>45</td>\n",
       "      <td>135</td>\n",
       "      <td>0</td>\n",
       "      <td>0</td>\n",
       "      <td>0</td>\n",
       "      <td>0</td>\n",
       "      <td>685</td>\n",
       "      <td>Москва</td>\n",
       "    </tr>\n",
       "  </tbody>\n",
       "</table>\n",
       "</div>"
      ],
      "text/plain": [
       "    user_id  month  call_count  call_sum_min  message_count   mb_used tariff  \\\n",
       "0      1001     11          45           430              0  18429.34  smart   \n",
       "1      1001     12          47           414              0  14036.66  smart   \n",
       "32     1007      4          21           198             11   8022.76  smart   \n",
       "33     1007      5          57           480             39  17687.27  smart   \n",
       "34     1007      6          55           545             26  13654.52  smart   \n",
       "\n",
       "    call_over_limit  call_over_limit_rub  messagе_over_limit  \\\n",
       "0                 0                    0                   0   \n",
       "1                 0                    0                   0   \n",
       "32                0                    0                   0   \n",
       "33                0                    0                   0   \n",
       "34               45                  135                   0   \n",
       "\n",
       "    messagе_over_limit_rub  Gb_over_limit  Gb_over_limit_rub  total_income  \\\n",
       "0                        0              3                600          1150   \n",
       "1                        0              0                  0           550   \n",
       "32                       0              0                  0           550   \n",
       "33                       0              3                600          1150   \n",
       "34                       0              0                  0           685   \n",
       "\n",
       "      city  \n",
       "0   Москва  \n",
       "1   Москва  \n",
       "32  Москва  \n",
       "33  Москва  \n",
       "34  Москва  "
      ]
     },
     "execution_count": 72,
     "metadata": {},
     "output_type": "execute_result"
    }
   ],
   "source": [
    "#сохраним выборки по критериям \"Москва\" -\"Провинция\"\n",
    "moscow = smart_test.merge(ultra_test, how = 'outer').query('city == \"Москва\"')\n",
    "moscow.head()"
   ]
  },
  {
   "cell_type": "code",
   "execution_count": 73,
   "id": "e03d79ab",
   "metadata": {},
   "outputs": [
    {
     "data": {
      "text/html": [
       "<div>\n",
       "<style scoped>\n",
       "    .dataframe tbody tr th:only-of-type {\n",
       "        vertical-align: middle;\n",
       "    }\n",
       "\n",
       "    .dataframe tbody tr th {\n",
       "        vertical-align: top;\n",
       "    }\n",
       "\n",
       "    .dataframe thead th {\n",
       "        text-align: right;\n",
       "    }\n",
       "</style>\n",
       "<table border=\"1\" class=\"dataframe\">\n",
       "  <thead>\n",
       "    <tr style=\"text-align: right;\">\n",
       "      <th></th>\n",
       "      <th>user_id</th>\n",
       "      <th>month</th>\n",
       "      <th>call_count</th>\n",
       "      <th>call_sum_min</th>\n",
       "      <th>message_count</th>\n",
       "      <th>mb_used</th>\n",
       "      <th>tariff</th>\n",
       "      <th>call_over_limit</th>\n",
       "      <th>call_over_limit_rub</th>\n",
       "      <th>messagе_over_limit</th>\n",
       "      <th>messagе_over_limit_rub</th>\n",
       "      <th>Gb_over_limit</th>\n",
       "      <th>Gb_over_limit_rub</th>\n",
       "      <th>total_income</th>\n",
       "      <th>city</th>\n",
       "    </tr>\n",
       "  </thead>\n",
       "  <tbody>\n",
       "    <tr>\n",
       "      <th>2</th>\n",
       "      <td>1002</td>\n",
       "      <td>6</td>\n",
       "      <td>14</td>\n",
       "      <td>117</td>\n",
       "      <td>4</td>\n",
       "      <td>10856.82</td>\n",
       "      <td>smart</td>\n",
       "      <td>0</td>\n",
       "      <td>0</td>\n",
       "      <td>0</td>\n",
       "      <td>0</td>\n",
       "      <td>0</td>\n",
       "      <td>0</td>\n",
       "      <td>550</td>\n",
       "      <td>Стерлитамак</td>\n",
       "    </tr>\n",
       "    <tr>\n",
       "      <th>3</th>\n",
       "      <td>1002</td>\n",
       "      <td>7</td>\n",
       "      <td>21</td>\n",
       "      <td>214</td>\n",
       "      <td>11</td>\n",
       "      <td>17580.10</td>\n",
       "      <td>smart</td>\n",
       "      <td>0</td>\n",
       "      <td>0</td>\n",
       "      <td>0</td>\n",
       "      <td>0</td>\n",
       "      <td>3</td>\n",
       "      <td>600</td>\n",
       "      <td>1150</td>\n",
       "      <td>Стерлитамак</td>\n",
       "    </tr>\n",
       "    <tr>\n",
       "      <th>4</th>\n",
       "      <td>1002</td>\n",
       "      <td>8</td>\n",
       "      <td>37</td>\n",
       "      <td>289</td>\n",
       "      <td>13</td>\n",
       "      <td>20319.26</td>\n",
       "      <td>smart</td>\n",
       "      <td>0</td>\n",
       "      <td>0</td>\n",
       "      <td>0</td>\n",
       "      <td>0</td>\n",
       "      <td>5</td>\n",
       "      <td>1000</td>\n",
       "      <td>1550</td>\n",
       "      <td>Стерлитамак</td>\n",
       "    </tr>\n",
       "    <tr>\n",
       "      <th>5</th>\n",
       "      <td>1002</td>\n",
       "      <td>9</td>\n",
       "      <td>25</td>\n",
       "      <td>206</td>\n",
       "      <td>4</td>\n",
       "      <td>16691.08</td>\n",
       "      <td>smart</td>\n",
       "      <td>0</td>\n",
       "      <td>0</td>\n",
       "      <td>0</td>\n",
       "      <td>0</td>\n",
       "      <td>2</td>\n",
       "      <td>400</td>\n",
       "      <td>950</td>\n",
       "      <td>Стерлитамак</td>\n",
       "    </tr>\n",
       "    <tr>\n",
       "      <th>6</th>\n",
       "      <td>1002</td>\n",
       "      <td>10</td>\n",
       "      <td>24</td>\n",
       "      <td>212</td>\n",
       "      <td>10</td>\n",
       "      <td>13888.25</td>\n",
       "      <td>smart</td>\n",
       "      <td>0</td>\n",
       "      <td>0</td>\n",
       "      <td>0</td>\n",
       "      <td>0</td>\n",
       "      <td>0</td>\n",
       "      <td>0</td>\n",
       "      <td>550</td>\n",
       "      <td>Стерлитамак</td>\n",
       "    </tr>\n",
       "  </tbody>\n",
       "</table>\n",
       "</div>"
      ],
      "text/plain": [
       "   user_id  month  call_count  call_sum_min  message_count   mb_used tariff  \\\n",
       "2     1002      6          14           117              4  10856.82  smart   \n",
       "3     1002      7          21           214             11  17580.10  smart   \n",
       "4     1002      8          37           289             13  20319.26  smart   \n",
       "5     1002      9          25           206              4  16691.08  smart   \n",
       "6     1002     10          24           212             10  13888.25  smart   \n",
       "\n",
       "   call_over_limit  call_over_limit_rub  messagе_over_limit  \\\n",
       "2                0                    0                   0   \n",
       "3                0                    0                   0   \n",
       "4                0                    0                   0   \n",
       "5                0                    0                   0   \n",
       "6                0                    0                   0   \n",
       "\n",
       "   messagе_over_limit_rub  Gb_over_limit  Gb_over_limit_rub  total_income  \\\n",
       "2                       0              0                  0           550   \n",
       "3                       0              3                600          1150   \n",
       "4                       0              5               1000          1550   \n",
       "5                       0              2                400           950   \n",
       "6                       0              0                  0           550   \n",
       "\n",
       "          city  \n",
       "2  Стерлитамак  \n",
       "3  Стерлитамак  \n",
       "4  Стерлитамак  \n",
       "5  Стерлитамак  \n",
       "6  Стерлитамак  "
      ]
     },
     "execution_count": 73,
     "metadata": {},
     "output_type": "execute_result"
    }
   ],
   "source": [
    "province = smart_test.merge(ultra_test, how = 'outer').query('city != \"Москва\"')\n",
    "province.head()"
   ]
  },
  {
   "cell_type": "markdown",
   "id": "4705d3d9",
   "metadata": {},
   "source": [
    "**Проведем t-test по полученным выборкам moscow и province:**"
   ]
  },
  {
   "cell_type": "code",
   "execution_count": 74,
   "id": "7dc6edb0",
   "metadata": {},
   "outputs": [
    {
     "name": "stdout",
     "output_type": "stream",
     "text": [
      "p-значение: 0.48568922870048425\n",
      "Не получилось отвергнуть нулевую гипотезу\n"
     ]
    }
   ],
   "source": [
    "alpha = 0.05\n",
    "results = st.ttest_ind(moscow['total_income'], province['total_income'])\n",
    "\n",
    "print('p-значение:', results.pvalue)\n",
    "\n",
    "if (results.pvalue < alpha):\n",
    "    print(\"Отвергаем нулевую гипотезу\")\n",
    "else:\n",
    "    print(\"Не получилось отвергнуть нулевую гипотезу\")"
   ]
  },
  {
   "cell_type": "markdown",
   "id": "9a33b69c",
   "metadata": {},
   "source": [
    "С вероятностью в 48% такой результат может быть получен случайно. Это слишком большое значение, которое гораздо больше установленного нами уровня значимости. Следовательно, значимых различий между пользователями Москвы и регионов нет."
   ]
  },
  {
   "cell_type": "markdown",
   "id": "07e81394",
   "metadata": {},
   "source": [
    "**Вывод**\n",
    "\n",
    "\n",
    "Гипотеза,  что средняя выручка пользователей из Москвы отличается от выручки пользователей из других регионов, не подтвердилась. Пользователи везде ведут себя одинаково."
   ]
  },
  {
   "cell_type": "markdown",
   "id": "53741b76",
   "metadata": {},
   "source": [
    "## Вывод по разделу 4\n",
    "\n",
    "Абоненты тарифа smart используют в среднем 420 минут разговора (+/- 146) при включенных в пакет 500 минутах, а доплата за сверхнормативное время в целом небольшая. В то же время абоненты тарифа ultra, при пакете размером 3000 минут, в среднем разговаривают 520 (+/- 284) минуты, то есть всего на 100 минут больше , чем абоненты smart, и такой объем несопоставим с их предоплаченными минутами.\n",
    "\n",
    "СМС-сервисом не пользуются активно в обоих тарифах : это в среднем 30 СМС у smart и 53 у ultra. И снова отметим большой предоплаченный пакет ultra, - 1000 СМС-сообщений.\n",
    "\n",
    "Среднемесячный интернет-трафик у абонентов smart составляет в среднем 16 Gb, и перелимит (сверх пакетных 15 Gb) у большей части составляет 1-3 Gb. При этом пользователи ultra, имея 30 Гб пакетного интернет-трафика, в основном его и тратят, не выходя за пределы пакетных 30 Gb. При этом кто-то совсем не пользуется пакетным интернетом, а кто-то использует 38 Гб, и это максимум.\n",
    "\n",
    "Выручка от использования тарифа SMART больше абонентской платы в 550 руб., т.е. большая часть абонентов все-таки доплачивает,- в основном за сверхлимитные разговоры и интернет-трафик, и в среднем она составляет 1322 руб. со стандартным отклонением 606 руб. При этом большинство платит от 800 руб. до 1,2 тыс.руб. А вот выручка от использования тарифа ULTRA в подавляющем большинстве случаев- это абонентская плата, доплаты делают только те клиенты, которым не хватает интернет-трафика. В среднем абонент ULTRA платит около 2 тыс.руб. в месяц.\n",
    "\n",
    "\n",
    "Результаты проверки гипотез:\n",
    "\n",
    "- Средняя выручка пользователей тарифов «Ультра» и «Смарт» различаются.\n",
    "\n",
    "- Средняя выручка пользователей из Москвы не отличается от выручки пользователей из других регионов. Пользователи везде ведут себя одинаково."
   ]
  },
  {
   "cell_type": "markdown",
   "id": "8805cd50",
   "metadata": {},
   "source": [
    "# Общий вывод\n",
    "\n",
    "Представленные для анализа данные содержали информацию о 500 пользователей «Мегалайна»: кто они, откуда, каким тарифом пользуются, сколько звонков и сообщений каждый отправил за 2018 год.\n",
    "\n",
    "\n",
    "В процессе предварительной обработки данных данные нескольких столбцов , содержащих даты, были приведены к формату datetime. \n",
    "\n",
    "\n",
    "Для дальнейшего анализа в разрезе каждого клиента помесячно были рассчитаны количество сделанных звонков и израсходованных минут разговора по месяцам, количество отправленных сообщений, объем израсходованного интернет-трафика и помесячная выручка.\n",
    "\n",
    "\n",
    "Исследование показало, что абоненты тарифа SMART используют примерно на 100 минут в месяц меньше времени для разговора, чем абоненты тарифа ULTRA, и при небольшой абонентской плате в 550 рублей предпочитают доплатить за излишки и не платить  1950 руб.за полный пакет в 3000 минут, как это делают абоненты ULTRA. В то же время абоненты ULTRA в большинстве не используют лимитное время пакета, и , следовательно, переплачивают.  \n",
    "\n",
    "СМС-сервисом не пользуются активно в обоих тарифах, и снова отметим большой предоплаченный пакет ULTRA, который остается неиспользованным.\n",
    "\n",
    "Наиболее популярной у абонентов обоих тарифов является услуга по предоставлению интернет-трафика. При этом абоненты SMART используют в среднем на 1-3 Gb больше, чем предоплачено в пакете (16-18 Gb), а пользователи ULTRA, имея 30 Гб пакетного интернет-трафика, в основном его и тратят, не выходя за пределы пакета, в среднем это 18-19 Gb в месяц. \n",
    "\n",
    "Выручка от использования тарифа SMART больше абонентской платы в 550 руб., т.е. большая часть абонентов все-таки доплачивает,- в основном за сверхлимитные разговоры и интернет-трафик, и в среднем она составляет 1322 руб.  А вот выручка от использования тарифа ULTRA в подавляющем большинстве случаев- это абонентская плата, доплаты делают только те клиенты, которым не хватает интернет-трафика. В среднем абонент ULTRA платит около 2 тыс.руб. в месяц.\n",
    "\n",
    "\n",
    "В целом выручка от тарифа SMART - это абонентская плата (42%), плата за сверхнормативный интернет (46%) и сверхнормативные звонки (почти 10%). Выручка от тарифа ULTRA , в основном,- это фиксированная сумма платежа, известная заранее, (94%) плюс плата за сверхлимитный интернет (5,8%).\n",
    "\n",
    "В процессе проверки гипотез при помощи t-теста Стьюдента  мы также подтвердили то, что выручка пользователей тарифов ULTRA и SMART различаются, а средняя выручка пользователей из Москвы не отличается от выручки пользователей из других регионов. Пользователи везде ведут себя одинаково.\n",
    "\n",
    "Поскольку абоненты ULTRA в большинстве своем не используют значительную часть предоставленных минут разговора и интернет-трафика, можно сделать вывод, что финансовое планирование оператора сотовой связи, с точки зрения понятной заранее суммы абонентской платы тарифа ULTRA, выглядит более привлекательно, чем сумма выручки от применения тарифа SMART. Но для клиента этот тариф не так выгоден и не так популярен, что может стать причиной оттока абонентов ULTRA (отток в представленной выборке составляет 10% против 6% у абонентов SMART). Поэтому  в целом можно дать рекомендацию бизнесу о рассмотрении вопроса о некотором снижении абонентской платы тарифа ULTRA с одновременным снижением небольшого количества предоплаченных услуг, что может способствовать росту абонентов данного тарифа.\n",
    "\n"
   ]
  }
 ],
 "metadata": {
  "ExecuteTimeLog": [
   {
    "duration": 2237,
    "start_time": "2022-01-12T15:22:29.108Z"
   },
   {
    "duration": 9,
    "start_time": "2022-01-12T15:22:31.348Z"
   },
   {
    "duration": 338,
    "start_time": "2022-01-12T15:22:31.360Z"
   },
   {
    "duration": 40,
    "start_time": "2022-01-12T15:22:31.702Z"
   },
   {
    "duration": 236,
    "start_time": "2022-01-12T15:22:31.745Z"
   },
   {
    "duration": 41,
    "start_time": "2022-01-12T15:22:31.984Z"
   },
   {
    "duration": 194,
    "start_time": "2022-01-12T15:22:32.028Z"
   },
   {
    "duration": 73,
    "start_time": "2022-01-12T15:22:32.225Z"
   },
   {
    "duration": 18,
    "start_time": "2022-01-12T15:22:32.301Z"
   },
   {
    "duration": 52,
    "start_time": "2022-01-12T15:22:32.321Z"
   },
   {
    "duration": 23,
    "start_time": "2022-01-12T15:22:32.377Z"
   },
   {
    "duration": 145,
    "start_time": "2022-01-12T15:22:32.403Z"
   },
   {
    "duration": 317,
    "start_time": "2022-01-12T15:22:32.550Z"
   },
   {
    "duration": 113,
    "start_time": "2022-01-12T15:22:32.870Z"
   },
   {
    "duration": 33,
    "start_time": "2022-01-12T15:22:32.988Z"
   },
   {
    "duration": 72,
    "start_time": "2022-01-12T15:22:33.024Z"
   },
   {
    "duration": 27,
    "start_time": "2022-01-12T15:22:33.099Z"
   },
   {
    "duration": 46,
    "start_time": "2022-01-12T15:22:33.129Z"
   },
   {
    "duration": 50,
    "start_time": "2022-01-12T15:22:33.178Z"
   },
   {
    "duration": 63,
    "start_time": "2022-01-12T15:22:33.231Z"
   },
   {
    "duration": 19,
    "start_time": "2022-01-12T15:22:33.296Z"
   },
   {
    "duration": 20,
    "start_time": "2022-01-12T15:22:33.318Z"
   },
   {
    "duration": 12,
    "start_time": "2022-01-12T15:22:33.374Z"
   },
   {
    "duration": 42,
    "start_time": "2022-01-12T15:22:33.390Z"
   },
   {
    "duration": 66,
    "start_time": "2022-01-12T15:22:33.435Z"
   },
   {
    "duration": 6,
    "start_time": "2022-01-12T15:22:33.504Z"
   },
   {
    "duration": 22,
    "start_time": "2022-01-12T15:22:33.513Z"
   },
   {
    "duration": 46,
    "start_time": "2022-01-12T15:22:33.537Z"
   },
   {
    "duration": 382,
    "start_time": "2022-01-12T15:22:33.585Z"
   },
   {
    "duration": 433,
    "start_time": "2022-01-12T15:22:33.970Z"
   },
   {
    "duration": 14,
    "start_time": "2022-01-12T15:22:34.406Z"
   },
   {
    "duration": 51,
    "start_time": "2022-01-12T15:22:34.423Z"
   },
   {
    "duration": 329,
    "start_time": "2022-01-12T15:22:34.480Z"
   },
   {
    "duration": 371,
    "start_time": "2022-01-12T15:22:34.812Z"
   },
   {
    "duration": 15,
    "start_time": "2022-01-12T15:22:35.185Z"
   },
   {
    "duration": 22,
    "start_time": "2022-01-12T15:22:35.203Z"
   },
   {
    "duration": 405,
    "start_time": "2022-01-12T15:22:35.228Z"
   },
   {
    "duration": 389,
    "start_time": "2022-01-12T15:22:35.636Z"
   },
   {
    "duration": 13,
    "start_time": "2022-01-12T15:22:36.027Z"
   },
   {
    "duration": 32,
    "start_time": "2022-01-12T15:22:36.042Z"
   },
   {
    "duration": 406,
    "start_time": "2022-01-12T15:22:36.077Z"
   },
   {
    "duration": 383,
    "start_time": "2022-01-12T15:22:36.485Z"
   },
   {
    "duration": 21,
    "start_time": "2022-01-12T15:22:36.871Z"
   },
   {
    "duration": 6,
    "start_time": "2022-01-12T15:22:36.895Z"
   },
   {
    "duration": 280,
    "start_time": "2022-01-12T15:22:36.903Z"
   },
   {
    "duration": 15,
    "start_time": "2022-01-12T15:22:37.186Z"
   },
   {
    "duration": 20,
    "start_time": "2022-01-12T15:22:37.203Z"
   },
   {
    "duration": 495,
    "start_time": "2022-01-12T15:22:37.226Z"
   },
   {
    "duration": 15,
    "start_time": "2022-01-12T15:22:37.724Z"
   },
   {
    "duration": 40,
    "start_time": "2022-01-12T15:22:37.742Z"
   },
   {
    "duration": 418,
    "start_time": "2022-01-12T15:22:37.784Z"
   },
   {
    "duration": 15,
    "start_time": "2022-01-12T15:22:38.205Z"
   },
   {
    "duration": 23,
    "start_time": "2022-01-12T15:22:38.222Z"
   },
   {
    "duration": 436,
    "start_time": "2022-01-12T15:22:38.248Z"
   },
   {
    "duration": 368,
    "start_time": "2022-01-12T15:22:38.687Z"
   },
   {
    "duration": 24,
    "start_time": "2022-01-12T15:22:39.057Z"
   },
   {
    "duration": 17,
    "start_time": "2022-01-12T15:22:39.084Z"
   },
   {
    "duration": 394,
    "start_time": "2022-01-12T15:22:39.104Z"
   },
   {
    "duration": 13,
    "start_time": "2022-01-12T15:22:39.501Z"
   },
   {
    "duration": 8,
    "start_time": "2022-01-12T15:22:39.517Z"
   },
   {
    "duration": 278,
    "start_time": "2022-01-12T15:22:39.527Z"
   },
   {
    "duration": 6,
    "start_time": "2022-01-12T15:22:39.807Z"
   },
   {
    "duration": 22,
    "start_time": "2022-01-12T15:22:39.815Z"
   },
   {
    "duration": 41,
    "start_time": "2022-01-12T15:22:39.839Z"
   },
   {
    "duration": 12,
    "start_time": "2022-01-12T15:22:39.882Z"
   },
   {
    "duration": 14,
    "start_time": "2022-01-12T15:22:39.897Z"
   },
   {
    "duration": 365,
    "start_time": "2022-01-12T15:22:39.914Z"
   },
   {
    "duration": 258,
    "start_time": "2022-01-12T15:22:40.286Z"
   },
   {
    "duration": 26,
    "start_time": "2022-01-12T15:22:40.547Z"
   },
   {
    "duration": 20,
    "start_time": "2022-01-12T15:22:40.576Z"
   },
   {
    "duration": 23,
    "start_time": "2022-01-12T15:22:40.598Z"
   },
   {
    "duration": 67,
    "start_time": "2022-01-12T15:22:40.623Z"
   },
   {
    "duration": 7,
    "start_time": "2022-01-12T15:22:40.693Z"
   },
   {
    "duration": 10,
    "start_time": "2022-01-12T15:27:43.073Z"
   },
   {
    "duration": 14,
    "start_time": "2022-01-12T15:30:46.367Z"
   },
   {
    "duration": 9,
    "start_time": "2022-01-12T15:30:50.816Z"
   }
  ],
  "kernelspec": {
   "display_name": "Python 3 (ipykernel)",
   "language": "python",
   "name": "python3"
  },
  "language_info": {
   "codemirror_mode": {
    "name": "ipython",
    "version": 3
   },
   "file_extension": ".py",
   "mimetype": "text/x-python",
   "name": "python",
   "nbconvert_exporter": "python",
   "pygments_lexer": "ipython3",
   "version": "3.10.4"
  },
  "toc": {
   "base_numbering": 1,
   "nav_menu": {},
   "number_sections": true,
   "sideBar": true,
   "skip_h1_title": false,
   "title_cell": "Table of Contents",
   "title_sidebar": "Contents",
   "toc_cell": false,
   "toc_position": {
    "height": "752px",
    "left": "447px",
    "top": "111.125px",
    "width": "393.516px"
   },
   "toc_section_display": true,
   "toc_window_display": true
  }
 },
 "nbformat": 4,
 "nbformat_minor": 5
}
